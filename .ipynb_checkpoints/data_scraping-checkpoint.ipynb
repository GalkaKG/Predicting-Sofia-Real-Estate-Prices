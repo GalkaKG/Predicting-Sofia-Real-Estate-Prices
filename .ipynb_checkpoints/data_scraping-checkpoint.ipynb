{
 "cells": [
  {
   "cell_type": "code",
   "execution_count": 2,
   "id": "fc4bc9c3-8b35-475d-a8b4-6cf7dc7806c7",
   "metadata": {},
   "outputs": [],
   "source": [
    "import requests\n",
    "from bs4 import BeautifulSoup\n",
    "import pandas as pd"
   ]
  },
  {
   "cell_type": "code",
   "execution_count": 16,
   "id": "3ae23450-ceb7-40cf-8a1e-a932dd009759",
   "metadata": {},
   "outputs": [
    {
     "name": "stdout",
     "output_type": "stream",
     "text": [
      "Data scraping complete. Saved to property_prices.csv\n"
     ]
    }
   ],
   "source": [
    "def scrape_data(url, apartment_type):\n",
    "    # Fetch the HTML content\n",
    "    response = requests.get(url)\n",
    "    html_content = response.content\n",
    "\n",
    "    # Parse the HTML using BeautifulSoup\n",
    "    soup = BeautifulSoup(html_content, 'html.parser')\n",
    "\n",
    "    # Find the table with class 'stats'\n",
    "    table = soup.find('table', {'class': 'stats'})\n",
    "\n",
    "    # Extract the table rows\n",
    "    rows = []\n",
    "    for tr in table.find('tbody').find_all('tr'):\n",
    "        cells = tr.find_all('td')\n",
    "        row = [cell.text.strip() for cell in cells]\n",
    "        # Add 'EUR' and apartment type for each row\n",
    "        row.extend(['EUR', apartment_type])\n",
    "        rows.append(row)\n",
    "    \n",
    "    return rows\n",
    "\n",
    "# URLs to scrape\n",
    "url_two_bedroom = \"https://www.imoti.net/bg/sredni-ceni?ad_type_id=2&city_id=1&region_id=0&property_type_id%5B%5D=6&currency_id=4&date=2024-07-28\"\n",
    "url_three_bedroom = \"https://www.imoti.net/bg/sredni-ceni?ad_type_id=2&city_id=1&region_id=&property_type_id%5B%5D=9&currency_id=4&date=2024-07-28\"\n",
    "url_house = \"https://www.imoti.net/bg/sredni-ceni?ad_type_id=2&city_id=1&region_id=&property_type_id%5B%5D=14&currency_id=4&date=2024-07-28\"\n",
    "url_garage = \"https://www.imoti.net/bg/sredni-ceni?ad_type_id=2&city_id=1&region_id=&property_type_id%5B%5D=20&currency_id=4&date=2024-07-28\"\n",
    "url_studio = \"https://www.imoti.net/bg/sredni-ceni?ad_type_id=2&city_id=1&region_id=&property_type_id%5B%5D=13&currency_id=4&date=2024-07-28\"\n",
    "url_large_apartments = \"https://www.imoti.net/bg/sredni-ceni?ad_type_id=2&city_id=1&region_id=&property_type_id%5B%5D=10&currency_id=4&date=2024-07-28\"\n",
    "\n",
    "# Scrape data from both URLs\n",
    "rows_two_bedroom = scrape_data(url_two_bedroom, 'Двустаен апартамент')\n",
    "rows_three_bedroom = scrape_data(url_тристаен, 'Тристаен апартамент')\n",
    "rows_house = scrape_data(url_house, 'Къща')\n",
    "rows_garage = scrape_data(url_garage, \"Гараж, паркомясто\")\n",
    "rows_studio = scrape_data(url_studio, \"Ателие, таван, студио\")\n",
    "rows_large_apartments = scrape_data(url_large_apartments, \"Многостаен апартамемент\")\n",
    "\n",
    "# Combine the rows\n",
    "all_rows = rows_two_bedroom + rows_three_bedroom + rows_house + rows_garage + rows_studio + rows_large_apartments\n",
    "\n",
    "# Specify the headers manually since we know the structure\n",
    "headers = ['Район', 'Цена', 'Цена / кв.м.', 'Валута', 'Тип Апартамент']\n",
    "\n",
    "# Convert the data to a pandas DataFrame\n",
    "df = pd.DataFrame(all_rows, columns=headers)\n",
    "\n",
    "# Save the DataFrame to a CSV file\n",
    "df.to_csv('property_prices_july_2024.csv', index=False)\n",
    "\n",
    "print('Data scraping complete. Saved to property_prices.csv')\n"
   ]
  },
  {
   "cell_type": "code",
   "execution_count": null,
   "id": "fba62573-eb85-4f7a-8884-fcc6fc628052",
   "metadata": {},
   "outputs": [],
   "source": []
  }
 ],
 "metadata": {
  "kernelspec": {
   "display_name": "Python 3 (ipykernel)",
   "language": "python",
   "name": "python3"
  },
  "language_info": {
   "codemirror_mode": {
    "name": "ipython",
    "version": 3
   },
   "file_extension": ".py",
   "mimetype": "text/x-python",
   "name": "python",
   "nbconvert_exporter": "python",
   "pygments_lexer": "ipython3",
   "version": "3.9.12"
  }
 },
 "nbformat": 4,
 "nbformat_minor": 5
}
