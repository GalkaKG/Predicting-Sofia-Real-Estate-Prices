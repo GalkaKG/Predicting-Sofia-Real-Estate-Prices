{
 "cells": [
  {
   "cell_type": "code",
   "execution_count": 1,
   "id": "cf4880ef-300d-45e7-9d43-1bad806376d6",
   "metadata": {},
   "outputs": [],
   "source": [
    "import numpy as np\n",
    "import pandas as pd\n",
    "import matplotlib.pyplot as plt"
   ]
  },
  {
   "cell_type": "markdown",
   "id": "80c8784c-bd5f-4503-9acb-73139224219f",
   "metadata": {},
   "source": [
    "# Predicting Sofia real estate prices\n",
    "\n",
    "This project aims to predict real estate prices in Sofia, Bulgaria, using historical data. We will analyze the factors influencing property prices and develop a predictive model that can estimate prices based on these factors.\n",
    "\n",
    "### The goals of the project:\n",
    "- To understand the key drivers of real estate prices in Sofia.\n",
    "- To build and evaluate a machine learning model that can predict property prices.\n",
    "\n",
    "### Why this problem is important?\n",
    "\n",
    "__1. Importance for Investors__: <br/>\n",
    "- Maximizing Returns: Real estate is one of the most significant and stable forms of investment. Investors rely on accurate price predictions to identify undervalued properties, time their purchases, and decide on the most profitable resale opportunities. By predicting future prices, investors can optimize their portfolios, maximize returns, and mitigate risks.\n",
    "- Market Timing: For investors, knowing when to buy or sell is crucial. Accurate price predictions can help investors time the market effectively, allowing them to buy properties before prices increase and sell before a downturn. This timing can significantly affect the profitability of real estate investments.\n",
    "- Diversification and Risk Management: Understanding price trends in different neighborhoods or property types allows investors to diversify their portfolios. They can spread their investments across various segments of the market, reducing the risk of exposure to price volatility in any single area.\n",
    "\n",
    "__2. Importance for Homebuyers:__ <br/>\n",
    "- Affordability and Budgeting: For most people, buying a home is the largest financial commitment they will make in their lifetime. Predicting future prices helps homebuyers understand market trends, ensuring they purchase at the right time to get the best value for their money. It also helps them budget accurately for future financial planning, such as mortgage payments and maintenance costs.\n",
    "- Avoiding Overpayment: Accurate predictions can prevent homebuyers from overpaying in a competitive market. By understanding the fair value of properties, buyers can make informed decisions, avoid bidding wars, and negotiate better deals.\n",
    "- Long-term Financial Planning: Homebuyers need to consider the long-term value of their investment. Predictions about property prices can guide them in choosing neighborhoods with strong potential for appreciation, ensuring that their home not only meets their immediate needs but also grows in value over time.\n",
    "\n",
    "__3. Importance for Urban Planners and Policy Makers:__ <br/>\n",
    "- Sustainable Urban Development: Urban planners rely on real estate price predictions to make informed decisions about zoning, infrastructure development, and public services. By understanding where prices are likely to rise, planners can allocate resources efficiently, ensuring sustainable growth and avoiding overdevelopment or underdevelopment in specific areas.\n",
    "- Economic Policy and Housing Affordability: Accurate price predictions are crucial for developing policies that address housing affordability and social equity. Policymakers can use these predictions to implement measures such as affordable housing initiatives, rent controls, and tax incentives to stabilize markets and prevent housing bubbles.\n",
    "- Infrastructure Planning: Understanding future real estate trends helps in planning for infrastructure needs, such as transportation, schools, and healthcare facilities. By anticipating areas of growth, urban planners can ensure that necessary services are in place to support population increases, thereby enhancing the quality of life for residents.\n",
    "\n",
    "__4. Importance for the Broader Economy:__ <br/>\n",
    "- Economic Stability: The real estate market is a significant component of the economy. Price fluctuations can impact consumer spending, banking stability, and overall economic health. Accurate predictions help prevent housing market bubbles, which, if left unchecked, could lead to economic recessions, as seen in the 2008 financial crisis (Global Financial Crisis (GFC) ).\n",
    "- Employment and Industry Growth: The construction, finance, and retail sectors are closely tied to the real estate market. Predicting price trends allows businesses in these industries to plan for demand, hire appropriately, and make investments in their operations, contributing to overall economic growth.\n",
    "\n",
    "In summary, real estate price prediction is a critical tool for a wide range of stakeholders. It empowers investors to maximize returns, enables homebuyers to make informed decisions, assists urban planners in managing growth sustainably, and supports policymakers in maintaining economic stability. Accurate predictions contribute to the health and efficiency of the real estate market and, by extension, the broader economy."
   ]
  },
  {
   "cell_type": "markdown",
   "id": "5e84b762-64cf-4660-8957-910197f24b39",
   "metadata": {},
   "source": [
    "## Description of Datasets:\n",
    "The websites that I used: __https://www.imoti.net/bg__  and __https://www.imot.bg/__ .\n",
    "\n",
    "\n",
    "### Dataset 1: Historical Real Estate Prices from imoti.net\n",
    "Description: This dataset provides historical real estate price data from imoti.net, including the following details:\n",
    "\n",
    "- Location: The area or district where the property is located.\n",
    "- Total Price (EUR): The overall cost of the property.\n",
    "- Price per Square Meter (EUR/m²): The cost per square meter of the property.\n",
    "- Property Type: The type of property (e.g., apartment, house, commercial).\n",
    "- Date: The date when the price data was recorded.\n",
    "\n",
    "### Dataset 2: Historical Real Estate Prices from imot.bg\n",
    "Description: This dataset contains historical real estate price data from imot.bg, including the following details:\n",
    "\n",
    "- Location: The specific area or district in Sofia, Bulgaria.\n",
    "- One-Bedroom Apartments:\n",
    "    - Total Price (EUR)\n",
    "    - Price per Square Meter (EUR/m²)\n",
    "- Two-Bedroom Apartments:\n",
    "    - Total Price (EUR)\n",
    "    - Price per Square Meter (EUR/m²)\n",
    "- Three-Bedroom Apartments:\n",
    "    - Total Price (EUR)\n",
    "    - Price per Square Meter (EUR/m²)\n",
    "- Date: The date when the data was recorded, indicating the time frame for each entry.\n"
   ]
  }
 ],
 "metadata": {
  "kernelspec": {
   "display_name": "Python 3 (ipykernel)",
   "language": "python",
   "name": "python3"
  },
  "language_info": {
   "codemirror_mode": {
    "name": "ipython",
    "version": 3
   },
   "file_extension": ".py",
   "mimetype": "text/x-python",
   "name": "python",
   "nbconvert_exporter": "python",
   "pygments_lexer": "ipython3",
   "version": "3.11.7"
  }
 },
 "nbformat": 4,
 "nbformat_minor": 5
}
