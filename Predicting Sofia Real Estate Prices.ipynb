{
 "cells": [
  {
   "cell_type": "code",
   "execution_count": 1,
   "id": "1ce81a14-6140-416c-bb9f-ea382a99795b",
   "metadata": {},
   "outputs": [],
   "source": [
    "%matplotlib inline"
   ]
  },
  {
   "cell_type": "code",
   "execution_count": 195,
   "id": "cf4880ef-300d-45e7-9d43-1bad806376d6",
   "metadata": {},
   "outputs": [],
   "source": [
    "import numpy as np\n",
    "import pandas as pd\n",
    "import matplotlib.pyplot as plt\n",
    "# plt.rcParams[\"figure.figsize\"] = (20, 10)\n",
    "import seaborn as sns\n",
    "\n",
    "from sklearn.model_selection import train_test_split\n",
    "from sklearn.preprocessing import StandardScaler, OneHotEncoder\n",
    "from sklearn.compose import ColumnTransformer\n",
    "from sklearn.pipeline import Pipeline\n",
    "from sklearn.ensemble import RandomForestRegressor\n",
    "from sklearn.metrics import mean_squared_error, mean_absolute_error"
   ]
  },
  {
   "cell_type": "markdown",
   "id": "585a3bb3-164e-46a0-94db-00ec203dd5d6",
   "metadata": {},
   "source": [
    "# Predicting Sofia real estate prices\n",
    "\n",
    "The project is focused on predicting real estate prices in Sofia, Bulgaria. With the growing interest in the real estate market and increasing complexity of property values, our goal is to leverage historical data to forecast future prices. Understanding and predicting real estate prices can provide valuable insights for buyers, sellers, investors, and policymakers.\n",
    "\n",
    "The real estate market in Sofia, Bulgaria, is constantly changing. Understanding how property prices are influenced and predicting future values is important for everyone involved in buying, selling, or investing in real estate. This project aims to forecast property prices in Sofia using historical data to help people make better decisions in the real estate market.\n",
    "\n",
    "By analyzing past transactions and key factors that affect property values—such as location, size, and property features—we will develop a model to predict future prices. My goal is to provide clear, accurate predictions that can guide buyers, sellers, and investors in making informed choices.\n",
    "\n",
    "This project is a significant step towards improving my understanding of Sofia’s real estate market. With the help of data-driven insights, I hope to make it easier for people to navigate the complexities of property pricing and find valuable opportunities in the market."
   ]
  },
  {
   "cell_type": "markdown",
   "id": "80c8784c-bd5f-4503-9acb-73139224219f",
   "metadata": {},
   "source": [
    "### The goals of the project:\n",
    "- To understand the key drivers of real estate prices in Sofia.\n",
    "- To build and evaluate a machine learning model that can predict property prices.\n",
    "\n",
    "### Why this problem is important?\n",
    "\n",
    "__1. Importance for Investors__: <br/>\n",
    "- Maximizing Returns: Real estate is one of the most significant and stable forms of investment. Investors rely on accurate price predictions to identify undervalued properties, time their purchases, and decide on the most profitable resale opportunities. By predicting future prices, investors can optimize their portfolios, maximize returns, and mitigate risks.\n",
    "- Market Timing: For investors, knowing when to buy or sell is crucial. Accurate price predictions can help investors time the market effectively, allowing them to buy properties before prices increase and sell before a downturn. This timing can significantly affect the profitability of real estate investments.\n",
    "- Diversification and Risk Management: Understanding price trends in different neighborhoods or property types allows investors to diversify their portfolios. They can spread their investments across various segments of the market, reducing the risk of exposure to price volatility in any single area.\n",
    "\n",
    "__2. Importance for Homebuyers:__ <br/>\n",
    "- Affordability and Budgeting: For most people, buying a home is the largest financial commitment they will make in their lifetime. Predicting future prices helps homebuyers understand market trends, ensuring they purchase at the right time to get the best value for their money. It also helps them budget accurately for future financial planning, such as mortgage payments and maintenance costs.\n",
    "- Avoiding Overpayment: Accurate predictions can prevent homebuyers from overpaying in a competitive market. By understanding the fair value of properties, buyers can make informed decisions, avoid bidding wars, and negotiate better deals.\n",
    "- Long-term Financial Planning: Homebuyers need to consider the long-term value of their investment. Predictions about property prices can guide them in choosing neighborhoods with strong potential for appreciation, ensuring that their home not only meets their immediate needs but also grows in value over time.\n",
    "\n",
    "__3. Importance for Urban Planners and Policy Makers:__ <br/>\n",
    "- Sustainable Urban Development: Urban planners rely on real estate price predictions to make informed decisions about zoning, infrastructure development, and public services. By understanding where prices are likely to rise, planners can allocate resources efficiently, ensuring sustainable growth and avoiding overdevelopment or underdevelopment in specific areas.\n",
    "- Economic Policy and Housing Affordability: Accurate price predictions are crucial for developing policies that address housing affordability and social equity. Policymakers can use these predictions to implement measures such as affordable housing initiatives, rent controls, and tax incentives to stabilize markets and prevent housing bubbles.\n",
    "- Infrastructure Planning: Understanding future real estate trends helps in planning for infrastructure needs, such as transportation, schools, and healthcare facilities. By anticipating areas of growth, urban planners can ensure that necessary services are in place to support population increases, thereby enhancing the quality of life for residents.\n",
    "\n",
    "__4. Importance for the Broader Economy:__ <br/>\n",
    "- Economic Stability: The real estate market is a significant component of the economy. Price fluctuations can impact consumer spending, banking stability, and overall economic health. Accurate predictions help prevent housing market bubbles, which, if left unchecked, could lead to economic recessions, as seen in the 2008 financial crisis (Global Financial Crisis (GFC) ).\n",
    "- Employment and Industry Growth: The construction, finance, and retail sectors are closely tied to the real estate market. Predicting price trends allows businesses in these industries to plan for demand, hire appropriately, and make investments in their operations, contributing to overall economic growth.\n",
    "\n",
    "In summary, real estate price prediction is a critical tool for a wide range of stakeholders. It empowers investors to maximize returns, enables homebuyers to make informed decisions, assists urban planners in managing growth sustainably, and supports policymakers in maintaining economic stability. Accurate predictions contribute to the health and efficiency of the real estate market and, by extension, the broader economy."
   ]
  },
  {
   "cell_type": "markdown",
   "id": "5e84b762-64cf-4660-8957-910197f24b39",
   "metadata": {},
   "source": [
    "## Description of Datasets:\n",
    "The websites that I used: __https://www.imoti.net/bg__  and __https://www.imot.bg/__ .\n",
    "\n",
    "\n",
    "### Dataset 1: Historical Real Estate Prices from imoti.net\n",
    "Description: This dataset provides historical real estate price data from imoti.net, including the following details:\n",
    "\n",
    "- Location: The area or district where the property is located.\n",
    "- Total Price (EUR): The overall cost of the property.\n",
    "- Price per Square Meter (EUR/m²): The cost per square meter of the property.\n",
    "- Property Type: The type of property (e.g., apartment, house, commercial).\n",
    "- Date: The date when the price data was recorded.\n",
    "\n",
    "### Dataset 2: Historical Real Estate Prices from imot.bg\n",
    "Description: This dataset contains historical real estate price data from imot.bg, including the following details:\n",
    "\n",
    "- Location: The specific area or district in Sofia, Bulgaria.\n",
    "- One-Bedroom Apartments:\n",
    "    - Total Price (EUR)\n",
    "    - Price per Square Meter (EUR/m²)\n",
    "- Two-Bedroom Apartments:\n",
    "    - Total Price (EUR)\n",
    "    - Price per Square Meter (EUR/m²)\n",
    "- Three-Bedroom Apartments:\n",
    "    - Total Price (EUR)\n",
    "    - Price per Square Meter (EUR/m²)\n",
    "- Date: The date when the data was recorded, indicating the time frame for each entry.\n"
   ]
  },
  {
   "cell_type": "markdown",
   "id": "25d73726-dbf1-43c3-bad8-59ae6d597793",
   "metadata": {},
   "source": [
    "## Exploratory Data Analysis (EDA): \n",
    "Let's perform an EDA to understand the distribution, relationships, and outliers in THE data.\n",
    "\n",
    "### And now we will read the first dataset. \n",
    "Actually inside it there are 3 files. We will read them and save in variables:"
   ]
  },
  {
   "cell_type": "code",
   "execution_count": 3,
   "id": "b4b7066b-446a-4fd7-bda0-0dc5636170ad",
   "metadata": {},
   "outputs": [],
   "source": [
    "df_2022 = pd.read_csv(\"data/property_prices_july_2022.csv\")\n",
    "df_2023 = pd.read_csv(\"data/property_prices_july_2023.csv\")\n",
    "df_2024 = pd.read_csv(\"data/property_prices_july_2024.csv\")"
   ]
  },
  {
   "cell_type": "markdown",
   "id": "2f4f4422-1f1d-484f-a195-0e2b9f48ddd3",
   "metadata": {},
   "source": [
    "Let's have a look in everyone:"
   ]
  },
  {
   "cell_type": "code",
   "execution_count": 4,
   "id": "4368ce1f-82c8-46ea-aef3-1f9217e8cc81",
   "metadata": {},
   "outputs": [
    {
     "data": {
      "text/html": [
       "<div>\n",
       "<style scoped>\n",
       "    .dataframe tbody tr th:only-of-type {\n",
       "        vertical-align: middle;\n",
       "    }\n",
       "\n",
       "    .dataframe tbody tr th {\n",
       "        vertical-align: top;\n",
       "    }\n",
       "\n",
       "    .dataframe thead th {\n",
       "        text-align: right;\n",
       "    }\n",
       "</style>\n",
       "<table border=\"1\" class=\"dataframe\">\n",
       "  <thead>\n",
       "    <tr style=\"text-align: right;\">\n",
       "      <th></th>\n",
       "      <th>Район</th>\n",
       "      <th>Цена</th>\n",
       "      <th>Цена / кв.м.</th>\n",
       "      <th>Валута</th>\n",
       "      <th>Тип Апартамент</th>\n",
       "      <th>Дата</th>\n",
       "    </tr>\n",
       "  </thead>\n",
       "  <tbody>\n",
       "    <tr>\n",
       "      <th>0</th>\n",
       "      <td>Банишора</td>\n",
       "      <td>110201.52</td>\n",
       "      <td>1710.14</td>\n",
       "      <td>EUR</td>\n",
       "      <td>Двустаен апартамент</td>\n",
       "      <td>2022-07-28</td>\n",
       "    </tr>\n",
       "    <tr>\n",
       "      <th>1</th>\n",
       "      <td>Белите Брези</td>\n",
       "      <td>148125.00</td>\n",
       "      <td>1949.01</td>\n",
       "      <td>EUR</td>\n",
       "      <td>Двустаен апартамент</td>\n",
       "      <td>2022-07-28</td>\n",
       "    </tr>\n",
       "    <tr>\n",
       "      <th>2</th>\n",
       "      <td>Борово</td>\n",
       "      <td>141912.50</td>\n",
       "      <td>2120.07</td>\n",
       "      <td>EUR</td>\n",
       "      <td>Двустаен апартамент</td>\n",
       "      <td>2022-07-28</td>\n",
       "    </tr>\n",
       "    <tr>\n",
       "      <th>3</th>\n",
       "      <td>Бояна</td>\n",
       "      <td>167608.23</td>\n",
       "      <td>1888.09</td>\n",
       "      <td>EUR</td>\n",
       "      <td>Двустаен апартамент</td>\n",
       "      <td>2022-07-28</td>\n",
       "    </tr>\n",
       "    <tr>\n",
       "      <th>4</th>\n",
       "      <td>Бъкстон</td>\n",
       "      <td>109764.43</td>\n",
       "      <td>1869.47</td>\n",
       "      <td>EUR</td>\n",
       "      <td>Двустаен апартамент</td>\n",
       "      <td>2022-07-28</td>\n",
       "    </tr>\n",
       "    <tr>\n",
       "      <th>...</th>\n",
       "      <td>...</td>\n",
       "      <td>...</td>\n",
       "      <td>...</td>\n",
       "      <td>...</td>\n",
       "      <td>...</td>\n",
       "      <td>...</td>\n",
       "    </tr>\n",
       "    <tr>\n",
       "      <th>284</th>\n",
       "      <td>Хаджи Димитър</td>\n",
       "      <td>205000.00</td>\n",
       "      <td>1102.15</td>\n",
       "      <td>EUR</td>\n",
       "      <td>Многостаен апартамемент</td>\n",
       "      <td>2022-07-28</td>\n",
       "    </tr>\n",
       "    <tr>\n",
       "      <th>285</th>\n",
       "      <td>Хиподрума</td>\n",
       "      <td>377277.50</td>\n",
       "      <td>1326.89</td>\n",
       "      <td>EUR</td>\n",
       "      <td>Многостаен апартамемент</td>\n",
       "      <td>2022-07-28</td>\n",
       "    </tr>\n",
       "    <tr>\n",
       "      <th>286</th>\n",
       "      <td>Хладилника</td>\n",
       "      <td>460016.66</td>\n",
       "      <td>2115.02</td>\n",
       "      <td>EUR</td>\n",
       "      <td>Многостаен апартамемент</td>\n",
       "      <td>2022-07-28</td>\n",
       "    </tr>\n",
       "    <tr>\n",
       "      <th>287</th>\n",
       "      <td>Център</td>\n",
       "      <td>529647.62</td>\n",
       "      <td>2792.63</td>\n",
       "      <td>EUR</td>\n",
       "      <td>Многостаен апартамемент</td>\n",
       "      <td>2022-07-28</td>\n",
       "    </tr>\n",
       "    <tr>\n",
       "      <th>288</th>\n",
       "      <td>Яворов</td>\n",
       "      <td>650000.00</td>\n",
       "      <td>2826.09</td>\n",
       "      <td>EUR</td>\n",
       "      <td>Многостаен апартамемент</td>\n",
       "      <td>2022-07-28</td>\n",
       "    </tr>\n",
       "  </tbody>\n",
       "</table>\n",
       "<p>289 rows × 6 columns</p>\n",
       "</div>"
      ],
      "text/plain": [
       "             Район       Цена  Цена / кв.м. Валута           Тип Апартамент  \\\n",
       "0         Банишора  110201.52       1710.14    EUR      Двустаен апартамент   \n",
       "1     Белите Брези  148125.00       1949.01    EUR      Двустаен апартамент   \n",
       "2           Борово  141912.50       2120.07    EUR      Двустаен апартамент   \n",
       "3            Бояна  167608.23       1888.09    EUR      Двустаен апартамент   \n",
       "4          Бъкстон  109764.43       1869.47    EUR      Двустаен апартамент   \n",
       "..             ...        ...           ...    ...                      ...   \n",
       "284  Хаджи Димитър  205000.00       1102.15    EUR  Многостаен апартамемент   \n",
       "285      Хиподрума  377277.50       1326.89    EUR  Многостаен апартамемент   \n",
       "286     Хладилника  460016.66       2115.02    EUR  Многостаен апартамемент   \n",
       "287         Център  529647.62       2792.63    EUR  Многостаен апартамемент   \n",
       "288         Яворов  650000.00       2826.09    EUR  Многостаен апартамемент   \n",
       "\n",
       "           Дата  \n",
       "0    2022-07-28  \n",
       "1    2022-07-28  \n",
       "2    2022-07-28  \n",
       "3    2022-07-28  \n",
       "4    2022-07-28  \n",
       "..          ...  \n",
       "284  2022-07-28  \n",
       "285  2022-07-28  \n",
       "286  2022-07-28  \n",
       "287  2022-07-28  \n",
       "288  2022-07-28  \n",
       "\n",
       "[289 rows x 6 columns]"
      ]
     },
     "execution_count": 4,
     "metadata": {},
     "output_type": "execute_result"
    }
   ],
   "source": [
    "df_2022"
   ]
  },
  {
   "cell_type": "code",
   "execution_count": 5,
   "id": "a8cb9642-db3a-4143-af4d-c01686748cae",
   "metadata": {},
   "outputs": [
    {
     "data": {
      "text/html": [
       "<div>\n",
       "<style scoped>\n",
       "    .dataframe tbody tr th:only-of-type {\n",
       "        vertical-align: middle;\n",
       "    }\n",
       "\n",
       "    .dataframe tbody tr th {\n",
       "        vertical-align: top;\n",
       "    }\n",
       "\n",
       "    .dataframe thead th {\n",
       "        text-align: right;\n",
       "    }\n",
       "</style>\n",
       "<table border=\"1\" class=\"dataframe\">\n",
       "  <thead>\n",
       "    <tr style=\"text-align: right;\">\n",
       "      <th></th>\n",
       "      <th>Район</th>\n",
       "      <th>Цена</th>\n",
       "      <th>Цена / кв.м.</th>\n",
       "      <th>Валута</th>\n",
       "      <th>Тип Апартамент</th>\n",
       "      <th>Дата</th>\n",
       "    </tr>\n",
       "  </thead>\n",
       "  <tbody>\n",
       "    <tr>\n",
       "      <th>0</th>\n",
       "      <td>7-ми 11-ти километър</td>\n",
       "      <td>112150.66</td>\n",
       "      <td>1654.68</td>\n",
       "      <td>EUR</td>\n",
       "      <td>Двустаен апартамент</td>\n",
       "      <td>2023-07-28</td>\n",
       "    </tr>\n",
       "    <tr>\n",
       "      <th>1</th>\n",
       "      <td>Банишора</td>\n",
       "      <td>118202.97</td>\n",
       "      <td>1754.77</td>\n",
       "      <td>EUR</td>\n",
       "      <td>Двустаен апартамент</td>\n",
       "      <td>2023-07-28</td>\n",
       "    </tr>\n",
       "    <tr>\n",
       "      <th>2</th>\n",
       "      <td>Банкя (гр.)</td>\n",
       "      <td>108600.00</td>\n",
       "      <td>1428.95</td>\n",
       "      <td>EUR</td>\n",
       "      <td>Двустаен апартамент</td>\n",
       "      <td>2023-07-28</td>\n",
       "    </tr>\n",
       "    <tr>\n",
       "      <th>3</th>\n",
       "      <td>Белите Брези</td>\n",
       "      <td>162233.00</td>\n",
       "      <td>2015.32</td>\n",
       "      <td>EUR</td>\n",
       "      <td>Двустаен апартамент</td>\n",
       "      <td>2023-07-28</td>\n",
       "    </tr>\n",
       "    <tr>\n",
       "      <th>4</th>\n",
       "      <td>Бенковски</td>\n",
       "      <td>94900.00</td>\n",
       "      <td>1395.59</td>\n",
       "      <td>EUR</td>\n",
       "      <td>Двустаен апартамент</td>\n",
       "      <td>2023-07-28</td>\n",
       "    </tr>\n",
       "    <tr>\n",
       "      <th>...</th>\n",
       "      <td>...</td>\n",
       "      <td>...</td>\n",
       "      <td>...</td>\n",
       "      <td>...</td>\n",
       "      <td>...</td>\n",
       "      <td>...</td>\n",
       "    </tr>\n",
       "    <tr>\n",
       "      <th>326</th>\n",
       "      <td>Хаджи Димитър</td>\n",
       "      <td>239000.00</td>\n",
       "      <td>2489.58</td>\n",
       "      <td>EUR</td>\n",
       "      <td>Многостаен апартамемент</td>\n",
       "      <td>2023-07-28</td>\n",
       "    </tr>\n",
       "    <tr>\n",
       "      <th>327</th>\n",
       "      <td>Хиподрума</td>\n",
       "      <td>445521.66</td>\n",
       "      <td>1265.69</td>\n",
       "      <td>EUR</td>\n",
       "      <td>Многостаен апартамемент</td>\n",
       "      <td>2023-07-28</td>\n",
       "    </tr>\n",
       "    <tr>\n",
       "      <th>328</th>\n",
       "      <td>Хладилника</td>\n",
       "      <td>490580.00</td>\n",
       "      <td>2063.43</td>\n",
       "      <td>EUR</td>\n",
       "      <td>Многостаен апартамемент</td>\n",
       "      <td>2023-07-28</td>\n",
       "    </tr>\n",
       "    <tr>\n",
       "      <th>329</th>\n",
       "      <td>Център</td>\n",
       "      <td>528999.94</td>\n",
       "      <td>2577.88</td>\n",
       "      <td>EUR</td>\n",
       "      <td>Многостаен апартамемент</td>\n",
       "      <td>2023-07-28</td>\n",
       "    </tr>\n",
       "    <tr>\n",
       "      <th>330</th>\n",
       "      <td>Яворов</td>\n",
       "      <td>609725.00</td>\n",
       "      <td>3010.99</td>\n",
       "      <td>EUR</td>\n",
       "      <td>Многостаен апартамемент</td>\n",
       "      <td>2023-07-28</td>\n",
       "    </tr>\n",
       "  </tbody>\n",
       "</table>\n",
       "<p>331 rows × 6 columns</p>\n",
       "</div>"
      ],
      "text/plain": [
       "                    Район       Цена  Цена / кв.м. Валута  \\\n",
       "0    7-ми 11-ти километър  112150.66       1654.68    EUR   \n",
       "1                Банишора  118202.97       1754.77    EUR   \n",
       "2             Банкя (гр.)  108600.00       1428.95    EUR   \n",
       "3            Белите Брези  162233.00       2015.32    EUR   \n",
       "4               Бенковски   94900.00       1395.59    EUR   \n",
       "..                    ...        ...           ...    ...   \n",
       "326         Хаджи Димитър  239000.00       2489.58    EUR   \n",
       "327             Хиподрума  445521.66       1265.69    EUR   \n",
       "328            Хладилника  490580.00       2063.43    EUR   \n",
       "329                Център  528999.94       2577.88    EUR   \n",
       "330                Яворов  609725.00       3010.99    EUR   \n",
       "\n",
       "              Тип Апартамент        Дата  \n",
       "0        Двустаен апартамент  2023-07-28  \n",
       "1        Двустаен апартамент  2023-07-28  \n",
       "2        Двустаен апартамент  2023-07-28  \n",
       "3        Двустаен апартамент  2023-07-28  \n",
       "4        Двустаен апартамент  2023-07-28  \n",
       "..                       ...         ...  \n",
       "326  Многостаен апартамемент  2023-07-28  \n",
       "327  Многостаен апартамемент  2023-07-28  \n",
       "328  Многостаен апартамемент  2023-07-28  \n",
       "329  Многостаен апартамемент  2023-07-28  \n",
       "330  Многостаен апартамемент  2023-07-28  \n",
       "\n",
       "[331 rows x 6 columns]"
      ]
     },
     "execution_count": 5,
     "metadata": {},
     "output_type": "execute_result"
    }
   ],
   "source": [
    "df_2023"
   ]
  },
  {
   "cell_type": "code",
   "execution_count": 6,
   "id": "afbe7257-87d8-4ce4-b211-3cf827253046",
   "metadata": {},
   "outputs": [
    {
     "data": {
      "text/html": [
       "<div>\n",
       "<style scoped>\n",
       "    .dataframe tbody tr th:only-of-type {\n",
       "        vertical-align: middle;\n",
       "    }\n",
       "\n",
       "    .dataframe tbody tr th {\n",
       "        vertical-align: top;\n",
       "    }\n",
       "\n",
       "    .dataframe thead th {\n",
       "        text-align: right;\n",
       "    }\n",
       "</style>\n",
       "<table border=\"1\" class=\"dataframe\">\n",
       "  <thead>\n",
       "    <tr style=\"text-align: right;\">\n",
       "      <th></th>\n",
       "      <th>Район</th>\n",
       "      <th>Цена</th>\n",
       "      <th>Цена / кв.м.</th>\n",
       "      <th>Валута</th>\n",
       "      <th>Тип Апартамент</th>\n",
       "      <th>Дата</th>\n",
       "    </tr>\n",
       "  </thead>\n",
       "  <tbody>\n",
       "    <tr>\n",
       "      <th>0</th>\n",
       "      <td>Банишора</td>\n",
       "      <td>134653.98</td>\n",
       "      <td>1987.51</td>\n",
       "      <td>EUR</td>\n",
       "      <td>Двустаен апартамент</td>\n",
       "      <td>2024-07-28</td>\n",
       "    </tr>\n",
       "    <tr>\n",
       "      <th>1</th>\n",
       "      <td>Банкя (гр.)</td>\n",
       "      <td>131843.00</td>\n",
       "      <td>1890.84</td>\n",
       "      <td>EUR</td>\n",
       "      <td>Двустаен апартамент</td>\n",
       "      <td>2024-07-28</td>\n",
       "    </tr>\n",
       "    <tr>\n",
       "      <th>2</th>\n",
       "      <td>Белите Брези</td>\n",
       "      <td>249900.00</td>\n",
       "      <td>2108.86</td>\n",
       "      <td>EUR</td>\n",
       "      <td>Двустаен апартамент</td>\n",
       "      <td>2024-07-28</td>\n",
       "    </tr>\n",
       "    <tr>\n",
       "      <th>3</th>\n",
       "      <td>Бенковски</td>\n",
       "      <td>115863.50</td>\n",
       "      <td>1782.52</td>\n",
       "      <td>EUR</td>\n",
       "      <td>Двустаен апартамент</td>\n",
       "      <td>2024-07-28</td>\n",
       "    </tr>\n",
       "    <tr>\n",
       "      <th>4</th>\n",
       "      <td>Борово</td>\n",
       "      <td>135594.22</td>\n",
       "      <td>2148.50</td>\n",
       "      <td>EUR</td>\n",
       "      <td>Двустаен апартамент</td>\n",
       "      <td>2024-07-28</td>\n",
       "    </tr>\n",
       "    <tr>\n",
       "      <th>...</th>\n",
       "      <td>...</td>\n",
       "      <td>...</td>\n",
       "      <td>...</td>\n",
       "      <td>...</td>\n",
       "      <td>...</td>\n",
       "      <td>...</td>\n",
       "    </tr>\n",
       "    <tr>\n",
       "      <th>329</th>\n",
       "      <td>Суха Река</td>\n",
       "      <td>303037.00</td>\n",
       "      <td>1864.02</td>\n",
       "      <td>EUR</td>\n",
       "      <td>Многостаен апартамемент</td>\n",
       "      <td>2024-07-28</td>\n",
       "    </tr>\n",
       "    <tr>\n",
       "      <th>330</th>\n",
       "      <td>Хаджи Димитър</td>\n",
       "      <td>331999.50</td>\n",
       "      <td>2049.38</td>\n",
       "      <td>EUR</td>\n",
       "      <td>Многостаен апартамемент</td>\n",
       "      <td>2024-07-28</td>\n",
       "    </tr>\n",
       "    <tr>\n",
       "      <th>331</th>\n",
       "      <td>Хиподрума</td>\n",
       "      <td>446333.00</td>\n",
       "      <td>1410.21</td>\n",
       "      <td>EUR</td>\n",
       "      <td>Многостаен апартамемент</td>\n",
       "      <td>2024-07-28</td>\n",
       "    </tr>\n",
       "    <tr>\n",
       "      <th>332</th>\n",
       "      <td>Хладилника</td>\n",
       "      <td>817960.00</td>\n",
       "      <td>2493.78</td>\n",
       "      <td>EUR</td>\n",
       "      <td>Многостаен апартамемент</td>\n",
       "      <td>2024-07-28</td>\n",
       "    </tr>\n",
       "    <tr>\n",
       "      <th>333</th>\n",
       "      <td>Център</td>\n",
       "      <td>599582.44</td>\n",
       "      <td>3194.50</td>\n",
       "      <td>EUR</td>\n",
       "      <td>Многостаен апартамемент</td>\n",
       "      <td>2024-07-28</td>\n",
       "    </tr>\n",
       "  </tbody>\n",
       "</table>\n",
       "<p>334 rows × 6 columns</p>\n",
       "</div>"
      ],
      "text/plain": [
       "             Район       Цена  Цена / кв.м. Валута           Тип Апартамент  \\\n",
       "0         Банишора  134653.98       1987.51    EUR      Двустаен апартамент   \n",
       "1      Банкя (гр.)  131843.00       1890.84    EUR      Двустаен апартамент   \n",
       "2     Белите Брези  249900.00       2108.86    EUR      Двустаен апартамент   \n",
       "3        Бенковски  115863.50       1782.52    EUR      Двустаен апартамент   \n",
       "4           Борово  135594.22       2148.50    EUR      Двустаен апартамент   \n",
       "..             ...        ...           ...    ...                      ...   \n",
       "329      Суха Река  303037.00       1864.02    EUR  Многостаен апартамемент   \n",
       "330  Хаджи Димитър  331999.50       2049.38    EUR  Многостаен апартамемент   \n",
       "331      Хиподрума  446333.00       1410.21    EUR  Многостаен апартамемент   \n",
       "332     Хладилника  817960.00       2493.78    EUR  Многостаен апартамемент   \n",
       "333         Център  599582.44       3194.50    EUR  Многостаен апартамемент   \n",
       "\n",
       "           Дата  \n",
       "0    2024-07-28  \n",
       "1    2024-07-28  \n",
       "2    2024-07-28  \n",
       "3    2024-07-28  \n",
       "4    2024-07-28  \n",
       "..          ...  \n",
       "329  2024-07-28  \n",
       "330  2024-07-28  \n",
       "331  2024-07-28  \n",
       "332  2024-07-28  \n",
       "333  2024-07-28  \n",
       "\n",
       "[334 rows x 6 columns]"
      ]
     },
     "execution_count": 6,
     "metadata": {},
     "output_type": "execute_result"
    }
   ],
   "source": [
    "df_2024"
   ]
  },
  {
   "cell_type": "markdown",
   "id": "1b4a5618-b8b1-44e7-9e7e-71d204609cfe",
   "metadata": {},
   "source": [
    "Now we will will combine them in one dataset named __combined_df__:"
   ]
  },
  {
   "cell_type": "code",
   "execution_count": 215,
   "id": "cadd82dc-264c-4f88-b5f9-0775a030a2dc",
   "metadata": {},
   "outputs": [],
   "source": [
    "combined_df = pd.concat([df_2022, df_2023, df_2024], ignore_index=True)"
   ]
  },
  {
   "cell_type": "markdown",
   "id": "94726510-d840-4c8c-bfee-3b4e0fd25b1e",
   "metadata": {},
   "source": [
    "And check it:"
   ]
  },
  {
   "cell_type": "code",
   "execution_count": 8,
   "id": "40fdce41-da8c-410a-ba2d-7caccf4e2904",
   "metadata": {},
   "outputs": [
    {
     "data": {
      "text/html": [
       "<div>\n",
       "<style scoped>\n",
       "    .dataframe tbody tr th:only-of-type {\n",
       "        vertical-align: middle;\n",
       "    }\n",
       "\n",
       "    .dataframe tbody tr th {\n",
       "        vertical-align: top;\n",
       "    }\n",
       "\n",
       "    .dataframe thead th {\n",
       "        text-align: right;\n",
       "    }\n",
       "</style>\n",
       "<table border=\"1\" class=\"dataframe\">\n",
       "  <thead>\n",
       "    <tr style=\"text-align: right;\">\n",
       "      <th></th>\n",
       "      <th>Район</th>\n",
       "      <th>Цена</th>\n",
       "      <th>Цена / кв.м.</th>\n",
       "      <th>Валута</th>\n",
       "      <th>Тип Апартамент</th>\n",
       "      <th>Дата</th>\n",
       "    </tr>\n",
       "  </thead>\n",
       "  <tbody>\n",
       "    <tr>\n",
       "      <th>0</th>\n",
       "      <td>Банишора</td>\n",
       "      <td>110201.52</td>\n",
       "      <td>1710.14</td>\n",
       "      <td>EUR</td>\n",
       "      <td>Двустаен апартамент</td>\n",
       "      <td>2022-07-28</td>\n",
       "    </tr>\n",
       "    <tr>\n",
       "      <th>1</th>\n",
       "      <td>Белите Брези</td>\n",
       "      <td>148125.00</td>\n",
       "      <td>1949.01</td>\n",
       "      <td>EUR</td>\n",
       "      <td>Двустаен апартамент</td>\n",
       "      <td>2022-07-28</td>\n",
       "    </tr>\n",
       "    <tr>\n",
       "      <th>2</th>\n",
       "      <td>Борово</td>\n",
       "      <td>141912.50</td>\n",
       "      <td>2120.07</td>\n",
       "      <td>EUR</td>\n",
       "      <td>Двустаен апартамент</td>\n",
       "      <td>2022-07-28</td>\n",
       "    </tr>\n",
       "    <tr>\n",
       "      <th>3</th>\n",
       "      <td>Бояна</td>\n",
       "      <td>167608.23</td>\n",
       "      <td>1888.09</td>\n",
       "      <td>EUR</td>\n",
       "      <td>Двустаен апартамент</td>\n",
       "      <td>2022-07-28</td>\n",
       "    </tr>\n",
       "    <tr>\n",
       "      <th>4</th>\n",
       "      <td>Бъкстон</td>\n",
       "      <td>109764.43</td>\n",
       "      <td>1869.47</td>\n",
       "      <td>EUR</td>\n",
       "      <td>Двустаен апартамент</td>\n",
       "      <td>2022-07-28</td>\n",
       "    </tr>\n",
       "    <tr>\n",
       "      <th>...</th>\n",
       "      <td>...</td>\n",
       "      <td>...</td>\n",
       "      <td>...</td>\n",
       "      <td>...</td>\n",
       "      <td>...</td>\n",
       "      <td>...</td>\n",
       "    </tr>\n",
       "    <tr>\n",
       "      <th>949</th>\n",
       "      <td>Суха Река</td>\n",
       "      <td>303037.00</td>\n",
       "      <td>1864.02</td>\n",
       "      <td>EUR</td>\n",
       "      <td>Многостаен апартамемент</td>\n",
       "      <td>2024-07-28</td>\n",
       "    </tr>\n",
       "    <tr>\n",
       "      <th>950</th>\n",
       "      <td>Хаджи Димитър</td>\n",
       "      <td>331999.50</td>\n",
       "      <td>2049.38</td>\n",
       "      <td>EUR</td>\n",
       "      <td>Многостаен апартамемент</td>\n",
       "      <td>2024-07-28</td>\n",
       "    </tr>\n",
       "    <tr>\n",
       "      <th>951</th>\n",
       "      <td>Хиподрума</td>\n",
       "      <td>446333.00</td>\n",
       "      <td>1410.21</td>\n",
       "      <td>EUR</td>\n",
       "      <td>Многостаен апартамемент</td>\n",
       "      <td>2024-07-28</td>\n",
       "    </tr>\n",
       "    <tr>\n",
       "      <th>952</th>\n",
       "      <td>Хладилника</td>\n",
       "      <td>817960.00</td>\n",
       "      <td>2493.78</td>\n",
       "      <td>EUR</td>\n",
       "      <td>Многостаен апартамемент</td>\n",
       "      <td>2024-07-28</td>\n",
       "    </tr>\n",
       "    <tr>\n",
       "      <th>953</th>\n",
       "      <td>Център</td>\n",
       "      <td>599582.44</td>\n",
       "      <td>3194.50</td>\n",
       "      <td>EUR</td>\n",
       "      <td>Многостаен апартамемент</td>\n",
       "      <td>2024-07-28</td>\n",
       "    </tr>\n",
       "  </tbody>\n",
       "</table>\n",
       "<p>954 rows × 6 columns</p>\n",
       "</div>"
      ],
      "text/plain": [
       "             Район       Цена  Цена / кв.м. Валута           Тип Апартамент  \\\n",
       "0         Банишора  110201.52       1710.14    EUR      Двустаен апартамент   \n",
       "1     Белите Брези  148125.00       1949.01    EUR      Двустаен апартамент   \n",
       "2           Борово  141912.50       2120.07    EUR      Двустаен апартамент   \n",
       "3            Бояна  167608.23       1888.09    EUR      Двустаен апартамент   \n",
       "4          Бъкстон  109764.43       1869.47    EUR      Двустаен апартамент   \n",
       "..             ...        ...           ...    ...                      ...   \n",
       "949      Суха Река  303037.00       1864.02    EUR  Многостаен апартамемент   \n",
       "950  Хаджи Димитър  331999.50       2049.38    EUR  Многостаен апартамемент   \n",
       "951      Хиподрума  446333.00       1410.21    EUR  Многостаен апартамемент   \n",
       "952     Хладилника  817960.00       2493.78    EUR  Многостаен апартамемент   \n",
       "953         Център  599582.44       3194.50    EUR  Многостаен апартамемент   \n",
       "\n",
       "           Дата  \n",
       "0    2022-07-28  \n",
       "1    2022-07-28  \n",
       "2    2022-07-28  \n",
       "3    2022-07-28  \n",
       "4    2022-07-28  \n",
       "..          ...  \n",
       "949  2024-07-28  \n",
       "950  2024-07-28  \n",
       "951  2024-07-28  \n",
       "952  2024-07-28  \n",
       "953  2024-07-28  \n",
       "\n",
       "[954 rows x 6 columns]"
      ]
     },
     "execution_count": 8,
     "metadata": {},
     "output_type": "execute_result"
    }
   ],
   "source": [
    "combined_df"
   ]
  },
  {
   "cell_type": "markdown",
   "id": "b54224bb-32ed-4a30-bd84-d22f1e3d4893",
   "metadata": {},
   "source": [
    "#### Let's take a closer look at the dataset.\n"
   ]
  },
  {
   "cell_type": "code",
   "execution_count": 9,
   "id": "d67fd65e-1e01-40ff-9a23-12fe986fdfbe",
   "metadata": {},
   "outputs": [
    {
     "data": {
      "text/plain": [
       "(954, 6)"
      ]
     },
     "execution_count": 9,
     "metadata": {},
     "output_type": "execute_result"
    }
   ],
   "source": [
    "combined_df.shape"
   ]
  },
  {
   "cell_type": "markdown",
   "id": "72fa4494-45f8-4f87-a766-59c68e05ce25",
   "metadata": {},
   "source": [
    "It has 954 observations and 6 features."
   ]
  },
  {
   "cell_type": "code",
   "execution_count": 10,
   "id": "d45012aa-b3c5-4351-b2ba-057ba6c101cd",
   "metadata": {},
   "outputs": [
    {
     "data": {
      "text/html": [
       "<div>\n",
       "<style scoped>\n",
       "    .dataframe tbody tr th:only-of-type {\n",
       "        vertical-align: middle;\n",
       "    }\n",
       "\n",
       "    .dataframe tbody tr th {\n",
       "        vertical-align: top;\n",
       "    }\n",
       "\n",
       "    .dataframe thead th {\n",
       "        text-align: right;\n",
       "    }\n",
       "</style>\n",
       "<table border=\"1\" class=\"dataframe\">\n",
       "  <thead>\n",
       "    <tr style=\"text-align: right;\">\n",
       "      <th></th>\n",
       "      <th>count</th>\n",
       "      <th>mean</th>\n",
       "      <th>std</th>\n",
       "      <th>min</th>\n",
       "      <th>25%</th>\n",
       "      <th>50%</th>\n",
       "      <th>75%</th>\n",
       "      <th>max</th>\n",
       "    </tr>\n",
       "  </thead>\n",
       "  <tbody>\n",
       "    <tr>\n",
       "      <th>Цена</th>\n",
       "      <td>954.0</td>\n",
       "      <td>249583.736960</td>\n",
       "      <td>270069.988558</td>\n",
       "      <td>6500.0</td>\n",
       "      <td>114245.39</td>\n",
       "      <td>170162.100</td>\n",
       "      <td>281079.7725</td>\n",
       "      <td>3000000.00</td>\n",
       "    </tr>\n",
       "    <tr>\n",
       "      <th>Цена / кв.м.</th>\n",
       "      <td>954.0</td>\n",
       "      <td>1843.112956</td>\n",
       "      <td>626.005076</td>\n",
       "      <td>17.4</td>\n",
       "      <td>1479.21</td>\n",
       "      <td>1776.785</td>\n",
       "      <td>2140.8050</td>\n",
       "      <td>7741.38</td>\n",
       "    </tr>\n",
       "  </tbody>\n",
       "</table>\n",
       "</div>"
      ],
      "text/plain": [
       "              count           mean            std     min        25%  \\\n",
       "Цена          954.0  249583.736960  270069.988558  6500.0  114245.39   \n",
       "Цена / кв.м.  954.0    1843.112956     626.005076    17.4    1479.21   \n",
       "\n",
       "                     50%          75%         max  \n",
       "Цена          170162.100  281079.7725  3000000.00  \n",
       "Цена / кв.м.    1776.785    2140.8050     7741.38  "
      ]
     },
     "execution_count": 10,
     "metadata": {},
     "output_type": "execute_result"
    }
   ],
   "source": [
    "combined_df.describe().T"
   ]
  },
  {
   "cell_type": "code",
   "execution_count": 11,
   "id": "73f55288-4ade-4ed8-bb98-8ef86ab03c8a",
   "metadata": {},
   "outputs": [
    {
     "data": {
      "text/plain": [
       "Район              object\n",
       "Цена              float64\n",
       "Цена / кв.м.      float64\n",
       "Валута             object\n",
       "Тип Апартамент     object\n",
       "Дата               object\n",
       "dtype: object"
      ]
     },
     "execution_count": 11,
     "metadata": {},
     "output_type": "execute_result"
    }
   ],
   "source": [
    "combined_df.dtypes"
   ]
  },
  {
   "cell_type": "code",
   "execution_count": 12,
   "id": "59c473ea-5147-4681-a8b8-a4c362c438e8",
   "metadata": {},
   "outputs": [],
   "source": [
    "combined_df[\"Дата\"] = pd.to_datetime(combined_df[\"Дата\"])"
   ]
  },
  {
   "cell_type": "markdown",
   "id": "10e60b61-6d5f-494a-b423-efd46a1c5eb8",
   "metadata": {},
   "source": [
    "Check the converted format:"
   ]
  },
  {
   "cell_type": "code",
   "execution_count": 13,
   "id": "d5d9c7f8-afa3-422f-a267-ec91be60ba93",
   "metadata": {},
   "outputs": [
    {
     "data": {
      "text/plain": [
       "0     2022-07-28\n",
       "1     2022-07-28\n",
       "2     2022-07-28\n",
       "3     2022-07-28\n",
       "4     2022-07-28\n",
       "         ...    \n",
       "949   2024-07-28\n",
       "950   2024-07-28\n",
       "951   2024-07-28\n",
       "952   2024-07-28\n",
       "953   2024-07-28\n",
       "Name: Дата, Length: 954, dtype: datetime64[ns]"
      ]
     },
     "execution_count": 13,
     "metadata": {},
     "output_type": "execute_result"
    }
   ],
   "source": [
    "combined_df[\"Дата\"]"
   ]
  },
  {
   "cell_type": "code",
   "execution_count": 14,
   "id": "a736a4cc-dee2-4e2b-a0c1-d02b55dfb092",
   "metadata": {},
   "outputs": [
    {
     "data": {
      "text/plain": [
       "Район             0\n",
       "Цена              0\n",
       "Цена / кв.м.      0\n",
       "Валута            0\n",
       "Тип Апартамент    0\n",
       "Дата              0\n",
       "dtype: int64"
      ]
     },
     "execution_count": 14,
     "metadata": {},
     "output_type": "execute_result"
    }
   ],
   "source": [
    "combined_df.isna().sum()"
   ]
  },
  {
   "cell_type": "markdown",
   "id": "ed0f1b52-2ca9-4fed-af02-ba59f43eaf41",
   "metadata": {},
   "source": [
    "We don't have null values in this dataset."
   ]
  },
  {
   "cell_type": "markdown",
   "id": "ece31401-b219-4793-8107-1403ae03b553",
   "metadata": {},
   "source": [
    "## Let's read the second dataset"
   ]
  },
  {
   "cell_type": "code",
   "execution_count": 15,
   "id": "fa373e32-9077-43d3-a1d8-ea15763d1f20",
   "metadata": {},
   "outputs": [],
   "source": [
    "second_df = pd.read_csv(\"data2/property_prices.csv\")"
   ]
  },
  {
   "cell_type": "markdown",
   "id": "ba674c64-f49e-42ee-931f-143ee0d31a30",
   "metadata": {},
   "source": [
    "This is it:"
   ]
  },
  {
   "cell_type": "code",
   "execution_count": 16,
   "id": "59586113-59ae-4654-a4c8-0f3dbf428136",
   "metadata": {},
   "outputs": [
    {
     "data": {
      "text/html": [
       "<div>\n",
       "<style scoped>\n",
       "    .dataframe tbody tr th:only-of-type {\n",
       "        vertical-align: middle;\n",
       "    }\n",
       "\n",
       "    .dataframe tbody tr th {\n",
       "        vertical-align: top;\n",
       "    }\n",
       "\n",
       "    .dataframe thead th {\n",
       "        text-align: right;\n",
       "    }\n",
       "</style>\n",
       "<table border=\"1\" class=\"dataframe\">\n",
       "  <thead>\n",
       "    <tr style=\"text-align: right;\">\n",
       "      <th></th>\n",
       "      <th>Район</th>\n",
       "      <th>Едностайни - цена</th>\n",
       "      <th>Едностайни - €/кв.м</th>\n",
       "      <th>Двустайни - цена</th>\n",
       "      <th>Двустайни - €/кв.м</th>\n",
       "      <th>Тристайни - цена</th>\n",
       "      <th>Тристайни - €/кв.м</th>\n",
       "      <th>Общо - €/кв.м</th>\n",
       "      <th>Дата</th>\n",
       "    </tr>\n",
       "  </thead>\n",
       "  <tbody>\n",
       "    <tr>\n",
       "      <th>0</th>\n",
       "      <td>7-ми 11-ти километър</td>\n",
       "      <td>NaN</td>\n",
       "      <td>NaN</td>\n",
       "      <td>145 502</td>\n",
       "      <td>1 675</td>\n",
       "      <td>189 050</td>\n",
       "      <td>1 756</td>\n",
       "      <td>1 745</td>\n",
       "      <td>13.8.2024</td>\n",
       "    </tr>\n",
       "    <tr>\n",
       "      <th>1</th>\n",
       "      <td>Банишора</td>\n",
       "      <td>49 138</td>\n",
       "      <td>1 134</td>\n",
       "      <td>104 500</td>\n",
       "      <td>1 691</td>\n",
       "      <td>142 310</td>\n",
       "      <td>1 503</td>\n",
       "      <td>1 611</td>\n",
       "      <td>13.8.2024</td>\n",
       "    </tr>\n",
       "    <tr>\n",
       "      <th>2</th>\n",
       "      <td>Белите брези</td>\n",
       "      <td>38 000</td>\n",
       "      <td>826</td>\n",
       "      <td>82 365</td>\n",
       "      <td>1 157</td>\n",
       "      <td>115 805</td>\n",
       "      <td>1 085</td>\n",
       "      <td>1 157</td>\n",
       "      <td>13.8.2024</td>\n",
       "    </tr>\n",
       "    <tr>\n",
       "      <th>3</th>\n",
       "      <td>Бенковски</td>\n",
       "      <td>NaN</td>\n",
       "      <td>NaN</td>\n",
       "      <td>85 262</td>\n",
       "      <td>1 511</td>\n",
       "      <td>118 750</td>\n",
       "      <td>1 250</td>\n",
       "      <td>1 351</td>\n",
       "      <td>13.8.2024</td>\n",
       "    </tr>\n",
       "    <tr>\n",
       "      <th>4</th>\n",
       "      <td>Борово</td>\n",
       "      <td>49 400</td>\n",
       "      <td>1 045</td>\n",
       "      <td>89 774</td>\n",
       "      <td>1 222</td>\n",
       "      <td>138 890</td>\n",
       "      <td>1 426</td>\n",
       "      <td>1 232</td>\n",
       "      <td>13.8.2024</td>\n",
       "    </tr>\n",
       "    <tr>\n",
       "      <th>...</th>\n",
       "      <td>...</td>\n",
       "      <td>...</td>\n",
       "      <td>...</td>\n",
       "      <td>...</td>\n",
       "      <td>...</td>\n",
       "      <td>...</td>\n",
       "      <td>...</td>\n",
       "      <td>...</td>\n",
       "      <td>...</td>\n",
       "    </tr>\n",
       "    <tr>\n",
       "      <th>1745</th>\n",
       "      <td>с. Лозен</td>\n",
       "      <td>41 956</td>\n",
       "      <td>762</td>\n",
       "      <td>53 018</td>\n",
       "      <td>762</td>\n",
       "      <td>89 849</td>\n",
       "      <td>834</td>\n",
       "      <td>762</td>\n",
       "      <td>11.1.2022</td>\n",
       "    </tr>\n",
       "    <tr>\n",
       "      <th>1746</th>\n",
       "      <td>с. Мировяне</td>\n",
       "      <td>NaN</td>\n",
       "      <td>NaN</td>\n",
       "      <td>47 500</td>\n",
       "      <td>863</td>\n",
       "      <td>NaN</td>\n",
       "      <td>NaN</td>\n",
       "      <td>863</td>\n",
       "      <td>11.1.2022</td>\n",
       "    </tr>\n",
       "    <tr>\n",
       "      <th>1747</th>\n",
       "      <td>с. Мърчаево</td>\n",
       "      <td>NaN</td>\n",
       "      <td>NaN</td>\n",
       "      <td>26 600</td>\n",
       "      <td>266</td>\n",
       "      <td>35 862</td>\n",
       "      <td>297</td>\n",
       "      <td>297</td>\n",
       "      <td>11.1.2022</td>\n",
       "    </tr>\n",
       "    <tr>\n",
       "      <th>1748</th>\n",
       "      <td>с. Панчарево</td>\n",
       "      <td>NaN</td>\n",
       "      <td>NaN</td>\n",
       "      <td>76 660</td>\n",
       "      <td>963</td>\n",
       "      <td>131 779</td>\n",
       "      <td>1 132</td>\n",
       "      <td>1 173</td>\n",
       "      <td>11.1.2022</td>\n",
       "    </tr>\n",
       "    <tr>\n",
       "      <th>1749</th>\n",
       "      <td>с. Световрачене</td>\n",
       "      <td>37 050</td>\n",
       "      <td>771</td>\n",
       "      <td>49 400</td>\n",
       "      <td>771</td>\n",
       "      <td>NaN</td>\n",
       "      <td>NaN</td>\n",
       "      <td>771</td>\n",
       "      <td>11.1.2022</td>\n",
       "    </tr>\n",
       "  </tbody>\n",
       "</table>\n",
       "<p>1750 rows × 9 columns</p>\n",
       "</div>"
      ],
      "text/plain": [
       "                     Район Едностайни - цена Едностайни - €/кв.м  \\\n",
       "0     7-ми 11-ти километър               NaN                 NaN   \n",
       "1                 Банишора            49 138               1 134   \n",
       "2             Белите брези            38 000                 826   \n",
       "3                Бенковски               NaN                 NaN   \n",
       "4                   Борово            49 400               1 045   \n",
       "...                    ...               ...                 ...   \n",
       "1745              с. Лозен            41 956                 762   \n",
       "1746           с. Мировяне               NaN                 NaN   \n",
       "1747           с. Мърчаево               NaN                 NaN   \n",
       "1748          с. Панчарево               NaN                 NaN   \n",
       "1749       с. Световрачене            37 050                 771   \n",
       "\n",
       "     Двустайни - цена Двустайни - €/кв.м Тристайни - цена Тристайни - €/кв.м  \\\n",
       "0             145 502              1 675          189 050              1 756   \n",
       "1             104 500              1 691          142 310              1 503   \n",
       "2              82 365              1 157          115 805              1 085   \n",
       "3              85 262              1 511          118 750              1 250   \n",
       "4              89 774              1 222          138 890              1 426   \n",
       "...               ...                ...              ...                ...   \n",
       "1745           53 018                762           89 849                834   \n",
       "1746           47 500                863              NaN                NaN   \n",
       "1747           26 600                266           35 862                297   \n",
       "1748           76 660                963          131 779              1 132   \n",
       "1749           49 400                771              NaN                NaN   \n",
       "\n",
       "     Общо - €/кв.м       Дата  \n",
       "0            1 745  13.8.2024  \n",
       "1            1 611  13.8.2024  \n",
       "2            1 157  13.8.2024  \n",
       "3            1 351  13.8.2024  \n",
       "4            1 232  13.8.2024  \n",
       "...            ...        ...  \n",
       "1745           762  11.1.2022  \n",
       "1746           863  11.1.2022  \n",
       "1747           297  11.1.2022  \n",
       "1748         1 173  11.1.2022  \n",
       "1749           771  11.1.2022  \n",
       "\n",
       "[1750 rows x 9 columns]"
      ]
     },
     "execution_count": 16,
     "metadata": {},
     "output_type": "execute_result"
    }
   ],
   "source": [
    "second_df"
   ]
  },
  {
   "cell_type": "markdown",
   "id": "8e654cd6-c26b-46ea-a61d-95b9e9f51ef6",
   "metadata": {},
   "source": [
    "#### Take a closer look at the dataset:"
   ]
  },
  {
   "cell_type": "code",
   "execution_count": 17,
   "id": "1c73d14c-f88a-465b-8915-6867030e1200",
   "metadata": {},
   "outputs": [
    {
     "data": {
      "text/plain": [
       "(1750, 9)"
      ]
     },
     "execution_count": 17,
     "metadata": {},
     "output_type": "execute_result"
    }
   ],
   "source": [
    "second_df.shape"
   ]
  },
  {
   "cell_type": "markdown",
   "id": "f3f1f866-18a8-4205-bec6-8a4aaf912a4c",
   "metadata": {},
   "source": [
    "It has 439 observations and 9 features."
   ]
  },
  {
   "cell_type": "code",
   "execution_count": 18,
   "id": "00c4efc1-7c55-4107-99ab-e6ed81f2a08a",
   "metadata": {},
   "outputs": [
    {
     "data": {
      "text/html": [
       "<div>\n",
       "<style scoped>\n",
       "    .dataframe tbody tr th:only-of-type {\n",
       "        vertical-align: middle;\n",
       "    }\n",
       "\n",
       "    .dataframe tbody tr th {\n",
       "        vertical-align: top;\n",
       "    }\n",
       "\n",
       "    .dataframe thead th {\n",
       "        text-align: right;\n",
       "    }\n",
       "</style>\n",
       "<table border=\"1\" class=\"dataframe\">\n",
       "  <thead>\n",
       "    <tr style=\"text-align: right;\">\n",
       "      <th></th>\n",
       "      <th>count</th>\n",
       "      <th>unique</th>\n",
       "      <th>top</th>\n",
       "      <th>freq</th>\n",
       "    </tr>\n",
       "  </thead>\n",
       "  <tbody>\n",
       "    <tr>\n",
       "      <th>Район</th>\n",
       "      <td>1750</td>\n",
       "      <td>160</td>\n",
       "      <td>7-ми 11-ти километър</td>\n",
       "      <td>12</td>\n",
       "    </tr>\n",
       "    <tr>\n",
       "      <th>Едностайни - цена</th>\n",
       "      <td>1305</td>\n",
       "      <td>595</td>\n",
       "      <td>49 400</td>\n",
       "      <td>40</td>\n",
       "    </tr>\n",
       "    <tr>\n",
       "      <th>Едностайни - €/кв.м</th>\n",
       "      <td>1305</td>\n",
       "      <td>632</td>\n",
       "      <td>1 176</td>\n",
       "      <td>20</td>\n",
       "    </tr>\n",
       "    <tr>\n",
       "      <th>Двустайни - цена</th>\n",
       "      <td>1614</td>\n",
       "      <td>964</td>\n",
       "      <td>66 500</td>\n",
       "      <td>34</td>\n",
       "    </tr>\n",
       "    <tr>\n",
       "      <th>Двустайни - €/кв.м</th>\n",
       "      <td>1614</td>\n",
       "      <td>818</td>\n",
       "      <td>1 425</td>\n",
       "      <td>17</td>\n",
       "    </tr>\n",
       "    <tr>\n",
       "      <th>Тристайни - цена</th>\n",
       "      <td>1636</td>\n",
       "      <td>984</td>\n",
       "      <td>114 000</td>\n",
       "      <td>29</td>\n",
       "    </tr>\n",
       "    <tr>\n",
       "      <th>Тристайни - €/кв.м</th>\n",
       "      <td>1636</td>\n",
       "      <td>839</td>\n",
       "      <td>1 254</td>\n",
       "      <td>26</td>\n",
       "    </tr>\n",
       "    <tr>\n",
       "      <th>Общо - €/кв.м</th>\n",
       "      <td>1750</td>\n",
       "      <td>886</td>\n",
       "      <td>950</td>\n",
       "      <td>23</td>\n",
       "    </tr>\n",
       "    <tr>\n",
       "      <th>Дата</th>\n",
       "      <td>1750</td>\n",
       "      <td>12</td>\n",
       "      <td>23.4.2024</td>\n",
       "      <td>150</td>\n",
       "    </tr>\n",
       "  </tbody>\n",
       "</table>\n",
       "</div>"
      ],
      "text/plain": [
       "                    count unique                   top freq\n",
       "Район                1750    160  7-ми 11-ти километър   12\n",
       "Едностайни - цена    1305    595                49 400   40\n",
       "Едностайни - €/кв.м  1305    632                 1 176   20\n",
       "Двустайни - цена     1614    964                66 500   34\n",
       "Двустайни - €/кв.м   1614    818                 1 425   17\n",
       "Тристайни - цена     1636    984               114 000   29\n",
       "Тристайни - €/кв.м   1636    839                 1 254   26\n",
       "Общо - €/кв.м        1750    886                   950   23\n",
       "Дата                 1750     12             23.4.2024  150"
      ]
     },
     "execution_count": 18,
     "metadata": {},
     "output_type": "execute_result"
    }
   ],
   "source": [
    "second_df.describe().T"
   ]
  },
  {
   "cell_type": "markdown",
   "id": "8a4f104e-0137-464f-b5bf-a220860461c9",
   "metadata": {},
   "source": [
    "Let's see the names of the all columns:"
   ]
  },
  {
   "cell_type": "code",
   "execution_count": 19,
   "id": "6ca665ad-8ca3-4f38-a432-fe53e19e4a1a",
   "metadata": {},
   "outputs": [
    {
     "data": {
      "text/plain": [
       "Index(['Район', 'Едностайни - цена', 'Едностайни - €/кв.м', 'Двустайни - цена',\n",
       "       'Двустайни - €/кв.м', 'Тристайни - цена', 'Тристайни - €/кв.м',\n",
       "       'Общо - €/кв.м', 'Дата'],\n",
       "      dtype='object')"
      ]
     },
     "execution_count": 19,
     "metadata": {},
     "output_type": "execute_result"
    }
   ],
   "source": [
    "second_df.columns"
   ]
  },
  {
   "cell_type": "markdown",
   "id": "7fbe1a14-fa16-47b2-82f0-84ec2a5de834",
   "metadata": {},
   "source": [
    "And the types now:"
   ]
  },
  {
   "cell_type": "code",
   "execution_count": 20,
   "id": "3141b53c-2a78-43c8-8a03-d75ad89f17da",
   "metadata": {},
   "outputs": [
    {
     "data": {
      "text/plain": [
       "Район                  object\n",
       "Едностайни - цена      object\n",
       "Едностайни - €/кв.м    object\n",
       "Двустайни - цена       object\n",
       "Двустайни - €/кв.м     object\n",
       "Тристайни - цена       object\n",
       "Тристайни - €/кв.м     object\n",
       "Общо - €/кв.м          object\n",
       "Дата                   object\n",
       "dtype: object"
      ]
     },
     "execution_count": 20,
     "metadata": {},
     "output_type": "execute_result"
    }
   ],
   "source": [
    "second_df.dtypes"
   ]
  },
  {
   "cell_type": "code",
   "execution_count": 21,
   "id": "266256e4-c83b-4162-bf6e-91aa6604458e",
   "metadata": {},
   "outputs": [
    {
     "data": {
      "text/plain": [
       "Район                    0\n",
       "Едностайни - цена      445\n",
       "Едностайни - €/кв.м    445\n",
       "Двустайни - цена       136\n",
       "Двустайни - €/кв.м     136\n",
       "Тристайни - цена       114\n",
       "Тристайни - €/кв.м     114\n",
       "Общо - €/кв.м            0\n",
       "Дата                     0\n",
       "dtype: int64"
      ]
     },
     "execution_count": 21,
     "metadata": {},
     "output_type": "execute_result"
    }
   ],
   "source": [
    "second_df.isna().sum()"
   ]
  },
  {
   "cell_type": "markdown",
   "id": "fd2850b9-7c73-4e9f-8007-d999f5990b0d",
   "metadata": {},
   "source": [
    "How we see in this dataset we have NaN values. \n",
    "\n",
    "First, we'll want to convert the columns containing numerical data from object (string) to appropriate numerical types (e.g., float). This conversion is necessary for performing any numerical operations or analysis. And next we will fill the NaN values with the mean."
   ]
  },
  {
   "cell_type": "code",
   "execution_count": 22,
   "id": "3c6ad5c2-3968-4dd3-b987-89bb5f3bd68c",
   "metadata": {},
   "outputs": [],
   "source": [
    "numeric_columns = [\n",
    "    'Едностайни - цена', \n",
    "    'Едностайни - €/кв.м', \n",
    "    'Двустайни - цена', \n",
    "    'Двустайни - €/кв.м', \n",
    "    'Тристайни - цена', \n",
    "    'Тристайни - €/кв.м', \n",
    "    'Общо - €/кв.м'\n",
    "]\n",
    "\n",
    "def convert_dtypes(df, numeric_columns):\n",
    "    for col in df:\n",
    "        if col in numeric_columns:\n",
    "            df[col] = df[col].str.replace(r'\\D', '', regex=True)\n",
    "            df[col] = pd.to_numeric(df[col], errors='coerce')\n",
    "\n",
    "            mean_price = df[col].mean()\n",
    "\n",
    "            df[col].fillna(round(mean_price, 0), inplace=True)\n",
    "            \n",
    "        if col == 'Дата':\n",
    "            df[col] = pd.to_datetime(df[col], dayfirst=True)\n",
    "    return df \n",
    "\n",
    "second_df = convert_dtypes(second_df, numeric_columns)"
   ]
  },
  {
   "cell_type": "code",
   "execution_count": 23,
   "id": "601b04a9-147a-4aa0-bedc-5b961e1b113d",
   "metadata": {},
   "outputs": [
    {
     "data": {
      "text/html": [
       "<div>\n",
       "<style scoped>\n",
       "    .dataframe tbody tr th:only-of-type {\n",
       "        vertical-align: middle;\n",
       "    }\n",
       "\n",
       "    .dataframe tbody tr th {\n",
       "        vertical-align: top;\n",
       "    }\n",
       "\n",
       "    .dataframe thead th {\n",
       "        text-align: right;\n",
       "    }\n",
       "</style>\n",
       "<table border=\"1\" class=\"dataframe\">\n",
       "  <thead>\n",
       "    <tr style=\"text-align: right;\">\n",
       "      <th></th>\n",
       "      <th>Район</th>\n",
       "      <th>Едностайни - цена</th>\n",
       "      <th>Едностайни - €/кв.м</th>\n",
       "      <th>Двустайни - цена</th>\n",
       "      <th>Двустайни - €/кв.м</th>\n",
       "      <th>Тристайни - цена</th>\n",
       "      <th>Тристайни - €/кв.м</th>\n",
       "      <th>Общо - €/кв.м</th>\n",
       "      <th>Дата</th>\n",
       "    </tr>\n",
       "  </thead>\n",
       "  <tbody>\n",
       "    <tr>\n",
       "      <th>0</th>\n",
       "      <td>7-ми 11-ти километър</td>\n",
       "      <td>56094.0</td>\n",
       "      <td>1242.0</td>\n",
       "      <td>145502.0</td>\n",
       "      <td>1675.0</td>\n",
       "      <td>189050.0</td>\n",
       "      <td>1756.0</td>\n",
       "      <td>1745</td>\n",
       "      <td>2024-08-13</td>\n",
       "    </tr>\n",
       "    <tr>\n",
       "      <th>1</th>\n",
       "      <td>Банишора</td>\n",
       "      <td>49138.0</td>\n",
       "      <td>1134.0</td>\n",
       "      <td>104500.0</td>\n",
       "      <td>1691.0</td>\n",
       "      <td>142310.0</td>\n",
       "      <td>1503.0</td>\n",
       "      <td>1611</td>\n",
       "      <td>2024-08-13</td>\n",
       "    </tr>\n",
       "    <tr>\n",
       "      <th>2</th>\n",
       "      <td>Белите брези</td>\n",
       "      <td>38000.0</td>\n",
       "      <td>826.0</td>\n",
       "      <td>82365.0</td>\n",
       "      <td>1157.0</td>\n",
       "      <td>115805.0</td>\n",
       "      <td>1085.0</td>\n",
       "      <td>1157</td>\n",
       "      <td>2024-08-13</td>\n",
       "    </tr>\n",
       "    <tr>\n",
       "      <th>3</th>\n",
       "      <td>Бенковски</td>\n",
       "      <td>56094.0</td>\n",
       "      <td>1242.0</td>\n",
       "      <td>85262.0</td>\n",
       "      <td>1511.0</td>\n",
       "      <td>118750.0</td>\n",
       "      <td>1250.0</td>\n",
       "      <td>1351</td>\n",
       "      <td>2024-08-13</td>\n",
       "    </tr>\n",
       "    <tr>\n",
       "      <th>4</th>\n",
       "      <td>Борово</td>\n",
       "      <td>49400.0</td>\n",
       "      <td>1045.0</td>\n",
       "      <td>89774.0</td>\n",
       "      <td>1222.0</td>\n",
       "      <td>138890.0</td>\n",
       "      <td>1426.0</td>\n",
       "      <td>1232</td>\n",
       "      <td>2024-08-13</td>\n",
       "    </tr>\n",
       "    <tr>\n",
       "      <th>...</th>\n",
       "      <td>...</td>\n",
       "      <td>...</td>\n",
       "      <td>...</td>\n",
       "      <td>...</td>\n",
       "      <td>...</td>\n",
       "      <td>...</td>\n",
       "      <td>...</td>\n",
       "      <td>...</td>\n",
       "      <td>...</td>\n",
       "    </tr>\n",
       "    <tr>\n",
       "      <th>1745</th>\n",
       "      <td>с. Лозен</td>\n",
       "      <td>41956.0</td>\n",
       "      <td>762.0</td>\n",
       "      <td>53018.0</td>\n",
       "      <td>762.0</td>\n",
       "      <td>89849.0</td>\n",
       "      <td>834.0</td>\n",
       "      <td>762</td>\n",
       "      <td>2022-01-11</td>\n",
       "    </tr>\n",
       "    <tr>\n",
       "      <th>1746</th>\n",
       "      <td>с. Мировяне</td>\n",
       "      <td>56094.0</td>\n",
       "      <td>1242.0</td>\n",
       "      <td>47500.0</td>\n",
       "      <td>863.0</td>\n",
       "      <td>145103.0</td>\n",
       "      <td>1383.0</td>\n",
       "      <td>863</td>\n",
       "      <td>2022-01-11</td>\n",
       "    </tr>\n",
       "    <tr>\n",
       "      <th>1747</th>\n",
       "      <td>с. Мърчаево</td>\n",
       "      <td>56094.0</td>\n",
       "      <td>1242.0</td>\n",
       "      <td>26600.0</td>\n",
       "      <td>266.0</td>\n",
       "      <td>35862.0</td>\n",
       "      <td>297.0</td>\n",
       "      <td>297</td>\n",
       "      <td>2022-01-11</td>\n",
       "    </tr>\n",
       "    <tr>\n",
       "      <th>1748</th>\n",
       "      <td>с. Панчарево</td>\n",
       "      <td>56094.0</td>\n",
       "      <td>1242.0</td>\n",
       "      <td>76660.0</td>\n",
       "      <td>963.0</td>\n",
       "      <td>131779.0</td>\n",
       "      <td>1132.0</td>\n",
       "      <td>1173</td>\n",
       "      <td>2022-01-11</td>\n",
       "    </tr>\n",
       "    <tr>\n",
       "      <th>1749</th>\n",
       "      <td>с. Световрачене</td>\n",
       "      <td>37050.0</td>\n",
       "      <td>771.0</td>\n",
       "      <td>49400.0</td>\n",
       "      <td>771.0</td>\n",
       "      <td>145103.0</td>\n",
       "      <td>1383.0</td>\n",
       "      <td>771</td>\n",
       "      <td>2022-01-11</td>\n",
       "    </tr>\n",
       "  </tbody>\n",
       "</table>\n",
       "<p>1750 rows × 9 columns</p>\n",
       "</div>"
      ],
      "text/plain": [
       "                     Район  Едностайни - цена  Едностайни - €/кв.м  \\\n",
       "0     7-ми 11-ти километър            56094.0               1242.0   \n",
       "1                 Банишора            49138.0               1134.0   \n",
       "2             Белите брези            38000.0                826.0   \n",
       "3                Бенковски            56094.0               1242.0   \n",
       "4                   Борово            49400.0               1045.0   \n",
       "...                    ...                ...                  ...   \n",
       "1745              с. Лозен            41956.0                762.0   \n",
       "1746           с. Мировяне            56094.0               1242.0   \n",
       "1747           с. Мърчаево            56094.0               1242.0   \n",
       "1748          с. Панчарево            56094.0               1242.0   \n",
       "1749       с. Световрачене            37050.0                771.0   \n",
       "\n",
       "      Двустайни - цена  Двустайни - €/кв.м  Тристайни - цена  \\\n",
       "0             145502.0              1675.0          189050.0   \n",
       "1             104500.0              1691.0          142310.0   \n",
       "2              82365.0              1157.0          115805.0   \n",
       "3              85262.0              1511.0          118750.0   \n",
       "4              89774.0              1222.0          138890.0   \n",
       "...                ...                 ...               ...   \n",
       "1745           53018.0               762.0           89849.0   \n",
       "1746           47500.0               863.0          145103.0   \n",
       "1747           26600.0               266.0           35862.0   \n",
       "1748           76660.0               963.0          131779.0   \n",
       "1749           49400.0               771.0          145103.0   \n",
       "\n",
       "      Тристайни - €/кв.м  Общо - €/кв.м       Дата  \n",
       "0                 1756.0           1745 2024-08-13  \n",
       "1                 1503.0           1611 2024-08-13  \n",
       "2                 1085.0           1157 2024-08-13  \n",
       "3                 1250.0           1351 2024-08-13  \n",
       "4                 1426.0           1232 2024-08-13  \n",
       "...                  ...            ...        ...  \n",
       "1745               834.0            762 2022-01-11  \n",
       "1746              1383.0            863 2022-01-11  \n",
       "1747               297.0            297 2022-01-11  \n",
       "1748              1132.0           1173 2022-01-11  \n",
       "1749              1383.0            771 2022-01-11  \n",
       "\n",
       "[1750 rows x 9 columns]"
      ]
     },
     "execution_count": 23,
     "metadata": {},
     "output_type": "execute_result"
    }
   ],
   "source": [
    "second_df"
   ]
  },
  {
   "cell_type": "markdown",
   "id": "3ade5e53-bd1e-4624-8b51-63a758420aba",
   "metadata": {},
   "source": [
    "Now we see the prices are filled and formated.\n",
    "\n",
    "Check the data types again:"
   ]
  },
  {
   "cell_type": "code",
   "execution_count": 24,
   "id": "ba188782-f3af-4d31-9e99-11ac98d0eb94",
   "metadata": {},
   "outputs": [
    {
     "data": {
      "text/plain": [
       "Район                          object\n",
       "Едностайни - цена             float64\n",
       "Едностайни - €/кв.м           float64\n",
       "Двустайни - цена              float64\n",
       "Двустайни - €/кв.м            float64\n",
       "Тристайни - цена              float64\n",
       "Тристайни - €/кв.м            float64\n",
       "Общо - €/кв.м                   int64\n",
       "Дата                   datetime64[ns]\n",
       "dtype: object"
      ]
     },
     "execution_count": 24,
     "metadata": {},
     "output_type": "execute_result"
    }
   ],
   "source": [
    "second_df.dtypes"
   ]
  },
  {
   "cell_type": "markdown",
   "id": "70dff083-472a-4646-986a-b19c967b986b",
   "metadata": {},
   "source": [
    "Check the format of the \"Дата\" column:"
   ]
  },
  {
   "cell_type": "code",
   "execution_count": 25,
   "id": "729857ce-6453-41c0-9ace-e7cd19659a65",
   "metadata": {},
   "outputs": [
    {
     "data": {
      "text/plain": [
       "0      2024-08-13\n",
       "1      2024-08-13\n",
       "2      2024-08-13\n",
       "3      2024-08-13\n",
       "4      2024-08-13\n",
       "          ...    \n",
       "1745   2022-01-11\n",
       "1746   2022-01-11\n",
       "1747   2022-01-11\n",
       "1748   2022-01-11\n",
       "1749   2022-01-11\n",
       "Name: Дата, Length: 1750, dtype: datetime64[ns]"
      ]
     },
     "execution_count": 25,
     "metadata": {},
     "output_type": "execute_result"
    }
   ],
   "source": [
    "second_df[\"Дата\"]"
   ]
  },
  {
   "cell_type": "code",
   "execution_count": 26,
   "id": "650209e0-1170-4cb4-a28c-8da883f10e70",
   "metadata": {},
   "outputs": [
    {
     "data": {
      "text/plain": [
       "Район                  0\n",
       "Едностайни - цена      0\n",
       "Едностайни - €/кв.м    0\n",
       "Двустайни - цена       0\n",
       "Двустайни - €/кв.м     0\n",
       "Тристайни - цена       0\n",
       "Тристайни - €/кв.м     0\n",
       "Общо - €/кв.м          0\n",
       "Дата                   0\n",
       "dtype: int64"
      ]
     },
     "execution_count": 26,
     "metadata": {},
     "output_type": "execute_result"
    }
   ],
   "source": [
    "second_df.isna().sum()"
   ]
  },
  {
   "cell_type": "markdown",
   "id": "0fd99832-1ef2-42a3-949b-61957d9ec3b5",
   "metadata": {},
   "source": [
    "All NaNs have been successfully replaced.\n",
    "\n",
    "### Let's plot prices over time for each apartment type:"
   ]
  },
  {
   "cell_type": "code",
   "execution_count": 27,
   "id": "870bac06-ec41-4b49-b1ed-3a1c29e99698",
   "metadata": {},
   "outputs": [
    {
     "data": {
      "image/png": "[encoded data removed]",
      "text/plain": [
       "<Figure size 1400x800 with 1 Axes>"
      ]
     },
     "metadata": {},
     "output_type": "display_data"
    }
   ],
   "source": [
    "apartment_types = combined_df[\"Тип Апартамент\"].unique()\n",
    "\n",
    "plt.figure(figsize=(14, 8))\n",
    "\n",
    "for apartment_type in apartment_types:\n",
    "    # Filter the DataFrame by apartment type\n",
    "    filtered_df = combined_df[combined_df[\"Тип Апартамент\"] == apartment_type]\n",
    "    \n",
    "    # Group by date and calculate the mean price for each date\n",
    "    price_over_time = filtered_df.groupby('Дата')['Цена'].median()\n",
    "    \n",
    "    # Plot the line for this apartment type\n",
    "    plt.plot(price_over_time.index, price_over_time.values, marker='o', label=apartment_type)\n",
    "\n",
    "plt.title('Price Trends Over Time by Apartment Type')\n",
    "plt.xlabel('Date')\n",
    "plt.ylabel('Average Price (EUR)')\n",
    "plt.xticks(rotation=45)\n",
    "plt.legend(title='Apartment Type')\n",
    "plt.grid(True)\n",
    "plt.show()"
   ]
  },
  {
   "cell_type": "markdown",
   "id": "d833c247-eb5b-4f92-b16f-a3706aa02338",
   "metadata": {},
   "source": [
    "Let's see how many unique Ragions we have:"
   ]
  },
  {
   "cell_type": "code",
   "execution_count": 28,
   "id": "f3729d59-a213-4abe-beec-1afefa5f6136",
   "metadata": {},
   "outputs": [
    {
     "data": {
      "text/plain": [
       "100"
      ]
     },
     "execution_count": 28,
     "metadata": {},
     "output_type": "execute_result"
    }
   ],
   "source": [
    "len(combined_df['Район'].unique())"
   ]
  },
  {
   "cell_type": "markdown",
   "id": "f696ee0a-cb94-4db1-881c-8d8d476f2f65",
   "metadata": {},
   "source": [
    "And which they are:"
   ]
  },
  {
   "cell_type": "code",
   "execution_count": 29,
   "id": "843996c3-b923-4944-9fa3-a16650b1dcb8",
   "metadata": {},
   "outputs": [
    {
     "data": {
      "text/plain": [
       "array(['Банишора', 'Белите Брези', 'Борово', 'Бояна', 'Бъкстон', 'Витоша',\n",
       "       'Гевгелийски', 'Гео Милев', 'Горна Баня', 'Гоце Делчев',\n",
       "       'Дианабад', 'Драгалевци', 'Дружба 1', 'Дружба 2', 'Дървеница',\n",
       "       'Западен Парк', 'Захарна Фабрика', 'Зона Б18', 'Зона Б19',\n",
       "       'Зона Б5', 'Иван Вазов', 'Изгрев', 'Изток', 'Илинден', 'Княжево',\n",
       "       'Красна Поляна', 'Красно Село', 'Кръстова Вада', 'Лагера',\n",
       "       'Левски', 'Левски В', 'Левски Г', 'Лозенец', 'Люлин 1', 'Люлин 10',\n",
       "       'Люлин 2', 'Люлин 3', 'Люлин 4', 'Люлин 5', 'Люлин 6', 'Люлин 7',\n",
       "       'Люлин 8', 'Люлин 9', 'Люлин Център', 'м-т Гърдова глава',\n",
       "       'Малинова Долина', 'Манастирски ливади Запад',\n",
       "       'Манастирски ливади Изток', 'Младост 1', 'Младост 1а', 'Младост 2',\n",
       "       'Младост 3', 'Младост 4', 'Мотописта', 'Мусагеница', 'Надежда 1',\n",
       "       'Надежда 2', 'Надежда 3', 'Надежда 4', 'Обеля', 'Обеля 1',\n",
       "       'Обеля 2', 'Оборище', 'Овча Купел', 'Овча Купел 1', 'Овча Купел 2',\n",
       "       'Павлово', 'Подуене', 'Полигона', 'Разсадника', 'Редута',\n",
       "       'Света Троица', 'Свобода', 'Сердика', 'Симеоново', 'Славия',\n",
       "       'Слатина', 'Стрелбище', 'Студентски Град', 'Суха Река', 'Толстой',\n",
       "       'Фондови Жилища', 'Хаджи Димитър', 'Хиподрума', 'Хладилника',\n",
       "       'Централна гара', 'Център', 'Банкя (гр.)', 'Бенковски', 'Дружба',\n",
       "       'м-т Детски град', 'Малинова долина в.з.', 'Яворов', 'Малашевци',\n",
       "       '7-ми 11-ти километър', 'Врана - Лозен в.з.', 'Факултета',\n",
       "       'Илиянци', 'Требич', 'Филиповци'], dtype=object)"
      ]
     },
     "execution_count": 29,
     "metadata": {},
     "output_type": "execute_result"
    }
   ],
   "source": [
    "combined_df['Район'].unique()"
   ]
  },
  {
   "cell_type": "code",
   "execution_count": 30,
   "id": "d7335da1-e3b0-4f89-aa87-b17864935d03",
   "metadata": {},
   "outputs": [
    {
     "data": {
      "text/plain": [
       "160"
      ]
     },
     "execution_count": 30,
     "metadata": {},
     "output_type": "execute_result"
    }
   ],
   "source": [
    "len(second_df['Район'].unique())"
   ]
  },
  {
   "cell_type": "code",
   "execution_count": 31,
   "id": "0d020755-047e-4f6f-89bd-9ecc11f353ec",
   "metadata": {},
   "outputs": [
    {
     "data": {
      "text/plain": [
       "array(['7-ми 11-ти километър', 'Банишора', 'Белите брези', 'Бенковски',\n",
       "       'Борово', 'Ботунец', 'Ботунец 2', 'Бояна', 'Бъкстон', 'Витоша',\n",
       "       'Военна рампа', 'Враждебна', 'Връбница 1', 'Връбница 2',\n",
       "       'Гевгелийски', 'Гео Милев', 'Горна баня', 'Горубляне',\n",
       "       'Гоце Делчев', 'Градина', 'Дианабад', 'Докторски паметник',\n",
       "       'Драгалевци', 'Дружба 1', 'Дружба 2', 'Дървеница',\n",
       "       'Експериментален', 'Западен парк', 'Захарна фабрика', 'Зона Б-18',\n",
       "       'Зона Б-19', 'Зона Б-5', 'Зона Б-5-3', 'Иван Вазов', 'Изгрев',\n",
       "       'Изток', 'Илинден', 'Илиянци', 'Карпузица', 'Княжево',\n",
       "       'Красна поляна 1', 'Красна поляна 2', 'Красна поляна 3',\n",
       "       'Красно село', 'Кремиковци', 'Кръстова вада', 'Лагера', 'Левски',\n",
       "       'Левски В', 'Левски Г', 'Летище София', 'Лозенец',\n",
       "       'Люлин - център', 'Люлин 1', 'Люлин 10', 'Люлин 2', 'Люлин 3',\n",
       "       'Люлин 4', 'Люлин 5', 'Люлин 6', 'Люлин 7', 'Люлин 8', 'Люлин 9',\n",
       "       'Малашевци', 'Малинова долина', 'Манастирски ливади',\n",
       "       'Медицинска академия', 'Младост 1', 'Младост 1А', 'Младост 2',\n",
       "       'Младост 3', 'Младост 4', 'Модерно предградие', 'Мусагеница',\n",
       "       'НПЗ Искър', 'Надежда 1', 'Надежда 2', 'Надежда 3', 'Надежда 4',\n",
       "       'Обеля', 'Обеля 1', 'Обеля 2', 'Оборище', 'Овча купел',\n",
       "       'Овча купел 1', 'Овча купел 2', 'Орландовци', 'ПЗ Хладилника',\n",
       "       'Павлово', 'Подуяне', 'Полигона', 'Разсадника', 'Редута',\n",
       "       'СПЗ Слатина', 'Света Троица', 'Свобода', 'Сердика', 'Симеоново',\n",
       "       'Славия', 'Слатина', 'Стрелбище', 'Студентски град', 'Сухата река',\n",
       "       'Суходол', 'Толстой', 'Триъгълника', 'Факултета', 'Филиповци',\n",
       "       'Фондови жилища', 'Хаджи Димитър', 'Хиподрума', 'Хладилника',\n",
       "       'Христо Ботев', 'Център', 'Яворов', 'в.з.Американски колеж',\n",
       "       'в.з.Беловодски път', 'в.з.Бояна', 'в.з.Бункера',\n",
       "       'в.з.Врана - Лозен', 'в.з.Киноцентъра', 'в.з.Киноцентъра 3 част',\n",
       "       'в.з.Малинова долина', 'в.з.Малинова долина - Герена',\n",
       "       'в.з.Симеоново - Драгалевци', 'гр. Банкя', 'гр. Бухово',\n",
       "       'гр. Нови Искър', 'ж.гр.Зоопарк', 'ж.гр.Южен парк',\n",
       "       'м-т Гърдова глава', 'м-т Детски град', 'м-т Камбаните',\n",
       "       'м-т яз. Искър', 'с. Бистрица', 'с. Владая', 'с. Волуяк',\n",
       "       'с. Герман', 'с. Доброславци', 'с. Иваняне', 'с. Казичене',\n",
       "       'с. Лозен', 'с. Мало Бучино', 'с. Мировяне', 'с. Мърчаево',\n",
       "       'с. Панчарево', 'с. Световрачене', 'в.з.Горна баня', 'с. Кокаляне',\n",
       "       'с. Яна', 'с. Мрамор', 'СПЗ Модерно предградие', 'в.з.Килиите',\n",
       "       'с. Кътина', 'НПЗ Хаджи Димитър', 'с. Железница',\n",
       "       'в.з.Врана - Герман', 'Димитър Миленков', 'НПЗ Средец',\n",
       "       'ПЗ Илиянци'], dtype=object)"
      ]
     },
     "execution_count": 31,
     "metadata": {},
     "output_type": "execute_result"
    }
   ],
   "source": [
    "second_df['Район'].unique()"
   ]
  },
  {
   "cell_type": "code",
   "execution_count": 32,
   "id": "52765845-d668-4b54-af60-94118f834973",
   "metadata": {},
   "outputs": [
    {
     "data": {
      "text/plain": [
       "180500.0"
      ]
     },
     "execution_count": 32,
     "metadata": {},
     "output_type": "execute_result"
    }
   ],
   "source": [
    "second_df['Едностайни - цена'].max()"
   ]
  },
  {
   "cell_type": "code",
   "execution_count": 33,
   "id": "4366a5c5-72bc-44c3-b525-0f7c080486ea",
   "metadata": {},
   "outputs": [
    {
     "data": {
      "text/html": [
       "<div>\n",
       "<style scoped>\n",
       "    .dataframe tbody tr th:only-of-type {\n",
       "        vertical-align: middle;\n",
       "    }\n",
       "\n",
       "    .dataframe tbody tr th {\n",
       "        vertical-align: top;\n",
       "    }\n",
       "\n",
       "    .dataframe thead th {\n",
       "        text-align: right;\n",
       "    }\n",
       "</style>\n",
       "<table border=\"1\" class=\"dataframe\">\n",
       "  <thead>\n",
       "    <tr style=\"text-align: right;\">\n",
       "      <th></th>\n",
       "      <th>Район</th>\n",
       "      <th>Едностайни - цена</th>\n",
       "      <th>Едностайни - €/кв.м</th>\n",
       "      <th>Двустайни - цена</th>\n",
       "      <th>Двустайни - €/кв.м</th>\n",
       "      <th>Тристайни - цена</th>\n",
       "      <th>Тристайни - €/кв.м</th>\n",
       "      <th>Общо - €/кв.м</th>\n",
       "      <th>Дата</th>\n",
       "    </tr>\n",
       "  </thead>\n",
       "  <tbody>\n",
       "    <tr>\n",
       "      <th>168</th>\n",
       "      <td>Докторски паметник</td>\n",
       "      <td>180500.0</td>\n",
       "      <td>4512.0</td>\n",
       "      <td>323000.0</td>\n",
       "      <td>3867.0</td>\n",
       "      <td>394250.0</td>\n",
       "      <td>3657.0</td>\n",
       "      <td>3779</td>\n",
       "      <td>2024-06-04</td>\n",
       "    </tr>\n",
       "    <tr>\n",
       "      <th>316</th>\n",
       "      <td>Докторски паметник</td>\n",
       "      <td>180500.0</td>\n",
       "      <td>4512.0</td>\n",
       "      <td>280250.0</td>\n",
       "      <td>3932.0</td>\n",
       "      <td>394250.0</td>\n",
       "      <td>3562.0</td>\n",
       "      <td>3895</td>\n",
       "      <td>2024-04-23</td>\n",
       "    </tr>\n",
       "    <tr>\n",
       "      <th>21</th>\n",
       "      <td>Докторски паметник</td>\n",
       "      <td>163400.0</td>\n",
       "      <td>4085.0</td>\n",
       "      <td>318250.0</td>\n",
       "      <td>4432.0</td>\n",
       "      <td>365750.0</td>\n",
       "      <td>3602.0</td>\n",
       "      <td>3735</td>\n",
       "      <td>2024-08-13</td>\n",
       "    </tr>\n",
       "    <tr>\n",
       "      <th>559</th>\n",
       "      <td>Яворов</td>\n",
       "      <td>152000.0</td>\n",
       "      <td>3800.0</td>\n",
       "      <td>165300.0</td>\n",
       "      <td>2405.0</td>\n",
       "      <td>204250.0</td>\n",
       "      <td>2389.0</td>\n",
       "      <td>2406</td>\n",
       "      <td>2024-01-16</td>\n",
       "    </tr>\n",
       "    <tr>\n",
       "      <th>1344</th>\n",
       "      <td>Докторски паметник</td>\n",
       "      <td>142500.0</td>\n",
       "      <td>4750.0</td>\n",
       "      <td>242231.0</td>\n",
       "      <td>4115.0</td>\n",
       "      <td>285000.0</td>\n",
       "      <td>3585.0</td>\n",
       "      <td>3762</td>\n",
       "      <td>2022-07-26</td>\n",
       "    </tr>\n",
       "  </tbody>\n",
       "</table>\n",
       "</div>"
      ],
      "text/plain": [
       "                   Район  Едностайни - цена  Едностайни - €/кв.м  \\\n",
       "168   Докторски паметник           180500.0               4512.0   \n",
       "316   Докторски паметник           180500.0               4512.0   \n",
       "21    Докторски паметник           163400.0               4085.0   \n",
       "559               Яворов           152000.0               3800.0   \n",
       "1344  Докторски паметник           142500.0               4750.0   \n",
       "\n",
       "      Двустайни - цена  Двустайни - €/кв.м  Тристайни - цена  \\\n",
       "168           323000.0              3867.0          394250.0   \n",
       "316           280250.0              3932.0          394250.0   \n",
       "21            318250.0              4432.0          365750.0   \n",
       "559           165300.0              2405.0          204250.0   \n",
       "1344          242231.0              4115.0          285000.0   \n",
       "\n",
       "      Тристайни - €/кв.м  Общо - €/кв.м       Дата  \n",
       "168               3657.0           3779 2024-06-04  \n",
       "316               3562.0           3895 2024-04-23  \n",
       "21                3602.0           3735 2024-08-13  \n",
       "559               2389.0           2406 2024-01-16  \n",
       "1344              3585.0           3762 2022-07-26  "
      ]
     },
     "execution_count": 33,
     "metadata": {},
     "output_type": "execute_result"
    }
   ],
   "source": [
    "top_5_rows = second_df.nlargest(5, 'Едностайни - цена')  \n",
    "top_5_rows"
   ]
  },
  {
   "cell_type": "markdown",
   "id": "27db4970-bfea-4782-8206-354fa61c5332",
   "metadata": {},
   "source": [
    "#### Let's plot and the second dataset:"
   ]
  },
  {
   "cell_type": "code",
   "execution_count": 34,
   "id": "e679c9a9-1fd5-421c-b127-d26975d4aec1",
   "metadata": {},
   "outputs": [
    {
     "data": {
      "image/png": "[encoded data removed]",
      "text/plain": [
       "<Figure size 1400x1800 with 3 Axes>"
      ]
     },
     "metadata": {},
     "output_type": "display_data"
    }
   ],
   "source": [
    "# Create a figure with 3 subplots arranged in a single column\n",
    "fig, axs = plt.subplots(nrows=3, ncols=1, figsize=(14, 18), sharex=True)\n",
    "\n",
    "# Plotting 'Едностайни - цена'\n",
    "axs[0].plot(\n",
    "    second_df['Дата'], \n",
    "    second_df['Едностайни - цена'], \n",
    "    marker='o', \n",
    "    color='b', \n",
    "    alpha=0.7  # Adjust transparency level (0 to 1)\n",
    ")\n",
    "axs[0].set_title('Едностайни - цена')\n",
    "axs[0].set_ylabel('Price (EUR)')\n",
    "axs[0].grid(True)\n",
    "\n",
    "# Plotting 'Двустайни - цена'\n",
    "axs[1].plot(\n",
    "    second_df['Дата'], \n",
    "    second_df['Двустайни - цена'], \n",
    "    marker='o', \n",
    "    color='r', \n",
    "    alpha=0.7  # Adjust transparency level (0 to 1)\n",
    ")\n",
    "axs[1].set_title('Двустайни - цена')\n",
    "axs[1].set_ylabel('Price (EUR)')\n",
    "axs[1].grid(True)\n",
    "\n",
    "# Plotting 'Тристайни - цена'\n",
    "axs[2].plot(\n",
    "    second_df['Дата'], \n",
    "    second_df['Тристайни - цена'], \n",
    "    marker='o', \n",
    "    color='g', \n",
    "    alpha=0.7  # Adjust transparency level (0 to 1)\n",
    ")\n",
    "axs[2].set_title('Тристайни - цена')\n",
    "axs[2].set_xlabel('Date')\n",
    "axs[2].set_ylabel('Price (EUR)')\n",
    "axs[2].grid(True)\n",
    "\n",
    "# Adjust layout to prevent overlap\n",
    "plt.tight_layout()\n",
    "\n",
    "plt.show()"
   ]
  },
  {
   "cell_type": "markdown",
   "id": "1d83d6e6-b4ca-4fc0-8621-c588c3be8c73",
   "metadata": {},
   "source": [
    "## Let's prepear the model and train it:"
   ]
  },
  {
   "cell_type": "code",
   "execution_count": 35,
   "id": "d78c6eb1-8267-4ffe-ace0-efb7aa1bdb93",
   "metadata": {},
   "outputs": [
    {
     "data": {
      "text/html": [
       "<div>\n",
       "<style scoped>\n",
       "    .dataframe tbody tr th:only-of-type {\n",
       "        vertical-align: middle;\n",
       "    }\n",
       "\n",
       "    .dataframe tbody tr th {\n",
       "        vertical-align: top;\n",
       "    }\n",
       "\n",
       "    .dataframe thead th {\n",
       "        text-align: right;\n",
       "    }\n",
       "</style>\n",
       "<table border=\"1\" class=\"dataframe\">\n",
       "  <thead>\n",
       "    <tr style=\"text-align: right;\">\n",
       "      <th></th>\n",
       "      <th>Район</th>\n",
       "      <th>Цена</th>\n",
       "      <th>Цена / кв.м.</th>\n",
       "      <th>Валута</th>\n",
       "      <th>Тип Апартамент</th>\n",
       "      <th>Дата</th>\n",
       "    </tr>\n",
       "  </thead>\n",
       "  <tbody>\n",
       "    <tr>\n",
       "      <th>0</th>\n",
       "      <td>Банишора</td>\n",
       "      <td>110201.52</td>\n",
       "      <td>1710.14</td>\n",
       "      <td>EUR</td>\n",
       "      <td>Двустаен апартамент</td>\n",
       "      <td>2022-07-28</td>\n",
       "    </tr>\n",
       "    <tr>\n",
       "      <th>1</th>\n",
       "      <td>Белите Брези</td>\n",
       "      <td>148125.00</td>\n",
       "      <td>1949.01</td>\n",
       "      <td>EUR</td>\n",
       "      <td>Двустаен апартамент</td>\n",
       "      <td>2022-07-28</td>\n",
       "    </tr>\n",
       "    <tr>\n",
       "      <th>2</th>\n",
       "      <td>Борово</td>\n",
       "      <td>141912.50</td>\n",
       "      <td>2120.07</td>\n",
       "      <td>EUR</td>\n",
       "      <td>Двустаен апартамент</td>\n",
       "      <td>2022-07-28</td>\n",
       "    </tr>\n",
       "    <tr>\n",
       "      <th>3</th>\n",
       "      <td>Бояна</td>\n",
       "      <td>167608.23</td>\n",
       "      <td>1888.09</td>\n",
       "      <td>EUR</td>\n",
       "      <td>Двустаен апартамент</td>\n",
       "      <td>2022-07-28</td>\n",
       "    </tr>\n",
       "    <tr>\n",
       "      <th>4</th>\n",
       "      <td>Бъкстон</td>\n",
       "      <td>109764.43</td>\n",
       "      <td>1869.47</td>\n",
       "      <td>EUR</td>\n",
       "      <td>Двустаен апартамент</td>\n",
       "      <td>2022-07-28</td>\n",
       "    </tr>\n",
       "    <tr>\n",
       "      <th>...</th>\n",
       "      <td>...</td>\n",
       "      <td>...</td>\n",
       "      <td>...</td>\n",
       "      <td>...</td>\n",
       "      <td>...</td>\n",
       "      <td>...</td>\n",
       "    </tr>\n",
       "    <tr>\n",
       "      <th>949</th>\n",
       "      <td>Суха Река</td>\n",
       "      <td>303037.00</td>\n",
       "      <td>1864.02</td>\n",
       "      <td>EUR</td>\n",
       "      <td>Многостаен апартамемент</td>\n",
       "      <td>2024-07-28</td>\n",
       "    </tr>\n",
       "    <tr>\n",
       "      <th>950</th>\n",
       "      <td>Хаджи Димитър</td>\n",
       "      <td>331999.50</td>\n",
       "      <td>2049.38</td>\n",
       "      <td>EUR</td>\n",
       "      <td>Многостаен апартамемент</td>\n",
       "      <td>2024-07-28</td>\n",
       "    </tr>\n",
       "    <tr>\n",
       "      <th>951</th>\n",
       "      <td>Хиподрума</td>\n",
       "      <td>446333.00</td>\n",
       "      <td>1410.21</td>\n",
       "      <td>EUR</td>\n",
       "      <td>Многостаен апартамемент</td>\n",
       "      <td>2024-07-28</td>\n",
       "    </tr>\n",
       "    <tr>\n",
       "      <th>952</th>\n",
       "      <td>Хладилника</td>\n",
       "      <td>817960.00</td>\n",
       "      <td>2493.78</td>\n",
       "      <td>EUR</td>\n",
       "      <td>Многостаен апартамемент</td>\n",
       "      <td>2024-07-28</td>\n",
       "    </tr>\n",
       "    <tr>\n",
       "      <th>953</th>\n",
       "      <td>Център</td>\n",
       "      <td>599582.44</td>\n",
       "      <td>3194.50</td>\n",
       "      <td>EUR</td>\n",
       "      <td>Многостаен апартамемент</td>\n",
       "      <td>2024-07-28</td>\n",
       "    </tr>\n",
       "  </tbody>\n",
       "</table>\n",
       "<p>954 rows × 6 columns</p>\n",
       "</div>"
      ],
      "text/plain": [
       "             Район       Цена  Цена / кв.м. Валута           Тип Апартамент  \\\n",
       "0         Банишора  110201.52       1710.14    EUR      Двустаен апартамент   \n",
       "1     Белите Брези  148125.00       1949.01    EUR      Двустаен апартамент   \n",
       "2           Борово  141912.50       2120.07    EUR      Двустаен апартамент   \n",
       "3            Бояна  167608.23       1888.09    EUR      Двустаен апартамент   \n",
       "4          Бъкстон  109764.43       1869.47    EUR      Двустаен апартамент   \n",
       "..             ...        ...           ...    ...                      ...   \n",
       "949      Суха Река  303037.00       1864.02    EUR  Многостаен апартамемент   \n",
       "950  Хаджи Димитър  331999.50       2049.38    EUR  Многостаен апартамемент   \n",
       "951      Хиподрума  446333.00       1410.21    EUR  Многостаен апартамемент   \n",
       "952     Хладилника  817960.00       2493.78    EUR  Многостаен апартамемент   \n",
       "953         Център  599582.44       3194.50    EUR  Многостаен апартамемент   \n",
       "\n",
       "          Дата  \n",
       "0   2022-07-28  \n",
       "1   2022-07-28  \n",
       "2   2022-07-28  \n",
       "3   2022-07-28  \n",
       "4   2022-07-28  \n",
       "..         ...  \n",
       "949 2024-07-28  \n",
       "950 2024-07-28  \n",
       "951 2024-07-28  \n",
       "952 2024-07-28  \n",
       "953 2024-07-28  \n",
       "\n",
       "[954 rows x 6 columns]"
      ]
     },
     "execution_count": 35,
     "metadata": {},
     "output_type": "execute_result"
    }
   ],
   "source": [
    "combined_df"
   ]
  },
  {
   "cell_type": "markdown",
   "id": "33446945-c524-4595-8ae3-dfe266b9ecd3",
   "metadata": {},
   "source": [
    "Extract date features:"
   ]
  },
  {
   "cell_type": "code",
   "execution_count": 36,
   "id": "dd2ffe67-5afb-478d-a24e-e79c226c5a36",
   "metadata": {},
   "outputs": [],
   "source": [
    "# combined_df['Year'] = combined_df['Дата'].dt.year\n",
    "# combined_df['Month'] = combined_df['Дата'].dt.month\n",
    "# combined_df['Day'] = combined_df['Дата'].dt.day"
   ]
  },
  {
   "cell_type": "code",
   "execution_count": 37,
   "id": "1d27f863-0277-4cf7-8134-9f9425d2b75a",
   "metadata": {},
   "outputs": [],
   "source": [
    "# combined_df['Year']"
   ]
  },
  {
   "cell_type": "markdown",
   "id": "ed49095e-0dde-4cc5-97e5-f73ddde2ceb8",
   "metadata": {},
   "source": [
    "Drop the original 'Дата' column:"
   ]
  },
  {
   "cell_type": "code",
   "execution_count": 38,
   "id": "0d57ace3-5d9b-41a8-ba2a-41947751ea4d",
   "metadata": {},
   "outputs": [],
   "source": [
    "# combined_df = combined_df.drop(columns=['Дата'])"
   ]
  },
  {
   "cell_type": "markdown",
   "id": "337cbfff-4cab-44cd-a60a-380ec3819c2c",
   "metadata": {},
   "source": [
    "Define features and target:"
   ]
  },
  {
   "cell_type": "code",
   "execution_count": 39,
   "id": "2a6f8473-6fce-4b20-96f5-1163f9e49204",
   "metadata": {},
   "outputs": [],
   "source": [
    "# features = ['Район', 'Тип Апартамент', 'Year', 'Month', 'Day']\n",
    "# target = 'Цена'\n",
    "\n",
    "# X = combined_df[features]\n",
    "# y = combined_df[target]"
   ]
  },
  {
   "cell_type": "markdown",
   "id": "c1aca530-c7a7-4ba0-86d3-b91d85712b87",
   "metadata": {},
   "source": [
    "Encode categorical variables:"
   ]
  },
  {
   "cell_type": "code",
   "execution_count": 40,
   "id": "75d18cdc-a8ef-45aa-b69b-95df340b8c02",
   "metadata": {},
   "outputs": [],
   "source": [
    "# preprocessor = ColumnTransformer(\n",
    "#     transformers=[\n",
    "#         ('num', StandardScaler(), ['Year', 'Month', 'Day']),\n",
    "#         ('cat', OneHotEncoder(), ['Район','Тип Апартамент'])\n",
    "#     ])"
   ]
  },
  {
   "cell_type": "markdown",
   "id": "92b892fb-f5e7-4703-a212-6b30f53b7f8b",
   "metadata": {},
   "source": [
    "Create a pipeline with preprocessing and regression:"
   ]
  },
  {
   "cell_type": "code",
   "execution_count": 41,
   "id": "91f43824-a0d4-4083-892c-454dbef2cd65",
   "metadata": {},
   "outputs": [],
   "source": [
    "# model = Pipeline(steps=[\n",
    "#     ('preprocessor', preprocessor),\n",
    "#     ('regressor', RandomForestRegressor(n_estimators=100, random_state=42))\n",
    "# ])"
   ]
  },
  {
   "cell_type": "markdown",
   "id": "1f0fb13c-8452-4828-8b76-b87a0dc222a9",
   "metadata": {},
   "source": [
    "Split the data into training and testing sets:"
   ]
  },
  {
   "cell_type": "code",
   "execution_count": 42,
   "id": "cc8806ef-6975-43f6-934a-3457ee119320",
   "metadata": {},
   "outputs": [],
   "source": [
    "# X_train, X_test, y_train, y_test = train_test_split(X, y, test_size=0.2, random_state=42)"
   ]
  },
  {
   "cell_type": "markdown",
   "id": "55c137a8-09fc-48cc-a905-dbc406bb279d",
   "metadata": {},
   "source": [
    "Train the model:"
   ]
  },
  {
   "cell_type": "code",
   "execution_count": 43,
   "id": "54202afa-425d-40b9-b5a0-42829f443f95",
   "metadata": {},
   "outputs": [],
   "source": [
    "# model.fit(X_train, y_train)"
   ]
  },
  {
   "cell_type": "code",
   "execution_count": 44,
   "id": "fd85c2e1-4479-4122-9856-291d2850e541",
   "metadata": {},
   "outputs": [],
   "source": [
    "# # Make predictions and evaluate\n",
    "# y_pred = model.predict(X_test)\n",
    "# mse = mean_squared_error(y_test, y_pred)\n",
    "# print(f\"Mean Squared Error: {mse:.2f}\")"
   ]
  },
  {
   "cell_type": "code",
   "execution_count": 45,
   "id": "6a4a7ebc-e53f-4ff6-8dee-caa7270fc764",
   "metadata": {},
   "outputs": [],
   "source": [
    "# # Calculate RMSE\n",
    "# rmse = np.sqrt(mse)\n",
    "# print(f\"Root Mean Squared Error: {rmse:.2f}\")"
   ]
  },
  {
   "cell_type": "code",
   "execution_count": 46,
   "id": "87f130c3-bf79-4dc9-89d1-2f5aa24e9650",
   "metadata": {},
   "outputs": [],
   "source": [
    "# # Assuming average price for calculation\n",
    "# average_price = combined_df['Цена'].mean()\n",
    "# percentage_rmse = (rmse / average_price) * 100\n",
    "# print(f\"RMSE as a percentage of the average price: {percentage_rmse:.2f}%\")"
   ]
  },
  {
   "cell_type": "code",
   "execution_count": 47,
   "id": "73e186d6-e372-4978-bf8e-5d87624420d2",
   "metadata": {},
   "outputs": [],
   "source": [
    "# historical_min = combined_df['Цена'].min()\n",
    "# historical_max = combined_df['Цена'].max()\n",
    "# print(f\"Historical Price Range: {historical_min} to {historical_max}\")"
   ]
  },
  {
   "cell_type": "code",
   "execution_count": 48,
   "id": "226af629-8fb3-4ec6-b986-411a1c53b9f6",
   "metadata": {},
   "outputs": [],
   "source": [
    "# combined_df['Цена']"
   ]
  },
  {
   "cell_type": "code",
   "execution_count": 49,
   "id": "3c240b03-85cc-4535-96a2-ef0ef2613629",
   "metadata": {},
   "outputs": [],
   "source": [
    "# rows_with_min_price = combined_df[combined_df['Цена'] == historical_min]"
   ]
  },
  {
   "cell_type": "code",
   "execution_count": 50,
   "id": "5d96a2ac-e535-4f49-9c94-b3b34722a599",
   "metadata": {},
   "outputs": [],
   "source": [
    "# rows_with_min_price"
   ]
  },
  {
   "cell_type": "markdown",
   "id": "ac7d38ca-13c6-460b-861e-8b1b25b0168e",
   "metadata": {},
   "source": [
    "## Test and predict prices:"
   ]
  },
  {
   "cell_type": "code",
   "execution_count": 51,
   "id": "8b6a4f1a-5b32-4bb0-8306-36de73b013e0",
   "metadata": {},
   "outputs": [],
   "source": [
    "# Example of predicting future prices\n",
    "# future_data = pd.DataFrame({\n",
    "#     'Район': ['Център'],\n",
    "#     # 'Цена / кв.м.': [3000],\n",
    "#     # 'Валута': ['EUR'],\n",
    "#     'Тип Апартамент': ['Многостаен апартамемент'],\n",
    "#     'Year': [2025],\n",
    "#     'Month': [8],\n",
    "#     'Day': [13]\n",
    "# })\n",
    "\n",
    "# future_pred = model.predict(future_data)\n",
    "# print(f\"Predicted Future Price: {future_pred[0]:.2f}€\")"
   ]
  },
  {
   "cell_type": "code",
   "execution_count": 52,
   "id": "70c85065-d2d8-4c6a-88e3-46cbccb47a64",
   "metadata": {},
   "outputs": [],
   "source": [
    "# print(f\"Future Data Input:\\n{future_data}\")"
   ]
  },
  {
   "cell_type": "code",
   "execution_count": 53,
   "id": "f3e71d04-1646-49ba-a26e-5481c34a3416",
   "metadata": {},
   "outputs": [],
   "source": [
    "# # Example of predicting future prices\n",
    "# future_data = pd.DataFrame({\n",
    "#     'Район': ['Банишора'],\n",
    "#     # 'Цена / кв.м.': [3000],\n",
    "#     # 'Валута': ['EUR'],\n",
    "#     'Тип Апартамент': ['Многостаен апартамемент'],\n",
    "#     'Year': [2024],\n",
    "#     'Month': [12],\n",
    "#     'Day': [13]\n",
    "# })\n",
    "\n",
    "# future_pred = model.predict(future_data)\n",
    "# print(f\"Predicted Future Price: {future_pred[0]:.2f}€\")"
   ]
  },
  {
   "cell_type": "markdown",
   "id": "dc80f9d1-718b-4008-8e81-5f6c7ffa4031",
   "metadata": {},
   "source": [
    "## Regression Model:"
   ]
  },
  {
   "cell_type": "code",
   "execution_count": 61,
   "id": "9e83b905-16cc-454f-89e6-42da6be0525b",
   "metadata": {},
   "outputs": [
    {
     "data": {
      "text/html": [
       "<div>\n",
       "<style scoped>\n",
       "    .dataframe tbody tr th:only-of-type {\n",
       "        vertical-align: middle;\n",
       "    }\n",
       "\n",
       "    .dataframe tbody tr th {\n",
       "        vertical-align: top;\n",
       "    }\n",
       "\n",
       "    .dataframe thead th {\n",
       "        text-align: right;\n",
       "    }\n",
       "</style>\n",
       "<table border=\"1\" class=\"dataframe\">\n",
       "  <thead>\n",
       "    <tr style=\"text-align: right;\">\n",
       "      <th></th>\n",
       "      <th>Район</th>\n",
       "      <th>Цена</th>\n",
       "      <th>Цена / кв.м.</th>\n",
       "      <th>Валута</th>\n",
       "      <th>Тип Апартамент</th>\n",
       "      <th>Дата</th>\n",
       "      <th>Year</th>\n",
       "      <th>Month</th>\n",
       "      <th>Day</th>\n",
       "    </tr>\n",
       "  </thead>\n",
       "  <tbody>\n",
       "    <tr>\n",
       "      <th>0</th>\n",
       "      <td>Банишора</td>\n",
       "      <td>110201.52</td>\n",
       "      <td>1710.14</td>\n",
       "      <td>EUR</td>\n",
       "      <td>Двустаен апартамент</td>\n",
       "      <td>2022-07-28</td>\n",
       "      <td>2022</td>\n",
       "      <td>7</td>\n",
       "      <td>28</td>\n",
       "    </tr>\n",
       "    <tr>\n",
       "      <th>1</th>\n",
       "      <td>Белите Брези</td>\n",
       "      <td>148125.00</td>\n",
       "      <td>1949.01</td>\n",
       "      <td>EUR</td>\n",
       "      <td>Двустаен апартамент</td>\n",
       "      <td>2022-07-28</td>\n",
       "      <td>2022</td>\n",
       "      <td>7</td>\n",
       "      <td>28</td>\n",
       "    </tr>\n",
       "    <tr>\n",
       "      <th>2</th>\n",
       "      <td>Борово</td>\n",
       "      <td>141912.50</td>\n",
       "      <td>2120.07</td>\n",
       "      <td>EUR</td>\n",
       "      <td>Двустаен апартамент</td>\n",
       "      <td>2022-07-28</td>\n",
       "      <td>2022</td>\n",
       "      <td>7</td>\n",
       "      <td>28</td>\n",
       "    </tr>\n",
       "    <tr>\n",
       "      <th>3</th>\n",
       "      <td>Бояна</td>\n",
       "      <td>167608.23</td>\n",
       "      <td>1888.09</td>\n",
       "      <td>EUR</td>\n",
       "      <td>Двустаен апартамент</td>\n",
       "      <td>2022-07-28</td>\n",
       "      <td>2022</td>\n",
       "      <td>7</td>\n",
       "      <td>28</td>\n",
       "    </tr>\n",
       "    <tr>\n",
       "      <th>4</th>\n",
       "      <td>Бъкстон</td>\n",
       "      <td>109764.43</td>\n",
       "      <td>1869.47</td>\n",
       "      <td>EUR</td>\n",
       "      <td>Двустаен апартамент</td>\n",
       "      <td>2022-07-28</td>\n",
       "      <td>2022</td>\n",
       "      <td>7</td>\n",
       "      <td>28</td>\n",
       "    </tr>\n",
       "    <tr>\n",
       "      <th>...</th>\n",
       "      <td>...</td>\n",
       "      <td>...</td>\n",
       "      <td>...</td>\n",
       "      <td>...</td>\n",
       "      <td>...</td>\n",
       "      <td>...</td>\n",
       "      <td>...</td>\n",
       "      <td>...</td>\n",
       "      <td>...</td>\n",
       "    </tr>\n",
       "    <tr>\n",
       "      <th>949</th>\n",
       "      <td>Суха Река</td>\n",
       "      <td>303037.00</td>\n",
       "      <td>1864.02</td>\n",
       "      <td>EUR</td>\n",
       "      <td>Многостаен апартамемент</td>\n",
       "      <td>2024-07-28</td>\n",
       "      <td>2024</td>\n",
       "      <td>7</td>\n",
       "      <td>28</td>\n",
       "    </tr>\n",
       "    <tr>\n",
       "      <th>950</th>\n",
       "      <td>Хаджи Димитър</td>\n",
       "      <td>331999.50</td>\n",
       "      <td>2049.38</td>\n",
       "      <td>EUR</td>\n",
       "      <td>Многостаен апартамемент</td>\n",
       "      <td>2024-07-28</td>\n",
       "      <td>2024</td>\n",
       "      <td>7</td>\n",
       "      <td>28</td>\n",
       "    </tr>\n",
       "    <tr>\n",
       "      <th>951</th>\n",
       "      <td>Хиподрума</td>\n",
       "      <td>446333.00</td>\n",
       "      <td>1410.21</td>\n",
       "      <td>EUR</td>\n",
       "      <td>Многостаен апартамемент</td>\n",
       "      <td>2024-07-28</td>\n",
       "      <td>2024</td>\n",
       "      <td>7</td>\n",
       "      <td>28</td>\n",
       "    </tr>\n",
       "    <tr>\n",
       "      <th>952</th>\n",
       "      <td>Хладилника</td>\n",
       "      <td>817960.00</td>\n",
       "      <td>2493.78</td>\n",
       "      <td>EUR</td>\n",
       "      <td>Многостаен апартамемент</td>\n",
       "      <td>2024-07-28</td>\n",
       "      <td>2024</td>\n",
       "      <td>7</td>\n",
       "      <td>28</td>\n",
       "    </tr>\n",
       "    <tr>\n",
       "      <th>953</th>\n",
       "      <td>Център</td>\n",
       "      <td>599582.44</td>\n",
       "      <td>3194.50</td>\n",
       "      <td>EUR</td>\n",
       "      <td>Многостаен апартамемент</td>\n",
       "      <td>2024-07-28</td>\n",
       "      <td>2024</td>\n",
       "      <td>7</td>\n",
       "      <td>28</td>\n",
       "    </tr>\n",
       "  </tbody>\n",
       "</table>\n",
       "<p>954 rows × 9 columns</p>\n",
       "</div>"
      ],
      "text/plain": [
       "             Район       Цена  Цена / кв.м. Валута           Тип Апартамент  \\\n",
       "0         Банишора  110201.52       1710.14    EUR      Двустаен апартамент   \n",
       "1     Белите Брези  148125.00       1949.01    EUR      Двустаен апартамент   \n",
       "2           Борово  141912.50       2120.07    EUR      Двустаен апартамент   \n",
       "3            Бояна  167608.23       1888.09    EUR      Двустаен апартамент   \n",
       "4          Бъкстон  109764.43       1869.47    EUR      Двустаен апартамент   \n",
       "..             ...        ...           ...    ...                      ...   \n",
       "949      Суха Река  303037.00       1864.02    EUR  Многостаен апартамемент   \n",
       "950  Хаджи Димитър  331999.50       2049.38    EUR  Многостаен апартамемент   \n",
       "951      Хиподрума  446333.00       1410.21    EUR  Многостаен апартамемент   \n",
       "952     Хладилника  817960.00       2493.78    EUR  Многостаен апартамемент   \n",
       "953         Център  599582.44       3194.50    EUR  Многостаен апартамемент   \n",
       "\n",
       "          Дата  Year  Month  Day  \n",
       "0   2022-07-28  2022      7   28  \n",
       "1   2022-07-28  2022      7   28  \n",
       "2   2022-07-28  2022      7   28  \n",
       "3   2022-07-28  2022      7   28  \n",
       "4   2022-07-28  2022      7   28  \n",
       "..         ...   ...    ...  ...  \n",
       "949 2024-07-28  2024      7   28  \n",
       "950 2024-07-28  2024      7   28  \n",
       "951 2024-07-28  2024      7   28  \n",
       "952 2024-07-28  2024      7   28  \n",
       "953 2024-07-28  2024      7   28  \n",
       "\n",
       "[954 rows x 9 columns]"
      ]
     },
     "execution_count": 61,
     "metadata": {},
     "output_type": "execute_result"
    }
   ],
   "source": [
    "combined_df"
   ]
  },
  {
   "cell_type": "code",
   "execution_count": 165,
   "id": "1030fb6d-e50b-485b-866e-936f58461b09",
   "metadata": {},
   "outputs": [
    {
     "name": "stdout",
     "output_type": "stream",
     "text": [
      "<class 'pandas.core.frame.DataFrame'>\n",
      "RangeIndex: 954 entries, 0 to 953\n",
      "Data columns (total 9 columns):\n",
      " #   Column          Non-Null Count  Dtype         \n",
      "---  ------          --------------  -----         \n",
      " 0   Район           954 non-null    object        \n",
      " 1   Цена            954 non-null    float64       \n",
      " 2   Цена / кв.м.    954 non-null    float64       \n",
      " 3   Валута          954 non-null    object        \n",
      " 4   Тип Апартамент  954 non-null    object        \n",
      " 5   Дата            954 non-null    datetime64[ns]\n",
      " 6   Year            954 non-null    int32         \n",
      " 7   Month           954 non-null    int32         \n",
      " 8   Day             954 non-null    int32         \n",
      "dtypes: datetime64[ns](1), float64(2), int32(3), object(3)\n",
      "memory usage: 56.0+ KB\n"
     ]
    }
   ],
   "source": [
    "combined_df.info()"
   ]
  },
  {
   "cell_type": "code",
   "execution_count": 167,
   "id": "a761b036-289f-4cda-b952-52f5c9aa2448",
   "metadata": {},
   "outputs": [
    {
     "data": {
      "text/html": [
       "<div>\n",
       "<style scoped>\n",
       "    .dataframe tbody tr th:only-of-type {\n",
       "        vertical-align: middle;\n",
       "    }\n",
       "\n",
       "    .dataframe tbody tr th {\n",
       "        vertical-align: top;\n",
       "    }\n",
       "\n",
       "    .dataframe thead th {\n",
       "        text-align: right;\n",
       "    }\n",
       "</style>\n",
       "<table border=\"1\" class=\"dataframe\">\n",
       "  <thead>\n",
       "    <tr style=\"text-align: right;\">\n",
       "      <th></th>\n",
       "      <th>Цена</th>\n",
       "      <th>Цена / кв.м.</th>\n",
       "      <th>Дата</th>\n",
       "      <th>Year</th>\n",
       "      <th>Month</th>\n",
       "      <th>Day</th>\n",
       "    </tr>\n",
       "  </thead>\n",
       "  <tbody>\n",
       "    <tr>\n",
       "      <th>count</th>\n",
       "      <td>9.540000e+02</td>\n",
       "      <td>954.000000</td>\n",
       "      <td>954</td>\n",
       "      <td>954.000000</td>\n",
       "      <td>954.0</td>\n",
       "      <td>954.0</td>\n",
       "    </tr>\n",
       "    <tr>\n",
       "      <th>mean</th>\n",
       "      <td>2.495837e+05</td>\n",
       "      <td>1843.112956</td>\n",
       "      <td>2023-08-14 13:36:36.226415104</td>\n",
       "      <td>2023.047170</td>\n",
       "      <td>7.0</td>\n",
       "      <td>28.0</td>\n",
       "    </tr>\n",
       "    <tr>\n",
       "      <th>min</th>\n",
       "      <td>6.500000e+03</td>\n",
       "      <td>17.400000</td>\n",
       "      <td>2022-07-28 00:00:00</td>\n",
       "      <td>2022.000000</td>\n",
       "      <td>7.0</td>\n",
       "      <td>28.0</td>\n",
       "    </tr>\n",
       "    <tr>\n",
       "      <th>25%</th>\n",
       "      <td>1.142454e+05</td>\n",
       "      <td>1479.210000</td>\n",
       "      <td>2022-07-28 00:00:00</td>\n",
       "      <td>2022.000000</td>\n",
       "      <td>7.0</td>\n",
       "      <td>28.0</td>\n",
       "    </tr>\n",
       "    <tr>\n",
       "      <th>50%</th>\n",
       "      <td>1.701621e+05</td>\n",
       "      <td>1776.785000</td>\n",
       "      <td>2023-07-28 00:00:00</td>\n",
       "      <td>2023.000000</td>\n",
       "      <td>7.0</td>\n",
       "      <td>28.0</td>\n",
       "    </tr>\n",
       "    <tr>\n",
       "      <th>75%</th>\n",
       "      <td>2.810798e+05</td>\n",
       "      <td>2140.805000</td>\n",
       "      <td>2024-07-28 00:00:00</td>\n",
       "      <td>2024.000000</td>\n",
       "      <td>7.0</td>\n",
       "      <td>28.0</td>\n",
       "    </tr>\n",
       "    <tr>\n",
       "      <th>max</th>\n",
       "      <td>3.000000e+06</td>\n",
       "      <td>7741.380000</td>\n",
       "      <td>2024-07-28 00:00:00</td>\n",
       "      <td>2024.000000</td>\n",
       "      <td>7.0</td>\n",
       "      <td>28.0</td>\n",
       "    </tr>\n",
       "    <tr>\n",
       "      <th>std</th>\n",
       "      <td>2.700700e+05</td>\n",
       "      <td>626.005076</td>\n",
       "      <td>NaN</td>\n",
       "      <td>0.807154</td>\n",
       "      <td>0.0</td>\n",
       "      <td>0.0</td>\n",
       "    </tr>\n",
       "  </tbody>\n",
       "</table>\n",
       "</div>"
      ],
      "text/plain": [
       "               Цена  Цена / кв.м.                           Дата         Year  \\\n",
       "count  9.540000e+02    954.000000                            954   954.000000   \n",
       "mean   2.495837e+05   1843.112956  2023-08-14 13:36:36.226415104  2023.047170   \n",
       "min    6.500000e+03     17.400000            2022-07-28 00:00:00  2022.000000   \n",
       "25%    1.142454e+05   1479.210000            2022-07-28 00:00:00  2022.000000   \n",
       "50%    1.701621e+05   1776.785000            2023-07-28 00:00:00  2023.000000   \n",
       "75%    2.810798e+05   2140.805000            2024-07-28 00:00:00  2024.000000   \n",
       "max    3.000000e+06   7741.380000            2024-07-28 00:00:00  2024.000000   \n",
       "std    2.700700e+05    626.005076                            NaN     0.807154   \n",
       "\n",
       "       Month    Day  \n",
       "count  954.0  954.0  \n",
       "mean     7.0   28.0  \n",
       "min      7.0   28.0  \n",
       "25%      7.0   28.0  \n",
       "50%      7.0   28.0  \n",
       "75%      7.0   28.0  \n",
       "max      7.0   28.0  \n",
       "std      0.0    0.0  "
      ]
     },
     "execution_count": 167,
     "metadata": {},
     "output_type": "execute_result"
    }
   ],
   "source": [
    "combined_df.describe()"
   ]
  },
  {
   "cell_type": "code",
   "execution_count": 180,
   "id": "623a9bb7-072a-4374-aebe-0021d6971598",
   "metadata": {},
   "outputs": [],
   "source": [
    "from sklearn.model_selection import train_test_split\n",
    "from sklearn.linear_model import LinearRegression\n",
    "from sklearn.metrics import mean_squared_error\n",
    "\n",
    "combined_df['Year'] = combined_df['Дата'].dt.year\n",
    "combined_df['Month'] = combined_df['Дата'].dt.month\n",
    "combined_df['Day'] = combined_df['Дата'].dt.day\n",
    "\n",
    "# Encode categorical variables\n",
    "# combined_df = pd.get_dummies(combined_df, columns=['Район', 'Тип Апартамент'])\n",
    "\n",
    "# Define features and target\n",
    "X = combined_df.drop(columns=['Цена / кв.м.', 'Дата', 'Валута'], axis=1) \n",
    "y = combined_df['Цена / кв.м.']  # Target variable\n",
    "\n",
    "\n",
    "from sklearn.preprocessing import LabelEncoder\n",
    "\n",
    "label_encoder_region = LabelEncoder()\n",
    "label_encoder_apartment_type = LabelEncoder()\n",
    "\n",
    "X['Район'] = label_encoder_region.fit_transform(X['Район'])\n",
    "X['Тип Апартамент'] = label_encoder_apartment_type.fit_transform(X['Тип Апартамент'])\n",
    "\n",
    "\n",
    "# Split the data into training and testing sets\n",
    "X_train, X_test, y_train, y_test = train_test_split(X, y, test_size=0.2, random_state=42)\n"
   ]
  },
  {
   "cell_type": "code",
   "execution_count": 171,
   "id": "387fc5de-e7d0-4929-ad17-007b9705ddf4",
   "metadata": {},
   "outputs": [
    {
     "data": {
      "text/plain": [
       "((667, 6), (287,))"
      ]
     },
     "execution_count": 171,
     "metadata": {},
     "output_type": "execute_result"
    }
   ],
   "source": [
    "X_train.shape, y_test.shape"
   ]
  },
  {
   "cell_type": "code",
   "execution_count": 172,
   "id": "3e3cb9b7-1848-4ae9-8034-dc91d74a856c",
   "metadata": {},
   "outputs": [
    {
     "data": {
      "text/plain": [
       "((287, 6), (667,))"
      ]
     },
     "execution_count": 172,
     "metadata": {},
     "output_type": "execute_result"
    }
   ],
   "source": [
    "X_test.shape, y_train.shape"
   ]
  },
  {
   "cell_type": "code",
   "execution_count": 173,
   "id": "87b9efdc-66ec-4300-bdc2-ba2bb71e6403",
   "metadata": {},
   "outputs": [
    {
     "data": {
      "text/plain": [
       "6"
      ]
     },
     "execution_count": 173,
     "metadata": {},
     "output_type": "execute_result"
    }
   ],
   "source": [
    "len(combined_df['Тип Апартамент'].unique())"
   ]
  },
  {
   "cell_type": "code",
   "execution_count": 118,
   "id": "a8be80fa-bcea-4950-8f9c-f18daa17b168",
   "metadata": {},
   "outputs": [
    {
     "data": {
      "text/html": [
       "<div>\n",
       "<style scoped>\n",
       "    .dataframe tbody tr th:only-of-type {\n",
       "        vertical-align: middle;\n",
       "    }\n",
       "\n",
       "    .dataframe tbody tr th {\n",
       "        vertical-align: top;\n",
       "    }\n",
       "\n",
       "    .dataframe thead th {\n",
       "        text-align: right;\n",
       "    }\n",
       "</style>\n",
       "<table border=\"1\" class=\"dataframe\">\n",
       "  <thead>\n",
       "    <tr style=\"text-align: right;\">\n",
       "      <th></th>\n",
       "      <th>Район</th>\n",
       "      <th>Цена</th>\n",
       "      <th>Тип Апартамент</th>\n",
       "      <th>Year</th>\n",
       "      <th>Month</th>\n",
       "      <th>Day</th>\n",
       "    </tr>\n",
       "  </thead>\n",
       "  <tbody>\n",
       "    <tr>\n",
       "      <th>292</th>\n",
       "      <td>3</td>\n",
       "      <td>162233.00</td>\n",
       "      <td>2</td>\n",
       "      <td>2023</td>\n",
       "      <td>7</td>\n",
       "      <td>28</td>\n",
       "    </tr>\n",
       "    <tr>\n",
       "      <th>891</th>\n",
       "      <td>55</td>\n",
       "      <td>32900.00</td>\n",
       "      <td>0</td>\n",
       "      <td>2024</td>\n",
       "      <td>7</td>\n",
       "      <td>28</td>\n",
       "    </tr>\n",
       "    <tr>\n",
       "      <th>736</th>\n",
       "      <td>27</td>\n",
       "      <td>315092.78</td>\n",
       "      <td>5</td>\n",
       "      <td>2024</td>\n",
       "      <td>7</td>\n",
       "      <td>28</td>\n",
       "    </tr>\n",
       "    <tr>\n",
       "      <th>109</th>\n",
       "      <td>25</td>\n",
       "      <td>421500.00</td>\n",
       "      <td>5</td>\n",
       "      <td>2022</td>\n",
       "      <td>7</td>\n",
       "      <td>28</td>\n",
       "    </tr>\n",
       "    <tr>\n",
       "      <th>77</th>\n",
       "      <td>84</td>\n",
       "      <td>173050.00</td>\n",
       "      <td>2</td>\n",
       "      <td>2022</td>\n",
       "      <td>7</td>\n",
       "      <td>28</td>\n",
       "    </tr>\n",
       "    <tr>\n",
       "      <th>...</th>\n",
       "      <td>...</td>\n",
       "      <td>...</td>\n",
       "      <td>...</td>\n",
       "      <td>...</td>\n",
       "      <td>...</td>\n",
       "      <td>...</td>\n",
       "    </tr>\n",
       "    <tr>\n",
       "      <th>106</th>\n",
       "      <td>22</td>\n",
       "      <td>214656.36</td>\n",
       "      <td>5</td>\n",
       "      <td>2022</td>\n",
       "      <td>7</td>\n",
       "      <td>28</td>\n",
       "    </tr>\n",
       "    <tr>\n",
       "      <th>270</th>\n",
       "      <td>37</td>\n",
       "      <td>190996.67</td>\n",
       "      <td>4</td>\n",
       "      <td>2022</td>\n",
       "      <td>7</td>\n",
       "      <td>28</td>\n",
       "    </tr>\n",
       "    <tr>\n",
       "      <th>860</th>\n",
       "      <td>38</td>\n",
       "      <td>44000.00</td>\n",
       "      <td>1</td>\n",
       "      <td>2024</td>\n",
       "      <td>7</td>\n",
       "      <td>28</td>\n",
       "    </tr>\n",
       "    <tr>\n",
       "      <th>435</th>\n",
       "      <td>55</td>\n",
       "      <td>215677.05</td>\n",
       "      <td>5</td>\n",
       "      <td>2023</td>\n",
       "      <td>7</td>\n",
       "      <td>28</td>\n",
       "    </tr>\n",
       "    <tr>\n",
       "      <th>102</th>\n",
       "      <td>18</td>\n",
       "      <td>227306.16</td>\n",
       "      <td>5</td>\n",
       "      <td>2022</td>\n",
       "      <td>7</td>\n",
       "      <td>28</td>\n",
       "    </tr>\n",
       "  </tbody>\n",
       "</table>\n",
       "<p>763 rows × 6 columns</p>\n",
       "</div>"
      ],
      "text/plain": [
       "     Район       Цена  Тип Апартамент  Year  Month  Day\n",
       "292      3  162233.00               2  2023      7   28\n",
       "891     55   32900.00               0  2024      7   28\n",
       "736     27  315092.78               5  2024      7   28\n",
       "109     25  421500.00               5  2022      7   28\n",
       "77      84  173050.00               2  2022      7   28\n",
       "..     ...        ...             ...   ...    ...  ...\n",
       "106     22  214656.36               5  2022      7   28\n",
       "270     37  190996.67               4  2022      7   28\n",
       "860     38   44000.00               1  2024      7   28\n",
       "435     55  215677.05               5  2023      7   28\n",
       "102     18  227306.16               5  2022      7   28\n",
       "\n",
       "[763 rows x 6 columns]"
      ]
     },
     "execution_count": 118,
     "metadata": {},
     "output_type": "execute_result"
    }
   ],
   "source": [
    "X_train"
   ]
  },
  {
   "cell_type": "code",
   "execution_count": 119,
   "id": "2034dfd6-0bdb-4cbf-8033-75e23959624b",
   "metadata": {},
   "outputs": [],
   "source": [
    "model = LinearRegression()"
   ]
  },
  {
   "cell_type": "code",
   "execution_count": 181,
   "id": "1d2ef369-fea9-4c1a-aaac-282eeabe064e",
   "metadata": {},
   "outputs": [
    {
     "data": {
      "text/html": [
       "<style>#sk-container-id-6 {color: black;background-color: white;}#sk-container-id-6 pre{padding: 0;}#sk-container-id-6 div.sk-toggleable {background-color: white;}#sk-container-id-6 label.sk-toggleable__label {cursor: pointer;display: block;width: 100%;margin-bottom: 0;padding: 0.3em;box-sizing: border-box;text-align: center;}#sk-container-id-6 label.sk-toggleable__label-arrow:before {content: \"▸\";float: left;margin-right: 0.25em;color: #696969;}#sk-container-id-6 label.sk-toggleable__label-arrow:hover:before {color: black;}#sk-container-id-6 div.sk-estimator:hover label.sk-toggleable__label-arrow:before {color: black;}#sk-container-id-6 div.sk-toggleable__content {max-height: 0;max-width: 0;overflow: hidden;text-align: left;background-color: #f0f8ff;}#sk-container-id-6 div.sk-toggleable__content pre {margin: 0.2em;color: black;border-radius: 0.25em;background-color: #f0f8ff;}#sk-container-id-6 input.sk-toggleable__control:checked~div.sk-toggleable__content {max-height: 200px;max-width: 100%;overflow: auto;}#sk-container-id-6 input.sk-toggleable__control:checked~label.sk-toggleable__label-arrow:before {content: \"▾\";}#sk-container-id-6 div.sk-estimator input.sk-toggleable__control:checked~label.sk-toggleable__label {background-color: #d4ebff;}#sk-container-id-6 div.sk-label input.sk-toggleable__control:checked~label.sk-toggleable__label {background-color: #d4ebff;}#sk-container-id-6 input.sk-hidden--visually {border: 0;clip: rect(1px 1px 1px 1px);clip: rect(1px, 1px, 1px, 1px);height: 1px;margin: -1px;overflow: hidden;padding: 0;position: absolute;width: 1px;}#sk-container-id-6 div.sk-estimator {font-family: monospace;background-color: #f0f8ff;border: 1px dotted black;border-radius: 0.25em;box-sizing: border-box;margin-bottom: 0.5em;}#sk-container-id-6 div.sk-estimator:hover {background-color: #d4ebff;}#sk-container-id-6 div.sk-parallel-item::after {content: \"\";width: 100%;border-bottom: 1px solid gray;flex-grow: 1;}#sk-container-id-6 div.sk-label:hover label.sk-toggleable__label {background-color: #d4ebff;}#sk-container-id-6 div.sk-serial::before {content: \"\";position: absolute;border-left: 1px solid gray;box-sizing: border-box;top: 0;bottom: 0;left: 50%;z-index: 0;}#sk-container-id-6 div.sk-serial {display: flex;flex-direction: column;align-items: center;background-color: white;padding-right: 0.2em;padding-left: 0.2em;position: relative;}#sk-container-id-6 div.sk-item {position: relative;z-index: 1;}#sk-container-id-6 div.sk-parallel {display: flex;align-items: stretch;justify-content: center;background-color: white;position: relative;}#sk-container-id-6 div.sk-item::before, #sk-container-id-6 div.sk-parallel-item::before {content: \"\";position: absolute;border-left: 1px solid gray;box-sizing: border-box;top: 0;bottom: 0;left: 50%;z-index: -1;}#sk-container-id-6 div.sk-parallel-item {display: flex;flex-direction: column;z-index: 1;position: relative;background-color: white;}#sk-container-id-6 div.sk-parallel-item:first-child::after {align-self: flex-end;width: 50%;}#sk-container-id-6 div.sk-parallel-item:last-child::after {align-self: flex-start;width: 50%;}#sk-container-id-6 div.sk-parallel-item:only-child::after {width: 0;}#sk-container-id-6 div.sk-dashed-wrapped {border: 1px dashed gray;margin: 0 0.4em 0.5em 0.4em;box-sizing: border-box;padding-bottom: 0.4em;background-color: white;}#sk-container-id-6 div.sk-label label {font-family: monospace;font-weight: bold;display: inline-block;line-height: 1.2em;}#sk-container-id-6 div.sk-label-container {text-align: center;}#sk-container-id-6 div.sk-container {/* jupyter's `normalize.less` sets `[hidden] { display: none; }` but bootstrap.min.css set `[hidden] { display: none !important; }` so we also need the `!important` here to be able to override the default hidden behavior on the sphinx rendered scikit-learn.org. See: https://github.com/scikit-learn/scikit-learn/issues/21755 */display: inline-block !important;position: relative;}#sk-container-id-6 div.sk-text-repr-fallback {display: none;}</style><div id=\"sk-container-id-6\" class=\"sk-top-container\"><div class=\"sk-text-repr-fallback\"><pre>LinearRegression()</pre><b>In a Jupyter environment, please rerun this cell to show the HTML representation or trust the notebook. <br />On GitHub, the HTML representation is unable to render, please try loading this page with nbviewer.org.</b></div><div class=\"sk-container\" hidden><div class=\"sk-item\"><div class=\"sk-estimator sk-toggleable\"><input class=\"sk-toggleable__control sk-hidden--visually\" id=\"sk-estimator-id-6\" type=\"checkbox\" checked><label for=\"sk-estimator-id-6\" class=\"sk-toggleable__label sk-toggleable__label-arrow\">LinearRegression</label><div class=\"sk-toggleable__content\"><pre>LinearRegression()</pre></div></div></div></div></div>"
      ],
      "text/plain": [
       "LinearRegression()"
      ]
     },
     "execution_count": 181,
     "metadata": {},
     "output_type": "execute_result"
    }
   ],
   "source": [
    "model.fit(X_train, y_train)"
   ]
  },
  {
   "cell_type": "code",
   "execution_count": 182,
   "id": "fde93948-abad-42d1-adc1-3f83d71d4bc4",
   "metadata": {},
   "outputs": [],
   "source": [
    "y_pred = model.predict(X_test)"
   ]
  },
  {
   "cell_type": "markdown",
   "id": "09725d40-7dc4-499a-adde-b008d87bbf41",
   "metadata": {},
   "source": [
    "### Print model performance"
   ]
  },
  {
   "cell_type": "code",
   "execution_count": 183,
   "id": "8055e12c-0d27-4f5e-983d-9cdb0c956afb",
   "metadata": {},
   "outputs": [
    {
     "data": {
      "text/plain": [
       "361313.1488254969"
      ]
     },
     "execution_count": 183,
     "metadata": {},
     "output_type": "execute_result"
    }
   ],
   "source": [
    "mse = mean_squared_error(y_test, y_pred)\n",
    "mse"
   ]
  },
  {
   "cell_type": "code",
   "execution_count": 184,
   "id": "5c7de863-b89c-4097-8c1e-903184fecc62",
   "metadata": {},
   "outputs": [
    {
     "data": {
      "text/plain": [
       "['Район', 'Цена', 'Тип Апартамент', 'Year', 'Month', 'Day']"
      ]
     },
     "execution_count": 184,
     "metadata": {},
     "output_type": "execute_result"
    }
   ],
   "source": [
    "[x for x in X]"
   ]
  },
  {
   "cell_type": "code",
   "execution_count": 186,
   "id": "2884d87e-52db-4d14-a7bc-05fb58ad1c05",
   "metadata": {},
   "outputs": [
    {
     "data": {
      "text/html": [
       "<div>\n",
       "<style scoped>\n",
       "    .dataframe tbody tr th:only-of-type {\n",
       "        vertical-align: middle;\n",
       "    }\n",
       "\n",
       "    .dataframe tbody tr th {\n",
       "        vertical-align: top;\n",
       "    }\n",
       "\n",
       "    .dataframe thead th {\n",
       "        text-align: right;\n",
       "    }\n",
       "</style>\n",
       "<table border=\"1\" class=\"dataframe\">\n",
       "  <thead>\n",
       "    <tr style=\"text-align: right;\">\n",
       "      <th></th>\n",
       "      <th>Coef</th>\n",
       "    </tr>\n",
       "  </thead>\n",
       "  <tbody>\n",
       "    <tr>\n",
       "      <th>Район</th>\n",
       "      <td>0.400926</td>\n",
       "    </tr>\n",
       "    <tr>\n",
       "      <th>Цена</th>\n",
       "      <td>0.000813</td>\n",
       "    </tr>\n",
       "    <tr>\n",
       "      <th>Тип Апартамент</th>\n",
       "      <td>46.287872</td>\n",
       "    </tr>\n",
       "    <tr>\n",
       "      <th>Year</th>\n",
       "      <td>104.684087</td>\n",
       "    </tr>\n",
       "    <tr>\n",
       "      <th>Month</th>\n",
       "      <td>0.000000</td>\n",
       "    </tr>\n",
       "    <tr>\n",
       "      <th>Day</th>\n",
       "      <td>0.000000</td>\n",
       "    </tr>\n",
       "  </tbody>\n",
       "</table>\n",
       "</div>"
      ],
      "text/plain": [
       "                      Coef\n",
       "Район             0.400926\n",
       "Цена              0.000813\n",
       "Тип Апартамент   46.287872\n",
       "Year            104.684087\n",
       "Month             0.000000\n",
       "Day               0.000000"
      ]
     },
     "execution_count": 186,
     "metadata": {},
     "output_type": "execute_result"
    }
   ],
   "source": [
    "cdf = pd.DataFrame(model.coef_, X.columns, columns=['Coef'])\n",
    "cdf"
   ]
  },
  {
   "cell_type": "code",
   "execution_count": 163,
   "id": "58fa583d-1172-48c6-8a15-5643a6f549d9",
   "metadata": {},
   "outputs": [
    {
     "name": "stdout",
     "output_type": "stream",
     "text": [
      "Coefficients: [4.00926284e-01 8.12908030e-04 4.62878715e+01 1.04684087e+02\n",
      " 0.00000000e+00 0.00000000e+00]\n",
      "Intercept: -210315.93591144576\n",
      "Mean squared error (MSE): 247728.43\n",
      "Coefficient of determination (R^2): 0.54\n"
     ]
    }
   ],
   "source": [
    "print(\"Coefficients:\", model.coef_)\n",
    "print(\"Intercept:\", model.intercept_)\n",
    "print(\"Mean squared error (MSE): %.2f\" % mse)\n",
    "print(\"Coefficient of determination (R^2): %.2f\" % r2_score(y_test, y_pred))"
   ]
  },
  {
   "cell_type": "markdown",
   "id": "163ff9a3-d040-4186-b8db-ffe72f9a246c",
   "metadata": {},
   "source": [
    "### Prediction results"
   ]
  },
  {
   "cell_type": "code",
   "execution_count": 189,
   "id": "a993967a-7103-4e75-be87-4fadf556148c",
   "metadata": {},
   "outputs": [],
   "source": [
    "predictions = model.predict(X_test)"
   ]
  },
  {
   "cell_type": "code",
   "execution_count": 190,
   "id": "057347ee-735b-441e-ac5c-d9d4241f3eba",
   "metadata": {},
   "outputs": [
    {
     "data": {
      "text/plain": [
       "array([1750.68769183, 1839.39383931, 1804.70040078, 1944.07792623,\n",
       "       1922.38083838, 2219.76097443, 2094.98754327, 1537.72001041,\n",
       "       2300.23395829, 1872.9110702 , 1428.80262176, 1539.77991914,\n",
       "       1547.53523397, 2183.63678977, 1807.60635224, 1585.7867115 ,\n",
       "       1662.43326291, 1670.19373346, 1807.75261896, 1914.9282857 ,\n",
       "       1956.9735337 , 1828.94517048, 1760.22967186, 1686.11261913,\n",
       "       1534.811921  , 1777.82094491, 1528.81671619, 2021.42489425,\n",
       "       1767.09400383, 1537.75367292, 1907.69718555, 1765.20986189,\n",
       "       1736.7505311 , 1754.21497581, 1579.60087932, 1985.17116354,\n",
       "       1661.65627825, 1784.10376819, 2044.07519549, 2148.75928242,\n",
       "       1527.54371103, 1651.77444794, 1534.20011755, 1819.90973642,\n",
       "       1633.22389514, 1715.39755576, 1421.45287664, 1880.2953017 ,\n",
       "       1578.62717821, 1780.1590112 , 1641.19677333, 1772.91549362,\n",
       "       1647.08029418, 1665.05496756, 1979.41164758, 1938.31235138,\n",
       "       1632.79292199, 1673.4582839 , 1934.39529835, 1957.31744369,\n",
       "       1719.20138826, 1853.67345955, 2301.18538831, 1681.70888422,\n",
       "       2158.80068947, 1563.1432553 , 2035.8120384 , 1804.79946716,\n",
       "       2031.86075143, 1679.02057164, 2645.08131139, 1830.98151754,\n",
       "       1773.40557105, 1696.4940963 , 2470.98278069, 1976.78564559,\n",
       "       1759.47196851, 1609.32095081, 2017.12079282, 1971.52468623,\n",
       "       1766.48582141, 1566.40688581, 1994.22805404, 2135.39418611,\n",
       "       1884.82610514, 1473.12291633, 1888.30156906, 1527.67474239,\n",
       "       1785.80756781, 1543.98167661, 1989.12968228, 1952.07765282,\n",
       "       1740.81807925, 1857.26306876, 1632.84522596, 1804.42726429,\n",
       "       1554.58625246, 1576.80078488, 1592.34467697, 2030.62839019,\n",
       "       1778.44595764, 1852.40171568, 1571.52244044, 1455.75407678,\n",
       "       1957.66471804, 1764.57913663, 1935.66560447, 1610.62086354,\n",
       "       1867.60718869, 1664.9149918 , 1676.62856494, 2186.08879164,\n",
       "       1728.94417752, 1565.09160105, 1721.74940209, 1802.73778053,\n",
       "       1553.02836875, 1704.68822363, 1685.38802329, 1797.85311074,\n",
       "       1542.60348357, 3434.63909838, 1631.66753137, 1768.05606504,\n",
       "       1790.11241593, 1988.18669133, 1883.40697952, 1582.28313436,\n",
       "       1696.79496234, 1963.96644732, 1641.23448487, 2010.80025387,\n",
       "       2719.86077495, 1649.03675876, 1872.27402366, 2078.20578005,\n",
       "       1923.22763871, 2051.71547479, 1890.49165474, 3185.95435616,\n",
       "       2336.17612897, 1685.90475057, 1741.12583777, 1900.08390907,\n",
       "       1696.60340104, 2059.39746224, 1822.49257757, 1993.47194204,\n",
       "       1643.27609578, 2081.60692427, 2014.0143696 , 2306.56103303,\n",
       "       1549.54034324, 1804.3287664 , 1919.84959695, 1692.53353638,\n",
       "       1939.78168072, 1574.6145751 , 1785.38063557, 1866.5577572 ,\n",
       "       1429.15379846, 1422.99065546, 1878.57025874, 1548.23806522,\n",
       "       1891.73571877, 1560.72645542, 1803.21667492, 2065.21380079,\n",
       "       1668.24759946, 1650.55471888, 1744.84419142, 1787.16032459,\n",
       "       1730.85163029, 1715.78537291, 1855.2036561 , 1715.73808227,\n",
       "       1584.12259817, 1822.51744256, 1710.5088029 , 1446.23332446,\n",
       "       2149.9213433 , 1661.72301757, 1647.64636173, 2225.2953136 ,\n",
       "       2055.33619526, 1564.67604286, 1537.61487714, 1547.24030968,\n",
       "       1960.98110316, 1690.66582103, 1851.95618845])"
      ]
     },
     "execution_count": 190,
     "metadata": {},
     "output_type": "execute_result"
    }
   ],
   "source": [
    "predictions"
   ]
  },
  {
   "cell_type": "code",
   "execution_count": 196,
   "id": "9eb61689-c22a-4f1d-bf88-9cea056bf774",
   "metadata": {},
   "outputs": [
    {
     "name": "stdout",
     "output_type": "stream",
     "text": [
      "Mean Absolute Error:  396.14418337543447\n"
     ]
    }
   ],
   "source": [
    "print(\"Mean Absolute Error: \", mean_absolute_error(y_test, predictions))"
   ]
  },
  {
   "cell_type": "code",
   "execution_count": 194,
   "id": "b7cbfaaf-057e-4104-bc63-b66a0cdd4bee",
   "metadata": {},
   "outputs": [
    {
     "data": {
      "text/plain": [
       "Text(0.5, 1.0, 'Evaluation of the model')"
      ]
     },
     "execution_count": 194,
     "metadata": {},
     "output_type": "execute_result"
    },
    {
     "data": {
      "image/png": "[encoded data removed]",
      "text/plain": [
       "<Figure size 640x480 with 1 Axes>"
      ]
     },
     "metadata": {},
     "output_type": "display_data"
    }
   ],
   "source": [
    "sns.scatterplot(x=predictions, y=y_test)\n",
    "plt.xlabel(\"Predictions\")\n",
    "plt.title(\"Evaluation of the model\")"
   ]
  },
  {
   "cell_type": "code",
   "execution_count": 204,
   "id": "da1e353e-294b-4993-8e55-2788499ce686",
   "metadata": {},
   "outputs": [
    {
     "data": {
      "text/plain": [
       "<seaborn.axisgrid.FacetGrid at 0x298a8aa9550>"
      ]
     },
     "execution_count": 204,
     "metadata": {},
     "output_type": "execute_result"
    },
    {
     "data": {
      "image/png": "[encoded data removed]",
      "text/plain": [
       "<Figure size 500x500 with 1 Axes>"
      ]
     },
     "metadata": {},
     "output_type": "display_data"
    }
   ],
   "source": [
    "label_encoder_reg = LabelEncoder()\n",
    "combined_df['Район'] = label_encoder_reg.fit_transform(combined_df['Район'])\n",
    "\n",
    "sns.lmplot(x='Цена / кв.м.', y='Цена', data=combined_df, scatter_kws={'alpha': 0.3})"
   ]
  },
  {
   "cell_type": "markdown",
   "id": "e17bf66a-4a63-45b9-a00d-a830f8cc4616",
   "metadata": {},
   "source": [
    "## Residuals"
   ]
  },
  {
   "cell_type": "code",
   "execution_count": 206,
   "id": "9afec9eb-24d3-4c91-96ea-e411a0374733",
   "metadata": {},
   "outputs": [],
   "source": [
    "residuals = y_test - predictions"
   ]
  },
  {
   "cell_type": "code",
   "execution_count": 209,
   "id": "bc93a06b-653a-4497-a02e-821f14d95bac",
   "metadata": {},
   "outputs": [],
   "source": [
    "# sns.displot(residuals)"
   ]
  },
  {
   "cell_type": "code",
   "execution_count": 129,
   "id": "a4cc16f1-3383-479e-b54e-9111a2b429a8",
   "metadata": {},
   "outputs": [
    {
     "name": "stdout",
     "output_type": "stream",
     "text": [
      "Prediction for 0 - 2: 1924.50 per square meter\n",
      "Prediction for 1 - 5: 2063.76 per square meter\n"
     ]
    }
   ],
   "source": [
    "# Creating a future dataset for prediction\n",
    "# Example: Predicting for 2025 with specific assumptions for features\n",
    "future_data = {\n",
    "    'Район': label_encoder_region.transform(['Банишора', 'Белите Брези']),  # Encode regions\n",
    "    'Цена': 200000,\n",
    "    'Тип Апартамент': label_encoder_apartment_type.transform(['Двустаен апартамент', 'Тристаен апартамент']),  # Encode apartment types\n",
    "    'Year': [2025] * 2,  # Assuming 2 predictions for example purposes\n",
    "    'Month': [1, 1],  # Predicting for January 2025\n",
    "    'Day': [1, 1],  # 1st of January 2025  \n",
    "}\n",
    "\n",
    "# Convert to DataFrame\n",
    "future_X = pd.DataFrame(future_data)\n",
    "\n",
    "# Make predictions\n",
    "future_predictions = model.predict(future_X)\n",
    "\n",
    "# Display predictions\n",
    "for i, prediction in enumerate(future_predictions):\n",
    "    print(f\"Prediction for {future_data['Район'][i]} - {future_data['Тип Апартамент'][i]}: {prediction:.2f} per square meter\")"
   ]
  },
  {
   "cell_type": "code",
   "execution_count": 130,
   "id": "bb0e0932-57a4-4f84-929f-7ed20005f9d3",
   "metadata": {},
   "outputs": [
    {
     "name": "stdout",
     "output_type": "stream",
     "text": [
      "Prediction for Банишора - Двустаен апартамент: 1924.50 per square meter\n",
      "Prediction for Белите Брези - Тристаен апартамент: 2063.76 per square meter\n"
     ]
    }
   ],
   "source": [
    "# Create reverse mappings\n",
    "region_reverse_mapping = {idx: label for idx, label in enumerate(label_encoder_region.classes_)}\n",
    "apartment_type_reverse_mapping = {idx: label for idx, label in enumerate(label_encoder_apartment_type.classes_)}\n",
    "\n",
    "# Encoded values\n",
    "encoded_regions = [0, 1]  # Example encoded values for future predictions\n",
    "encoded_apartment_types = [2, 5]  # Example encoded values for future predictions\n",
    "\n",
    "# Translate encoded values to original labels\n",
    "decoded_regions = [region_reverse_mapping[encoded] for encoded in encoded_regions]\n",
    "decoded_apartment_types = [apartment_type_reverse_mapping[encoded] for encoded in encoded_apartment_types]\n",
    "\n",
    "# Example predictions\n",
    "future_predictions = [1924.50, 2063.76]\n",
    "\n",
    "# Display predictions with original labels\n",
    "for i, prediction in enumerate(future_predictions):\n",
    "    region_label = decoded_regions[i]\n",
    "    apartment_type_label = decoded_apartment_types[i]\n",
    "    print(f\"Prediction for {region_label} - {apartment_type_label}: {prediction:.2f} per square meter\")"
   ]
  },
  {
   "cell_type": "code",
   "execution_count": 140,
   "id": "44cd7182-6207-4372-b25d-18465bf2af45",
   "metadata": {},
   "outputs": [
    {
     "data": {
      "text/plain": [
       "0.3261762030034778"
      ]
     },
     "execution_count": 140,
     "metadata": {},
     "output_type": "execute_result"
    }
   ],
   "source": [
    "from sklearn.metrics import r2_score\n",
    "\n",
    "r2_score(y_test, y_pred)"
   ]
  },
  {
   "cell_type": "code",
   "execution_count": 143,
   "id": "a3be87bc-6c9a-4403-81b2-b648c62e633e",
   "metadata": {},
   "outputs": [
    {
     "data": {
      "text/html": [
       "<div>\n",
       "<style scoped>\n",
       "    .dataframe tbody tr th:only-of-type {\n",
       "        vertical-align: middle;\n",
       "    }\n",
       "\n",
       "    .dataframe tbody tr th {\n",
       "        vertical-align: top;\n",
       "    }\n",
       "\n",
       "    .dataframe thead th {\n",
       "        text-align: right;\n",
       "    }\n",
       "</style>\n",
       "<table border=\"1\" class=\"dataframe\">\n",
       "  <thead>\n",
       "    <tr style=\"text-align: right;\">\n",
       "      <th></th>\n",
       "      <th>Район</th>\n",
       "      <th>Цена</th>\n",
       "      <th>Цена / кв.м.</th>\n",
       "      <th>Валута</th>\n",
       "      <th>Тип Апартамент</th>\n",
       "      <th>Дата</th>\n",
       "      <th>Year</th>\n",
       "      <th>Month</th>\n",
       "      <th>Day</th>\n",
       "    </tr>\n",
       "  </thead>\n",
       "  <tbody>\n",
       "    <tr>\n",
       "      <th>1</th>\n",
       "      <td>Белите Брези</td>\n",
       "      <td>148125.00</td>\n",
       "      <td>1949.01</td>\n",
       "      <td>EUR</td>\n",
       "      <td>Двустаен апартамент</td>\n",
       "      <td>2022-07-28</td>\n",
       "      <td>2022</td>\n",
       "      <td>7</td>\n",
       "      <td>28</td>\n",
       "    </tr>\n",
       "    <tr>\n",
       "      <th>89</th>\n",
       "      <td>Белите Брези</td>\n",
       "      <td>266593.75</td>\n",
       "      <td>2109.54</td>\n",
       "      <td>EUR</td>\n",
       "      <td>Тристаен апартамент</td>\n",
       "      <td>2022-07-28</td>\n",
       "      <td>2022</td>\n",
       "      <td>7</td>\n",
       "      <td>28</td>\n",
       "    </tr>\n",
       "    <tr>\n",
       "      <th>211</th>\n",
       "      <td>Белите Брези</td>\n",
       "      <td>35000.00</td>\n",
       "      <td>1944.44</td>\n",
       "      <td>EUR</td>\n",
       "      <td>Гараж, паркомясто</td>\n",
       "      <td>2022-07-28</td>\n",
       "      <td>2022</td>\n",
       "      <td>7</td>\n",
       "      <td>28</td>\n",
       "    </tr>\n",
       "    <tr>\n",
       "      <th>249</th>\n",
       "      <td>Белите Брези</td>\n",
       "      <td>452333.34</td>\n",
       "      <td>1794.97</td>\n",
       "      <td>EUR</td>\n",
       "      <td>Многостаен апартамемент</td>\n",
       "      <td>2022-07-28</td>\n",
       "      <td>2022</td>\n",
       "      <td>7</td>\n",
       "      <td>28</td>\n",
       "    </tr>\n",
       "    <tr>\n",
       "      <th>292</th>\n",
       "      <td>Белите Брези</td>\n",
       "      <td>162233.00</td>\n",
       "      <td>2015.32</td>\n",
       "      <td>EUR</td>\n",
       "      <td>Двустаен апартамент</td>\n",
       "      <td>2023-07-28</td>\n",
       "      <td>2023</td>\n",
       "      <td>7</td>\n",
       "      <td>28</td>\n",
       "    </tr>\n",
       "    <tr>\n",
       "      <th>385</th>\n",
       "      <td>Белите Брези</td>\n",
       "      <td>266593.75</td>\n",
       "      <td>2109.54</td>\n",
       "      <td>EUR</td>\n",
       "      <td>Тристаен апартамент</td>\n",
       "      <td>2023-07-28</td>\n",
       "      <td>2023</td>\n",
       "      <td>7</td>\n",
       "      <td>28</td>\n",
       "    </tr>\n",
       "    <tr>\n",
       "      <th>513</th>\n",
       "      <td>Белите Брези</td>\n",
       "      <td>44924.00</td>\n",
       "      <td>1826.18</td>\n",
       "      <td>EUR</td>\n",
       "      <td>Гараж, паркомясто</td>\n",
       "      <td>2023-07-28</td>\n",
       "      <td>2023</td>\n",
       "      <td>7</td>\n",
       "      <td>28</td>\n",
       "    </tr>\n",
       "    <tr>\n",
       "      <th>567</th>\n",
       "      <td>Белите Брези</td>\n",
       "      <td>297666.34</td>\n",
       "      <td>1704.20</td>\n",
       "      <td>EUR</td>\n",
       "      <td>Многостаен апартамемент</td>\n",
       "      <td>2023-07-28</td>\n",
       "      <td>2023</td>\n",
       "      <td>7</td>\n",
       "      <td>28</td>\n",
       "    </tr>\n",
       "    <tr>\n",
       "      <th>622</th>\n",
       "      <td>Белите Брези</td>\n",
       "      <td>249900.00</td>\n",
       "      <td>2108.86</td>\n",
       "      <td>EUR</td>\n",
       "      <td>Двустаен апартамент</td>\n",
       "      <td>2024-07-28</td>\n",
       "      <td>2024</td>\n",
       "      <td>7</td>\n",
       "      <td>28</td>\n",
       "    </tr>\n",
       "    <tr>\n",
       "      <th>714</th>\n",
       "      <td>Белите Брези</td>\n",
       "      <td>266593.75</td>\n",
       "      <td>2109.54</td>\n",
       "      <td>EUR</td>\n",
       "      <td>Тристаен апартамент</td>\n",
       "      <td>2024-07-28</td>\n",
       "      <td>2024</td>\n",
       "      <td>7</td>\n",
       "      <td>28</td>\n",
       "    </tr>\n",
       "    <tr>\n",
       "      <th>903</th>\n",
       "      <td>Белите Брези</td>\n",
       "      <td>402500.00</td>\n",
       "      <td>2274.01</td>\n",
       "      <td>EUR</td>\n",
       "      <td>Многостаен апартамемент</td>\n",
       "      <td>2024-07-28</td>\n",
       "      <td>2024</td>\n",
       "      <td>7</td>\n",
       "      <td>28</td>\n",
       "    </tr>\n",
       "  </tbody>\n",
       "</table>\n",
       "</div>"
      ],
      "text/plain": [
       "            Район       Цена  Цена / кв.м. Валута           Тип Апартамент  \\\n",
       "1    Белите Брези  148125.00       1949.01    EUR      Двустаен апартамент   \n",
       "89   Белите Брези  266593.75       2109.54    EUR      Тристаен апартамент   \n",
       "211  Белите Брези   35000.00       1944.44    EUR        Гараж, паркомясто   \n",
       "249  Белите Брези  452333.34       1794.97    EUR  Многостаен апартамемент   \n",
       "292  Белите Брези  162233.00       2015.32    EUR      Двустаен апартамент   \n",
       "385  Белите Брези  266593.75       2109.54    EUR      Тристаен апартамент   \n",
       "513  Белите Брези   44924.00       1826.18    EUR        Гараж, паркомясто   \n",
       "567  Белите Брези  297666.34       1704.20    EUR  Многостаен апартамемент   \n",
       "622  Белите Брези  249900.00       2108.86    EUR      Двустаен апартамент   \n",
       "714  Белите Брези  266593.75       2109.54    EUR      Тристаен апартамент   \n",
       "903  Белите Брези  402500.00       2274.01    EUR  Многостаен апартамемент   \n",
       "\n",
       "          Дата  Year  Month  Day  \n",
       "1   2022-07-28  2022      7   28  \n",
       "89  2022-07-28  2022      7   28  \n",
       "211 2022-07-28  2022      7   28  \n",
       "249 2022-07-28  2022      7   28  \n",
       "292 2023-07-28  2023      7   28  \n",
       "385 2023-07-28  2023      7   28  \n",
       "513 2023-07-28  2023      7   28  \n",
       "567 2023-07-28  2023      7   28  \n",
       "622 2024-07-28  2024      7   28  \n",
       "714 2024-07-28  2024      7   28  \n",
       "903 2024-07-28  2024      7   28  "
      ]
     },
     "execution_count": 143,
     "metadata": {},
     "output_type": "execute_result"
    }
   ],
   "source": [
    "combined_df[combined_df[\"Район\"] == \"Белите Брези\"]"
   ]
  },
  {
   "cell_type": "code",
   "execution_count": 188,
   "id": "bfd3145e-67bb-41aa-ac90-e78fe50cb4a2",
   "metadata": {},
   "outputs": [
    {
     "data": {
      "text/plain": [
       "<Axes: xlabel='Цена / кв.м.'>"
      ]
     },
     "execution_count": 188,
     "metadata": {},
     "output_type": "execute_result"
    },
    {
     "data": {
      "image/png": "[encoded data removed]",
      "text/plain": [
       "<Figure size 640x480 with 1 Axes>"
      ]
     },
     "metadata": {},
     "output_type": "display_data"
    }
   ],
   "source": [
    "sns.scatterplot(x=y_test, y=y_pred)"
   ]
  },
  {
   "cell_type": "markdown",
   "id": "2d78cbdb-5fd5-49e7-ba2e-4509845559a8",
   "metadata": {},
   "source": [
    "## Train model for second_df"
   ]
  },
  {
   "cell_type": "code",
   "execution_count": null,
   "id": "fdf7163c-80b4-4365-a76b-c94bd2608174",
   "metadata": {},
   "outputs": [],
   "source": [
    "second_df"
   ]
  },
  {
   "cell_type": "code",
   "execution_count": null,
   "id": "4fa3fb2d-1e1a-4430-98da-4b51dd596026",
   "metadata": {},
   "outputs": [],
   "source": [
    "df_one_bed = second_df[['Район', 'Дата', 'Едностайни - €/кв.м', 'Едностайни - цена' ]].copy()\n",
    "\n",
    "plt.figure(figsize=(14, 7))\n",
    "top_regions = df_one_bed['Район'].value_counts().nlargest(5).index\n",
    "df_filtered = df_one_bed[df_one_bed['Район'].isin(top_regions)]\n",
    "\n",
    "sns.scatterplot(x=\"Дата\", y=\"Едностайни - €/кв.м\", data=df_filtered, hue=\"Район\", palette=\"coolwarm\")\n",
    "plt.title('One-Bedroom Apartment Prices Over Time by Selected Regions')\n",
    "plt.show()"
   ]
  },
  {
   "cell_type": "code",
   "execution_count": null,
   "id": "c0912d35-b3a9-4e26-aa74-33b8ea3f9812",
   "metadata": {},
   "outputs": [],
   "source": [
    "df_two_bed = second_df[['Район', 'Дата', 'Двустайни - €/кв.м', 'Двустайни - цена']].copy()\n",
    "\n",
    "plt.figure(figsize=(14, 7))\n",
    "top_regions = df_two_bed['Район'].value_counts().nlargest(5).index\n",
    "df_filtered = df_two_bed[df_two_bed['Район'].isin(top_regions)]\n",
    "\n",
    "sns.scatterplot(x=\"Дата\", y=\"Двустайни - €/кв.м\", data=df_filtered, hue=\"Район\", palette=\"coolwarm\")\n",
    "plt.title('Two-Bedroom Apartment Prices Over Time by Selected Regions')\n",
    "plt.show()"
   ]
  },
  {
   "cell_type": "code",
   "execution_count": null,
   "id": "b70969c1-433b-4b9b-a937-696127f9fec4",
   "metadata": {},
   "outputs": [],
   "source": [
    "df_two_bed[df_two_bed['Район'] == 'Полигона']"
   ]
  },
  {
   "cell_type": "code",
   "execution_count": null,
   "id": "71732dde-ce5c-4d78-a975-71460bb52e44",
   "metadata": {},
   "outputs": [],
   "source": [
    "df_one_bed"
   ]
  },
  {
   "cell_type": "code",
   "execution_count": null,
   "id": "d36048e8-a41f-49c8-b58d-b0526be0e62b",
   "metadata": {},
   "outputs": [],
   "source": [
    "df_one_bed['Year'] = df_one_bed['Дата'].dt.year\n",
    "df_one_bed['Month'] = df_one_bed['Дата'].dt.month\n",
    "df_one_bed.drop([\"Дата\"], axis=1, inplace=True)\n",
    "\n",
    "X = df_one_bed.drop([\"Едностайни - €/кв.м\"], axis=1)\n",
    "y = df_one_bed[\"Едностайни - €/кв.м\"]"
   ]
  },
  {
   "cell_type": "code",
   "execution_count": null,
   "id": "93ac1a00-6f1c-4fb3-965b-50d4c3a339bd",
   "metadata": {},
   "outputs": [],
   "source": [
    "from sklearn.preprocessing import LabelEncoder\n",
    "\n",
    "label_encoder = LabelEncoder()\n",
    "X['Район'] = label_encoder.fit_transform(X['Район'])"
   ]
  },
  {
   "cell_type": "code",
   "execution_count": null,
   "id": "b7e21ea3-0819-4a68-b44a-ee3ff9ca0dce",
   "metadata": {},
   "outputs": [],
   "source": [
    "X"
   ]
  },
  {
   "cell_type": "code",
   "execution_count": null,
   "id": "35588877-efeb-447d-b145-d2d989c58794",
   "metadata": {},
   "outputs": [],
   "source": [
    "y"
   ]
  },
  {
   "cell_type": "code",
   "execution_count": null,
   "id": "e40571b6-de94-492c-a12c-ab2008d4a23b",
   "metadata": {},
   "outputs": [],
   "source": [
    "X_train, X_test, y_train, y_test = train_test_split(X, y, test_size=0.2)"
   ]
  },
  {
   "cell_type": "code",
   "execution_count": null,
   "id": "1ae1c438-b261-42bf-a87f-a57924e6d33e",
   "metadata": {},
   "outputs": [],
   "source": [
    "y_train"
   ]
  },
  {
   "cell_type": "code",
   "execution_count": null,
   "id": "45689129-595e-4bc9-9d20-3f2f8acc5073",
   "metadata": {},
   "outputs": [],
   "source": [
    "model.fit(X_train, y_train)"
   ]
  },
  {
   "cell_type": "code",
   "execution_count": null,
   "id": "646547ee-c24c-4d3e-868b-d759d538db13",
   "metadata": {},
   "outputs": [],
   "source": [
    "y_pred = model.predict(X_test)"
   ]
  },
  {
   "cell_type": "code",
   "execution_count": null,
   "id": "35c73846-2067-4aa8-967f-0c152f3d49c9",
   "metadata": {},
   "outputs": [],
   "source": [
    "# Evaluate the model\n",
    "mae = mean_absolute_error(y_test, y_pred)\n",
    "mse = mean_squared_error(y_test, y_pred)\n",
    "rmse = mse ** 0.5\n",
    "\n",
    "print(f'Mean Absolute Error (MAE): {mae}')\n",
    "print(f'Mean Squared Error (MSE): {mse}')\n",
    "print(f'Root Mean Squared Error (RMSE): {rmse}')"
   ]
  },
  {
   "cell_type": "code",
   "execution_count": null,
   "id": "d658dc3a-b0ef-4b83-9f5f-36f1f9cfa047",
   "metadata": {},
   "outputs": [],
   "source": [
    "# y_predict\n",
    "model.coef_"
   ]
  },
  {
   "cell_type": "code",
   "execution_count": null,
   "id": "004f28e6-5514-4a76-8a1b-c441e2d98305",
   "metadata": {},
   "outputs": [],
   "source": [
    "model.intercept_"
   ]
  },
  {
   "cell_type": "code",
   "execution_count": null,
   "id": "4d5f954c-cdc8-4ff6-973c-a285b3055b12",
   "metadata": {},
   "outputs": [],
   "source": [
    "import pandas as pd\n",
    "from sklearn.model_selection import train_test_split\n",
    "from sklearn.linear_model import LinearRegression\n",
    "from sklearn.metrics import mean_absolute_error, mean_squared_error\n",
    "from sklearn.preprocessing import OneHotEncoder\n",
    "from sklearn.compose import ColumnTransformer\n",
    "from sklearn.pipeline import Pipeline\n",
    "\n",
    "\n",
    "# Combine X_train and X_test for encoding\n",
    "X_combined = pd.concat([X_train, X_test], axis=0)\n",
    "y_combined = pd.concat([y_train, y_test], axis=0)\n",
    "\n",
    "# Step 2: Apply One-Hot Encoding\n",
    "preprocessor = ColumnTransformer(\n",
    "    transformers=[\n",
    "        ('onehot', OneHotEncoder(handle_unknown='ignore'), ['Район'])\n",
    "    ], remainder='passthrough')\n",
    "\n",
    "# Apply transformations\n",
    "X_combined_transformed = preprocessor.fit_transform(X_combined)\n",
    "\n",
    "# Step 3: Split the Data Back into Training and Test Sets\n",
    "# Determine the indices for splitting\n",
    "train_size = X_train.shape[0]\n",
    "X_train_transformed = X_combined_transformed[:train_size]\n",
    "X_test_transformed = X_combined_transformed[train_size:]\n",
    "\n",
    "# Step 4: Train and Evaluate the Model\n",
    "model = LinearRegression()\n",
    "\n",
    "# Train the model\n",
    "model.fit(X_train_transformed, y_train)\n",
    "\n",
    "# Make predictions\n",
    "y_pred = model.predict(X_test_transformed)\n",
    "\n",
    "# Evaluate the model\n",
    "mae = mean_absolute_error(y_test, y_pred)\n",
    "mse = mean_squared_error(y_test, y_pred)\n",
    "rmse = mse ** 0.5\n",
    "\n",
    "print(f'Mean Absolute Error (MAE): {mae}')\n",
    "print(f'Mean Squared Error (MSE): {mse}')\n",
    "print(f'Root Mean Squared Error (RMSE): {rmse}')"
   ]
  },
  {
   "cell_type": "code",
   "execution_count": null,
   "id": "f1a8ae9f-0b6f-4a08-8ab7-881d7414f102",
   "metadata": {},
   "outputs": [],
   "source": [
    "import pandas as pd\n",
    "import numpy as np\n",
    "from sklearn.linear_model import LinearRegression\n",
    "from sklearn.compose import ColumnTransformer\n",
    "from sklearn.preprocessing import OneHotEncoder\n",
    "from sklearn.pipeline import Pipeline\n",
    "from sklearn.model_selection import train_test_split\n",
    "\n",
    "# Prepare the data\n",
    "df_one_bed = second_df[['Район', 'Дата', 'Едностайни - €/кв.м', 'Едностайни - цена']].copy()\n",
    "df_one_bed['Year'] = df_one_bed['Дата'].dt.year\n",
    "df_one_bed['Month'] = df_one_bed['Дата'].dt.month\n",
    "df_one_bed.drop([\"Дата\"], axis=1, inplace=True)\n",
    "\n",
    "X = df_one_bed.drop([\"Едностайни - €/кв.м\"], axis=1)\n",
    "y = df_one_bed[\"Едностайни - €/кв.м\"]\n",
    "\n",
    "# Split the data\n",
    "X_train, X_test, y_train, y_test = train_test_split(X, y, test_size=0.2, random_state=42)\n",
    "\n",
    "# Define the preprocessor\n",
    "preprocessor = ColumnTransformer(\n",
    "    transformers=[\n",
    "        ('cat', OneHotEncoder(handle_unknown='ignore'), ['Район'])\n",
    "    ],\n",
    "    remainder='passthrough'\n",
    ")\n",
    "\n",
    "# Create the pipeline\n",
    "pipeline = Pipeline(steps=[\n",
    "    ('preprocessor', preprocessor),\n",
    "    ('model', LinearRegression())\n",
    "])\n",
    "\n",
    "# Fit the model\n",
    "pipeline.fit(X_train, y_train)\n",
    "\n",
    "# Extract the model and preprocessor\n",
    "model = pipeline.named_steps['model']\n",
    "preprocessor = pipeline.named_steps['preprocessor']\n",
    "\n",
    "# Get feature names from preprocessor\n",
    "feature_names = preprocessor.transformers_[0][1].get_feature_names_out()\n",
    "\n",
    "# Combine feature names with the numerical features\n",
    "numerical_features = X.columns.difference(['Район'])  # Get numerical feature names\n",
    "all_feature_names = np.concatenate([feature_names, numerical_features])\n",
    "\n",
    "# Ensure that the number of coefficients matches the number of feature names\n",
    "assert len(model.coef_) == len(all_feature_names), \"The number of coefficients does not match the number of feature names.\"\n",
    "\n",
    "# Create a DataFrame for feature importance\n",
    "feature_importance_df = pd.DataFrame({\n",
    "    'Feature': all_feature_names,\n",
    "    'Coefficient': model.coef_\n",
    "})\n",
    "\n",
    "# Print feature importance\n",
    "print(feature_importance_df)\n"
   ]
  },
  {
   "cell_type": "code",
   "execution_count": null,
   "id": "779dbd6a-d43e-4c35-921a-c4813b486f5a",
   "metadata": {},
   "outputs": [],
   "source": [
    "# from sklearn.metrics import make_scorer, mean_absolute_error\n",
    "# from sklearn.model_selection import cross_val_score\n",
    "\n",
    "# # Define scoring function (mean absolute error in this case)\n",
    "# scoring = make_scorer(mean_absolute_error)\n",
    "\n",
    "# # Perform cross-validation\n",
    "# scores = cross_val_score(pipeline, X, y, cv=5, scoring=scoring)\n",
    "\n",
    "# # Print the cross-validation results\n",
    "# print(f'Cross-Validation MAE Scores: {scores}')\n",
    "# print(f'Mean MAE: {scores.mean()}')\n",
    "# print(f'Standard Deviation of MAE: {scores.std()}')"
   ]
  },
  {
   "cell_type": "code",
   "execution_count": null,
   "id": "fb361793-1fb7-4669-81d0-0e9ad1df8c9c",
   "metadata": {},
   "outputs": [],
   "source": [
    "\n",
    "# # Preprocessor setup\n",
    "# preprocessor = ColumnTransformer(\n",
    "#     transformers=[\n",
    "#         ('num', StandardScaler(), ['Year', 'Month']),\n",
    "#         ('cat', OneHotEncoder(handle_unknown='ignore'), ['Район'])\n",
    "#     ])\n",
    "\n",
    "# # Create a pipeline with preprocessing and Random Forest model\n",
    "# pipeline = Pipeline(steps=[\n",
    "#     ('preprocessor', preprocessor),\n",
    "#     ('model', RandomForestRegressor(n_estimators=100, random_state=42))\n",
    "# ])\n",
    "\n",
    "# # Fit the model\n",
    "# pipeline.fit(X_train, y_train)\n",
    "\n",
    "# # Make predictions\n",
    "# y_pred = pipeline.predict(X_test)\n",
    "\n",
    "# # Evaluate the model\n",
    "# mae = mean_absolute_error(y_test, y_pred)\n",
    "# mse = mean_squared_error(y_test, y_pred)\n",
    "# rmse = np.sqrt(mse)\n",
    "\n",
    "# print(f'Mean Absolute Error (MAE): {mae}')\n",
    "# print(f'Mean Squared Error (MSE): {mse}')\n",
    "# print(f'Root Mean Squared Error (RMSE): {rmse}')"
   ]
  },
  {
   "cell_type": "code",
   "execution_count": null,
   "id": "b724fc92-d5a9-4f51-879a-04f70a10ac8c",
   "metadata": {},
   "outputs": [],
   "source": [
    "# second_df.info()"
   ]
  },
  {
   "cell_type": "code",
   "execution_count": 57,
   "id": "c7c8e41b-05a9-4ef7-be28-b5f628082f30",
   "metadata": {},
   "outputs": [],
   "source": [
    "# train_data = X_train.join(y_train)"
   ]
  },
  {
   "cell_type": "code",
   "execution_count": null,
   "id": "441ddf42-309e-48aa-a13a-f080e85a521d",
   "metadata": {},
   "outputs": [],
   "source": [
    "# train_data.hist(figsize=(15, 8))\n",
    "# plt.show()"
   ]
  },
  {
   "cell_type": "code",
   "execution_count": null,
   "id": "7e696011-1916-4af1-9cac-589e32e50ee3",
   "metadata": {},
   "outputs": [],
   "source": [
    "# train_data.corr()"
   ]
  },
  {
   "cell_type": "code",
   "execution_count": null,
   "id": "c64b5e41-9228-4af5-a37d-e8213e8a347d",
   "metadata": {},
   "outputs": [],
   "source": [
    "# plt.figure(figsize=(15,8))\n",
    "# sns.heatmap(train_data.corr(), annot=True, cmap=\"YlGnBu\")"
   ]
  },
  {
   "cell_type": "code",
   "execution_count": null,
   "id": "9acb4da7-4af5-40b7-b82c-e375143eea3b",
   "metadata": {},
   "outputs": [],
   "source": [
    "# np.log(train_data[\"Едностайни - цена\"] + 1)"
   ]
  },
  {
   "cell_type": "code",
   "execution_count": null,
   "id": "3e2b83a7-4c0a-4af6-ad1c-ec25629b5dd7",
   "metadata": {},
   "outputs": [],
   "source": [
    "# train_data['Район'].value_counts()"
   ]
  },
  {
   "cell_type": "code",
   "execution_count": null,
   "id": "987b364d-a4fd-4038-960c-fccd29b0c663",
   "metadata": {},
   "outputs": [],
   "source": [
    "# dummies = pd.get_dummies(train_data['Район']).astype(int)\n",
    "# dummies.astype(int)"
   ]
  },
  {
   "cell_type": "code",
   "execution_count": null,
   "id": "ea8d2416-2fde-48d7-8e73-be8c6178479e",
   "metadata": {},
   "outputs": [],
   "source": [
    "# train_data = train_data.join(pd.get_dummies(train_data['Район']).astype(int)).drop(['Район'], axis=1)"
   ]
  },
  {
   "cell_type": "code",
   "execution_count": null,
   "id": "148b700a-5550-4ac1-a9e9-fccab294786c",
   "metadata": {},
   "outputs": [],
   "source": [
    "# train_data"
   ]
  },
  {
   "cell_type": "code",
   "execution_count": null,
   "id": "7631f8f5-2ffd-4f3c-a9b4-4da72c7b623e",
   "metadata": {},
   "outputs": [],
   "source": [
    "# plt.figure(figsize=(15,8))\n",
    "# sns.heatmap(train_data.corr(), annot=True, cmap=\"YlGnBu\")"
   ]
  },
  {
   "cell_type": "code",
   "execution_count": null,
   "id": "058bfc7f-7ba0-467b-be38-fc4f9c7152c8",
   "metadata": {},
   "outputs": [],
   "source": [
    "# subset_columns = ['Едностайни - цена', 'Двустайни - цена', 'Тристайни - цена', 'Общо - €/кв.м']\n",
    "# plt.figure(figsize=(10,6))\n",
    "# sns.heatmap(train_data[subset_columns].corr(), annot=True, cmap=\"YlGnBu\")\n",
    "# plt.show()"
   ]
  },
  {
   "cell_type": "code",
   "execution_count": 219,
   "id": "e8564d45-00c2-4a9d-b6a5-ab18c8bf93ab",
   "metadata": {},
   "outputs": [],
   "source": [
    "# plt.figure(figsize=(15,8))\n",
    "# sns.scatterplot(x=\"Двустайни - цена\", y=\"Двустайни - €/кв.м\", data=train_data, hue=\"Двустайни - цена\" , palette=\"coolwarm\")"
   ]
  },
  {
   "cell_type": "code",
   "execution_count": 220,
   "id": "c4be4733-ef6a-4b2d-b6d2-9c756077980a",
   "metadata": {},
   "outputs": [],
   "source": [
    "# plt.figure(figsize=(15,8))\n",
    "# sns.scatterplot(x=\"Двустайни - цена\", y=\"Двустайни - €/кв.м\", data=train_data, hue=\"Дата\", palette=\"coolwarm\")\n",
    "# plt.show()"
   ]
  },
  {
   "cell_type": "code",
   "execution_count": 228,
   "id": "50bd7f8e-31d0-471b-80e4-928243771866",
   "metadata": {},
   "outputs": [
    {
     "data": {
      "text/html": [
       "<div>\n",
       "<style scoped>\n",
       "    .dataframe tbody tr th:only-of-type {\n",
       "        vertical-align: middle;\n",
       "    }\n",
       "\n",
       "    .dataframe tbody tr th {\n",
       "        vertical-align: top;\n",
       "    }\n",
       "\n",
       "    .dataframe thead th {\n",
       "        text-align: right;\n",
       "    }\n",
       "</style>\n",
       "<table border=\"1\" class=\"dataframe\">\n",
       "  <thead>\n",
       "    <tr style=\"text-align: right;\">\n",
       "      <th></th>\n",
       "      <th>Район</th>\n",
       "      <th>Цена</th>\n",
       "      <th>Цена / кв.м.</th>\n",
       "      <th>Валута</th>\n",
       "      <th>Тип Апартамент</th>\n",
       "      <th>Дата</th>\n",
       "      <th>Район_encoded</th>\n",
       "      <th>Тип Апартамент_encoded</th>\n",
       "    </tr>\n",
       "  </thead>\n",
       "  <tbody>\n",
       "    <tr>\n",
       "      <th>0</th>\n",
       "      <td>Банишора</td>\n",
       "      <td>110201.52</td>\n",
       "      <td>1710.14</td>\n",
       "      <td>EUR</td>\n",
       "      <td>Двустаен апартамент</td>\n",
       "      <td>2022-07-28</td>\n",
       "      <td>1</td>\n",
       "      <td>2</td>\n",
       "    </tr>\n",
       "    <tr>\n",
       "      <th>1</th>\n",
       "      <td>Белите Брези</td>\n",
       "      <td>148125.00</td>\n",
       "      <td>1949.01</td>\n",
       "      <td>EUR</td>\n",
       "      <td>Двустаен апартамент</td>\n",
       "      <td>2022-07-28</td>\n",
       "      <td>3</td>\n",
       "      <td>2</td>\n",
       "    </tr>\n",
       "    <tr>\n",
       "      <th>2</th>\n",
       "      <td>Борово</td>\n",
       "      <td>141912.50</td>\n",
       "      <td>2120.07</td>\n",
       "      <td>EUR</td>\n",
       "      <td>Двустаен апартамент</td>\n",
       "      <td>2022-07-28</td>\n",
       "      <td>5</td>\n",
       "      <td>2</td>\n",
       "    </tr>\n",
       "    <tr>\n",
       "      <th>3</th>\n",
       "      <td>Бояна</td>\n",
       "      <td>167608.23</td>\n",
       "      <td>1888.09</td>\n",
       "      <td>EUR</td>\n",
       "      <td>Двустаен апартамент</td>\n",
       "      <td>2022-07-28</td>\n",
       "      <td>6</td>\n",
       "      <td>2</td>\n",
       "    </tr>\n",
       "    <tr>\n",
       "      <th>4</th>\n",
       "      <td>Бъкстон</td>\n",
       "      <td>109764.43</td>\n",
       "      <td>1869.47</td>\n",
       "      <td>EUR</td>\n",
       "      <td>Двустаен апартамент</td>\n",
       "      <td>2022-07-28</td>\n",
       "      <td>7</td>\n",
       "      <td>2</td>\n",
       "    </tr>\n",
       "    <tr>\n",
       "      <th>...</th>\n",
       "      <td>...</td>\n",
       "      <td>...</td>\n",
       "      <td>...</td>\n",
       "      <td>...</td>\n",
       "      <td>...</td>\n",
       "      <td>...</td>\n",
       "      <td>...</td>\n",
       "      <td>...</td>\n",
       "    </tr>\n",
       "    <tr>\n",
       "      <th>949</th>\n",
       "      <td>Суха Река</td>\n",
       "      <td>303037.00</td>\n",
       "      <td>1864.02</td>\n",
       "      <td>EUR</td>\n",
       "      <td>Многостаен апартамемент</td>\n",
       "      <td>2024-07-28</td>\n",
       "      <td>86</td>\n",
       "      <td>4</td>\n",
       "    </tr>\n",
       "    <tr>\n",
       "      <th>950</th>\n",
       "      <td>Хаджи Димитър</td>\n",
       "      <td>331999.50</td>\n",
       "      <td>2049.38</td>\n",
       "      <td>EUR</td>\n",
       "      <td>Многостаен апартамемент</td>\n",
       "      <td>2024-07-28</td>\n",
       "      <td>92</td>\n",
       "      <td>4</td>\n",
       "    </tr>\n",
       "    <tr>\n",
       "      <th>951</th>\n",
       "      <td>Хиподрума</td>\n",
       "      <td>446333.00</td>\n",
       "      <td>1410.21</td>\n",
       "      <td>EUR</td>\n",
       "      <td>Многостаен апартамемент</td>\n",
       "      <td>2024-07-28</td>\n",
       "      <td>93</td>\n",
       "      <td>4</td>\n",
       "    </tr>\n",
       "    <tr>\n",
       "      <th>952</th>\n",
       "      <td>Хладилника</td>\n",
       "      <td>817960.00</td>\n",
       "      <td>2493.78</td>\n",
       "      <td>EUR</td>\n",
       "      <td>Многостаен апартамемент</td>\n",
       "      <td>2024-07-28</td>\n",
       "      <td>94</td>\n",
       "      <td>4</td>\n",
       "    </tr>\n",
       "    <tr>\n",
       "      <th>953</th>\n",
       "      <td>Център</td>\n",
       "      <td>599582.44</td>\n",
       "      <td>3194.50</td>\n",
       "      <td>EUR</td>\n",
       "      <td>Многостаен апартамемент</td>\n",
       "      <td>2024-07-28</td>\n",
       "      <td>96</td>\n",
       "      <td>4</td>\n",
       "    </tr>\n",
       "  </tbody>\n",
       "</table>\n",
       "<p>954 rows × 8 columns</p>\n",
       "</div>"
      ],
      "text/plain": [
       "             Район       Цена  Цена / кв.м. Валута           Тип Апартамент  \\\n",
       "0         Банишора  110201.52       1710.14    EUR      Двустаен апартамент   \n",
       "1     Белите Брези  148125.00       1949.01    EUR      Двустаен апартамент   \n",
       "2           Борово  141912.50       2120.07    EUR      Двустаен апартамент   \n",
       "3            Бояна  167608.23       1888.09    EUR      Двустаен апартамент   \n",
       "4          Бъкстон  109764.43       1869.47    EUR      Двустаен апартамент   \n",
       "..             ...        ...           ...    ...                      ...   \n",
       "949      Суха Река  303037.00       1864.02    EUR  Многостаен апартамемент   \n",
       "950  Хаджи Димитър  331999.50       2049.38    EUR  Многостаен апартамемент   \n",
       "951      Хиподрума  446333.00       1410.21    EUR  Многостаен апартамемент   \n",
       "952     Хладилника  817960.00       2493.78    EUR  Многостаен апартамемент   \n",
       "953         Център  599582.44       3194.50    EUR  Многостаен апартамемент   \n",
       "\n",
       "           Дата  Район_encoded  Тип Апартамент_encoded  \n",
       "0    2022-07-28              1                       2  \n",
       "1    2022-07-28              3                       2  \n",
       "2    2022-07-28              5                       2  \n",
       "3    2022-07-28              6                       2  \n",
       "4    2022-07-28              7                       2  \n",
       "..          ...            ...                     ...  \n",
       "949  2024-07-28             86                       4  \n",
       "950  2024-07-28             92                       4  \n",
       "951  2024-07-28             93                       4  \n",
       "952  2024-07-28             94                       4  \n",
       "953  2024-07-28             96                       4  \n",
       "\n",
       "[954 rows x 8 columns]"
      ]
     },
     "execution_count": 228,
     "metadata": {},
     "output_type": "execute_result"
    }
   ],
   "source": [
    "combined_df"
   ]
  },
  {
   "cell_type": "code",
   "execution_count": 250,
   "id": "a427374b-5109-4af4-9fa5-7c89b244d74b",
   "metadata": {},
   "outputs": [],
   "source": [
    "x = combined_df['Район_encoded']\n",
    "y = combined_df['Цена / кв.м.']"
   ]
  },
  {
   "cell_type": "code",
   "execution_count": 247,
   "id": "6e8532f9-9de1-4c98-b002-366e1266accf",
   "metadata": {},
   "outputs": [
    {
     "data": {
      "text/html": [
       "<div>\n",
       "<style scoped>\n",
       "    .dataframe tbody tr th:only-of-type {\n",
       "        vertical-align: middle;\n",
       "    }\n",
       "\n",
       "    .dataframe tbody tr th {\n",
       "        vertical-align: top;\n",
       "    }\n",
       "\n",
       "    .dataframe thead th {\n",
       "        text-align: right;\n",
       "    }\n",
       "</style>\n",
       "<table border=\"1\" class=\"dataframe\">\n",
       "  <thead>\n",
       "    <tr style=\"text-align: right;\">\n",
       "      <th></th>\n",
       "      <th>Район</th>\n",
       "      <th>Цена</th>\n",
       "      <th>Цена / кв.м.</th>\n",
       "      <th>Валута</th>\n",
       "      <th>Тип Апартамент</th>\n",
       "      <th>Дата</th>\n",
       "      <th>Район_encoded</th>\n",
       "      <th>Тип Апартамент_encoded</th>\n",
       "    </tr>\n",
       "  </thead>\n",
       "  <tbody>\n",
       "  </tbody>\n",
       "</table>\n",
       "</div>"
      ],
      "text/plain": [
       "Empty DataFrame\n",
       "Columns: [Район, Цена, Цена / кв.м., Валута, Тип Апартамент, Дата, Район_encoded, Тип Апартамент_encoded]\n",
       "Index: []"
      ]
     },
     "execution_count": 247,
     "metadata": {},
     "output_type": "execute_result"
    }
   ],
   "source": [
    "combined_df[combined_df['Цена / кв.м.'] > 4000]"
   ]
  },
  {
   "cell_type": "code",
   "execution_count": 251,
   "id": "6e85a95e-43c8-49ec-bbc2-2a165529d99d",
   "metadata": {},
   "outputs": [
    {
     "data": {
      "text/plain": [
       "[<matplotlib.lines.Line2D at 0x298ae535bd0>]"
      ]
     },
     "execution_count": 251,
     "metadata": {},
     "output_type": "execute_result"
    },
    {
     "data": {
      "image/png": "[encoded data removed]",
      "text/plain": [
       "<Figure size 640x480 with 1 Axes>"
      ]
     },
     "metadata": {},
     "output_type": "display_data"
    }
   ],
   "source": [
    "plt.plot(x, y)"
   ]
  },
  {
   "cell_type": "code",
   "execution_count": 243,
   "id": "4812aa41-061c-4612-bacc-9906cb63ee75",
   "metadata": {},
   "outputs": [
    {
     "name": "stdout",
     "output_type": "stream",
     "text": [
      "          Район      Цена  Цена / кв.м. Валута       Тип Апартамент  \\\n",
      "0      Банишора -0.516367     -0.212527    EUR  Двустаен апартамент   \n",
      "1  Белите Брези -0.375873      0.169252    EUR  Двустаен апартамент   \n",
      "2        Борово -0.398888      0.442652    EUR  Двустаен апартамент   \n",
      "3         Бояна -0.303694      0.071885    EUR  Двустаен апартамент   \n",
      "4       Бъкстон -0.517987      0.042126    EUR  Двустаен апартамент   \n",
      "\n",
      "         Дата  Район_encoded  Тип Апартамент_encoded  \n",
      "0  2022-07-28              1                       2  \n",
      "1  2022-07-28              3                       2  \n",
      "2  2022-07-28              5                       2  \n",
      "3  2022-07-28              6                       2  \n",
      "4  2022-07-28              7                       2  \n"
     ]
    }
   ],
   "source": [
    "from sklearn.preprocessing import StandardScaler\n",
    "\n",
    "# Selecting the numerical columns to normalize\n",
    "numerical_cols = ['Цена', 'Цена / кв.м.']\n",
    "\n",
    "# Initializing the StandardScaler\n",
    "scaler = StandardScaler()\n",
    "\n",
    "# Fitting and transforming the data\n",
    "combined_df[numerical_cols] = scaler.fit_transform(combined_df[numerical_cols])\n",
    "\n",
    "# Displaying the normalized data\n",
    "print(combined_df.head())\n"
   ]
  }
 ],
 "metadata": {
  "kernelspec": {
   "display_name": "Python 3 (ipykernel)",
   "language": "python",
   "name": "python3"
  },
  "language_info": {
   "codemirror_mode": {
    "name": "ipython",
    "version": 3
   },
   "file_extension": ".py",
   "mimetype": "text/x-python",
   "name": "python",
   "nbconvert_exporter": "python",
   "pygments_lexer": "ipython3",
   "version": "3.11.7"
  }
 },
 "nbformat": 4,
 "nbformat_minor": 5
}
