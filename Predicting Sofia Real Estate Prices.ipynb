{
 "cells": [
  {
   "cell_type": "code",
   "execution_count": 1,
   "id": "1ce81a14-6140-416c-bb9f-ea382a99795b",
   "metadata": {},
   "outputs": [],
   "source": [
    "%matplotlib inline"
   ]
  },
  {
   "cell_type": "code",
   "execution_count": 115,
   "id": "cf4880ef-300d-45e7-9d43-1bad806376d6",
   "metadata": {},
   "outputs": [],
   "source": [
    "import numpy as np\n",
    "import pandas as pd\n",
    "import matplotlib.pyplot as plt\n",
    "# plt.rcParams[\"figure.figsize\"] = (20, 10)\n",
    "import seaborn as sns\n",
    "\n",
    "from sklearn.model_selection import train_test_split\n",
    "from sklearn.preprocessing import StandardScaler, OneHotEncoder\n",
    "from sklearn.compose import ColumnTransformer\n",
    "from sklearn.pipeline import Pipeline\n",
    "from sklearn.ensemble import RandomForestRegressor\n",
    "from sklearn.metrics import mean_squared_error, mean_absolute_error, r2_score\n",
    "\n",
    "from sklearn.preprocessing import LabelEncoder"
   ]
  },
  {
   "cell_type": "markdown",
   "id": "585a3bb3-164e-46a0-94db-00ec203dd5d6",
   "metadata": {},
   "source": [
    "# Predicting Sofia real estate prices\n",
    "\n",
    "The project is focused on predicting real estate prices in Sofia, Bulgaria. With the growing interest in the real estate market and increasing complexity of property values, our goal is to leverage historical data to forecast future prices. Understanding and predicting real estate prices can provide valuable insights for buyers, sellers, investors, and policymakers.\n",
    "\n",
    "The real estate market in Sofia, Bulgaria, is constantly changing. Understanding how property prices are influenced and predicting future values is important for everyone involved in buying, selling, or investing in real estate. This project aims to forecast property prices in Sofia using historical data to help people make better decisions in the real estate market.\n",
    "\n",
    "By analyzing past transactions and key factors that affect property values—such as location, size, and property features—we will develop a model to predict future prices. My goal is to provide clear, accurate predictions that can guide buyers, sellers, and investors in making informed choices.\n",
    "\n",
    "This project is a significant step towards improving my understanding of Sofia’s real estate market. With the help of data-driven insights, I hope to make it easier for people to navigate the complexities of property pricing and find valuable opportunities in the market."
   ]
  },
  {
   "cell_type": "markdown",
   "id": "80c8784c-bd5f-4503-9acb-73139224219f",
   "metadata": {},
   "source": [
    "### The goals of the project:\n",
    "- To understand the key drivers of real estate prices in Sofia.\n",
    "- To build and evaluate a machine learning model that can predict property prices.\n",
    "\n",
    "### Why this problem is important?\n",
    "\n",
    "__1. Importance for Investors__: <br/>\n",
    "- Maximizing Returns: Real estate is one of the most significant and stable forms of investment. Investors rely on accurate price predictions to identify undervalued properties, time their purchases, and decide on the most profitable resale opportunities. By predicting future prices, investors can optimize their portfolios, maximize returns, and mitigate risks.\n",
    "- Market Timing: For investors, knowing when to buy or sell is crucial. Accurate price predictions can help investors time the market effectively, allowing them to buy properties before prices increase and sell before a downturn. This timing can significantly affect the profitability of real estate investments.\n",
    "- Diversification and Risk Management: Understanding price trends in different neighborhoods or property types allows investors to diversify their portfolios. They can spread their investments across various segments of the market, reducing the risk of exposure to price volatility in any single area.\n",
    "\n",
    "__2. Importance for Homebuyers:__ <br/>\n",
    "- Affordability and Budgeting: For most people, buying a home is the largest financial commitment they will make in their lifetime. Predicting future prices helps homebuyers understand market trends, ensuring they purchase at the right time to get the best value for their money. It also helps them budget accurately for future financial planning, such as mortgage payments and maintenance costs.\n",
    "- Avoiding Overpayment: Accurate predictions can prevent homebuyers from overpaying in a competitive market. By understanding the fair value of properties, buyers can make informed decisions, avoid bidding wars, and negotiate better deals.\n",
    "- Long-term Financial Planning: Homebuyers need to consider the long-term value of their investment. Predictions about property prices can guide them in choosing neighborhoods with strong potential for appreciation, ensuring that their home not only meets their immediate needs but also grows in value over time.\n",
    "\n",
    "__3. Importance for Urban Planners and Policy Makers:__ <br/>\n",
    "- Sustainable Urban Development: Urban planners rely on real estate price predictions to make informed decisions about zoning, infrastructure development, and public services. By understanding where prices are likely to rise, planners can allocate resources efficiently, ensuring sustainable growth and avoiding overdevelopment or underdevelopment in specific areas.\n",
    "- Economic Policy and Housing Affordability: Accurate price predictions are crucial for developing policies that address housing affordability and social equity. Policymakers can use these predictions to implement measures such as affordable housing initiatives, rent controls, and tax incentives to stabilize markets and prevent housing bubbles.\n",
    "- Infrastructure Planning: Understanding future real estate trends helps in planning for infrastructure needs, such as transportation, schools, and healthcare facilities. By anticipating areas of growth, urban planners can ensure that necessary services are in place to support population increases, thereby enhancing the quality of life for residents.\n",
    "\n",
    "__4. Importance for the Broader Economy:__ <br/>\n",
    "- Economic Stability: The real estate market is a significant component of the economy. Price fluctuations can impact consumer spending, banking stability, and overall economic health. Accurate predictions help prevent housing market bubbles, which, if left unchecked, could lead to economic recessions, as seen in the 2008 financial crisis (Global Financial Crisis (GFC) ).\n",
    "- Employment and Industry Growth: The construction, finance, and retail sectors are closely tied to the real estate market. Predicting price trends allows businesses in these industries to plan for demand, hire appropriately, and make investments in their operations, contributing to overall economic growth.\n",
    "\n",
    "In summary, real estate price prediction is a critical tool for a wide range of stakeholders. It empowers investors to maximize returns, enables homebuyers to make informed decisions, assists urban planners in managing growth sustainably, and supports policymakers in maintaining economic stability. Accurate predictions contribute to the health and efficiency of the real estate market and, by extension, the broader economy."
   ]
  },
  {
   "cell_type": "markdown",
   "id": "5e84b762-64cf-4660-8957-910197f24b39",
   "metadata": {},
   "source": [
    "## Description of Datasets:\n",
    "The websites that I used: __https://www.imoti.net/bg__  and __https://www.imot.bg/__ .\n",
    "\n",
    "\n",
    "### Dataset 1: Historical Real Estate Prices from imoti.net\n",
    "Description: This dataset provides historical real estate price data from imoti.net, including the following details:\n",
    "\n",
    "- Location: The area or district where the property is located.\n",
    "- Total Price (EUR): The overall cost of the property.\n",
    "- Price per Square Meter (EUR/m²): The cost per square meter of the property.\n",
    "- Property Type: The type of property (e.g., apartment, house, commercial).\n",
    "- Date: The date when the price data was recorded.\n",
    "\n",
    "### Dataset 2: Historical Real Estate Prices from imot.bg\n",
    "Description: This dataset contains historical real estate price data from imot.bg, including the following details:\n",
    "\n",
    "- Location: The specific area or district in Sofia, Bulgaria.\n",
    "- One-Bedroom Apartments:\n",
    "    - Total Price (EUR)\n",
    "    - Price per Square Meter (EUR/m²)\n",
    "- Two-Bedroom Apartments:\n",
    "    - Total Price (EUR)\n",
    "    - Price per Square Meter (EUR/m²)\n",
    "- Three-Bedroom Apartments:\n",
    "    - Total Price (EUR)\n",
    "    - Price per Square Meter (EUR/m²)\n",
    "- Date: The date when the data was recorded, indicating the time frame for each entry.\n"
   ]
  },
  {
   "cell_type": "markdown",
   "id": "1d83d6e6-b4ca-4fc0-8621-c588c3be8c73",
   "metadata": {},
   "source": [
    "# Let's prepear the model and train it:"
   ]
  },
  {
   "cell_type": "markdown",
   "id": "33446945-c524-4595-8ae3-dfe266b9ecd3",
   "metadata": {},
   "source": [
    "Extract date features:"
   ]
  },
  {
   "cell_type": "code",
   "execution_count": 36,
   "id": "dd2ffe67-5afb-478d-a24e-e79c226c5a36",
   "metadata": {},
   "outputs": [],
   "source": [
    "# combined_df['Year'] = combined_df['Дата'].dt.year\n",
    "# combined_df['Month'] = combined_df['Дата'].dt.month\n",
    "# combined_df['Day'] = combined_df['Дата'].dt.day"
   ]
  },
  {
   "cell_type": "code",
   "execution_count": 37,
   "id": "1d27f863-0277-4cf7-8134-9f9425d2b75a",
   "metadata": {},
   "outputs": [],
   "source": [
    "# combined_df['Year']"
   ]
  },
  {
   "cell_type": "markdown",
   "id": "ed49095e-0dde-4cc5-97e5-f73ddde2ceb8",
   "metadata": {},
   "source": [
    "Drop the original 'Дата' column:"
   ]
  },
  {
   "cell_type": "code",
   "execution_count": 38,
   "id": "0d57ace3-5d9b-41a8-ba2a-41947751ea4d",
   "metadata": {},
   "outputs": [],
   "source": [
    "# combined_df = combined_df.drop(columns=['Дата'])"
   ]
  },
  {
   "cell_type": "markdown",
   "id": "337cbfff-4cab-44cd-a60a-380ec3819c2c",
   "metadata": {},
   "source": [
    "Define features and target:"
   ]
  },
  {
   "cell_type": "code",
   "execution_count": 39,
   "id": "2a6f8473-6fce-4b20-96f5-1163f9e49204",
   "metadata": {},
   "outputs": [],
   "source": [
    "# features = ['Район', 'Тип Апартамент', 'Year', 'Month', 'Day']\n",
    "# target = 'Цена'\n",
    "\n",
    "# X = combined_df[features]\n",
    "# y = combined_df[target]"
   ]
  },
  {
   "cell_type": "markdown",
   "id": "c1aca530-c7a7-4ba0-86d3-b91d85712b87",
   "metadata": {},
   "source": [
    "Encode categorical variables:"
   ]
  },
  {
   "cell_type": "code",
   "execution_count": 40,
   "id": "75d18cdc-a8ef-45aa-b69b-95df340b8c02",
   "metadata": {},
   "outputs": [],
   "source": [
    "# preprocessor = ColumnTransformer(\n",
    "#     transformers=[\n",
    "#         ('num', StandardScaler(), ['Year', 'Month', 'Day']),\n",
    "#         ('cat', OneHotEncoder(), ['Район','Тип Апартамент'])\n",
    "#     ])"
   ]
  },
  {
   "cell_type": "markdown",
   "id": "92b892fb-f5e7-4703-a212-6b30f53b7f8b",
   "metadata": {},
   "source": [
    "Create a pipeline with preprocessing and regression:"
   ]
  },
  {
   "cell_type": "code",
   "execution_count": 41,
   "id": "91f43824-a0d4-4083-892c-454dbef2cd65",
   "metadata": {},
   "outputs": [],
   "source": [
    "# model = Pipeline(steps=[\n",
    "#     ('preprocessor', preprocessor),\n",
    "#     ('regressor', RandomForestRegressor(n_estimators=100, random_state=42))\n",
    "# ])"
   ]
  },
  {
   "cell_type": "markdown",
   "id": "1f0fb13c-8452-4828-8b76-b87a0dc222a9",
   "metadata": {},
   "source": [
    "Split the data into training and testing sets:"
   ]
  },
  {
   "cell_type": "code",
   "execution_count": 42,
   "id": "cc8806ef-6975-43f6-934a-3457ee119320",
   "metadata": {},
   "outputs": [],
   "source": [
    "# X_train, X_test, y_train, y_test = train_test_split(X, y, test_size=0.2, random_state=42)"
   ]
  },
  {
   "cell_type": "markdown",
   "id": "55c137a8-09fc-48cc-a905-dbc406bb279d",
   "metadata": {},
   "source": [
    "Train the model:"
   ]
  },
  {
   "cell_type": "code",
   "execution_count": 43,
   "id": "54202afa-425d-40b9-b5a0-42829f443f95",
   "metadata": {},
   "outputs": [],
   "source": [
    "# model.fit(X_train, y_train)"
   ]
  },
  {
   "cell_type": "code",
   "execution_count": 44,
   "id": "fd85c2e1-4479-4122-9856-291d2850e541",
   "metadata": {},
   "outputs": [],
   "source": [
    "# # Make predictions and evaluate\n",
    "# y_pred = model.predict(X_test)\n",
    "# mse = mean_squared_error(y_test, y_pred)\n",
    "# print(f\"Mean Squared Error: {mse:.2f}\")"
   ]
  },
  {
   "cell_type": "code",
   "execution_count": 45,
   "id": "6a4a7ebc-e53f-4ff6-8dee-caa7270fc764",
   "metadata": {},
   "outputs": [],
   "source": [
    "# # Calculate RMSE\n",
    "# rmse = np.sqrt(mse)\n",
    "# print(f\"Root Mean Squared Error: {rmse:.2f}\")"
   ]
  },
  {
   "cell_type": "code",
   "execution_count": 46,
   "id": "87f130c3-bf79-4dc9-89d1-2f5aa24e9650",
   "metadata": {},
   "outputs": [],
   "source": [
    "# # Assuming average price for calculation\n",
    "# average_price = combined_df['Цена'].mean()\n",
    "# percentage_rmse = (rmse / average_price) * 100\n",
    "# print(f\"RMSE as a percentage of the average price: {percentage_rmse:.2f}%\")"
   ]
  },
  {
   "cell_type": "code",
   "execution_count": 47,
   "id": "73e186d6-e372-4978-bf8e-5d87624420d2",
   "metadata": {},
   "outputs": [],
   "source": [
    "# historical_min = combined_df['Цена'].min()\n",
    "# historical_max = combined_df['Цена'].max()\n",
    "# print(f\"Historical Price Range: {historical_min} to {historical_max}\")"
   ]
  },
  {
   "cell_type": "code",
   "execution_count": 48,
   "id": "226af629-8fb3-4ec6-b986-411a1c53b9f6",
   "metadata": {},
   "outputs": [],
   "source": [
    "# combined_df['Цена']"
   ]
  },
  {
   "cell_type": "code",
   "execution_count": 49,
   "id": "3c240b03-85cc-4535-96a2-ef0ef2613629",
   "metadata": {},
   "outputs": [],
   "source": [
    "# rows_with_min_price = combined_df[combined_df['Цена'] == historical_min]"
   ]
  },
  {
   "cell_type": "code",
   "execution_count": 50,
   "id": "5d96a2ac-e535-4f49-9c94-b3b34722a599",
   "metadata": {},
   "outputs": [],
   "source": [
    "# rows_with_min_price"
   ]
  },
  {
   "cell_type": "markdown",
   "id": "ac7d38ca-13c6-460b-861e-8b1b25b0168e",
   "metadata": {},
   "source": [
    "## Test and predict prices:"
   ]
  },
  {
   "cell_type": "code",
   "execution_count": 51,
   "id": "8b6a4f1a-5b32-4bb0-8306-36de73b013e0",
   "metadata": {},
   "outputs": [],
   "source": [
    "# Example of predicting future prices\n",
    "# future_data = pd.DataFrame({\n",
    "#     'Район': ['Център'],\n",
    "#     # 'Цена / кв.м.': [3000],\n",
    "#     # 'Валута': ['EUR'],\n",
    "#     'Тип Апартамент': ['Многостаен апартамемент'],\n",
    "#     'Year': [2025],\n",
    "#     'Month': [8],\n",
    "#     'Day': [13]\n",
    "# })\n",
    "\n",
    "# future_pred = model.predict(future_data)\n",
    "# print(f\"Predicted Future Price: {future_pred[0]:.2f}€\")"
   ]
  },
  {
   "cell_type": "code",
   "execution_count": 52,
   "id": "70c85065-d2d8-4c6a-88e3-46cbccb47a64",
   "metadata": {},
   "outputs": [],
   "source": [
    "# print(f\"Future Data Input:\\n{future_data}\")"
   ]
  },
  {
   "cell_type": "code",
   "execution_count": 53,
   "id": "f3e71d04-1646-49ba-a26e-5481c34a3416",
   "metadata": {},
   "outputs": [],
   "source": [
    "# # Example of predicting future prices\n",
    "# future_data = pd.DataFrame({\n",
    "#     'Район': ['Банишора'],\n",
    "#     # 'Цена / кв.м.': [3000],\n",
    "#     # 'Валута': ['EUR'],\n",
    "#     'Тип Апартамент': ['Многостаен апартамемент'],\n",
    "#     'Year': [2024],\n",
    "#     'Month': [12],\n",
    "#     'Day': [13]\n",
    "# })\n",
    "\n",
    "# future_pred = model.predict(future_data)\n",
    "# print(f\"Predicted Future Price: {future_pred[0]:.2f}€\")"
   ]
  },
  {
   "cell_type": "markdown",
   "id": "dc80f9d1-718b-4008-8e81-5f6c7ffa4031",
   "metadata": {},
   "source": [
    "## Regression Model:"
   ]
  },
  {
   "cell_type": "markdown",
   "id": "09725d40-7dc4-499a-adde-b008d87bbf41",
   "metadata": {},
   "source": [
    "### Print model performance"
   ]
  },
  {
   "cell_type": "markdown",
   "id": "163ff9a3-d040-4186-b8db-ffe72f9a246c",
   "metadata": {},
   "source": [
    "### Prediction results"
   ]
  },
  {
   "cell_type": "code",
   "execution_count": 72,
   "id": "b7cbfaaf-057e-4104-bc63-b66a0cdd4bee",
   "metadata": {},
   "outputs": [
    {
     "data": {
      "text/plain": [
       "Text(0.5, 1.0, 'Evaluation of the model')"
      ]
     },
     "execution_count": 72,
     "metadata": {},
     "output_type": "execute_result"
    },
    {
     "data": {
      "image/png": "[encoded data removed]",
      "text/plain": [
       "<Figure size 432x288 with 1 Axes>"
      ]
     },
     "metadata": {
      "needs_background": "light"
     },
     "output_type": "display_data"
    }
   ],
   "source": [
    "sns.scatterplot(x=predictions, y=y_test)\n",
    "plt.xlabel(\"Predictions\")\n",
    "plt.title(\"Evaluation of the model\")"
   ]
  },
  {
   "cell_type": "code",
   "execution_count": 73,
   "id": "da1e353e-294b-4993-8e55-2788499ce686",
   "metadata": {},
   "outputs": [
    {
     "data": {
      "text/plain": [
       "<seaborn.axisgrid.FacetGrid at 0x1e7f2d11070>"
      ]
     },
     "execution_count": 73,
     "metadata": {},
     "output_type": "execute_result"
    },
    {
     "data": {
      "image/png": "[encoded data removed]",
      "text/plain": [
       "<Figure size 360x360 with 1 Axes>"
      ]
     },
     "metadata": {
      "needs_background": "light"
     },
     "output_type": "display_data"
    }
   ],
   "source": [
    "label_encoder_reg = LabelEncoder()\n",
    "combined_df['Район'] = label_encoder_reg.fit_transform(combined_df['Район'])\n",
    "\n",
    "sns.lmplot(x='Цена / кв.м.', y='Цена', data=combined_df, scatter_kws={'alpha': 0.3})"
   ]
  },
  {
   "cell_type": "markdown",
   "id": "e17bf66a-4a63-45b9-a00d-a830f8cc4616",
   "metadata": {},
   "source": [
    "## Residuals"
   ]
  },
  {
   "cell_type": "code",
   "execution_count": 74,
   "id": "9afec9eb-24d3-4c91-96ea-e411a0374733",
   "metadata": {},
   "outputs": [],
   "source": [
    "residuals = y_test - predictions"
   ]
  },
  {
   "cell_type": "code",
   "execution_count": 75,
   "id": "bc93a06b-653a-4497-a02e-821f14d95bac",
   "metadata": {},
   "outputs": [],
   "source": [
    "# sns.displot(residuals)"
   ]
  },
  {
   "cell_type": "code",
   "execution_count": 78,
   "id": "44cd7182-6207-4372-b25d-18465bf2af45",
   "metadata": {},
   "outputs": [
    {
     "data": {
      "text/plain": [
       "0.3261762030034816"
      ]
     },
     "execution_count": 78,
     "metadata": {},
     "output_type": "execute_result"
    }
   ],
   "source": [
    "r2_score(y_test, y_pred)"
   ]
  },
  {
   "cell_type": "code",
   "execution_count": 80,
   "id": "bfd3145e-67bb-41aa-ac90-e78fe50cb4a2",
   "metadata": {},
   "outputs": [
    {
     "data": {
      "text/plain": [
       "<AxesSubplot:xlabel='Цена / кв.м.'>"
      ]
     },
     "execution_count": 80,
     "metadata": {},
     "output_type": "execute_result"
    },
    {
     "data": {
      "image/png": "[encoded data removed]",
      "text/plain": [
       "<Figure size 432x288 with 1 Axes>"
      ]
     },
     "metadata": {
      "needs_background": "light"
     },
     "output_type": "display_data"
    }
   ],
   "source": [
    "sns.scatterplot(x=y_test, y=y_pred)"
   ]
  },
  {
   "cell_type": "markdown",
   "id": "2d78cbdb-5fd5-49e7-ba2e-4509845559a8",
   "metadata": {},
   "source": [
    "## Train model for second_df"
   ]
  },
  {
   "cell_type": "code",
   "execution_count": 81,
   "id": "fdf7163c-80b4-4365-a76b-c94bd2608174",
   "metadata": {},
   "outputs": [
    {
     "data": {
      "text/html": [
       "<div>\n",
       "<style scoped>\n",
       "    .dataframe tbody tr th:only-of-type {\n",
       "        vertical-align: middle;\n",
       "    }\n",
       "\n",
       "    .dataframe tbody tr th {\n",
       "        vertical-align: top;\n",
       "    }\n",
       "\n",
       "    .dataframe thead th {\n",
       "        text-align: right;\n",
       "    }\n",
       "</style>\n",
       "<table border=\"1\" class=\"dataframe\">\n",
       "  <thead>\n",
       "    <tr style=\"text-align: right;\">\n",
       "      <th></th>\n",
       "      <th>Район</th>\n",
       "      <th>Едностайни - цена</th>\n",
       "      <th>Едностайни - €/кв.м</th>\n",
       "      <th>Двустайни - цена</th>\n",
       "      <th>Двустайни - €/кв.м</th>\n",
       "      <th>Тристайни - цена</th>\n",
       "      <th>Тристайни - €/кв.м</th>\n",
       "      <th>Общо - €/кв.м</th>\n",
       "      <th>Дата</th>\n",
       "    </tr>\n",
       "  </thead>\n",
       "  <tbody>\n",
       "    <tr>\n",
       "      <th>0</th>\n",
       "      <td>7-ми 11-ти километър</td>\n",
       "      <td>56094.0</td>\n",
       "      <td>1242.0</td>\n",
       "      <td>145502.0</td>\n",
       "      <td>1675.0</td>\n",
       "      <td>189050.0</td>\n",
       "      <td>1756.0</td>\n",
       "      <td>1745</td>\n",
       "      <td>2024-08-13</td>\n",
       "    </tr>\n",
       "    <tr>\n",
       "      <th>1</th>\n",
       "      <td>Банишора</td>\n",
       "      <td>49138.0</td>\n",
       "      <td>1134.0</td>\n",
       "      <td>104500.0</td>\n",
       "      <td>1691.0</td>\n",
       "      <td>142310.0</td>\n",
       "      <td>1503.0</td>\n",
       "      <td>1611</td>\n",
       "      <td>2024-08-13</td>\n",
       "    </tr>\n",
       "    <tr>\n",
       "      <th>2</th>\n",
       "      <td>Белите брези</td>\n",
       "      <td>38000.0</td>\n",
       "      <td>826.0</td>\n",
       "      <td>82365.0</td>\n",
       "      <td>1157.0</td>\n",
       "      <td>115805.0</td>\n",
       "      <td>1085.0</td>\n",
       "      <td>1157</td>\n",
       "      <td>2024-08-13</td>\n",
       "    </tr>\n",
       "    <tr>\n",
       "      <th>3</th>\n",
       "      <td>Бенковски</td>\n",
       "      <td>56094.0</td>\n",
       "      <td>1242.0</td>\n",
       "      <td>85262.0</td>\n",
       "      <td>1511.0</td>\n",
       "      <td>118750.0</td>\n",
       "      <td>1250.0</td>\n",
       "      <td>1351</td>\n",
       "      <td>2024-08-13</td>\n",
       "    </tr>\n",
       "    <tr>\n",
       "      <th>4</th>\n",
       "      <td>Борово</td>\n",
       "      <td>49400.0</td>\n",
       "      <td>1045.0</td>\n",
       "      <td>89774.0</td>\n",
       "      <td>1222.0</td>\n",
       "      <td>138890.0</td>\n",
       "      <td>1426.0</td>\n",
       "      <td>1232</td>\n",
       "      <td>2024-08-13</td>\n",
       "    </tr>\n",
       "    <tr>\n",
       "      <th>...</th>\n",
       "      <td>...</td>\n",
       "      <td>...</td>\n",
       "      <td>...</td>\n",
       "      <td>...</td>\n",
       "      <td>...</td>\n",
       "      <td>...</td>\n",
       "      <td>...</td>\n",
       "      <td>...</td>\n",
       "      <td>...</td>\n",
       "    </tr>\n",
       "    <tr>\n",
       "      <th>1745</th>\n",
       "      <td>с. Лозен</td>\n",
       "      <td>41956.0</td>\n",
       "      <td>762.0</td>\n",
       "      <td>53018.0</td>\n",
       "      <td>762.0</td>\n",
       "      <td>89849.0</td>\n",
       "      <td>834.0</td>\n",
       "      <td>762</td>\n",
       "      <td>2022-01-11</td>\n",
       "    </tr>\n",
       "    <tr>\n",
       "      <th>1746</th>\n",
       "      <td>с. Мировяне</td>\n",
       "      <td>56094.0</td>\n",
       "      <td>1242.0</td>\n",
       "      <td>47500.0</td>\n",
       "      <td>863.0</td>\n",
       "      <td>145103.0</td>\n",
       "      <td>1383.0</td>\n",
       "      <td>863</td>\n",
       "      <td>2022-01-11</td>\n",
       "    </tr>\n",
       "    <tr>\n",
       "      <th>1747</th>\n",
       "      <td>с. Мърчаево</td>\n",
       "      <td>56094.0</td>\n",
       "      <td>1242.0</td>\n",
       "      <td>26600.0</td>\n",
       "      <td>266.0</td>\n",
       "      <td>35862.0</td>\n",
       "      <td>297.0</td>\n",
       "      <td>297</td>\n",
       "      <td>2022-01-11</td>\n",
       "    </tr>\n",
       "    <tr>\n",
       "      <th>1748</th>\n",
       "      <td>с. Панчарево</td>\n",
       "      <td>56094.0</td>\n",
       "      <td>1242.0</td>\n",
       "      <td>76660.0</td>\n",
       "      <td>963.0</td>\n",
       "      <td>131779.0</td>\n",
       "      <td>1132.0</td>\n",
       "      <td>1173</td>\n",
       "      <td>2022-01-11</td>\n",
       "    </tr>\n",
       "    <tr>\n",
       "      <th>1749</th>\n",
       "      <td>с. Световрачене</td>\n",
       "      <td>37050.0</td>\n",
       "      <td>771.0</td>\n",
       "      <td>49400.0</td>\n",
       "      <td>771.0</td>\n",
       "      <td>145103.0</td>\n",
       "      <td>1383.0</td>\n",
       "      <td>771</td>\n",
       "      <td>2022-01-11</td>\n",
       "    </tr>\n",
       "  </tbody>\n",
       "</table>\n",
       "<p>1750 rows × 9 columns</p>\n",
       "</div>"
      ],
      "text/plain": [
       "                     Район  Едностайни - цена  Едностайни - €/кв.м  \\\n",
       "0     7-ми 11-ти километър            56094.0               1242.0   \n",
       "1                 Банишора            49138.0               1134.0   \n",
       "2             Белите брези            38000.0                826.0   \n",
       "3                Бенковски            56094.0               1242.0   \n",
       "4                   Борово            49400.0               1045.0   \n",
       "...                    ...                ...                  ...   \n",
       "1745              с. Лозен            41956.0                762.0   \n",
       "1746           с. Мировяне            56094.0               1242.0   \n",
       "1747           с. Мърчаево            56094.0               1242.0   \n",
       "1748          с. Панчарево            56094.0               1242.0   \n",
       "1749       с. Световрачене            37050.0                771.0   \n",
       "\n",
       "      Двустайни - цена  Двустайни - €/кв.м  Тристайни - цена  \\\n",
       "0             145502.0              1675.0          189050.0   \n",
       "1             104500.0              1691.0          142310.0   \n",
       "2              82365.0              1157.0          115805.0   \n",
       "3              85262.0              1511.0          118750.0   \n",
       "4              89774.0              1222.0          138890.0   \n",
       "...                ...                 ...               ...   \n",
       "1745           53018.0               762.0           89849.0   \n",
       "1746           47500.0               863.0          145103.0   \n",
       "1747           26600.0               266.0           35862.0   \n",
       "1748           76660.0               963.0          131779.0   \n",
       "1749           49400.0               771.0          145103.0   \n",
       "\n",
       "      Тристайни - €/кв.м  Общо - €/кв.м       Дата  \n",
       "0                 1756.0           1745 2024-08-13  \n",
       "1                 1503.0           1611 2024-08-13  \n",
       "2                 1085.0           1157 2024-08-13  \n",
       "3                 1250.0           1351 2024-08-13  \n",
       "4                 1426.0           1232 2024-08-13  \n",
       "...                  ...            ...        ...  \n",
       "1745               834.0            762 2022-01-11  \n",
       "1746              1383.0            863 2022-01-11  \n",
       "1747               297.0            297 2022-01-11  \n",
       "1748              1132.0           1173 2022-01-11  \n",
       "1749              1383.0            771 2022-01-11  \n",
       "\n",
       "[1750 rows x 9 columns]"
      ]
     },
     "execution_count": 81,
     "metadata": {},
     "output_type": "execute_result"
    }
   ],
   "source": [
    "second_df"
   ]
  },
  {
   "cell_type": "code",
   "execution_count": 82,
   "id": "4fa3fb2d-1e1a-4430-98da-4b51dd596026",
   "metadata": {},
   "outputs": [
    {
     "data": {
      "image/png": "[encoded data removed]",
      "text/plain": [
       "<Figure size 1008x504 with 1 Axes>"
      ]
     },
     "metadata": {
      "needs_background": "light"
     },
     "output_type": "display_data"
    }
   ],
   "source": [
    "df_one_bed = second_df[['Район', 'Дата', 'Едностайни - €/кв.м', 'Едностайни - цена' ]].copy()\n",
    "\n",
    "plt.figure(figsize=(14, 7))\n",
    "top_regions = df_one_bed['Район'].value_counts().nlargest(5).index\n",
    "df_filtered = df_one_bed[df_one_bed['Район'].isin(top_regions)]\n",
    "\n",
    "sns.scatterplot(x=\"Дата\", y=\"Едностайни - €/кв.м\", data=df_filtered, hue=\"Район\", palette=\"coolwarm\")\n",
    "plt.title('One-Bedroom Apartment Prices Over Time by Selected Regions')\n",
    "plt.show()"
   ]
  },
  {
   "cell_type": "code",
   "execution_count": 83,
   "id": "c0912d35-b3a9-4e26-aa74-33b8ea3f9812",
   "metadata": {},
   "outputs": [
    {
     "data": {
      "image/png": "[encoded data removed]",
      "text/plain": [
       "<Figure size 1008x504 with 1 Axes>"
      ]
     },
     "metadata": {
      "needs_background": "light"
     },
     "output_type": "display_data"
    }
   ],
   "source": [
    "df_two_bed = second_df[['Район', 'Дата', 'Двустайни - €/кв.м', 'Двустайни - цена']].copy()\n",
    "\n",
    "plt.figure(figsize=(14, 7))\n",
    "top_regions = df_two_bed['Район'].value_counts().nlargest(5).index\n",
    "df_filtered = df_two_bed[df_two_bed['Район'].isin(top_regions)]\n",
    "\n",
    "sns.scatterplot(x=\"Дата\", y=\"Двустайни - €/кв.м\", data=df_filtered, hue=\"Район\", palette=\"coolwarm\")\n",
    "plt.title('Two-Bedroom Apartment Prices Over Time by Selected Regions')\n",
    "plt.show()"
   ]
  },
  {
   "cell_type": "code",
   "execution_count": 84,
   "id": "b70969c1-433b-4b9b-a937-696127f9fec4",
   "metadata": {},
   "outputs": [
    {
     "data": {
      "text/html": [
       "<div>\n",
       "<style scoped>\n",
       "    .dataframe tbody tr th:only-of-type {\n",
       "        vertical-align: middle;\n",
       "    }\n",
       "\n",
       "    .dataframe tbody tr th {\n",
       "        vertical-align: top;\n",
       "    }\n",
       "\n",
       "    .dataframe thead th {\n",
       "        text-align: right;\n",
       "    }\n",
       "</style>\n",
       "<table border=\"1\" class=\"dataframe\">\n",
       "  <thead>\n",
       "    <tr style=\"text-align: right;\">\n",
       "      <th></th>\n",
       "      <th>Район</th>\n",
       "      <th>Дата</th>\n",
       "      <th>Двустайни - €/кв.м</th>\n",
       "      <th>Двустайни - цена</th>\n",
       "    </tr>\n",
       "  </thead>\n",
       "  <tbody>\n",
       "    <tr>\n",
       "      <th>90</th>\n",
       "      <td>Полигона</td>\n",
       "      <td>2024-08-13</td>\n",
       "      <td>1838.0</td>\n",
       "      <td>130955.0</td>\n",
       "    </tr>\n",
       "    <tr>\n",
       "      <th>237</th>\n",
       "      <td>Полигона</td>\n",
       "      <td>2024-06-04</td>\n",
       "      <td>1628.0</td>\n",
       "      <td>111064.0</td>\n",
       "    </tr>\n",
       "    <tr>\n",
       "      <th>385</th>\n",
       "      <td>Полигона</td>\n",
       "      <td>2024-04-23</td>\n",
       "      <td>1697.0</td>\n",
       "      <td>111324.0</td>\n",
       "    </tr>\n",
       "    <tr>\n",
       "      <th>535</th>\n",
       "      <td>Полигона</td>\n",
       "      <td>2024-01-16</td>\n",
       "      <td>1709.0</td>\n",
       "      <td>111324.0</td>\n",
       "    </tr>\n",
       "    <tr>\n",
       "      <th>677</th>\n",
       "      <td>Полигона</td>\n",
       "      <td>2023-11-14</td>\n",
       "      <td>1709.0</td>\n",
       "      <td>117938.0</td>\n",
       "    </tr>\n",
       "    <tr>\n",
       "      <th>824</th>\n",
       "      <td>Полигона</td>\n",
       "      <td>2023-07-25</td>\n",
       "      <td>1677.0</td>\n",
       "      <td>114000.0</td>\n",
       "    </tr>\n",
       "    <tr>\n",
       "      <th>971</th>\n",
       "      <td>Полигона</td>\n",
       "      <td>2023-04-25</td>\n",
       "      <td>1673.0</td>\n",
       "      <td>113230.0</td>\n",
       "    </tr>\n",
       "    <tr>\n",
       "      <th>1120</th>\n",
       "      <td>Полигона</td>\n",
       "      <td>2023-01-10</td>\n",
       "      <td>1617.0</td>\n",
       "      <td>107635.0</td>\n",
       "    </tr>\n",
       "    <tr>\n",
       "      <th>1268</th>\n",
       "      <td>Полигона</td>\n",
       "      <td>2022-11-15</td>\n",
       "      <td>1582.0</td>\n",
       "      <td>106020.0</td>\n",
       "    </tr>\n",
       "    <tr>\n",
       "      <th>1413</th>\n",
       "      <td>Полигона</td>\n",
       "      <td>2022-07-26</td>\n",
       "      <td>1407.0</td>\n",
       "      <td>97849.0</td>\n",
       "    </tr>\n",
       "    <tr>\n",
       "      <th>1559</th>\n",
       "      <td>Полигона</td>\n",
       "      <td>2022-04-26</td>\n",
       "      <td>1513.0</td>\n",
       "      <td>100525.0</td>\n",
       "    </tr>\n",
       "    <tr>\n",
       "      <th>1700</th>\n",
       "      <td>Полигона</td>\n",
       "      <td>2022-01-11</td>\n",
       "      <td>1406.0</td>\n",
       "      <td>93570.0</td>\n",
       "    </tr>\n",
       "  </tbody>\n",
       "</table>\n",
       "</div>"
      ],
      "text/plain": [
       "         Район       Дата  Двустайни - €/кв.м  Двустайни - цена\n",
       "90    Полигона 2024-08-13              1838.0          130955.0\n",
       "237   Полигона 2024-06-04              1628.0          111064.0\n",
       "385   Полигона 2024-04-23              1697.0          111324.0\n",
       "535   Полигона 2024-01-16              1709.0          111324.0\n",
       "677   Полигона 2023-11-14              1709.0          117938.0\n",
       "824   Полигона 2023-07-25              1677.0          114000.0\n",
       "971   Полигона 2023-04-25              1673.0          113230.0\n",
       "1120  Полигона 2023-01-10              1617.0          107635.0\n",
       "1268  Полигона 2022-11-15              1582.0          106020.0\n",
       "1413  Полигона 2022-07-26              1407.0           97849.0\n",
       "1559  Полигона 2022-04-26              1513.0          100525.0\n",
       "1700  Полигона 2022-01-11              1406.0           93570.0"
      ]
     },
     "execution_count": 84,
     "metadata": {},
     "output_type": "execute_result"
    }
   ],
   "source": [
    "df_two_bed[df_two_bed['Район'] == 'Полигона']"
   ]
  },
  {
   "cell_type": "code",
   "execution_count": 85,
   "id": "71732dde-ce5c-4d78-a975-71460bb52e44",
   "metadata": {},
   "outputs": [
    {
     "data": {
      "text/html": [
       "<div>\n",
       "<style scoped>\n",
       "    .dataframe tbody tr th:only-of-type {\n",
       "        vertical-align: middle;\n",
       "    }\n",
       "\n",
       "    .dataframe tbody tr th {\n",
       "        vertical-align: top;\n",
       "    }\n",
       "\n",
       "    .dataframe thead th {\n",
       "        text-align: right;\n",
       "    }\n",
       "</style>\n",
       "<table border=\"1\" class=\"dataframe\">\n",
       "  <thead>\n",
       "    <tr style=\"text-align: right;\">\n",
       "      <th></th>\n",
       "      <th>Район</th>\n",
       "      <th>Дата</th>\n",
       "      <th>Едностайни - €/кв.м</th>\n",
       "      <th>Едностайни - цена</th>\n",
       "    </tr>\n",
       "  </thead>\n",
       "  <tbody>\n",
       "    <tr>\n",
       "      <th>0</th>\n",
       "      <td>7-ми 11-ти километър</td>\n",
       "      <td>2024-08-13</td>\n",
       "      <td>1242.0</td>\n",
       "      <td>56094.0</td>\n",
       "    </tr>\n",
       "    <tr>\n",
       "      <th>1</th>\n",
       "      <td>Банишора</td>\n",
       "      <td>2024-08-13</td>\n",
       "      <td>1134.0</td>\n",
       "      <td>49138.0</td>\n",
       "    </tr>\n",
       "    <tr>\n",
       "      <th>2</th>\n",
       "      <td>Белите брези</td>\n",
       "      <td>2024-08-13</td>\n",
       "      <td>826.0</td>\n",
       "      <td>38000.0</td>\n",
       "    </tr>\n",
       "    <tr>\n",
       "      <th>3</th>\n",
       "      <td>Бенковски</td>\n",
       "      <td>2024-08-13</td>\n",
       "      <td>1242.0</td>\n",
       "      <td>56094.0</td>\n",
       "    </tr>\n",
       "    <tr>\n",
       "      <th>4</th>\n",
       "      <td>Борово</td>\n",
       "      <td>2024-08-13</td>\n",
       "      <td>1045.0</td>\n",
       "      <td>49400.0</td>\n",
       "    </tr>\n",
       "    <tr>\n",
       "      <th>...</th>\n",
       "      <td>...</td>\n",
       "      <td>...</td>\n",
       "      <td>...</td>\n",
       "      <td>...</td>\n",
       "    </tr>\n",
       "    <tr>\n",
       "      <th>1745</th>\n",
       "      <td>с. Лозен</td>\n",
       "      <td>2022-01-11</td>\n",
       "      <td>762.0</td>\n",
       "      <td>41956.0</td>\n",
       "    </tr>\n",
       "    <tr>\n",
       "      <th>1746</th>\n",
       "      <td>с. Мировяне</td>\n",
       "      <td>2022-01-11</td>\n",
       "      <td>1242.0</td>\n",
       "      <td>56094.0</td>\n",
       "    </tr>\n",
       "    <tr>\n",
       "      <th>1747</th>\n",
       "      <td>с. Мърчаево</td>\n",
       "      <td>2022-01-11</td>\n",
       "      <td>1242.0</td>\n",
       "      <td>56094.0</td>\n",
       "    </tr>\n",
       "    <tr>\n",
       "      <th>1748</th>\n",
       "      <td>с. Панчарево</td>\n",
       "      <td>2022-01-11</td>\n",
       "      <td>1242.0</td>\n",
       "      <td>56094.0</td>\n",
       "    </tr>\n",
       "    <tr>\n",
       "      <th>1749</th>\n",
       "      <td>с. Световрачене</td>\n",
       "      <td>2022-01-11</td>\n",
       "      <td>771.0</td>\n",
       "      <td>37050.0</td>\n",
       "    </tr>\n",
       "  </tbody>\n",
       "</table>\n",
       "<p>1750 rows × 4 columns</p>\n",
       "</div>"
      ],
      "text/plain": [
       "                     Район       Дата  Едностайни - €/кв.м  Едностайни - цена\n",
       "0     7-ми 11-ти километър 2024-08-13               1242.0            56094.0\n",
       "1                 Банишора 2024-08-13               1134.0            49138.0\n",
       "2             Белите брези 2024-08-13                826.0            38000.0\n",
       "3                Бенковски 2024-08-13               1242.0            56094.0\n",
       "4                   Борово 2024-08-13               1045.0            49400.0\n",
       "...                    ...        ...                  ...                ...\n",
       "1745              с. Лозен 2022-01-11                762.0            41956.0\n",
       "1746           с. Мировяне 2022-01-11               1242.0            56094.0\n",
       "1747           с. Мърчаево 2022-01-11               1242.0            56094.0\n",
       "1748          с. Панчарево 2022-01-11               1242.0            56094.0\n",
       "1749       с. Световрачене 2022-01-11                771.0            37050.0\n",
       "\n",
       "[1750 rows x 4 columns]"
      ]
     },
     "execution_count": 85,
     "metadata": {},
     "output_type": "execute_result"
    }
   ],
   "source": [
    "df_one_bed"
   ]
  },
  {
   "cell_type": "code",
   "execution_count": 86,
   "id": "d36048e8-a41f-49c8-b58d-b0526be0e62b",
   "metadata": {},
   "outputs": [],
   "source": [
    "df_one_bed['Year'] = df_one_bed['Дата'].dt.year\n",
    "df_one_bed['Month'] = df_one_bed['Дата'].dt.month\n",
    "df_one_bed.drop([\"Дата\"], axis=1, inplace=True)\n",
    "\n",
    "X = df_one_bed.drop([\"Едностайни - €/кв.м\"], axis=1)\n",
    "y = df_one_bed[\"Едностайни - €/кв.м\"]"
   ]
  },
  {
   "cell_type": "code",
   "execution_count": 87,
   "id": "93ac1a00-6f1c-4fb3-965b-50d4c3a339bd",
   "metadata": {},
   "outputs": [],
   "source": [
    "from sklearn.preprocessing import LabelEncoder\n",
    "\n",
    "label_encoder = LabelEncoder()\n",
    "X['Район'] = label_encoder.fit_transform(X['Район'])"
   ]
  },
  {
   "cell_type": "code",
   "execution_count": 88,
   "id": "b7e21ea3-0819-4a68-b44a-ee3ff9ca0dce",
   "metadata": {},
   "outputs": [
    {
     "data": {
      "text/html": [
       "<div>\n",
       "<style scoped>\n",
       "    .dataframe tbody tr th:only-of-type {\n",
       "        vertical-align: middle;\n",
       "    }\n",
       "\n",
       "    .dataframe tbody tr th {\n",
       "        vertical-align: top;\n",
       "    }\n",
       "\n",
       "    .dataframe thead th {\n",
       "        text-align: right;\n",
       "    }\n",
       "</style>\n",
       "<table border=\"1\" class=\"dataframe\">\n",
       "  <thead>\n",
       "    <tr style=\"text-align: right;\">\n",
       "      <th></th>\n",
       "      <th>Район</th>\n",
       "      <th>Едностайни - цена</th>\n",
       "      <th>Year</th>\n",
       "      <th>Month</th>\n",
       "    </tr>\n",
       "  </thead>\n",
       "  <tbody>\n",
       "    <tr>\n",
       "      <th>0</th>\n",
       "      <td>0</td>\n",
       "      <td>56094.0</td>\n",
       "      <td>2024</td>\n",
       "      <td>8</td>\n",
       "    </tr>\n",
       "    <tr>\n",
       "      <th>1</th>\n",
       "      <td>1</td>\n",
       "      <td>49138.0</td>\n",
       "      <td>2024</td>\n",
       "      <td>8</td>\n",
       "    </tr>\n",
       "    <tr>\n",
       "      <th>2</th>\n",
       "      <td>2</td>\n",
       "      <td>38000.0</td>\n",
       "      <td>2024</td>\n",
       "      <td>8</td>\n",
       "    </tr>\n",
       "    <tr>\n",
       "      <th>3</th>\n",
       "      <td>3</td>\n",
       "      <td>56094.0</td>\n",
       "      <td>2024</td>\n",
       "      <td>8</td>\n",
       "    </tr>\n",
       "    <tr>\n",
       "      <th>4</th>\n",
       "      <td>4</td>\n",
       "      <td>49400.0</td>\n",
       "      <td>2024</td>\n",
       "      <td>8</td>\n",
       "    </tr>\n",
       "    <tr>\n",
       "      <th>...</th>\n",
       "      <td>...</td>\n",
       "      <td>...</td>\n",
       "      <td>...</td>\n",
       "      <td>...</td>\n",
       "    </tr>\n",
       "    <tr>\n",
       "      <th>1745</th>\n",
       "      <td>152</td>\n",
       "      <td>41956.0</td>\n",
       "      <td>2022</td>\n",
       "      <td>1</td>\n",
       "    </tr>\n",
       "    <tr>\n",
       "      <th>1746</th>\n",
       "      <td>154</td>\n",
       "      <td>56094.0</td>\n",
       "      <td>2022</td>\n",
       "      <td>1</td>\n",
       "    </tr>\n",
       "    <tr>\n",
       "      <th>1747</th>\n",
       "      <td>156</td>\n",
       "      <td>56094.0</td>\n",
       "      <td>2022</td>\n",
       "      <td>1</td>\n",
       "    </tr>\n",
       "    <tr>\n",
       "      <th>1748</th>\n",
       "      <td>157</td>\n",
       "      <td>56094.0</td>\n",
       "      <td>2022</td>\n",
       "      <td>1</td>\n",
       "    </tr>\n",
       "    <tr>\n",
       "      <th>1749</th>\n",
       "      <td>158</td>\n",
       "      <td>37050.0</td>\n",
       "      <td>2022</td>\n",
       "      <td>1</td>\n",
       "    </tr>\n",
       "  </tbody>\n",
       "</table>\n",
       "<p>1750 rows × 4 columns</p>\n",
       "</div>"
      ],
      "text/plain": [
       "      Район  Едностайни - цена  Year  Month\n",
       "0         0            56094.0  2024      8\n",
       "1         1            49138.0  2024      8\n",
       "2         2            38000.0  2024      8\n",
       "3         3            56094.0  2024      8\n",
       "4         4            49400.0  2024      8\n",
       "...     ...                ...   ...    ...\n",
       "1745    152            41956.0  2022      1\n",
       "1746    154            56094.0  2022      1\n",
       "1747    156            56094.0  2022      1\n",
       "1748    157            56094.0  2022      1\n",
       "1749    158            37050.0  2022      1\n",
       "\n",
       "[1750 rows x 4 columns]"
      ]
     },
     "execution_count": 88,
     "metadata": {},
     "output_type": "execute_result"
    }
   ],
   "source": [
    "X"
   ]
  },
  {
   "cell_type": "code",
   "execution_count": 89,
   "id": "35588877-efeb-447d-b145-d2d989c58794",
   "metadata": {},
   "outputs": [
    {
     "data": {
      "text/plain": [
       "0       1242.0\n",
       "1       1134.0\n",
       "2        826.0\n",
       "3       1242.0\n",
       "4       1045.0\n",
       "         ...  \n",
       "1745     762.0\n",
       "1746    1242.0\n",
       "1747    1242.0\n",
       "1748    1242.0\n",
       "1749     771.0\n",
       "Name: Едностайни - €/кв.м, Length: 1750, dtype: float64"
      ]
     },
     "execution_count": 89,
     "metadata": {},
     "output_type": "execute_result"
    }
   ],
   "source": [
    "y"
   ]
  },
  {
   "cell_type": "code",
   "execution_count": 90,
   "id": "e40571b6-de94-492c-a12c-ab2008d4a23b",
   "metadata": {},
   "outputs": [],
   "source": [
    "X_train, X_test, y_train, y_test = train_test_split(X, y, test_size=0.2)"
   ]
  },
  {
   "cell_type": "code",
   "execution_count": 91,
   "id": "1ae1c438-b261-42bf-a87f-a57924e6d33e",
   "metadata": {},
   "outputs": [
    {
     "data": {
      "text/plain": [
       "856     1242.0\n",
       "1385    1176.0\n",
       "1133    1447.0\n",
       "1176    1139.0\n",
       "985     1403.0\n",
       "         ...  \n",
       "776     1488.0\n",
       "1204    1232.0\n",
       "1488     841.0\n",
       "1427    1403.0\n",
       "1490    1531.0\n",
       "Name: Едностайни - €/кв.м, Length: 1400, dtype: float64"
      ]
     },
     "execution_count": 91,
     "metadata": {},
     "output_type": "execute_result"
    }
   ],
   "source": [
    "y_train"
   ]
  },
  {
   "cell_type": "code",
   "execution_count": 92,
   "id": "45689129-595e-4bc9-9d20-3f2f8acc5073",
   "metadata": {},
   "outputs": [
    {
     "data": {
      "text/plain": [
       "LinearRegression()"
      ]
     },
     "execution_count": 92,
     "metadata": {},
     "output_type": "execute_result"
    }
   ],
   "source": [
    "model.fit(X_train, y_train)"
   ]
  },
  {
   "cell_type": "code",
   "execution_count": 93,
   "id": "646547ee-c24c-4d3e-868b-d759d538db13",
   "metadata": {},
   "outputs": [],
   "source": [
    "y_pred = model.predict(X_test)"
   ]
  },
  {
   "cell_type": "code",
   "execution_count": 94,
   "id": "35c73846-2067-4aa8-967f-0c152f3d49c9",
   "metadata": {},
   "outputs": [
    {
     "name": "stdout",
     "output_type": "stream",
     "text": [
      "Mean Absolute Error (MAE): 103.31506054850597\n",
      "Mean Squared Error (MSE): 32425.377147687424\n",
      "Root Mean Squared Error (RMSE): 180.07047827916554\n"
     ]
    }
   ],
   "source": [
    "# Evaluate the model\n",
    "mae = mean_absolute_error(y_test, y_pred)\n",
    "mse = mean_squared_error(y_test, y_pred)\n",
    "rmse = mse ** 0.5\n",
    "\n",
    "print(f'Mean Absolute Error (MAE): {mae}')\n",
    "print(f'Mean Squared Error (MSE): {mse}')\n",
    "print(f'Root Mean Squared Error (RMSE): {rmse}')"
   ]
  },
  {
   "cell_type": "code",
   "execution_count": 95,
   "id": "d658dc3a-b0ef-4b83-9f5f-36f1f9cfa047",
   "metadata": {},
   "outputs": [
    {
     "data": {
      "text/plain": [
       "array([-0.1250589 ,  0.02017849,  9.61845485,  1.53359291])"
      ]
     },
     "execution_count": 95,
     "metadata": {},
     "output_type": "execute_result"
    }
   ],
   "source": [
    "# y_predict\n",
    "model.coef_"
   ]
  },
  {
   "cell_type": "code",
   "execution_count": 96,
   "id": "004f28e6-5514-4a76-8a1b-c441e2d98305",
   "metadata": {},
   "outputs": [
    {
     "data": {
      "text/plain": [
       "-19347.759801710934"
      ]
     },
     "execution_count": 96,
     "metadata": {},
     "output_type": "execute_result"
    }
   ],
   "source": [
    "model.intercept_"
   ]
  },
  {
   "cell_type": "code",
   "execution_count": 97,
   "id": "b724fc92-d5a9-4f51-879a-04f70a10ac8c",
   "metadata": {},
   "outputs": [],
   "source": [
    "# second_df.info()"
   ]
  },
  {
   "cell_type": "code",
   "execution_count": 98,
   "id": "c7c8e41b-05a9-4ef7-be28-b5f628082f30",
   "metadata": {},
   "outputs": [],
   "source": [
    "# train_data = X_train.join(y_train)"
   ]
  },
  {
   "cell_type": "code",
   "execution_count": 99,
   "id": "441ddf42-309e-48aa-a13a-f080e85a521d",
   "metadata": {},
   "outputs": [],
   "source": [
    "# train_data.hist(figsize=(15, 8))\n",
    "# plt.show()"
   ]
  },
  {
   "cell_type": "code",
   "execution_count": 100,
   "id": "7e696011-1916-4af1-9cac-589e32e50ee3",
   "metadata": {},
   "outputs": [],
   "source": [
    "# train_data.corr()"
   ]
  },
  {
   "cell_type": "code",
   "execution_count": 101,
   "id": "c64b5e41-9228-4af5-a37d-e8213e8a347d",
   "metadata": {},
   "outputs": [],
   "source": [
    "# plt.figure(figsize=(15,8))\n",
    "# sns.heatmap(train_data.corr(), annot=True, cmap=\"YlGnBu\")"
   ]
  },
  {
   "cell_type": "code",
   "execution_count": 102,
   "id": "9acb4da7-4af5-40b7-b82c-e375143eea3b",
   "metadata": {},
   "outputs": [],
   "source": [
    "# np.log(train_data[\"Едностайни - цена\"] + 1)"
   ]
  },
  {
   "cell_type": "code",
   "execution_count": 103,
   "id": "3e2b83a7-4c0a-4af6-ad1c-ec25629b5dd7",
   "metadata": {},
   "outputs": [],
   "source": [
    "# train_data['Район'].value_counts()"
   ]
  },
  {
   "cell_type": "code",
   "execution_count": 104,
   "id": "987b364d-a4fd-4038-960c-fccd29b0c663",
   "metadata": {},
   "outputs": [],
   "source": [
    "# dummies = pd.get_dummies(train_data['Район']).astype(int)\n",
    "# dummies.astype(int)"
   ]
  },
  {
   "cell_type": "code",
   "execution_count": 105,
   "id": "ea8d2416-2fde-48d7-8e73-be8c6178479e",
   "metadata": {},
   "outputs": [],
   "source": [
    "# train_data = train_data.join(pd.get_dummies(train_data['Район']).astype(int)).drop(['Район'], axis=1)"
   ]
  },
  {
   "cell_type": "code",
   "execution_count": 106,
   "id": "148b700a-5550-4ac1-a9e9-fccab294786c",
   "metadata": {},
   "outputs": [],
   "source": [
    "# train_data"
   ]
  },
  {
   "cell_type": "code",
   "execution_count": 107,
   "id": "7631f8f5-2ffd-4f3c-a9b4-4da72c7b623e",
   "metadata": {},
   "outputs": [],
   "source": [
    "# plt.figure(figsize=(15,8))\n",
    "# sns.heatmap(train_data.corr(), annot=True, cmap=\"YlGnBu\")"
   ]
  },
  {
   "cell_type": "code",
   "execution_count": 108,
   "id": "058bfc7f-7ba0-467b-be38-fc4f9c7152c8",
   "metadata": {},
   "outputs": [],
   "source": [
    "# subset_columns = ['Едностайни - цена', 'Двустайни - цена', 'Тристайни - цена', 'Общо - €/кв.м']\n",
    "# plt.figure(figsize=(10,6))\n",
    "# sns.heatmap(train_data[subset_columns].corr(), annot=True, cmap=\"YlGnBu\")\n",
    "# plt.show()"
   ]
  },
  {
   "cell_type": "code",
   "execution_count": 109,
   "id": "e8564d45-00c2-4a9d-b6a5-ab18c8bf93ab",
   "metadata": {},
   "outputs": [],
   "source": [
    "# plt.figure(figsize=(15,8))\n",
    "# sns.scatterplot(x=\"Двустайни - цена\", y=\"Двустайни - €/кв.м\", data=train_data, hue=\"Двустайни - цена\" , palette=\"coolwarm\")"
   ]
  },
  {
   "cell_type": "code",
   "execution_count": 110,
   "id": "c4be4733-ef6a-4b2d-b6d2-9c756077980a",
   "metadata": {},
   "outputs": [],
   "source": [
    "# plt.figure(figsize=(15,8))\n",
    "# sns.scatterplot(x=\"Двустайни - цена\", y=\"Двустайни - €/кв.м\", data=train_data, hue=\"Дата\", palette=\"coolwarm\")\n",
    "# plt.show()"
   ]
  },
  {
   "cell_type": "code",
   "execution_count": 111,
   "id": "50bd7f8e-31d0-471b-80e4-928243771866",
   "metadata": {},
   "outputs": [
    {
     "data": {
      "text/html": [
       "<div>\n",
       "<style scoped>\n",
       "    .dataframe tbody tr th:only-of-type {\n",
       "        vertical-align: middle;\n",
       "    }\n",
       "\n",
       "    .dataframe tbody tr th {\n",
       "        vertical-align: top;\n",
       "    }\n",
       "\n",
       "    .dataframe thead th {\n",
       "        text-align: right;\n",
       "    }\n",
       "</style>\n",
       "<table border=\"1\" class=\"dataframe\">\n",
       "  <thead>\n",
       "    <tr style=\"text-align: right;\">\n",
       "      <th></th>\n",
       "      <th>Район</th>\n",
       "      <th>Цена</th>\n",
       "      <th>Цена / кв.м.</th>\n",
       "      <th>Валута</th>\n",
       "      <th>Тип Апартамент</th>\n",
       "      <th>Дата</th>\n",
       "      <th>Year</th>\n",
       "      <th>Month</th>\n",
       "      <th>Day</th>\n",
       "    </tr>\n",
       "  </thead>\n",
       "  <tbody>\n",
       "    <tr>\n",
       "      <th>0</th>\n",
       "      <td>1</td>\n",
       "      <td>110201.52</td>\n",
       "      <td>1710.14</td>\n",
       "      <td>EUR</td>\n",
       "      <td>Двустаен апартамент</td>\n",
       "      <td>2022-07-28</td>\n",
       "      <td>2022</td>\n",
       "      <td>7</td>\n",
       "      <td>28</td>\n",
       "    </tr>\n",
       "    <tr>\n",
       "      <th>1</th>\n",
       "      <td>3</td>\n",
       "      <td>148125.00</td>\n",
       "      <td>1949.01</td>\n",
       "      <td>EUR</td>\n",
       "      <td>Двустаен апартамент</td>\n",
       "      <td>2022-07-28</td>\n",
       "      <td>2022</td>\n",
       "      <td>7</td>\n",
       "      <td>28</td>\n",
       "    </tr>\n",
       "    <tr>\n",
       "      <th>2</th>\n",
       "      <td>5</td>\n",
       "      <td>141912.50</td>\n",
       "      <td>2120.07</td>\n",
       "      <td>EUR</td>\n",
       "      <td>Двустаен апартамент</td>\n",
       "      <td>2022-07-28</td>\n",
       "      <td>2022</td>\n",
       "      <td>7</td>\n",
       "      <td>28</td>\n",
       "    </tr>\n",
       "    <tr>\n",
       "      <th>3</th>\n",
       "      <td>6</td>\n",
       "      <td>167608.23</td>\n",
       "      <td>1888.09</td>\n",
       "      <td>EUR</td>\n",
       "      <td>Двустаен апартамент</td>\n",
       "      <td>2022-07-28</td>\n",
       "      <td>2022</td>\n",
       "      <td>7</td>\n",
       "      <td>28</td>\n",
       "    </tr>\n",
       "    <tr>\n",
       "      <th>4</th>\n",
       "      <td>7</td>\n",
       "      <td>109764.43</td>\n",
       "      <td>1869.47</td>\n",
       "      <td>EUR</td>\n",
       "      <td>Двустаен апартамент</td>\n",
       "      <td>2022-07-28</td>\n",
       "      <td>2022</td>\n",
       "      <td>7</td>\n",
       "      <td>28</td>\n",
       "    </tr>\n",
       "    <tr>\n",
       "      <th>...</th>\n",
       "      <td>...</td>\n",
       "      <td>...</td>\n",
       "      <td>...</td>\n",
       "      <td>...</td>\n",
       "      <td>...</td>\n",
       "      <td>...</td>\n",
       "      <td>...</td>\n",
       "      <td>...</td>\n",
       "      <td>...</td>\n",
       "    </tr>\n",
       "    <tr>\n",
       "      <th>949</th>\n",
       "      <td>86</td>\n",
       "      <td>303037.00</td>\n",
       "      <td>1864.02</td>\n",
       "      <td>EUR</td>\n",
       "      <td>Многостаен апартамемент</td>\n",
       "      <td>2024-07-28</td>\n",
       "      <td>2024</td>\n",
       "      <td>7</td>\n",
       "      <td>28</td>\n",
       "    </tr>\n",
       "    <tr>\n",
       "      <th>950</th>\n",
       "      <td>92</td>\n",
       "      <td>331999.50</td>\n",
       "      <td>2049.38</td>\n",
       "      <td>EUR</td>\n",
       "      <td>Многостаен апартамемент</td>\n",
       "      <td>2024-07-28</td>\n",
       "      <td>2024</td>\n",
       "      <td>7</td>\n",
       "      <td>28</td>\n",
       "    </tr>\n",
       "    <tr>\n",
       "      <th>951</th>\n",
       "      <td>93</td>\n",
       "      <td>446333.00</td>\n",
       "      <td>1410.21</td>\n",
       "      <td>EUR</td>\n",
       "      <td>Многостаен апартамемент</td>\n",
       "      <td>2024-07-28</td>\n",
       "      <td>2024</td>\n",
       "      <td>7</td>\n",
       "      <td>28</td>\n",
       "    </tr>\n",
       "    <tr>\n",
       "      <th>952</th>\n",
       "      <td>94</td>\n",
       "      <td>817960.00</td>\n",
       "      <td>2493.78</td>\n",
       "      <td>EUR</td>\n",
       "      <td>Многостаен апартамемент</td>\n",
       "      <td>2024-07-28</td>\n",
       "      <td>2024</td>\n",
       "      <td>7</td>\n",
       "      <td>28</td>\n",
       "    </tr>\n",
       "    <tr>\n",
       "      <th>953</th>\n",
       "      <td>96</td>\n",
       "      <td>599582.44</td>\n",
       "      <td>3194.50</td>\n",
       "      <td>EUR</td>\n",
       "      <td>Многостаен апартамемент</td>\n",
       "      <td>2024-07-28</td>\n",
       "      <td>2024</td>\n",
       "      <td>7</td>\n",
       "      <td>28</td>\n",
       "    </tr>\n",
       "  </tbody>\n",
       "</table>\n",
       "<p>954 rows × 9 columns</p>\n",
       "</div>"
      ],
      "text/plain": [
       "     Район       Цена  Цена / кв.м. Валута           Тип Апартамент  \\\n",
       "0        1  110201.52       1710.14    EUR      Двустаен апартамент   \n",
       "1        3  148125.00       1949.01    EUR      Двустаен апартамент   \n",
       "2        5  141912.50       2120.07    EUR      Двустаен апартамент   \n",
       "3        6  167608.23       1888.09    EUR      Двустаен апартамент   \n",
       "4        7  109764.43       1869.47    EUR      Двустаен апартамент   \n",
       "..     ...        ...           ...    ...                      ...   \n",
       "949     86  303037.00       1864.02    EUR  Многостаен апартамемент   \n",
       "950     92  331999.50       2049.38    EUR  Многостаен апартамемент   \n",
       "951     93  446333.00       1410.21    EUR  Многостаен апартамемент   \n",
       "952     94  817960.00       2493.78    EUR  Многостаен апартамемент   \n",
       "953     96  599582.44       3194.50    EUR  Многостаен апартамемент   \n",
       "\n",
       "          Дата  Year  Month  Day  \n",
       "0   2022-07-28  2022      7   28  \n",
       "1   2022-07-28  2022      7   28  \n",
       "2   2022-07-28  2022      7   28  \n",
       "3   2022-07-28  2022      7   28  \n",
       "4   2022-07-28  2022      7   28  \n",
       "..         ...   ...    ...  ...  \n",
       "949 2024-07-28  2024      7   28  \n",
       "950 2024-07-28  2024      7   28  \n",
       "951 2024-07-28  2024      7   28  \n",
       "952 2024-07-28  2024      7   28  \n",
       "953 2024-07-28  2024      7   28  \n",
       "\n",
       "[954 rows x 9 columns]"
      ]
     },
     "execution_count": 111,
     "metadata": {},
     "output_type": "execute_result"
    }
   ],
   "source": [
    "combined_df"
   ]
  },
  {
   "cell_type": "code",
   "execution_count": 112,
   "id": "a427374b-5109-4af4-9fa5-7c89b244d74b",
   "metadata": {},
   "outputs": [
    {
     "ename": "KeyError",
     "evalue": "'Район_encoded'",
     "output_type": "error",
     "traceback": [
      "\u001b[1;31m---------------------------------------------------------------------------\u001b[0m",
      "\u001b[1;31mKeyError\u001b[0m                                  Traceback (most recent call last)",
      "File \u001b[1;32m~\\anaconda3\\lib\\site-packages\\pandas\\core\\indexes\\base.py:3621\u001b[0m, in \u001b[0;36mIndex.get_loc\u001b[1;34m(self, key, method, tolerance)\u001b[0m\n\u001b[0;32m   3620\u001b[0m \u001b[38;5;28;01mtry\u001b[39;00m:\n\u001b[1;32m-> 3621\u001b[0m     \u001b[38;5;28;01mreturn\u001b[39;00m \u001b[38;5;28;43mself\u001b[39;49m\u001b[38;5;241;43m.\u001b[39;49m\u001b[43m_engine\u001b[49m\u001b[38;5;241;43m.\u001b[39;49m\u001b[43mget_loc\u001b[49m\u001b[43m(\u001b[49m\u001b[43mcasted_key\u001b[49m\u001b[43m)\u001b[49m\n\u001b[0;32m   3622\u001b[0m \u001b[38;5;28;01mexcept\u001b[39;00m \u001b[38;5;167;01mKeyError\u001b[39;00m \u001b[38;5;28;01mas\u001b[39;00m err:\n",
      "File \u001b[1;32m~\\anaconda3\\lib\\site-packages\\pandas\\_libs\\index.pyx:136\u001b[0m, in \u001b[0;36mpandas._libs.index.IndexEngine.get_loc\u001b[1;34m()\u001b[0m\n",
      "File \u001b[1;32m~\\anaconda3\\lib\\site-packages\\pandas\\_libs\\index.pyx:163\u001b[0m, in \u001b[0;36mpandas._libs.index.IndexEngine.get_loc\u001b[1;34m()\u001b[0m\n",
      "File \u001b[1;32mpandas\\_libs\\hashtable_class_helper.pxi:5198\u001b[0m, in \u001b[0;36mpandas._libs.hashtable.PyObjectHashTable.get_item\u001b[1;34m()\u001b[0m\n",
      "File \u001b[1;32mpandas\\_libs\\hashtable_class_helper.pxi:5206\u001b[0m, in \u001b[0;36mpandas._libs.hashtable.PyObjectHashTable.get_item\u001b[1;34m()\u001b[0m\n",
      "\u001b[1;31mKeyError\u001b[0m: 'Район_encoded'",
      "\nThe above exception was the direct cause of the following exception:\n",
      "\u001b[1;31mKeyError\u001b[0m                                  Traceback (most recent call last)",
      "Input \u001b[1;32mIn [112]\u001b[0m, in \u001b[0;36m<cell line: 1>\u001b[1;34m()\u001b[0m\n\u001b[1;32m----> 1\u001b[0m x \u001b[38;5;241m=\u001b[39m \u001b[43mcombined_df\u001b[49m\u001b[43m[\u001b[49m\u001b[38;5;124;43m'\u001b[39;49m\u001b[38;5;124;43mРайон_encoded\u001b[39;49m\u001b[38;5;124;43m'\u001b[39;49m\u001b[43m]\u001b[49m\n\u001b[0;32m      2\u001b[0m y \u001b[38;5;241m=\u001b[39m combined_df[\u001b[38;5;124m'\u001b[39m\u001b[38;5;124mЦена / кв.м.\u001b[39m\u001b[38;5;124m'\u001b[39m]\n",
      "File \u001b[1;32m~\\anaconda3\\lib\\site-packages\\pandas\\core\\frame.py:3505\u001b[0m, in \u001b[0;36mDataFrame.__getitem__\u001b[1;34m(self, key)\u001b[0m\n\u001b[0;32m   3503\u001b[0m \u001b[38;5;28;01mif\u001b[39;00m \u001b[38;5;28mself\u001b[39m\u001b[38;5;241m.\u001b[39mcolumns\u001b[38;5;241m.\u001b[39mnlevels \u001b[38;5;241m>\u001b[39m \u001b[38;5;241m1\u001b[39m:\n\u001b[0;32m   3504\u001b[0m     \u001b[38;5;28;01mreturn\u001b[39;00m \u001b[38;5;28mself\u001b[39m\u001b[38;5;241m.\u001b[39m_getitem_multilevel(key)\n\u001b[1;32m-> 3505\u001b[0m indexer \u001b[38;5;241m=\u001b[39m \u001b[38;5;28;43mself\u001b[39;49m\u001b[38;5;241;43m.\u001b[39;49m\u001b[43mcolumns\u001b[49m\u001b[38;5;241;43m.\u001b[39;49m\u001b[43mget_loc\u001b[49m\u001b[43m(\u001b[49m\u001b[43mkey\u001b[49m\u001b[43m)\u001b[49m\n\u001b[0;32m   3506\u001b[0m \u001b[38;5;28;01mif\u001b[39;00m is_integer(indexer):\n\u001b[0;32m   3507\u001b[0m     indexer \u001b[38;5;241m=\u001b[39m [indexer]\n",
      "File \u001b[1;32m~\\anaconda3\\lib\\site-packages\\pandas\\core\\indexes\\base.py:3623\u001b[0m, in \u001b[0;36mIndex.get_loc\u001b[1;34m(self, key, method, tolerance)\u001b[0m\n\u001b[0;32m   3621\u001b[0m     \u001b[38;5;28;01mreturn\u001b[39;00m \u001b[38;5;28mself\u001b[39m\u001b[38;5;241m.\u001b[39m_engine\u001b[38;5;241m.\u001b[39mget_loc(casted_key)\n\u001b[0;32m   3622\u001b[0m \u001b[38;5;28;01mexcept\u001b[39;00m \u001b[38;5;167;01mKeyError\u001b[39;00m \u001b[38;5;28;01mas\u001b[39;00m err:\n\u001b[1;32m-> 3623\u001b[0m     \u001b[38;5;28;01mraise\u001b[39;00m \u001b[38;5;167;01mKeyError\u001b[39;00m(key) \u001b[38;5;28;01mfrom\u001b[39;00m \u001b[38;5;21;01merr\u001b[39;00m\n\u001b[0;32m   3624\u001b[0m \u001b[38;5;28;01mexcept\u001b[39;00m \u001b[38;5;167;01mTypeError\u001b[39;00m:\n\u001b[0;32m   3625\u001b[0m     \u001b[38;5;66;03m# If we have a listlike key, _check_indexing_error will raise\u001b[39;00m\n\u001b[0;32m   3626\u001b[0m     \u001b[38;5;66;03m#  InvalidIndexError. Otherwise we fall through and re-raise\u001b[39;00m\n\u001b[0;32m   3627\u001b[0m     \u001b[38;5;66;03m#  the TypeError.\u001b[39;00m\n\u001b[0;32m   3628\u001b[0m     \u001b[38;5;28mself\u001b[39m\u001b[38;5;241m.\u001b[39m_check_indexing_error(key)\n",
      "\u001b[1;31mKeyError\u001b[0m: 'Район_encoded'"
     ]
    }
   ],
   "source": [
    "x = combined_df['Район_encoded']\n",
    "y = combined_df['Цена / кв.м.']"
   ]
  },
  {
   "cell_type": "code",
   "execution_count": null,
   "id": "6e8532f9-9de1-4c98-b002-366e1266accf",
   "metadata": {},
   "outputs": [],
   "source": [
    "combined_df[combined_df['Цена / кв.м.'] > 4000]"
   ]
  }
 ],
 "metadata": {
  "kernelspec": {
   "display_name": "Python 3 (ipykernel)",
   "language": "python",
   "name": "python3"
  },
  "language_info": {
   "codemirror_mode": {
    "name": "ipython",
    "version": 3
   },
   "file_extension": ".py",
   "mimetype": "text/x-python",
   "name": "python",
   "nbconvert_exporter": "python",
   "pygments_lexer": "ipython3",
   "version": "3.9.12"
  }
 },
 "nbformat": 4,
 "nbformat_minor": 5
}
