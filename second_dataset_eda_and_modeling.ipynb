{
 "cells": [
  {
   "cell_type": "code",
   "execution_count": 1,
   "id": "baabcc1b-d2dc-487a-bdd2-0aedc70b305c",
   "metadata": {},
   "outputs": [],
   "source": [
    "%matplotlib inline"
   ]
  },
  {
   "cell_type": "code",
   "execution_count": 2,
   "id": "398daf61-296b-4c03-908b-b90a1205af30",
   "metadata": {},
   "outputs": [],
   "source": [
    "import numpy as np\n",
    "import pandas as pd\n",
    "import matplotlib.pyplot as plt\n",
    "import seaborn as sns\n",
    "\n",
    "from sklearn.model_selection import train_test_split, learning_curve, cross_val_score\n",
    "from sklearn.linear_model import LinearRegression\n",
    "from sklearn.ensemble import RandomForestRegressor\n",
    "from sklearn.metrics import mean_squared_error, mean_absolute_error, r2_score\n",
    "\n",
    "from sklearn.preprocessing import StandardScaler, OneHotEncoder\n",
    "from sklearn.compose import ColumnTransformer\n",
    "from sklearn.pipeline import Pipeline\n",
    "\n",
    "from sklearn.preprocessing import LabelEncoder"
   ]
  },
  {
   "cell_type": "markdown",
   "id": "99c51f83-c1d2-44f0-8f93-73422c6e5a74",
   "metadata": {},
   "source": [
    "## Exploratory Data Analysis (EDA): \n",
    "Let's perform an EDA to understand the distribution, relationships, and outliers in The data.\n",
    "\n",
    "### Read the second dataset: "
   ]
  },
  {
   "cell_type": "code",
   "execution_count": 3,
   "id": "997f9eb3-bf0c-47e7-a464-5cc1fce63755",
   "metadata": {},
   "outputs": [],
   "source": [
    "second_df = pd.read_csv(\"data2/property_prices.csv\")"
   ]
  },
  {
   "cell_type": "markdown",
   "id": "ee2f4637-588c-4423-aaf5-7c02876e2916",
   "metadata": {},
   "source": [
    "This is it:"
   ]
  },
  {
   "cell_type": "code",
   "execution_count": 4,
   "id": "1fc5ea13-7452-463a-806d-3045d9128e4a",
   "metadata": {},
   "outputs": [
    {
     "data": {
      "text/html": [
       "<div>\n",
       "<style scoped>\n",
       "    .dataframe tbody tr th:only-of-type {\n",
       "        vertical-align: middle;\n",
       "    }\n",
       "\n",
       "    .dataframe tbody tr th {\n",
       "        vertical-align: top;\n",
       "    }\n",
       "\n",
       "    .dataframe thead th {\n",
       "        text-align: right;\n",
       "    }\n",
       "</style>\n",
       "<table border=\"1\" class=\"dataframe\">\n",
       "  <thead>\n",
       "    <tr style=\"text-align: right;\">\n",
       "      <th></th>\n",
       "      <th>Район</th>\n",
       "      <th>Едностайни - цена</th>\n",
       "      <th>Едностайни - €/кв.м</th>\n",
       "      <th>Двустайни - цена</th>\n",
       "      <th>Двустайни - €/кв.м</th>\n",
       "      <th>Тристайни - цена</th>\n",
       "      <th>Тристайни - €/кв.м</th>\n",
       "      <th>Общо - €/кв.м</th>\n",
       "      <th>Дата</th>\n",
       "    </tr>\n",
       "  </thead>\n",
       "  <tbody>\n",
       "    <tr>\n",
       "      <th>0</th>\n",
       "      <td>7-ми 11-ти километър</td>\n",
       "      <td>NaN</td>\n",
       "      <td>NaN</td>\n",
       "      <td>145 502</td>\n",
       "      <td>1 675</td>\n",
       "      <td>189 050</td>\n",
       "      <td>1 756</td>\n",
       "      <td>1 745</td>\n",
       "      <td>13.8.2024</td>\n",
       "    </tr>\n",
       "    <tr>\n",
       "      <th>1</th>\n",
       "      <td>Банишора</td>\n",
       "      <td>49 138</td>\n",
       "      <td>1 134</td>\n",
       "      <td>104 500</td>\n",
       "      <td>1 691</td>\n",
       "      <td>142 310</td>\n",
       "      <td>1 503</td>\n",
       "      <td>1 611</td>\n",
       "      <td>13.8.2024</td>\n",
       "    </tr>\n",
       "    <tr>\n",
       "      <th>2</th>\n",
       "      <td>Белите брези</td>\n",
       "      <td>38 000</td>\n",
       "      <td>826</td>\n",
       "      <td>82 365</td>\n",
       "      <td>1 157</td>\n",
       "      <td>115 805</td>\n",
       "      <td>1 085</td>\n",
       "      <td>1 157</td>\n",
       "      <td>13.8.2024</td>\n",
       "    </tr>\n",
       "    <tr>\n",
       "      <th>3</th>\n",
       "      <td>Бенковски</td>\n",
       "      <td>NaN</td>\n",
       "      <td>NaN</td>\n",
       "      <td>85 262</td>\n",
       "      <td>1 511</td>\n",
       "      <td>118 750</td>\n",
       "      <td>1 250</td>\n",
       "      <td>1 351</td>\n",
       "      <td>13.8.2024</td>\n",
       "    </tr>\n",
       "    <tr>\n",
       "      <th>4</th>\n",
       "      <td>Борово</td>\n",
       "      <td>49 400</td>\n",
       "      <td>1 045</td>\n",
       "      <td>89 774</td>\n",
       "      <td>1 222</td>\n",
       "      <td>138 890</td>\n",
       "      <td>1 426</td>\n",
       "      <td>1 232</td>\n",
       "      <td>13.8.2024</td>\n",
       "    </tr>\n",
       "    <tr>\n",
       "      <th>...</th>\n",
       "      <td>...</td>\n",
       "      <td>...</td>\n",
       "      <td>...</td>\n",
       "      <td>...</td>\n",
       "      <td>...</td>\n",
       "      <td>...</td>\n",
       "      <td>...</td>\n",
       "      <td>...</td>\n",
       "      <td>...</td>\n",
       "    </tr>\n",
       "    <tr>\n",
       "      <th>1745</th>\n",
       "      <td>с. Лозен</td>\n",
       "      <td>41 956</td>\n",
       "      <td>762</td>\n",
       "      <td>53 018</td>\n",
       "      <td>762</td>\n",
       "      <td>89 849</td>\n",
       "      <td>834</td>\n",
       "      <td>762</td>\n",
       "      <td>11.1.2022</td>\n",
       "    </tr>\n",
       "    <tr>\n",
       "      <th>1746</th>\n",
       "      <td>с. Мировяне</td>\n",
       "      <td>NaN</td>\n",
       "      <td>NaN</td>\n",
       "      <td>47 500</td>\n",
       "      <td>863</td>\n",
       "      <td>NaN</td>\n",
       "      <td>NaN</td>\n",
       "      <td>863</td>\n",
       "      <td>11.1.2022</td>\n",
       "    </tr>\n",
       "    <tr>\n",
       "      <th>1747</th>\n",
       "      <td>с. Мърчаево</td>\n",
       "      <td>NaN</td>\n",
       "      <td>NaN</td>\n",
       "      <td>26 600</td>\n",
       "      <td>266</td>\n",
       "      <td>35 862</td>\n",
       "      <td>297</td>\n",
       "      <td>297</td>\n",
       "      <td>11.1.2022</td>\n",
       "    </tr>\n",
       "    <tr>\n",
       "      <th>1748</th>\n",
       "      <td>с. Панчарево</td>\n",
       "      <td>NaN</td>\n",
       "      <td>NaN</td>\n",
       "      <td>76 660</td>\n",
       "      <td>963</td>\n",
       "      <td>131 779</td>\n",
       "      <td>1 132</td>\n",
       "      <td>1 173</td>\n",
       "      <td>11.1.2022</td>\n",
       "    </tr>\n",
       "    <tr>\n",
       "      <th>1749</th>\n",
       "      <td>с. Световрачене</td>\n",
       "      <td>37 050</td>\n",
       "      <td>771</td>\n",
       "      <td>49 400</td>\n",
       "      <td>771</td>\n",
       "      <td>NaN</td>\n",
       "      <td>NaN</td>\n",
       "      <td>771</td>\n",
       "      <td>11.1.2022</td>\n",
       "    </tr>\n",
       "  </tbody>\n",
       "</table>\n",
       "<p>1750 rows × 9 columns</p>\n",
       "</div>"
      ],
      "text/plain": [
       "                     Район Едностайни - цена Едностайни - €/кв.м  \\\n",
       "0     7-ми 11-ти километър               NaN                 NaN   \n",
       "1                 Банишора            49 138               1 134   \n",
       "2             Белите брези            38 000                 826   \n",
       "3                Бенковски               NaN                 NaN   \n",
       "4                   Борово            49 400               1 045   \n",
       "...                    ...               ...                 ...   \n",
       "1745              с. Лозен            41 956                 762   \n",
       "1746           с. Мировяне               NaN                 NaN   \n",
       "1747           с. Мърчаево               NaN                 NaN   \n",
       "1748          с. Панчарево               NaN                 NaN   \n",
       "1749       с. Световрачене            37 050                 771   \n",
       "\n",
       "     Двустайни - цена Двустайни - €/кв.м Тристайни - цена Тристайни - €/кв.м  \\\n",
       "0             145 502              1 675          189 050              1 756   \n",
       "1             104 500              1 691          142 310              1 503   \n",
       "2              82 365              1 157          115 805              1 085   \n",
       "3              85 262              1 511          118 750              1 250   \n",
       "4              89 774              1 222          138 890              1 426   \n",
       "...               ...                ...              ...                ...   \n",
       "1745           53 018                762           89 849                834   \n",
       "1746           47 500                863              NaN                NaN   \n",
       "1747           26 600                266           35 862                297   \n",
       "1748           76 660                963          131 779              1 132   \n",
       "1749           49 400                771              NaN                NaN   \n",
       "\n",
       "     Общо - €/кв.м       Дата  \n",
       "0            1 745  13.8.2024  \n",
       "1            1 611  13.8.2024  \n",
       "2            1 157  13.8.2024  \n",
       "3            1 351  13.8.2024  \n",
       "4            1 232  13.8.2024  \n",
       "...            ...        ...  \n",
       "1745           762  11.1.2022  \n",
       "1746           863  11.1.2022  \n",
       "1747           297  11.1.2022  \n",
       "1748         1 173  11.1.2022  \n",
       "1749           771  11.1.2022  \n",
       "\n",
       "[1750 rows x 9 columns]"
      ]
     },
     "execution_count": 4,
     "metadata": {},
     "output_type": "execute_result"
    }
   ],
   "source": [
    "second_df"
   ]
  },
  {
   "cell_type": "markdown",
   "id": "ffe260c0-3863-4c0c-b40c-e9824fc8dc3b",
   "metadata": {},
   "source": [
    "#### Take a closer look at the dataset:"
   ]
  },
  {
   "cell_type": "code",
   "execution_count": 5,
   "id": "5d5edd03-0424-4b99-9c74-34f3ff5ff31d",
   "metadata": {},
   "outputs": [
    {
     "data": {
      "text/plain": [
       "(1750, 9)"
      ]
     },
     "execution_count": 5,
     "metadata": {},
     "output_type": "execute_result"
    }
   ],
   "source": [
    "second_df.shape"
   ]
  },
  {
   "cell_type": "markdown",
   "id": "673c5be8-5aed-4dc2-8196-18779c2a372a",
   "metadata": {},
   "source": [
    "It has 1750 observations and 9 features."
   ]
  },
  {
   "cell_type": "code",
   "execution_count": 6,
   "id": "4c22a0f6-1cc0-460c-8704-4b06642f6092",
   "metadata": {},
   "outputs": [
    {
     "data": {
      "text/html": [
       "<div>\n",
       "<style scoped>\n",
       "    .dataframe tbody tr th:only-of-type {\n",
       "        vertical-align: middle;\n",
       "    }\n",
       "\n",
       "    .dataframe tbody tr th {\n",
       "        vertical-align: top;\n",
       "    }\n",
       "\n",
       "    .dataframe thead th {\n",
       "        text-align: right;\n",
       "    }\n",
       "</style>\n",
       "<table border=\"1\" class=\"dataframe\">\n",
       "  <thead>\n",
       "    <tr style=\"text-align: right;\">\n",
       "      <th></th>\n",
       "      <th>count</th>\n",
       "      <th>unique</th>\n",
       "      <th>top</th>\n",
       "      <th>freq</th>\n",
       "    </tr>\n",
       "  </thead>\n",
       "  <tbody>\n",
       "    <tr>\n",
       "      <th>Район</th>\n",
       "      <td>1750</td>\n",
       "      <td>160</td>\n",
       "      <td>7-ми 11-ти километър</td>\n",
       "      <td>12</td>\n",
       "    </tr>\n",
       "    <tr>\n",
       "      <th>Едностайни - цена</th>\n",
       "      <td>1305</td>\n",
       "      <td>595</td>\n",
       "      <td>49 400</td>\n",
       "      <td>40</td>\n",
       "    </tr>\n",
       "    <tr>\n",
       "      <th>Едностайни - €/кв.м</th>\n",
       "      <td>1305</td>\n",
       "      <td>632</td>\n",
       "      <td>1 176</td>\n",
       "      <td>20</td>\n",
       "    </tr>\n",
       "    <tr>\n",
       "      <th>Двустайни - цена</th>\n",
       "      <td>1614</td>\n",
       "      <td>964</td>\n",
       "      <td>66 500</td>\n",
       "      <td>34</td>\n",
       "    </tr>\n",
       "    <tr>\n",
       "      <th>Двустайни - €/кв.м</th>\n",
       "      <td>1614</td>\n",
       "      <td>818</td>\n",
       "      <td>1 425</td>\n",
       "      <td>17</td>\n",
       "    </tr>\n",
       "    <tr>\n",
       "      <th>Тристайни - цена</th>\n",
       "      <td>1636</td>\n",
       "      <td>984</td>\n",
       "      <td>114 000</td>\n",
       "      <td>29</td>\n",
       "    </tr>\n",
       "    <tr>\n",
       "      <th>Тристайни - €/кв.м</th>\n",
       "      <td>1636</td>\n",
       "      <td>839</td>\n",
       "      <td>1 254</td>\n",
       "      <td>26</td>\n",
       "    </tr>\n",
       "    <tr>\n",
       "      <th>Общо - €/кв.м</th>\n",
       "      <td>1750</td>\n",
       "      <td>886</td>\n",
       "      <td>950</td>\n",
       "      <td>23</td>\n",
       "    </tr>\n",
       "    <tr>\n",
       "      <th>Дата</th>\n",
       "      <td>1750</td>\n",
       "      <td>12</td>\n",
       "      <td>23.4.2024</td>\n",
       "      <td>150</td>\n",
       "    </tr>\n",
       "  </tbody>\n",
       "</table>\n",
       "</div>"
      ],
      "text/plain": [
       "                    count unique                   top freq\n",
       "Район                1750    160  7-ми 11-ти километър   12\n",
       "Едностайни - цена    1305    595                49 400   40\n",
       "Едностайни - €/кв.м  1305    632                 1 176   20\n",
       "Двустайни - цена     1614    964                66 500   34\n",
       "Двустайни - €/кв.м   1614    818                 1 425   17\n",
       "Тристайни - цена     1636    984               114 000   29\n",
       "Тристайни - €/кв.м   1636    839                 1 254   26\n",
       "Общо - €/кв.м        1750    886                   950   23\n",
       "Дата                 1750     12             23.4.2024  150"
      ]
     },
     "execution_count": 6,
     "metadata": {},
     "output_type": "execute_result"
    }
   ],
   "source": [
    "second_df.describe().T"
   ]
  },
  {
   "cell_type": "code",
   "execution_count": 7,
   "id": "a64f9340-05c0-4e84-878c-3c5ad952b378",
   "metadata": {},
   "outputs": [
    {
     "data": {
      "text/plain": [
       "Index(['Район', 'Едностайни - цена', 'Едностайни - €/кв.м', 'Двустайни - цена',\n",
       "       'Двустайни - €/кв.м', 'Тристайни - цена', 'Тристайни - €/кв.м',\n",
       "       'Общо - €/кв.м', 'Дата'],\n",
       "      dtype='object')"
      ]
     },
     "execution_count": 7,
     "metadata": {},
     "output_type": "execute_result"
    }
   ],
   "source": [
    "second_df.columns"
   ]
  },
  {
   "cell_type": "markdown",
   "id": "f5195180-6ac9-41ee-a4e0-50f496501021",
   "metadata": {},
   "source": [
    "Let's normalize the titles like convert the column names from Bulgarian to English:"
   ]
  },
  {
   "cell_type": "code",
   "execution_count": 8,
   "id": "ffaa859c-0b98-4878-a843-8fe36fff47a1",
   "metadata": {},
   "outputs": [
    {
     "data": {
      "text/html": [
       "<div>\n",
       "<style scoped>\n",
       "    .dataframe tbody tr th:only-of-type {\n",
       "        vertical-align: middle;\n",
       "    }\n",
       "\n",
       "    .dataframe tbody tr th {\n",
       "        vertical-align: top;\n",
       "    }\n",
       "\n",
       "    .dataframe thead th {\n",
       "        text-align: right;\n",
       "    }\n",
       "</style>\n",
       "<table border=\"1\" class=\"dataframe\">\n",
       "  <thead>\n",
       "    <tr style=\"text-align: right;\">\n",
       "      <th></th>\n",
       "      <th>region</th>\n",
       "      <th>one_bed_price</th>\n",
       "      <th>one_bed_eur_per_sqm</th>\n",
       "      <th>two_bed_price</th>\n",
       "      <th>two_bed_eur_per_sqm</th>\n",
       "      <th>three_bed_price</th>\n",
       "      <th>three_bed_eur_per_sqm</th>\n",
       "      <th>overall_eur_per_sqm</th>\n",
       "      <th>date</th>\n",
       "    </tr>\n",
       "  </thead>\n",
       "  <tbody>\n",
       "    <tr>\n",
       "      <th>0</th>\n",
       "      <td>7-ми 11-ти километър</td>\n",
       "      <td>NaN</td>\n",
       "      <td>NaN</td>\n",
       "      <td>145 502</td>\n",
       "      <td>1 675</td>\n",
       "      <td>189 050</td>\n",
       "      <td>1 756</td>\n",
       "      <td>1 745</td>\n",
       "      <td>13.8.2024</td>\n",
       "    </tr>\n",
       "    <tr>\n",
       "      <th>1</th>\n",
       "      <td>Банишора</td>\n",
       "      <td>49 138</td>\n",
       "      <td>1 134</td>\n",
       "      <td>104 500</td>\n",
       "      <td>1 691</td>\n",
       "      <td>142 310</td>\n",
       "      <td>1 503</td>\n",
       "      <td>1 611</td>\n",
       "      <td>13.8.2024</td>\n",
       "    </tr>\n",
       "    <tr>\n",
       "      <th>2</th>\n",
       "      <td>Белите брези</td>\n",
       "      <td>38 000</td>\n",
       "      <td>826</td>\n",
       "      <td>82 365</td>\n",
       "      <td>1 157</td>\n",
       "      <td>115 805</td>\n",
       "      <td>1 085</td>\n",
       "      <td>1 157</td>\n",
       "      <td>13.8.2024</td>\n",
       "    </tr>\n",
       "    <tr>\n",
       "      <th>3</th>\n",
       "      <td>Бенковски</td>\n",
       "      <td>NaN</td>\n",
       "      <td>NaN</td>\n",
       "      <td>85 262</td>\n",
       "      <td>1 511</td>\n",
       "      <td>118 750</td>\n",
       "      <td>1 250</td>\n",
       "      <td>1 351</td>\n",
       "      <td>13.8.2024</td>\n",
       "    </tr>\n",
       "    <tr>\n",
       "      <th>4</th>\n",
       "      <td>Борово</td>\n",
       "      <td>49 400</td>\n",
       "      <td>1 045</td>\n",
       "      <td>89 774</td>\n",
       "      <td>1 222</td>\n",
       "      <td>138 890</td>\n",
       "      <td>1 426</td>\n",
       "      <td>1 232</td>\n",
       "      <td>13.8.2024</td>\n",
       "    </tr>\n",
       "  </tbody>\n",
       "</table>\n",
       "</div>"
      ],
      "text/plain": [
       "                 region one_bed_price one_bed_eur_per_sqm two_bed_price  \\\n",
       "0  7-ми 11-ти километър           NaN                 NaN       145 502   \n",
       "1              Банишора        49 138               1 134       104 500   \n",
       "2          Белите брези        38 000                 826        82 365   \n",
       "3             Бенковски           NaN                 NaN        85 262   \n",
       "4                Борово        49 400               1 045        89 774   \n",
       "\n",
       "  two_bed_eur_per_sqm three_bed_price three_bed_eur_per_sqm  \\\n",
       "0               1 675         189 050                 1 756   \n",
       "1               1 691         142 310                 1 503   \n",
       "2               1 157         115 805                 1 085   \n",
       "3               1 511         118 750                 1 250   \n",
       "4               1 222         138 890                 1 426   \n",
       "\n",
       "  overall_eur_per_sqm       date  \n",
       "0               1 745  13.8.2024  \n",
       "1               1 611  13.8.2024  \n",
       "2               1 157  13.8.2024  \n",
       "3               1 351  13.8.2024  \n",
       "4               1 232  13.8.2024  "
      ]
     },
     "execution_count": 8,
     "metadata": {},
     "output_type": "execute_result"
    }
   ],
   "source": [
    "# Rename columns in second_df\n",
    "second_df = second_df.rename(columns={\n",
    "    'Район': 'region',\n",
    "    'Едностайни - цена': 'one_bed_price',\n",
    "    'Едностайни - €/кв.м': 'one_bed_eur_per_sqm',\n",
    "    'Двустайни - цена': 'two_bed_price',\n",
    "    'Двустайни - €/кв.м': 'two_bed_eur_per_sqm',\n",
    "    'Тристайни - цена': 'three_bed_price',\n",
    "    'Тристайни - €/кв.м': 'three_bed_eur_per_sqm',\n",
    "    'Общо - €/кв.м': 'overall_eur_per_sqm',\n",
    "    'Дата': 'date'\n",
    "})\n",
    "\n",
    "second_df.head()"
   ]
  },
  {
   "cell_type": "code",
   "execution_count": 9,
   "id": "2253903e-1754-4699-acda-eae9ec46469c",
   "metadata": {},
   "outputs": [
    {
     "data": {
      "text/plain": [
       "region                   object\n",
       "one_bed_price            object\n",
       "one_bed_eur_per_sqm      object\n",
       "two_bed_price            object\n",
       "two_bed_eur_per_sqm      object\n",
       "three_bed_price          object\n",
       "three_bed_eur_per_sqm    object\n",
       "overall_eur_per_sqm      object\n",
       "date                     object\n",
       "dtype: object"
      ]
     },
     "execution_count": 9,
     "metadata": {},
     "output_type": "execute_result"
    }
   ],
   "source": [
    "second_df.dtypes"
   ]
  },
  {
   "cell_type": "markdown",
   "id": "5f5fd2bc-9e7b-47c9-b815-dcaa73d45b12",
   "metadata": {},
   "source": [
    "How we see in this dataset we have NaN values. \n",
    "\n",
    "First, we'll want to convert the columns containing numerical data from object (string) to appropriate numerical types (e.g., float). This conversion is necessary for performing any numerical operations or analysis. And next we will fill the NaN values with the median."
   ]
  },
  {
   "cell_type": "code",
   "execution_count": 10,
   "id": "3a58eb8a-eb55-4f24-b9ed-ac2b537d625f",
   "metadata": {},
   "outputs": [],
   "source": [
    "numeric_columns = [\n",
    "    'one_bed_price', \n",
    "    'one_bed_eur_per_sqm', \n",
    "    'two_bed_price', \n",
    "    'two_bed_eur_per_sqm', \n",
    "    'three_bed_price', \n",
    "    'three_bed_eur_per_sqm', \n",
    "    'overall_eur_per_sqm'\n",
    "]\n",
    "\n",
    "def convert_dtypes(df, numeric_columns):\n",
    "    for col in df:\n",
    "        if col in numeric_columns:\n",
    "            df[col] = df[col].str.replace(r'\\D', '', regex=True)\n",
    "            df[col] = pd.to_numeric(df[col], errors='coerce')\n",
    "\n",
    "            median_price = df[col].median()\n",
    "\n",
    "            df[col].fillna(round(median_price, 0), inplace=True)\n",
    "            \n",
    "        if col == 'Дата':\n",
    "            df[col] = pd.to_datetime(df[col], dayfirst=True)\n",
    "    return df \n",
    "\n",
    "second_df = convert_dtypes(second_df, numeric_columns)"
   ]
  },
  {
   "cell_type": "code",
   "execution_count": 11,
   "id": "b66b72d4-683d-4158-9f1e-f39bef0bd446",
   "metadata": {},
   "outputs": [
    {
     "data": {
      "text/html": [
       "<div>\n",
       "<style scoped>\n",
       "    .dataframe tbody tr th:only-of-type {\n",
       "        vertical-align: middle;\n",
       "    }\n",
       "\n",
       "    .dataframe tbody tr th {\n",
       "        vertical-align: top;\n",
       "    }\n",
       "\n",
       "    .dataframe thead th {\n",
       "        text-align: right;\n",
       "    }\n",
       "</style>\n",
       "<table border=\"1\" class=\"dataframe\">\n",
       "  <thead>\n",
       "    <tr style=\"text-align: right;\">\n",
       "      <th></th>\n",
       "      <th>region</th>\n",
       "      <th>one_bed_price</th>\n",
       "      <th>one_bed_eur_per_sqm</th>\n",
       "      <th>two_bed_price</th>\n",
       "      <th>two_bed_eur_per_sqm</th>\n",
       "      <th>three_bed_price</th>\n",
       "      <th>three_bed_eur_per_sqm</th>\n",
       "      <th>overall_eur_per_sqm</th>\n",
       "      <th>date</th>\n",
       "    </tr>\n",
       "  </thead>\n",
       "  <tbody>\n",
       "    <tr>\n",
       "      <th>0</th>\n",
       "      <td>7-ми 11-ти километър</td>\n",
       "      <td>52686.0</td>\n",
       "      <td>1176.0</td>\n",
       "      <td>145502.0</td>\n",
       "      <td>1675.0</td>\n",
       "      <td>189050.0</td>\n",
       "      <td>1756.0</td>\n",
       "      <td>1745</td>\n",
       "      <td>13.8.2024</td>\n",
       "    </tr>\n",
       "    <tr>\n",
       "      <th>1</th>\n",
       "      <td>Банишора</td>\n",
       "      <td>49138.0</td>\n",
       "      <td>1134.0</td>\n",
       "      <td>104500.0</td>\n",
       "      <td>1691.0</td>\n",
       "      <td>142310.0</td>\n",
       "      <td>1503.0</td>\n",
       "      <td>1611</td>\n",
       "      <td>13.8.2024</td>\n",
       "    </tr>\n",
       "    <tr>\n",
       "      <th>2</th>\n",
       "      <td>Белите брези</td>\n",
       "      <td>38000.0</td>\n",
       "      <td>826.0</td>\n",
       "      <td>82365.0</td>\n",
       "      <td>1157.0</td>\n",
       "      <td>115805.0</td>\n",
       "      <td>1085.0</td>\n",
       "      <td>1157</td>\n",
       "      <td>13.8.2024</td>\n",
       "    </tr>\n",
       "    <tr>\n",
       "      <th>3</th>\n",
       "      <td>Бенковски</td>\n",
       "      <td>52686.0</td>\n",
       "      <td>1176.0</td>\n",
       "      <td>85262.0</td>\n",
       "      <td>1511.0</td>\n",
       "      <td>118750.0</td>\n",
       "      <td>1250.0</td>\n",
       "      <td>1351</td>\n",
       "      <td>13.8.2024</td>\n",
       "    </tr>\n",
       "    <tr>\n",
       "      <th>4</th>\n",
       "      <td>Борово</td>\n",
       "      <td>49400.0</td>\n",
       "      <td>1045.0</td>\n",
       "      <td>89774.0</td>\n",
       "      <td>1222.0</td>\n",
       "      <td>138890.0</td>\n",
       "      <td>1426.0</td>\n",
       "      <td>1232</td>\n",
       "      <td>13.8.2024</td>\n",
       "    </tr>\n",
       "    <tr>\n",
       "      <th>...</th>\n",
       "      <td>...</td>\n",
       "      <td>...</td>\n",
       "      <td>...</td>\n",
       "      <td>...</td>\n",
       "      <td>...</td>\n",
       "      <td>...</td>\n",
       "      <td>...</td>\n",
       "      <td>...</td>\n",
       "      <td>...</td>\n",
       "    </tr>\n",
       "    <tr>\n",
       "      <th>1745</th>\n",
       "      <td>с. Лозен</td>\n",
       "      <td>41956.0</td>\n",
       "      <td>762.0</td>\n",
       "      <td>53018.0</td>\n",
       "      <td>762.0</td>\n",
       "      <td>89849.0</td>\n",
       "      <td>834.0</td>\n",
       "      <td>762</td>\n",
       "      <td>11.1.2022</td>\n",
       "    </tr>\n",
       "    <tr>\n",
       "      <th>1746</th>\n",
       "      <td>с. Мировяне</td>\n",
       "      <td>52686.0</td>\n",
       "      <td>1176.0</td>\n",
       "      <td>47500.0</td>\n",
       "      <td>863.0</td>\n",
       "      <td>134900.0</td>\n",
       "      <td>1330.0</td>\n",
       "      <td>863</td>\n",
       "      <td>11.1.2022</td>\n",
       "    </tr>\n",
       "    <tr>\n",
       "      <th>1747</th>\n",
       "      <td>с. Мърчаево</td>\n",
       "      <td>52686.0</td>\n",
       "      <td>1176.0</td>\n",
       "      <td>26600.0</td>\n",
       "      <td>266.0</td>\n",
       "      <td>35862.0</td>\n",
       "      <td>297.0</td>\n",
       "      <td>297</td>\n",
       "      <td>11.1.2022</td>\n",
       "    </tr>\n",
       "    <tr>\n",
       "      <th>1748</th>\n",
       "      <td>с. Панчарево</td>\n",
       "      <td>52686.0</td>\n",
       "      <td>1176.0</td>\n",
       "      <td>76660.0</td>\n",
       "      <td>963.0</td>\n",
       "      <td>131779.0</td>\n",
       "      <td>1132.0</td>\n",
       "      <td>1173</td>\n",
       "      <td>11.1.2022</td>\n",
       "    </tr>\n",
       "    <tr>\n",
       "      <th>1749</th>\n",
       "      <td>с. Световрачене</td>\n",
       "      <td>37050.0</td>\n",
       "      <td>771.0</td>\n",
       "      <td>49400.0</td>\n",
       "      <td>771.0</td>\n",
       "      <td>134900.0</td>\n",
       "      <td>1330.0</td>\n",
       "      <td>771</td>\n",
       "      <td>11.1.2022</td>\n",
       "    </tr>\n",
       "  </tbody>\n",
       "</table>\n",
       "<p>1750 rows × 9 columns</p>\n",
       "</div>"
      ],
      "text/plain": [
       "                    region  one_bed_price  one_bed_eur_per_sqm  two_bed_price  \\\n",
       "0     7-ми 11-ти километър        52686.0               1176.0       145502.0   \n",
       "1                 Банишора        49138.0               1134.0       104500.0   \n",
       "2             Белите брези        38000.0                826.0        82365.0   \n",
       "3                Бенковски        52686.0               1176.0        85262.0   \n",
       "4                   Борово        49400.0               1045.0        89774.0   \n",
       "...                    ...            ...                  ...            ...   \n",
       "1745              с. Лозен        41956.0                762.0        53018.0   \n",
       "1746           с. Мировяне        52686.0               1176.0        47500.0   \n",
       "1747           с. Мърчаево        52686.0               1176.0        26600.0   \n",
       "1748          с. Панчарево        52686.0               1176.0        76660.0   \n",
       "1749       с. Световрачене        37050.0                771.0        49400.0   \n",
       "\n",
       "      two_bed_eur_per_sqm  three_bed_price  three_bed_eur_per_sqm  \\\n",
       "0                  1675.0         189050.0                 1756.0   \n",
       "1                  1691.0         142310.0                 1503.0   \n",
       "2                  1157.0         115805.0                 1085.0   \n",
       "3                  1511.0         118750.0                 1250.0   \n",
       "4                  1222.0         138890.0                 1426.0   \n",
       "...                   ...              ...                    ...   \n",
       "1745                762.0          89849.0                  834.0   \n",
       "1746                863.0         134900.0                 1330.0   \n",
       "1747                266.0          35862.0                  297.0   \n",
       "1748                963.0         131779.0                 1132.0   \n",
       "1749                771.0         134900.0                 1330.0   \n",
       "\n",
       "      overall_eur_per_sqm       date  \n",
       "0                    1745  13.8.2024  \n",
       "1                    1611  13.8.2024  \n",
       "2                    1157  13.8.2024  \n",
       "3                    1351  13.8.2024  \n",
       "4                    1232  13.8.2024  \n",
       "...                   ...        ...  \n",
       "1745                  762  11.1.2022  \n",
       "1746                  863  11.1.2022  \n",
       "1747                  297  11.1.2022  \n",
       "1748                 1173  11.1.2022  \n",
       "1749                  771  11.1.2022  \n",
       "\n",
       "[1750 rows x 9 columns]"
      ]
     },
     "execution_count": 11,
     "metadata": {},
     "output_type": "execute_result"
    }
   ],
   "source": [
    "second_df"
   ]
  },
  {
   "cell_type": "markdown",
   "id": "16af50f9-3dd3-4cb7-ac60-c867f5fd43dc",
   "metadata": {},
   "source": [
    "Now we see the prices are filled and formated.\n",
    "\n",
    "Check the data types again:"
   ]
  },
  {
   "cell_type": "code",
   "execution_count": 12,
   "id": "9bc95e38-fb59-46ae-94f5-a4d5cd71cfec",
   "metadata": {},
   "outputs": [
    {
     "data": {
      "text/plain": [
       "region                    object\n",
       "one_bed_price            float64\n",
       "one_bed_eur_per_sqm      float64\n",
       "two_bed_price            float64\n",
       "two_bed_eur_per_sqm      float64\n",
       "three_bed_price          float64\n",
       "three_bed_eur_per_sqm    float64\n",
       "overall_eur_per_sqm        int64\n",
       "date                      object\n",
       "dtype: object"
      ]
     },
     "execution_count": 12,
     "metadata": {},
     "output_type": "execute_result"
    }
   ],
   "source": [
    "second_df.dtypes"
   ]
  },
  {
   "cell_type": "markdown",
   "id": "42de6f7c-c7ee-4d0f-b776-97146c287830",
   "metadata": {},
   "source": [
    "Covert the \"date\" column in the correct data type:"
   ]
  },
  {
   "cell_type": "code",
   "execution_count": 13,
   "id": "15e50f94-a38e-43f6-890e-f3750f08bd17",
   "metadata": {},
   "outputs": [],
   "source": [
    "second_df['date'] = pd.to_datetime(second_df['date'], format='%d.%m.%Y')"
   ]
  },
  {
   "cell_type": "markdown",
   "id": "ba120cad-77d2-41e1-876f-2d7eab5257a4",
   "metadata": {},
   "source": [
    "Check the format of the \"Дата\" column:"
   ]
  },
  {
   "cell_type": "code",
   "execution_count": 14,
   "id": "0d356e8a-8679-4ab0-8b25-4b37aceaae2b",
   "metadata": {},
   "outputs": [
    {
     "data": {
      "text/plain": [
       "0      2024-08-13\n",
       "1      2024-08-13\n",
       "2      2024-08-13\n",
       "3      2024-08-13\n",
       "4      2024-08-13\n",
       "          ...    \n",
       "1745   2022-01-11\n",
       "1746   2022-01-11\n",
       "1747   2022-01-11\n",
       "1748   2022-01-11\n",
       "1749   2022-01-11\n",
       "Name: date, Length: 1750, dtype: datetime64[ns]"
      ]
     },
     "execution_count": 14,
     "metadata": {},
     "output_type": "execute_result"
    }
   ],
   "source": [
    "second_df[\"date\"]"
   ]
  },
  {
   "cell_type": "code",
   "execution_count": 15,
   "id": "c8c3b1c3-31e2-4d82-89fb-2ae4fa4e0f1a",
   "metadata": {},
   "outputs": [
    {
     "data": {
      "text/plain": [
       "region                   0\n",
       "one_bed_price            0\n",
       "one_bed_eur_per_sqm      0\n",
       "two_bed_price            0\n",
       "two_bed_eur_per_sqm      0\n",
       "three_bed_price          0\n",
       "three_bed_eur_per_sqm    0\n",
       "overall_eur_per_sqm      0\n",
       "date                     0\n",
       "dtype: int64"
      ]
     },
     "execution_count": 15,
     "metadata": {},
     "output_type": "execute_result"
    }
   ],
   "source": [
    "second_df.isna().sum()"
   ]
  },
  {
   "cell_type": "markdown",
   "id": "8f1e936e-1539-4b1a-b5b5-6f1802458b1b",
   "metadata": {},
   "source": [
    "All NaNs have been successfully replaced.\n",
    "\n",
    "### Let's plot the prices over time for each apartment type:"
   ]
  },
  {
   "cell_type": "code",
   "execution_count": 16,
   "id": "18a56a9a-a54c-4794-ae10-d6d4f17d4154",
   "metadata": {},
   "outputs": [
    {
     "data": {
      "image/png": "[encoded data removed]",
      "text/plain": [
       "<Figure size 1008x576 with 1 Axes>"
      ]
     },
     "metadata": {
      "needs_background": "light"
     },
     "output_type": "display_data"
    }
   ],
   "source": [
    "plt.figure(figsize=(14, 8))\n",
    "\n",
    "# Plot the prices over time for each type of apartment\n",
    "sns.lineplot(x='date', y='one_bed_price', data=second_df, marker='o', label='one_bed_price', color='blue')\n",
    "sns.lineplot(x='date', y='two_bed_price', data=second_df, marker='o', label='two_bed_price', color='green')\n",
    "sns.lineplot(x='date', y='three_bed_price', data=second_df, marker='o', label='three_bed_price', color='red')\n",
    "\n",
    "plt.title('Apartment Prices Over Time')\n",
    "plt.xlabel('Date')\n",
    "plt.ylabel('Price (€)')\n",
    "plt.legend(title='Apartment Type')\n",
    "plt.grid(True)\n",
    "plt.xticks(rotation=45)\n",
    "plt.tight_layout()\n",
    "\n",
    "plt.show()"
   ]
  },
  {
   "cell_type": "markdown",
   "id": "be1002a5-94bb-47bb-95b4-deb39b403ad0",
   "metadata": {},
   "source": [
    "#### Another plot:"
   ]
  },
  {
   "cell_type": "code",
   "execution_count": 17,
   "id": "f4e6ae81-67d2-458d-9058-a39a3b4ff076",
   "metadata": {},
   "outputs": [
    {
     "data": {
      "image/png": "[encoded data removed]",
      "text/plain": [
       "<Figure size 1440x720 with 1 Axes>"
      ]
     },
     "metadata": {
      "needs_background": "light"
     },
     "output_type": "display_data"
    }
   ],
   "source": [
    "# Filter data by a specific date \n",
    "date_filter = '2024-08-13'\n",
    "filtered_df = second_df[second_df['date'] == date_filter]\n",
    "\n",
    "plt.figure(figsize=(20, 10))\n",
    "\n",
    "# Create bar plot for the prices\n",
    "sns.barplot(x='region', y='one_bed_price', data=filtered_df, color='blue', label='one_bed_price')\n",
    "sns.barplot(x='region', y='two_bed_price', data=filtered_df, color='green', label='two_bed_price', alpha=0.6)\n",
    "sns.barplot(x='region', y='three_bed_price', data=filtered_df, color='red', label='three_bed_price', alpha=0.3)\n",
    "\n",
    "plt.xticks(rotation=90)\n",
    "plt.title(f'Comparison of Apartment Prices and €/sq.m Across Districts on {date_filter}')\n",
    "plt.ylabel('Price')\n",
    "plt.xlabel('Region')\n",
    "plt.legend(loc='upper right')\n",
    "plt.tight_layout()\n",
    "\n",
    "plt.show()"
   ]
  },
  {
   "cell_type": "markdown",
   "id": "c7c3cd02-5970-4718-a74f-d8089fe19266",
   "metadata": {},
   "source": [
    "How many unique regions we have in the dataset:"
   ]
  },
  {
   "cell_type": "code",
   "execution_count": 18,
   "id": "dfa71c29-5114-4ac6-b794-a5bdb4be4b3e",
   "metadata": {},
   "outputs": [
    {
     "data": {
      "text/plain": [
       "160"
      ]
     },
     "execution_count": 18,
     "metadata": {},
     "output_type": "execute_result"
    }
   ],
   "source": [
    "len(second_df['region'].unique())"
   ]
  },
  {
   "cell_type": "markdown",
   "id": "389b4327-4df0-4ea8-be4f-984a72edf1a4",
   "metadata": {},
   "source": [
    "And which are thay:"
   ]
  },
  {
   "cell_type": "code",
   "execution_count": 19,
   "id": "5a1848ba-4e21-4186-8ec9-23f5c7b094d1",
   "metadata": {},
   "outputs": [
    {
     "data": {
      "text/plain": [
       "array(['7-ми 11-ти километър', 'Банишора', 'Белите брези', 'Бенковски',\n",
       "       'Борово', 'Ботунец', 'Ботунец 2', 'Бояна', 'Бъкстон', 'Витоша',\n",
       "       'Военна рампа', 'Враждебна', 'Връбница 1', 'Връбница 2',\n",
       "       'Гевгелийски', 'Гео Милев', 'Горна баня', 'Горубляне',\n",
       "       'Гоце Делчев', 'Градина', 'Дианабад', 'Докторски паметник',\n",
       "       'Драгалевци', 'Дружба 1', 'Дружба 2', 'Дървеница',\n",
       "       'Експериментален', 'Западен парк', 'Захарна фабрика', 'Зона Б-18',\n",
       "       'Зона Б-19', 'Зона Б-5', 'Зона Б-5-3', 'Иван Вазов', 'Изгрев',\n",
       "       'Изток', 'Илинден', 'Илиянци', 'Карпузица', 'Княжево',\n",
       "       'Красна поляна 1', 'Красна поляна 2', 'Красна поляна 3',\n",
       "       'Красно село', 'Кремиковци', 'Кръстова вада', 'Лагера', 'Левски',\n",
       "       'Левски В', 'Левски Г', 'Летище София', 'Лозенец',\n",
       "       'Люлин - център', 'Люлин 1', 'Люлин 10', 'Люлин 2', 'Люлин 3',\n",
       "       'Люлин 4', 'Люлин 5', 'Люлин 6', 'Люлин 7', 'Люлин 8', 'Люлин 9',\n",
       "       'Малашевци', 'Малинова долина', 'Манастирски ливади',\n",
       "       'Медицинска академия', 'Младост 1', 'Младост 1А', 'Младост 2',\n",
       "       'Младост 3', 'Младост 4', 'Модерно предградие', 'Мусагеница',\n",
       "       'НПЗ Искър', 'Надежда 1', 'Надежда 2', 'Надежда 3', 'Надежда 4',\n",
       "       'Обеля', 'Обеля 1', 'Обеля 2', 'Оборище', 'Овча купел',\n",
       "       'Овча купел 1', 'Овча купел 2', 'Орландовци', 'ПЗ Хладилника',\n",
       "       'Павлово', 'Подуяне', 'Полигона', 'Разсадника', 'Редута',\n",
       "       'СПЗ Слатина', 'Света Троица', 'Свобода', 'Сердика', 'Симеоново',\n",
       "       'Славия', 'Слатина', 'Стрелбище', 'Студентски град', 'Сухата река',\n",
       "       'Суходол', 'Толстой', 'Триъгълника', 'Факултета', 'Филиповци',\n",
       "       'Фондови жилища', 'Хаджи Димитър', 'Хиподрума', 'Хладилника',\n",
       "       'Христо Ботев', 'Център', 'Яворов', 'в.з.Американски колеж',\n",
       "       'в.з.Беловодски път', 'в.з.Бояна', 'в.з.Бункера',\n",
       "       'в.з.Врана - Лозен', 'в.з.Киноцентъра', 'в.з.Киноцентъра 3 част',\n",
       "       'в.з.Малинова долина', 'в.з.Малинова долина - Герена',\n",
       "       'в.з.Симеоново - Драгалевци', 'гр. Банкя', 'гр. Бухово',\n",
       "       'гр. Нови Искър', 'ж.гр.Зоопарк', 'ж.гр.Южен парк',\n",
       "       'м-т Гърдова глава', 'м-т Детски град', 'м-т Камбаните',\n",
       "       'м-т яз. Искър', 'с. Бистрица', 'с. Владая', 'с. Волуяк',\n",
       "       'с. Герман', 'с. Доброславци', 'с. Иваняне', 'с. Казичене',\n",
       "       'с. Лозен', 'с. Мало Бучино', 'с. Мировяне', 'с. Мърчаево',\n",
       "       'с. Панчарево', 'с. Световрачене', 'в.з.Горна баня', 'с. Кокаляне',\n",
       "       'с. Яна', 'с. Мрамор', 'СПЗ Модерно предградие', 'в.з.Килиите',\n",
       "       'с. Кътина', 'НПЗ Хаджи Димитър', 'с. Железница',\n",
       "       'в.з.Врана - Герман', 'Димитър Миленков', 'НПЗ Средец',\n",
       "       'ПЗ Илиянци'], dtype=object)"
      ]
     },
     "execution_count": 19,
     "metadata": {},
     "output_type": "execute_result"
    }
   ],
   "source": [
    "second_df['region'].unique()"
   ]
  },
  {
   "cell_type": "code",
   "execution_count": 20,
   "id": "db305af5-c720-4efa-8c7b-d64ecca4fcaf",
   "metadata": {},
   "outputs": [
    {
     "data": {
      "text/plain": [
       "180500.0"
      ]
     },
     "execution_count": 20,
     "metadata": {},
     "output_type": "execute_result"
    }
   ],
   "source": [
    "second_df['one_bed_price'].max()"
   ]
  },
  {
   "cell_type": "code",
   "execution_count": 21,
   "id": "d965d6ce-88b3-4bc8-94c5-e92287a23e51",
   "metadata": {},
   "outputs": [
    {
     "data": {
      "text/html": [
       "<div>\n",
       "<style scoped>\n",
       "    .dataframe tbody tr th:only-of-type {\n",
       "        vertical-align: middle;\n",
       "    }\n",
       "\n",
       "    .dataframe tbody tr th {\n",
       "        vertical-align: top;\n",
       "    }\n",
       "\n",
       "    .dataframe thead th {\n",
       "        text-align: right;\n",
       "    }\n",
       "</style>\n",
       "<table border=\"1\" class=\"dataframe\">\n",
       "  <thead>\n",
       "    <tr style=\"text-align: right;\">\n",
       "      <th></th>\n",
       "      <th>region</th>\n",
       "      <th>one_bed_price</th>\n",
       "      <th>one_bed_eur_per_sqm</th>\n",
       "      <th>two_bed_price</th>\n",
       "      <th>two_bed_eur_per_sqm</th>\n",
       "      <th>three_bed_price</th>\n",
       "      <th>three_bed_eur_per_sqm</th>\n",
       "      <th>overall_eur_per_sqm</th>\n",
       "      <th>date</th>\n",
       "    </tr>\n",
       "  </thead>\n",
       "  <tbody>\n",
       "    <tr>\n",
       "      <th>168</th>\n",
       "      <td>Докторски паметник</td>\n",
       "      <td>180500.0</td>\n",
       "      <td>4512.0</td>\n",
       "      <td>323000.0</td>\n",
       "      <td>3867.0</td>\n",
       "      <td>394250.0</td>\n",
       "      <td>3657.0</td>\n",
       "      <td>3779</td>\n",
       "      <td>2024-06-04</td>\n",
       "    </tr>\n",
       "    <tr>\n",
       "      <th>316</th>\n",
       "      <td>Докторски паметник</td>\n",
       "      <td>180500.0</td>\n",
       "      <td>4512.0</td>\n",
       "      <td>280250.0</td>\n",
       "      <td>3932.0</td>\n",
       "      <td>394250.0</td>\n",
       "      <td>3562.0</td>\n",
       "      <td>3895</td>\n",
       "      <td>2024-04-23</td>\n",
       "    </tr>\n",
       "    <tr>\n",
       "      <th>21</th>\n",
       "      <td>Докторски паметник</td>\n",
       "      <td>163400.0</td>\n",
       "      <td>4085.0</td>\n",
       "      <td>318250.0</td>\n",
       "      <td>4432.0</td>\n",
       "      <td>365750.0</td>\n",
       "      <td>3602.0</td>\n",
       "      <td>3735</td>\n",
       "      <td>2024-08-13</td>\n",
       "    </tr>\n",
       "    <tr>\n",
       "      <th>559</th>\n",
       "      <td>Яворов</td>\n",
       "      <td>152000.0</td>\n",
       "      <td>3800.0</td>\n",
       "      <td>165300.0</td>\n",
       "      <td>2405.0</td>\n",
       "      <td>204250.0</td>\n",
       "      <td>2389.0</td>\n",
       "      <td>2406</td>\n",
       "      <td>2024-01-16</td>\n",
       "    </tr>\n",
       "    <tr>\n",
       "      <th>1344</th>\n",
       "      <td>Докторски паметник</td>\n",
       "      <td>142500.0</td>\n",
       "      <td>4750.0</td>\n",
       "      <td>242231.0</td>\n",
       "      <td>4115.0</td>\n",
       "      <td>285000.0</td>\n",
       "      <td>3585.0</td>\n",
       "      <td>3762</td>\n",
       "      <td>2022-07-26</td>\n",
       "    </tr>\n",
       "  </tbody>\n",
       "</table>\n",
       "</div>"
      ],
      "text/plain": [
       "                  region  one_bed_price  one_bed_eur_per_sqm  two_bed_price  \\\n",
       "168   Докторски паметник       180500.0               4512.0       323000.0   \n",
       "316   Докторски паметник       180500.0               4512.0       280250.0   \n",
       "21    Докторски паметник       163400.0               4085.0       318250.0   \n",
       "559               Яворов       152000.0               3800.0       165300.0   \n",
       "1344  Докторски паметник       142500.0               4750.0       242231.0   \n",
       "\n",
       "      two_bed_eur_per_sqm  three_bed_price  three_bed_eur_per_sqm  \\\n",
       "168                3867.0         394250.0                 3657.0   \n",
       "316                3932.0         394250.0                 3562.0   \n",
       "21                 4432.0         365750.0                 3602.0   \n",
       "559                2405.0         204250.0                 2389.0   \n",
       "1344               4115.0         285000.0                 3585.0   \n",
       "\n",
       "      overall_eur_per_sqm       date  \n",
       "168                  3779 2024-06-04  \n",
       "316                  3895 2024-04-23  \n",
       "21                   3735 2024-08-13  \n",
       "559                  2406 2024-01-16  \n",
       "1344                 3762 2022-07-26  "
      ]
     },
     "execution_count": 21,
     "metadata": {},
     "output_type": "execute_result"
    }
   ],
   "source": [
    "top_5_rows = second_df.nlargest(5, 'one_bed_price')  \n",
    "top_5_rows"
   ]
  },
  {
   "cell_type": "code",
   "execution_count": 22,
   "id": "cbb2695e-db22-4283-a71f-fa52fd8c81e4",
   "metadata": {},
   "outputs": [
    {
     "data": {
      "text/html": [
       "<div>\n",
       "<style scoped>\n",
       "    .dataframe tbody tr th:only-of-type {\n",
       "        vertical-align: middle;\n",
       "    }\n",
       "\n",
       "    .dataframe tbody tr th {\n",
       "        vertical-align: top;\n",
       "    }\n",
       "\n",
       "    .dataframe thead th {\n",
       "        text-align: right;\n",
       "    }\n",
       "</style>\n",
       "<table border=\"1\" class=\"dataframe\">\n",
       "  <thead>\n",
       "    <tr style=\"text-align: right;\">\n",
       "      <th></th>\n",
       "      <th>region</th>\n",
       "      <th>one_bed_price</th>\n",
       "      <th>one_bed_eur_per_sqm</th>\n",
       "      <th>two_bed_price</th>\n",
       "      <th>two_bed_eur_per_sqm</th>\n",
       "      <th>three_bed_price</th>\n",
       "      <th>three_bed_eur_per_sqm</th>\n",
       "      <th>overall_eur_per_sqm</th>\n",
       "      <th>date</th>\n",
       "      <th>z_score</th>\n",
       "    </tr>\n",
       "  </thead>\n",
       "  <tbody>\n",
       "    <tr>\n",
       "      <th>21</th>\n",
       "      <td>Докторски паметник</td>\n",
       "      <td>163400.0</td>\n",
       "      <td>4085.0</td>\n",
       "      <td>318250.0</td>\n",
       "      <td>4432.0</td>\n",
       "      <td>365750.0</td>\n",
       "      <td>3602.0</td>\n",
       "      <td>3735</td>\n",
       "      <td>2024-08-13</td>\n",
       "      <td>6.817904</td>\n",
       "    </tr>\n",
       "    <tr>\n",
       "      <th>35</th>\n",
       "      <td>Изток</td>\n",
       "      <td>66499.0</td>\n",
       "      <td>2501.0</td>\n",
       "      <td>142025.0</td>\n",
       "      <td>2040.0</td>\n",
       "      <td>173850.0</td>\n",
       "      <td>1757.0</td>\n",
       "      <td>1957</td>\n",
       "      <td>2024-08-13</td>\n",
       "      <td>3.041322</td>\n",
       "    </tr>\n",
       "    <tr>\n",
       "      <th>100</th>\n",
       "      <td>Стрелбище</td>\n",
       "      <td>104500.0</td>\n",
       "      <td>2548.0</td>\n",
       "      <td>137750.0</td>\n",
       "      <td>1979.0</td>\n",
       "      <td>190000.0</td>\n",
       "      <td>2058.0</td>\n",
       "      <td>2014</td>\n",
       "      <td>2024-08-13</td>\n",
       "      <td>3.153380</td>\n",
       "    </tr>\n",
       "    <tr>\n",
       "      <th>168</th>\n",
       "      <td>Докторски паметник</td>\n",
       "      <td>180500.0</td>\n",
       "      <td>4512.0</td>\n",
       "      <td>323000.0</td>\n",
       "      <td>3867.0</td>\n",
       "      <td>394250.0</td>\n",
       "      <td>3657.0</td>\n",
       "      <td>3779</td>\n",
       "      <td>2024-06-04</td>\n",
       "      <td>7.835960</td>\n",
       "    </tr>\n",
       "    <tr>\n",
       "      <th>316</th>\n",
       "      <td>Докторски паметник</td>\n",
       "      <td>180500.0</td>\n",
       "      <td>4512.0</td>\n",
       "      <td>280250.0</td>\n",
       "      <td>3932.0</td>\n",
       "      <td>394250.0</td>\n",
       "      <td>3562.0</td>\n",
       "      <td>3895</td>\n",
       "      <td>2024-04-23</td>\n",
       "      <td>7.835960</td>\n",
       "    </tr>\n",
       "    <tr>\n",
       "      <th>328</th>\n",
       "      <td>Иван Вазов</td>\n",
       "      <td>94981.0</td>\n",
       "      <td>3166.0</td>\n",
       "      <td>85500.0</td>\n",
       "      <td>1285.0</td>\n",
       "      <td>222775.0</td>\n",
       "      <td>2138.0</td>\n",
       "      <td>2760</td>\n",
       "      <td>2024-04-23</td>\n",
       "      <td>4.626819</td>\n",
       "    </tr>\n",
       "    <tr>\n",
       "      <th>395</th>\n",
       "      <td>Стрелбище</td>\n",
       "      <td>118750.0</td>\n",
       "      <td>2548.0</td>\n",
       "      <td>109250.0</td>\n",
       "      <td>1521.0</td>\n",
       "      <td>189002.0</td>\n",
       "      <td>1884.0</td>\n",
       "      <td>1801</td>\n",
       "      <td>2024-04-23</td>\n",
       "      <td>3.153380</td>\n",
       "    </tr>\n",
       "    <tr>\n",
       "      <th>460</th>\n",
       "      <td>Гео Милев</td>\n",
       "      <td>114000.0</td>\n",
       "      <td>2698.0</td>\n",
       "      <td>96425.0</td>\n",
       "      <td>1344.0</td>\n",
       "      <td>166250.0</td>\n",
       "      <td>1687.0</td>\n",
       "      <td>1397</td>\n",
       "      <td>2024-01-16</td>\n",
       "      <td>3.511011</td>\n",
       "    </tr>\n",
       "    <tr>\n",
       "      <th>559</th>\n",
       "      <td>Яворов</td>\n",
       "      <td>152000.0</td>\n",
       "      <td>3800.0</td>\n",
       "      <td>165300.0</td>\n",
       "      <td>2405.0</td>\n",
       "      <td>204250.0</td>\n",
       "      <td>2389.0</td>\n",
       "      <td>2406</td>\n",
       "      <td>2024-01-16</td>\n",
       "      <td>6.138406</td>\n",
       "    </tr>\n",
       "    <tr>\n",
       "      <th>603</th>\n",
       "      <td>Гео Милев</td>\n",
       "      <td>114000.0</td>\n",
       "      <td>2850.0</td>\n",
       "      <td>94525.0</td>\n",
       "      <td>1300.0</td>\n",
       "      <td>152000.0</td>\n",
       "      <td>1474.0</td>\n",
       "      <td>1397</td>\n",
       "      <td>2023-11-14</td>\n",
       "      <td>3.873410</td>\n",
       "    </tr>\n",
       "    <tr>\n",
       "      <th>609</th>\n",
       "      <td>Докторски паметник</td>\n",
       "      <td>141550.0</td>\n",
       "      <td>2831.0</td>\n",
       "      <td>285000.0</td>\n",
       "      <td>4069.0</td>\n",
       "      <td>332500.0</td>\n",
       "      <td>3598.0</td>\n",
       "      <td>3808</td>\n",
       "      <td>2023-11-14</td>\n",
       "      <td>3.828110</td>\n",
       "    </tr>\n",
       "    <tr>\n",
       "      <th>755</th>\n",
       "      <td>Докторски паметник</td>\n",
       "      <td>118740.0</td>\n",
       "      <td>2827.0</td>\n",
       "      <td>285000.0</td>\n",
       "      <td>4297.0</td>\n",
       "      <td>332500.0</td>\n",
       "      <td>3674.0</td>\n",
       "      <td>3800</td>\n",
       "      <td>2023-07-25</td>\n",
       "      <td>3.818573</td>\n",
       "    </tr>\n",
       "    <tr>\n",
       "      <th>768</th>\n",
       "      <td>Изгрев</td>\n",
       "      <td>141075.0</td>\n",
       "      <td>3135.0</td>\n",
       "      <td>172282.0</td>\n",
       "      <td>2618.0</td>\n",
       "      <td>296400.0</td>\n",
       "      <td>2837.0</td>\n",
       "      <td>2813</td>\n",
       "      <td>2023-07-25</td>\n",
       "      <td>4.552909</td>\n",
       "    </tr>\n",
       "    <tr>\n",
       "      <th>848</th>\n",
       "      <td>Яворов</td>\n",
       "      <td>47500.0</td>\n",
       "      <td>2714.0</td>\n",
       "      <td>180500.0</td>\n",
       "      <td>2776.0</td>\n",
       "      <td>204250.0</td>\n",
       "      <td>2265.0</td>\n",
       "      <td>2525</td>\n",
       "      <td>2023-07-25</td>\n",
       "      <td>3.549158</td>\n",
       "    </tr>\n",
       "    <tr>\n",
       "      <th>914</th>\n",
       "      <td>Изгрев</td>\n",
       "      <td>141075.0</td>\n",
       "      <td>3135.0</td>\n",
       "      <td>185664.0</td>\n",
       "      <td>2744.0</td>\n",
       "      <td>336870.0</td>\n",
       "      <td>2975.0</td>\n",
       "      <td>2814</td>\n",
       "      <td>2023-04-25</td>\n",
       "      <td>4.552909</td>\n",
       "    </tr>\n",
       "    <tr>\n",
       "      <th>1051</th>\n",
       "      <td>Докторски паметник</td>\n",
       "      <td>85500.0</td>\n",
       "      <td>3420.0</td>\n",
       "      <td>285000.0</td>\n",
       "      <td>3885.0</td>\n",
       "      <td>327750.0</td>\n",
       "      <td>3653.0</td>\n",
       "      <td>3713</td>\n",
       "      <td>2023-01-10</td>\n",
       "      <td>5.232407</td>\n",
       "    </tr>\n",
       "    <tr>\n",
       "      <th>1063</th>\n",
       "      <td>Иван Вазов</td>\n",
       "      <td>128012.0</td>\n",
       "      <td>2897.0</td>\n",
       "      <td>121125.0</td>\n",
       "      <td>1760.0</td>\n",
       "      <td>171000.0</td>\n",
       "      <td>1851.0</td>\n",
       "      <td>2295</td>\n",
       "      <td>2023-01-10</td>\n",
       "      <td>3.985468</td>\n",
       "    </tr>\n",
       "    <tr>\n",
       "      <th>1064</th>\n",
       "      <td>Изгрев</td>\n",
       "      <td>141075.0</td>\n",
       "      <td>3135.0</td>\n",
       "      <td>192660.0</td>\n",
       "      <td>2570.0</td>\n",
       "      <td>287375.0</td>\n",
       "      <td>2695.0</td>\n",
       "      <td>2612</td>\n",
       "      <td>2023-01-10</td>\n",
       "      <td>4.552909</td>\n",
       "    </tr>\n",
       "    <tr>\n",
       "      <th>1131</th>\n",
       "      <td>Стрелбище</td>\n",
       "      <td>113762.0</td>\n",
       "      <td>2510.0</td>\n",
       "      <td>122075.0</td>\n",
       "      <td>2065.0</td>\n",
       "      <td>161020.0</td>\n",
       "      <td>1467.0</td>\n",
       "      <td>1805</td>\n",
       "      <td>2023-01-10</td>\n",
       "      <td>3.062780</td>\n",
       "    </tr>\n",
       "    <tr>\n",
       "      <th>1197</th>\n",
       "      <td>Докторски паметник</td>\n",
       "      <td>85500.0</td>\n",
       "      <td>3420.0</td>\n",
       "      <td>251745.0</td>\n",
       "      <td>3911.0</td>\n",
       "      <td>318250.0</td>\n",
       "      <td>3800.0</td>\n",
       "      <td>3739</td>\n",
       "      <td>2022-11-15</td>\n",
       "      <td>5.232407</td>\n",
       "    </tr>\n",
       "    <tr>\n",
       "      <th>1209</th>\n",
       "      <td>Иван Вазов</td>\n",
       "      <td>120460.0</td>\n",
       "      <td>3172.0</td>\n",
       "      <td>121125.0</td>\n",
       "      <td>1888.0</td>\n",
       "      <td>174800.0</td>\n",
       "      <td>2001.0</td>\n",
       "      <td>2171</td>\n",
       "      <td>2022-11-15</td>\n",
       "      <td>4.641124</td>\n",
       "    </tr>\n",
       "    <tr>\n",
       "      <th>1279</th>\n",
       "      <td>Стрелбище</td>\n",
       "      <td>108300.0</td>\n",
       "      <td>2540.0</td>\n",
       "      <td>118037.0</td>\n",
       "      <td>1864.0</td>\n",
       "      <td>166250.0</td>\n",
       "      <td>1467.0</td>\n",
       "      <td>1746</td>\n",
       "      <td>2022-11-15</td>\n",
       "      <td>3.134306</td>\n",
       "    </tr>\n",
       "    <tr>\n",
       "      <th>1344</th>\n",
       "      <td>Докторски паметник</td>\n",
       "      <td>142500.0</td>\n",
       "      <td>4750.0</td>\n",
       "      <td>242231.0</td>\n",
       "      <td>4115.0</td>\n",
       "      <td>285000.0</td>\n",
       "      <td>3585.0</td>\n",
       "      <td>3762</td>\n",
       "      <td>2022-07-26</td>\n",
       "      <td>8.403402</td>\n",
       "    </tr>\n",
       "    <tr>\n",
       "      <th>1356</th>\n",
       "      <td>Иван Вазов</td>\n",
       "      <td>85500.0</td>\n",
       "      <td>2850.0</td>\n",
       "      <td>110675.0</td>\n",
       "      <td>1596.0</td>\n",
       "      <td>174800.0</td>\n",
       "      <td>1929.0</td>\n",
       "      <td>2137</td>\n",
       "      <td>2022-07-26</td>\n",
       "      <td>3.873410</td>\n",
       "    </tr>\n",
       "    <tr>\n",
       "      <th>1501</th>\n",
       "      <td>Иван Вазов</td>\n",
       "      <td>107350.0</td>\n",
       "      <td>2683.0</td>\n",
       "      <td>85500.0</td>\n",
       "      <td>1285.0</td>\n",
       "      <td>179740.0</td>\n",
       "      <td>2001.0</td>\n",
       "      <td>1860</td>\n",
       "      <td>2022-04-26</td>\n",
       "      <td>3.475247</td>\n",
       "    </tr>\n",
       "  </tbody>\n",
       "</table>\n",
       "</div>"
      ],
      "text/plain": [
       "                  region  one_bed_price  one_bed_eur_per_sqm  two_bed_price  \\\n",
       "21    Докторски паметник       163400.0               4085.0       318250.0   \n",
       "35                 Изток        66499.0               2501.0       142025.0   \n",
       "100            Стрелбище       104500.0               2548.0       137750.0   \n",
       "168   Докторски паметник       180500.0               4512.0       323000.0   \n",
       "316   Докторски паметник       180500.0               4512.0       280250.0   \n",
       "328           Иван Вазов        94981.0               3166.0        85500.0   \n",
       "395            Стрелбище       118750.0               2548.0       109250.0   \n",
       "460            Гео Милев       114000.0               2698.0        96425.0   \n",
       "559               Яворов       152000.0               3800.0       165300.0   \n",
       "603            Гео Милев       114000.0               2850.0        94525.0   \n",
       "609   Докторски паметник       141550.0               2831.0       285000.0   \n",
       "755   Докторски паметник       118740.0               2827.0       285000.0   \n",
       "768               Изгрев       141075.0               3135.0       172282.0   \n",
       "848               Яворов        47500.0               2714.0       180500.0   \n",
       "914               Изгрев       141075.0               3135.0       185664.0   \n",
       "1051  Докторски паметник        85500.0               3420.0       285000.0   \n",
       "1063          Иван Вазов       128012.0               2897.0       121125.0   \n",
       "1064              Изгрев       141075.0               3135.0       192660.0   \n",
       "1131           Стрелбище       113762.0               2510.0       122075.0   \n",
       "1197  Докторски паметник        85500.0               3420.0       251745.0   \n",
       "1209          Иван Вазов       120460.0               3172.0       121125.0   \n",
       "1279           Стрелбище       108300.0               2540.0       118037.0   \n",
       "1344  Докторски паметник       142500.0               4750.0       242231.0   \n",
       "1356          Иван Вазов        85500.0               2850.0       110675.0   \n",
       "1501          Иван Вазов       107350.0               2683.0        85500.0   \n",
       "\n",
       "      two_bed_eur_per_sqm  three_bed_price  three_bed_eur_per_sqm  \\\n",
       "21                 4432.0         365750.0                 3602.0   \n",
       "35                 2040.0         173850.0                 1757.0   \n",
       "100                1979.0         190000.0                 2058.0   \n",
       "168                3867.0         394250.0                 3657.0   \n",
       "316                3932.0         394250.0                 3562.0   \n",
       "328                1285.0         222775.0                 2138.0   \n",
       "395                1521.0         189002.0                 1884.0   \n",
       "460                1344.0         166250.0                 1687.0   \n",
       "559                2405.0         204250.0                 2389.0   \n",
       "603                1300.0         152000.0                 1474.0   \n",
       "609                4069.0         332500.0                 3598.0   \n",
       "755                4297.0         332500.0                 3674.0   \n",
       "768                2618.0         296400.0                 2837.0   \n",
       "848                2776.0         204250.0                 2265.0   \n",
       "914                2744.0         336870.0                 2975.0   \n",
       "1051               3885.0         327750.0                 3653.0   \n",
       "1063               1760.0         171000.0                 1851.0   \n",
       "1064               2570.0         287375.0                 2695.0   \n",
       "1131               2065.0         161020.0                 1467.0   \n",
       "1197               3911.0         318250.0                 3800.0   \n",
       "1209               1888.0         174800.0                 2001.0   \n",
       "1279               1864.0         166250.0                 1467.0   \n",
       "1344               4115.0         285000.0                 3585.0   \n",
       "1356               1596.0         174800.0                 1929.0   \n",
       "1501               1285.0         179740.0                 2001.0   \n",
       "\n",
       "      overall_eur_per_sqm       date   z_score  \n",
       "21                   3735 2024-08-13  6.817904  \n",
       "35                   1957 2024-08-13  3.041322  \n",
       "100                  2014 2024-08-13  3.153380  \n",
       "168                  3779 2024-06-04  7.835960  \n",
       "316                  3895 2024-04-23  7.835960  \n",
       "328                  2760 2024-04-23  4.626819  \n",
       "395                  1801 2024-04-23  3.153380  \n",
       "460                  1397 2024-01-16  3.511011  \n",
       "559                  2406 2024-01-16  6.138406  \n",
       "603                  1397 2023-11-14  3.873410  \n",
       "609                  3808 2023-11-14  3.828110  \n",
       "755                  3800 2023-07-25  3.818573  \n",
       "768                  2813 2023-07-25  4.552909  \n",
       "848                  2525 2023-07-25  3.549158  \n",
       "914                  2814 2023-04-25  4.552909  \n",
       "1051                 3713 2023-01-10  5.232407  \n",
       "1063                 2295 2023-01-10  3.985468  \n",
       "1064                 2612 2023-01-10  4.552909  \n",
       "1131                 1805 2023-01-10  3.062780  \n",
       "1197                 3739 2022-11-15  5.232407  \n",
       "1209                 2171 2022-11-15  4.641124  \n",
       "1279                 1746 2022-11-15  3.134306  \n",
       "1344                 3762 2022-07-26  8.403402  \n",
       "1356                 2137 2022-07-26  3.873410  \n",
       "1501                 1860 2022-04-26  3.475247  "
      ]
     },
     "execution_count": 22,
     "metadata": {},
     "output_type": "execute_result"
    }
   ],
   "source": [
    "from scipy import stats\n",
    "\n",
    "second_df['z_score'] = stats.zscore(second_df['one_bed_eur_per_sqm'])\n",
    "outliers = second_df[second_df['z_score'].abs() > 3]\n",
    "outliers"
   ]
  },
  {
   "cell_type": "markdown",
   "id": "3547d54e-cbc5-4adf-a385-bdb19ef218f4",
   "metadata": {},
   "source": [
    "#### Remove outliers:"
   ]
  },
  {
   "cell_type": "code",
   "execution_count": 23,
   "id": "0cd90284-2589-4afa-a13f-2e2e17f26db2",
   "metadata": {},
   "outputs": [],
   "source": [
    "second_df = second_df[second_df['z_score'].abs() <= 3].copy()"
   ]
  },
  {
   "cell_type": "code",
   "execution_count": 24,
   "id": "5ed7d5ac-ce9b-4842-b550-63c95e6345d2",
   "metadata": {},
   "outputs": [
    {
     "data": {
      "text/html": [
       "<div>\n",
       "<style scoped>\n",
       "    .dataframe tbody tr th:only-of-type {\n",
       "        vertical-align: middle;\n",
       "    }\n",
       "\n",
       "    .dataframe tbody tr th {\n",
       "        vertical-align: top;\n",
       "    }\n",
       "\n",
       "    .dataframe thead th {\n",
       "        text-align: right;\n",
       "    }\n",
       "</style>\n",
       "<table border=\"1\" class=\"dataframe\">\n",
       "  <thead>\n",
       "    <tr style=\"text-align: right;\">\n",
       "      <th></th>\n",
       "      <th>one_bed_price</th>\n",
       "      <th>one_bed_eur_per_sqm</th>\n",
       "      <th>two_bed_price</th>\n",
       "      <th>two_bed_eur_per_sqm</th>\n",
       "      <th>three_bed_price</th>\n",
       "      <th>three_bed_eur_per_sqm</th>\n",
       "      <th>overall_eur_per_sqm</th>\n",
       "      <th>z_score</th>\n",
       "    </tr>\n",
       "  </thead>\n",
       "  <tbody>\n",
       "    <tr>\n",
       "      <th>one_bed_price</th>\n",
       "      <td>1.000000</td>\n",
       "      <td>0.860349</td>\n",
       "      <td>0.290239</td>\n",
       "      <td>0.345457</td>\n",
       "      <td>0.267186</td>\n",
       "      <td>0.308055</td>\n",
       "      <td>0.357509</td>\n",
       "      <td>0.860349</td>\n",
       "    </tr>\n",
       "    <tr>\n",
       "      <th>one_bed_eur_per_sqm</th>\n",
       "      <td>0.860349</td>\n",
       "      <td>1.000000</td>\n",
       "      <td>0.331230</td>\n",
       "      <td>0.404177</td>\n",
       "      <td>0.275879</td>\n",
       "      <td>0.352095</td>\n",
       "      <td>0.409974</td>\n",
       "      <td>1.000000</td>\n",
       "    </tr>\n",
       "    <tr>\n",
       "      <th>two_bed_price</th>\n",
       "      <td>0.290239</td>\n",
       "      <td>0.331230</td>\n",
       "      <td>1.000000</td>\n",
       "      <td>0.856650</td>\n",
       "      <td>0.708855</td>\n",
       "      <td>0.661014</td>\n",
       "      <td>0.743100</td>\n",
       "      <td>0.331230</td>\n",
       "    </tr>\n",
       "    <tr>\n",
       "      <th>two_bed_eur_per_sqm</th>\n",
       "      <td>0.345457</td>\n",
       "      <td>0.404177</td>\n",
       "      <td>0.856650</td>\n",
       "      <td>1.000000</td>\n",
       "      <td>0.631367</td>\n",
       "      <td>0.726093</td>\n",
       "      <td>0.838216</td>\n",
       "      <td>0.404177</td>\n",
       "    </tr>\n",
       "    <tr>\n",
       "      <th>three_bed_price</th>\n",
       "      <td>0.267186</td>\n",
       "      <td>0.275879</td>\n",
       "      <td>0.708855</td>\n",
       "      <td>0.631367</td>\n",
       "      <td>1.000000</td>\n",
       "      <td>0.880030</td>\n",
       "      <td>0.790895</td>\n",
       "      <td>0.275879</td>\n",
       "    </tr>\n",
       "    <tr>\n",
       "      <th>three_bed_eur_per_sqm</th>\n",
       "      <td>0.308055</td>\n",
       "      <td>0.352095</td>\n",
       "      <td>0.661014</td>\n",
       "      <td>0.726093</td>\n",
       "      <td>0.880030</td>\n",
       "      <td>1.000000</td>\n",
       "      <td>0.883036</td>\n",
       "      <td>0.352095</td>\n",
       "    </tr>\n",
       "    <tr>\n",
       "      <th>overall_eur_per_sqm</th>\n",
       "      <td>0.357509</td>\n",
       "      <td>0.409974</td>\n",
       "      <td>0.743100</td>\n",
       "      <td>0.838216</td>\n",
       "      <td>0.790895</td>\n",
       "      <td>0.883036</td>\n",
       "      <td>1.000000</td>\n",
       "      <td>0.409974</td>\n",
       "    </tr>\n",
       "    <tr>\n",
       "      <th>z_score</th>\n",
       "      <td>0.860349</td>\n",
       "      <td>1.000000</td>\n",
       "      <td>0.331230</td>\n",
       "      <td>0.404177</td>\n",
       "      <td>0.275879</td>\n",
       "      <td>0.352095</td>\n",
       "      <td>0.409974</td>\n",
       "      <td>1.000000</td>\n",
       "    </tr>\n",
       "  </tbody>\n",
       "</table>\n",
       "</div>"
      ],
      "text/plain": [
       "                       one_bed_price  one_bed_eur_per_sqm  two_bed_price  \\\n",
       "one_bed_price               1.000000             0.860349       0.290239   \n",
       "one_bed_eur_per_sqm         0.860349             1.000000       0.331230   \n",
       "two_bed_price               0.290239             0.331230       1.000000   \n",
       "two_bed_eur_per_sqm         0.345457             0.404177       0.856650   \n",
       "three_bed_price             0.267186             0.275879       0.708855   \n",
       "three_bed_eur_per_sqm       0.308055             0.352095       0.661014   \n",
       "overall_eur_per_sqm         0.357509             0.409974       0.743100   \n",
       "z_score                     0.860349             1.000000       0.331230   \n",
       "\n",
       "                       two_bed_eur_per_sqm  three_bed_price  \\\n",
       "one_bed_price                     0.345457         0.267186   \n",
       "one_bed_eur_per_sqm               0.404177         0.275879   \n",
       "two_bed_price                     0.856650         0.708855   \n",
       "two_bed_eur_per_sqm               1.000000         0.631367   \n",
       "three_bed_price                   0.631367         1.000000   \n",
       "three_bed_eur_per_sqm             0.726093         0.880030   \n",
       "overall_eur_per_sqm               0.838216         0.790895   \n",
       "z_score                           0.404177         0.275879   \n",
       "\n",
       "                       three_bed_eur_per_sqm  overall_eur_per_sqm   z_score  \n",
       "one_bed_price                       0.308055             0.357509  0.860349  \n",
       "one_bed_eur_per_sqm                 0.352095             0.409974  1.000000  \n",
       "two_bed_price                       0.661014             0.743100  0.331230  \n",
       "two_bed_eur_per_sqm                 0.726093             0.838216  0.404177  \n",
       "three_bed_price                     0.880030             0.790895  0.275879  \n",
       "three_bed_eur_per_sqm               1.000000             0.883036  0.352095  \n",
       "overall_eur_per_sqm                 0.883036             1.000000  0.409974  \n",
       "z_score                             0.352095             0.409974  1.000000  "
      ]
     },
     "execution_count": 24,
     "metadata": {},
     "output_type": "execute_result"
    }
   ],
   "source": [
    "second_df.corr()"
   ]
  },
  {
   "cell_type": "code",
   "execution_count": 25,
   "id": "5dd50c66-95fe-4e39-bf5f-4142faaddb42",
   "metadata": {},
   "outputs": [
    {
     "data": {
      "text/plain": [
       "<AxesSubplot:>"
      ]
     },
     "execution_count": 25,
     "metadata": {},
     "output_type": "execute_result"
    },
    {
     "data": {
      "image/png": "[encoded data removed]",
      "text/plain": [
       "<Figure size 1080x576 with 2 Axes>"
      ]
     },
     "metadata": {
      "needs_background": "light"
     },
     "output_type": "display_data"
    }
   ],
   "source": [
    "plt.figure(figsize=(15,8))\n",
    "sns.heatmap(second_df.corr(), annot=True, cmap=\"YlGnBu\")"
   ]
  },
  {
   "cell_type": "markdown",
   "id": "ce015c2c-1e5d-4c4e-9ef2-d996f304b113",
   "metadata": {},
   "source": [
    "## Train a LinearRegression model"
   ]
  },
  {
   "cell_type": "code",
   "execution_count": 26,
   "id": "6fd36df7-e01b-4a15-ae66-97937e435afb",
   "metadata": {
    "tags": []
   },
   "outputs": [],
   "source": [
    "second_df['year'] = second_df['date'].dt.year\n",
    "second_df['month'] = second_df['date'].dt.month\n",
    "second_df.drop(columns=[\"date\", \"z_score\"], axis=1, inplace=True)"
   ]
  },
  {
   "cell_type": "code",
   "execution_count": 27,
   "id": "75accaf8-651b-4d1b-9125-41f5f985b6c1",
   "metadata": {},
   "outputs": [],
   "source": [
    "# columns = [\"one_bed_price\", \"two_bed_price\", \"three_bed_price\"]\n",
    "# for column in columns:\n",
    "#     second_df[column] = np.log(second_df[column] + 1)"
   ]
  },
  {
   "cell_type": "code",
   "execution_count": 28,
   "id": "651f0831-2338-421b-a276-37bd02e0f7d2",
   "metadata": {},
   "outputs": [],
   "source": [
    "# # Feature engineering\n",
    "# second_df['month_sin'] = np.sin(2 * np.pi * second_df['month'] / 12.0)\n",
    "# second_df['month_cos'] = np.cos(2 * np.pi * second_df['month'] / 12.0)"
   ]
  },
  {
   "cell_type": "code",
   "execution_count": 29,
   "id": "78494304-5e0a-4e6b-a02c-a868f11e9ca5",
   "metadata": {},
   "outputs": [],
   "source": [
    "X = second_df.drop([\"one_bed_eur_per_sqm\"], axis=1)\n",
    "y = second_df[\"one_bed_eur_per_sqm\"]"
   ]
  },
  {
   "cell_type": "code",
   "execution_count": 30,
   "id": "c0658d50-8f2f-478b-8537-f8404f814406",
   "metadata": {},
   "outputs": [],
   "source": [
    "label_encoder = LabelEncoder()\n",
    "X['region'] = label_encoder.fit_transform(X['region'])\n",
    "\n",
    "# one_hot_encoder = OneHotEncoder(sparse=False)\n",
    "# X['region'] = one_hot_encoder.fit_transform(X[['region']])"
   ]
  },
  {
   "cell_type": "code",
   "execution_count": 31,
   "id": "fc845096-0f79-4203-b3ba-7be9ca773bb1",
   "metadata": {},
   "outputs": [
    {
     "data": {
      "text/html": [
       "<div>\n",
       "<style scoped>\n",
       "    .dataframe tbody tr th:only-of-type {\n",
       "        vertical-align: middle;\n",
       "    }\n",
       "\n",
       "    .dataframe tbody tr th {\n",
       "        vertical-align: top;\n",
       "    }\n",
       "\n",
       "    .dataframe thead th {\n",
       "        text-align: right;\n",
       "    }\n",
       "</style>\n",
       "<table border=\"1\" class=\"dataframe\">\n",
       "  <thead>\n",
       "    <tr style=\"text-align: right;\">\n",
       "      <th></th>\n",
       "      <th>region</th>\n",
       "      <th>one_bed_price</th>\n",
       "      <th>two_bed_price</th>\n",
       "      <th>two_bed_eur_per_sqm</th>\n",
       "      <th>three_bed_price</th>\n",
       "      <th>three_bed_eur_per_sqm</th>\n",
       "      <th>overall_eur_per_sqm</th>\n",
       "      <th>year</th>\n",
       "      <th>month</th>\n",
       "    </tr>\n",
       "  </thead>\n",
       "  <tbody>\n",
       "    <tr>\n",
       "      <th>0</th>\n",
       "      <td>0</td>\n",
       "      <td>52686.0</td>\n",
       "      <td>145502.0</td>\n",
       "      <td>1675.0</td>\n",
       "      <td>189050.0</td>\n",
       "      <td>1756.0</td>\n",
       "      <td>1745</td>\n",
       "      <td>2024</td>\n",
       "      <td>8</td>\n",
       "    </tr>\n",
       "    <tr>\n",
       "      <th>1</th>\n",
       "      <td>1</td>\n",
       "      <td>49138.0</td>\n",
       "      <td>104500.0</td>\n",
       "      <td>1691.0</td>\n",
       "      <td>142310.0</td>\n",
       "      <td>1503.0</td>\n",
       "      <td>1611</td>\n",
       "      <td>2024</td>\n",
       "      <td>8</td>\n",
       "    </tr>\n",
       "    <tr>\n",
       "      <th>2</th>\n",
       "      <td>2</td>\n",
       "      <td>38000.0</td>\n",
       "      <td>82365.0</td>\n",
       "      <td>1157.0</td>\n",
       "      <td>115805.0</td>\n",
       "      <td>1085.0</td>\n",
       "      <td>1157</td>\n",
       "      <td>2024</td>\n",
       "      <td>8</td>\n",
       "    </tr>\n",
       "    <tr>\n",
       "      <th>3</th>\n",
       "      <td>3</td>\n",
       "      <td>52686.0</td>\n",
       "      <td>85262.0</td>\n",
       "      <td>1511.0</td>\n",
       "      <td>118750.0</td>\n",
       "      <td>1250.0</td>\n",
       "      <td>1351</td>\n",
       "      <td>2024</td>\n",
       "      <td>8</td>\n",
       "    </tr>\n",
       "    <tr>\n",
       "      <th>4</th>\n",
       "      <td>4</td>\n",
       "      <td>49400.0</td>\n",
       "      <td>89774.0</td>\n",
       "      <td>1222.0</td>\n",
       "      <td>138890.0</td>\n",
       "      <td>1426.0</td>\n",
       "      <td>1232</td>\n",
       "      <td>2024</td>\n",
       "      <td>8</td>\n",
       "    </tr>\n",
       "    <tr>\n",
       "      <th>...</th>\n",
       "      <td>...</td>\n",
       "      <td>...</td>\n",
       "      <td>...</td>\n",
       "      <td>...</td>\n",
       "      <td>...</td>\n",
       "      <td>...</td>\n",
       "      <td>...</td>\n",
       "      <td>...</td>\n",
       "      <td>...</td>\n",
       "    </tr>\n",
       "    <tr>\n",
       "      <th>1745</th>\n",
       "      <td>152</td>\n",
       "      <td>41956.0</td>\n",
       "      <td>53018.0</td>\n",
       "      <td>762.0</td>\n",
       "      <td>89849.0</td>\n",
       "      <td>834.0</td>\n",
       "      <td>762</td>\n",
       "      <td>2022</td>\n",
       "      <td>1</td>\n",
       "    </tr>\n",
       "    <tr>\n",
       "      <th>1746</th>\n",
       "      <td>154</td>\n",
       "      <td>52686.0</td>\n",
       "      <td>47500.0</td>\n",
       "      <td>863.0</td>\n",
       "      <td>134900.0</td>\n",
       "      <td>1330.0</td>\n",
       "      <td>863</td>\n",
       "      <td>2022</td>\n",
       "      <td>1</td>\n",
       "    </tr>\n",
       "    <tr>\n",
       "      <th>1747</th>\n",
       "      <td>156</td>\n",
       "      <td>52686.0</td>\n",
       "      <td>26600.0</td>\n",
       "      <td>266.0</td>\n",
       "      <td>35862.0</td>\n",
       "      <td>297.0</td>\n",
       "      <td>297</td>\n",
       "      <td>2022</td>\n",
       "      <td>1</td>\n",
       "    </tr>\n",
       "    <tr>\n",
       "      <th>1748</th>\n",
       "      <td>157</td>\n",
       "      <td>52686.0</td>\n",
       "      <td>76660.0</td>\n",
       "      <td>963.0</td>\n",
       "      <td>131779.0</td>\n",
       "      <td>1132.0</td>\n",
       "      <td>1173</td>\n",
       "      <td>2022</td>\n",
       "      <td>1</td>\n",
       "    </tr>\n",
       "    <tr>\n",
       "      <th>1749</th>\n",
       "      <td>158</td>\n",
       "      <td>37050.0</td>\n",
       "      <td>49400.0</td>\n",
       "      <td>771.0</td>\n",
       "      <td>134900.0</td>\n",
       "      <td>1330.0</td>\n",
       "      <td>771</td>\n",
       "      <td>2022</td>\n",
       "      <td>1</td>\n",
       "    </tr>\n",
       "  </tbody>\n",
       "</table>\n",
       "<p>1725 rows × 9 columns</p>\n",
       "</div>"
      ],
      "text/plain": [
       "      region  one_bed_price  two_bed_price  two_bed_eur_per_sqm  \\\n",
       "0          0        52686.0       145502.0               1675.0   \n",
       "1          1        49138.0       104500.0               1691.0   \n",
       "2          2        38000.0        82365.0               1157.0   \n",
       "3          3        52686.0        85262.0               1511.0   \n",
       "4          4        49400.0        89774.0               1222.0   \n",
       "...      ...            ...            ...                  ...   \n",
       "1745     152        41956.0        53018.0                762.0   \n",
       "1746     154        52686.0        47500.0                863.0   \n",
       "1747     156        52686.0        26600.0                266.0   \n",
       "1748     157        52686.0        76660.0                963.0   \n",
       "1749     158        37050.0        49400.0                771.0   \n",
       "\n",
       "      three_bed_price  three_bed_eur_per_sqm  overall_eur_per_sqm  year  month  \n",
       "0            189050.0                 1756.0                 1745  2024      8  \n",
       "1            142310.0                 1503.0                 1611  2024      8  \n",
       "2            115805.0                 1085.0                 1157  2024      8  \n",
       "3            118750.0                 1250.0                 1351  2024      8  \n",
       "4            138890.0                 1426.0                 1232  2024      8  \n",
       "...               ...                    ...                  ...   ...    ...  \n",
       "1745          89849.0                  834.0                  762  2022      1  \n",
       "1746         134900.0                 1330.0                  863  2022      1  \n",
       "1747          35862.0                  297.0                  297  2022      1  \n",
       "1748         131779.0                 1132.0                 1173  2022      1  \n",
       "1749         134900.0                 1330.0                  771  2022      1  \n",
       "\n",
       "[1725 rows x 9 columns]"
      ]
     },
     "execution_count": 31,
     "metadata": {},
     "output_type": "execute_result"
    }
   ],
   "source": [
    "X"
   ]
  },
  {
   "cell_type": "code",
   "execution_count": 32,
   "id": "bc00829d-b0eb-4849-989d-b7f09131db19",
   "metadata": {},
   "outputs": [],
   "source": [
    "# from sklearn.preprocessing import StandardScaler\n",
    "\n",
    "# scaler = StandardScaler()\n",
    "# X = scaler.fit_transform(X)"
   ]
  },
  {
   "cell_type": "code",
   "execution_count": 33,
   "id": "68eb6374-6642-415e-b2ef-e18b380a3956",
   "metadata": {},
   "outputs": [],
   "source": [
    "# X"
   ]
  },
  {
   "cell_type": "code",
   "execution_count": 34,
   "id": "6c5df232-3cf9-403e-9ade-240e52a97e3b",
   "metadata": {},
   "outputs": [],
   "source": [
    "X_train, X_test, y_train, y_test = train_test_split(X, y, test_size=0.2)"
   ]
  },
  {
   "cell_type": "code",
   "execution_count": 35,
   "id": "4ff7fc03-869a-4e50-9abb-c59e63b4b8ea",
   "metadata": {},
   "outputs": [
    {
     "data": {
      "text/plain": [
       "748     1176.0\n",
       "628      791.0\n",
       "828     1176.0\n",
       "1       1134.0\n",
       "873     1176.0\n",
       "         ...  \n",
       "1455    1176.0\n",
       "1178    1650.0\n",
       "1553     990.0\n",
       "679     1381.0\n",
       "454     1374.0\n",
       "Name: one_bed_eur_per_sqm, Length: 1380, dtype: float64"
      ]
     },
     "execution_count": 35,
     "metadata": {},
     "output_type": "execute_result"
    }
   ],
   "source": [
    "y_train"
   ]
  },
  {
   "cell_type": "code",
   "execution_count": 36,
   "id": "ab78b0cf-2e99-41b5-b0c2-437ebf2cfbaa",
   "metadata": {},
   "outputs": [],
   "source": [
    "model = LinearRegression()"
   ]
  },
  {
   "cell_type": "code",
   "execution_count": 37,
   "id": "8be5e7fe-0081-422a-abdd-f1a35967cb70",
   "metadata": {},
   "outputs": [
    {
     "data": {
      "text/plain": [
       "LinearRegression()"
      ]
     },
     "execution_count": 37,
     "metadata": {},
     "output_type": "execute_result"
    }
   ],
   "source": [
    "model.fit(X_train, y_train)"
   ]
  },
  {
   "cell_type": "code",
   "execution_count": 38,
   "id": "ccc737b5-4c56-4d61-bdf6-b2dbd60990e3",
   "metadata": {},
   "outputs": [],
   "source": [
    "y_pred = model.predict(X_test)"
   ]
  },
  {
   "cell_type": "code",
   "execution_count": 39,
   "id": "16b66905-d77f-4f7f-86c1-dc54d5fa3f7d",
   "metadata": {},
   "outputs": [],
   "source": [
    "# y_pred"
   ]
  },
  {
   "cell_type": "markdown",
   "id": "e155064b-08af-44d1-9c7a-c7d9710c69ad",
   "metadata": {},
   "source": [
    "## Evaluate the model"
   ]
  },
  {
   "cell_type": "code",
   "execution_count": 40,
   "id": "a5570cb1-0e86-4530-84d0-4574fef7c582",
   "metadata": {},
   "outputs": [
    {
     "name": "stdout",
     "output_type": "stream",
     "text": [
      "Mean Absolute Error (MAE): 113.30683038072682\n",
      "Mean Squared Error (MSE): 30510.13571098324\n",
      "Root Mean Squared Error (RMSE): 174.67150801141906\n"
     ]
    }
   ],
   "source": [
    "mae = mean_absolute_error(y_test, y_pred)\n",
    "mse = mean_squared_error(y_test, y_pred)\n",
    "rmse = mse ** 0.5\n",
    "\n",
    "print(f'Mean Absolute Error (MAE): {mae}')\n",
    "print(f'Mean Squared Error (MSE): {mse}')\n",
    "print(f'Root Mean Squared Error (RMSE): {rmse}')"
   ]
  },
  {
   "cell_type": "code",
   "execution_count": 41,
   "id": "43fdab3a-0e0a-4379-a14e-0f4a7e7de54b",
   "metadata": {},
   "outputs": [
    {
     "data": {
      "text/plain": [
       "array([ 1.24051419e-01,  1.68394259e-02,  1.94026805e-04,  5.35282453e-02,\n",
       "       -9.97352114e-04,  8.94737182e-02,  6.60262441e-02, -3.54807198e+00,\n",
       "        1.26943216e+00])"
      ]
     },
     "execution_count": 41,
     "metadata": {},
     "output_type": "execute_result"
    }
   ],
   "source": [
    "model.coef_"
   ]
  },
  {
   "cell_type": "code",
   "execution_count": 42,
   "id": "748b1865-1588-49d1-9bd3-b9a9f31c5717",
   "metadata": {},
   "outputs": [
    {
     "data": {
      "text/html": [
       "<div>\n",
       "<style scoped>\n",
       "    .dataframe tbody tr th:only-of-type {\n",
       "        vertical-align: middle;\n",
       "    }\n",
       "\n",
       "    .dataframe tbody tr th {\n",
       "        vertical-align: top;\n",
       "    }\n",
       "\n",
       "    .dataframe thead th {\n",
       "        text-align: right;\n",
       "    }\n",
       "</style>\n",
       "<table border=\"1\" class=\"dataframe\">\n",
       "  <thead>\n",
       "    <tr style=\"text-align: right;\">\n",
       "      <th></th>\n",
       "      <th>Coef</th>\n",
       "    </tr>\n",
       "  </thead>\n",
       "  <tbody>\n",
       "    <tr>\n",
       "      <th>region</th>\n",
       "      <td>0.124051</td>\n",
       "    </tr>\n",
       "    <tr>\n",
       "      <th>one_bed_price</th>\n",
       "      <td>0.016839</td>\n",
       "    </tr>\n",
       "    <tr>\n",
       "      <th>two_bed_price</th>\n",
       "      <td>0.000194</td>\n",
       "    </tr>\n",
       "    <tr>\n",
       "      <th>two_bed_eur_per_sqm</th>\n",
       "      <td>0.053528</td>\n",
       "    </tr>\n",
       "    <tr>\n",
       "      <th>three_bed_price</th>\n",
       "      <td>-0.000997</td>\n",
       "    </tr>\n",
       "    <tr>\n",
       "      <th>three_bed_eur_per_sqm</th>\n",
       "      <td>0.089474</td>\n",
       "    </tr>\n",
       "    <tr>\n",
       "      <th>overall_eur_per_sqm</th>\n",
       "      <td>0.066026</td>\n",
       "    </tr>\n",
       "    <tr>\n",
       "      <th>year</th>\n",
       "      <td>-3.548072</td>\n",
       "    </tr>\n",
       "    <tr>\n",
       "      <th>month</th>\n",
       "      <td>1.269432</td>\n",
       "    </tr>\n",
       "  </tbody>\n",
       "</table>\n",
       "</div>"
      ],
      "text/plain": [
       "                           Coef\n",
       "region                 0.124051\n",
       "one_bed_price          0.016839\n",
       "two_bed_price          0.000194\n",
       "two_bed_eur_per_sqm    0.053528\n",
       "three_bed_price       -0.000997\n",
       "three_bed_eur_per_sqm  0.089474\n",
       "overall_eur_per_sqm    0.066026\n",
       "year                  -3.548072\n",
       "month                  1.269432"
      ]
     },
     "execution_count": 42,
     "metadata": {},
     "output_type": "execute_result"
    }
   ],
   "source": [
    "cdf = pd.DataFrame(model.coef_, X.columns, columns=['Coef'])\n",
    "cdf"
   ]
  },
  {
   "cell_type": "code",
   "execution_count": 43,
   "id": "c0e88899-582e-4f0a-bb9f-7848832b9522",
   "metadata": {},
   "outputs": [
    {
     "data": {
      "text/plain": [
       "7289.6353480451735"
      ]
     },
     "execution_count": 43,
     "metadata": {},
     "output_type": "execute_result"
    }
   ],
   "source": [
    "model.intercept_"
   ]
  },
  {
   "cell_type": "markdown",
   "id": "8924e34f-5a51-41f7-a9e7-c8af81ef816b",
   "metadata": {},
   "source": [
    "## Use RandomForest model"
   ]
  },
  {
   "cell_type": "markdown",
   "id": "f8ae6183-5235-4c53-a356-682a360f4373",
   "metadata": {},
   "source": [
    "#### Train for One bedroom apartments"
   ]
  },
  {
   "cell_type": "code",
   "execution_count": 44,
   "id": "83a49e56-d9b6-461f-8eb6-c3b0146ce287",
   "metadata": {},
   "outputs": [
    {
     "name": "stdout",
     "output_type": "stream",
     "text": [
      "Random Forest - Mean Absolute Error (MAE): 72.9351884057971\n",
      "Random Forest - Mean Squared Error (MSE): 17080.251933913045\n",
      "Random Forest - Root Mean Squared Error (RMSE): 130.69143787529865\n"
     ]
    }
   ],
   "source": [
    "rf_model = RandomForestRegressor(n_estimators=100, random_state=42)\n",
    "\n",
    "rf_model.fit(X_train, y_train)\n",
    "\n",
    "y_pred_rf = rf_model.predict(X_test)\n",
    "\n",
    "# Evaluate the model\n",
    "mae_rf = mean_absolute_error(y_test, y_pred_rf)\n",
    "mse_rf = mean_squared_error(y_test, y_pred_rf)\n",
    "rmse_rf = mse_rf ** 0.5\n",
    "\n",
    "print(f'Random Forest - Mean Absolute Error (MAE): {mae_rf}')\n",
    "print(f'Random Forest - Mean Squared Error (MSE): {mse_rf}')\n",
    "print(f'Random Forest - Root Mean Squared Error (RMSE): {rmse_rf}')"
   ]
  },
  {
   "cell_type": "code",
   "execution_count": 45,
   "id": "94c64ed8-8836-4534-b4c3-3d15f7ce78ec",
   "metadata": {},
   "outputs": [
    {
     "data": {
      "image/png": "[encoded data removed]",
      "text/plain": [
       "<Figure size 864x576 with 1 Axes>"
      ]
     },
     "metadata": {
      "needs_background": "light"
     },
     "output_type": "display_data"
    }
   ],
   "source": [
    "importances = rf_model.feature_importances_\n",
    "features = X.columns\n",
    "\n",
    "# Create a DataFrame for visualization\n",
    "feature_importances = pd.DataFrame({'Feature': features, 'Importance': importances})\n",
    "feature_importances = feature_importances.sort_values(by='Importance', ascending=False)\n",
    "\n",
    "# Plot\n",
    "plt.figure(figsize=(12, 8))\n",
    "sns.barplot(x='Importance', y='Feature', data=feature_importances)\n",
    "plt.title('Feature Importance')\n",
    "plt.show()"
   ]
  },
  {
   "cell_type": "markdown",
   "id": "9c4f8c28-92ff-47c2-8b40-1224956ceacb",
   "metadata": {},
   "source": [
    "__We see this model has better performance__. It shows lower error metrics compared to the Linear Regression model."
   ]
  },
  {
   "cell_type": "markdown",
   "id": "477d1653-797a-446f-91c5-53a1aa481cd6",
   "metadata": {},
   "source": [
    "#### Train a model to predict the price of two-bedroom apartments per square meter."
   ]
  },
  {
   "cell_type": "code",
   "execution_count": 46,
   "id": "eeb5ced2-0fa7-48bc-bcf4-c49639c0d7a3",
   "metadata": {},
   "outputs": [],
   "source": [
    "X_two = second_df.drop([\"two_bed_eur_per_sqm\"], axis=1)\n",
    "y_two = second_df[\"two_bed_eur_per_sqm\"]"
   ]
  },
  {
   "cell_type": "code",
   "execution_count": 47,
   "id": "c9046d62-fa54-4d02-b58b-8ce3e89a95ee",
   "metadata": {},
   "outputs": [],
   "source": [
    "label_encoder_two = LabelEncoder()\n",
    "X_two['region'] = label_encoder_two.fit_transform(X_two['region'])"
   ]
  },
  {
   "cell_type": "code",
   "execution_count": 48,
   "id": "1ffb6351-2c59-487e-b3f5-f177d1823942",
   "metadata": {},
   "outputs": [],
   "source": [
    "X_train_two, X_test_two, y_train_two, y_test_two = train_test_split(X_two, y_two, test_size=0.2)\n",
    "rf_model_two = RandomForestRegressor(n_estimators=100, random_state=42)\n",
    "\n",
    "rf_model_two.fit(X_train_two, y_train_two)\n",
    "\n",
    "y_pred_rf_two = rf_model_two.predict(X_test_two)"
   ]
  },
  {
   "cell_type": "code",
   "execution_count": 49,
   "id": "8128288f-054d-4f89-99e2-0bfd05b1d794",
   "metadata": {},
   "outputs": [
    {
     "name": "stdout",
     "output_type": "stream",
     "text": [
      "Random Forest - Mean Absolute Error (MAE): 66.2536231884058\n",
      "Random Forest - Mean Squared Error (MSE): 15319.763607536232\n",
      "Random Forest - Root Mean Squared Error (RMSE): 123.77303263448073\n"
     ]
    }
   ],
   "source": [
    "# Evaluate the model\n",
    "mae_rf = mean_absolute_error(y_test_two, y_pred_rf_two)\n",
    "mse_rf = mean_squared_error(y_test_two, y_pred_rf_two)\n",
    "rmse_rf = mse_rf ** 0.5\n",
    "\n",
    "print(f'Random Forest - Mean Absolute Error (MAE): {mae_rf}')\n",
    "print(f'Random Forest - Mean Squared Error (MSE): {mse_rf}')\n",
    "print(f'Random Forest - Root Mean Squared Error (RMSE): {rmse_rf}')"
   ]
  },
  {
   "cell_type": "markdown",
   "id": "c8ec3fdc-8401-4fe2-b70d-a6bf42b1a61b",
   "metadata": {},
   "source": [
    "#### Train a model to predict the price of three-bedroom apartments per square meter."
   ]
  },
  {
   "cell_type": "code",
   "execution_count": 50,
   "id": "f67110e5-88c8-44c2-bd5a-92078e9c4630",
   "metadata": {},
   "outputs": [],
   "source": [
    "X_three = second_df.drop([\"three_bed_eur_per_sqm\"], axis=1)\n",
    "y_three = second_df[\"three_bed_eur_per_sqm\"]\n",
    "\n",
    "label_encoder_three = LabelEncoder()\n",
    "X_three['region'] = label_encoder_three.fit_transform(X_three['region'])\n",
    "\n",
    "# one_hot_encoder = OneHotEncoder(sparse=False)\n",
    "# X_three['region'] = one_hot_encoder.fit_transform(X_three[['region']])"
   ]
  },
  {
   "cell_type": "code",
   "execution_count": 51,
   "id": "3ffceff8-7617-43e7-a1fb-2182a20eeff4",
   "metadata": {},
   "outputs": [],
   "source": [
    "X_train_three, X_test_three, y_train_three, y_test_three = train_test_split(X_three, y_three, test_size=0.2)\n",
    "rf_model_three = RandomForestRegressor(n_estimators=100, random_state=42)\n",
    "\n",
    "rf_model_three.fit(X_train_three, y_train_three)\n",
    "\n",
    "y_pred_rf_three = rf_model_three.predict(X_test_three)"
   ]
  },
  {
   "cell_type": "code",
   "execution_count": 52,
   "id": "957b840e-df0a-41f2-a606-d224d84aa112",
   "metadata": {},
   "outputs": [
    {
     "name": "stdout",
     "output_type": "stream",
     "text": [
      "Random Forest - Mean Absolute Error (MAE): 57.666347826086955\n",
      "Random Forest - Mean Squared Error (MSE): 9599.875036811596\n",
      "Random Forest - Root Mean Squared Error (RMSE): 97.97895200915141\n"
     ]
    }
   ],
   "source": [
    "# Evaluate the model\n",
    "mae_rf = mean_absolute_error(y_test_three, y_pred_rf_three)\n",
    "mse_rf = mean_squared_error(y_test_three, y_pred_rf_three)\n",
    "rmse_rf = mse_rf ** 0.5\n",
    "\n",
    "print(f'Random Forest - Mean Absolute Error (MAE): {mae_rf}')\n",
    "print(f'Random Forest - Mean Squared Error (MSE): {mse_rf}')\n",
    "print(f'Random Forest - Root Mean Squared Error (RMSE): {rmse_rf}')"
   ]
  },
  {
   "cell_type": "markdown",
   "id": "47761c2a-7cea-4376-84d1-30162ee32754",
   "metadata": {},
   "source": [
    "## Make predictions for the future"
   ]
  },
  {
   "cell_type": "code",
   "execution_count": 53,
   "id": "7ed26d10-bd16-4439-964b-d8604146dbcb",
   "metadata": {},
   "outputs": [],
   "source": [
    "label_encoder = LabelEncoder()\n",
    "second_df['region'] = label_encoder.fit_transform(second_df['region'])\n",
    "\n",
    "# one_hot_encoder = OneHotEncoder(sparse=False)\n",
    "# second_df['region'] = one_hot_encoder.fit_transform(second_df[['region']])\n",
    "\n",
    "X = second_df[['region', 'month', 'year']]\n",
    "y = second_df['one_bed_eur_per_sqm']\n",
    "\n",
    "\n",
    "model = RandomForestRegressor()\n",
    "\n",
    "X_train, X_test, y_train, y_test = train_test_split(X, y, test_size=0.2, random_state=42)\n",
    "\n",
    "model.fit(X_train, y_train)\n",
    "\n",
    "y_pred = model.predict(X_test)"
   ]
  },
  {
   "cell_type": "code",
   "execution_count": 54,
   "id": "109683c2-b7e3-4ba3-a57d-e2040dccd491",
   "metadata": {},
   "outputs": [
    {
     "name": "stdout",
     "output_type": "stream",
     "text": [
      "Mean Absolute Error (MAE): 145.7840579710145\n",
      "Mean Squared Error (MSE): 47498.36517333333\n",
      "Root Mean Squared Error (RMSE): 217.94119659516724\n"
     ]
    }
   ],
   "source": [
    "mae = mean_absolute_error(y_test, y_pred)\n",
    "mse = mean_squared_error(y_test, y_pred)\n",
    "rmse = mse ** 0.5\n",
    "\n",
    "print(f'Mean Absolute Error (MAE): {mae}')\n",
    "print(f'Mean Squared Error (MSE): {mse}')\n",
    "print(f'Root Mean Squared Error (RMSE): {rmse}')"
   ]
  },
  {
   "cell_type": "code",
   "execution_count": 61,
   "id": "e5f5e8a9-064d-4204-a217-54fc27705659",
   "metadata": {},
   "outputs": [
    {
     "name": "stdout",
     "output_type": "stream",
     "text": [
      "The predicted price per sq.m. for region Княжево is 732.22 euro.\n"
     ]
    }
   ],
   "source": [
    "def predict_price_per_sqm(region_code, month, year, model, label_encoder):\n",
    "    \"\"\"\n",
    "    Predicts the price per square meter for a given region, month, and year.\n",
    "    \n",
    "    Parameters:\n",
    "    - region_code: The numeric code for the region.\n",
    "    - month: The month for the prediction.\n",
    "    - year: The year for the prediction.\n",
    "    - model: The trained model used for predictions.\n",
    "    - label_encoder: The LabelEncoder used to decode region codes back to their original strings.\n",
    "\n",
    "    Returns:\n",
    "    - A string with the decoded region name and the predicted price per square meter.\n",
    "    \"\"\"\n",
    "\n",
    "    new_data = pd.DataFrame({\n",
    "        'region': [region_code],  \n",
    "        'month': [month],   \n",
    "        'year': [year]  \n",
    "    })\n",
    "    \n",
    "    # Predict the price per square meter\n",
    "    predicted_price_per_sqm = model.predict(new_data)\n",
    "    \n",
    "    # Decode the encoded region code back to its original string\n",
    "    decoded_regions = label_encoder.inverse_transform([region_code])\n",
    "    \n",
    "    # Return the result\n",
    "    return f'The predicted price per sq.m. for region {decoded_regions[0]} is {predicted_price_per_sqm[0]:.2f} euro.'\n",
    "\n",
    "\n",
    "region_code = 40\n",
    "month = 6\n",
    "year = 2025\n",
    "\n",
    "result = predict_price_per_sqm(region_code, month, year, model, label_encoder)\n",
    "print(result)"
   ]
  },
  {
   "cell_type": "code",
   "execution_count": 56,
   "id": "98154aa6-fefb-48a8-a5c0-214279d04cce",
   "metadata": {},
   "outputs": [
    {
     "data": {
      "image/png": "[encoded data removed]",
      "text/plain": [
       "<Figure size 720x432 with 1 Axes>"
      ]
     },
     "metadata": {
      "needs_background": "light"
     },
     "output_type": "display_data"
    }
   ],
   "source": [
    "plt.figure(figsize=(10, 6))\n",
    "sns.scatterplot(x=y_test, y=y_pred)\n",
    "plt.xlabel(\"Actual Values\")\n",
    "plt.ylabel(\"Predicted Values\")\n",
    "plt.title(\"Actual vs. Predicted Values\")\n",
    "plt.plot([min(y_test), max(y_test)], [min(y_test), max(y_test)], color='red', lw=2)\n",
    "plt.show()"
   ]
  },
  {
   "cell_type": "markdown",
   "id": "2a17404f-8fac-46d7-a18f-fbfc30444f54",
   "metadata": {},
   "source": [
    "#### Visualize Learning Curves"
   ]
  },
  {
   "cell_type": "code",
   "execution_count": 57,
   "id": "dca3fbc9-1d60-4222-9ec2-9cb65c5d70f7",
   "metadata": {},
   "outputs": [
    {
     "data": {
      "image/png": "[encoded data removed]",
      "text/plain": [
       "<Figure size 432x288 with 1 Axes>"
      ]
     },
     "metadata": {
      "needs_background": "light"
     },
     "output_type": "display_data"
    }
   ],
   "source": [
    "train_sizes, train_scores, validation_scores = learning_curve(\n",
    "    model, X_train, y_train, cv=5, scoring='neg_mean_squared_error'\n",
    ")\n",
    "\n",
    "train_errors_mean = -train_scores.mean(axis=1)\n",
    "validation_errors_mean = -validation_scores.mean(axis=1)\n",
    "\n",
    "plt.plot(train_sizes, train_errors_mean, label='Training error')\n",
    "plt.plot(train_sizes, validation_errors_mean, label='Validation error')\n",
    "plt.xlabel('Training Set Size')\n",
    "plt.ylabel('Error')\n",
    "plt.title('Learning Curves')\n",
    "plt.legend()\n",
    "plt.show()"
   ]
  },
  {
   "cell_type": "markdown",
   "id": "4d7d4033-1541-4af6-bbdb-5268e2f190a6",
   "metadata": {},
   "source": [
    "- High Bias (Underfitting): If both training and validation errors are high and similar, your model might be too simple and underfitting the data.\n",
    "- High Variance (Overfitting): If the training error is much lower than the validation error, and the validation error is high, your model might be too complex and overfitting the data."
   ]
  },
  {
   "cell_type": "markdown",
   "id": "01514fe8-f781-401c-aaff-26f206789cfe",
   "metadata": {},
   "source": [
    "#### Cross-Validation"
   ]
  },
  {
   "cell_type": "code",
   "execution_count": 58,
   "id": "608f1abc-c1b7-4fa5-bfae-e47f2a3a8898",
   "metadata": {},
   "outputs": [
    {
     "name": "stdout",
     "output_type": "stream",
     "text": [
      "Cross-Validation Scores: 57748.7246684058 ± 8047.889038198704\n"
     ]
    }
   ],
   "source": [
    "scores = cross_val_score(model, X_train, y_train, cv=5, scoring='neg_mean_squared_error')\n",
    "print(f'Cross-Validation Scores: {-scores.mean()} ± {scores.std()}')\n"
   ]
  },
  {
   "cell_type": "markdown",
   "id": "5d5e43cf-39c5-46d0-ad9d-c29a2cc1b38c",
   "metadata": {},
   "source": [
    "## Conclusions:\n",
    "\n",
    "High Variance (Overfitting): The low training error combined with high test error and significant variability in cross-validation scores suggests that your model is overfitting. It performs well on training data but struggles with unseen data."
   ]
  }
 ],
 "metadata": {
  "kernelspec": {
   "display_name": "Python 3 (ipykernel)",
   "language": "python",
   "name": "python3"
  },
  "language_info": {
   "codemirror_mode": {
    "name": "ipython",
    "version": 3
   },
   "file_extension": ".py",
   "mimetype": "text/x-python",
   "name": "python",
   "nbconvert_exporter": "python",
   "pygments_lexer": "ipython3",
   "version": "3.9.12"
  }
 },
 "nbformat": 4,
 "nbformat_minor": 5
}
