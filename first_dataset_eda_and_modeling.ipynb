{
 "cells": [
  {
   "cell_type": "code",
   "execution_count": 1,
   "id": "d840f8c1-ae28-47fd-843b-e16bfc304f8e",
   "metadata": {},
   "outputs": [],
   "source": [
    "%matplotlib inline"
   ]
  },
  {
   "cell_type": "code",
   "execution_count": 2,
   "id": "8ec18ee0-d81c-48b8-abe9-dc192ce80041",
   "metadata": {},
   "outputs": [],
   "source": [
    "import numpy as np\n",
    "import pandas as pd\n",
    "import matplotlib.pyplot as plt\n",
    "import seaborn as sns\n",
    "\n",
    "from sklearn.model_selection import train_test_split\n",
    "from sklearn.linear_model import LinearRegression\n",
    "from sklearn.metrics import mean_squared_error, mean_absolute_error, r2_score\n",
    "\n",
    "from sklearn.preprocessing import StandardScaler, OneHotEncoder\n",
    "from sklearn.compose import ColumnTransformer\n",
    "from sklearn.pipeline import Pipeline\n",
    "from sklearn.ensemble import RandomForestRegressor\n",
    "\n",
    "from sklearn.preprocessing import LabelEncoder"
   ]
  },
  {
   "cell_type": "markdown",
   "id": "542fd8f6-665d-42bd-913e-de09bcc4642f",
   "metadata": {},
   "source": [
    "## Exploratory Data Analysis (EDA): \n",
    "Let's perform an EDA to understand the distribution, relationships, and outliers in The data.\n",
    "\n",
    "### Now we will read the first dataset. \n",
    "Actually, there are three files inside it. We will read them and save them in variables:"
   ]
  },
  {
   "cell_type": "code",
   "execution_count": 3,
   "id": "3badf5b6-6800-4bdf-8971-442e2e09e1a1",
   "metadata": {},
   "outputs": [],
   "source": [
    "df_2022 = pd.read_csv(\"data/property_prices_july_2022.csv\")\n",
    "df_2023 = pd.read_csv(\"data/property_prices_july_2023.csv\")\n",
    "df_2024 = pd.read_csv(\"data/property_prices_july_2024.csv\")"
   ]
  },
  {
   "cell_type": "markdown",
   "id": "f787d20d-eff7-4fa5-b3e5-5c8398371706",
   "metadata": {},
   "source": [
    "Let's have a look in everyone:"
   ]
  },
  {
   "cell_type": "code",
   "execution_count": 4,
   "id": "d07166f0-8c0a-4296-8573-d1525199c38c",
   "metadata": {},
   "outputs": [
    {
     "data": {
      "text/html": [
       "<div>\n",
       "<style scoped>\n",
       "    .dataframe tbody tr th:only-of-type {\n",
       "        vertical-align: middle;\n",
       "    }\n",
       "\n",
       "    .dataframe tbody tr th {\n",
       "        vertical-align: top;\n",
       "    }\n",
       "\n",
       "    .dataframe thead th {\n",
       "        text-align: right;\n",
       "    }\n",
       "</style>\n",
       "<table border=\"1\" class=\"dataframe\">\n",
       "  <thead>\n",
       "    <tr style=\"text-align: right;\">\n",
       "      <th></th>\n",
       "      <th>Район</th>\n",
       "      <th>Цена</th>\n",
       "      <th>Цена / кв.м.</th>\n",
       "      <th>Валута</th>\n",
       "      <th>Тип Апартамент</th>\n",
       "      <th>Дата</th>\n",
       "    </tr>\n",
       "  </thead>\n",
       "  <tbody>\n",
       "    <tr>\n",
       "      <th>0</th>\n",
       "      <td>Банишора</td>\n",
       "      <td>110201.52</td>\n",
       "      <td>1710.14</td>\n",
       "      <td>EUR</td>\n",
       "      <td>Двустаен апартамент</td>\n",
       "      <td>2022-07-28</td>\n",
       "    </tr>\n",
       "    <tr>\n",
       "      <th>1</th>\n",
       "      <td>Белите Брези</td>\n",
       "      <td>148125.00</td>\n",
       "      <td>1949.01</td>\n",
       "      <td>EUR</td>\n",
       "      <td>Двустаен апартамент</td>\n",
       "      <td>2022-07-28</td>\n",
       "    </tr>\n",
       "    <tr>\n",
       "      <th>2</th>\n",
       "      <td>Борово</td>\n",
       "      <td>141912.50</td>\n",
       "      <td>2120.07</td>\n",
       "      <td>EUR</td>\n",
       "      <td>Двустаен апартамент</td>\n",
       "      <td>2022-07-28</td>\n",
       "    </tr>\n",
       "    <tr>\n",
       "      <th>3</th>\n",
       "      <td>Бояна</td>\n",
       "      <td>167608.23</td>\n",
       "      <td>1888.09</td>\n",
       "      <td>EUR</td>\n",
       "      <td>Двустаен апартамент</td>\n",
       "      <td>2022-07-28</td>\n",
       "    </tr>\n",
       "    <tr>\n",
       "      <th>4</th>\n",
       "      <td>Бъкстон</td>\n",
       "      <td>109764.43</td>\n",
       "      <td>1869.47</td>\n",
       "      <td>EUR</td>\n",
       "      <td>Двустаен апартамент</td>\n",
       "      <td>2022-07-28</td>\n",
       "    </tr>\n",
       "    <tr>\n",
       "      <th>...</th>\n",
       "      <td>...</td>\n",
       "      <td>...</td>\n",
       "      <td>...</td>\n",
       "      <td>...</td>\n",
       "      <td>...</td>\n",
       "      <td>...</td>\n",
       "    </tr>\n",
       "    <tr>\n",
       "      <th>284</th>\n",
       "      <td>Хаджи Димитър</td>\n",
       "      <td>205000.00</td>\n",
       "      <td>1102.15</td>\n",
       "      <td>EUR</td>\n",
       "      <td>Многостаен апартамемент</td>\n",
       "      <td>2022-07-28</td>\n",
       "    </tr>\n",
       "    <tr>\n",
       "      <th>285</th>\n",
       "      <td>Хиподрума</td>\n",
       "      <td>377277.50</td>\n",
       "      <td>1326.89</td>\n",
       "      <td>EUR</td>\n",
       "      <td>Многостаен апартамемент</td>\n",
       "      <td>2022-07-28</td>\n",
       "    </tr>\n",
       "    <tr>\n",
       "      <th>286</th>\n",
       "      <td>Хладилника</td>\n",
       "      <td>460016.66</td>\n",
       "      <td>2115.02</td>\n",
       "      <td>EUR</td>\n",
       "      <td>Многостаен апартамемент</td>\n",
       "      <td>2022-07-28</td>\n",
       "    </tr>\n",
       "    <tr>\n",
       "      <th>287</th>\n",
       "      <td>Център</td>\n",
       "      <td>529647.62</td>\n",
       "      <td>2792.63</td>\n",
       "      <td>EUR</td>\n",
       "      <td>Многостаен апартамемент</td>\n",
       "      <td>2022-07-28</td>\n",
       "    </tr>\n",
       "    <tr>\n",
       "      <th>288</th>\n",
       "      <td>Яворов</td>\n",
       "      <td>650000.00</td>\n",
       "      <td>2826.09</td>\n",
       "      <td>EUR</td>\n",
       "      <td>Многостаен апартамемент</td>\n",
       "      <td>2022-07-28</td>\n",
       "    </tr>\n",
       "  </tbody>\n",
       "</table>\n",
       "<p>289 rows × 6 columns</p>\n",
       "</div>"
      ],
      "text/plain": [
       "             Район       Цена  Цена / кв.м. Валута           Тип Апартамент  \\\n",
       "0         Банишора  110201.52       1710.14    EUR      Двустаен апартамент   \n",
       "1     Белите Брези  148125.00       1949.01    EUR      Двустаен апартамент   \n",
       "2           Борово  141912.50       2120.07    EUR      Двустаен апартамент   \n",
       "3            Бояна  167608.23       1888.09    EUR      Двустаен апартамент   \n",
       "4          Бъкстон  109764.43       1869.47    EUR      Двустаен апартамент   \n",
       "..             ...        ...           ...    ...                      ...   \n",
       "284  Хаджи Димитър  205000.00       1102.15    EUR  Многостаен апартамемент   \n",
       "285      Хиподрума  377277.50       1326.89    EUR  Многостаен апартамемент   \n",
       "286     Хладилника  460016.66       2115.02    EUR  Многостаен апартамемент   \n",
       "287         Център  529647.62       2792.63    EUR  Многостаен апартамемент   \n",
       "288         Яворов  650000.00       2826.09    EUR  Многостаен апартамемент   \n",
       "\n",
       "           Дата  \n",
       "0    2022-07-28  \n",
       "1    2022-07-28  \n",
       "2    2022-07-28  \n",
       "3    2022-07-28  \n",
       "4    2022-07-28  \n",
       "..          ...  \n",
       "284  2022-07-28  \n",
       "285  2022-07-28  \n",
       "286  2022-07-28  \n",
       "287  2022-07-28  \n",
       "288  2022-07-28  \n",
       "\n",
       "[289 rows x 6 columns]"
      ]
     },
     "execution_count": 4,
     "metadata": {},
     "output_type": "execute_result"
    }
   ],
   "source": [
    "df_2022"
   ]
  },
  {
   "cell_type": "code",
   "execution_count": 5,
   "id": "b45028dc-a20e-4459-adc9-1ed0c8a83e8b",
   "metadata": {},
   "outputs": [
    {
     "data": {
      "text/html": [
       "<div>\n",
       "<style scoped>\n",
       "    .dataframe tbody tr th:only-of-type {\n",
       "        vertical-align: middle;\n",
       "    }\n",
       "\n",
       "    .dataframe tbody tr th {\n",
       "        vertical-align: top;\n",
       "    }\n",
       "\n",
       "    .dataframe thead th {\n",
       "        text-align: right;\n",
       "    }\n",
       "</style>\n",
       "<table border=\"1\" class=\"dataframe\">\n",
       "  <thead>\n",
       "    <tr style=\"text-align: right;\">\n",
       "      <th></th>\n",
       "      <th>Район</th>\n",
       "      <th>Цена</th>\n",
       "      <th>Цена / кв.м.</th>\n",
       "      <th>Валута</th>\n",
       "      <th>Тип Апартамент</th>\n",
       "      <th>Дата</th>\n",
       "    </tr>\n",
       "  </thead>\n",
       "  <tbody>\n",
       "    <tr>\n",
       "      <th>0</th>\n",
       "      <td>7-ми 11-ти километър</td>\n",
       "      <td>112150.66</td>\n",
       "      <td>1654.68</td>\n",
       "      <td>EUR</td>\n",
       "      <td>Двустаен апартамент</td>\n",
       "      <td>2023-07-28</td>\n",
       "    </tr>\n",
       "    <tr>\n",
       "      <th>1</th>\n",
       "      <td>Банишора</td>\n",
       "      <td>118202.97</td>\n",
       "      <td>1754.77</td>\n",
       "      <td>EUR</td>\n",
       "      <td>Двустаен апартамент</td>\n",
       "      <td>2023-07-28</td>\n",
       "    </tr>\n",
       "    <tr>\n",
       "      <th>2</th>\n",
       "      <td>Банкя (гр.)</td>\n",
       "      <td>108600.00</td>\n",
       "      <td>1428.95</td>\n",
       "      <td>EUR</td>\n",
       "      <td>Двустаен апартамент</td>\n",
       "      <td>2023-07-28</td>\n",
       "    </tr>\n",
       "    <tr>\n",
       "      <th>3</th>\n",
       "      <td>Белите Брези</td>\n",
       "      <td>162233.00</td>\n",
       "      <td>2015.32</td>\n",
       "      <td>EUR</td>\n",
       "      <td>Двустаен апартамент</td>\n",
       "      <td>2023-07-28</td>\n",
       "    </tr>\n",
       "    <tr>\n",
       "      <th>4</th>\n",
       "      <td>Бенковски</td>\n",
       "      <td>94900.00</td>\n",
       "      <td>1395.59</td>\n",
       "      <td>EUR</td>\n",
       "      <td>Двустаен апартамент</td>\n",
       "      <td>2023-07-28</td>\n",
       "    </tr>\n",
       "    <tr>\n",
       "      <th>...</th>\n",
       "      <td>...</td>\n",
       "      <td>...</td>\n",
       "      <td>...</td>\n",
       "      <td>...</td>\n",
       "      <td>...</td>\n",
       "      <td>...</td>\n",
       "    </tr>\n",
       "    <tr>\n",
       "      <th>326</th>\n",
       "      <td>Хаджи Димитър</td>\n",
       "      <td>239000.00</td>\n",
       "      <td>2489.58</td>\n",
       "      <td>EUR</td>\n",
       "      <td>Многостаен апартамемент</td>\n",
       "      <td>2023-07-28</td>\n",
       "    </tr>\n",
       "    <tr>\n",
       "      <th>327</th>\n",
       "      <td>Хиподрума</td>\n",
       "      <td>445521.66</td>\n",
       "      <td>1265.69</td>\n",
       "      <td>EUR</td>\n",
       "      <td>Многостаен апартамемент</td>\n",
       "      <td>2023-07-28</td>\n",
       "    </tr>\n",
       "    <tr>\n",
       "      <th>328</th>\n",
       "      <td>Хладилника</td>\n",
       "      <td>490580.00</td>\n",
       "      <td>2063.43</td>\n",
       "      <td>EUR</td>\n",
       "      <td>Многостаен апартамемент</td>\n",
       "      <td>2023-07-28</td>\n",
       "    </tr>\n",
       "    <tr>\n",
       "      <th>329</th>\n",
       "      <td>Център</td>\n",
       "      <td>528999.94</td>\n",
       "      <td>2577.88</td>\n",
       "      <td>EUR</td>\n",
       "      <td>Многостаен апартамемент</td>\n",
       "      <td>2023-07-28</td>\n",
       "    </tr>\n",
       "    <tr>\n",
       "      <th>330</th>\n",
       "      <td>Яворов</td>\n",
       "      <td>609725.00</td>\n",
       "      <td>3010.99</td>\n",
       "      <td>EUR</td>\n",
       "      <td>Многостаен апартамемент</td>\n",
       "      <td>2023-07-28</td>\n",
       "    </tr>\n",
       "  </tbody>\n",
       "</table>\n",
       "<p>331 rows × 6 columns</p>\n",
       "</div>"
      ],
      "text/plain": [
       "                    Район       Цена  Цена / кв.м. Валута  \\\n",
       "0    7-ми 11-ти километър  112150.66       1654.68    EUR   \n",
       "1                Банишора  118202.97       1754.77    EUR   \n",
       "2             Банкя (гр.)  108600.00       1428.95    EUR   \n",
       "3            Белите Брези  162233.00       2015.32    EUR   \n",
       "4               Бенковски   94900.00       1395.59    EUR   \n",
       "..                    ...        ...           ...    ...   \n",
       "326         Хаджи Димитър  239000.00       2489.58    EUR   \n",
       "327             Хиподрума  445521.66       1265.69    EUR   \n",
       "328            Хладилника  490580.00       2063.43    EUR   \n",
       "329                Център  528999.94       2577.88    EUR   \n",
       "330                Яворов  609725.00       3010.99    EUR   \n",
       "\n",
       "              Тип Апартамент        Дата  \n",
       "0        Двустаен апартамент  2023-07-28  \n",
       "1        Двустаен апартамент  2023-07-28  \n",
       "2        Двустаен апартамент  2023-07-28  \n",
       "3        Двустаен апартамент  2023-07-28  \n",
       "4        Двустаен апартамент  2023-07-28  \n",
       "..                       ...         ...  \n",
       "326  Многостаен апартамемент  2023-07-28  \n",
       "327  Многостаен апартамемент  2023-07-28  \n",
       "328  Многостаен апартамемент  2023-07-28  \n",
       "329  Многостаен апартамемент  2023-07-28  \n",
       "330  Многостаен апартамемент  2023-07-28  \n",
       "\n",
       "[331 rows x 6 columns]"
      ]
     },
     "execution_count": 5,
     "metadata": {},
     "output_type": "execute_result"
    }
   ],
   "source": [
    "df_2023"
   ]
  },
  {
   "cell_type": "code",
   "execution_count": 6,
   "id": "c09f30ef-f4e9-4545-bc0c-d7d0e3e0f15d",
   "metadata": {},
   "outputs": [
    {
     "data": {
      "text/html": [
       "<div>\n",
       "<style scoped>\n",
       "    .dataframe tbody tr th:only-of-type {\n",
       "        vertical-align: middle;\n",
       "    }\n",
       "\n",
       "    .dataframe tbody tr th {\n",
       "        vertical-align: top;\n",
       "    }\n",
       "\n",
       "    .dataframe thead th {\n",
       "        text-align: right;\n",
       "    }\n",
       "</style>\n",
       "<table border=\"1\" class=\"dataframe\">\n",
       "  <thead>\n",
       "    <tr style=\"text-align: right;\">\n",
       "      <th></th>\n",
       "      <th>Район</th>\n",
       "      <th>Цена</th>\n",
       "      <th>Цена / кв.м.</th>\n",
       "      <th>Валута</th>\n",
       "      <th>Тип Апартамент</th>\n",
       "      <th>Дата</th>\n",
       "    </tr>\n",
       "  </thead>\n",
       "  <tbody>\n",
       "    <tr>\n",
       "      <th>0</th>\n",
       "      <td>Банишора</td>\n",
       "      <td>134653.98</td>\n",
       "      <td>1987.51</td>\n",
       "      <td>EUR</td>\n",
       "      <td>Двустаен апартамент</td>\n",
       "      <td>2024-07-28</td>\n",
       "    </tr>\n",
       "    <tr>\n",
       "      <th>1</th>\n",
       "      <td>Банкя (гр.)</td>\n",
       "      <td>131843.00</td>\n",
       "      <td>1890.84</td>\n",
       "      <td>EUR</td>\n",
       "      <td>Двустаен апартамент</td>\n",
       "      <td>2024-07-28</td>\n",
       "    </tr>\n",
       "    <tr>\n",
       "      <th>2</th>\n",
       "      <td>Белите Брези</td>\n",
       "      <td>249900.00</td>\n",
       "      <td>2108.86</td>\n",
       "      <td>EUR</td>\n",
       "      <td>Двустаен апартамент</td>\n",
       "      <td>2024-07-28</td>\n",
       "    </tr>\n",
       "    <tr>\n",
       "      <th>3</th>\n",
       "      <td>Бенковски</td>\n",
       "      <td>115863.50</td>\n",
       "      <td>1782.52</td>\n",
       "      <td>EUR</td>\n",
       "      <td>Двустаен апартамент</td>\n",
       "      <td>2024-07-28</td>\n",
       "    </tr>\n",
       "    <tr>\n",
       "      <th>4</th>\n",
       "      <td>Борово</td>\n",
       "      <td>135594.22</td>\n",
       "      <td>2148.50</td>\n",
       "      <td>EUR</td>\n",
       "      <td>Двустаен апартамент</td>\n",
       "      <td>2024-07-28</td>\n",
       "    </tr>\n",
       "    <tr>\n",
       "      <th>...</th>\n",
       "      <td>...</td>\n",
       "      <td>...</td>\n",
       "      <td>...</td>\n",
       "      <td>...</td>\n",
       "      <td>...</td>\n",
       "      <td>...</td>\n",
       "    </tr>\n",
       "    <tr>\n",
       "      <th>329</th>\n",
       "      <td>Суха Река</td>\n",
       "      <td>303037.00</td>\n",
       "      <td>1864.02</td>\n",
       "      <td>EUR</td>\n",
       "      <td>Многостаен апартамемент</td>\n",
       "      <td>2024-07-28</td>\n",
       "    </tr>\n",
       "    <tr>\n",
       "      <th>330</th>\n",
       "      <td>Хаджи Димитър</td>\n",
       "      <td>331999.50</td>\n",
       "      <td>2049.38</td>\n",
       "      <td>EUR</td>\n",
       "      <td>Многостаен апартамемент</td>\n",
       "      <td>2024-07-28</td>\n",
       "    </tr>\n",
       "    <tr>\n",
       "      <th>331</th>\n",
       "      <td>Хиподрума</td>\n",
       "      <td>446333.00</td>\n",
       "      <td>1410.21</td>\n",
       "      <td>EUR</td>\n",
       "      <td>Многостаен апартамемент</td>\n",
       "      <td>2024-07-28</td>\n",
       "    </tr>\n",
       "    <tr>\n",
       "      <th>332</th>\n",
       "      <td>Хладилника</td>\n",
       "      <td>817960.00</td>\n",
       "      <td>2493.78</td>\n",
       "      <td>EUR</td>\n",
       "      <td>Многостаен апартамемент</td>\n",
       "      <td>2024-07-28</td>\n",
       "    </tr>\n",
       "    <tr>\n",
       "      <th>333</th>\n",
       "      <td>Център</td>\n",
       "      <td>599582.44</td>\n",
       "      <td>3194.50</td>\n",
       "      <td>EUR</td>\n",
       "      <td>Многостаен апартамемент</td>\n",
       "      <td>2024-07-28</td>\n",
       "    </tr>\n",
       "  </tbody>\n",
       "</table>\n",
       "<p>334 rows × 6 columns</p>\n",
       "</div>"
      ],
      "text/plain": [
       "             Район       Цена  Цена / кв.м. Валута           Тип Апартамент  \\\n",
       "0         Банишора  134653.98       1987.51    EUR      Двустаен апартамент   \n",
       "1      Банкя (гр.)  131843.00       1890.84    EUR      Двустаен апартамент   \n",
       "2     Белите Брези  249900.00       2108.86    EUR      Двустаен апартамент   \n",
       "3        Бенковски  115863.50       1782.52    EUR      Двустаен апартамент   \n",
       "4           Борово  135594.22       2148.50    EUR      Двустаен апартамент   \n",
       "..             ...        ...           ...    ...                      ...   \n",
       "329      Суха Река  303037.00       1864.02    EUR  Многостаен апартамемент   \n",
       "330  Хаджи Димитър  331999.50       2049.38    EUR  Многостаен апартамемент   \n",
       "331      Хиподрума  446333.00       1410.21    EUR  Многостаен апартамемент   \n",
       "332     Хладилника  817960.00       2493.78    EUR  Многостаен апартамемент   \n",
       "333         Център  599582.44       3194.50    EUR  Многостаен апартамемент   \n",
       "\n",
       "           Дата  \n",
       "0    2024-07-28  \n",
       "1    2024-07-28  \n",
       "2    2024-07-28  \n",
       "3    2024-07-28  \n",
       "4    2024-07-28  \n",
       "..          ...  \n",
       "329  2024-07-28  \n",
       "330  2024-07-28  \n",
       "331  2024-07-28  \n",
       "332  2024-07-28  \n",
       "333  2024-07-28  \n",
       "\n",
       "[334 rows x 6 columns]"
      ]
     },
     "execution_count": 6,
     "metadata": {},
     "output_type": "execute_result"
    }
   ],
   "source": [
    "df_2024"
   ]
  },
  {
   "cell_type": "markdown",
   "id": "01952929-c5de-4ff1-8283-e528d8e08262",
   "metadata": {},
   "source": [
    "Now we will will combine them in one dataset named __combined_df__:"
   ]
  },
  {
   "cell_type": "code",
   "execution_count": 7,
   "id": "bab6855e-0b2c-41a4-850e-969e070c27bd",
   "metadata": {},
   "outputs": [],
   "source": [
    "combined_df = pd.concat([df_2022, df_2023, df_2024], ignore_index=True)"
   ]
  },
  {
   "cell_type": "markdown",
   "id": "bce9d7c3-0533-47f6-8dfb-42ae9eaa734f",
   "metadata": {},
   "source": [
    "And check it:"
   ]
  },
  {
   "cell_type": "code",
   "execution_count": 8,
   "id": "6af98695-6b72-496d-adb8-b2ebdd3615f8",
   "metadata": {},
   "outputs": [
    {
     "data": {
      "text/html": [
       "<div>\n",
       "<style scoped>\n",
       "    .dataframe tbody tr th:only-of-type {\n",
       "        vertical-align: middle;\n",
       "    }\n",
       "\n",
       "    .dataframe tbody tr th {\n",
       "        vertical-align: top;\n",
       "    }\n",
       "\n",
       "    .dataframe thead th {\n",
       "        text-align: right;\n",
       "    }\n",
       "</style>\n",
       "<table border=\"1\" class=\"dataframe\">\n",
       "  <thead>\n",
       "    <tr style=\"text-align: right;\">\n",
       "      <th></th>\n",
       "      <th>Район</th>\n",
       "      <th>Цена</th>\n",
       "      <th>Цена / кв.м.</th>\n",
       "      <th>Валута</th>\n",
       "      <th>Тип Апартамент</th>\n",
       "      <th>Дата</th>\n",
       "    </tr>\n",
       "  </thead>\n",
       "  <tbody>\n",
       "    <tr>\n",
       "      <th>0</th>\n",
       "      <td>Банишора</td>\n",
       "      <td>110201.52</td>\n",
       "      <td>1710.14</td>\n",
       "      <td>EUR</td>\n",
       "      <td>Двустаен апартамент</td>\n",
       "      <td>2022-07-28</td>\n",
       "    </tr>\n",
       "    <tr>\n",
       "      <th>1</th>\n",
       "      <td>Белите Брези</td>\n",
       "      <td>148125.00</td>\n",
       "      <td>1949.01</td>\n",
       "      <td>EUR</td>\n",
       "      <td>Двустаен апартамент</td>\n",
       "      <td>2022-07-28</td>\n",
       "    </tr>\n",
       "    <tr>\n",
       "      <th>2</th>\n",
       "      <td>Борово</td>\n",
       "      <td>141912.50</td>\n",
       "      <td>2120.07</td>\n",
       "      <td>EUR</td>\n",
       "      <td>Двустаен апартамент</td>\n",
       "      <td>2022-07-28</td>\n",
       "    </tr>\n",
       "    <tr>\n",
       "      <th>3</th>\n",
       "      <td>Бояна</td>\n",
       "      <td>167608.23</td>\n",
       "      <td>1888.09</td>\n",
       "      <td>EUR</td>\n",
       "      <td>Двустаен апартамент</td>\n",
       "      <td>2022-07-28</td>\n",
       "    </tr>\n",
       "    <tr>\n",
       "      <th>4</th>\n",
       "      <td>Бъкстон</td>\n",
       "      <td>109764.43</td>\n",
       "      <td>1869.47</td>\n",
       "      <td>EUR</td>\n",
       "      <td>Двустаен апартамент</td>\n",
       "      <td>2022-07-28</td>\n",
       "    </tr>\n",
       "    <tr>\n",
       "      <th>...</th>\n",
       "      <td>...</td>\n",
       "      <td>...</td>\n",
       "      <td>...</td>\n",
       "      <td>...</td>\n",
       "      <td>...</td>\n",
       "      <td>...</td>\n",
       "    </tr>\n",
       "    <tr>\n",
       "      <th>949</th>\n",
       "      <td>Суха Река</td>\n",
       "      <td>303037.00</td>\n",
       "      <td>1864.02</td>\n",
       "      <td>EUR</td>\n",
       "      <td>Многостаен апартамемент</td>\n",
       "      <td>2024-07-28</td>\n",
       "    </tr>\n",
       "    <tr>\n",
       "      <th>950</th>\n",
       "      <td>Хаджи Димитър</td>\n",
       "      <td>331999.50</td>\n",
       "      <td>2049.38</td>\n",
       "      <td>EUR</td>\n",
       "      <td>Многостаен апартамемент</td>\n",
       "      <td>2024-07-28</td>\n",
       "    </tr>\n",
       "    <tr>\n",
       "      <th>951</th>\n",
       "      <td>Хиподрума</td>\n",
       "      <td>446333.00</td>\n",
       "      <td>1410.21</td>\n",
       "      <td>EUR</td>\n",
       "      <td>Многостаен апартамемент</td>\n",
       "      <td>2024-07-28</td>\n",
       "    </tr>\n",
       "    <tr>\n",
       "      <th>952</th>\n",
       "      <td>Хладилника</td>\n",
       "      <td>817960.00</td>\n",
       "      <td>2493.78</td>\n",
       "      <td>EUR</td>\n",
       "      <td>Многостаен апартамемент</td>\n",
       "      <td>2024-07-28</td>\n",
       "    </tr>\n",
       "    <tr>\n",
       "      <th>953</th>\n",
       "      <td>Център</td>\n",
       "      <td>599582.44</td>\n",
       "      <td>3194.50</td>\n",
       "      <td>EUR</td>\n",
       "      <td>Многостаен апартамемент</td>\n",
       "      <td>2024-07-28</td>\n",
       "    </tr>\n",
       "  </tbody>\n",
       "</table>\n",
       "<p>954 rows × 6 columns</p>\n",
       "</div>"
      ],
      "text/plain": [
       "             Район       Цена  Цена / кв.м. Валута           Тип Апартамент  \\\n",
       "0         Банишора  110201.52       1710.14    EUR      Двустаен апартамент   \n",
       "1     Белите Брези  148125.00       1949.01    EUR      Двустаен апартамент   \n",
       "2           Борово  141912.50       2120.07    EUR      Двустаен апартамент   \n",
       "3            Бояна  167608.23       1888.09    EUR      Двустаен апартамент   \n",
       "4          Бъкстон  109764.43       1869.47    EUR      Двустаен апартамент   \n",
       "..             ...        ...           ...    ...                      ...   \n",
       "949      Суха Река  303037.00       1864.02    EUR  Многостаен апартамемент   \n",
       "950  Хаджи Димитър  331999.50       2049.38    EUR  Многостаен апартамемент   \n",
       "951      Хиподрума  446333.00       1410.21    EUR  Многостаен апартамемент   \n",
       "952     Хладилника  817960.00       2493.78    EUR  Многостаен апартамемент   \n",
       "953         Център  599582.44       3194.50    EUR  Многостаен апартамемент   \n",
       "\n",
       "           Дата  \n",
       "0    2022-07-28  \n",
       "1    2022-07-28  \n",
       "2    2022-07-28  \n",
       "3    2022-07-28  \n",
       "4    2022-07-28  \n",
       "..          ...  \n",
       "949  2024-07-28  \n",
       "950  2024-07-28  \n",
       "951  2024-07-28  \n",
       "952  2024-07-28  \n",
       "953  2024-07-28  \n",
       "\n",
       "[954 rows x 6 columns]"
      ]
     },
     "execution_count": 8,
     "metadata": {},
     "output_type": "execute_result"
    }
   ],
   "source": [
    "combined_df"
   ]
  },
  {
   "cell_type": "markdown",
   "id": "fbce8316-19da-48ab-a496-2567688a1b38",
   "metadata": {},
   "source": [
    "#### Let's take a closer look at the dataset."
   ]
  },
  {
   "cell_type": "code",
   "execution_count": 9,
   "id": "e2bbed30-2abe-4400-b3b3-b490da5a9863",
   "metadata": {},
   "outputs": [
    {
     "data": {
      "text/plain": [
       "(954, 6)"
      ]
     },
     "execution_count": 9,
     "metadata": {},
     "output_type": "execute_result"
    }
   ],
   "source": [
    "combined_df.shape"
   ]
  },
  {
   "cell_type": "markdown",
   "id": "06fcb9e7-96c1-4ca5-8eb7-f9d35bcb6a13",
   "metadata": {},
   "source": [
    "It has 954 observations and 6 features."
   ]
  },
  {
   "cell_type": "code",
   "execution_count": 10,
   "id": "3ef4ff2a-74d6-44fc-af8c-721c035bba8f",
   "metadata": {},
   "outputs": [
    {
     "data": {
      "text/html": [
       "<div>\n",
       "<style scoped>\n",
       "    .dataframe tbody tr th:only-of-type {\n",
       "        vertical-align: middle;\n",
       "    }\n",
       "\n",
       "    .dataframe tbody tr th {\n",
       "        vertical-align: top;\n",
       "    }\n",
       "\n",
       "    .dataframe thead th {\n",
       "        text-align: right;\n",
       "    }\n",
       "</style>\n",
       "<table border=\"1\" class=\"dataframe\">\n",
       "  <thead>\n",
       "    <tr style=\"text-align: right;\">\n",
       "      <th></th>\n",
       "      <th>count</th>\n",
       "      <th>mean</th>\n",
       "      <th>std</th>\n",
       "      <th>min</th>\n",
       "      <th>25%</th>\n",
       "      <th>50%</th>\n",
       "      <th>75%</th>\n",
       "      <th>max</th>\n",
       "    </tr>\n",
       "  </thead>\n",
       "  <tbody>\n",
       "    <tr>\n",
       "      <th>Цена</th>\n",
       "      <td>954.0</td>\n",
       "      <td>249583.736960</td>\n",
       "      <td>270069.988558</td>\n",
       "      <td>6500.0</td>\n",
       "      <td>114245.39</td>\n",
       "      <td>170162.100</td>\n",
       "      <td>281079.7725</td>\n",
       "      <td>3000000.00</td>\n",
       "    </tr>\n",
       "    <tr>\n",
       "      <th>Цена / кв.м.</th>\n",
       "      <td>954.0</td>\n",
       "      <td>1843.112956</td>\n",
       "      <td>626.005076</td>\n",
       "      <td>17.4</td>\n",
       "      <td>1479.21</td>\n",
       "      <td>1776.785</td>\n",
       "      <td>2140.8050</td>\n",
       "      <td>7741.38</td>\n",
       "    </tr>\n",
       "  </tbody>\n",
       "</table>\n",
       "</div>"
      ],
      "text/plain": [
       "              count           mean            std     min        25%  \\\n",
       "Цена          954.0  249583.736960  270069.988558  6500.0  114245.39   \n",
       "Цена / кв.м.  954.0    1843.112956     626.005076    17.4    1479.21   \n",
       "\n",
       "                     50%          75%         max  \n",
       "Цена          170162.100  281079.7725  3000000.00  \n",
       "Цена / кв.м.    1776.785    2140.8050     7741.38  "
      ]
     },
     "execution_count": 10,
     "metadata": {},
     "output_type": "execute_result"
    }
   ],
   "source": [
    "combined_df.describe().T"
   ]
  },
  {
   "cell_type": "code",
   "execution_count": 11,
   "id": "3fa51c5d-f54f-40ce-b4ff-33c8dfcb8085",
   "metadata": {},
   "outputs": [
    {
     "name": "stdout",
     "output_type": "stream",
     "text": [
      "<class 'pandas.core.frame.DataFrame'>\n",
      "RangeIndex: 954 entries, 0 to 953\n",
      "Data columns (total 6 columns):\n",
      " #   Column          Non-Null Count  Dtype  \n",
      "---  ------          --------------  -----  \n",
      " 0   Район           954 non-null    object \n",
      " 1   Цена            954 non-null    float64\n",
      " 2   Цена / кв.м.    954 non-null    float64\n",
      " 3   Валута          954 non-null    object \n",
      " 4   Тип Апартамент  954 non-null    object \n",
      " 5   Дата            954 non-null    object \n",
      "dtypes: float64(2), object(4)\n",
      "memory usage: 44.8+ KB\n"
     ]
    }
   ],
   "source": [
    "combined_df.info()"
   ]
  },
  {
   "cell_type": "code",
   "execution_count": 12,
   "id": "abef06dd-0268-4e41-9577-6c5e5d077ecc",
   "metadata": {},
   "outputs": [
    {
     "data": {
      "text/plain": [
       "Район              object\n",
       "Цена              float64\n",
       "Цена / кв.м.      float64\n",
       "Валута             object\n",
       "Тип Апартамент     object\n",
       "Дата               object\n",
       "dtype: object"
      ]
     },
     "execution_count": 12,
     "metadata": {},
     "output_type": "execute_result"
    }
   ],
   "source": [
    "combined_df.dtypes"
   ]
  },
  {
   "cell_type": "markdown",
   "id": "1aa06d4a-4730-426a-b707-27bae4770117",
   "metadata": {},
   "source": [
    "Let's convert the \"Дата\" column in the correct data type:"
   ]
  },
  {
   "cell_type": "code",
   "execution_count": 13,
   "id": "99c16360-33e7-4c5b-86fb-83f483c21b49",
   "metadata": {},
   "outputs": [],
   "source": [
    "combined_df[\"Дата\"] = pd.to_datetime(combined_df[\"Дата\"])"
   ]
  },
  {
   "cell_type": "markdown",
   "id": "eebff2c6-bb9f-4bf9-a1cf-85a73b1bdfa2",
   "metadata": {},
   "source": [
    "Check the converted format:"
   ]
  },
  {
   "cell_type": "code",
   "execution_count": 14,
   "id": "8b4effe6-667e-4997-a3ab-98ed7dfec5db",
   "metadata": {},
   "outputs": [
    {
     "data": {
      "text/plain": [
       "0     2022-07-28\n",
       "1     2022-07-28\n",
       "2     2022-07-28\n",
       "3     2022-07-28\n",
       "4     2022-07-28\n",
       "         ...    \n",
       "949   2024-07-28\n",
       "950   2024-07-28\n",
       "951   2024-07-28\n",
       "952   2024-07-28\n",
       "953   2024-07-28\n",
       "Name: Дата, Length: 954, dtype: datetime64[ns]"
      ]
     },
     "execution_count": 14,
     "metadata": {},
     "output_type": "execute_result"
    }
   ],
   "source": [
    "combined_df[\"Дата\"]"
   ]
  },
  {
   "cell_type": "markdown",
   "id": "8b232f53-5258-4892-a7d9-08cf890bf259",
   "metadata": {},
   "source": [
    "Check for NaN values:"
   ]
  },
  {
   "cell_type": "code",
   "execution_count": 15,
   "id": "b4b7066b-446a-4fd7-bda0-0dc5636170ad",
   "metadata": {},
   "outputs": [],
   "source": [
    "df_2022 = pd.read_csv(\"data/property_prices_july_2022.csv\")\n",
    "df_2023 = pd.read_csv(\"data/property_prices_july_2023.csv\")\n",
    "df_2024 = pd.read_csv(\"data/property_prices_july_2024.csv\")"
   ]
  },
  {
   "cell_type": "code",
   "execution_count": 16,
   "id": "ddb6b32f-149f-465a-b3e4-f56928dbc229",
   "metadata": {},
   "outputs": [
    {
     "data": {
      "text/plain": [
       "Район             0\n",
       "Цена              0\n",
       "Цена / кв.м.      0\n",
       "Валута            0\n",
       "Тип Апартамент    0\n",
       "Дата              0\n",
       "dtype: int64"
      ]
     },
     "execution_count": 16,
     "metadata": {},
     "output_type": "execute_result"
    }
   ],
   "source": [
    "combined_df.isna().sum()"
   ]
  },
  {
   "cell_type": "markdown",
   "id": "731d3650-e43b-4d4f-aa0b-92e95c7e2ba6",
   "metadata": {},
   "source": [
    "We don't have null values in this dataset.\n",
    "\n",
    "### Let's plot the prices over time for each apartment type:"
   ]
  },
  {
   "cell_type": "code",
   "execution_count": 17,
   "id": "ab079319-9902-44c6-af3e-bc1153391f63",
   "metadata": {},
   "outputs": [
    {
     "data": {
      "image/png": "[encoded data removed]",
      "text/plain": [
       "<Figure size 1008x576 with 1 Axes>"
      ]
     },
     "metadata": {
      "needs_background": "light"
     },
     "output_type": "display_data"
    }
   ],
   "source": [
    "apartment_types = combined_df[\"Тип Апартамент\"].unique()\n",
    "\n",
    "plt.figure(figsize=(14, 8))\n",
    "\n",
    "for apartment_type in apartment_types:\n",
    "    # Filter the DataFrame by apartment type\n",
    "    filtered_df = combined_df[combined_df[\"Тип Апартамент\"] == apartment_type]\n",
    "    \n",
    "    # Group by date and calculate the mean price for each date\n",
    "    price_over_time = filtered_df.groupby('Дата')['Цена'].median()\n",
    "    \n",
    "    # Plot the line for this apartment type\n",
    "    plt.plot(price_over_time.index, price_over_time.values, marker='o', label=apartment_type)\n",
    "\n",
    "plt.title('Price Trends Over Time by Apartment Type')\n",
    "plt.xlabel('Date')\n",
    "plt.ylabel('Average Price (EUR)')\n",
    "plt.xticks(rotation=45)\n",
    "plt.legend(title='Apartment Type')\n",
    "plt.grid(True)\n",
    "plt.show()"
   ]
  },
  {
   "cell_type": "markdown",
   "id": "dbb7566c-3c03-471a-8fb3-b3874f4663ee",
   "metadata": {},
   "source": [
    "Let's see how many unique Ragions we have:"
   ]
  },
  {
   "cell_type": "code",
   "execution_count": 18,
   "id": "73128cbe-9126-4248-ac53-d0bd90ff100b",
   "metadata": {},
   "outputs": [
    {
     "data": {
      "text/plain": [
       "100"
      ]
     },
     "execution_count": 18,
     "metadata": {},
     "output_type": "execute_result"
    }
   ],
   "source": [
    "len(combined_df['Район'].unique())"
   ]
  },
  {
   "cell_type": "markdown",
   "id": "6fbfd227-d104-4c79-aabe-c7b4bd68e19b",
   "metadata": {},
   "source": [
    "And which they are:"
   ]
  },
  {
   "cell_type": "code",
   "execution_count": 19,
   "id": "c2d5b49c-c28d-4f42-bb64-044887c4f24a",
   "metadata": {},
   "outputs": [
    {
     "data": {
      "text/plain": [
       "array(['Банишора', 'Белите Брези', 'Борово', 'Бояна', 'Бъкстон', 'Витоша',\n",
       "       'Гевгелийски', 'Гео Милев', 'Горна Баня', 'Гоце Делчев',\n",
       "       'Дианабад', 'Драгалевци', 'Дружба 1', 'Дружба 2', 'Дървеница',\n",
       "       'Западен Парк', 'Захарна Фабрика', 'Зона Б18', 'Зона Б19',\n",
       "       'Зона Б5', 'Иван Вазов', 'Изгрев', 'Изток', 'Илинден', 'Княжево',\n",
       "       'Красна Поляна', 'Красно Село', 'Кръстова Вада', 'Лагера',\n",
       "       'Левски', 'Левски В', 'Левски Г', 'Лозенец', 'Люлин 1', 'Люлин 10',\n",
       "       'Люлин 2', 'Люлин 3', 'Люлин 4', 'Люлин 5', 'Люлин 6', 'Люлин 7',\n",
       "       'Люлин 8', 'Люлин 9', 'Люлин Център', 'м-т Гърдова глава',\n",
       "       'Малинова Долина', 'Манастирски ливади Запад',\n",
       "       'Манастирски ливади Изток', 'Младост 1', 'Младост 1а', 'Младост 2',\n",
       "       'Младост 3', 'Младост 4', 'Мотописта', 'Мусагеница', 'Надежда 1',\n",
       "       'Надежда 2', 'Надежда 3', 'Надежда 4', 'Обеля', 'Обеля 1',\n",
       "       'Обеля 2', 'Оборище', 'Овча Купел', 'Овча Купел 1', 'Овча Купел 2',\n",
       "       'Павлово', 'Подуене', 'Полигона', 'Разсадника', 'Редута',\n",
       "       'Света Троица', 'Свобода', 'Сердика', 'Симеоново', 'Славия',\n",
       "       'Слатина', 'Стрелбище', 'Студентски Град', 'Суха Река', 'Толстой',\n",
       "       'Фондови Жилища', 'Хаджи Димитър', 'Хиподрума', 'Хладилника',\n",
       "       'Централна гара', 'Център', 'Банкя (гр.)', 'Бенковски', 'Дружба',\n",
       "       'м-т Детски град', 'Малинова долина в.з.', 'Яворов', 'Малашевци',\n",
       "       '7-ми 11-ти километър', 'Врана - Лозен в.з.', 'Факултета',\n",
       "       'Илиянци', 'Требич', 'Филиповци'], dtype=object)"
      ]
     },
     "execution_count": 19,
     "metadata": {},
     "output_type": "execute_result"
    }
   ],
   "source": [
    "combined_df['Район'].unique()"
   ]
  },
  {
   "cell_type": "markdown",
   "id": "68e3e3e1-8fca-43b6-ae64-85d40711e5c2",
   "metadata": {},
   "source": [
    "# Let's prepear the model and train it:"
   ]
  },
  {
   "cell_type": "markdown",
   "id": "c518bb84-39dd-4490-9663-b76007dab61b",
   "metadata": {},
   "source": [
    "Extract date features:"
   ]
  },
  {
   "cell_type": "code",
   "execution_count": 20,
   "id": "e5aaa1f5-4b5e-4e75-b0d9-bc51074d2d01",
   "metadata": {},
   "outputs": [],
   "source": [
    "combined_df['Year'] = combined_df['Дата'].dt.year\n",
    "combined_df['Month'] = combined_df['Дата'].dt.month"
   ]
  },
  {
   "cell_type": "markdown",
   "id": "cd702f61-851c-48f7-9d4f-72cd8a14de39",
   "metadata": {},
   "source": [
    "Drop the original 'Дата' column and unnecessary columns:"
   ]
  },
  {
   "cell_type": "code",
   "execution_count": 21,
   "id": "2fa01a6b-f564-4a72-adc6-89f54ddf7d8a",
   "metadata": {},
   "outputs": [],
   "source": [
    "combined_df = combined_df.drop(columns=['Дата', 'Валута'])"
   ]
  },
  {
   "cell_type": "code",
   "execution_count": 22,
   "id": "2352e11a-9114-4a39-887f-6d6f1c2d6981",
   "metadata": {},
   "outputs": [
    {
     "data": {
      "text/html": [
       "<div>\n",
       "<style scoped>\n",
       "    .dataframe tbody tr th:only-of-type {\n",
       "        vertical-align: middle;\n",
       "    }\n",
       "\n",
       "    .dataframe tbody tr th {\n",
       "        vertical-align: top;\n",
       "    }\n",
       "\n",
       "    .dataframe thead th {\n",
       "        text-align: right;\n",
       "    }\n",
       "</style>\n",
       "<table border=\"1\" class=\"dataframe\">\n",
       "  <thead>\n",
       "    <tr style=\"text-align: right;\">\n",
       "      <th></th>\n",
       "      <th>Район</th>\n",
       "      <th>Цена</th>\n",
       "      <th>Цена / кв.м.</th>\n",
       "      <th>Тип Апартамент</th>\n",
       "      <th>Year</th>\n",
       "      <th>Month</th>\n",
       "    </tr>\n",
       "  </thead>\n",
       "  <tbody>\n",
       "    <tr>\n",
       "      <th>0</th>\n",
       "      <td>Банишора</td>\n",
       "      <td>110201.52</td>\n",
       "      <td>1710.14</td>\n",
       "      <td>Двустаен апартамент</td>\n",
       "      <td>2022</td>\n",
       "      <td>7</td>\n",
       "    </tr>\n",
       "    <tr>\n",
       "      <th>1</th>\n",
       "      <td>Белите Брези</td>\n",
       "      <td>148125.00</td>\n",
       "      <td>1949.01</td>\n",
       "      <td>Двустаен апартамент</td>\n",
       "      <td>2022</td>\n",
       "      <td>7</td>\n",
       "    </tr>\n",
       "    <tr>\n",
       "      <th>2</th>\n",
       "      <td>Борово</td>\n",
       "      <td>141912.50</td>\n",
       "      <td>2120.07</td>\n",
       "      <td>Двустаен апартамент</td>\n",
       "      <td>2022</td>\n",
       "      <td>7</td>\n",
       "    </tr>\n",
       "    <tr>\n",
       "      <th>3</th>\n",
       "      <td>Бояна</td>\n",
       "      <td>167608.23</td>\n",
       "      <td>1888.09</td>\n",
       "      <td>Двустаен апартамент</td>\n",
       "      <td>2022</td>\n",
       "      <td>7</td>\n",
       "    </tr>\n",
       "    <tr>\n",
       "      <th>4</th>\n",
       "      <td>Бъкстон</td>\n",
       "      <td>109764.43</td>\n",
       "      <td>1869.47</td>\n",
       "      <td>Двустаен апартамент</td>\n",
       "      <td>2022</td>\n",
       "      <td>7</td>\n",
       "    </tr>\n",
       "    <tr>\n",
       "      <th>...</th>\n",
       "      <td>...</td>\n",
       "      <td>...</td>\n",
       "      <td>...</td>\n",
       "      <td>...</td>\n",
       "      <td>...</td>\n",
       "      <td>...</td>\n",
       "    </tr>\n",
       "    <tr>\n",
       "      <th>949</th>\n",
       "      <td>Суха Река</td>\n",
       "      <td>303037.00</td>\n",
       "      <td>1864.02</td>\n",
       "      <td>Многостаен апартамемент</td>\n",
       "      <td>2024</td>\n",
       "      <td>7</td>\n",
       "    </tr>\n",
       "    <tr>\n",
       "      <th>950</th>\n",
       "      <td>Хаджи Димитър</td>\n",
       "      <td>331999.50</td>\n",
       "      <td>2049.38</td>\n",
       "      <td>Многостаен апартамемент</td>\n",
       "      <td>2024</td>\n",
       "      <td>7</td>\n",
       "    </tr>\n",
       "    <tr>\n",
       "      <th>951</th>\n",
       "      <td>Хиподрума</td>\n",
       "      <td>446333.00</td>\n",
       "      <td>1410.21</td>\n",
       "      <td>Многостаен апартамемент</td>\n",
       "      <td>2024</td>\n",
       "      <td>7</td>\n",
       "    </tr>\n",
       "    <tr>\n",
       "      <th>952</th>\n",
       "      <td>Хладилника</td>\n",
       "      <td>817960.00</td>\n",
       "      <td>2493.78</td>\n",
       "      <td>Многостаен апартамемент</td>\n",
       "      <td>2024</td>\n",
       "      <td>7</td>\n",
       "    </tr>\n",
       "    <tr>\n",
       "      <th>953</th>\n",
       "      <td>Център</td>\n",
       "      <td>599582.44</td>\n",
       "      <td>3194.50</td>\n",
       "      <td>Многостаен апартамемент</td>\n",
       "      <td>2024</td>\n",
       "      <td>7</td>\n",
       "    </tr>\n",
       "  </tbody>\n",
       "</table>\n",
       "<p>954 rows × 6 columns</p>\n",
       "</div>"
      ],
      "text/plain": [
       "             Район       Цена  Цена / кв.м.           Тип Апартамент  Year  \\\n",
       "0         Банишора  110201.52       1710.14      Двустаен апартамент  2022   \n",
       "1     Белите Брези  148125.00       1949.01      Двустаен апартамент  2022   \n",
       "2           Борово  141912.50       2120.07      Двустаен апартамент  2022   \n",
       "3            Бояна  167608.23       1888.09      Двустаен апартамент  2022   \n",
       "4          Бъкстон  109764.43       1869.47      Двустаен апартамент  2022   \n",
       "..             ...        ...           ...                      ...   ...   \n",
       "949      Суха Река  303037.00       1864.02  Многостаен апартамемент  2024   \n",
       "950  Хаджи Димитър  331999.50       2049.38  Многостаен апартамемент  2024   \n",
       "951      Хиподрума  446333.00       1410.21  Многостаен апартамемент  2024   \n",
       "952     Хладилника  817960.00       2493.78  Многостаен апартамемент  2024   \n",
       "953         Център  599582.44       3194.50  Многостаен апартамемент  2024   \n",
       "\n",
       "     Month  \n",
       "0        7  \n",
       "1        7  \n",
       "2        7  \n",
       "3        7  \n",
       "4        7  \n",
       "..     ...  \n",
       "949      7  \n",
       "950      7  \n",
       "951      7  \n",
       "952      7  \n",
       "953      7  \n",
       "\n",
       "[954 rows x 6 columns]"
      ]
     },
     "execution_count": 22,
     "metadata": {},
     "output_type": "execute_result"
    }
   ],
   "source": [
    "combined_df"
   ]
  },
  {
   "cell_type": "markdown",
   "id": "dd9b22b6-067a-4f2f-9a32-f9a0a7df7bd8",
   "metadata": {},
   "source": [
    "Encode categorical variables:"
   ]
  },
  {
   "cell_type": "code",
   "execution_count": 23,
   "id": "4a6c7145-228c-4286-9242-699ea8a01b5f",
   "metadata": {},
   "outputs": [],
   "source": [
    "label_encoder_region = LabelEncoder()\n",
    "label_encoder_apartment_type = LabelEncoder()\n",
    "\n",
    "combined_df['Район'] = label_encoder_region.fit_transform(combined_df['Район'])\n",
    "combined_df['Тип Апартамент'] = label_encoder_apartment_type.fit_transform(combined_df['Тип Апартамент'])"
   ]
  },
  {
   "cell_type": "markdown",
   "id": "f5b42ff5-01da-4d64-9a63-8338d07cc00f",
   "metadata": {},
   "source": [
    "Define features and target:"
   ]
  },
  {
   "cell_type": "code",
   "execution_count": 24,
   "id": "02d69f07-925d-4c8c-9d83-444f58090f30",
   "metadata": {},
   "outputs": [],
   "source": [
    "X = combined_df.drop(columns=['Цена / кв.м.'], axis=1) \n",
    "y = combined_df['Цена / кв.м.']  # Target variable"
   ]
  },
  {
   "cell_type": "code",
   "execution_count": 25,
   "id": "dd0456e5-45bc-4707-b195-36f6121f408b",
   "metadata": {},
   "outputs": [
    {
     "data": {
      "text/html": [
       "<div>\n",
       "<style scoped>\n",
       "    .dataframe tbody tr th:only-of-type {\n",
       "        vertical-align: middle;\n",
       "    }\n",
       "\n",
       "    .dataframe tbody tr th {\n",
       "        vertical-align: top;\n",
       "    }\n",
       "\n",
       "    .dataframe thead th {\n",
       "        text-align: right;\n",
       "    }\n",
       "</style>\n",
       "<table border=\"1\" class=\"dataframe\">\n",
       "  <thead>\n",
       "    <tr style=\"text-align: right;\">\n",
       "      <th></th>\n",
       "      <th>Район</th>\n",
       "      <th>Цена</th>\n",
       "      <th>Тип Апартамент</th>\n",
       "      <th>Year</th>\n",
       "      <th>Month</th>\n",
       "    </tr>\n",
       "  </thead>\n",
       "  <tbody>\n",
       "    <tr>\n",
       "      <th>0</th>\n",
       "      <td>1</td>\n",
       "      <td>110201.52</td>\n",
       "      <td>2</td>\n",
       "      <td>2022</td>\n",
       "      <td>7</td>\n",
       "    </tr>\n",
       "    <tr>\n",
       "      <th>1</th>\n",
       "      <td>3</td>\n",
       "      <td>148125.00</td>\n",
       "      <td>2</td>\n",
       "      <td>2022</td>\n",
       "      <td>7</td>\n",
       "    </tr>\n",
       "    <tr>\n",
       "      <th>2</th>\n",
       "      <td>5</td>\n",
       "      <td>141912.50</td>\n",
       "      <td>2</td>\n",
       "      <td>2022</td>\n",
       "      <td>7</td>\n",
       "    </tr>\n",
       "    <tr>\n",
       "      <th>3</th>\n",
       "      <td>6</td>\n",
       "      <td>167608.23</td>\n",
       "      <td>2</td>\n",
       "      <td>2022</td>\n",
       "      <td>7</td>\n",
       "    </tr>\n",
       "    <tr>\n",
       "      <th>4</th>\n",
       "      <td>7</td>\n",
       "      <td>109764.43</td>\n",
       "      <td>2</td>\n",
       "      <td>2022</td>\n",
       "      <td>7</td>\n",
       "    </tr>\n",
       "    <tr>\n",
       "      <th>...</th>\n",
       "      <td>...</td>\n",
       "      <td>...</td>\n",
       "      <td>...</td>\n",
       "      <td>...</td>\n",
       "      <td>...</td>\n",
       "    </tr>\n",
       "    <tr>\n",
       "      <th>949</th>\n",
       "      <td>86</td>\n",
       "      <td>303037.00</td>\n",
       "      <td>4</td>\n",
       "      <td>2024</td>\n",
       "      <td>7</td>\n",
       "    </tr>\n",
       "    <tr>\n",
       "      <th>950</th>\n",
       "      <td>92</td>\n",
       "      <td>331999.50</td>\n",
       "      <td>4</td>\n",
       "      <td>2024</td>\n",
       "      <td>7</td>\n",
       "    </tr>\n",
       "    <tr>\n",
       "      <th>951</th>\n",
       "      <td>93</td>\n",
       "      <td>446333.00</td>\n",
       "      <td>4</td>\n",
       "      <td>2024</td>\n",
       "      <td>7</td>\n",
       "    </tr>\n",
       "    <tr>\n",
       "      <th>952</th>\n",
       "      <td>94</td>\n",
       "      <td>817960.00</td>\n",
       "      <td>4</td>\n",
       "      <td>2024</td>\n",
       "      <td>7</td>\n",
       "    </tr>\n",
       "    <tr>\n",
       "      <th>953</th>\n",
       "      <td>96</td>\n",
       "      <td>599582.44</td>\n",
       "      <td>4</td>\n",
       "      <td>2024</td>\n",
       "      <td>7</td>\n",
       "    </tr>\n",
       "  </tbody>\n",
       "</table>\n",
       "<p>954 rows × 5 columns</p>\n",
       "</div>"
      ],
      "text/plain": [
       "     Район       Цена  Тип Апартамент  Year  Month\n",
       "0        1  110201.52               2  2022      7\n",
       "1        3  148125.00               2  2022      7\n",
       "2        5  141912.50               2  2022      7\n",
       "3        6  167608.23               2  2022      7\n",
       "4        7  109764.43               2  2022      7\n",
       "..     ...        ...             ...   ...    ...\n",
       "949     86  303037.00               4  2024      7\n",
       "950     92  331999.50               4  2024      7\n",
       "951     93  446333.00               4  2024      7\n",
       "952     94  817960.00               4  2024      7\n",
       "953     96  599582.44               4  2024      7\n",
       "\n",
       "[954 rows x 5 columns]"
      ]
     },
     "execution_count": 25,
     "metadata": {},
     "output_type": "execute_result"
    }
   ],
   "source": [
    "X"
   ]
  },
  {
   "cell_type": "markdown",
   "id": "25d75bc5-ffe9-46b5-ad49-33cf8e76e747",
   "metadata": {},
   "source": [
    "Split the data into training and testing sets:"
   ]
  },
  {
   "cell_type": "code",
   "execution_count": 26,
   "id": "c6d66883-a82b-477e-9b46-abd0cbea545d",
   "metadata": {},
   "outputs": [],
   "source": [
    "X_train, X_test, y_train, y_test = train_test_split(X, y, test_size=0.2, random_state=42)"
   ]
  },
  {
   "cell_type": "code",
   "execution_count": 27,
   "id": "0948594e-624a-4bf0-a395-fdbbc4d3c50f",
   "metadata": {},
   "outputs": [
    {
     "data": {
      "text/html": [
       "<div>\n",
       "<style scoped>\n",
       "    .dataframe tbody tr th:only-of-type {\n",
       "        vertical-align: middle;\n",
       "    }\n",
       "\n",
       "    .dataframe tbody tr th {\n",
       "        vertical-align: top;\n",
       "    }\n",
       "\n",
       "    .dataframe thead th {\n",
       "        text-align: right;\n",
       "    }\n",
       "</style>\n",
       "<table border=\"1\" class=\"dataframe\">\n",
       "  <thead>\n",
       "    <tr style=\"text-align: right;\">\n",
       "      <th></th>\n",
       "      <th>Район</th>\n",
       "      <th>Цена</th>\n",
       "      <th>Тип Апартамент</th>\n",
       "      <th>Year</th>\n",
       "      <th>Month</th>\n",
       "    </tr>\n",
       "  </thead>\n",
       "  <tbody>\n",
       "    <tr>\n",
       "      <th>292</th>\n",
       "      <td>3</td>\n",
       "      <td>162233.00</td>\n",
       "      <td>2</td>\n",
       "      <td>2023</td>\n",
       "      <td>7</td>\n",
       "    </tr>\n",
       "    <tr>\n",
       "      <th>891</th>\n",
       "      <td>55</td>\n",
       "      <td>32900.00</td>\n",
       "      <td>0</td>\n",
       "      <td>2024</td>\n",
       "      <td>7</td>\n",
       "    </tr>\n",
       "    <tr>\n",
       "      <th>736</th>\n",
       "      <td>27</td>\n",
       "      <td>315092.78</td>\n",
       "      <td>5</td>\n",
       "      <td>2024</td>\n",
       "      <td>7</td>\n",
       "    </tr>\n",
       "    <tr>\n",
       "      <th>109</th>\n",
       "      <td>25</td>\n",
       "      <td>421500.00</td>\n",
       "      <td>5</td>\n",
       "      <td>2022</td>\n",
       "      <td>7</td>\n",
       "    </tr>\n",
       "    <tr>\n",
       "      <th>77</th>\n",
       "      <td>84</td>\n",
       "      <td>173050.00</td>\n",
       "      <td>2</td>\n",
       "      <td>2022</td>\n",
       "      <td>7</td>\n",
       "    </tr>\n",
       "    <tr>\n",
       "      <th>...</th>\n",
       "      <td>...</td>\n",
       "      <td>...</td>\n",
       "      <td>...</td>\n",
       "      <td>...</td>\n",
       "      <td>...</td>\n",
       "    </tr>\n",
       "    <tr>\n",
       "      <th>106</th>\n",
       "      <td>22</td>\n",
       "      <td>214656.36</td>\n",
       "      <td>5</td>\n",
       "      <td>2022</td>\n",
       "      <td>7</td>\n",
       "    </tr>\n",
       "    <tr>\n",
       "      <th>270</th>\n",
       "      <td>37</td>\n",
       "      <td>190996.67</td>\n",
       "      <td>4</td>\n",
       "      <td>2022</td>\n",
       "      <td>7</td>\n",
       "    </tr>\n",
       "    <tr>\n",
       "      <th>860</th>\n",
       "      <td>38</td>\n",
       "      <td>44000.00</td>\n",
       "      <td>1</td>\n",
       "      <td>2024</td>\n",
       "      <td>7</td>\n",
       "    </tr>\n",
       "    <tr>\n",
       "      <th>435</th>\n",
       "      <td>55</td>\n",
       "      <td>215677.05</td>\n",
       "      <td>5</td>\n",
       "      <td>2023</td>\n",
       "      <td>7</td>\n",
       "    </tr>\n",
       "    <tr>\n",
       "      <th>102</th>\n",
       "      <td>18</td>\n",
       "      <td>227306.16</td>\n",
       "      <td>5</td>\n",
       "      <td>2022</td>\n",
       "      <td>7</td>\n",
       "    </tr>\n",
       "  </tbody>\n",
       "</table>\n",
       "<p>763 rows × 5 columns</p>\n",
       "</div>"
      ],
      "text/plain": [
       "     Район       Цена  Тип Апартамент  Year  Month\n",
       "292      3  162233.00               2  2023      7\n",
       "891     55   32900.00               0  2024      7\n",
       "736     27  315092.78               5  2024      7\n",
       "109     25  421500.00               5  2022      7\n",
       "77      84  173050.00               2  2022      7\n",
       "..     ...        ...             ...   ...    ...\n",
       "106     22  214656.36               5  2022      7\n",
       "270     37  190996.67               4  2022      7\n",
       "860     38   44000.00               1  2024      7\n",
       "435     55  215677.05               5  2023      7\n",
       "102     18  227306.16               5  2022      7\n",
       "\n",
       "[763 rows x 5 columns]"
      ]
     },
     "execution_count": 27,
     "metadata": {},
     "output_type": "execute_result"
    }
   ],
   "source": [
    "X_train"
   ]
  },
  {
   "cell_type": "code",
   "execution_count": 28,
   "id": "59fc0c57-da6a-4e6c-93f2-c2c96bd3b898",
   "metadata": {},
   "outputs": [
    {
     "data": {
      "text/plain": [
       "292    2015.32\n",
       "891    2056.25\n",
       "736    3185.05\n",
       "109    3032.37\n",
       "77     2273.24\n",
       "        ...   \n",
       "106    2161.82\n",
       "270    1757.64\n",
       "860    2095.24\n",
       "435    2239.21\n",
       "102    1839.47\n",
       "Name: Цена / кв.м., Length: 763, dtype: float64"
      ]
     },
     "execution_count": 28,
     "metadata": {},
     "output_type": "execute_result"
    }
   ],
   "source": [
    "y_train"
   ]
  },
  {
   "cell_type": "code",
   "execution_count": 29,
   "id": "bbac97e1-88f6-4da0-b6f7-37e0f4e2d3f9",
   "metadata": {},
   "outputs": [
    {
     "data": {
      "text/plain": [
       "((763, 5), (191,))"
      ]
     },
     "execution_count": 29,
     "metadata": {},
     "output_type": "execute_result"
    }
   ],
   "source": [
    "X_train.shape, y_test.shape"
   ]
  },
  {
   "cell_type": "code",
   "execution_count": 30,
   "id": "bb3e2ab9-3d37-4c6d-b30a-f21bc30e09ab",
   "metadata": {},
   "outputs": [
    {
     "data": {
      "text/plain": [
       "((191, 5), (763,))"
      ]
     },
     "execution_count": 30,
     "metadata": {},
     "output_type": "execute_result"
    }
   ],
   "source": [
    "X_test.shape, y_train.shape"
   ]
  },
  {
   "cell_type": "markdown",
   "id": "33914d85-3e5b-4d7d-b7fe-2b04c995391a",
   "metadata": {},
   "source": [
    "## Train the model"
   ]
  },
  {
   "cell_type": "code",
   "execution_count": 31,
   "id": "48519be3-2ebc-4845-a5da-df7030d37089",
   "metadata": {},
   "outputs": [],
   "source": [
    "model = LinearRegression()"
   ]
  },
  {
   "cell_type": "code",
   "execution_count": 32,
   "id": "e452dc30-1c9d-4b28-9eb7-5217f70af013",
   "metadata": {},
   "outputs": [
    {
     "data": {
      "text/plain": [
       "LinearRegression()"
      ]
     },
     "execution_count": 32,
     "metadata": {},
     "output_type": "execute_result"
    }
   ],
   "source": [
    "model.fit(X_train, y_train)"
   ]
  },
  {
   "cell_type": "markdown",
   "id": "1fa02018-cd3a-4bd3-92e9-f68e354fb3d5",
   "metadata": {},
   "source": [
    "## Prediction results"
   ]
  },
  {
   "cell_type": "code",
   "execution_count": 33,
   "id": "e036644c-982e-4b56-8afb-e57771180fed",
   "metadata": {},
   "outputs": [],
   "source": [
    "y_pred = model.predict(X_test)"
   ]
  },
  {
   "cell_type": "code",
   "execution_count": 34,
   "id": "0fb6d187-e5a9-4c9b-948f-3262f96afbb8",
   "metadata": {},
   "outputs": [
    {
     "data": {
      "text/plain": [
       "array([1750.68769183, 1839.39383931, 1804.70040078, 1944.07792623,\n",
       "       1922.38083838, 2219.76097443, 2094.98754327, 1537.72001041,\n",
       "       2300.23395829, 1872.9110702 , 1428.80262176, 1539.77991914,\n",
       "       1547.53523397, 2183.63678977, 1807.60635224, 1585.7867115 ,\n",
       "       1662.43326291, 1670.19373346, 1807.75261896, 1914.9282857 ,\n",
       "       1956.9735337 , 1828.94517048, 1760.22967186, 1686.11261913,\n",
       "       1534.811921  , 1777.82094491, 1528.81671619, 2021.42489425,\n",
       "       1767.09400383, 1537.75367292, 1907.69718555, 1765.20986189,\n",
       "       1736.7505311 , 1754.21497581, 1579.60087932, 1985.17116354,\n",
       "       1661.65627825, 1784.10376819, 2044.07519549, 2148.75928242,\n",
       "       1527.54371103, 1651.77444794, 1534.20011755, 1819.90973642,\n",
       "       1633.22389514, 1715.39755576, 1421.45287664, 1880.2953017 ,\n",
       "       1578.62717821, 1780.1590112 , 1641.19677333, 1772.91549362,\n",
       "       1647.08029418, 1665.05496756, 1979.41164758, 1938.31235138,\n",
       "       1632.79292199, 1673.4582839 , 1934.39529835, 1957.31744369,\n",
       "       1719.20138826, 1853.67345955, 2301.18538831, 1681.70888422,\n",
       "       2158.80068947, 1563.1432553 , 2035.8120384 , 1804.79946716,\n",
       "       2031.86075143, 1679.02057164, 2645.08131139, 1830.98151754,\n",
       "       1773.40557105, 1696.4940963 , 2470.98278069, 1976.78564559,\n",
       "       1759.47196851, 1609.32095081, 2017.12079282, 1971.52468623,\n",
       "       1766.48582141, 1566.40688581, 1994.22805404, 2135.39418611,\n",
       "       1884.82610514, 1473.12291633, 1888.30156906, 1527.67474239,\n",
       "       1785.80756781, 1543.98167661, 1989.12968228, 1952.07765282,\n",
       "       1740.81807925, 1857.26306876, 1632.84522596, 1804.42726429,\n",
       "       1554.58625246, 1576.80078488, 1592.34467697, 2030.62839019,\n",
       "       1778.44595764, 1852.40171568, 1571.52244044, 1455.75407678,\n",
       "       1957.66471804, 1764.57913663, 1935.66560447, 1610.62086354,\n",
       "       1867.60718869, 1664.9149918 , 1676.62856494, 2186.08879164,\n",
       "       1728.94417752, 1565.09160105, 1721.74940209, 1802.73778053,\n",
       "       1553.02836875, 1704.68822363, 1685.38802329, 1797.85311074,\n",
       "       1542.60348357, 3434.63909838, 1631.66753137, 1768.05606504,\n",
       "       1790.11241593, 1988.18669133, 1883.40697952, 1582.28313436,\n",
       "       1696.79496234, 1963.96644732, 1641.23448487, 2010.80025387,\n",
       "       2719.86077495, 1649.03675876, 1872.27402366, 2078.20578005,\n",
       "       1923.22763871, 2051.71547479, 1890.49165474, 3185.95435616,\n",
       "       2336.17612897, 1685.90475057, 1741.12583777, 1900.08390907,\n",
       "       1696.60340104, 2059.39746224, 1822.49257757, 1993.47194204,\n",
       "       1643.27609578, 2081.60692427, 2014.0143696 , 2306.56103303,\n",
       "       1549.54034324, 1804.3287664 , 1919.84959695, 1692.53353638,\n",
       "       1939.78168072, 1574.6145751 , 1785.38063557, 1866.5577572 ,\n",
       "       1429.15379846, 1422.99065546, 1878.57025874, 1548.23806522,\n",
       "       1891.73571877, 1560.72645542, 1803.21667492, 2065.21380079,\n",
       "       1668.24759946, 1650.55471888, 1744.84419142, 1787.16032459,\n",
       "       1730.85163029, 1715.78537291, 1855.2036561 , 1715.73808227,\n",
       "       1584.12259817, 1822.51744256, 1710.5088029 , 1446.23332446,\n",
       "       2149.9213433 , 1661.72301757, 1647.64636173, 2225.2953136 ,\n",
       "       2055.33619526, 1564.67604286, 1537.61487714, 1547.24030968,\n",
       "       1960.98110316, 1690.66582103, 1851.95618845])"
      ]
     },
     "execution_count": 34,
     "metadata": {},
     "output_type": "execute_result"
    }
   ],
   "source": [
    "y_pred"
   ]
  },
  {
   "cell_type": "code",
   "execution_count": 35,
   "id": "43771b01-6ea2-40d7-b7c2-169c7b456b29",
   "metadata": {},
   "outputs": [
    {
     "name": "stdout",
     "output_type": "stream",
     "text": [
      "Prediction for 1 - 2: 1924.90 per square meter\n",
      "Prediction for 3 - 5: 2064.56 per square meter\n"
     ]
    }
   ],
   "source": [
    "# Creating a future dataset for prediction\n",
    "# Example: Predicting for 2025 with specific assumptions for features\n",
    "future_data = {\n",
    "    'Район': label_encoder_region.transform(['Банишора', 'Белите Брези']),  # Encode regions\n",
    "    'Цена': 200000,\n",
    "    'Тип Апартамент': label_encoder_apartment_type.transform(['Двустаен апартамент', 'Тристаен апартамент']),  # Encode apartment types\n",
    "    'Year': [2025] * 2,  # Assuming 2 predictions for example purposes\n",
    "    'Month': [1, 1],  # Predicting for January 2025\n",
    "}\n",
    "\n",
    "# Convert to DataFrame\n",
    "future_X = pd.DataFrame(future_data)\n",
    "\n",
    "# Make predictions\n",
    "future_predictions = model.predict(future_X)\n",
    "\n",
    "# Display predictions\n",
    "for i, prediction in enumerate(future_predictions):\n",
    "    print(f\"Prediction for {future_data['Район'][i]} - {future_data['Тип Апартамент'][i]}: {prediction:.2f} per square meter\")"
   ]
  },
  {
   "cell_type": "code",
   "execution_count": 36,
   "id": "bb33a960-37ef-426b-b59b-87b9c6a0226e",
   "metadata": {},
   "outputs": [
    {
     "name": "stdout",
     "output_type": "stream",
     "text": [
      "Prediction for Банишора - Двустаен апартамент: 1924.50 per square meter\n",
      "Prediction for Белите Брези - Тристаен апартамент: 2063.76 per square meter\n"
     ]
    }
   ],
   "source": [
    "# Decode the encoded labels back to their original strings\n",
    "decoded_regions = label_encoder_region.inverse_transform(future_data['Район'])\n",
    "decoded_apartment_types = label_encoder_apartment_type.inverse_transform(future_data['Тип Апартамент'])\n",
    "\n",
    "# Example predictions\n",
    "future_predictions = [1924.50, 2063.76]\n",
    "\n",
    "# Display predictions with original labels\n",
    "for i, prediction in enumerate(future_predictions):\n",
    "    region_label = decoded_regions[i]\n",
    "    apartment_type_label = decoded_apartment_types[i]\n",
    "    print(f\"Prediction for {region_label} - {apartment_type_label}: {prediction:.2f} per square meter\")"
   ]
  },
  {
   "cell_type": "markdown",
   "id": "5e08740c-6aa0-42a0-871d-18730e94455c",
   "metadata": {},
   "source": [
    "## Evaluate the model"
   ]
  },
  {
   "cell_type": "code",
   "execution_count": 37,
   "id": "712083e0-28f9-49c0-bdc0-3ed00d094e3a",
   "metadata": {},
   "outputs": [],
   "source": [
    "mse = mean_squared_error(y_test, y_pred)"
   ]
  },
  {
   "cell_type": "code",
   "execution_count": 38,
   "id": "9a319287-ac44-4a6f-bdc2-329d78f2138e",
   "metadata": {},
   "outputs": [
    {
     "name": "stdout",
     "output_type": "stream",
     "text": [
      "Coefficients: 0.4009262838532397 0.0008129080303898111 46.287871546848585 104.68408692896679 0.0\n",
      "Intercept: -210315.935911446\n",
      "Mean squared error (MSE): 361313.15\n",
      "Coefficient of determination (R^2): 0.33\n"
     ]
    }
   ],
   "source": [
    "print(\"Coefficients:\", *model.coef_)\n",
    "print(\"Intercept:\", model.intercept_)\n",
    "print(\"Mean squared error (MSE): %.2f\" % mse)\n",
    "print(\"Coefficient of determination (R^2): %.2f\" % r2_score(y_test, y_pred))"
   ]
  },
  {
   "cell_type": "code",
   "execution_count": 39,
   "id": "025e2485-b5cc-4d15-82f7-4e6a6e5acd4c",
   "metadata": {},
   "outputs": [
    {
     "data": {
      "text/html": [
       "<div>\n",
       "<style scoped>\n",
       "    .dataframe tbody tr th:only-of-type {\n",
       "        vertical-align: middle;\n",
       "    }\n",
       "\n",
       "    .dataframe tbody tr th {\n",
       "        vertical-align: top;\n",
       "    }\n",
       "\n",
       "    .dataframe thead th {\n",
       "        text-align: right;\n",
       "    }\n",
       "</style>\n",
       "<table border=\"1\" class=\"dataframe\">\n",
       "  <thead>\n",
       "    <tr style=\"text-align: right;\">\n",
       "      <th></th>\n",
       "      <th>Coef</th>\n",
       "    </tr>\n",
       "  </thead>\n",
       "  <tbody>\n",
       "    <tr>\n",
       "      <th>Район</th>\n",
       "      <td>0.400926</td>\n",
       "    </tr>\n",
       "    <tr>\n",
       "      <th>Цена</th>\n",
       "      <td>0.000813</td>\n",
       "    </tr>\n",
       "    <tr>\n",
       "      <th>Тип Апартамент</th>\n",
       "      <td>46.287872</td>\n",
       "    </tr>\n",
       "    <tr>\n",
       "      <th>Year</th>\n",
       "      <td>104.684087</td>\n",
       "    </tr>\n",
       "    <tr>\n",
       "      <th>Month</th>\n",
       "      <td>0.000000</td>\n",
       "    </tr>\n",
       "  </tbody>\n",
       "</table>\n",
       "</div>"
      ],
      "text/plain": [
       "                      Coef\n",
       "Район             0.400926\n",
       "Цена              0.000813\n",
       "Тип Апартамент   46.287872\n",
       "Year            104.684087\n",
       "Month             0.000000"
      ]
     },
     "execution_count": 39,
     "metadata": {},
     "output_type": "execute_result"
    }
   ],
   "source": [
    "cdf = pd.DataFrame(model.coef_, X.columns, columns=['Coef'])\n",
    "cdf"
   ]
  },
  {
   "cell_type": "code",
   "execution_count": 41,
   "id": "3693b906-f923-4eb1-aad5-f664a35eacb8",
   "metadata": {},
   "outputs": [
    {
     "name": "stdout",
     "output_type": "stream",
     "text": [
      "Mean Absolute Error:  396.1441833754325\n"
     ]
    }
   ],
   "source": [
    "print(\"Mean Absolute Error: \", mean_absolute_error(y_test, y_pred))"
   ]
  },
  {
   "cell_type": "markdown",
   "id": "94a314a9-bda4-4a81-929f-04abd16e7728",
   "metadata": {},
   "source": [
    "## Residuals"
   ]
  },
  {
   "cell_type": "code",
   "execution_count": 42,
   "id": "eba839c8-3434-4cc7-a902-192d9f199f4a",
   "metadata": {},
   "outputs": [],
   "source": [
    "residuals = y_test - y_pred"
   ]
  },
  {
   "cell_type": "code",
   "execution_count": 43,
   "id": "a747d36c-02e2-4a30-8975-93c4bbf49da6",
   "metadata": {},
   "outputs": [
    {
     "data": {
      "text/plain": [
       "199   -738.857692\n",
       "422     98.356161\n",
       "695    344.759599\n",
       "751     -6.327926\n",
       "388    282.459162\n",
       "          ...    \n",
       "33    -235.144877\n",
       "31     452.759690\n",
       "712     56.328897\n",
       "321    228.384179\n",
       "462   -331.966188\n",
       "Name: Цена / кв.м., Length: 191, dtype: float64"
      ]
     },
     "execution_count": 43,
     "metadata": {},
     "output_type": "execute_result"
    }
   ],
   "source": [
    "residuals"
   ]
  }
 ],
 "metadata": {
  "kernelspec": {
   "display_name": "Python 3 (ipykernel)",
   "language": "python",
   "name": "python3"
  },
  "language_info": {
   "codemirror_mode": {
    "name": "ipython",
    "version": 3
   },
   "file_extension": ".py",
   "mimetype": "text/x-python",
   "name": "python",
   "nbconvert_exporter": "python",
   "pygments_lexer": "ipython3",
   "version": "3.9.12"
  }
 },
 "nbformat": 4,
 "nbformat_minor": 5
}
