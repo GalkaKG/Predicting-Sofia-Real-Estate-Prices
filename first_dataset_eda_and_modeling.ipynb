{
 "cells": [
  {
   "cell_type": "code",
   "execution_count": 1,
   "id": "d840f8c1-ae28-47fd-843b-e16bfc304f8e",
   "metadata": {},
   "outputs": [],
   "source": [
    "%matplotlib inline"
   ]
  },
  {
   "cell_type": "code",
   "execution_count": 2,
   "id": "8ec18ee0-d81c-48b8-abe9-dc192ce80041",
   "metadata": {},
   "outputs": [],
   "source": [
    "import numpy as np\n",
    "import pandas as pd\n",
    "import matplotlib.pyplot as plt\n",
    "import seaborn as sns\n",
    "\n",
    "from sklearn.model_selection import train_test_split, learning_curve, cross_val_score\n",
    "from sklearn.linear_model import LinearRegression\n",
    "from sklearn.metrics import mean_squared_error, mean_absolute_error, r2_score\n",
    "\n",
    "from sklearn.preprocessing import StandardScaler, OneHotEncoder\n",
    "from sklearn.compose import ColumnTransformer\n",
    "from sklearn.pipeline import Pipeline\n",
    "from sklearn.ensemble import RandomForestRegressor\n",
    "\n",
    "from sklearn.preprocessing import LabelEncoder"
   ]
  },
  {
   "cell_type": "markdown",
   "id": "b5b27a86-9168-4363-8cdc-6813a53978c8",
   "metadata": {},
   "source": [
    "Let's read the first dataset that we have:"
   ]
  },
  {
   "cell_type": "code",
   "execution_count": 3,
   "id": "ad9af972-c54a-45d7-bfa6-768e10053060",
   "metadata": {},
   "outputs": [],
   "source": [
    "combined_df = pd.read_csv(\"data/property_prices_combined.csv\")"
   ]
  },
  {
   "cell_type": "markdown",
   "id": "bce9d7c3-0533-47f6-8dfb-42ae9eaa734f",
   "metadata": {},
   "source": [
    "And review it:"
   ]
  },
  {
   "cell_type": "code",
   "execution_count": 4,
   "id": "6af98695-6b72-496d-adb8-b2ebdd3615f8",
   "metadata": {},
   "outputs": [
    {
     "data": {
      "text/html": [
       "<div>\n",
       "<style scoped>\n",
       "    .dataframe tbody tr th:only-of-type {\n",
       "        vertical-align: middle;\n",
       "    }\n",
       "\n",
       "    .dataframe tbody tr th {\n",
       "        vertical-align: top;\n",
       "    }\n",
       "\n",
       "    .dataframe thead th {\n",
       "        text-align: right;\n",
       "    }\n",
       "</style>\n",
       "<table border=\"1\" class=\"dataframe\">\n",
       "  <thead>\n",
       "    <tr style=\"text-align: right;\">\n",
       "      <th></th>\n",
       "      <th>Район</th>\n",
       "      <th>Цена</th>\n",
       "      <th>Цена / кв.м.</th>\n",
       "      <th>Валута</th>\n",
       "      <th>Тип Апартамент</th>\n",
       "      <th>Дата</th>\n",
       "    </tr>\n",
       "  </thead>\n",
       "  <tbody>\n",
       "    <tr>\n",
       "      <th>0</th>\n",
       "      <td>Банишора</td>\n",
       "      <td>134653.98</td>\n",
       "      <td>1987.51</td>\n",
       "      <td>EUR</td>\n",
       "      <td>Двустаен апартамент</td>\n",
       "      <td>2024-07-28</td>\n",
       "    </tr>\n",
       "    <tr>\n",
       "      <th>1</th>\n",
       "      <td>Банкя (гр.)</td>\n",
       "      <td>131843.00</td>\n",
       "      <td>1890.84</td>\n",
       "      <td>EUR</td>\n",
       "      <td>Двустаен апартамент</td>\n",
       "      <td>2024-07-28</td>\n",
       "    </tr>\n",
       "    <tr>\n",
       "      <th>2</th>\n",
       "      <td>Белите Брези</td>\n",
       "      <td>249900.00</td>\n",
       "      <td>2108.86</td>\n",
       "      <td>EUR</td>\n",
       "      <td>Двустаен апартамент</td>\n",
       "      <td>2024-07-28</td>\n",
       "    </tr>\n",
       "    <tr>\n",
       "      <th>3</th>\n",
       "      <td>Бенковски</td>\n",
       "      <td>115863.50</td>\n",
       "      <td>1782.52</td>\n",
       "      <td>EUR</td>\n",
       "      <td>Двустаен апартамент</td>\n",
       "      <td>2024-07-28</td>\n",
       "    </tr>\n",
       "    <tr>\n",
       "      <th>4</th>\n",
       "      <td>Борово</td>\n",
       "      <td>135594.22</td>\n",
       "      <td>2148.50</td>\n",
       "      <td>EUR</td>\n",
       "      <td>Двустаен апартамент</td>\n",
       "      <td>2024-07-28</td>\n",
       "    </tr>\n",
       "    <tr>\n",
       "      <th>...</th>\n",
       "      <td>...</td>\n",
       "      <td>...</td>\n",
       "      <td>...</td>\n",
       "      <td>...</td>\n",
       "      <td>...</td>\n",
       "      <td>...</td>\n",
       "    </tr>\n",
       "    <tr>\n",
       "      <th>4419</th>\n",
       "      <td>Стрелбище</td>\n",
       "      <td>175333.00</td>\n",
       "      <td>1075.67</td>\n",
       "      <td>EUR</td>\n",
       "      <td>Многостаен апартамемент</td>\n",
       "      <td>2021-07-28</td>\n",
       "    </tr>\n",
       "    <tr>\n",
       "      <th>4420</th>\n",
       "      <td>Студентски Град</td>\n",
       "      <td>222600.00</td>\n",
       "      <td>718.84</td>\n",
       "      <td>EUR</td>\n",
       "      <td>Многостаен апартамемент</td>\n",
       "      <td>2021-07-28</td>\n",
       "    </tr>\n",
       "    <tr>\n",
       "      <th>4421</th>\n",
       "      <td>Хаджи Димитър</td>\n",
       "      <td>205000.00</td>\n",
       "      <td>1045.92</td>\n",
       "      <td>EUR</td>\n",
       "      <td>Многостаен апартамемент</td>\n",
       "      <td>2021-07-28</td>\n",
       "    </tr>\n",
       "    <tr>\n",
       "      <th>4422</th>\n",
       "      <td>Хиподрума</td>\n",
       "      <td>330000.00</td>\n",
       "      <td>2357.14</td>\n",
       "      <td>EUR</td>\n",
       "      <td>Многостаен апартамемент</td>\n",
       "      <td>2021-07-28</td>\n",
       "    </tr>\n",
       "    <tr>\n",
       "      <th>4423</th>\n",
       "      <td>Център</td>\n",
       "      <td>564114.00</td>\n",
       "      <td>2689.00</td>\n",
       "      <td>EUR</td>\n",
       "      <td>Многостаен апартамемент</td>\n",
       "      <td>2021-07-28</td>\n",
       "    </tr>\n",
       "  </tbody>\n",
       "</table>\n",
       "<p>4424 rows × 6 columns</p>\n",
       "</div>"
      ],
      "text/plain": [
       "                Район       Цена  Цена / кв.м. Валута  \\\n",
       "0            Банишора  134653.98       1987.51    EUR   \n",
       "1         Банкя (гр.)  131843.00       1890.84    EUR   \n",
       "2        Белите Брези  249900.00       2108.86    EUR   \n",
       "3           Бенковски  115863.50       1782.52    EUR   \n",
       "4              Борово  135594.22       2148.50    EUR   \n",
       "...               ...        ...           ...    ...   \n",
       "4419        Стрелбище  175333.00       1075.67    EUR   \n",
       "4420  Студентски Град  222600.00        718.84    EUR   \n",
       "4421    Хаджи Димитър  205000.00       1045.92    EUR   \n",
       "4422        Хиподрума  330000.00       2357.14    EUR   \n",
       "4423           Център  564114.00       2689.00    EUR   \n",
       "\n",
       "               Тип Апартамент        Дата  \n",
       "0         Двустаен апартамент  2024-07-28  \n",
       "1         Двустаен апартамент  2024-07-28  \n",
       "2         Двустаен апартамент  2024-07-28  \n",
       "3         Двустаен апартамент  2024-07-28  \n",
       "4         Двустаен апартамент  2024-07-28  \n",
       "...                       ...         ...  \n",
       "4419  Многостаен апартамемент  2021-07-28  \n",
       "4420  Многостаен апартамемент  2021-07-28  \n",
       "4421  Многостаен апартамемент  2021-07-28  \n",
       "4422  Многостаен апартамемент  2021-07-28  \n",
       "4423  Многостаен апартамемент  2021-07-28  \n",
       "\n",
       "[4424 rows x 6 columns]"
      ]
     },
     "execution_count": 4,
     "metadata": {},
     "output_type": "execute_result"
    }
   ],
   "source": [
    "combined_df"
   ]
  },
  {
   "cell_type": "markdown",
   "id": "4ff98bf4-abd9-45ae-8bd6-ea8cb7db7773",
   "metadata": {},
   "source": [
    "Let's normalize the titles like convert the column names from Bulgarian to English:"
   ]
  },
  {
   "cell_type": "code",
   "execution_count": 5,
   "id": "94c207a3-7e04-4aba-9233-5ce313d8eec0",
   "metadata": {},
   "outputs": [
    {
     "data": {
      "text/html": [
       "<div>\n",
       "<style scoped>\n",
       "    .dataframe tbody tr th:only-of-type {\n",
       "        vertical-align: middle;\n",
       "    }\n",
       "\n",
       "    .dataframe tbody tr th {\n",
       "        vertical-align: top;\n",
       "    }\n",
       "\n",
       "    .dataframe thead th {\n",
       "        text-align: right;\n",
       "    }\n",
       "</style>\n",
       "<table border=\"1\" class=\"dataframe\">\n",
       "  <thead>\n",
       "    <tr style=\"text-align: right;\">\n",
       "      <th></th>\n",
       "      <th>region</th>\n",
       "      <th>price</th>\n",
       "      <th>price_per_sqm</th>\n",
       "      <th>currency</th>\n",
       "      <th>apartment_type</th>\n",
       "      <th>date</th>\n",
       "    </tr>\n",
       "  </thead>\n",
       "  <tbody>\n",
       "    <tr>\n",
       "      <th>0</th>\n",
       "      <td>Банишора</td>\n",
       "      <td>134653.98</td>\n",
       "      <td>1987.51</td>\n",
       "      <td>EUR</td>\n",
       "      <td>Двустаен апартамент</td>\n",
       "      <td>2024-07-28</td>\n",
       "    </tr>\n",
       "    <tr>\n",
       "      <th>1</th>\n",
       "      <td>Банкя (гр.)</td>\n",
       "      <td>131843.00</td>\n",
       "      <td>1890.84</td>\n",
       "      <td>EUR</td>\n",
       "      <td>Двустаен апартамент</td>\n",
       "      <td>2024-07-28</td>\n",
       "    </tr>\n",
       "    <tr>\n",
       "      <th>2</th>\n",
       "      <td>Белите Брези</td>\n",
       "      <td>249900.00</td>\n",
       "      <td>2108.86</td>\n",
       "      <td>EUR</td>\n",
       "      <td>Двустаен апартамент</td>\n",
       "      <td>2024-07-28</td>\n",
       "    </tr>\n",
       "    <tr>\n",
       "      <th>3</th>\n",
       "      <td>Бенковски</td>\n",
       "      <td>115863.50</td>\n",
       "      <td>1782.52</td>\n",
       "      <td>EUR</td>\n",
       "      <td>Двустаен апартамент</td>\n",
       "      <td>2024-07-28</td>\n",
       "    </tr>\n",
       "    <tr>\n",
       "      <th>4</th>\n",
       "      <td>Борово</td>\n",
       "      <td>135594.22</td>\n",
       "      <td>2148.50</td>\n",
       "      <td>EUR</td>\n",
       "      <td>Двустаен апартамент</td>\n",
       "      <td>2024-07-28</td>\n",
       "    </tr>\n",
       "  </tbody>\n",
       "</table>\n",
       "</div>"
      ],
      "text/plain": [
       "         region      price  price_per_sqm currency       apartment_type  \\\n",
       "0      Банишора  134653.98        1987.51      EUR  Двустаен апартамент   \n",
       "1   Банкя (гр.)  131843.00        1890.84      EUR  Двустаен апартамент   \n",
       "2  Белите Брези  249900.00        2108.86      EUR  Двустаен апартамент   \n",
       "3     Бенковски  115863.50        1782.52      EUR  Двустаен апартамент   \n",
       "4        Борово  135594.22        2148.50      EUR  Двустаен апартамент   \n",
       "\n",
       "         date  \n",
       "0  2024-07-28  \n",
       "1  2024-07-28  \n",
       "2  2024-07-28  \n",
       "3  2024-07-28  \n",
       "4  2024-07-28  "
      ]
     },
     "execution_count": 5,
     "metadata": {},
     "output_type": "execute_result"
    }
   ],
   "source": [
    "combined_df = combined_df.rename(columns={\n",
    "    'Район': 'region',\n",
    "    'Цена': 'price',\n",
    "    'Цена / кв.м.': 'price_per_sqm',\n",
    "    'Валута': 'currency',\n",
    "    'Тип Апартамент': 'apartment_type',\n",
    "    'Дата': 'date'\n",
    "})\n",
    "\n",
    "\n",
    "combined_df.head()"
   ]
  },
  {
   "cell_type": "markdown",
   "id": "fbce8316-19da-48ab-a496-2567688a1b38",
   "metadata": {},
   "source": [
    "#### Let's take a closer look at the dataset."
   ]
  },
  {
   "cell_type": "code",
   "execution_count": 6,
   "id": "e2bbed30-2abe-4400-b3b3-b490da5a9863",
   "metadata": {},
   "outputs": [
    {
     "data": {
      "text/plain": [
       "(4424, 6)"
      ]
     },
     "execution_count": 6,
     "metadata": {},
     "output_type": "execute_result"
    }
   ],
   "source": [
    "combined_df.shape"
   ]
  },
  {
   "cell_type": "markdown",
   "id": "06fcb9e7-96c1-4ca5-8eb7-f9d35bcb6a13",
   "metadata": {},
   "source": [
    "It has 4424 observations and 6 features."
   ]
  },
  {
   "cell_type": "code",
   "execution_count": 7,
   "id": "3ef4ff2a-74d6-44fc-af8c-721c035bba8f",
   "metadata": {},
   "outputs": [
    {
     "data": {
      "text/html": [
       "<div>\n",
       "<style scoped>\n",
       "    .dataframe tbody tr th:only-of-type {\n",
       "        vertical-align: middle;\n",
       "    }\n",
       "\n",
       "    .dataframe tbody tr th {\n",
       "        vertical-align: top;\n",
       "    }\n",
       "\n",
       "    .dataframe thead th {\n",
       "        text-align: right;\n",
       "    }\n",
       "</style>\n",
       "<table border=\"1\" class=\"dataframe\">\n",
       "  <thead>\n",
       "    <tr style=\"text-align: right;\">\n",
       "      <th></th>\n",
       "      <th>count</th>\n",
       "      <th>mean</th>\n",
       "      <th>std</th>\n",
       "      <th>min</th>\n",
       "      <th>25%</th>\n",
       "      <th>50%</th>\n",
       "      <th>75%</th>\n",
       "      <th>max</th>\n",
       "    </tr>\n",
       "  </thead>\n",
       "  <tbody>\n",
       "    <tr>\n",
       "      <th>price</th>\n",
       "      <td>4424.0</td>\n",
       "      <td>240272.109042</td>\n",
       "      <td>257381.183834</td>\n",
       "      <td>6500.0</td>\n",
       "      <td>110658.525</td>\n",
       "      <td>164470.080</td>\n",
       "      <td>266816.71</td>\n",
       "      <td>3000000.0</td>\n",
       "    </tr>\n",
       "    <tr>\n",
       "      <th>price_per_sqm</th>\n",
       "      <td>4424.0</td>\n",
       "      <td>1807.489643</td>\n",
       "      <td>681.901018</td>\n",
       "      <td>17.4</td>\n",
       "      <td>1421.750</td>\n",
       "      <td>1721.535</td>\n",
       "      <td>2096.62</td>\n",
       "      <td>17750.0</td>\n",
       "    </tr>\n",
       "  </tbody>\n",
       "</table>\n",
       "</div>"
      ],
      "text/plain": [
       "                count           mean            std     min         25%  \\\n",
       "price          4424.0  240272.109042  257381.183834  6500.0  110658.525   \n",
       "price_per_sqm  4424.0    1807.489643     681.901018    17.4    1421.750   \n",
       "\n",
       "                      50%        75%        max  \n",
       "price          164470.080  266816.71  3000000.0  \n",
       "price_per_sqm    1721.535    2096.62    17750.0  "
      ]
     },
     "execution_count": 7,
     "metadata": {},
     "output_type": "execute_result"
    }
   ],
   "source": [
    "combined_df.describe().T"
   ]
  },
  {
   "cell_type": "code",
   "execution_count": 8,
   "id": "3fa51c5d-f54f-40ce-b4ff-33c8dfcb8085",
   "metadata": {},
   "outputs": [
    {
     "name": "stdout",
     "output_type": "stream",
     "text": [
      "<class 'pandas.core.frame.DataFrame'>\n",
      "RangeIndex: 4424 entries, 0 to 4423\n",
      "Data columns (total 6 columns):\n",
      " #   Column          Non-Null Count  Dtype  \n",
      "---  ------          --------------  -----  \n",
      " 0   region          4424 non-null   object \n",
      " 1   price           4424 non-null   float64\n",
      " 2   price_per_sqm   4424 non-null   float64\n",
      " 3   currency        4424 non-null   object \n",
      " 4   apartment_type  4424 non-null   object \n",
      " 5   date            4424 non-null   object \n",
      "dtypes: float64(2), object(4)\n",
      "memory usage: 207.5+ KB\n"
     ]
    }
   ],
   "source": [
    "combined_df.info()"
   ]
  },
  {
   "cell_type": "code",
   "execution_count": 9,
   "id": "abef06dd-0268-4e41-9577-6c5e5d077ecc",
   "metadata": {},
   "outputs": [
    {
     "data": {
      "text/plain": [
       "region             object\n",
       "price             float64\n",
       "price_per_sqm     float64\n",
       "currency           object\n",
       "apartment_type     object\n",
       "date               object\n",
       "dtype: object"
      ]
     },
     "execution_count": 9,
     "metadata": {},
     "output_type": "execute_result"
    }
   ],
   "source": [
    "combined_df.dtypes"
   ]
  },
  {
   "cell_type": "markdown",
   "id": "1aa06d4a-4730-426a-b707-27bae4770117",
   "metadata": {},
   "source": [
    "Let's convert the \"date\" column in the correct data type:"
   ]
  },
  {
   "cell_type": "code",
   "execution_count": 10,
   "id": "99c16360-33e7-4c5b-86fb-83f483c21b49",
   "metadata": {},
   "outputs": [],
   "source": [
    "combined_df[\"date\"] = pd.to_datetime(combined_df[\"date\"])"
   ]
  },
  {
   "cell_type": "markdown",
   "id": "eebff2c6-bb9f-4bf9-a1cf-85a73b1bdfa2",
   "metadata": {},
   "source": [
    "Check the converted format:"
   ]
  },
  {
   "cell_type": "code",
   "execution_count": 11,
   "id": "8b4effe6-667e-4997-a3ab-98ed7dfec5db",
   "metadata": {},
   "outputs": [
    {
     "data": {
      "text/plain": [
       "0      2024-07-28\n",
       "1      2024-07-28\n",
       "2      2024-07-28\n",
       "3      2024-07-28\n",
       "4      2024-07-28\n",
       "          ...    \n",
       "4419   2021-07-28\n",
       "4420   2021-07-28\n",
       "4421   2021-07-28\n",
       "4422   2021-07-28\n",
       "4423   2021-07-28\n",
       "Name: date, Length: 4424, dtype: datetime64[ns]"
      ]
     },
     "execution_count": 11,
     "metadata": {},
     "output_type": "execute_result"
    }
   ],
   "source": [
    "combined_df[\"date\"]"
   ]
  },
  {
   "cell_type": "markdown",
   "id": "8b232f53-5258-4892-a7d9-08cf890bf259",
   "metadata": {},
   "source": [
    "Check for NaN values:"
   ]
  },
  {
   "cell_type": "code",
   "execution_count": 12,
   "id": "ddb6b32f-149f-465a-b3e4-f56928dbc229",
   "metadata": {},
   "outputs": [
    {
     "data": {
      "text/plain": [
       "region            0\n",
       "price             0\n",
       "price_per_sqm     0\n",
       "currency          0\n",
       "apartment_type    0\n",
       "date              0\n",
       "dtype: int64"
      ]
     },
     "execution_count": 12,
     "metadata": {},
     "output_type": "execute_result"
    }
   ],
   "source": [
    "combined_df.isna().sum()"
   ]
  },
  {
   "cell_type": "markdown",
   "id": "731d3650-e43b-4d4f-aa0b-92e95c7e2ba6",
   "metadata": {},
   "source": [
    "We don't have null values in this dataset."
   ]
  },
  {
   "cell_type": "markdown",
   "id": "dbb7566c-3c03-471a-8fb3-b3874f4663ee",
   "metadata": {},
   "source": [
    "Let's see how many __unique Ragions__ we have:"
   ]
  },
  {
   "cell_type": "code",
   "execution_count": 13,
   "id": "73128cbe-9126-4248-ac53-d0bd90ff100b",
   "metadata": {},
   "outputs": [
    {
     "data": {
      "text/plain": [
       "103"
      ]
     },
     "execution_count": 13,
     "metadata": {},
     "output_type": "execute_result"
    }
   ],
   "source": [
    "len(combined_df['region'].unique())"
   ]
  },
  {
   "cell_type": "markdown",
   "id": "6fbfd227-d104-4c79-aabe-c7b4bd68e19b",
   "metadata": {},
   "source": [
    "And which they are:"
   ]
  },
  {
   "cell_type": "code",
   "execution_count": 14,
   "id": "c2d5b49c-c28d-4f42-bb64-044887c4f24a",
   "metadata": {},
   "outputs": [
    {
     "data": {
      "text/plain": [
       "array(['Банишора', 'Банкя (гр.)', 'Белите Брези', 'Бенковски', 'Борово',\n",
       "       'Бояна', 'Бъкстон', 'Витоша', 'Гевгелийски', 'Гео Милев',\n",
       "       'Горна Баня', 'Гоце Делчев', 'Дианабад', 'Драгалевци', 'Дружба',\n",
       "       'Дружба 1', 'Дружба 2', 'Дървеница', 'Западен Парк',\n",
       "       'Захарна Фабрика', 'Зона Б18', 'Зона Б19', 'Зона Б5', 'Иван Вазов',\n",
       "       'Изгрев', 'Изток', 'Илинден', 'Княжево', 'Красна Поляна',\n",
       "       'Красно Село', 'Кръстова Вада', 'Лагера', 'Левски', 'Левски В',\n",
       "       'Левски Г', 'Лозенец', 'Люлин 1', 'Люлин 10', 'Люлин 2', 'Люлин 3',\n",
       "       'Люлин 4', 'Люлин 5', 'Люлин 6', 'Люлин 7', 'Люлин 8', 'Люлин 9',\n",
       "       'Люлин Център', 'м-т Гърдова глава', 'Малинова Долина',\n",
       "       'Малинова долина в.з.', 'Манастирски ливади Запад',\n",
       "       'Манастирски ливади Изток', 'Младост 1', 'Младост 1а', 'Младост 2',\n",
       "       'Младост 3', 'Младост 4', 'Мотописта', 'Мусагеница', 'Надежда 1',\n",
       "       'Надежда 2', 'Надежда 3', 'Надежда 4', 'Обеля', 'Обеля 1',\n",
       "       'Обеля 2', 'Оборище', 'Овча Купел', 'Овча Купел 1', 'Овча Купел 2',\n",
       "       'Павлово', 'Подуене', 'Полигона', 'Разсадника', 'Редута',\n",
       "       'Света Троица', 'Свобода', 'Сердика', 'Симеоново', 'Славия',\n",
       "       'Слатина', 'Стрелбище', 'Студентски Град', 'Суха Река', 'Толстой',\n",
       "       'Факултета', 'Фондови Жилища', 'Хаджи Димитър', 'Хиподрума',\n",
       "       'Хладилника', 'Център', 'Яворов', 'м-т Детски град',\n",
       "       'Врана - Лозен в.з.', 'Илиянци', 'Малашевци', 'Требич',\n",
       "       'Филиповци', '7-ми 11-ти километър', 'Надежда 5', 'Централна гара',\n",
       "       'Американски колеж в.з.', 'Градина'], dtype=object)"
      ]
     },
     "execution_count": 14,
     "metadata": {},
     "output_type": "execute_result"
    }
   ],
   "source": [
    "combined_df['region'].unique()"
   ]
  },
  {
   "cell_type": "markdown",
   "id": "a5379e44-f5c7-4ab3-95ee-dc996534f628",
   "metadata": {},
   "source": [
    "How many property types we have and which are thay?"
   ]
  },
  {
   "cell_type": "code",
   "execution_count": 15,
   "id": "2f80e557-f176-4ece-8144-2bc67098c24d",
   "metadata": {},
   "outputs": [
    {
     "data": {
      "text/plain": [
       "6"
      ]
     },
     "execution_count": 15,
     "metadata": {},
     "output_type": "execute_result"
    }
   ],
   "source": [
    "len(combined_df['apartment_type'].unique())"
   ]
  },
  {
   "cell_type": "code",
   "execution_count": 16,
   "id": "e3bc8679-24a7-4ae3-962b-80fb3146154d",
   "metadata": {},
   "outputs": [
    {
     "data": {
      "text/plain": [
       "array(['Двустаен апартамент', 'Тристаен апартамент', 'Къща',\n",
       "       'Гараж, паркомясто', 'Ателие, таван, студио',\n",
       "       'Многостаен апартамемент'], dtype=object)"
      ]
     },
     "execution_count": 16,
     "metadata": {},
     "output_type": "execute_result"
    }
   ],
   "source": [
    "combined_df['apartment_type'].unique()"
   ]
  },
  {
   "cell_type": "code",
   "execution_count": 17,
   "id": "498c4d75-53ca-4dc8-a2fb-1b928762b977",
   "metadata": {},
   "outputs": [
    {
     "data": {
      "text/plain": [
       "Index(['region', 'price', 'price_per_sqm', 'currency', 'apartment_type',\n",
       "       'date'],\n",
       "      dtype='object')"
      ]
     },
     "execution_count": 17,
     "metadata": {},
     "output_type": "execute_result"
    }
   ],
   "source": [
    "combined_df.columns"
   ]
  },
  {
   "cell_type": "markdown",
   "id": "c57f0bf2-d84c-417c-af6d-582f1a2f9704",
   "metadata": {},
   "source": [
    "__What are the mean prices by apartment type and date?__"
   ]
  },
  {
   "cell_type": "code",
   "execution_count": 18,
   "id": "232548b5-9a34-43a1-a63b-8d09d273329e",
   "metadata": {},
   "outputs": [
    {
     "name": "stdout",
     "output_type": "stream",
     "text": [
      "apartment_type         date      \n",
      "Ателие, таван, студио  2021-07-28     77116.214286\n",
      "                       2022-01-10     94700.741111\n",
      "                       2022-07-28    105442.089231\n",
      "                       2022-11-19    109510.400000\n",
      "                       2023-01-10    110105.194444\n",
      "                                         ...      \n",
      "Тристаен апартамент    2024-03-12    214684.272444\n",
      "                       2024-04-13    215648.782135\n",
      "                       2024-05-15    216724.884205\n",
      "                       2024-06-20    220292.982921\n",
      "                       2024-07-28    220629.843371\n",
      "Name: price, Length: 84, dtype: float64\n"
     ]
    }
   ],
   "source": [
    "mean_prices = combined_df.groupby(['apartment_type', 'date'])['price'].mean()\n",
    "\n",
    "print(mean_prices)"
   ]
  },
  {
   "cell_type": "markdown",
   "id": "09f1e4c3-433c-4210-901d-1670bcc74c9a",
   "metadata": {},
   "source": [
    "__What are the median prices by apartment type and date?__"
   ]
  },
  {
   "cell_type": "code",
   "execution_count": 19,
   "id": "eb35083e-c338-4ca3-a24d-23b6c3ef384f",
   "metadata": {},
   "outputs": [
    {
     "name": "stdout",
     "output_type": "stream",
     "text": [
      "apartment_type         date      \n",
      "Ателие, таван, студио  2021-07-28     69866.50\n",
      "                       2022-01-10     79990.00\n",
      "                       2022-07-28     99400.00\n",
      "                       2022-11-19     89664.50\n",
      "                       2023-01-10     71500.00\n",
      "                                       ...    \n",
      "Тристаен апартамент    2024-03-12    194120.96\n",
      "                       2024-04-13    199763.42\n",
      "                       2024-05-15    202096.90\n",
      "                       2024-06-20    209206.14\n",
      "                       2024-07-28    209953.33\n",
      "Name: price, Length: 84, dtype: float64\n"
     ]
    }
   ],
   "source": [
    "median_prices = combined_df.groupby(['apartment_type', 'date'])['price'].median()\n",
    "print(median_prices)"
   ]
  },
  {
   "cell_type": "code",
   "execution_count": 20,
   "id": "79ae6c4d-9304-4666-82c6-7530c74a5200",
   "metadata": {},
   "outputs": [],
   "source": [
    "# # Average Price per Square Meter Over Time for Each Apartment Type\n",
    "# avg_price_per_sqm = combined_df.groupby(['date', 'apartment_type'])['price_per_sqm'].mean().unstack()\n",
    "\n",
    "# avg_price_per_sqm.plot(figsize=(12, 8))\n",
    "# plt.title('Average Price per Square Meter Over Time')\n",
    "# plt.xlabel('Date')\n",
    "# plt.ylabel('Price per Square Meter (EUR)')\n",
    "# plt.show()\n"
   ]
  },
  {
   "cell_type": "markdown",
   "id": "35a600b6-6f56-43b3-adfb-936813237d4d",
   "metadata": {},
   "source": [
    "__What are the most expensive regions for each apartment type?__"
   ]
  },
  {
   "cell_type": "code",
   "execution_count": 21,
   "id": "e3b52f9c-319e-4482-96fa-070a67b5ce37",
   "metadata": {},
   "outputs": [
    {
     "name": "stdout",
     "output_type": "stream",
     "text": [
      "Most Expensive Regions for Each Apartment Type:\n",
      "            apartment_type                region       date      price\n",
      "0    Ателие, таван, студио             Младост 3 2023-07-28   295560.0\n",
      "1        Гараж, паркомясто              Зона Б18 2024-02-11   355000.0\n",
      "2      Двустаен апартамент               Люлин 4 2022-01-10   492000.0\n",
      "3                     Къща       Студентски Град 2023-07-28  3000000.0\n",
      "4  Многостаен апартамемент            Иван Вазов 2023-01-10  2000000.0\n",
      "5      Тристаен апартамент  Малинова долина в.з. 2023-01-10   591181.0\n"
     ]
    }
   ],
   "source": [
    "# Group by 'apartment_type' and 'region' and calculate the mean price\n",
    "grouped = combined_df.groupby(['apartment_type', 'region', 'date'])['price'].mean().reset_index()\n",
    "\n",
    "# Sort within each apartment type to find the most and least expensive regions\n",
    "most_expensive = grouped.groupby('apartment_type').apply(lambda x: x.nlargest(1, 'price')).reset_index(drop=True)\n",
    "\n",
    "# Display the results\n",
    "print(\"Most Expensive Regions for Each Apartment Type:\")\n",
    "print(most_expensive)"
   ]
  },
  {
   "cell_type": "markdown",
   "id": "2e70f62c-b331-4b7c-9019-6b0e2c24e592",
   "metadata": {},
   "source": [
    "__What are the least expensive regions for each apartment type?__"
   ]
  },
  {
   "cell_type": "code",
   "execution_count": 22,
   "id": "821a424d-d3f2-4fa0-baa3-736a26f713f0",
   "metadata": {},
   "outputs": [
    {
     "name": "stdout",
     "output_type": "stream",
     "text": [
      "\n",
      "Least Expensive Regions for Each Apartment Type:\n",
      "            apartment_type          region       date    price\n",
      "0    Ателие, таван, студио         Люлин 4 2021-07-28  15000.0\n",
      "1        Гараж, паркомясто          Редута 2022-07-28   6500.0\n",
      "2      Двустаен апартамент  Фондови Жилища 2021-07-28  38000.0\n",
      "3                     Къща    Западен Парк 2023-07-28  97500.0\n",
      "4  Многостаен апартамемент         Люлин 6 2022-01-10  55100.0\n",
      "5      Тристаен апартамент         Люлин 4 2021-07-28  71000.0\n"
     ]
    }
   ],
   "source": [
    "# Sort within each apartment type to find the most and least expensive regions\n",
    "least_expensive = grouped.groupby('apartment_type').apply(lambda x: x.nsmallest(1, 'price')).reset_index(drop=True)\n",
    "\n",
    "print(\"\\nLeast Expensive Regions for Each Apartment Type:\")\n",
    "print(least_expensive)"
   ]
  },
  {
   "cell_type": "markdown",
   "id": "43474fe9-b2f2-4da6-8b89-5825bdb6e7fc",
   "metadata": {},
   "source": [
    "__Which year had the most expensive property prices?__"
   ]
  },
  {
   "cell_type": "code",
   "execution_count": 23,
   "id": "71ed0520-facf-4951-8bbc-fad6aa4c921a",
   "metadata": {},
   "outputs": [
    {
     "name": "stdout",
     "output_type": "stream",
     "text": [
      "The year with the most expensive prices is 2024 with an average price of 252617.46 EUR.\n",
      "year\n",
      "2021    173249.537153\n",
      "2022    225958.331726\n",
      "2023    243816.700261\n",
      "2024    252617.457486\n",
      "Name: price, dtype: float64\n"
     ]
    }
   ],
   "source": [
    "combined_df['year'] = combined_df['date'].dt.year\n",
    "\n",
    "# Group by 'year' and calculate the average price per year\n",
    "avg_price_per_year = combined_df.groupby('year')['price'].mean()\n",
    "\n",
    "# Find the year with the highest average price\n",
    "most_expensive_year = avg_price_per_year.idxmax()\n",
    "highest_avg_price = avg_price_per_year.max()\n",
    "\n",
    "print(f\"The year with the most expensive prices is {most_expensive_year} with an average price of {highest_avg_price:.2f} EUR.\")\n",
    "\n",
    "print(avg_price_per_year)"
   ]
  },
  {
   "cell_type": "markdown",
   "id": "84f44cdf-840b-4e05-929f-67a2f44939dc",
   "metadata": {},
   "source": [
    "The answear is __2024__. As we can see, prices have been increasing."
   ]
  },
  {
   "cell_type": "markdown",
   "id": "cac15865-6c04-4a45-bcdf-48a844957420",
   "metadata": {},
   "source": [
    "__How much the price per square meter increases each year for different types of apartments?__"
   ]
  },
  {
   "cell_type": "code",
   "execution_count": 24,
   "id": "3ae44806-098f-4864-8936-a9adef334888",
   "metadata": {},
   "outputs": [
    {
     "data": {
      "text/html": [
       "<div>\n",
       "<style scoped>\n",
       "    .dataframe tbody tr th:only-of-type {\n",
       "        vertical-align: middle;\n",
       "    }\n",
       "\n",
       "    .dataframe tbody tr th {\n",
       "        vertical-align: top;\n",
       "    }\n",
       "\n",
       "    .dataframe thead th {\n",
       "        text-align: right;\n",
       "    }\n",
       "</style>\n",
       "<table border=\"1\" class=\"dataframe\">\n",
       "  <thead>\n",
       "    <tr style=\"text-align: right;\">\n",
       "      <th></th>\n",
       "      <th>year</th>\n",
       "      <th>apartment_type</th>\n",
       "      <th>price_per_sqm</th>\n",
       "      <th>yearly_increase</th>\n",
       "    </tr>\n",
       "  </thead>\n",
       "  <tbody>\n",
       "    <tr>\n",
       "      <th>0</th>\n",
       "      <td>2021</td>\n",
       "      <td>Ателие, таван, студио</td>\n",
       "      <td>1242.373571</td>\n",
       "      <td>NaN</td>\n",
       "    </tr>\n",
       "    <tr>\n",
       "      <th>1</th>\n",
       "      <td>2021</td>\n",
       "      <td>Гараж, паркомясто</td>\n",
       "      <td>906.384375</td>\n",
       "      <td>NaN</td>\n",
       "    </tr>\n",
       "    <tr>\n",
       "      <th>2</th>\n",
       "      <td>2021</td>\n",
       "      <td>Двустаен апартамент</td>\n",
       "      <td>1334.757586</td>\n",
       "      <td>NaN</td>\n",
       "    </tr>\n",
       "    <tr>\n",
       "      <th>3</th>\n",
       "      <td>2021</td>\n",
       "      <td>Къща</td>\n",
       "      <td>1506.022143</td>\n",
       "      <td>NaN</td>\n",
       "    </tr>\n",
       "    <tr>\n",
       "      <th>4</th>\n",
       "      <td>2021</td>\n",
       "      <td>Многостаен апартамемент</td>\n",
       "      <td>1364.870244</td>\n",
       "      <td>NaN</td>\n",
       "    </tr>\n",
       "    <tr>\n",
       "      <th>5</th>\n",
       "      <td>2021</td>\n",
       "      <td>Тристаен апартамент</td>\n",
       "      <td>1281.000814</td>\n",
       "      <td>NaN</td>\n",
       "    </tr>\n",
       "    <tr>\n",
       "      <th>6</th>\n",
       "      <td>2022</td>\n",
       "      <td>Ателие, таван, студио</td>\n",
       "      <td>1610.543750</td>\n",
       "      <td>368.170179</td>\n",
       "    </tr>\n",
       "    <tr>\n",
       "      <th>7</th>\n",
       "      <td>2022</td>\n",
       "      <td>Гараж, паркомясто</td>\n",
       "      <td>1103.260366</td>\n",
       "      <td>196.875991</td>\n",
       "    </tr>\n",
       "    <tr>\n",
       "      <th>8</th>\n",
       "      <td>2022</td>\n",
       "      <td>Двустаен апартамент</td>\n",
       "      <td>1672.473745</td>\n",
       "      <td>337.716159</td>\n",
       "    </tr>\n",
       "    <tr>\n",
       "      <th>9</th>\n",
       "      <td>2022</td>\n",
       "      <td>Къща</td>\n",
       "      <td>1818.250917</td>\n",
       "      <td>312.228775</td>\n",
       "    </tr>\n",
       "    <tr>\n",
       "      <th>10</th>\n",
       "      <td>2022</td>\n",
       "      <td>Многостаен апартамемент</td>\n",
       "      <td>1673.257556</td>\n",
       "      <td>308.387312</td>\n",
       "    </tr>\n",
       "    <tr>\n",
       "      <th>11</th>\n",
       "      <td>2022</td>\n",
       "      <td>Тристаен апартамент</td>\n",
       "      <td>1634.565155</td>\n",
       "      <td>353.564341</td>\n",
       "    </tr>\n",
       "    <tr>\n",
       "      <th>12</th>\n",
       "      <td>2023</td>\n",
       "      <td>Ателие, таван, студио</td>\n",
       "      <td>1701.341111</td>\n",
       "      <td>90.797361</td>\n",
       "    </tr>\n",
       "    <tr>\n",
       "      <th>13</th>\n",
       "      <td>2023</td>\n",
       "      <td>Гараж, паркомясто</td>\n",
       "      <td>1411.185283</td>\n",
       "      <td>307.924917</td>\n",
       "    </tr>\n",
       "    <tr>\n",
       "      <th>14</th>\n",
       "      <td>2023</td>\n",
       "      <td>Двустаен апартамент</td>\n",
       "      <td>1832.416931</td>\n",
       "      <td>159.943186</td>\n",
       "    </tr>\n",
       "    <tr>\n",
       "      <th>15</th>\n",
       "      <td>2023</td>\n",
       "      <td>Къща</td>\n",
       "      <td>2043.499292</td>\n",
       "      <td>225.248375</td>\n",
       "    </tr>\n",
       "    <tr>\n",
       "      <th>16</th>\n",
       "      <td>2023</td>\n",
       "      <td>Многостаен апартамемент</td>\n",
       "      <td>1811.670064</td>\n",
       "      <td>138.412508</td>\n",
       "    </tr>\n",
       "    <tr>\n",
       "      <th>17</th>\n",
       "      <td>2023</td>\n",
       "      <td>Тристаен апартамент</td>\n",
       "      <td>1824.849777</td>\n",
       "      <td>190.284622</td>\n",
       "    </tr>\n",
       "    <tr>\n",
       "      <th>18</th>\n",
       "      <td>2024</td>\n",
       "      <td>Ателие, таван, студио</td>\n",
       "      <td>1834.354175</td>\n",
       "      <td>133.013064</td>\n",
       "    </tr>\n",
       "    <tr>\n",
       "      <th>19</th>\n",
       "      <td>2024</td>\n",
       "      <td>Гараж, паркомясто</td>\n",
       "      <td>1528.968263</td>\n",
       "      <td>117.782980</td>\n",
       "    </tr>\n",
       "    <tr>\n",
       "      <th>20</th>\n",
       "      <td>2024</td>\n",
       "      <td>Двустаен апартамент</td>\n",
       "      <td>1957.286847</td>\n",
       "      <td>124.869916</td>\n",
       "    </tr>\n",
       "    <tr>\n",
       "      <th>21</th>\n",
       "      <td>2024</td>\n",
       "      <td>Къща</td>\n",
       "      <td>2230.410181</td>\n",
       "      <td>186.910888</td>\n",
       "    </tr>\n",
       "    <tr>\n",
       "      <th>22</th>\n",
       "      <td>2024</td>\n",
       "      <td>Многостаен апартамемент</td>\n",
       "      <td>2012.221928</td>\n",
       "      <td>200.551864</td>\n",
       "    </tr>\n",
       "    <tr>\n",
       "      <th>23</th>\n",
       "      <td>2024</td>\n",
       "      <td>Тристаен апартамент</td>\n",
       "      <td>1955.440398</td>\n",
       "      <td>130.590621</td>\n",
       "    </tr>\n",
       "  </tbody>\n",
       "</table>\n",
       "</div>"
      ],
      "text/plain": [
       "    year           apartment_type  price_per_sqm  yearly_increase\n",
       "0   2021    Ателие, таван, студио    1242.373571              NaN\n",
       "1   2021        Гараж, паркомясто     906.384375              NaN\n",
       "2   2021      Двустаен апартамент    1334.757586              NaN\n",
       "3   2021                     Къща    1506.022143              NaN\n",
       "4   2021  Многостаен апартамемент    1364.870244              NaN\n",
       "5   2021      Тристаен апартамент    1281.000814              NaN\n",
       "6   2022    Ателие, таван, студио    1610.543750       368.170179\n",
       "7   2022        Гараж, паркомясто    1103.260366       196.875991\n",
       "8   2022      Двустаен апартамент    1672.473745       337.716159\n",
       "9   2022                     Къща    1818.250917       312.228775\n",
       "10  2022  Многостаен апартамемент    1673.257556       308.387312\n",
       "11  2022      Тристаен апартамент    1634.565155       353.564341\n",
       "12  2023    Ателие, таван, студио    1701.341111        90.797361\n",
       "13  2023        Гараж, паркомясто    1411.185283       307.924917\n",
       "14  2023      Двустаен апартамент    1832.416931       159.943186\n",
       "15  2023                     Къща    2043.499292       225.248375\n",
       "16  2023  Многостаен апартамемент    1811.670064       138.412508\n",
       "17  2023      Тристаен апартамент    1824.849777       190.284622\n",
       "18  2024    Ателие, таван, студио    1834.354175       133.013064\n",
       "19  2024        Гараж, паркомясто    1528.968263       117.782980\n",
       "20  2024      Двустаен апартамент    1957.286847       124.869916\n",
       "21  2024                     Къща    2230.410181       186.910888\n",
       "22  2024  Многостаен апартамемент    2012.221928       200.551864\n",
       "23  2024      Тристаен апартамент    1955.440398       130.590621"
      ]
     },
     "execution_count": 24,
     "metadata": {},
     "output_type": "execute_result"
    }
   ],
   "source": [
    "# Group by Year and Apartment Type and calculate the mean price per square meter\n",
    "avg_price_per_sqm_by_year = combined_df.groupby(['year', 'apartment_type'])['price_per_sqm'].mean().reset_index()\n",
    "\n",
    "# Calculate the yearly increase\n",
    "avg_price_per_sqm_by_year['yearly_increase'] = avg_price_per_sqm_by_year.groupby('apartment_type')['price_per_sqm'].diff()\n",
    "\n",
    "avg_price_per_sqm_by_year"
   ]
  },
  {
   "cell_type": "markdown",
   "id": "6022c733-a5b0-4578-805a-131184105547",
   "metadata": {},
   "source": [
    "For $2021$, there's no $2020$ data available to subtract from. So, the calculation $2021$ price - (no data) results in $NaN$."
   ]
  },
  {
   "cell_type": "markdown",
   "id": "0a833958-032a-463f-bf05-710690226546",
   "metadata": {},
   "source": [
    "### Let's plot the prices over time for each apartment type:"
   ]
  },
  {
   "cell_type": "code",
   "execution_count": 25,
   "id": "8c670058-172b-4196-a084-1d6f8a01ac9f",
   "metadata": {},
   "outputs": [
    {
     "data": {
      "image/png": "[encoded data removed]",
      "text/plain": [
       "<Figure size 1008x576 with 1 Axes>"
      ]
     },
     "metadata": {
      "needs_background": "light"
     },
     "output_type": "display_data"
    }
   ],
   "source": [
    "apartment_types = combined_df[\"apartment_type\"].unique()\n",
    "\n",
    "plt.figure(figsize=(14, 8))\n",
    "\n",
    "for apartment_type in apartment_types:\n",
    "    # Filter the DataFrame by apartment type\n",
    "    filtered_df = combined_df[combined_df[\"apartment_type\"] == apartment_type]\n",
    "    \n",
    "    # Group by date and calculate the mean price for each date\n",
    "    price_over_time = filtered_df.groupby('date')['price'].median()\n",
    "    \n",
    "    # Plot the line for this apartment type\n",
    "    plt.plot(price_over_time.index, price_over_time.values, marker='o', label=apartment_type)\n",
    "\n",
    "plt.title('Price Trends Over Time by Apartment Type')\n",
    "plt.xlabel('Date')\n",
    "plt.ylabel('Average Price (EUR)')\n",
    "plt.xticks(rotation=45)\n",
    "plt.legend(title='Apartment Type')\n",
    "plt.grid(True)\n",
    "plt.show()"
   ]
  },
  {
   "cell_type": "markdown",
   "id": "c1ad5367-1b12-4554-8ab5-6d83ce849b27",
   "metadata": {},
   "source": [
    "### Identify Outliers"
   ]
  },
  {
   "cell_type": "code",
   "execution_count": 26,
   "id": "3ce8a7e8-8a24-4a06-9f04-0a6d54603343",
   "metadata": {},
   "outputs": [],
   "source": [
    "# from scipy import stats\n",
    "\n",
    "# combined_df['z_score'] = stats.zscore(combined_df['price_per_sqm'])\n",
    "# outliers = combined_df[combined_df['z_score'].abs() > 3]\n",
    "# outliers"
   ]
  },
  {
   "cell_type": "code",
   "execution_count": 27,
   "id": "21dd39c4-9529-4cfc-8f8d-a7b06055bf22",
   "metadata": {},
   "outputs": [],
   "source": [
    "# combined_df = combined_df[combined_df['z_score'].abs() <= 3].copy()"
   ]
  },
  {
   "cell_type": "code",
   "execution_count": 28,
   "id": "952f72eb-fc65-4307-b261-18bddbee4067",
   "metadata": {},
   "outputs": [
    {
     "data": {
      "text/plain": [
       "(4424, 7)"
      ]
     },
     "execution_count": 28,
     "metadata": {},
     "output_type": "execute_result"
    }
   ],
   "source": [
    "combined_df.shape"
   ]
  },
  {
   "cell_type": "code",
   "execution_count": 29,
   "id": "5d33290d-927a-47d1-b37c-0c1cefbd8119",
   "metadata": {},
   "outputs": [],
   "source": [
    "def find_outliers(df, column):\n",
    "    Q1 = df[column].quantile(0.25)\n",
    "    Q3 = df[column].quantile(0.75)\n",
    "    IQR = Q3 - Q1\n",
    "    lower_bound = Q1 - 1.5 * IQR\n",
    "    upper_bound = Q3 + 1.5 * IQR\n",
    "    \n",
    "    outliers = df[(df[column] < lower_bound) | (df[column] > upper_bound)]\n",
    "    return outliers\n",
    "\n",
    "# List of columns to check for outliers\n",
    "columns_to_check = ['price', 'price_per_sqm']\n",
    "\n",
    "# Find outliers for each column\n",
    "outliers_dict = {col: find_outliers(combined_df, col) for col in columns_to_check}\n",
    "outliers_dict\n",
    "\n",
    "# Combine all outliers into a single DataFrame\n",
    "all_outliers = pd.concat(outliers_dict.values()).drop_duplicates()\n",
    "\n",
    "# Remove outliers from the original DataFrame\n",
    "combined_df = combined_df[~combined_df.index.isin(all_outliers.index)]\n"
   ]
  },
  {
   "cell_type": "code",
   "execution_count": 30,
   "id": "c1c54d23-02f0-4adb-acd5-814205d280fb",
   "metadata": {},
   "outputs": [
    {
     "data": {
      "text/plain": [
       "(3866, 7)"
      ]
     },
     "execution_count": 30,
     "metadata": {},
     "output_type": "execute_result"
    }
   ],
   "source": [
    "combined_df.shape"
   ]
  },
  {
   "cell_type": "markdown",
   "id": "b667d5fd-cd8f-4003-b087-9b8ebf0ce870",
   "metadata": {},
   "source": [
    "### Plot the prices over time for each apartment type with removed outliers"
   ]
  },
  {
   "cell_type": "code",
   "execution_count": 31,
   "id": "4fa13f56-8647-46d5-b4e4-70d3eb8a864f",
   "metadata": {},
   "outputs": [],
   "source": [
    "# combined_df = combined_df[(combined_df['price_per_sqm'] >= lower_bound) & (combined_df['price_per_sqm'] <= upper_bound)].copy()"
   ]
  },
  {
   "cell_type": "code",
   "execution_count": 32,
   "id": "d6b1f045-feae-4a0a-98e3-15f3e8fa7ae5",
   "metadata": {},
   "outputs": [
    {
     "data": {
      "image/png": "[encoded data removed]",
      "text/plain": [
       "<Figure size 1008x576 with 1 Axes>"
      ]
     },
     "metadata": {
      "needs_background": "light"
     },
     "output_type": "display_data"
    }
   ],
   "source": [
    "plt.figure(figsize=(14, 8))\n",
    "\n",
    "for apartment_type in combined_df['apartment_type'].unique():\n",
    "    filtered_df = combined_df[combined_df['apartment_type'] == apartment_type]\n",
    "    price_over_time = filtered_df.groupby('date')['price_per_sqm'].mean()\n",
    "    plt.plot(price_over_time.index, price_over_time.values, marker='o', label=apartment_type)\n",
    "\n",
    "plt.title('Price Trends Over Time by Apartment Type (Outliers Handled)')\n",
    "plt.xlabel('Date')\n",
    "plt.ylabel('Average Price per Sq.m (EUR)')\n",
    "plt.xticks(rotation=45)\n",
    "plt.legend(title='Apartment Type')\n",
    "plt.grid(True)\n",
    "plt.show()"
   ]
  },
  {
   "cell_type": "markdown",
   "id": "68e3e3e1-8fca-43b6-ae64-85d40711e5c2",
   "metadata": {},
   "source": [
    "# Let's prepear the model and train it:"
   ]
  },
  {
   "cell_type": "markdown",
   "id": "c518bb84-39dd-4490-9663-b76007dab61b",
   "metadata": {},
   "source": [
    "Extract date features:"
   ]
  },
  {
   "cell_type": "code",
   "execution_count": 33,
   "id": "e5aaa1f5-4b5e-4e75-b0d9-bc51074d2d01",
   "metadata": {},
   "outputs": [],
   "source": [
    "combined_df['year'] = combined_df['date'].dt.year\n",
    "combined_df['month'] = combined_df['date'].dt.month"
   ]
  },
  {
   "cell_type": "markdown",
   "id": "cd702f61-851c-48f7-9d4f-72cd8a14de39",
   "metadata": {},
   "source": [
    "Drop the original 'Дата' column and unnecessary columns:"
   ]
  },
  {
   "cell_type": "code",
   "execution_count": 34,
   "id": "2fa01a6b-f564-4a72-adc6-89f54ddf7d8a",
   "metadata": {},
   "outputs": [],
   "source": [
    "combined_df = combined_df.drop(columns=['date', 'currency', 'price'])"
   ]
  },
  {
   "cell_type": "code",
   "execution_count": 35,
   "id": "2352e11a-9114-4a39-887f-6d6f1c2d6981",
   "metadata": {},
   "outputs": [
    {
     "data": {
      "text/html": [
       "<div>\n",
       "<style scoped>\n",
       "    .dataframe tbody tr th:only-of-type {\n",
       "        vertical-align: middle;\n",
       "    }\n",
       "\n",
       "    .dataframe tbody tr th {\n",
       "        vertical-align: top;\n",
       "    }\n",
       "\n",
       "    .dataframe thead th {\n",
       "        text-align: right;\n",
       "    }\n",
       "</style>\n",
       "<table border=\"1\" class=\"dataframe\">\n",
       "  <thead>\n",
       "    <tr style=\"text-align: right;\">\n",
       "      <th></th>\n",
       "      <th>region</th>\n",
       "      <th>price_per_sqm</th>\n",
       "      <th>apartment_type</th>\n",
       "      <th>year</th>\n",
       "      <th>month</th>\n",
       "    </tr>\n",
       "  </thead>\n",
       "  <tbody>\n",
       "    <tr>\n",
       "      <th>0</th>\n",
       "      <td>Банишора</td>\n",
       "      <td>1987.51</td>\n",
       "      <td>Двустаен апартамент</td>\n",
       "      <td>2024</td>\n",
       "      <td>7</td>\n",
       "    </tr>\n",
       "    <tr>\n",
       "      <th>1</th>\n",
       "      <td>Банкя (гр.)</td>\n",
       "      <td>1890.84</td>\n",
       "      <td>Двустаен апартамент</td>\n",
       "      <td>2024</td>\n",
       "      <td>7</td>\n",
       "    </tr>\n",
       "    <tr>\n",
       "      <th>2</th>\n",
       "      <td>Белите Брези</td>\n",
       "      <td>2108.86</td>\n",
       "      <td>Двустаен апартамент</td>\n",
       "      <td>2024</td>\n",
       "      <td>7</td>\n",
       "    </tr>\n",
       "    <tr>\n",
       "      <th>3</th>\n",
       "      <td>Бенковски</td>\n",
       "      <td>1782.52</td>\n",
       "      <td>Двустаен апартамент</td>\n",
       "      <td>2024</td>\n",
       "      <td>7</td>\n",
       "    </tr>\n",
       "    <tr>\n",
       "      <th>4</th>\n",
       "      <td>Борово</td>\n",
       "      <td>2148.50</td>\n",
       "      <td>Двустаен апартамент</td>\n",
       "      <td>2024</td>\n",
       "      <td>7</td>\n",
       "    </tr>\n",
       "    <tr>\n",
       "      <th>...</th>\n",
       "      <td>...</td>\n",
       "      <td>...</td>\n",
       "      <td>...</td>\n",
       "      <td>...</td>\n",
       "      <td>...</td>\n",
       "    </tr>\n",
       "    <tr>\n",
       "      <th>4418</th>\n",
       "      <td>Слатина</td>\n",
       "      <td>900.00</td>\n",
       "      <td>Многостаен апартамемент</td>\n",
       "      <td>2021</td>\n",
       "      <td>7</td>\n",
       "    </tr>\n",
       "    <tr>\n",
       "      <th>4419</th>\n",
       "      <td>Стрелбище</td>\n",
       "      <td>1075.67</td>\n",
       "      <td>Многостаен апартамемент</td>\n",
       "      <td>2021</td>\n",
       "      <td>7</td>\n",
       "    </tr>\n",
       "    <tr>\n",
       "      <th>4420</th>\n",
       "      <td>Студентски Град</td>\n",
       "      <td>718.84</td>\n",
       "      <td>Многостаен апартамемент</td>\n",
       "      <td>2021</td>\n",
       "      <td>7</td>\n",
       "    </tr>\n",
       "    <tr>\n",
       "      <th>4421</th>\n",
       "      <td>Хаджи Димитър</td>\n",
       "      <td>1045.92</td>\n",
       "      <td>Многостаен апартамемент</td>\n",
       "      <td>2021</td>\n",
       "      <td>7</td>\n",
       "    </tr>\n",
       "    <tr>\n",
       "      <th>4422</th>\n",
       "      <td>Хиподрума</td>\n",
       "      <td>2357.14</td>\n",
       "      <td>Многостаен апартамемент</td>\n",
       "      <td>2021</td>\n",
       "      <td>7</td>\n",
       "    </tr>\n",
       "  </tbody>\n",
       "</table>\n",
       "<p>3866 rows × 5 columns</p>\n",
       "</div>"
      ],
      "text/plain": [
       "               region  price_per_sqm           apartment_type  year  month\n",
       "0            Банишора        1987.51      Двустаен апартамент  2024      7\n",
       "1         Банкя (гр.)        1890.84      Двустаен апартамент  2024      7\n",
       "2        Белите Брези        2108.86      Двустаен апартамент  2024      7\n",
       "3           Бенковски        1782.52      Двустаен апартамент  2024      7\n",
       "4              Борово        2148.50      Двустаен апартамент  2024      7\n",
       "...               ...            ...                      ...   ...    ...\n",
       "4418          Слатина         900.00  Многостаен апартамемент  2021      7\n",
       "4419        Стрелбище        1075.67  Многостаен апартамемент  2021      7\n",
       "4420  Студентски Град         718.84  Многостаен апартамемент  2021      7\n",
       "4421    Хаджи Димитър        1045.92  Многостаен апартамемент  2021      7\n",
       "4422        Хиподрума        2357.14  Многостаен апартамемент  2021      7\n",
       "\n",
       "[3866 rows x 5 columns]"
      ]
     },
     "execution_count": 35,
     "metadata": {},
     "output_type": "execute_result"
    }
   ],
   "source": [
    "combined_df"
   ]
  },
  {
   "cell_type": "markdown",
   "id": "dd9b22b6-067a-4f2f-9a32-f9a0a7df7bd8",
   "metadata": {},
   "source": [
    "Encode categorical variables:"
   ]
  },
  {
   "cell_type": "code",
   "execution_count": 36,
   "id": "b9ae4c1c-a065-466d-8927-69527b6adf8c",
   "metadata": {},
   "outputs": [],
   "source": [
    "label_encoder_region = LabelEncoder()\n",
    "label_encoder_apartment_type = LabelEncoder()\n",
    "\n",
    "combined_df['region'] = label_encoder_region.fit_transform(combined_df['region'])\n",
    "combined_df['apartment_type'] = label_encoder_apartment_type.fit_transform(combined_df['apartment_type'])"
   ]
  },
  {
   "cell_type": "markdown",
   "id": "2e9c235e-fcd1-499a-8c9b-d1b4fc990cf7",
   "metadata": {},
   "source": [
    "I tested the performance of the model with OneHot encoding, but it was slightly better with LabelEncoder."
   ]
  },
  {
   "cell_type": "code",
   "execution_count": 37,
   "id": "4a6c7145-228c-4286-9242-699ea8a01b5f",
   "metadata": {},
   "outputs": [],
   "source": [
    "# label_encoder_region = OneHotEncoder(sparse=False)\n",
    "# label_encoder_apartment_type = OneHotEncoder(sparse=False)\n",
    "\n",
    "# combined_df['region'] = label_encoder_region.fit_transform(combined_df[['region']])\n",
    "# combined_df['apartment_type'] = label_encoder_apartment_type.fit_transform(combined_df[['apartment_type']])"
   ]
  },
  {
   "cell_type": "markdown",
   "id": "f5b42ff5-01da-4d64-9a63-8338d07cc00f",
   "metadata": {},
   "source": [
    "Define features and target:"
   ]
  },
  {
   "cell_type": "code",
   "execution_count": 38,
   "id": "02d69f07-925d-4c8c-9d83-444f58090f30",
   "metadata": {},
   "outputs": [],
   "source": [
    "X = combined_df.drop(columns=['price_per_sqm'], axis=1) \n",
    "y = combined_df['price_per_sqm']  # Target variable"
   ]
  },
  {
   "cell_type": "code",
   "execution_count": 39,
   "id": "dd0456e5-45bc-4707-b195-36f6121f408b",
   "metadata": {},
   "outputs": [
    {
     "data": {
      "text/html": [
       "<div>\n",
       "<style scoped>\n",
       "    .dataframe tbody tr th:only-of-type {\n",
       "        vertical-align: middle;\n",
       "    }\n",
       "\n",
       "    .dataframe tbody tr th {\n",
       "        vertical-align: top;\n",
       "    }\n",
       "\n",
       "    .dataframe thead th {\n",
       "        text-align: right;\n",
       "    }\n",
       "</style>\n",
       "<table border=\"1\" class=\"dataframe\">\n",
       "  <thead>\n",
       "    <tr style=\"text-align: right;\">\n",
       "      <th></th>\n",
       "      <th>region</th>\n",
       "      <th>apartment_type</th>\n",
       "      <th>year</th>\n",
       "      <th>month</th>\n",
       "    </tr>\n",
       "  </thead>\n",
       "  <tbody>\n",
       "    <tr>\n",
       "      <th>0</th>\n",
       "      <td>2</td>\n",
       "      <td>2</td>\n",
       "      <td>2024</td>\n",
       "      <td>7</td>\n",
       "    </tr>\n",
       "    <tr>\n",
       "      <th>1</th>\n",
       "      <td>3</td>\n",
       "      <td>2</td>\n",
       "      <td>2024</td>\n",
       "      <td>7</td>\n",
       "    </tr>\n",
       "    <tr>\n",
       "      <th>2</th>\n",
       "      <td>4</td>\n",
       "      <td>2</td>\n",
       "      <td>2024</td>\n",
       "      <td>7</td>\n",
       "    </tr>\n",
       "    <tr>\n",
       "      <th>3</th>\n",
       "      <td>5</td>\n",
       "      <td>2</td>\n",
       "      <td>2024</td>\n",
       "      <td>7</td>\n",
       "    </tr>\n",
       "    <tr>\n",
       "      <th>4</th>\n",
       "      <td>6</td>\n",
       "      <td>2</td>\n",
       "      <td>2024</td>\n",
       "      <td>7</td>\n",
       "    </tr>\n",
       "    <tr>\n",
       "      <th>...</th>\n",
       "      <td>...</td>\n",
       "      <td>...</td>\n",
       "      <td>...</td>\n",
       "      <td>...</td>\n",
       "    </tr>\n",
       "    <tr>\n",
       "      <th>4418</th>\n",
       "      <td>86</td>\n",
       "      <td>4</td>\n",
       "      <td>2021</td>\n",
       "      <td>7</td>\n",
       "    </tr>\n",
       "    <tr>\n",
       "      <th>4419</th>\n",
       "      <td>87</td>\n",
       "      <td>4</td>\n",
       "      <td>2021</td>\n",
       "      <td>7</td>\n",
       "    </tr>\n",
       "    <tr>\n",
       "      <th>4420</th>\n",
       "      <td>88</td>\n",
       "      <td>4</td>\n",
       "      <td>2021</td>\n",
       "      <td>7</td>\n",
       "    </tr>\n",
       "    <tr>\n",
       "      <th>4421</th>\n",
       "      <td>95</td>\n",
       "      <td>4</td>\n",
       "      <td>2021</td>\n",
       "      <td>7</td>\n",
       "    </tr>\n",
       "    <tr>\n",
       "      <th>4422</th>\n",
       "      <td>96</td>\n",
       "      <td>4</td>\n",
       "      <td>2021</td>\n",
       "      <td>7</td>\n",
       "    </tr>\n",
       "  </tbody>\n",
       "</table>\n",
       "<p>3866 rows × 4 columns</p>\n",
       "</div>"
      ],
      "text/plain": [
       "      region  apartment_type  year  month\n",
       "0          2               2  2024      7\n",
       "1          3               2  2024      7\n",
       "2          4               2  2024      7\n",
       "3          5               2  2024      7\n",
       "4          6               2  2024      7\n",
       "...      ...             ...   ...    ...\n",
       "4418      86               4  2021      7\n",
       "4419      87               4  2021      7\n",
       "4420      88               4  2021      7\n",
       "4421      95               4  2021      7\n",
       "4422      96               4  2021      7\n",
       "\n",
       "[3866 rows x 4 columns]"
      ]
     },
     "execution_count": 39,
     "metadata": {},
     "output_type": "execute_result"
    }
   ],
   "source": [
    "X"
   ]
  },
  {
   "cell_type": "markdown",
   "id": "25d75bc5-ffe9-46b5-ad49-33cf8e76e747",
   "metadata": {},
   "source": [
    "Split the data into training and testing sets:"
   ]
  },
  {
   "cell_type": "code",
   "execution_count": 40,
   "id": "c6d66883-a82b-477e-9b46-abd0cbea545d",
   "metadata": {},
   "outputs": [],
   "source": [
    "X_train, X_test, y_train, y_test = train_test_split(X, y, test_size=0.2, random_state=42)"
   ]
  },
  {
   "cell_type": "code",
   "execution_count": 41,
   "id": "0948594e-624a-4bf0-a395-fdbbc4d3c50f",
   "metadata": {},
   "outputs": [
    {
     "data": {
      "text/html": [
       "<div>\n",
       "<style scoped>\n",
       "    .dataframe tbody tr th:only-of-type {\n",
       "        vertical-align: middle;\n",
       "    }\n",
       "\n",
       "    .dataframe tbody tr th {\n",
       "        vertical-align: top;\n",
       "    }\n",
       "\n",
       "    .dataframe thead th {\n",
       "        text-align: right;\n",
       "    }\n",
       "</style>\n",
       "<table border=\"1\" class=\"dataframe\">\n",
       "  <thead>\n",
       "    <tr style=\"text-align: right;\">\n",
       "      <th></th>\n",
       "      <th>region</th>\n",
       "      <th>apartment_type</th>\n",
       "      <th>year</th>\n",
       "      <th>month</th>\n",
       "    </tr>\n",
       "  </thead>\n",
       "  <tbody>\n",
       "    <tr>\n",
       "      <th>2539</th>\n",
       "      <td>61</td>\n",
       "      <td>1</td>\n",
       "      <td>2023</td>\n",
       "      <td>11</td>\n",
       "    </tr>\n",
       "    <tr>\n",
       "      <th>473</th>\n",
       "      <td>54</td>\n",
       "      <td>5</td>\n",
       "      <td>2024</td>\n",
       "      <td>6</td>\n",
       "    </tr>\n",
       "    <tr>\n",
       "      <th>3499</th>\n",
       "      <td>76</td>\n",
       "      <td>1</td>\n",
       "      <td>2022</td>\n",
       "      <td>11</td>\n",
       "    </tr>\n",
       "    <tr>\n",
       "      <th>249</th>\n",
       "      <td>65</td>\n",
       "      <td>1</td>\n",
       "      <td>2024</td>\n",
       "      <td>7</td>\n",
       "    </tr>\n",
       "    <tr>\n",
       "      <th>1039</th>\n",
       "      <td>49</td>\n",
       "      <td>2</td>\n",
       "      <td>2024</td>\n",
       "      <td>4</td>\n",
       "    </tr>\n",
       "    <tr>\n",
       "      <th>...</th>\n",
       "      <td>...</td>\n",
       "      <td>...</td>\n",
       "      <td>...</td>\n",
       "      <td>...</td>\n",
       "    </tr>\n",
       "    <tr>\n",
       "      <th>1323</th>\n",
       "      <td>96</td>\n",
       "      <td>4</td>\n",
       "      <td>2024</td>\n",
       "      <td>4</td>\n",
       "    </tr>\n",
       "    <tr>\n",
       "      <th>1499</th>\n",
       "      <td>87</td>\n",
       "      <td>5</td>\n",
       "      <td>2024</td>\n",
       "      <td>3</td>\n",
       "    </tr>\n",
       "    <tr>\n",
       "      <th>1009</th>\n",
       "      <td>18</td>\n",
       "      <td>2</td>\n",
       "      <td>2024</td>\n",
       "      <td>4</td>\n",
       "    </tr>\n",
       "    <tr>\n",
       "      <th>4019</th>\n",
       "      <td>95</td>\n",
       "      <td>5</td>\n",
       "      <td>2022</td>\n",
       "      <td>1</td>\n",
       "    </tr>\n",
       "    <tr>\n",
       "      <th>3656</th>\n",
       "      <td>3</td>\n",
       "      <td>5</td>\n",
       "      <td>2022</td>\n",
       "      <td>7</td>\n",
       "    </tr>\n",
       "  </tbody>\n",
       "</table>\n",
       "<p>3092 rows × 4 columns</p>\n",
       "</div>"
      ],
      "text/plain": [
       "      region  apartment_type  year  month\n",
       "2539      61               1  2023     11\n",
       "473       54               5  2024      6\n",
       "3499      76               1  2022     11\n",
       "249       65               1  2024      7\n",
       "1039      49               2  2024      4\n",
       "...      ...             ...   ...    ...\n",
       "1323      96               4  2024      4\n",
       "1499      87               5  2024      3\n",
       "1009      18               2  2024      4\n",
       "4019      95               5  2022      1\n",
       "3656       3               5  2022      7\n",
       "\n",
       "[3092 rows x 4 columns]"
      ]
     },
     "execution_count": 41,
     "metadata": {},
     "output_type": "execute_result"
    }
   ],
   "source": [
    "X_train"
   ]
  },
  {
   "cell_type": "code",
   "execution_count": 42,
   "id": "59fc0c57-da6a-4e6c-93f2-c2c96bd3b898",
   "metadata": {},
   "outputs": [
    {
     "data": {
      "text/plain": [
       "2539    1120.00\n",
       "473     2475.51\n",
       "3499     825.65\n",
       "249      735.29\n",
       "1039    1586.99\n",
       "         ...   \n",
       "1323    1574.36\n",
       "1499    2354.14\n",
       "1009    1596.70\n",
       "4019    1344.86\n",
       "3656     876.43\n",
       "Name: price_per_sqm, Length: 3092, dtype: float64"
      ]
     },
     "execution_count": 42,
     "metadata": {},
     "output_type": "execute_result"
    }
   ],
   "source": [
    "y_train"
   ]
  },
  {
   "cell_type": "code",
   "execution_count": 43,
   "id": "bbac97e1-88f6-4da0-b6f7-37e0f4e2d3f9",
   "metadata": {},
   "outputs": [
    {
     "data": {
      "text/plain": [
       "((3092, 4), (774,))"
      ]
     },
     "execution_count": 43,
     "metadata": {},
     "output_type": "execute_result"
    }
   ],
   "source": [
    "X_train.shape, y_test.shape"
   ]
  },
  {
   "cell_type": "code",
   "execution_count": 44,
   "id": "bb3e2ab9-3d37-4c6d-b30a-f21bc30e09ab",
   "metadata": {},
   "outputs": [
    {
     "data": {
      "text/plain": [
       "((774, 4), (3092,))"
      ]
     },
     "execution_count": 44,
     "metadata": {},
     "output_type": "execute_result"
    }
   ],
   "source": [
    "X_test.shape, y_train.shape"
   ]
  },
  {
   "cell_type": "markdown",
   "id": "33914d85-3e5b-4d7d-b7fe-2b04c995391a",
   "metadata": {},
   "source": [
    "## Train the model"
   ]
  },
  {
   "cell_type": "code",
   "execution_count": 45,
   "id": "48519be3-2ebc-4845-a5da-df7030d37089",
   "metadata": {},
   "outputs": [],
   "source": [
    "model = LinearRegression()"
   ]
  },
  {
   "cell_type": "code",
   "execution_count": 46,
   "id": "e452dc30-1c9d-4b28-9eb7-5217f70af013",
   "metadata": {},
   "outputs": [
    {
     "data": {
      "text/plain": [
       "LinearRegression()"
      ]
     },
     "execution_count": 46,
     "metadata": {},
     "output_type": "execute_result"
    }
   ],
   "source": [
    "model.fit(X_train, y_train)"
   ]
  },
  {
   "cell_type": "markdown",
   "id": "1fa02018-cd3a-4bd3-92e9-f68e354fb3d5",
   "metadata": {},
   "source": [
    "## Prediction results"
   ]
  },
  {
   "cell_type": "code",
   "execution_count": 47,
   "id": "e036644c-982e-4b56-8afb-e57771180fed",
   "metadata": {},
   "outputs": [],
   "source": [
    "y_pred = model.predict(X_test)"
   ]
  },
  {
   "cell_type": "code",
   "execution_count": 48,
   "id": "0fb6d187-e5a9-4c9b-948f-3262f96afbb8",
   "metadata": {},
   "outputs": [
    {
     "data": {
      "text/plain": [
       "array([1660.99066302, 1759.55485004, 1615.88572102, 1873.42299417,\n",
       "       1922.68733967, 1569.32819563, 1879.42079502, 1943.77535736,\n",
       "       1827.18577904, 1647.90598099, 1735.1953046 , 1727.56173987,\n",
       "       1409.1246126 , 1860.33204428, 1854.87949805, 1659.35489915,\n",
       "       1874.33175187, 1639.89637746, 1846.81978441, 1690.10289833,\n",
       "       1830.68082221, 1464.24534237, 1692.6474199 , 1788.12666965,\n",
       "       1661.3541661 , 1850.81831831, 1953.77653105, 1873.38749814,\n",
       "       1734.98289596, 1558.42310317, 1711.72363492, 1547.73041934,\n",
       "       1920.48543923, 1835.9516169 , 1828.27628829, 1954.50353722,\n",
       "       1736.64931693, 1863.0583174 , 1315.68639369, 1746.43324305,\n",
       "       1670.6234947 , 1759.19761482, 1893.7840057 , 1868.29845499,\n",
       "       1578.63928812, 1798.62506621, 1525.85901751, 1566.05666789,\n",
       "       1851.58708836, 1751.73953377, 1617.01942309, 1743.93048536,\n",
       "       1827.0040275 , 1684.13575457, 1753.73880072, 1884.8364163 ,\n",
       "       1626.60906195, 1872.29072104, 1714.44990804, 1773.91806071,\n",
       "       1423.1821271 , 1781.91996745, 1879.03641   , 1438.05366744,\n",
       "       1556.81799639, 1693.33123325, 1735.01355306, 1896.14677573,\n",
       "       1759.91835312, 1832.09307065, 1747.56551618, 1779.57324043,\n",
       "       1776.64433383, 1312.05136287, 1636.12278791, 1685.72832562,\n",
       "       1689.95180388, 1383.71148288, 1572.41797183, 1394.44593059,\n",
       "       1383.89323442, 1673.53151935, 1432.82606557, 1696.64595381,\n",
       "       1891.58210526, 1388.62988128, 1307.50757434, 1923.41434583,\n",
       "       1527.67653292, 1745.3427338 , 1818.13512694, 1742.26757169,\n",
       "       1808.43964944, 1471.66649846, 1896.30764533, 1776.99179389,\n",
       "       1735.70990213, 1455.01920659, 1339.51529859, 1869.2072127 ,\n",
       "       1549.18443166, 1781.57250738, 1871.56371487, 1697.52613277,\n",
       "       1968.86674789, 1593.19886441, 1839.7314743 , 1708.81561027,\n",
       "       1732.46903148, 1629.15358352, 1740.26830473, 1308.59808359,\n",
       "       1454.47395197, 1624.24629191, 1267.12817242, 1684.86276073,\n",
       "       1487.33889488, 1317.68566065, 1710.63312568, 1827.73103366,\n",
       "       1719.54379012, 1560.24061858, 1877.92501881, 1944.87070554,\n",
       "       1890.83421716, 1682.4999907 , 1640.63591935, 1914.85114145,\n",
       "       1521.16413453, 1980.49884652, 1801.21278061, 1430.09979245,\n",
       "       1668.62422774, 1757.55558308, 1496.97172656, 1657.53881267,\n",
       "       1802.62360012, 1662.80191056, 1742.99457785, 1763.01296824,\n",
       "       1390.62914823, 1901.57844003, 1439.91437567, 1441.50694672,\n",
       "       1676.07604093, 1664.62569384, 1506.66720407, 1865.02692725,\n",
       "       1733.0142861 , 1680.86422683, 1717.18244902, 1853.74722491,\n",
       "       1746.65049062, 1689.04304618, 1511.39274414, 1596.10688907,\n",
       "       1821.00622664, 1974.31929413, 1956.32105263, 1788.0786379 ,\n",
       "       1875.03787609, 1513.93726571, 1771.37353914, 1757.17603698,\n",
       "       1381.89396747, 1304.96305277, 1850.27306369, 1875.21962764,\n",
       "       1549.72968629, 1826.67744938, 1378.62243973, 1894.87451495,\n",
       "       1509.16853282, 1821.55148127, 1654.44903647, 1559.15010933,\n",
       "       1649.57240196, 1794.44478077, 1855.24300113, 1610.65811915,\n",
       "       1485.33962793, 1740.79894528, 1474.60518021, 1746.44785713,\n",
       "       1903.58254591, 1731.37852223, 1833.54708298, 1780.09761311,\n",
       "       1977.04556724, 1677.04744446, 1641.21183107, 1691.36262339,\n",
       "       1941.04908425, 1882.87407431, 1776.0990792 , 1843.36650513,\n",
       "       1711.54188338, 1672.80451319, 1839.18621968, 1795.00607841,\n",
       "       1784.64624056, 1305.50830739, 1795.3967313 , 1785.19149519,\n",
       "       1683.77225148, 1563.72455495, 1792.82505991, 1793.37031454,\n",
       "       1756.0646458 , 1616.2492241 , 1610.25285218, 1733.74129227,\n",
       "       1369.71661421, 1967.41273556, 1702.78231339, 1870.49408757,\n",
       "       1830.86257375, 1843.18475359, 1810.68331376, 1847.91029366,\n",
       "       1607.89008215, 1821.58840622, 1753.53616724, 1805.34987324,\n",
       "       1802.0783455 , 1928.30559442, 1780.08157009, 1897.05553344,\n",
       "       1761.00886236, 1456.65497046, 1770.46478143, 1705.87208958,\n",
       "       1809.73279217, 1658.44614144, 1683.88992826, 1480.39057243,\n",
       "       1423.00037556, 1774.26068185, 1371.17062654, 1564.26980958,\n",
       "       1644.11985572, 1885.9638505 , 1873.96824879, 1617.88498797,\n",
       "       1481.34109402, 1847.95205754, 1556.60558775, 1875.40137918,\n",
       "       1466.1060506 , 1615.20190768, 1264.4018993 , 1377.71368202,\n",
       "       1846.63803287, 1748.64975757, 1917.39566303, 1504.48618557,\n",
       "       1920.14281809, 1854.33424342, 1826.45877288, 1783.53484937,\n",
       "       1906.68836512, 1470.42489477, 1520.9517259 , 1435.00708406,\n",
       "       1705.90758561, 1934.48514682, 1496.24472039, 1389.90214207,\n",
       "       1736.46756539, 1679.95546912, 1751.56405009, 1863.9670751 ,\n",
       "       1566.42017098, 1835.56723187, 1815.54884148, 1688.13428847,\n",
       "       1793.2157128 , 1305.69005893, 1787.0090106 , 1971.95652409,\n",
       "       1737.16391445, 1808.64228292, 1860.8772989 , 1931.03186754,\n",
       "       1668.07897312, 1785.89761941, 1939.958575  , 1484.97612484,\n",
       "       1448.09319502, 1958.50207112, 1681.34540669, 1818.46170507,\n",
       "       1905.23435279, 1689.37589216, 1441.73189108, 1614.43313763,\n",
       "       1955.04879184, 1671.71400394, 1964.32295936, 1773.19105455,\n",
       "       1925.95886741, 1752.64829147, 1557.87784854, 1706.81634331,\n",
       "       1880.29262777, 1851.1818214 , 1506.48545253, 1866.51159668,\n",
       "       1425.18139405, 1226.74877049, 1749.01326065, 1787.0361604 ,\n",
       "       1267.30992396, 1949.23274252, 1758.79091891, 1895.19625414,\n",
       "       1865.96634205, 1343.15032941, 1743.88872148, 1743.19721133,\n",
       "       1894.32926032, 1903.41683738, 1892.32999337, 1791.0075445 ,\n",
       "       1751.38229855, 1735.34639904, 1896.12589379, 1713.15676531,\n",
       "       1382.07571901, 1874.49262147, 1512.6218121 , 1357.51980795,\n",
       "       1768.82901756, 1773.55455763, 1944.32061199, 1829.73656848,\n",
       "       1751.35514874, 1827.58620708, 1883.05582585, 1512.98531518,\n",
       "       1844.45701437, 1379.89470051, 1887.38093788, 1600.80177204,\n",
       "       1889.42196871, 1767.37500523, 1413.54929542, 1971.04776638,\n",
       "       1634.12352096, 1624.83473936, 1829.36679753, 1929.75960675,\n",
       "       1871.20647965, 1493.70019882, 1620.83620545, 1575.5063191 ,\n",
       "       1794.64257533, 1757.01032846, 1969.95725714, 1566.46193486,\n",
       "       1373.35164503, 1768.46551448, 1815.22710228, 1382.80272517,\n",
       "       1262.40263235, 1912.48837142, 1831.19058081, 1694.10143223,\n",
       "       1874.65975893, 1796.09658765, 1871.7872303 , 1937.9384261 ,\n",
       "       1500.48765167, 1696.28245073, 1307.3258228 , 1227.47577666,\n",
       "       1790.48943969, 1487.52064642, 1923.7618059 , 1726.81385176,\n",
       "       1840.83802657, 1820.27922048, 1505.75844636, 1831.91131911,\n",
       "       1566.09843178, 1564.45156112, 1601.92293839, 1737.72378316,\n",
       "       1950.32325177, 1890.49159602, 1468.65057218, 1754.46580688,\n",
       "       1825.73803457, 1292.59284118, 1657.52627695, 1746.25149151,\n",
       "       1338.2430378 , 1696.60276099, 1460.65350437, 1674.80378014,\n",
       "       1770.82828451, 1915.96253264, 1697.00945689, 1529.13054525,\n",
       "       1727.01648525, 1598.62075355, 1816.63935073, 1927.78122174,\n",
       "       1875.42226112, 1842.09424434, 1838.64096506, 1783.72286878,\n",
       "       1872.65422412, 1662.2629238 , 1872.2969889 , 1790.98666256,\n",
       "       1758.28258925, 1802.12153832, 1771.35265719, 1938.32281113,\n",
       "       1222.56848505, 1819.55848218, 1825.37453149, 1899.94267616,\n",
       "       1752.28478839, 1498.8518878 , 1662.80817843, 1912.32750182,\n",
       "       1973.59228796, 1828.45803983, 1903.78034046, 1830.27555524,\n",
       "       1641.57533415, 1827.01029536, 1867.75320037, 1950.86850639,\n",
       "       1693.73792915, 1589.13768468, 1895.76239071, 1844.63876592,\n",
       "       1912.6910049 , 1887.05435975, 1662.98992997, 1803.56928278,\n",
       "       1747.9227514 , 1646.80293602, 1788.82652601, 1790.30768814,\n",
       "       1560.96762474, 1959.59258037, 1847.18328749, 1788.09951985,\n",
       "       1806.62213402, 1746.99311176, 1744.28772058, 1878.8755404 ,\n",
       "       1556.99974793, 1439.73262413, 1750.83704392, 1841.00373509,\n",
       "       1911.7822472 , 1818.09820198, 1917.78004806, 1873.76561531,\n",
       "       1866.29918804, 1828.66067331, 1305.14480431, 1801.75803523,\n",
       "       1948.32398482, 1902.14457659, 1967.5944871 , 1737.01282001,\n",
       "       1621.88352188, 1494.79070807, 1810.25716485, 1686.28611596,\n",
       "       1554.42456926, 1495.15421115, 1900.85143386, 1739.34493295,\n",
       "       1392.08316056, 1686.10436442, 1949.05099098, 1834.27408914,\n",
       "       1965.77697169, 1308.77983513, 1433.91657481, 1819.04388465,\n",
       "       1650.2562153 , 1932.14325873, 1219.66046039, 1725.38072138,\n",
       "       1562.60338861, 1723.72407556, 1681.77298453, 1439.18736951,\n",
       "       1386.80125908, 1849.04256679, 1823.76942472, 1794.12447051,\n",
       "       1306.4170651 , 1809.34840714, 1947.05172403, 1585.86615694,\n",
       "       1930.50749486, 1619.70250339, 1677.41094755, 1847.36503903,\n",
       "       1488.06590104, 1861.05905044, 1561.54353646, 1909.05597408,\n",
       "       1935.96004109, 1744.29398844, 1810.64154987, 1562.42163707,\n",
       "       1753.89967032, 1489.70166491, 1749.52301925, 1496.6708693 ,\n",
       "       1699.69253719, 1869.75246732, 1674.68467443, 1615.92891384,\n",
       "       1314.41413291, 1832.29570413, 1529.53581222, 1754.82930997,\n",
       "       1437.18810255, 1670.98072992, 1816.82110227, 1837.91395889,\n",
       "       1933.39463758, 1832.63832527, 1881.78356506, 1561.18003338,\n",
       "       1454.95656076, 1843.20563553, 1910.12560139, 1789.39893044,\n",
       "       1754.44492494, 1504.62474429, 1917.23479343, 1760.64535928,\n",
       "       1386.98301062, 1870.85759065, 1892.14824183, 1836.83949266,\n",
       "       1905.59785587, 1557.51434546, 1862.33131123, 1695.37369302,\n",
       "       1954.32178567, 1303.50904044, 1721.72480861, 1907.23361974,\n",
       "       1703.36306403, 1901.94194311, 1689.19414062, 1968.32149327,\n",
       "       1887.94707444, 1744.10596904, 1867.58606291, 1978.31782803,\n",
       "       1758.44829777, 1758.06391275, 1494.60895652, 1501.03290629,\n",
       "       1641.72642859, 1668.26072466, 1863.76444162, 1438.2786118 ,\n",
       "       1704.45984114, 1699.91748155, 1540.62265622, 1930.6892464 ,\n",
       "       1869.96487596, 1825.18651209, 1671.70773608, 1891.78473875,\n",
       "       1486.06663409, 1547.91217088, 1859.76590771, 1549.00268012,\n",
       "       1759.00959541, 1686.63708332, 1748.25075846, 1520.58822282,\n",
       "       1633.21476326, 1877.05802499, 1835.18911471, 1338.42478934,\n",
       "       1866.87509976, 1814.68184766, 1907.58107981, 1446.77774141,\n",
       "       1762.44683168, 1927.23596712, 1309.68859284, 1678.86495987,\n",
       "       1401.5342407 , 1931.05274948, 1801.55397282, 1559.87711549,\n",
       "       1642.66584339, 1438.09686026, 1492.24618649, 1436.64284793,\n",
       "       1263.67489314, 1693.91968069, 1933.7790226 , 1896.69203036,\n",
       "       1513.57376263, 1413.73104696, 1898.87304885, 1803.75103432,\n",
       "       1753.01179455, 1822.46023897, 1488.61115567, 1746.2932554 ,\n",
       "       1914.8720234 , 1868.32911209, 1480.61408786, 1485.52137947,\n",
       "       1392.2649121 , 1714.2681565 , 1727.90436101, 1567.73419565,\n",
       "       1891.0159687 , 1640.45416781, 1744.61572764, 1582.0925674 ,\n",
       "       1900.32706118, 1729.92450991, 1753.74506858, 1351.70375863,\n",
       "       1326.79269071, 1770.10127835, 1896.28676339, 1763.73997441,\n",
       "       1688.46713446, 1825.36826363, 1803.03029602, 1950.68675485,\n",
       "       1873.75100123, 1773.39368803, 1262.03912927, 1837.95088385,\n",
       "       1790.80491102, 1654.26728493, 1666.26145771, 1660.43914053,\n",
       "       1919.23406038, 1672.98626473, 1863.78532356, 1737.70916908,\n",
       "       1826.64052442, 1859.93161624, 1905.21830978, 1904.50734663,\n",
       "       1649.93590504, 1684.49925765, 1611.38512531, 1668.80597928,\n",
       "       1841.36723817, 1641.71389287, 1800.48577445, 1935.75740761,\n",
       "       1551.36545016, 1693.51298479, 1923.23259429, 1772.64579992,\n",
       "       1481.15934248, 1667.71547004, 1760.4698756 , 1305.87181047,\n",
       "       1798.44331467, 1603.7097967 , 1913.05450799, 1740.82960237,\n",
       "       1981.40760423, 1313.14187212, 1612.29388302, 1520.22471973,\n",
       "       1718.06889585, 1750.1037699 , 1805.93689174, 1618.65518696,\n",
       "       1949.59624561, 1579.72979736, 1503.75917941, 1441.368388  ,\n",
       "       1445.54867345, 1868.69261517, 1372.44288733, 1759.19134695,\n",
       "       1560.08952413, 1904.14384354, 1872.87773954, 1921.94429049,\n",
       "       1925.76107285, 1875.75026818, 1805.73425826, 1310.23384746,\n",
       "       1770.80740257, 1743.56071442, 1747.37749678, 1835.20372879,\n",
       "       1952.32251872, 1615.38365922, 1745.92348445, 1778.99106085,\n",
       "       1758.46434079, 1397.53570679, 1660.04014143, 1713.36566666,\n",
       "       1780.9903278 , 1602.64994455, 1727.19823679, 1910.67085601,\n",
       "       1906.6723221 , 1802.84854448, 1809.18753754, 1948.50573636,\n",
       "       1331.1547277 , 1799.71557546, 1738.98142987, 1898.85216691,\n",
       "       1607.93184603, 1742.64711778, 1447.91144348, 1892.87524799,\n",
       "       1527.35479372, 1738.45078932, 1794.48797359, 1518.25610988,\n",
       "       1636.66804254, 1919.96106655, 1690.81736877, 1714.07036194,\n",
       "       1760.83337869, 1850.83920026, 1736.61865983, 1715.00143053,\n",
       "       1801.93978678, 1814.09482915, 1649.3168005 , 1304.78130123,\n",
       "       1853.90809451, 1514.66427188, 1738.8142924 , 1441.91364262,\n",
       "       1548.82092858, 1270.94495478, 1803.57555065, 1751.15735419,\n",
       "       1832.82634468, 1789.55353217, 1663.35343305, 1513.71232135,\n",
       "       1643.72569555, 1799.7364574 , 1859.05978349, 1745.56624923,\n",
       "       1757.91908616, 1892.46998103, 1924.12530898, 1613.56614381,\n",
       "       1787.57514716, 1674.98553168, 1343.69558403, 1631.6981051 ,\n",
       "       1637.3950487 , 1936.50529572])"
      ]
     },
     "execution_count": 48,
     "metadata": {},
     "output_type": "execute_result"
    }
   ],
   "source": [
    "y_pred"
   ]
  },
  {
   "cell_type": "markdown",
   "id": "a37c26c6-4e38-4e94-b623-ecb344481080",
   "metadata": {},
   "source": [
    "## Make predictions"
   ]
  },
  {
   "cell_type": "code",
   "execution_count": 49,
   "id": "43771b01-6ea2-40d7-b7c2-169c7b456b29",
   "metadata": {},
   "outputs": [],
   "source": [
    "# Example: Predicting for 2025 with specific assumptions for features\n",
    "future_data = {\n",
    "    'region': label_encoder_region.transform(['Банишора', 'Белите Брези']),  # Encode regions\n",
    "    'apartment_type': label_encoder_apartment_type.transform(['Двустаен апартамент', 'Тристаен апартамент']),  # Encode apartment types\n",
    "    'year': [2025] * 2,  # Assuming 2 predictions for example purposes\n",
    "    'month': [1, 1],  # Predicting for January 2025\n",
    "}\n",
    "\n",
    "# Convert to DataFrame\n",
    "future_X = pd.DataFrame(future_data)\n",
    "\n",
    "# Make predictions\n",
    "future_predictions = model.predict(future_X)"
   ]
  },
  {
   "cell_type": "code",
   "execution_count": 50,
   "id": "bb33a960-37ef-426b-b59b-87b9c6a0226e",
   "metadata": {},
   "outputs": [
    {
     "name": "stdout",
     "output_type": "stream",
     "text": [
      "Prediction for Банишора - Двустаен апартамент: 1920.48 per square meter\n",
      "Prediction for Белите Брези - Тристаен апартамент: 2047.80 per square meter\n"
     ]
    }
   ],
   "source": [
    "# Decode the encoded labels back to their original strings\n",
    "decoded_regions = label_encoder_region.inverse_transform(future_data['region'])\n",
    "decoded_apartment_types = label_encoder_apartment_type.inverse_transform(future_data['apartment_type'])\n",
    "\n",
    "# Display predictions with original labels\n",
    "for i, prediction in enumerate(future_predictions):\n",
    "    region_label = decoded_regions[i]\n",
    "    apartment_type_label = decoded_apartment_types[i]\n",
    "    print(f\"Prediction for {region_label} - {apartment_type_label}: {prediction:.2f} per square meter\")"
   ]
  },
  {
   "cell_type": "markdown",
   "id": "5e08740c-6aa0-42a0-871d-18730e94455c",
   "metadata": {},
   "source": [
    "## Evaluate the model"
   ]
  },
  {
   "cell_type": "code",
   "execution_count": 51,
   "id": "8d51ef51-a33c-4071-a6c5-86d8047c9a9c",
   "metadata": {},
   "outputs": [
    {
     "data": {
      "text/html": [
       "<div>\n",
       "<style scoped>\n",
       "    .dataframe tbody tr th:only-of-type {\n",
       "        vertical-align: middle;\n",
       "    }\n",
       "\n",
       "    .dataframe tbody tr th {\n",
       "        vertical-align: top;\n",
       "    }\n",
       "\n",
       "    .dataframe thead th {\n",
       "        text-align: right;\n",
       "    }\n",
       "</style>\n",
       "<table border=\"1\" class=\"dataframe\">\n",
       "  <thead>\n",
       "    <tr style=\"text-align: right;\">\n",
       "      <th></th>\n",
       "      <th>coefficients</th>\n",
       "    </tr>\n",
       "  </thead>\n",
       "  <tbody>\n",
       "    <tr>\n",
       "      <th>region</th>\n",
       "      <td>-0.181752</td>\n",
       "    </tr>\n",
       "    <tr>\n",
       "      <th>apartment_type</th>\n",
       "      <td>42.560420</td>\n",
       "    </tr>\n",
       "    <tr>\n",
       "      <th>year</th>\n",
       "      <td>177.832054</td>\n",
       "    </tr>\n",
       "    <tr>\n",
       "      <th>month</th>\n",
       "      <td>18.543496</td>\n",
       "    </tr>\n",
       "  </tbody>\n",
       "</table>\n",
       "</div>"
      ],
      "text/plain": [
       "                coefficients\n",
       "region             -0.181752\n",
       "apartment_type     42.560420\n",
       "year              177.832054\n",
       "month              18.543496"
      ]
     },
     "execution_count": 51,
     "metadata": {},
     "output_type": "execute_result"
    }
   ],
   "source": [
    "cdf = pd.DataFrame(model.coef_, X.columns, columns=['coefficients'])\n",
    "cdf"
   ]
  },
  {
   "cell_type": "code",
   "execution_count": 52,
   "id": "712083e0-28f9-49c0-bdc0-3ed00d094e3a",
   "metadata": {},
   "outputs": [],
   "source": [
    "mse = mean_squared_error(y_test, y_pred)\n",
    "rmse = np.sqrt(mse)"
   ]
  },
  {
   "cell_type": "code",
   "execution_count": 53,
   "id": "9a319287-ac44-4a6f-bdc2-329d78f2138e",
   "metadata": {},
   "outputs": [
    {
     "name": "stdout",
     "output_type": "stream",
     "text": [
      "Coefficients: -0.18175154112070038 42.560420419212335 177.83205358285 18.543496121424504\n",
      "Intercept: -358292.7301677822\n",
      "Mean Absolute Error:  336.67435230554867\n",
      "Mean squared error (MSE): 189613.56\n",
      "Root Mean Squared Error: 435.45\n",
      "Coefficient of determination (R^2): 0.16\n"
     ]
    }
   ],
   "source": [
    "print(\"Coefficients:\", *model.coef_)\n",
    "print(\"Intercept:\", model.intercept_)\n",
    "print(\"Mean Absolute Error: \", mean_absolute_error(y_test, y_pred))\n",
    "print(f\"Mean squared error (MSE): {mse:.2f}\")\n",
    "print(f\"Root Mean Squared Error: {rmse:.2f}\")\n",
    "print(f\"Coefficient of determination (R^2): {r2_score(y_test, y_pred):.2f}\")"
   ]
  },
  {
   "cell_type": "markdown",
   "id": "94a314a9-bda4-4a81-929f-04abd16e7728",
   "metadata": {},
   "source": [
    "## Residuals"
   ]
  },
  {
   "cell_type": "code",
   "execution_count": 54,
   "id": "eba839c8-3434-4cc7-a902-192d9f199f4a",
   "metadata": {},
   "outputs": [],
   "source": [
    "residuals = y_test - y_pred"
   ]
  },
  {
   "cell_type": "code",
   "execution_count": 55,
   "id": "a747d36c-02e2-4a30-8975-93c4bbf49da6",
   "metadata": {},
   "outputs": [
    {
     "data": {
      "text/plain": [
       "2699     32.959337\n",
       "1667    142.065150\n",
       "2880   -495.695721\n",
       "1835    565.237006\n",
       "1103   -158.937340\n",
       "           ...    \n",
       "2625    193.124468\n",
       "4061      6.304416\n",
       "2848   -123.698105\n",
       "3242   -479.065049\n",
       "796    -569.035296\n",
       "Name: price_per_sqm, Length: 774, dtype: float64"
      ]
     },
     "execution_count": 55,
     "metadata": {},
     "output_type": "execute_result"
    }
   ],
   "source": [
    "residuals"
   ]
  },
  {
   "cell_type": "markdown",
   "id": "409eecd0-5a51-491f-b20c-11b4a923b279",
   "metadata": {},
   "source": [
    "__Residuals help identify patterns in the prediction errors.__"
   ]
  },
  {
   "cell_type": "code",
   "execution_count": 56,
   "id": "bbf5f545-9c93-4972-b173-d78be2ae9b03",
   "metadata": {},
   "outputs": [
    {
     "data": {
      "text/plain": [
       "Index(['region', 'price_per_sqm', 'apartment_type', 'year', 'month'], dtype='object')"
      ]
     },
     "execution_count": 56,
     "metadata": {},
     "output_type": "execute_result"
    }
   ],
   "source": [
    "combined_df.columns"
   ]
  },
  {
   "cell_type": "code",
   "execution_count": 57,
   "id": "ea4927f9-70c6-4a46-b8af-f434402f4184",
   "metadata": {},
   "outputs": [
    {
     "data": {
      "image/png": "[encoded data removed]",
      "text/plain": [
       "<Figure size 720x432 with 1 Axes>"
      ]
     },
     "metadata": {
      "needs_background": "light"
     },
     "output_type": "display_data"
    }
   ],
   "source": [
    "plt.figure(figsize=(10, 6))\n",
    "sns.scatterplot(x=y_test, y=y_pred)\n",
    "plt.xlabel(\"Actual Values\")\n",
    "plt.ylabel(\"Predicted Values\")\n",
    "plt.title(\"Actual vs. Predicted Values\")\n",
    "plt.plot([min(y_test), max(y_test)], [min(y_test), max(y_test)], color='red', lw=2)\n",
    "plt.show()"
   ]
  },
  {
   "cell_type": "code",
   "execution_count": 58,
   "id": "8abf8673-1d2d-471f-96b9-58b0e971957f",
   "metadata": {},
   "outputs": [
    {
     "data": {
      "image/png": "[encoded data removed]",
      "text/plain": [
       "<Figure size 432x288 with 1 Axes>"
      ]
     },
     "metadata": {
      "needs_background": "light"
     },
     "output_type": "display_data"
    }
   ],
   "source": [
    "train_sizes, train_scores, validation_scores = learning_curve(\n",
    "    model, X_train, y_train, cv=5, scoring='neg_mean_squared_error'\n",
    ")\n",
    "\n",
    "train_errors_mean = -train_scores.mean(axis=1)\n",
    "validation_errors_mean = -validation_scores.mean(axis=1)\n",
    "\n",
    "plt.plot(train_sizes, train_errors_mean, label='Training error')\n",
    "plt.plot(train_sizes, validation_errors_mean, label='Validation error')\n",
    "plt.xlabel('Training Set Size')\n",
    "plt.ylabel('Error')\n",
    "plt.title('Learning Curves')\n",
    "plt.legend()\n",
    "plt.show()"
   ]
  },
  {
   "cell_type": "markdown",
   "id": "929b7c53-b6c7-4e93-8cd9-70fd166c075b",
   "metadata": {},
   "source": [
    "- High Bias (Underfitting): If both training and validation errors are high and similar, your model might be too simple and underfitting the data.\n",
    "- High Variance (Overfitting): If the training error is much lower than the validation error, and the validation error is high, your model might be too complex and overfitting the data."
   ]
  },
  {
   "cell_type": "markdown",
   "id": "19d61a9e-5d7c-4664-86f1-f756f02a2f31",
   "metadata": {},
   "source": [
    "#### Cross-Validation"
   ]
  },
  {
   "cell_type": "code",
   "execution_count": 59,
   "id": "83dbf28d-59f2-4117-8286-b0a029b60249",
   "metadata": {},
   "outputs": [
    {
     "name": "stdout",
     "output_type": "stream",
     "text": [
      "Cross-Validation Scores: 196411.33813938955 ± 9700.57892904975\n"
     ]
    }
   ],
   "source": [
    "scores = cross_val_score(model, X_train, y_train, cv=5, scoring='neg_mean_squared_error')\n",
    "print(f'Cross-Validation Scores: {-scores.mean()} ± {scores.std()}')"
   ]
  },
  {
   "cell_type": "code",
   "execution_count": null,
   "id": "ee57f245-ebfe-4e28-8941-b622c53ea9bb",
   "metadata": {},
   "outputs": [],
   "source": []
  }
 ],
 "metadata": {
  "kernelspec": {
   "display_name": "Python 3 (ipykernel)",
   "language": "python",
   "name": "python3"
  },
  "language_info": {
   "codemirror_mode": {
    "name": "ipython",
    "version": 3
   },
   "file_extension": ".py",
   "mimetype": "text/x-python",
   "name": "python",
   "nbconvert_exporter": "python",
   "pygments_lexer": "ipython3",
   "version": "3.9.12"
  }
 },
 "nbformat": 4,
 "nbformat_minor": 5
}
