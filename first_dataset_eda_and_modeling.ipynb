{
 "cells": [
  {
   "cell_type": "code",
   "execution_count": 1,
   "id": "d840f8c1-ae28-47fd-843b-e16bfc304f8e",
   "metadata": {},
   "outputs": [],
   "source": [
    "%matplotlib inline"
   ]
  },
  {
   "cell_type": "code",
   "execution_count": 2,
   "id": "8ec18ee0-d81c-48b8-abe9-dc192ce80041",
   "metadata": {},
   "outputs": [],
   "source": [
    "import numpy as np\n",
    "import pandas as pd\n",
    "import matplotlib.pyplot as plt\n",
    "import seaborn as sns\n",
    "\n",
    "from sklearn.model_selection import train_test_split\n",
    "from sklearn.linear_model import LinearRegression\n",
    "from sklearn.metrics import mean_squared_error, mean_absolute_error, r2_score\n",
    "\n",
    "from sklearn.preprocessing import StandardScaler, OneHotEncoder\n",
    "from sklearn.compose import ColumnTransformer\n",
    "from sklearn.pipeline import Pipeline\n",
    "from sklearn.ensemble import RandomForestRegressor\n",
    "\n",
    "from sklearn.preprocessing import LabelEncoder"
   ]
  },
  {
   "cell_type": "markdown",
   "id": "b5b27a86-9168-4363-8cdc-6813a53978c8",
   "metadata": {},
   "source": [
    "Let's read the first dataset that we have:"
   ]
  },
  {
   "cell_type": "code",
   "execution_count": 3,
   "id": "ad9af972-c54a-45d7-bfa6-768e10053060",
   "metadata": {},
   "outputs": [],
   "source": [
    "combined_df = pd.read_csv(\"data/property_prices_combined.csv\")"
   ]
  },
  {
   "cell_type": "markdown",
   "id": "bce9d7c3-0533-47f6-8dfb-42ae9eaa734f",
   "metadata": {},
   "source": [
    "And check it:"
   ]
  },
  {
   "cell_type": "code",
   "execution_count": 4,
   "id": "6af98695-6b72-496d-adb8-b2ebdd3615f8",
   "metadata": {},
   "outputs": [
    {
     "data": {
      "text/html": [
       "<div>\n",
       "<style scoped>\n",
       "    .dataframe tbody tr th:only-of-type {\n",
       "        vertical-align: middle;\n",
       "    }\n",
       "\n",
       "    .dataframe tbody tr th {\n",
       "        vertical-align: top;\n",
       "    }\n",
       "\n",
       "    .dataframe thead th {\n",
       "        text-align: right;\n",
       "    }\n",
       "</style>\n",
       "<table border=\"1\" class=\"dataframe\">\n",
       "  <thead>\n",
       "    <tr style=\"text-align: right;\">\n",
       "      <th></th>\n",
       "      <th>Район</th>\n",
       "      <th>Цена</th>\n",
       "      <th>Цена / кв.м.</th>\n",
       "      <th>Валута</th>\n",
       "      <th>Тип Апартамент</th>\n",
       "      <th>Дата</th>\n",
       "    </tr>\n",
       "  </thead>\n",
       "  <tbody>\n",
       "    <tr>\n",
       "      <th>0</th>\n",
       "      <td>Банишора</td>\n",
       "      <td>134653.98</td>\n",
       "      <td>1987.51</td>\n",
       "      <td>EUR</td>\n",
       "      <td>Двустаен апартамент</td>\n",
       "      <td>2024-07-28</td>\n",
       "    </tr>\n",
       "    <tr>\n",
       "      <th>1</th>\n",
       "      <td>Банкя (гр.)</td>\n",
       "      <td>131843.00</td>\n",
       "      <td>1890.84</td>\n",
       "      <td>EUR</td>\n",
       "      <td>Двустаен апартамент</td>\n",
       "      <td>2024-07-28</td>\n",
       "    </tr>\n",
       "    <tr>\n",
       "      <th>2</th>\n",
       "      <td>Белите Брези</td>\n",
       "      <td>249900.00</td>\n",
       "      <td>2108.86</td>\n",
       "      <td>EUR</td>\n",
       "      <td>Двустаен апартамент</td>\n",
       "      <td>2024-07-28</td>\n",
       "    </tr>\n",
       "    <tr>\n",
       "      <th>3</th>\n",
       "      <td>Бенковски</td>\n",
       "      <td>115863.50</td>\n",
       "      <td>1782.52</td>\n",
       "      <td>EUR</td>\n",
       "      <td>Двустаен апартамент</td>\n",
       "      <td>2024-07-28</td>\n",
       "    </tr>\n",
       "    <tr>\n",
       "      <th>4</th>\n",
       "      <td>Борово</td>\n",
       "      <td>135594.22</td>\n",
       "      <td>2148.50</td>\n",
       "      <td>EUR</td>\n",
       "      <td>Двустаен апартамент</td>\n",
       "      <td>2024-07-28</td>\n",
       "    </tr>\n",
       "    <tr>\n",
       "      <th>...</th>\n",
       "      <td>...</td>\n",
       "      <td>...</td>\n",
       "      <td>...</td>\n",
       "      <td>...</td>\n",
       "      <td>...</td>\n",
       "      <td>...</td>\n",
       "    </tr>\n",
       "    <tr>\n",
       "      <th>2768</th>\n",
       "      <td>Стрелбище</td>\n",
       "      <td>175333.00</td>\n",
       "      <td>1075.67</td>\n",
       "      <td>EUR</td>\n",
       "      <td>Многостаен апартамемент</td>\n",
       "      <td>2021-07-28</td>\n",
       "    </tr>\n",
       "    <tr>\n",
       "      <th>2769</th>\n",
       "      <td>Студентски Град</td>\n",
       "      <td>222600.00</td>\n",
       "      <td>718.84</td>\n",
       "      <td>EUR</td>\n",
       "      <td>Многостаен апартамемент</td>\n",
       "      <td>2021-07-28</td>\n",
       "    </tr>\n",
       "    <tr>\n",
       "      <th>2770</th>\n",
       "      <td>Хаджи Димитър</td>\n",
       "      <td>205000.00</td>\n",
       "      <td>1045.92</td>\n",
       "      <td>EUR</td>\n",
       "      <td>Многостаен апартамемент</td>\n",
       "      <td>2021-07-28</td>\n",
       "    </tr>\n",
       "    <tr>\n",
       "      <th>2771</th>\n",
       "      <td>Хиподрума</td>\n",
       "      <td>330000.00</td>\n",
       "      <td>2357.14</td>\n",
       "      <td>EUR</td>\n",
       "      <td>Многостаен апартамемент</td>\n",
       "      <td>2021-07-28</td>\n",
       "    </tr>\n",
       "    <tr>\n",
       "      <th>2772</th>\n",
       "      <td>Център</td>\n",
       "      <td>564114.00</td>\n",
       "      <td>2689.00</td>\n",
       "      <td>EUR</td>\n",
       "      <td>Многостаен апартамемент</td>\n",
       "      <td>2021-07-28</td>\n",
       "    </tr>\n",
       "  </tbody>\n",
       "</table>\n",
       "<p>2773 rows × 6 columns</p>\n",
       "</div>"
      ],
      "text/plain": [
       "                Район       Цена  Цена / кв.м. Валута  \\\n",
       "0            Банишора  134653.98       1987.51    EUR   \n",
       "1         Банкя (гр.)  131843.00       1890.84    EUR   \n",
       "2        Белите Брези  249900.00       2108.86    EUR   \n",
       "3           Бенковски  115863.50       1782.52    EUR   \n",
       "4              Борово  135594.22       2148.50    EUR   \n",
       "...               ...        ...           ...    ...   \n",
       "2768        Стрелбище  175333.00       1075.67    EUR   \n",
       "2769  Студентски Град  222600.00        718.84    EUR   \n",
       "2770    Хаджи Димитър  205000.00       1045.92    EUR   \n",
       "2771        Хиподрума  330000.00       2357.14    EUR   \n",
       "2772           Център  564114.00       2689.00    EUR   \n",
       "\n",
       "               Тип Апартамент        Дата  \n",
       "0         Двустаен апартамент  2024-07-28  \n",
       "1         Двустаен апартамент  2024-07-28  \n",
       "2         Двустаен апартамент  2024-07-28  \n",
       "3         Двустаен апартамент  2024-07-28  \n",
       "4         Двустаен апартамент  2024-07-28  \n",
       "...                       ...         ...  \n",
       "2768  Многостаен апартамемент  2021-07-28  \n",
       "2769  Многостаен апартамемент  2021-07-28  \n",
       "2770  Многостаен апартамемент  2021-07-28  \n",
       "2771  Многостаен апартамемент  2021-07-28  \n",
       "2772  Многостаен апартамемент  2021-07-28  \n",
       "\n",
       "[2773 rows x 6 columns]"
      ]
     },
     "execution_count": 4,
     "metadata": {},
     "output_type": "execute_result"
    }
   ],
   "source": [
    "combined_df"
   ]
  },
  {
   "cell_type": "markdown",
   "id": "4ff98bf4-abd9-45ae-8bd6-ea8cb7db7773",
   "metadata": {},
   "source": [
    "Let's normalize the titles like convert the column names from Bulgarian to English:"
   ]
  },
  {
   "cell_type": "code",
   "execution_count": 5,
   "id": "94c207a3-7e04-4aba-9233-5ce313d8eec0",
   "metadata": {},
   "outputs": [
    {
     "data": {
      "text/html": [
       "<div>\n",
       "<style scoped>\n",
       "    .dataframe tbody tr th:only-of-type {\n",
       "        vertical-align: middle;\n",
       "    }\n",
       "\n",
       "    .dataframe tbody tr th {\n",
       "        vertical-align: top;\n",
       "    }\n",
       "\n",
       "    .dataframe thead th {\n",
       "        text-align: right;\n",
       "    }\n",
       "</style>\n",
       "<table border=\"1\" class=\"dataframe\">\n",
       "  <thead>\n",
       "    <tr style=\"text-align: right;\">\n",
       "      <th></th>\n",
       "      <th>region</th>\n",
       "      <th>price</th>\n",
       "      <th>price_per_sqm</th>\n",
       "      <th>currency</th>\n",
       "      <th>apartment_type</th>\n",
       "      <th>date</th>\n",
       "    </tr>\n",
       "  </thead>\n",
       "  <tbody>\n",
       "    <tr>\n",
       "      <th>0</th>\n",
       "      <td>Банишора</td>\n",
       "      <td>134653.98</td>\n",
       "      <td>1987.51</td>\n",
       "      <td>EUR</td>\n",
       "      <td>Двустаен апартамент</td>\n",
       "      <td>2024-07-28</td>\n",
       "    </tr>\n",
       "    <tr>\n",
       "      <th>1</th>\n",
       "      <td>Банкя (гр.)</td>\n",
       "      <td>131843.00</td>\n",
       "      <td>1890.84</td>\n",
       "      <td>EUR</td>\n",
       "      <td>Двустаен апартамент</td>\n",
       "      <td>2024-07-28</td>\n",
       "    </tr>\n",
       "    <tr>\n",
       "      <th>2</th>\n",
       "      <td>Белите Брези</td>\n",
       "      <td>249900.00</td>\n",
       "      <td>2108.86</td>\n",
       "      <td>EUR</td>\n",
       "      <td>Двустаен апартамент</td>\n",
       "      <td>2024-07-28</td>\n",
       "    </tr>\n",
       "    <tr>\n",
       "      <th>3</th>\n",
       "      <td>Бенковски</td>\n",
       "      <td>115863.50</td>\n",
       "      <td>1782.52</td>\n",
       "      <td>EUR</td>\n",
       "      <td>Двустаен апартамент</td>\n",
       "      <td>2024-07-28</td>\n",
       "    </tr>\n",
       "    <tr>\n",
       "      <th>4</th>\n",
       "      <td>Борово</td>\n",
       "      <td>135594.22</td>\n",
       "      <td>2148.50</td>\n",
       "      <td>EUR</td>\n",
       "      <td>Двустаен апартамент</td>\n",
       "      <td>2024-07-28</td>\n",
       "    </tr>\n",
       "  </tbody>\n",
       "</table>\n",
       "</div>"
      ],
      "text/plain": [
       "         region      price  price_per_sqm currency       apartment_type  \\\n",
       "0      Банишора  134653.98        1987.51      EUR  Двустаен апартамент   \n",
       "1   Банкя (гр.)  131843.00        1890.84      EUR  Двустаен апартамент   \n",
       "2  Белите Брези  249900.00        2108.86      EUR  Двустаен апартамент   \n",
       "3     Бенковски  115863.50        1782.52      EUR  Двустаен апартамент   \n",
       "4        Борово  135594.22        2148.50      EUR  Двустаен апартамент   \n",
       "\n",
       "         date  \n",
       "0  2024-07-28  \n",
       "1  2024-07-28  \n",
       "2  2024-07-28  \n",
       "3  2024-07-28  \n",
       "4  2024-07-28  "
      ]
     },
     "execution_count": 5,
     "metadata": {},
     "output_type": "execute_result"
    }
   ],
   "source": [
    "combined_df = combined_df.rename(columns={\n",
    "    'Район': 'region',\n",
    "    'Цена': 'price',\n",
    "    'Цена / кв.м.': 'price_per_sqm',\n",
    "    'Валута': 'currency',\n",
    "    'Тип Апартамент': 'apartment_type',\n",
    "    'Дата': 'date'\n",
    "})\n",
    "\n",
    "\n",
    "combined_df.head()"
   ]
  },
  {
   "cell_type": "markdown",
   "id": "fbce8316-19da-48ab-a496-2567688a1b38",
   "metadata": {},
   "source": [
    "#### Let's take a closer look at the dataset."
   ]
  },
  {
   "cell_type": "code",
   "execution_count": 6,
   "id": "e2bbed30-2abe-4400-b3b3-b490da5a9863",
   "metadata": {},
   "outputs": [
    {
     "data": {
      "text/plain": [
       "(2773, 6)"
      ]
     },
     "execution_count": 6,
     "metadata": {},
     "output_type": "execute_result"
    }
   ],
   "source": [
    "combined_df.shape"
   ]
  },
  {
   "cell_type": "markdown",
   "id": "06fcb9e7-96c1-4ca5-8eb7-f9d35bcb6a13",
   "metadata": {},
   "source": [
    "It has 2773 observations and 6 features."
   ]
  },
  {
   "cell_type": "code",
   "execution_count": 7,
   "id": "3ef4ff2a-74d6-44fc-af8c-721c035bba8f",
   "metadata": {},
   "outputs": [
    {
     "data": {
      "text/html": [
       "<div>\n",
       "<style scoped>\n",
       "    .dataframe tbody tr th:only-of-type {\n",
       "        vertical-align: middle;\n",
       "    }\n",
       "\n",
       "    .dataframe tbody tr th {\n",
       "        vertical-align: top;\n",
       "    }\n",
       "\n",
       "    .dataframe thead th {\n",
       "        text-align: right;\n",
       "    }\n",
       "</style>\n",
       "<table border=\"1\" class=\"dataframe\">\n",
       "  <thead>\n",
       "    <tr style=\"text-align: right;\">\n",
       "      <th></th>\n",
       "      <th>count</th>\n",
       "      <th>mean</th>\n",
       "      <th>std</th>\n",
       "      <th>min</th>\n",
       "      <th>25%</th>\n",
       "      <th>50%</th>\n",
       "      <th>75%</th>\n",
       "      <th>max</th>\n",
       "    </tr>\n",
       "  </thead>\n",
       "  <tbody>\n",
       "    <tr>\n",
       "      <th>price</th>\n",
       "      <td>2773.0</td>\n",
       "      <td>231937.814468</td>\n",
       "      <td>255154.727056</td>\n",
       "      <td>6500.0</td>\n",
       "      <td>103565.00</td>\n",
       "      <td>156238.61</td>\n",
       "      <td>255161.11</td>\n",
       "      <td>3000000.0</td>\n",
       "    </tr>\n",
       "    <tr>\n",
       "      <th>price_per_sqm</th>\n",
       "      <td>2773.0</td>\n",
       "      <td>1719.033722</td>\n",
       "      <td>635.308852</td>\n",
       "      <td>17.4</td>\n",
       "      <td>1335.48</td>\n",
       "      <td>1634.61</td>\n",
       "      <td>2000.00</td>\n",
       "      <td>8200.0</td>\n",
       "    </tr>\n",
       "  </tbody>\n",
       "</table>\n",
       "</div>"
      ],
      "text/plain": [
       "                count           mean            std     min        25%  \\\n",
       "price          2773.0  231937.814468  255154.727056  6500.0  103565.00   \n",
       "price_per_sqm  2773.0    1719.033722     635.308852    17.4    1335.48   \n",
       "\n",
       "                     50%        75%        max  \n",
       "price          156238.61  255161.11  3000000.0  \n",
       "price_per_sqm    1634.61    2000.00     8200.0  "
      ]
     },
     "execution_count": 7,
     "metadata": {},
     "output_type": "execute_result"
    }
   ],
   "source": [
    "combined_df.describe().T"
   ]
  },
  {
   "cell_type": "code",
   "execution_count": 8,
   "id": "3fa51c5d-f54f-40ce-b4ff-33c8dfcb8085",
   "metadata": {},
   "outputs": [
    {
     "name": "stdout",
     "output_type": "stream",
     "text": [
      "<class 'pandas.core.frame.DataFrame'>\n",
      "RangeIndex: 2773 entries, 0 to 2772\n",
      "Data columns (total 6 columns):\n",
      " #   Column          Non-Null Count  Dtype  \n",
      "---  ------          --------------  -----  \n",
      " 0   region          2773 non-null   object \n",
      " 1   price           2773 non-null   float64\n",
      " 2   price_per_sqm   2773 non-null   float64\n",
      " 3   currency        2773 non-null   object \n",
      " 4   apartment_type  2773 non-null   object \n",
      " 5   date            2773 non-null   object \n",
      "dtypes: float64(2), object(4)\n",
      "memory usage: 130.1+ KB\n"
     ]
    }
   ],
   "source": [
    "combined_df.info()"
   ]
  },
  {
   "cell_type": "code",
   "execution_count": 9,
   "id": "abef06dd-0268-4e41-9577-6c5e5d077ecc",
   "metadata": {},
   "outputs": [
    {
     "data": {
      "text/plain": [
       "region             object\n",
       "price             float64\n",
       "price_per_sqm     float64\n",
       "currency           object\n",
       "apartment_type     object\n",
       "date               object\n",
       "dtype: object"
      ]
     },
     "execution_count": 9,
     "metadata": {},
     "output_type": "execute_result"
    }
   ],
   "source": [
    "combined_df.dtypes"
   ]
  },
  {
   "cell_type": "markdown",
   "id": "1aa06d4a-4730-426a-b707-27bae4770117",
   "metadata": {},
   "source": [
    "Let's convert the \"date\" column in the correct data type:"
   ]
  },
  {
   "cell_type": "code",
   "execution_count": 10,
   "id": "99c16360-33e7-4c5b-86fb-83f483c21b49",
   "metadata": {},
   "outputs": [],
   "source": [
    "combined_df[\"date\"] = pd.to_datetime(combined_df[\"date\"])"
   ]
  },
  {
   "cell_type": "markdown",
   "id": "eebff2c6-bb9f-4bf9-a1cf-85a73b1bdfa2",
   "metadata": {},
   "source": [
    "Check the converted format:"
   ]
  },
  {
   "cell_type": "code",
   "execution_count": 11,
   "id": "8b4effe6-667e-4997-a3ab-98ed7dfec5db",
   "metadata": {},
   "outputs": [
    {
     "data": {
      "text/plain": [
       "0      2024-07-28\n",
       "1      2024-07-28\n",
       "2      2024-07-28\n",
       "3      2024-07-28\n",
       "4      2024-07-28\n",
       "          ...    \n",
       "2768   2021-07-28\n",
       "2769   2021-07-28\n",
       "2770   2021-07-28\n",
       "2771   2021-07-28\n",
       "2772   2021-07-28\n",
       "Name: date, Length: 2773, dtype: datetime64[ns]"
      ]
     },
     "execution_count": 11,
     "metadata": {},
     "output_type": "execute_result"
    }
   ],
   "source": [
    "combined_df[\"date\"]"
   ]
  },
  {
   "cell_type": "markdown",
   "id": "8b232f53-5258-4892-a7d9-08cf890bf259",
   "metadata": {},
   "source": [
    "Check for NaN values:"
   ]
  },
  {
   "cell_type": "code",
   "execution_count": 12,
   "id": "ddb6b32f-149f-465a-b3e4-f56928dbc229",
   "metadata": {},
   "outputs": [
    {
     "data": {
      "text/plain": [
       "region            0\n",
       "price             0\n",
       "price_per_sqm     0\n",
       "currency          0\n",
       "apartment_type    0\n",
       "date              0\n",
       "dtype: int64"
      ]
     },
     "execution_count": 12,
     "metadata": {},
     "output_type": "execute_result"
    }
   ],
   "source": [
    "combined_df.isna().sum()"
   ]
  },
  {
   "cell_type": "markdown",
   "id": "731d3650-e43b-4d4f-aa0b-92e95c7e2ba6",
   "metadata": {},
   "source": [
    "We don't have null values in this dataset."
   ]
  },
  {
   "cell_type": "markdown",
   "id": "132cdbb9-629e-4514-b883-672dc05f4fd3",
   "metadata": {},
   "source": [
    "### Let's plot the prices over time for each apartment type:"
   ]
  },
  {
   "cell_type": "code",
   "execution_count": 13,
   "id": "ab079319-9902-44c6-af3e-bc1153391f63",
   "metadata": {},
   "outputs": [
    {
     "data": {
      "image/png": "[encoded data removed]",
      "text/plain": [
       "<Figure size 1008x576 with 1 Axes>"
      ]
     },
     "metadata": {
      "needs_background": "light"
     },
     "output_type": "display_data"
    }
   ],
   "source": [
    "apartment_types = combined_df[\"apartment_type\"].unique()\n",
    "\n",
    "plt.figure(figsize=(14, 8))\n",
    "\n",
    "for apartment_type in apartment_types:\n",
    "    # Filter the DataFrame by apartment type\n",
    "    filtered_df = combined_df[combined_df[\"apartment_type\"] == apartment_type]\n",
    "    \n",
    "    # Group by date and calculate the mean price for each date\n",
    "    price_over_time = filtered_df.groupby('date')['price'].median()\n",
    "    \n",
    "    # Plot the line for this apartment type\n",
    "    plt.plot(price_over_time.index, price_over_time.values, marker='o', label=apartment_type)\n",
    "\n",
    "plt.title('Price Trends Over Time by Apartment Type')\n",
    "plt.xlabel('Date')\n",
    "plt.ylabel('Average Price (EUR)')\n",
    "plt.xticks(rotation=45)\n",
    "plt.legend(title='Apartment Type')\n",
    "plt.grid(True)\n",
    "plt.show()"
   ]
  },
  {
   "cell_type": "markdown",
   "id": "dbb7566c-3c03-471a-8fb3-b3874f4663ee",
   "metadata": {},
   "source": [
    "Let's see how many unique Ragions we have:"
   ]
  },
  {
   "cell_type": "code",
   "execution_count": 14,
   "id": "73128cbe-9126-4248-ac53-d0bd90ff100b",
   "metadata": {},
   "outputs": [
    {
     "data": {
      "text/plain": [
       "102"
      ]
     },
     "execution_count": 14,
     "metadata": {},
     "output_type": "execute_result"
    }
   ],
   "source": [
    "len(combined_df['region'].unique())"
   ]
  },
  {
   "cell_type": "markdown",
   "id": "6fbfd227-d104-4c79-aabe-c7b4bd68e19b",
   "metadata": {},
   "source": [
    "And which they are:"
   ]
  },
  {
   "cell_type": "code",
   "execution_count": 15,
   "id": "c2d5b49c-c28d-4f42-bb64-044887c4f24a",
   "metadata": {},
   "outputs": [
    {
     "data": {
      "text/plain": [
       "array(['Банишора', 'Банкя (гр.)', 'Белите Брези', 'Бенковски', 'Борово',\n",
       "       'Бояна', 'Бъкстон', 'Витоша', 'Гевгелийски', 'Гео Милев',\n",
       "       'Горна Баня', 'Гоце Делчев', 'Дианабад', 'Драгалевци', 'Дружба',\n",
       "       'Дружба 1', 'Дружба 2', 'Дървеница', 'Западен Парк',\n",
       "       'Захарна Фабрика', 'Зона Б18', 'Зона Б19', 'Зона Б5', 'Иван Вазов',\n",
       "       'Изгрев', 'Изток', 'Илинден', 'Княжево', 'Красна Поляна',\n",
       "       'Красно Село', 'Кръстова Вада', 'Лагера', 'Левски', 'Левски В',\n",
       "       'Левски Г', 'Лозенец', 'Люлин 1', 'Люлин 10', 'Люлин 2', 'Люлин 3',\n",
       "       'Люлин 4', 'Люлин 5', 'Люлин 6', 'Люлин 7', 'Люлин 8', 'Люлин 9',\n",
       "       'Люлин Център', 'м-т Гърдова глава', 'Малинова Долина',\n",
       "       'Малинова долина в.з.', 'Манастирски ливади Запад',\n",
       "       'Манастирски ливади Изток', 'Младост 1', 'Младост 1а', 'Младост 2',\n",
       "       'Младост 3', 'Младост 4', 'Мотописта', 'Мусагеница', 'Надежда 1',\n",
       "       'Надежда 2', 'Надежда 3', 'Надежда 4', 'Обеля', 'Обеля 1',\n",
       "       'Обеля 2', 'Оборище', 'Овча Купел', 'Овча Купел 1', 'Овча Купел 2',\n",
       "       'Павлово', 'Подуене', 'Полигона', 'Разсадника', 'Редута',\n",
       "       'Света Троица', 'Свобода', 'Сердика', 'Симеоново', 'Славия',\n",
       "       'Слатина', 'Стрелбище', 'Студентски Град', 'Суха Река', 'Толстой',\n",
       "       'Факултета', 'Фондови Жилища', 'Хаджи Димитър', 'Хиподрума',\n",
       "       'Хладилника', 'Център', 'Яворов', 'м-т Детски град',\n",
       "       'Врана - Лозен в.з.', 'Илиянци', 'Малашевци', 'Требич',\n",
       "       'Филиповци', '7-ми 11-ти километър', 'Централна гара',\n",
       "       'Американски колеж в.з.', 'Градина'], dtype=object)"
      ]
     },
     "execution_count": 15,
     "metadata": {},
     "output_type": "execute_result"
    }
   ],
   "source": [
    "combined_df['region'].unique()"
   ]
  },
  {
   "cell_type": "code",
   "execution_count": 17,
   "id": "498c4d75-53ca-4dc8-a2fb-1b928762b977",
   "metadata": {},
   "outputs": [
    {
     "data": {
      "text/plain": [
       "Index(['region', 'price', 'price_per_sqm', 'currency', 'apartment_type',\n",
       "       'date'],\n",
       "      dtype='object')"
      ]
     },
     "execution_count": 17,
     "metadata": {},
     "output_type": "execute_result"
    }
   ],
   "source": [
    "combined_df.columns"
   ]
  },
  {
   "cell_type": "markdown",
   "id": "c57f0bf2-d84c-417c-af6d-582f1a2f9704",
   "metadata": {},
   "source": [
    "### Mean Prices by Apartment Type and Date"
   ]
  },
  {
   "cell_type": "code",
   "execution_count": 18,
   "id": "232548b5-9a34-43a1-a63b-8d09d273329e",
   "metadata": {},
   "outputs": [
    {
     "name": "stdout",
     "output_type": "stream",
     "text": [
      "apartment_type           date      \n",
      "Ателие, таван, студио    2021-07-28     77116.214286\n",
      "                         2022-01-10     94700.741111\n",
      "                         2022-07-28    105442.089231\n",
      "                         2022-11-19    109510.400000\n",
      "                         2023-01-10    110105.194444\n",
      "                         2023-07-28    125257.334000\n",
      "                         2023-11-19    111184.527500\n",
      "                         2024-01-10    104707.250000\n",
      "                         2024-07-28    111905.708125\n",
      "Гараж, паркомясто        2021-07-28     22905.646875\n",
      "                         2022-01-10     24480.638750\n",
      "                         2022-07-28     28337.755385\n",
      "                         2022-11-19     27116.979375\n",
      "                         2023-01-10     26724.520303\n",
      "                         2023-07-28     31258.320789\n",
      "                         2023-11-19     33171.380857\n",
      "                         2024-01-10     30898.458438\n",
      "                         2024-07-28     34238.918636\n",
      "Двустаен апартамент      2021-07-28     93551.248276\n",
      "                         2022-01-10    107118.865412\n",
      "                         2022-07-28    120324.352069\n",
      "                         2022-11-19    129119.760000\n",
      "                         2023-01-10    125222.730667\n",
      "                         2023-07-28    128489.505532\n",
      "                         2023-11-19    135025.987312\n",
      "                         2024-01-10    135929.713118\n",
      "                         2024-07-28    146534.885543\n",
      "Къща                     2021-07-28    540442.464286\n",
      "                         2022-01-10    561156.431143\n",
      "                         2022-07-28    580925.376765\n",
      "                         2022-11-19    611945.898250\n",
      "                         2023-01-10    636104.811351\n",
      "                         2023-07-28    750140.223250\n",
      "                         2023-11-19    650469.539444\n",
      "                         2024-01-10    683807.927714\n",
      "                         2024-07-28    645674.505750\n",
      "Многостаен апартамемент  2021-07-28    303980.268293\n",
      "                         2022-01-10    325959.417955\n",
      "                         2022-07-28    409153.686750\n",
      "                         2022-11-19    401162.978235\n",
      "                         2023-01-10    390378.587843\n",
      "                         2023-07-28    365859.256545\n",
      "                         2023-11-19    379444.556078\n",
      "                         2024-01-10    360178.656415\n",
      "                         2024-07-28    426860.527547\n",
      "Тристаен апартамент      2021-07-28    143589.772093\n",
      "                         2022-01-10    157431.857500\n",
      "                         2022-07-28    190931.811839\n",
      "                         2022-11-19    189928.615747\n",
      "                         2023-01-10    192971.282667\n",
      "                         2023-07-28    201610.296264\n",
      "                         2023-11-19    206597.678977\n",
      "                         2024-01-10    208725.653736\n",
      "                         2024-07-28    220629.843371\n",
      "Name: price, dtype: float64\n"
     ]
    }
   ],
   "source": [
    "mean_prices = combined_df.groupby(['apartment_type', 'date'])['price'].mean()\n",
    "\n",
    "print(mean_prices)"
   ]
  },
  {
   "cell_type": "markdown",
   "id": "09f1e4c3-433c-4210-901d-1670bcc74c9a",
   "metadata": {},
   "source": [
    "### Median Prices by Apartment Type and Date"
   ]
  },
  {
   "cell_type": "code",
   "execution_count": 19,
   "id": "eb35083e-c338-4ca3-a24d-23b6c3ef384f",
   "metadata": {},
   "outputs": [
    {
     "name": "stdout",
     "output_type": "stream",
     "text": [
      "apartment_type           date      \n",
      "Ателие, таван, студио    2021-07-28     69866.500\n",
      "                         2022-01-10     79990.000\n",
      "                         2022-07-28     99400.000\n",
      "                         2022-11-19     89664.500\n",
      "                         2023-01-10     71500.000\n",
      "                         2023-07-28    103250.000\n",
      "                         2023-11-19     79500.000\n",
      "                         2024-01-10     85638.750\n",
      "                         2024-07-28     97030.000\n",
      "Гараж, паркомясто        2021-07-28     19675.000\n",
      "                         2022-01-10     23500.000\n",
      "                         2022-07-28     27750.000\n",
      "                         2022-11-19     26475.000\n",
      "                         2023-01-10     26500.000\n",
      "                         2023-07-28     29200.000\n",
      "                         2023-11-19     30000.000\n",
      "                         2024-01-10     28350.000\n",
      "                         2024-07-28     33083.335\n",
      "Двустаен апартамент      2021-07-28     90382.700\n",
      "                         2022-01-10     96699.880\n",
      "                         2022-07-28    110449.050\n",
      "                         2022-11-19    122056.730\n",
      "                         2023-01-10    117625.000\n",
      "                         2023-07-28    124341.290\n",
      "                         2023-11-19    130087.140\n",
      "                         2024-01-10    129125.000\n",
      "                         2024-07-28    138048.900\n",
      "Къща                     2021-07-28    529098.000\n",
      "                         2022-01-10    498732.250\n",
      "                         2022-07-28    537499.690\n",
      "                         2022-11-19    502309.375\n",
      "                         2023-01-10    490000.000\n",
      "                         2023-07-28    632500.000\n",
      "                         2023-11-19    651813.530\n",
      "                         2024-01-10    765000.000\n",
      "                         2024-07-28    511333.330\n",
      "Многостаен апартамемент  2021-07-28    279250.000\n",
      "                         2022-01-10    308125.000\n",
      "                         2022-07-28    397599.920\n",
      "                         2022-11-19    360000.000\n",
      "                         2023-01-10    287450.000\n",
      "                         2023-07-28    297666.340\n",
      "                         2023-11-19    353033.000\n",
      "                         2024-01-10    326000.000\n",
      "                         2024-07-28    429953.000\n",
      "Тристаен апартамент      2021-07-28    137625.500\n",
      "                         2022-01-10    146333.930\n",
      "                         2022-07-28    182760.580\n",
      "                         2022-11-19    173716.080\n",
      "                         2023-01-10    173970.040\n",
      "                         2023-07-28    179606.700\n",
      "                         2023-11-19    189799.070\n",
      "                         2024-01-10    191483.500\n",
      "                         2024-07-28    209953.330\n",
      "Name: price, dtype: float64\n"
     ]
    }
   ],
   "source": [
    "median_prices = combined_df.groupby(['apartment_type', 'date'])['price'].median()\n",
    "print(median_prices)"
   ]
  },
  {
   "cell_type": "markdown",
   "id": "c1ad5367-1b12-4554-8ab5-6d83ce849b27",
   "metadata": {},
   "source": [
    "### Identify Outliers"
   ]
  },
  {
   "cell_type": "code",
   "execution_count": null,
   "id": "6501eb2f-beb2-44be-a0b6-cfef10ca789d",
   "metadata": {},
   "outputs": [],
   "source": [
    "Q1 = combined_df['price_per_sqm'].quantile(0.25)\n",
    "Q3 = combined_df['price_per_sqm'].quantile(0.75)\n",
    "IQR = Q3 - Q1\n",
    "\n",
    "# Define outliers\n",
    "lower_bound = Q1 - 1.5 * IQR\n",
    "upper_bound = Q3 + 1.5 * IQR\n",
    "\n",
    "outliers = combined_df[(combined_df['price_per_sqm'] < lower_bound) | (combined_df['price_per_sqm'] > upper_bound)]\n",
    "outliers"
   ]
  },
  {
   "cell_type": "markdown",
   "id": "b667d5fd-cd8f-4003-b087-9b8ebf0ce870",
   "metadata": {},
   "source": [
    "### Removing the outliers"
   ]
  },
  {
   "cell_type": "code",
   "execution_count": null,
   "id": "4fa13f56-8647-46d5-b4e4-70d3eb8a864f",
   "metadata": {},
   "outputs": [],
   "source": [
    "combined_df = combined_df[(combined_df['price_per_sqm'] >= lower_bound) & (combined_df['price_per_sqm'] <= upper_bound)].copy()"
   ]
  },
  {
   "cell_type": "code",
   "execution_count": null,
   "id": "d6b1f045-feae-4a0a-98e3-15f3e8fa7ae5",
   "metadata": {},
   "outputs": [],
   "source": [
    "plt.figure(figsize=(14, 8))\n",
    "\n",
    "for apartment_type in combined_df['apartment_type'].unique():\n",
    "    filtered_df = combined_df[combined_df['apartment_type'] == apartment_type]\n",
    "    price_over_time = filtered_df.groupby('date')['price_per_sqm'].mean()\n",
    "    plt.plot(price_over_time.index, price_over_time.values, marker='o', label=apartment_type)\n",
    "\n",
    "plt.title('Price Trends Over Time by Apartment Type (Outliers Handled)')\n",
    "plt.xlabel('Date')\n",
    "plt.ylabel('Average Price per Sq.m (EUR)')\n",
    "plt.xticks(rotation=45)\n",
    "plt.legend(title='Apartment Type')\n",
    "plt.grid(True)\n",
    "plt.show()"
   ]
  },
  {
   "cell_type": "markdown",
   "id": "68e3e3e1-8fca-43b6-ae64-85d40711e5c2",
   "metadata": {},
   "source": [
    "# Let's prepear the model and train it:"
   ]
  },
  {
   "cell_type": "markdown",
   "id": "c518bb84-39dd-4490-9663-b76007dab61b",
   "metadata": {},
   "source": [
    "Extract date features:"
   ]
  },
  {
   "cell_type": "code",
   "execution_count": null,
   "id": "e5aaa1f5-4b5e-4e75-b0d9-bc51074d2d01",
   "metadata": {},
   "outputs": [],
   "source": [
    "combined_df['year'] = combined_df['date'].dt.year\n",
    "combined_df['month'] = combined_df['date'].dt.month"
   ]
  },
  {
   "cell_type": "markdown",
   "id": "cd702f61-851c-48f7-9d4f-72cd8a14de39",
   "metadata": {},
   "source": [
    "Drop the original 'Дата' column and unnecessary columns:"
   ]
  },
  {
   "cell_type": "code",
   "execution_count": null,
   "id": "2fa01a6b-f564-4a72-adc6-89f54ddf7d8a",
   "metadata": {},
   "outputs": [],
   "source": [
    "combined_df = combined_df.drop(columns=['date', 'currency', 'price'])"
   ]
  },
  {
   "cell_type": "code",
   "execution_count": null,
   "id": "2352e11a-9114-4a39-887f-6d6f1c2d6981",
   "metadata": {},
   "outputs": [],
   "source": [
    "combined_df"
   ]
  },
  {
   "cell_type": "markdown",
   "id": "dd9b22b6-067a-4f2f-9a32-f9a0a7df7bd8",
   "metadata": {},
   "source": [
    "Encode categorical variables:"
   ]
  },
  {
   "cell_type": "code",
   "execution_count": null,
   "id": "4a6c7145-228c-4286-9242-699ea8a01b5f",
   "metadata": {},
   "outputs": [],
   "source": [
    "label_encoder_region = LabelEncoder()\n",
    "label_encoder_apartment_type = LabelEncoder()\n",
    "\n",
    "combined_df['region'] = label_encoder_region.fit_transform(combined_df['region'])\n",
    "combined_df['apartment_type'] = label_encoder_apartment_type.fit_transform(combined_df['apartment_type'])"
   ]
  },
  {
   "cell_type": "markdown",
   "id": "f5b42ff5-01da-4d64-9a63-8338d07cc00f",
   "metadata": {},
   "source": [
    "Define features and target:"
   ]
  },
  {
   "cell_type": "code",
   "execution_count": null,
   "id": "02d69f07-925d-4c8c-9d83-444f58090f30",
   "metadata": {},
   "outputs": [],
   "source": [
    "X = combined_df.drop(columns=['price_per_sqm'], axis=1) \n",
    "y = combined_df['price_per_sqm']  # Target variable"
   ]
  },
  {
   "cell_type": "code",
   "execution_count": null,
   "id": "dd0456e5-45bc-4707-b195-36f6121f408b",
   "metadata": {},
   "outputs": [],
   "source": [
    "X"
   ]
  },
  {
   "cell_type": "markdown",
   "id": "25d75bc5-ffe9-46b5-ad49-33cf8e76e747",
   "metadata": {},
   "source": [
    "Split the data into training and testing sets:"
   ]
  },
  {
   "cell_type": "code",
   "execution_count": null,
   "id": "c6d66883-a82b-477e-9b46-abd0cbea545d",
   "metadata": {},
   "outputs": [],
   "source": [
    "X_train, X_test, y_train, y_test = train_test_split(X, y, test_size=0.2, random_state=42)"
   ]
  },
  {
   "cell_type": "code",
   "execution_count": null,
   "id": "0948594e-624a-4bf0-a395-fdbbc4d3c50f",
   "metadata": {},
   "outputs": [],
   "source": [
    "X_train"
   ]
  },
  {
   "cell_type": "code",
   "execution_count": null,
   "id": "59fc0c57-da6a-4e6c-93f2-c2c96bd3b898",
   "metadata": {},
   "outputs": [],
   "source": [
    "y_train"
   ]
  },
  {
   "cell_type": "code",
   "execution_count": null,
   "id": "bbac97e1-88f6-4da0-b6f7-37e0f4e2d3f9",
   "metadata": {},
   "outputs": [],
   "source": [
    "X_train.shape, y_test.shape"
   ]
  },
  {
   "cell_type": "code",
   "execution_count": null,
   "id": "bb3e2ab9-3d37-4c6d-b30a-f21bc30e09ab",
   "metadata": {},
   "outputs": [],
   "source": [
    "X_test.shape, y_train.shape"
   ]
  },
  {
   "cell_type": "markdown",
   "id": "33914d85-3e5b-4d7d-b7fe-2b04c995391a",
   "metadata": {},
   "source": [
    "## Train the model"
   ]
  },
  {
   "cell_type": "code",
   "execution_count": null,
   "id": "48519be3-2ebc-4845-a5da-df7030d37089",
   "metadata": {},
   "outputs": [],
   "source": [
    "model = LinearRegression()"
   ]
  },
  {
   "cell_type": "code",
   "execution_count": null,
   "id": "e452dc30-1c9d-4b28-9eb7-5217f70af013",
   "metadata": {},
   "outputs": [],
   "source": [
    "model.fit(X_train, y_train)"
   ]
  },
  {
   "cell_type": "markdown",
   "id": "1fa02018-cd3a-4bd3-92e9-f68e354fb3d5",
   "metadata": {},
   "source": [
    "## Prediction results"
   ]
  },
  {
   "cell_type": "code",
   "execution_count": null,
   "id": "e036644c-982e-4b56-8afb-e57771180fed",
   "metadata": {},
   "outputs": [],
   "source": [
    "y_pred = model.predict(X_test)"
   ]
  },
  {
   "cell_type": "code",
   "execution_count": null,
   "id": "0fb6d187-e5a9-4c9b-948f-3262f96afbb8",
   "metadata": {},
   "outputs": [],
   "source": [
    "y_pred"
   ]
  },
  {
   "cell_type": "markdown",
   "id": "a37c26c6-4e38-4e94-b623-ecb344481080",
   "metadata": {},
   "source": [
    "## Make predictions"
   ]
  },
  {
   "cell_type": "code",
   "execution_count": null,
   "id": "43771b01-6ea2-40d7-b7c2-169c7b456b29",
   "metadata": {},
   "outputs": [],
   "source": [
    "# Example: Predicting for 2025 with specific assumptions for features\n",
    "future_data = {\n",
    "    'region': label_encoder_region.transform(['Банишора', 'Белите Брези']),  # Encode regions\n",
    "    'apartment_type': label_encoder_apartment_type.transform(['Двустаен апартамент', 'Тристаен апартамент']),  # Encode apartment types\n",
    "    'year': [2025] * 2,  # Assuming 2 predictions for example purposes\n",
    "    'month': [1, 1],  # Predicting for January 2025\n",
    "}\n",
    "\n",
    "# Convert to DataFrame\n",
    "future_X = pd.DataFrame(future_data)\n",
    "\n",
    "# Make predictions\n",
    "future_predictions = model.predict(future_X)"
   ]
  },
  {
   "cell_type": "code",
   "execution_count": null,
   "id": "bb33a960-37ef-426b-b59b-87b9c6a0226e",
   "metadata": {},
   "outputs": [],
   "source": [
    "# Decode the encoded labels back to their original strings\n",
    "decoded_regions = label_encoder_region.inverse_transform(future_data['region'])\n",
    "decoded_apartment_types = label_encoder_apartment_type.inverse_transform(future_data['apartment_type'])\n",
    "\n",
    "# Display predictions with original labels\n",
    "for i, prediction in enumerate(future_predictions):\n",
    "    region_label = decoded_regions[i]\n",
    "    apartment_type_label = decoded_apartment_types[i]\n",
    "    print(f\"Prediction for {region_label} - {apartment_type_label}: {prediction:.2f} per square meter\")"
   ]
  },
  {
   "cell_type": "markdown",
   "id": "5e08740c-6aa0-42a0-871d-18730e94455c",
   "metadata": {},
   "source": [
    "## Evaluate the model"
   ]
  },
  {
   "cell_type": "code",
   "execution_count": null,
   "id": "8d51ef51-a33c-4071-a6c5-86d8047c9a9c",
   "metadata": {},
   "outputs": [],
   "source": [
    "cdf = pd.DataFrame(model.coef_, X.columns, columns=['coefficients'])\n",
    "cdf"
   ]
  },
  {
   "cell_type": "code",
   "execution_count": null,
   "id": "712083e0-28f9-49c0-bdc0-3ed00d094e3a",
   "metadata": {},
   "outputs": [],
   "source": [
    "mse = mean_squared_error(y_test, y_pred)\n",
    "rmse = np.sqrt(mse)"
   ]
  },
  {
   "cell_type": "code",
   "execution_count": null,
   "id": "9a319287-ac44-4a6f-bdc2-329d78f2138e",
   "metadata": {},
   "outputs": [],
   "source": [
    "print(\"Coefficients:\", *model.coef_)\n",
    "print(\"Intercept:\", model.intercept_)\n",
    "print(\"Mean Absolute Error: \", mean_absolute_error(y_test, y_pred))\n",
    "print(f\"Mean squared error (MSE): {mse:.2f}\")\n",
    "print(f\"Root Mean Squared Error: {rmse:.2f}\")\n",
    "print(f\"Coefficient of determination (R^2): {r2_score(y_test, y_pred):.2f}\")"
   ]
  },
  {
   "cell_type": "markdown",
   "id": "94a314a9-bda4-4a81-929f-04abd16e7728",
   "metadata": {},
   "source": [
    "## Residuals"
   ]
  },
  {
   "cell_type": "code",
   "execution_count": null,
   "id": "eba839c8-3434-4cc7-a902-192d9f199f4a",
   "metadata": {},
   "outputs": [],
   "source": [
    "residuals = y_test - y_pred"
   ]
  },
  {
   "cell_type": "code",
   "execution_count": null,
   "id": "a747d36c-02e2-4a30-8975-93c4bbf49da6",
   "metadata": {},
   "outputs": [],
   "source": [
    "residuals"
   ]
  }
 ],
 "metadata": {
  "kernelspec": {
   "display_name": "Python 3 (ipykernel)",
   "language": "python",
   "name": "python3"
  },
  "language_info": {
   "codemirror_mode": {
    "name": "ipython",
    "version": 3
   },
   "file_extension": ".py",
   "mimetype": "text/x-python",
   "name": "python",
   "nbconvert_exporter": "python",
   "pygments_lexer": "ipython3",
   "version": "3.9.12"
  }
 },
 "nbformat": 4,
 "nbformat_minor": 5
}
