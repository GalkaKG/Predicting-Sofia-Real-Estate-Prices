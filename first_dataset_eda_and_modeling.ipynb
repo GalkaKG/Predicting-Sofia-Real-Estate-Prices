{
 "cells": [
  {
   "cell_type": "code",
   "execution_count": 1,
   "id": "d840f8c1-ae28-47fd-843b-e16bfc304f8e",
   "metadata": {},
   "outputs": [],
   "source": [
    "%matplotlib inline"
   ]
  },
  {
   "cell_type": "code",
   "execution_count": 2,
   "id": "8ec18ee0-d81c-48b8-abe9-dc192ce80041",
   "metadata": {},
   "outputs": [],
   "source": [
    "import numpy as np\n",
    "import pandas as pd\n",
    "import matplotlib.pyplot as plt\n",
    "import seaborn as sns\n",
    "\n",
    "from sklearn.model_selection import train_test_split\n",
    "from sklearn.linear_model import LinearRegression\n",
    "from sklearn.metrics import mean_squared_error, mean_absolute_error, r2_score\n",
    "\n",
    "from sklearn.preprocessing import StandardScaler, OneHotEncoder\n",
    "from sklearn.compose import ColumnTransformer\n",
    "from sklearn.pipeline import Pipeline\n",
    "from sklearn.ensemble import RandomForestRegressor\n",
    "\n",
    "from sklearn.preprocessing import LabelEncoder"
   ]
  },
  {
   "cell_type": "markdown",
   "id": "b5b27a86-9168-4363-8cdc-6813a53978c8",
   "metadata": {},
   "source": [
    "Let's read the first dataset that we have:"
   ]
  },
  {
   "cell_type": "code",
   "execution_count": 3,
   "id": "ad9af972-c54a-45d7-bfa6-768e10053060",
   "metadata": {},
   "outputs": [],
   "source": [
    "combined_df = pd.read_csv(\"data/property_prices_combined.csv\")"
   ]
  },
  {
   "cell_type": "markdown",
   "id": "bce9d7c3-0533-47f6-8dfb-42ae9eaa734f",
   "metadata": {},
   "source": [
    "And check it:"
   ]
  },
  {
   "cell_type": "code",
   "execution_count": 4,
   "id": "6af98695-6b72-496d-adb8-b2ebdd3615f8",
   "metadata": {},
   "outputs": [
    {
     "data": {
      "text/html": [
       "<div>\n",
       "<style scoped>\n",
       "    .dataframe tbody tr th:only-of-type {\n",
       "        vertical-align: middle;\n",
       "    }\n",
       "\n",
       "    .dataframe tbody tr th {\n",
       "        vertical-align: top;\n",
       "    }\n",
       "\n",
       "    .dataframe thead th {\n",
       "        text-align: right;\n",
       "    }\n",
       "</style>\n",
       "<table border=\"1\" class=\"dataframe\">\n",
       "  <thead>\n",
       "    <tr style=\"text-align: right;\">\n",
       "      <th></th>\n",
       "      <th>Район</th>\n",
       "      <th>Цена</th>\n",
       "      <th>Цена / кв.м.</th>\n",
       "      <th>Валута</th>\n",
       "      <th>Тип Апартамент</th>\n",
       "      <th>Дата</th>\n",
       "    </tr>\n",
       "  </thead>\n",
       "  <tbody>\n",
       "    <tr>\n",
       "      <th>0</th>\n",
       "      <td>Банишора</td>\n",
       "      <td>134653.98</td>\n",
       "      <td>1987.51</td>\n",
       "      <td>EUR</td>\n",
       "      <td>Двустаен апартамент</td>\n",
       "      <td>2024-07-28</td>\n",
       "    </tr>\n",
       "    <tr>\n",
       "      <th>1</th>\n",
       "      <td>Банкя (гр.)</td>\n",
       "      <td>131843.00</td>\n",
       "      <td>1890.84</td>\n",
       "      <td>EUR</td>\n",
       "      <td>Двустаен апартамент</td>\n",
       "      <td>2024-07-28</td>\n",
       "    </tr>\n",
       "    <tr>\n",
       "      <th>2</th>\n",
       "      <td>Белите Брези</td>\n",
       "      <td>249900.00</td>\n",
       "      <td>2108.86</td>\n",
       "      <td>EUR</td>\n",
       "      <td>Двустаен апартамент</td>\n",
       "      <td>2024-07-28</td>\n",
       "    </tr>\n",
       "    <tr>\n",
       "      <th>3</th>\n",
       "      <td>Бенковски</td>\n",
       "      <td>115863.50</td>\n",
       "      <td>1782.52</td>\n",
       "      <td>EUR</td>\n",
       "      <td>Двустаен апартамент</td>\n",
       "      <td>2024-07-28</td>\n",
       "    </tr>\n",
       "    <tr>\n",
       "      <th>4</th>\n",
       "      <td>Борово</td>\n",
       "      <td>135594.22</td>\n",
       "      <td>2148.50</td>\n",
       "      <td>EUR</td>\n",
       "      <td>Двустаен апартамент</td>\n",
       "      <td>2024-07-28</td>\n",
       "    </tr>\n",
       "    <tr>\n",
       "      <th>...</th>\n",
       "      <td>...</td>\n",
       "      <td>...</td>\n",
       "      <td>...</td>\n",
       "      <td>...</td>\n",
       "      <td>...</td>\n",
       "      <td>...</td>\n",
       "    </tr>\n",
       "    <tr>\n",
       "      <th>2768</th>\n",
       "      <td>Стрелбище</td>\n",
       "      <td>175333.00</td>\n",
       "      <td>1075.67</td>\n",
       "      <td>EUR</td>\n",
       "      <td>Многостаен апартамемент</td>\n",
       "      <td>2021-07-28</td>\n",
       "    </tr>\n",
       "    <tr>\n",
       "      <th>2769</th>\n",
       "      <td>Студентски Град</td>\n",
       "      <td>222600.00</td>\n",
       "      <td>718.84</td>\n",
       "      <td>EUR</td>\n",
       "      <td>Многостаен апартамемент</td>\n",
       "      <td>2021-07-28</td>\n",
       "    </tr>\n",
       "    <tr>\n",
       "      <th>2770</th>\n",
       "      <td>Хаджи Димитър</td>\n",
       "      <td>205000.00</td>\n",
       "      <td>1045.92</td>\n",
       "      <td>EUR</td>\n",
       "      <td>Многостаен апартамемент</td>\n",
       "      <td>2021-07-28</td>\n",
       "    </tr>\n",
       "    <tr>\n",
       "      <th>2771</th>\n",
       "      <td>Хиподрума</td>\n",
       "      <td>330000.00</td>\n",
       "      <td>2357.14</td>\n",
       "      <td>EUR</td>\n",
       "      <td>Многостаен апартамемент</td>\n",
       "      <td>2021-07-28</td>\n",
       "    </tr>\n",
       "    <tr>\n",
       "      <th>2772</th>\n",
       "      <td>Център</td>\n",
       "      <td>564114.00</td>\n",
       "      <td>2689.00</td>\n",
       "      <td>EUR</td>\n",
       "      <td>Многостаен апартамемент</td>\n",
       "      <td>2021-07-28</td>\n",
       "    </tr>\n",
       "  </tbody>\n",
       "</table>\n",
       "<p>2773 rows × 6 columns</p>\n",
       "</div>"
      ],
      "text/plain": [
       "                Район       Цена  Цена / кв.м. Валута  \\\n",
       "0            Банишора  134653.98       1987.51    EUR   \n",
       "1         Банкя (гр.)  131843.00       1890.84    EUR   \n",
       "2        Белите Брези  249900.00       2108.86    EUR   \n",
       "3           Бенковски  115863.50       1782.52    EUR   \n",
       "4              Борово  135594.22       2148.50    EUR   \n",
       "...               ...        ...           ...    ...   \n",
       "2768        Стрелбище  175333.00       1075.67    EUR   \n",
       "2769  Студентски Град  222600.00        718.84    EUR   \n",
       "2770    Хаджи Димитър  205000.00       1045.92    EUR   \n",
       "2771        Хиподрума  330000.00       2357.14    EUR   \n",
       "2772           Център  564114.00       2689.00    EUR   \n",
       "\n",
       "               Тип Апартамент        Дата  \n",
       "0         Двустаен апартамент  2024-07-28  \n",
       "1         Двустаен апартамент  2024-07-28  \n",
       "2         Двустаен апартамент  2024-07-28  \n",
       "3         Двустаен апартамент  2024-07-28  \n",
       "4         Двустаен апартамент  2024-07-28  \n",
       "...                       ...         ...  \n",
       "2768  Многостаен апартамемент  2021-07-28  \n",
       "2769  Многостаен апартамемент  2021-07-28  \n",
       "2770  Многостаен апартамемент  2021-07-28  \n",
       "2771  Многостаен апартамемент  2021-07-28  \n",
       "2772  Многостаен апартамемент  2021-07-28  \n",
       "\n",
       "[2773 rows x 6 columns]"
      ]
     },
     "execution_count": 4,
     "metadata": {},
     "output_type": "execute_result"
    }
   ],
   "source": [
    "combined_df"
   ]
  },
  {
   "cell_type": "markdown",
   "id": "4ff98bf4-abd9-45ae-8bd6-ea8cb7db7773",
   "metadata": {},
   "source": [
    "Let's normalize the titles like convert the column names from Bulgarian to English:"
   ]
  },
  {
   "cell_type": "code",
   "execution_count": 5,
   "id": "94c207a3-7e04-4aba-9233-5ce313d8eec0",
   "metadata": {},
   "outputs": [
    {
     "data": {
      "text/html": [
       "<div>\n",
       "<style scoped>\n",
       "    .dataframe tbody tr th:only-of-type {\n",
       "        vertical-align: middle;\n",
       "    }\n",
       "\n",
       "    .dataframe tbody tr th {\n",
       "        vertical-align: top;\n",
       "    }\n",
       "\n",
       "    .dataframe thead th {\n",
       "        text-align: right;\n",
       "    }\n",
       "</style>\n",
       "<table border=\"1\" class=\"dataframe\">\n",
       "  <thead>\n",
       "    <tr style=\"text-align: right;\">\n",
       "      <th></th>\n",
       "      <th>region</th>\n",
       "      <th>price</th>\n",
       "      <th>price_per_sqm</th>\n",
       "      <th>currency</th>\n",
       "      <th>apartment_type</th>\n",
       "      <th>date</th>\n",
       "    </tr>\n",
       "  </thead>\n",
       "  <tbody>\n",
       "    <tr>\n",
       "      <th>0</th>\n",
       "      <td>Банишора</td>\n",
       "      <td>134653.98</td>\n",
       "      <td>1987.51</td>\n",
       "      <td>EUR</td>\n",
       "      <td>Двустаен апартамент</td>\n",
       "      <td>2024-07-28</td>\n",
       "    </tr>\n",
       "    <tr>\n",
       "      <th>1</th>\n",
       "      <td>Банкя (гр.)</td>\n",
       "      <td>131843.00</td>\n",
       "      <td>1890.84</td>\n",
       "      <td>EUR</td>\n",
       "      <td>Двустаен апартамент</td>\n",
       "      <td>2024-07-28</td>\n",
       "    </tr>\n",
       "    <tr>\n",
       "      <th>2</th>\n",
       "      <td>Белите Брези</td>\n",
       "      <td>249900.00</td>\n",
       "      <td>2108.86</td>\n",
       "      <td>EUR</td>\n",
       "      <td>Двустаен апартамент</td>\n",
       "      <td>2024-07-28</td>\n",
       "    </tr>\n",
       "    <tr>\n",
       "      <th>3</th>\n",
       "      <td>Бенковски</td>\n",
       "      <td>115863.50</td>\n",
       "      <td>1782.52</td>\n",
       "      <td>EUR</td>\n",
       "      <td>Двустаен апартамент</td>\n",
       "      <td>2024-07-28</td>\n",
       "    </tr>\n",
       "    <tr>\n",
       "      <th>4</th>\n",
       "      <td>Борово</td>\n",
       "      <td>135594.22</td>\n",
       "      <td>2148.50</td>\n",
       "      <td>EUR</td>\n",
       "      <td>Двустаен апартамент</td>\n",
       "      <td>2024-07-28</td>\n",
       "    </tr>\n",
       "  </tbody>\n",
       "</table>\n",
       "</div>"
      ],
      "text/plain": [
       "         region      price  price_per_sqm currency       apartment_type  \\\n",
       "0      Банишора  134653.98        1987.51      EUR  Двустаен апартамент   \n",
       "1   Банкя (гр.)  131843.00        1890.84      EUR  Двустаен апартамент   \n",
       "2  Белите Брези  249900.00        2108.86      EUR  Двустаен апартамент   \n",
       "3     Бенковски  115863.50        1782.52      EUR  Двустаен апартамент   \n",
       "4        Борово  135594.22        2148.50      EUR  Двустаен апартамент   \n",
       "\n",
       "         date  \n",
       "0  2024-07-28  \n",
       "1  2024-07-28  \n",
       "2  2024-07-28  \n",
       "3  2024-07-28  \n",
       "4  2024-07-28  "
      ]
     },
     "execution_count": 5,
     "metadata": {},
     "output_type": "execute_result"
    }
   ],
   "source": [
    "combined_df = combined_df.rename(columns={\n",
    "    'Район': 'region',\n",
    "    'Цена': 'price',\n",
    "    'Цена / кв.м.': 'price_per_sqm',\n",
    "    'Валута': 'currency',\n",
    "    'Тип Апартамент': 'apartment_type',\n",
    "    'Дата': 'date'\n",
    "})\n",
    "\n",
    "\n",
    "combined_df.head()"
   ]
  },
  {
   "cell_type": "markdown",
   "id": "fbce8316-19da-48ab-a496-2567688a1b38",
   "metadata": {},
   "source": [
    "#### Let's take a closer look at the dataset."
   ]
  },
  {
   "cell_type": "code",
   "execution_count": 6,
   "id": "e2bbed30-2abe-4400-b3b3-b490da5a9863",
   "metadata": {},
   "outputs": [
    {
     "data": {
      "text/plain": [
       "(2773, 6)"
      ]
     },
     "execution_count": 6,
     "metadata": {},
     "output_type": "execute_result"
    }
   ],
   "source": [
    "combined_df.shape"
   ]
  },
  {
   "cell_type": "markdown",
   "id": "06fcb9e7-96c1-4ca5-8eb7-f9d35bcb6a13",
   "metadata": {},
   "source": [
    "It has 2773 observations and 6 features."
   ]
  },
  {
   "cell_type": "code",
   "execution_count": 7,
   "id": "3ef4ff2a-74d6-44fc-af8c-721c035bba8f",
   "metadata": {},
   "outputs": [
    {
     "data": {
      "text/html": [
       "<div>\n",
       "<style scoped>\n",
       "    .dataframe tbody tr th:only-of-type {\n",
       "        vertical-align: middle;\n",
       "    }\n",
       "\n",
       "    .dataframe tbody tr th {\n",
       "        vertical-align: top;\n",
       "    }\n",
       "\n",
       "    .dataframe thead th {\n",
       "        text-align: right;\n",
       "    }\n",
       "</style>\n",
       "<table border=\"1\" class=\"dataframe\">\n",
       "  <thead>\n",
       "    <tr style=\"text-align: right;\">\n",
       "      <th></th>\n",
       "      <th>count</th>\n",
       "      <th>mean</th>\n",
       "      <th>std</th>\n",
       "      <th>min</th>\n",
       "      <th>25%</th>\n",
       "      <th>50%</th>\n",
       "      <th>75%</th>\n",
       "      <th>max</th>\n",
       "    </tr>\n",
       "  </thead>\n",
       "  <tbody>\n",
       "    <tr>\n",
       "      <th>price</th>\n",
       "      <td>2773.0</td>\n",
       "      <td>231937.814468</td>\n",
       "      <td>255154.727056</td>\n",
       "      <td>6500.0</td>\n",
       "      <td>103565.00</td>\n",
       "      <td>156238.61</td>\n",
       "      <td>255161.11</td>\n",
       "      <td>3000000.0</td>\n",
       "    </tr>\n",
       "    <tr>\n",
       "      <th>price_per_sqm</th>\n",
       "      <td>2773.0</td>\n",
       "      <td>1719.033722</td>\n",
       "      <td>635.308852</td>\n",
       "      <td>17.4</td>\n",
       "      <td>1335.48</td>\n",
       "      <td>1634.61</td>\n",
       "      <td>2000.00</td>\n",
       "      <td>8200.0</td>\n",
       "    </tr>\n",
       "  </tbody>\n",
       "</table>\n",
       "</div>"
      ],
      "text/plain": [
       "                count           mean            std     min        25%  \\\n",
       "price          2773.0  231937.814468  255154.727056  6500.0  103565.00   \n",
       "price_per_sqm  2773.0    1719.033722     635.308852    17.4    1335.48   \n",
       "\n",
       "                     50%        75%        max  \n",
       "price          156238.61  255161.11  3000000.0  \n",
       "price_per_sqm    1634.61    2000.00     8200.0  "
      ]
     },
     "execution_count": 7,
     "metadata": {},
     "output_type": "execute_result"
    }
   ],
   "source": [
    "combined_df.describe().T"
   ]
  },
  {
   "cell_type": "code",
   "execution_count": 8,
   "id": "3fa51c5d-f54f-40ce-b4ff-33c8dfcb8085",
   "metadata": {},
   "outputs": [
    {
     "name": "stdout",
     "output_type": "stream",
     "text": [
      "<class 'pandas.core.frame.DataFrame'>\n",
      "RangeIndex: 2773 entries, 0 to 2772\n",
      "Data columns (total 6 columns):\n",
      " #   Column          Non-Null Count  Dtype  \n",
      "---  ------          --------------  -----  \n",
      " 0   region          2773 non-null   object \n",
      " 1   price           2773 non-null   float64\n",
      " 2   price_per_sqm   2773 non-null   float64\n",
      " 3   currency        2773 non-null   object \n",
      " 4   apartment_type  2773 non-null   object \n",
      " 5   date            2773 non-null   object \n",
      "dtypes: float64(2), object(4)\n",
      "memory usage: 130.1+ KB\n"
     ]
    }
   ],
   "source": [
    "combined_df.info()"
   ]
  },
  {
   "cell_type": "code",
   "execution_count": 9,
   "id": "abef06dd-0268-4e41-9577-6c5e5d077ecc",
   "metadata": {},
   "outputs": [
    {
     "data": {
      "text/plain": [
       "region             object\n",
       "price             float64\n",
       "price_per_sqm     float64\n",
       "currency           object\n",
       "apartment_type     object\n",
       "date               object\n",
       "dtype: object"
      ]
     },
     "execution_count": 9,
     "metadata": {},
     "output_type": "execute_result"
    }
   ],
   "source": [
    "combined_df.dtypes"
   ]
  },
  {
   "cell_type": "markdown",
   "id": "1aa06d4a-4730-426a-b707-27bae4770117",
   "metadata": {},
   "source": [
    "Let's convert the \"date\" column in the correct data type:"
   ]
  },
  {
   "cell_type": "code",
   "execution_count": 10,
   "id": "99c16360-33e7-4c5b-86fb-83f483c21b49",
   "metadata": {},
   "outputs": [],
   "source": [
    "combined_df[\"date\"] = pd.to_datetime(combined_df[\"date\"])"
   ]
  },
  {
   "cell_type": "markdown",
   "id": "eebff2c6-bb9f-4bf9-a1cf-85a73b1bdfa2",
   "metadata": {},
   "source": [
    "Check the converted format:"
   ]
  },
  {
   "cell_type": "code",
   "execution_count": 11,
   "id": "8b4effe6-667e-4997-a3ab-98ed7dfec5db",
   "metadata": {},
   "outputs": [
    {
     "data": {
      "text/plain": [
       "0      2024-07-28\n",
       "1      2024-07-28\n",
       "2      2024-07-28\n",
       "3      2024-07-28\n",
       "4      2024-07-28\n",
       "          ...    \n",
       "2768   2021-07-28\n",
       "2769   2021-07-28\n",
       "2770   2021-07-28\n",
       "2771   2021-07-28\n",
       "2772   2021-07-28\n",
       "Name: date, Length: 2773, dtype: datetime64[ns]"
      ]
     },
     "execution_count": 11,
     "metadata": {},
     "output_type": "execute_result"
    }
   ],
   "source": [
    "combined_df[\"date\"]"
   ]
  },
  {
   "cell_type": "markdown",
   "id": "8b232f53-5258-4892-a7d9-08cf890bf259",
   "metadata": {},
   "source": [
    "Check for NaN values:"
   ]
  },
  {
   "cell_type": "code",
   "execution_count": 12,
   "id": "ddb6b32f-149f-465a-b3e4-f56928dbc229",
   "metadata": {},
   "outputs": [
    {
     "data": {
      "text/plain": [
       "region            0\n",
       "price             0\n",
       "price_per_sqm     0\n",
       "currency          0\n",
       "apartment_type    0\n",
       "date              0\n",
       "dtype: int64"
      ]
     },
     "execution_count": 12,
     "metadata": {},
     "output_type": "execute_result"
    }
   ],
   "source": [
    "combined_df.isna().sum()"
   ]
  },
  {
   "cell_type": "markdown",
   "id": "731d3650-e43b-4d4f-aa0b-92e95c7e2ba6",
   "metadata": {},
   "source": [
    "We don't have null values in this dataset."
   ]
  },
  {
   "cell_type": "markdown",
   "id": "132cdbb9-629e-4514-b883-672dc05f4fd3",
   "metadata": {},
   "source": [
    "### Let's plot the prices over time for each apartment type:"
   ]
  },
  {
   "cell_type": "code",
   "execution_count": 13,
   "id": "ab079319-9902-44c6-af3e-bc1153391f63",
   "metadata": {},
   "outputs": [
    {
     "data": {
      "image/png": "[encoded data removed]",
      "text/plain": [
       "<Figure size 1008x576 with 1 Axes>"
      ]
     },
     "metadata": {
      "needs_background": "light"
     },
     "output_type": "display_data"
    }
   ],
   "source": [
    "apartment_types = combined_df[\"apartment_type\"].unique()\n",
    "\n",
    "plt.figure(figsize=(14, 8))\n",
    "\n",
    "for apartment_type in apartment_types:\n",
    "    # Filter the DataFrame by apartment type\n",
    "    filtered_df = combined_df[combined_df[\"apartment_type\"] == apartment_type]\n",
    "    \n",
    "    # Group by date and calculate the mean price for each date\n",
    "    price_over_time = filtered_df.groupby('date')['price'].median()\n",
    "    \n",
    "    # Plot the line for this apartment type\n",
    "    plt.plot(price_over_time.index, price_over_time.values, marker='o', label=apartment_type)\n",
    "\n",
    "plt.title('Price Trends Over Time by Apartment Type')\n",
    "plt.xlabel('Date')\n",
    "plt.ylabel('Average Price (EUR)')\n",
    "plt.xticks(rotation=45)\n",
    "plt.legend(title='Apartment Type')\n",
    "plt.grid(True)\n",
    "plt.show()"
   ]
  },
  {
   "cell_type": "markdown",
   "id": "dbb7566c-3c03-471a-8fb3-b3874f4663ee",
   "metadata": {},
   "source": [
    "Let's see how many unique Ragions we have:"
   ]
  },
  {
   "cell_type": "code",
   "execution_count": 14,
   "id": "73128cbe-9126-4248-ac53-d0bd90ff100b",
   "metadata": {},
   "outputs": [
    {
     "data": {
      "text/plain": [
       "102"
      ]
     },
     "execution_count": 14,
     "metadata": {},
     "output_type": "execute_result"
    }
   ],
   "source": [
    "len(combined_df['region'].unique())"
   ]
  },
  {
   "cell_type": "markdown",
   "id": "6fbfd227-d104-4c79-aabe-c7b4bd68e19b",
   "metadata": {},
   "source": [
    "And which they are:"
   ]
  },
  {
   "cell_type": "code",
   "execution_count": 15,
   "id": "c2d5b49c-c28d-4f42-bb64-044887c4f24a",
   "metadata": {},
   "outputs": [
    {
     "data": {
      "text/plain": [
       "array(['Банишора', 'Банкя (гр.)', 'Белите Брези', 'Бенковски', 'Борово',\n",
       "       'Бояна', 'Бъкстон', 'Витоша', 'Гевгелийски', 'Гео Милев',\n",
       "       'Горна Баня', 'Гоце Делчев', 'Дианабад', 'Драгалевци', 'Дружба',\n",
       "       'Дружба 1', 'Дружба 2', 'Дървеница', 'Западен Парк',\n",
       "       'Захарна Фабрика', 'Зона Б18', 'Зона Б19', 'Зона Б5', 'Иван Вазов',\n",
       "       'Изгрев', 'Изток', 'Илинден', 'Княжево', 'Красна Поляна',\n",
       "       'Красно Село', 'Кръстова Вада', 'Лагера', 'Левски', 'Левски В',\n",
       "       'Левски Г', 'Лозенец', 'Люлин 1', 'Люлин 10', 'Люлин 2', 'Люлин 3',\n",
       "       'Люлин 4', 'Люлин 5', 'Люлин 6', 'Люлин 7', 'Люлин 8', 'Люлин 9',\n",
       "       'Люлин Център', 'м-т Гърдова глава', 'Малинова Долина',\n",
       "       'Малинова долина в.з.', 'Манастирски ливади Запад',\n",
       "       'Манастирски ливади Изток', 'Младост 1', 'Младост 1а', 'Младост 2',\n",
       "       'Младост 3', 'Младост 4', 'Мотописта', 'Мусагеница', 'Надежда 1',\n",
       "       'Надежда 2', 'Надежда 3', 'Надежда 4', 'Обеля', 'Обеля 1',\n",
       "       'Обеля 2', 'Оборище', 'Овча Купел', 'Овча Купел 1', 'Овча Купел 2',\n",
       "       'Павлово', 'Подуене', 'Полигона', 'Разсадника', 'Редута',\n",
       "       'Света Троица', 'Свобода', 'Сердика', 'Симеоново', 'Славия',\n",
       "       'Слатина', 'Стрелбище', 'Студентски Град', 'Суха Река', 'Толстой',\n",
       "       'Факултета', 'Фондови Жилища', 'Хаджи Димитър', 'Хиподрума',\n",
       "       'Хладилника', 'Център', 'Яворов', 'м-т Детски град',\n",
       "       'Врана - Лозен в.з.', 'Илиянци', 'Малашевци', 'Требич',\n",
       "       'Филиповци', '7-ми 11-ти километър', 'Централна гара',\n",
       "       'Американски колеж в.з.', 'Градина'], dtype=object)"
      ]
     },
     "execution_count": 15,
     "metadata": {},
     "output_type": "execute_result"
    }
   ],
   "source": [
    "combined_df['region'].unique()"
   ]
  },
  {
   "cell_type": "code",
   "execution_count": 16,
   "id": "498c4d75-53ca-4dc8-a2fb-1b928762b977",
   "metadata": {},
   "outputs": [
    {
     "data": {
      "text/plain": [
       "Index(['region', 'price', 'price_per_sqm', 'currency', 'apartment_type',\n",
       "       'date'],\n",
       "      dtype='object')"
      ]
     },
     "execution_count": 16,
     "metadata": {},
     "output_type": "execute_result"
    }
   ],
   "source": [
    "combined_df.columns"
   ]
  },
  {
   "cell_type": "markdown",
   "id": "c57f0bf2-d84c-417c-af6d-582f1a2f9704",
   "metadata": {},
   "source": [
    "### Mean Prices by Apartment Type and Date"
   ]
  },
  {
   "cell_type": "code",
   "execution_count": 17,
   "id": "232548b5-9a34-43a1-a63b-8d09d273329e",
   "metadata": {},
   "outputs": [
    {
     "name": "stdout",
     "output_type": "stream",
     "text": [
      "apartment_type           date      \n",
      "Ателие, таван, студио    2021-07-28     77116.214286\n",
      "                         2022-01-10     94700.741111\n",
      "                         2022-07-28    105442.089231\n",
      "                         2022-11-19    109510.400000\n",
      "                         2023-01-10    110105.194444\n",
      "                         2023-07-28    125257.334000\n",
      "                         2023-11-19    111184.527500\n",
      "                         2024-01-10    104707.250000\n",
      "                         2024-07-28    111905.708125\n",
      "Гараж, паркомясто        2021-07-28     22905.646875\n",
      "                         2022-01-10     24480.638750\n",
      "                         2022-07-28     28337.755385\n",
      "                         2022-11-19     27116.979375\n",
      "                         2023-01-10     26724.520303\n",
      "                         2023-07-28     31258.320789\n",
      "                         2023-11-19     33171.380857\n",
      "                         2024-01-10     30898.458438\n",
      "                         2024-07-28     34238.918636\n",
      "Двустаен апартамент      2021-07-28     93551.248276\n",
      "                         2022-01-10    107118.865412\n",
      "                         2022-07-28    120324.352069\n",
      "                         2022-11-19    129119.760000\n",
      "                         2023-01-10    125222.730667\n",
      "                         2023-07-28    128489.505532\n",
      "                         2023-11-19    135025.987312\n",
      "                         2024-01-10    135929.713118\n",
      "                         2024-07-28    146534.885543\n",
      "Къща                     2021-07-28    540442.464286\n",
      "                         2022-01-10    561156.431143\n",
      "                         2022-07-28    580925.376765\n",
      "                         2022-11-19    611945.898250\n",
      "                         2023-01-10    636104.811351\n",
      "                         2023-07-28    750140.223250\n",
      "                         2023-11-19    650469.539444\n",
      "                         2024-01-10    683807.927714\n",
      "                         2024-07-28    645674.505750\n",
      "Многостаен апартамемент  2021-07-28    303980.268293\n",
      "                         2022-01-10    325959.417955\n",
      "                         2022-07-28    409153.686750\n",
      "                         2022-11-19    401162.978235\n",
      "                         2023-01-10    390378.587843\n",
      "                         2023-07-28    365859.256545\n",
      "                         2023-11-19    379444.556078\n",
      "                         2024-01-10    360178.656415\n",
      "                         2024-07-28    426860.527547\n",
      "Тристаен апартамент      2021-07-28    143589.772093\n",
      "                         2022-01-10    157431.857500\n",
      "                         2022-07-28    190931.811839\n",
      "                         2022-11-19    189928.615747\n",
      "                         2023-01-10    192971.282667\n",
      "                         2023-07-28    201610.296264\n",
      "                         2023-11-19    206597.678977\n",
      "                         2024-01-10    208725.653736\n",
      "                         2024-07-28    220629.843371\n",
      "Name: price, dtype: float64\n"
     ]
    }
   ],
   "source": [
    "mean_prices = combined_df.groupby(['apartment_type', 'date'])['price'].mean()\n",
    "\n",
    "print(mean_prices)"
   ]
  },
  {
   "cell_type": "markdown",
   "id": "09f1e4c3-433c-4210-901d-1670bcc74c9a",
   "metadata": {},
   "source": [
    "### Median Prices by Apartment Type and Date"
   ]
  },
  {
   "cell_type": "code",
   "execution_count": 18,
   "id": "eb35083e-c338-4ca3-a24d-23b6c3ef384f",
   "metadata": {},
   "outputs": [
    {
     "name": "stdout",
     "output_type": "stream",
     "text": [
      "apartment_type           date      \n",
      "Ателие, таван, студио    2021-07-28     69866.500\n",
      "                         2022-01-10     79990.000\n",
      "                         2022-07-28     99400.000\n",
      "                         2022-11-19     89664.500\n",
      "                         2023-01-10     71500.000\n",
      "                         2023-07-28    103250.000\n",
      "                         2023-11-19     79500.000\n",
      "                         2024-01-10     85638.750\n",
      "                         2024-07-28     97030.000\n",
      "Гараж, паркомясто        2021-07-28     19675.000\n",
      "                         2022-01-10     23500.000\n",
      "                         2022-07-28     27750.000\n",
      "                         2022-11-19     26475.000\n",
      "                         2023-01-10     26500.000\n",
      "                         2023-07-28     29200.000\n",
      "                         2023-11-19     30000.000\n",
      "                         2024-01-10     28350.000\n",
      "                         2024-07-28     33083.335\n",
      "Двустаен апартамент      2021-07-28     90382.700\n",
      "                         2022-01-10     96699.880\n",
      "                         2022-07-28    110449.050\n",
      "                         2022-11-19    122056.730\n",
      "                         2023-01-10    117625.000\n",
      "                         2023-07-28    124341.290\n",
      "                         2023-11-19    130087.140\n",
      "                         2024-01-10    129125.000\n",
      "                         2024-07-28    138048.900\n",
      "Къща                     2021-07-28    529098.000\n",
      "                         2022-01-10    498732.250\n",
      "                         2022-07-28    537499.690\n",
      "                         2022-11-19    502309.375\n",
      "                         2023-01-10    490000.000\n",
      "                         2023-07-28    632500.000\n",
      "                         2023-11-19    651813.530\n",
      "                         2024-01-10    765000.000\n",
      "                         2024-07-28    511333.330\n",
      "Многостаен апартамемент  2021-07-28    279250.000\n",
      "                         2022-01-10    308125.000\n",
      "                         2022-07-28    397599.920\n",
      "                         2022-11-19    360000.000\n",
      "                         2023-01-10    287450.000\n",
      "                         2023-07-28    297666.340\n",
      "                         2023-11-19    353033.000\n",
      "                         2024-01-10    326000.000\n",
      "                         2024-07-28    429953.000\n",
      "Тристаен апартамент      2021-07-28    137625.500\n",
      "                         2022-01-10    146333.930\n",
      "                         2022-07-28    182760.580\n",
      "                         2022-11-19    173716.080\n",
      "                         2023-01-10    173970.040\n",
      "                         2023-07-28    179606.700\n",
      "                         2023-11-19    189799.070\n",
      "                         2024-01-10    191483.500\n",
      "                         2024-07-28    209953.330\n",
      "Name: price, dtype: float64\n"
     ]
    }
   ],
   "source": [
    "median_prices = combined_df.groupby(['apartment_type', 'date'])['price'].median()\n",
    "print(median_prices)"
   ]
  },
  {
   "cell_type": "code",
   "execution_count": 19,
   "id": "79ae6c4d-9304-4666-82c6-7530c74a5200",
   "metadata": {},
   "outputs": [],
   "source": [
    "# # Average Price per Square Meter Over Time for Each Apartment Type\n",
    "# avg_price_per_sqm = combined_df.groupby(['date', 'apartment_type'])['price_per_sqm'].mean().unstack()\n",
    "\n",
    "# avg_price_per_sqm.plot(figsize=(12, 8))\n",
    "# plt.title('Average Price per Square Meter Over Time')\n",
    "# plt.xlabel('Date')\n",
    "# plt.ylabel('Price per Square Meter (EUR)')\n",
    "# plt.show()\n"
   ]
  },
  {
   "cell_type": "markdown",
   "id": "35a600b6-6f56-43b3-adfb-936813237d4d",
   "metadata": {},
   "source": [
    "What are the most expensive regions for each apartment type?"
   ]
  },
  {
   "cell_type": "code",
   "execution_count": 20,
   "id": "e3b52f9c-319e-4482-96fa-070a67b5ce37",
   "metadata": {},
   "outputs": [
    {
     "name": "stdout",
     "output_type": "stream",
     "text": [
      "Most Expensive Regions for Each Apartment Type:\n",
      "            apartment_type                region       date      price\n",
      "0    Ателие, таван, студио             Младост 3 2023-07-28   295560.0\n",
      "1        Гараж, паркомясто               Оборище 2023-07-28    92750.0\n",
      "2      Двустаен апартамент               Люлин 4 2022-01-10   492000.0\n",
      "3                     Къща       Студентски Град 2023-07-28  3000000.0\n",
      "4  Многостаен апартамемент            Иван Вазов 2023-01-10  2000000.0\n",
      "5      Тристаен апартамент  Малинова долина в.з. 2023-01-10   591181.0\n"
     ]
    }
   ],
   "source": [
    "# Group by 'apartment_type' and 'region' and calculate the mean price\n",
    "grouped = combined_df.groupby(['apartment_type', 'region', 'date'])['price'].mean().reset_index()\n",
    "\n",
    "# Sort within each apartment type to find the most and least expensive regions\n",
    "most_expensive = grouped.groupby('apartment_type').apply(lambda x: x.nlargest(1, 'price')).reset_index(drop=True)\n",
    "\n",
    "# Display the results\n",
    "print(\"Most Expensive Regions for Each Apartment Type:\")\n",
    "print(most_expensive)"
   ]
  },
  {
   "cell_type": "markdown",
   "id": "2e70f62c-b331-4b7c-9019-6b0e2c24e592",
   "metadata": {},
   "source": [
    "What are the least expensive regions for each apartment type?"
   ]
  },
  {
   "cell_type": "code",
   "execution_count": 21,
   "id": "821a424d-d3f2-4fa0-baa3-736a26f713f0",
   "metadata": {},
   "outputs": [
    {
     "name": "stdout",
     "output_type": "stream",
     "text": [
      "\n",
      "Least Expensive Regions for Each Apartment Type:\n",
      "            apartment_type          region       date    price\n",
      "0    Ателие, таван, студио         Люлин 4 2021-07-28  15000.0\n",
      "1        Гараж, паркомясто          Редута 2022-07-28   6500.0\n",
      "2      Двустаен апартамент  Фондови Жилища 2021-07-28  38000.0\n",
      "3                     Къща    Западен Парк 2023-07-28  97500.0\n",
      "4  Многостаен апартамемент         Люлин 6 2022-01-10  55100.0\n",
      "5      Тристаен апартамент         Люлин 4 2021-07-28  71000.0\n"
     ]
    }
   ],
   "source": [
    "# Sort within each apartment type to find the most and least expensive regions\n",
    "least_expensive = grouped.groupby('apartment_type').apply(lambda x: x.nsmallest(1, 'price')).reset_index(drop=True)\n",
    "\n",
    "print(\"\\nLeast Expensive Regions for Each Apartment Type:\")\n",
    "print(least_expensive)"
   ]
  },
  {
   "cell_type": "markdown",
   "id": "43474fe9-b2f2-4da6-8b89-5825bdb6e7fc",
   "metadata": {},
   "source": [
    "Which year had the most expensive property prices?"
   ]
  },
  {
   "cell_type": "code",
   "execution_count": 22,
   "id": "71ed0520-facf-4951-8bbc-fad6aa4c921a",
   "metadata": {},
   "outputs": [
    {
     "name": "stdout",
     "output_type": "stream",
     "text": [
      "The year with the most expensive prices is 2024 with an average price of 248432.14 EUR.\n",
      "year\n",
      "2021    173249.537153\n",
      "2022    225958.331726\n",
      "2023    243816.700261\n",
      "2024    248432.137592\n",
      "Name: price, dtype: float64\n"
     ]
    }
   ],
   "source": [
    "combined_df['year'] = combined_df['date'].dt.year\n",
    "\n",
    "# Group by 'year' and calculate the average price per year\n",
    "avg_price_per_year = combined_df.groupby('year')['price'].mean()\n",
    "\n",
    "# Find the year with the highest average price\n",
    "most_expensive_year = avg_price_per_year.idxmax()\n",
    "highest_avg_price = avg_price_per_year.max()\n",
    "\n",
    "print(f\"The year with the most expensive prices is {most_expensive_year} with an average price of {highest_avg_price:.2f} EUR.\")\n",
    "\n",
    "print(avg_price_per_year)"
   ]
  },
  {
   "cell_type": "markdown",
   "id": "84f44cdf-840b-4e05-929f-67a2f44939dc",
   "metadata": {},
   "source": [
    "The answear is __2024__. As we can see, prices have been increasing."
   ]
  },
  {
   "cell_type": "markdown",
   "id": "c1ad5367-1b12-4554-8ab5-6d83ce849b27",
   "metadata": {},
   "source": [
    "### Identify Outliers"
   ]
  },
  {
   "cell_type": "code",
   "execution_count": 24,
   "id": "6501eb2f-beb2-44be-a0b6-cfef10ca789d",
   "metadata": {},
   "outputs": [
    {
     "data": {
      "text/html": [
       "<div>\n",
       "<style scoped>\n",
       "    .dataframe tbody tr th:only-of-type {\n",
       "        vertical-align: middle;\n",
       "    }\n",
       "\n",
       "    .dataframe tbody tr th {\n",
       "        vertical-align: top;\n",
       "    }\n",
       "\n",
       "    .dataframe thead th {\n",
       "        text-align: right;\n",
       "    }\n",
       "</style>\n",
       "<table border=\"1\" class=\"dataframe\">\n",
       "  <thead>\n",
       "    <tr style=\"text-align: right;\">\n",
       "      <th></th>\n",
       "      <th>region</th>\n",
       "      <th>price</th>\n",
       "      <th>price_per_sqm</th>\n",
       "      <th>currency</th>\n",
       "      <th>apartment_type</th>\n",
       "      <th>date</th>\n",
       "      <th>year</th>\n",
       "    </tr>\n",
       "  </thead>\n",
       "  <tbody>\n",
       "    <tr>\n",
       "      <th>23</th>\n",
       "      <td>Иван Вазов</td>\n",
       "      <td>341500.00</td>\n",
       "      <td>4985.40</td>\n",
       "      <td>EUR</td>\n",
       "      <td>Двустаен апартамент</td>\n",
       "      <td>2024-07-28</td>\n",
       "      <td>2024</td>\n",
       "    </tr>\n",
       "    <tr>\n",
       "      <th>24</th>\n",
       "      <td>Изгрев</td>\n",
       "      <td>248494.70</td>\n",
       "      <td>3485.20</td>\n",
       "      <td>EUR</td>\n",
       "      <td>Двустаен апартамент</td>\n",
       "      <td>2024-07-28</td>\n",
       "      <td>2024</td>\n",
       "    </tr>\n",
       "    <tr>\n",
       "      <th>25</th>\n",
       "      <td>Изток</td>\n",
       "      <td>229311.25</td>\n",
       "      <td>3241.15</td>\n",
       "      <td>EUR</td>\n",
       "      <td>Двустаен апартамент</td>\n",
       "      <td>2024-07-28</td>\n",
       "      <td>2024</td>\n",
       "    </tr>\n",
       "    <tr>\n",
       "      <th>35</th>\n",
       "      <td>Лозенец</td>\n",
       "      <td>226177.34</td>\n",
       "      <td>3041.19</td>\n",
       "      <td>EUR</td>\n",
       "      <td>Двустаен апартамент</td>\n",
       "      <td>2024-07-28</td>\n",
       "      <td>2024</td>\n",
       "    </tr>\n",
       "    <tr>\n",
       "      <th>88</th>\n",
       "      <td>Хиподрума</td>\n",
       "      <td>225337.50</td>\n",
       "      <td>3388.53</td>\n",
       "      <td>EUR</td>\n",
       "      <td>Двустаен апартамент</td>\n",
       "      <td>2024-07-28</td>\n",
       "      <td>2024</td>\n",
       "    </tr>\n",
       "    <tr>\n",
       "      <th>...</th>\n",
       "      <td>...</td>\n",
       "      <td>...</td>\n",
       "      <td>...</td>\n",
       "      <td>...</td>\n",
       "      <td>...</td>\n",
       "      <td>...</td>\n",
       "      <td>...</td>\n",
       "    </tr>\n",
       "    <tr>\n",
       "      <th>2240</th>\n",
       "      <td>Люлин 4</td>\n",
       "      <td>492000.00</td>\n",
       "      <td>8200.00</td>\n",
       "      <td>EUR</td>\n",
       "      <td>Двустаен апартамент</td>\n",
       "      <td>2022-01-10</td>\n",
       "      <td>2022</td>\n",
       "    </tr>\n",
       "    <tr>\n",
       "      <th>2383</th>\n",
       "      <td>Иван Вазов</td>\n",
       "      <td>390000.00</td>\n",
       "      <td>7500.00</td>\n",
       "      <td>EUR</td>\n",
       "      <td>Къща</td>\n",
       "      <td>2022-01-10</td>\n",
       "      <td>2022</td>\n",
       "    </tr>\n",
       "    <tr>\n",
       "      <th>2386</th>\n",
       "      <td>Кръстова Вада</td>\n",
       "      <td>1500000.00</td>\n",
       "      <td>3000.00</td>\n",
       "      <td>EUR</td>\n",
       "      <td>Къща</td>\n",
       "      <td>2022-01-10</td>\n",
       "      <td>2022</td>\n",
       "    </tr>\n",
       "    <tr>\n",
       "      <th>2472</th>\n",
       "      <td>Оборище</td>\n",
       "      <td>775870.00</td>\n",
       "      <td>3153.94</td>\n",
       "      <td>EUR</td>\n",
       "      <td>Многостаен апартамемент</td>\n",
       "      <td>2022-01-10</td>\n",
       "      <td>2022</td>\n",
       "    </tr>\n",
       "    <tr>\n",
       "      <th>2571</th>\n",
       "      <td>Яворов</td>\n",
       "      <td>175000.00</td>\n",
       "      <td>3017.24</td>\n",
       "      <td>EUR</td>\n",
       "      <td>Двустаен апартамент</td>\n",
       "      <td>2021-07-28</td>\n",
       "      <td>2021</td>\n",
       "    </tr>\n",
       "  </tbody>\n",
       "</table>\n",
       "<p>103 rows × 7 columns</p>\n",
       "</div>"
      ],
      "text/plain": [
       "             region       price  price_per_sqm currency  \\\n",
       "23       Иван Вазов   341500.00        4985.40      EUR   \n",
       "24           Изгрев   248494.70        3485.20      EUR   \n",
       "25            Изток   229311.25        3241.15      EUR   \n",
       "35          Лозенец   226177.34        3041.19      EUR   \n",
       "88        Хиподрума   225337.50        3388.53      EUR   \n",
       "...             ...         ...            ...      ...   \n",
       "2240        Люлин 4   492000.00        8200.00      EUR   \n",
       "2383     Иван Вазов   390000.00        7500.00      EUR   \n",
       "2386  Кръстова Вада  1500000.00        3000.00      EUR   \n",
       "2472        Оборище   775870.00        3153.94      EUR   \n",
       "2571         Яворов   175000.00        3017.24      EUR   \n",
       "\n",
       "               apartment_type       date  year  \n",
       "23        Двустаен апартамент 2024-07-28  2024  \n",
       "24        Двустаен апартамент 2024-07-28  2024  \n",
       "25        Двустаен апартамент 2024-07-28  2024  \n",
       "35        Двустаен апартамент 2024-07-28  2024  \n",
       "88        Двустаен апартамент 2024-07-28  2024  \n",
       "...                       ...        ...   ...  \n",
       "2240      Двустаен апартамент 2022-01-10  2022  \n",
       "2383                     Къща 2022-01-10  2022  \n",
       "2386                     Къща 2022-01-10  2022  \n",
       "2472  Многостаен апартамемент 2022-01-10  2022  \n",
       "2571      Двустаен апартамент 2021-07-28  2021  \n",
       "\n",
       "[103 rows x 7 columns]"
      ]
     },
     "execution_count": 24,
     "metadata": {},
     "output_type": "execute_result"
    }
   ],
   "source": [
    "Q1 = combined_df['price_per_sqm'].quantile(0.25)\n",
    "Q3 = combined_df['price_per_sqm'].quantile(0.75)\n",
    "IQR = Q3 - Q1\n",
    "\n",
    "# Define outliers\n",
    "lower_bound = Q1 - 1.5 * IQR\n",
    "upper_bound = Q3 + 1.5 * IQR\n",
    "\n",
    "outliers = combined_df[(combined_df['price_per_sqm'] < lower_bound) | (combined_df['price_per_sqm'] > upper_bound)]\n",
    "outliers"
   ]
  },
  {
   "cell_type": "code",
   "execution_count": 25,
   "id": "3ce8a7e8-8a24-4a06-9f04-0a6d54603343",
   "metadata": {},
   "outputs": [],
   "source": [
    "# from scipy import stats\n",
    "\n",
    "# combined_df['z_score'] = stats.zscore(combined_df['price_per_sqm'])\n",
    "# outliers = combined_df[combined_df['z_score'].abs() > 3]\n",
    "# outliers"
   ]
  },
  {
   "cell_type": "code",
   "execution_count": 26,
   "id": "21dd39c4-9529-4cfc-8f8d-a7b06055bf22",
   "metadata": {},
   "outputs": [],
   "source": [
    "# combined_df = combined_df[combined_df['z_score'].abs() <= 3].copy()"
   ]
  },
  {
   "cell_type": "code",
   "execution_count": 55,
   "id": "952f72eb-fc65-4307-b261-18bddbee4067",
   "metadata": {},
   "outputs": [
    {
     "data": {
      "text/plain": [
       "(2670, 5)"
      ]
     },
     "execution_count": 55,
     "metadata": {},
     "output_type": "execute_result"
    }
   ],
   "source": [
    "combined_df.shape"
   ]
  },
  {
   "cell_type": "code",
   "execution_count": 28,
   "id": "5d33290d-927a-47d1-b37c-0c1cefbd8119",
   "metadata": {},
   "outputs": [
    {
     "name": "stdout",
     "output_type": "stream",
     "text": [
      "               region      price  price_per_sqm currency  \\\n",
      "0            Банишора  134653.98        1987.51      EUR   \n",
      "1         Банкя (гр.)  131843.00        1890.84      EUR   \n",
      "2        Белите Брези  249900.00        2108.86      EUR   \n",
      "3           Бенковски  115863.50        1782.52      EUR   \n",
      "4              Борово  135594.22        2148.50      EUR   \n",
      "...               ...        ...            ...      ...   \n",
      "2767          Слатина  344700.00         900.00      EUR   \n",
      "2768        Стрелбище  175333.00        1075.67      EUR   \n",
      "2769  Студентски Град  222600.00         718.84      EUR   \n",
      "2770    Хаджи Димитър  205000.00        1045.92      EUR   \n",
      "2771        Хиподрума  330000.00        2357.14      EUR   \n",
      "\n",
      "               apartment_type       date  year  \n",
      "0         Двустаен апартамент 2024-07-28  2024  \n",
      "1         Двустаен апартамент 2024-07-28  2024  \n",
      "2         Двустаен апартамент 2024-07-28  2024  \n",
      "3         Двустаен апартамент 2024-07-28  2024  \n",
      "4         Двустаен апартамент 2024-07-28  2024  \n",
      "...                       ...        ...   ...  \n",
      "2767  Многостаен апартамемент 2021-07-28  2021  \n",
      "2768  Многостаен апартамемент 2021-07-28  2021  \n",
      "2769  Многостаен апартамемент 2021-07-28  2021  \n",
      "2770  Многостаен апартамемент 2021-07-28  2021  \n",
      "2771  Многостаен апартамемент 2021-07-28  2021  \n",
      "\n",
      "[2419 rows x 7 columns]\n"
     ]
    }
   ],
   "source": [
    "import pandas as pd\n",
    "\n",
    "def find_outliers(df, column):\n",
    "    Q1 = df[column].quantile(0.25)\n",
    "    Q3 = df[column].quantile(0.75)\n",
    "    IQR = Q3 - Q1\n",
    "    lower_bound = Q1 - 1.5 * IQR\n",
    "    upper_bound = Q3 + 1.5 * IQR\n",
    "    \n",
    "    outliers = df[(df[column] < lower_bound) | (df[column] > upper_bound)]\n",
    "    return outliers\n",
    "\n",
    "# List of columns to check for outliers\n",
    "columns_to_check = ['price', 'price_per_sqm']\n",
    "\n",
    "# Find outliers for each column\n",
    "outliers_dict = {col: find_outliers(combined_df, col) for col in columns_to_check}\n",
    "\n",
    "# Combine all outliers into a single DataFrame\n",
    "all_outliers = pd.concat(outliers_dict.values()).drop_duplicates()\n",
    "\n",
    "# Remove outliers from the original DataFrame\n",
    "cleaned_df = combined_df[~combined_df.index.isin(all_outliers.index)]\n",
    "\n",
    "print(cleaned_df)\n"
   ]
  },
  {
   "cell_type": "code",
   "execution_count": 54,
   "id": "c1c54d23-02f0-4adb-acd5-814205d280fb",
   "metadata": {},
   "outputs": [
    {
     "data": {
      "text/plain": [
       "(2670, 5)"
      ]
     },
     "execution_count": 54,
     "metadata": {},
     "output_type": "execute_result"
    }
   ],
   "source": [
    "combined_df.shape"
   ]
  },
  {
   "cell_type": "markdown",
   "id": "b667d5fd-cd8f-4003-b087-9b8ebf0ce870",
   "metadata": {},
   "source": [
    "### Removing the outliers"
   ]
  },
  {
   "cell_type": "code",
   "execution_count": 30,
   "id": "4fa13f56-8647-46d5-b4e4-70d3eb8a864f",
   "metadata": {},
   "outputs": [],
   "source": [
    "combined_df = combined_df[(combined_df['price_per_sqm'] >= lower_bound) & (combined_df['price_per_sqm'] <= upper_bound)].copy()"
   ]
  },
  {
   "cell_type": "code",
   "execution_count": 31,
   "id": "d6b1f045-feae-4a0a-98e3-15f3e8fa7ae5",
   "metadata": {},
   "outputs": [
    {
     "data": {
      "image/png": "[encoded data removed]",
      "text/plain": [
       "<Figure size 1008x576 with 1 Axes>"
      ]
     },
     "metadata": {
      "needs_background": "light"
     },
     "output_type": "display_data"
    }
   ],
   "source": [
    "plt.figure(figsize=(14, 8))\n",
    "\n",
    "for apartment_type in combined_df['apartment_type'].unique():\n",
    "    filtered_df = combined_df[combined_df['apartment_type'] == apartment_type]\n",
    "    price_over_time = filtered_df.groupby('date')['price_per_sqm'].mean()\n",
    "    plt.plot(price_over_time.index, price_over_time.values, marker='o', label=apartment_type)\n",
    "\n",
    "plt.title('Price Trends Over Time by Apartment Type (Outliers Handled)')\n",
    "plt.xlabel('Date')\n",
    "plt.ylabel('Average Price per Sq.m (EUR)')\n",
    "plt.xticks(rotation=45)\n",
    "plt.legend(title='Apartment Type')\n",
    "plt.grid(True)\n",
    "plt.show()"
   ]
  },
  {
   "cell_type": "markdown",
   "id": "68e3e3e1-8fca-43b6-ae64-85d40711e5c2",
   "metadata": {},
   "source": [
    "# Let's prepear the model and train it:"
   ]
  },
  {
   "cell_type": "markdown",
   "id": "c518bb84-39dd-4490-9663-b76007dab61b",
   "metadata": {},
   "source": [
    "Extract date features:"
   ]
  },
  {
   "cell_type": "code",
   "execution_count": 32,
   "id": "e5aaa1f5-4b5e-4e75-b0d9-bc51074d2d01",
   "metadata": {},
   "outputs": [],
   "source": [
    "combined_df['year'] = combined_df['date'].dt.year\n",
    "combined_df['month'] = combined_df['date'].dt.month"
   ]
  },
  {
   "cell_type": "markdown",
   "id": "cd702f61-851c-48f7-9d4f-72cd8a14de39",
   "metadata": {},
   "source": [
    "Drop the original 'Дата' column and unnecessary columns:"
   ]
  },
  {
   "cell_type": "code",
   "execution_count": 33,
   "id": "2fa01a6b-f564-4a72-adc6-89f54ddf7d8a",
   "metadata": {},
   "outputs": [],
   "source": [
    "combined_df = combined_df.drop(columns=['date', 'currency', 'price'])"
   ]
  },
  {
   "cell_type": "code",
   "execution_count": 34,
   "id": "2352e11a-9114-4a39-887f-6d6f1c2d6981",
   "metadata": {},
   "outputs": [
    {
     "data": {
      "text/html": [
       "<div>\n",
       "<style scoped>\n",
       "    .dataframe tbody tr th:only-of-type {\n",
       "        vertical-align: middle;\n",
       "    }\n",
       "\n",
       "    .dataframe tbody tr th {\n",
       "        vertical-align: top;\n",
       "    }\n",
       "\n",
       "    .dataframe thead th {\n",
       "        text-align: right;\n",
       "    }\n",
       "</style>\n",
       "<table border=\"1\" class=\"dataframe\">\n",
       "  <thead>\n",
       "    <tr style=\"text-align: right;\">\n",
       "      <th></th>\n",
       "      <th>region</th>\n",
       "      <th>price_per_sqm</th>\n",
       "      <th>apartment_type</th>\n",
       "      <th>year</th>\n",
       "      <th>month</th>\n",
       "    </tr>\n",
       "  </thead>\n",
       "  <tbody>\n",
       "    <tr>\n",
       "      <th>0</th>\n",
       "      <td>Банишора</td>\n",
       "      <td>1987.51</td>\n",
       "      <td>Двустаен апартамент</td>\n",
       "      <td>2024</td>\n",
       "      <td>7</td>\n",
       "    </tr>\n",
       "    <tr>\n",
       "      <th>1</th>\n",
       "      <td>Банкя (гр.)</td>\n",
       "      <td>1890.84</td>\n",
       "      <td>Двустаен апартамент</td>\n",
       "      <td>2024</td>\n",
       "      <td>7</td>\n",
       "    </tr>\n",
       "    <tr>\n",
       "      <th>2</th>\n",
       "      <td>Белите Брези</td>\n",
       "      <td>2108.86</td>\n",
       "      <td>Двустаен апартамент</td>\n",
       "      <td>2024</td>\n",
       "      <td>7</td>\n",
       "    </tr>\n",
       "    <tr>\n",
       "      <th>3</th>\n",
       "      <td>Бенковски</td>\n",
       "      <td>1782.52</td>\n",
       "      <td>Двустаен апартамент</td>\n",
       "      <td>2024</td>\n",
       "      <td>7</td>\n",
       "    </tr>\n",
       "    <tr>\n",
       "      <th>4</th>\n",
       "      <td>Борово</td>\n",
       "      <td>2148.50</td>\n",
       "      <td>Двустаен апартамент</td>\n",
       "      <td>2024</td>\n",
       "      <td>7</td>\n",
       "    </tr>\n",
       "    <tr>\n",
       "      <th>...</th>\n",
       "      <td>...</td>\n",
       "      <td>...</td>\n",
       "      <td>...</td>\n",
       "      <td>...</td>\n",
       "      <td>...</td>\n",
       "    </tr>\n",
       "    <tr>\n",
       "      <th>2768</th>\n",
       "      <td>Стрелбище</td>\n",
       "      <td>1075.67</td>\n",
       "      <td>Многостаен апартамемент</td>\n",
       "      <td>2021</td>\n",
       "      <td>7</td>\n",
       "    </tr>\n",
       "    <tr>\n",
       "      <th>2769</th>\n",
       "      <td>Студентски Град</td>\n",
       "      <td>718.84</td>\n",
       "      <td>Многостаен апартамемент</td>\n",
       "      <td>2021</td>\n",
       "      <td>7</td>\n",
       "    </tr>\n",
       "    <tr>\n",
       "      <th>2770</th>\n",
       "      <td>Хаджи Димитър</td>\n",
       "      <td>1045.92</td>\n",
       "      <td>Многостаен апартамемент</td>\n",
       "      <td>2021</td>\n",
       "      <td>7</td>\n",
       "    </tr>\n",
       "    <tr>\n",
       "      <th>2771</th>\n",
       "      <td>Хиподрума</td>\n",
       "      <td>2357.14</td>\n",
       "      <td>Многостаен апартамемент</td>\n",
       "      <td>2021</td>\n",
       "      <td>7</td>\n",
       "    </tr>\n",
       "    <tr>\n",
       "      <th>2772</th>\n",
       "      <td>Център</td>\n",
       "      <td>2689.00</td>\n",
       "      <td>Многостаен апартамемент</td>\n",
       "      <td>2021</td>\n",
       "      <td>7</td>\n",
       "    </tr>\n",
       "  </tbody>\n",
       "</table>\n",
       "<p>2670 rows × 5 columns</p>\n",
       "</div>"
      ],
      "text/plain": [
       "               region  price_per_sqm           apartment_type  year  month\n",
       "0            Банишора        1987.51      Двустаен апартамент  2024      7\n",
       "1         Банкя (гр.)        1890.84      Двустаен апартамент  2024      7\n",
       "2        Белите Брези        2108.86      Двустаен апартамент  2024      7\n",
       "3           Бенковски        1782.52      Двустаен апартамент  2024      7\n",
       "4              Борово        2148.50      Двустаен апартамент  2024      7\n",
       "...               ...            ...                      ...   ...    ...\n",
       "2768        Стрелбище        1075.67  Многостаен апартамемент  2021      7\n",
       "2769  Студентски Град         718.84  Многостаен апартамемент  2021      7\n",
       "2770    Хаджи Димитър        1045.92  Многостаен апартамемент  2021      7\n",
       "2771        Хиподрума        2357.14  Многостаен апартамемент  2021      7\n",
       "2772           Център        2689.00  Многостаен апартамемент  2021      7\n",
       "\n",
       "[2670 rows x 5 columns]"
      ]
     },
     "execution_count": 34,
     "metadata": {},
     "output_type": "execute_result"
    }
   ],
   "source": [
    "combined_df"
   ]
  },
  {
   "cell_type": "markdown",
   "id": "dd9b22b6-067a-4f2f-9a32-f9a0a7df7bd8",
   "metadata": {},
   "source": [
    "Encode categorical variables:"
   ]
  },
  {
   "cell_type": "code",
   "execution_count": 35,
   "id": "4a6c7145-228c-4286-9242-699ea8a01b5f",
   "metadata": {},
   "outputs": [],
   "source": [
    "label_encoder_region = LabelEncoder()\n",
    "label_encoder_apartment_type = LabelEncoder()\n",
    "\n",
    "combined_df['region'] = label_encoder_region.fit_transform(combined_df['region'])\n",
    "combined_df['apartment_type'] = label_encoder_apartment_type.fit_transform(combined_df['apartment_type'])"
   ]
  },
  {
   "cell_type": "markdown",
   "id": "f5b42ff5-01da-4d64-9a63-8338d07cc00f",
   "metadata": {},
   "source": [
    "Define features and target:"
   ]
  },
  {
   "cell_type": "code",
   "execution_count": 36,
   "id": "02d69f07-925d-4c8c-9d83-444f58090f30",
   "metadata": {},
   "outputs": [],
   "source": [
    "X = combined_df.drop(columns=['price_per_sqm'], axis=1) \n",
    "y = combined_df['price_per_sqm']  # Target variable"
   ]
  },
  {
   "cell_type": "code",
   "execution_count": 37,
   "id": "dd0456e5-45bc-4707-b195-36f6121f408b",
   "metadata": {},
   "outputs": [
    {
     "data": {
      "text/html": [
       "<div>\n",
       "<style scoped>\n",
       "    .dataframe tbody tr th:only-of-type {\n",
       "        vertical-align: middle;\n",
       "    }\n",
       "\n",
       "    .dataframe tbody tr th {\n",
       "        vertical-align: top;\n",
       "    }\n",
       "\n",
       "    .dataframe thead th {\n",
       "        text-align: right;\n",
       "    }\n",
       "</style>\n",
       "<table border=\"1\" class=\"dataframe\">\n",
       "  <thead>\n",
       "    <tr style=\"text-align: right;\">\n",
       "      <th></th>\n",
       "      <th>region</th>\n",
       "      <th>apartment_type</th>\n",
       "      <th>year</th>\n",
       "      <th>month</th>\n",
       "    </tr>\n",
       "  </thead>\n",
       "  <tbody>\n",
       "    <tr>\n",
       "      <th>0</th>\n",
       "      <td>2</td>\n",
       "      <td>2</td>\n",
       "      <td>2024</td>\n",
       "      <td>7</td>\n",
       "    </tr>\n",
       "    <tr>\n",
       "      <th>1</th>\n",
       "      <td>3</td>\n",
       "      <td>2</td>\n",
       "      <td>2024</td>\n",
       "      <td>7</td>\n",
       "    </tr>\n",
       "    <tr>\n",
       "      <th>2</th>\n",
       "      <td>4</td>\n",
       "      <td>2</td>\n",
       "      <td>2024</td>\n",
       "      <td>7</td>\n",
       "    </tr>\n",
       "    <tr>\n",
       "      <th>3</th>\n",
       "      <td>5</td>\n",
       "      <td>2</td>\n",
       "      <td>2024</td>\n",
       "      <td>7</td>\n",
       "    </tr>\n",
       "    <tr>\n",
       "      <th>4</th>\n",
       "      <td>6</td>\n",
       "      <td>2</td>\n",
       "      <td>2024</td>\n",
       "      <td>7</td>\n",
       "    </tr>\n",
       "    <tr>\n",
       "      <th>...</th>\n",
       "      <td>...</td>\n",
       "      <td>...</td>\n",
       "      <td>...</td>\n",
       "      <td>...</td>\n",
       "    </tr>\n",
       "    <tr>\n",
       "      <th>2768</th>\n",
       "      <td>86</td>\n",
       "      <td>4</td>\n",
       "      <td>2021</td>\n",
       "      <td>7</td>\n",
       "    </tr>\n",
       "    <tr>\n",
       "      <th>2769</th>\n",
       "      <td>87</td>\n",
       "      <td>4</td>\n",
       "      <td>2021</td>\n",
       "      <td>7</td>\n",
       "    </tr>\n",
       "    <tr>\n",
       "      <th>2770</th>\n",
       "      <td>94</td>\n",
       "      <td>4</td>\n",
       "      <td>2021</td>\n",
       "      <td>7</td>\n",
       "    </tr>\n",
       "    <tr>\n",
       "      <th>2771</th>\n",
       "      <td>95</td>\n",
       "      <td>4</td>\n",
       "      <td>2021</td>\n",
       "      <td>7</td>\n",
       "    </tr>\n",
       "    <tr>\n",
       "      <th>2772</th>\n",
       "      <td>98</td>\n",
       "      <td>4</td>\n",
       "      <td>2021</td>\n",
       "      <td>7</td>\n",
       "    </tr>\n",
       "  </tbody>\n",
       "</table>\n",
       "<p>2670 rows × 4 columns</p>\n",
       "</div>"
      ],
      "text/plain": [
       "      region  apartment_type  year  month\n",
       "0          2               2  2024      7\n",
       "1          3               2  2024      7\n",
       "2          4               2  2024      7\n",
       "3          5               2  2024      7\n",
       "4          6               2  2024      7\n",
       "...      ...             ...   ...    ...\n",
       "2768      86               4  2021      7\n",
       "2769      87               4  2021      7\n",
       "2770      94               4  2021      7\n",
       "2771      95               4  2021      7\n",
       "2772      98               4  2021      7\n",
       "\n",
       "[2670 rows x 4 columns]"
      ]
     },
     "execution_count": 37,
     "metadata": {},
     "output_type": "execute_result"
    }
   ],
   "source": [
    "X"
   ]
  },
  {
   "cell_type": "markdown",
   "id": "25d75bc5-ffe9-46b5-ad49-33cf8e76e747",
   "metadata": {},
   "source": [
    "Split the data into training and testing sets:"
   ]
  },
  {
   "cell_type": "code",
   "execution_count": 38,
   "id": "c6d66883-a82b-477e-9b46-abd0cbea545d",
   "metadata": {},
   "outputs": [],
   "source": [
    "X_train, X_test, y_train, y_test = train_test_split(X, y, test_size=0.2, random_state=42)"
   ]
  },
  {
   "cell_type": "code",
   "execution_count": 39,
   "id": "0948594e-624a-4bf0-a395-fdbbc4d3c50f",
   "metadata": {},
   "outputs": [
    {
     "data": {
      "text/html": [
       "<div>\n",
       "<style scoped>\n",
       "    .dataframe tbody tr th:only-of-type {\n",
       "        vertical-align: middle;\n",
       "    }\n",
       "\n",
       "    .dataframe tbody tr th {\n",
       "        vertical-align: top;\n",
       "    }\n",
       "\n",
       "    .dataframe thead th {\n",
       "        text-align: right;\n",
       "    }\n",
       "</style>\n",
       "<table border=\"1\" class=\"dataframe\">\n",
       "  <thead>\n",
       "    <tr style=\"text-align: right;\">\n",
       "      <th></th>\n",
       "      <th>region</th>\n",
       "      <th>apartment_type</th>\n",
       "      <th>year</th>\n",
       "      <th>month</th>\n",
       "    </tr>\n",
       "  </thead>\n",
       "  <tbody>\n",
       "    <tr>\n",
       "      <th>2413</th>\n",
       "      <td>29</td>\n",
       "      <td>1</td>\n",
       "      <td>2022</td>\n",
       "      <td>1</td>\n",
       "    </tr>\n",
       "    <tr>\n",
       "      <th>73</th>\n",
       "      <td>78</td>\n",
       "      <td>2</td>\n",
       "      <td>2024</td>\n",
       "      <td>7</td>\n",
       "    </tr>\n",
       "    <tr>\n",
       "      <th>1793</th>\n",
       "      <td>28</td>\n",
       "      <td>3</td>\n",
       "      <td>2022</td>\n",
       "      <td>11</td>\n",
       "    </tr>\n",
       "    <tr>\n",
       "      <th>1503</th>\n",
       "      <td>58</td>\n",
       "      <td>3</td>\n",
       "      <td>2023</td>\n",
       "      <td>1</td>\n",
       "    </tr>\n",
       "    <tr>\n",
       "      <th>936</th>\n",
       "      <td>40</td>\n",
       "      <td>4</td>\n",
       "      <td>2023</td>\n",
       "      <td>11</td>\n",
       "    </tr>\n",
       "    <tr>\n",
       "      <th>...</th>\n",
       "      <td>...</td>\n",
       "      <td>...</td>\n",
       "      <td>...</td>\n",
       "      <td>...</td>\n",
       "    </tr>\n",
       "    <tr>\n",
       "      <th>1722</th>\n",
       "      <td>34</td>\n",
       "      <td>5</td>\n",
       "      <td>2022</td>\n",
       "      <td>11</td>\n",
       "    </tr>\n",
       "    <tr>\n",
       "      <th>1155</th>\n",
       "      <td>8</td>\n",
       "      <td>3</td>\n",
       "      <td>2023</td>\n",
       "      <td>7</td>\n",
       "    </tr>\n",
       "    <tr>\n",
       "      <th>1194</th>\n",
       "      <td>6</td>\n",
       "      <td>1</td>\n",
       "      <td>2023</td>\n",
       "      <td>7</td>\n",
       "    </tr>\n",
       "    <tr>\n",
       "      <th>1363</th>\n",
       "      <td>70</td>\n",
       "      <td>2</td>\n",
       "      <td>2023</td>\n",
       "      <td>1</td>\n",
       "    </tr>\n",
       "    <tr>\n",
       "      <th>914</th>\n",
       "      <td>94</td>\n",
       "      <td>0</td>\n",
       "      <td>2023</td>\n",
       "      <td>11</td>\n",
       "    </tr>\n",
       "  </tbody>\n",
       "</table>\n",
       "<p>2136 rows × 4 columns</p>\n",
       "</div>"
      ],
      "text/plain": [
       "      region  apartment_type  year  month\n",
       "2413      29               1  2022      1\n",
       "73        78               2  2024      7\n",
       "1793      28               3  2022     11\n",
       "1503      58               3  2023      1\n",
       "936       40               4  2023     11\n",
       "...      ...             ...   ...    ...\n",
       "1722      34               5  2022     11\n",
       "1155       8               3  2023      7\n",
       "1194       6               1  2023      7\n",
       "1363      70               2  2023      1\n",
       "914       94               0  2023     11\n",
       "\n",
       "[2136 rows x 4 columns]"
      ]
     },
     "execution_count": 39,
     "metadata": {},
     "output_type": "execute_result"
    }
   ],
   "source": [
    "X_train"
   ]
  },
  {
   "cell_type": "code",
   "execution_count": 40,
   "id": "59fc0c57-da6a-4e6c-93f2-c2c96bd3b898",
   "metadata": {},
   "outputs": [
    {
     "data": {
      "text/plain": [
       "2413    1294.12\n",
       "73      2205.48\n",
       "1793    2222.22\n",
       "1503    1555.12\n",
       "936     2536.64\n",
       "         ...   \n",
       "1722    1689.27\n",
       "1155    2501.39\n",
       "1194    1450.00\n",
       "1363    1271.74\n",
       "914     1384.61\n",
       "Name: price_per_sqm, Length: 2136, dtype: float64"
      ]
     },
     "execution_count": 40,
     "metadata": {},
     "output_type": "execute_result"
    }
   ],
   "source": [
    "y_train"
   ]
  },
  {
   "cell_type": "code",
   "execution_count": 41,
   "id": "bbac97e1-88f6-4da0-b6f7-37e0f4e2d3f9",
   "metadata": {},
   "outputs": [
    {
     "data": {
      "text/plain": [
       "((2136, 4), (534,))"
      ]
     },
     "execution_count": 41,
     "metadata": {},
     "output_type": "execute_result"
    }
   ],
   "source": [
    "X_train.shape, y_test.shape"
   ]
  },
  {
   "cell_type": "code",
   "execution_count": 42,
   "id": "bb3e2ab9-3d37-4c6d-b30a-f21bc30e09ab",
   "metadata": {},
   "outputs": [
    {
     "data": {
      "text/plain": [
       "((534, 4), (2136,))"
      ]
     },
     "execution_count": 42,
     "metadata": {},
     "output_type": "execute_result"
    }
   ],
   "source": [
    "X_test.shape, y_train.shape"
   ]
  },
  {
   "cell_type": "markdown",
   "id": "33914d85-3e5b-4d7d-b7fe-2b04c995391a",
   "metadata": {},
   "source": [
    "## Train the model"
   ]
  },
  {
   "cell_type": "code",
   "execution_count": 43,
   "id": "48519be3-2ebc-4845-a5da-df7030d37089",
   "metadata": {},
   "outputs": [],
   "source": [
    "model = LinearRegression()"
   ]
  },
  {
   "cell_type": "code",
   "execution_count": 44,
   "id": "e452dc30-1c9d-4b28-9eb7-5217f70af013",
   "metadata": {},
   "outputs": [
    {
     "data": {
      "text/plain": [
       "LinearRegression()"
      ]
     },
     "execution_count": 44,
     "metadata": {},
     "output_type": "execute_result"
    }
   ],
   "source": [
    "model.fit(X_train, y_train)"
   ]
  },
  {
   "cell_type": "markdown",
   "id": "1fa02018-cd3a-4bd3-92e9-f68e354fb3d5",
   "metadata": {},
   "source": [
    "## Prediction results"
   ]
  },
  {
   "cell_type": "code",
   "execution_count": 45,
   "id": "e036644c-982e-4b56-8afb-e57771180fed",
   "metadata": {},
   "outputs": [],
   "source": [
    "y_pred = model.predict(X_test)"
   ]
  },
  {
   "cell_type": "code",
   "execution_count": 46,
   "id": "0fb6d187-e5a9-4c9b-948f-3262f96afbb8",
   "metadata": {},
   "outputs": [
    {
     "data": {
      "text/plain": [
       "array([1576.70330883, 2012.61507555, 1658.78021571, 1574.85826189,\n",
       "       1486.61871245, 1511.69847601, 1422.16205138, 1521.59424088,\n",
       "       1957.71101282, 1489.89879589, 1887.92421616, 1563.99298549,\n",
       "       1562.70743966, 1607.77125207, 1825.59465382, 1524.25930867,\n",
       "       1852.64513954, 1697.97820688, 1806.40681038, 1435.69239558,\n",
       "       1627.01461005, 1752.93778415, 1617.91505058, 1568.50310022,\n",
       "       1849.3650561 , 1890.53376942, 1632.06041043, 1617.30003494,\n",
       "       1706.02892481, 1573.6282306 , 1625.91025398, 1751.09273722,\n",
       "       1386.77651252, 1710.89353543, 1629.19033742, 1761.34299797,\n",
       "       1819.98018302, 1689.50386574, 1865.53333585, 1558.81234057,\n",
       "       1533.52757179, 1560.91790726, 1524.17997868, 1375.04818682,\n",
       "       1664.78088149, 1529.17943384, 1762.82106292, 1873.32353403,\n",
       "       1529.32892451, 1383.24839543, 1513.10969706, 1618.48703779,\n",
       "       1709.8446939 , 1771.02127152, 1299.92897115, 1542.54780126,\n",
       "       1444.75565349, 1470.38027201, 1771.43128195, 1961.19610148,\n",
       "       1703.22901248, 1299.10895029, 1884.38361296, 1610.64132508,\n",
       "       1377.71325462, 2002.15980958, 1904.24198659, 1398.05179936,\n",
       "       1912.85220563, 1900.6345395 , 1867.99339843, 1870.45346101,\n",
       "       1896.88893109, 1438.60549703, 1750.27271635, 1715.29718793,\n",
       "       1873.93854967, 1648.73496017, 1705.15338941, 1716.93722965,\n",
       "       1419.29197837, 1833.78465975, 1812.18998484, 1836.44972754,\n",
       "       1568.29809501, 1431.02030407, 1892.993832  , 1902.88959687,\n",
       "       1896.94444563, 1717.30421164, 1388.57853102, 1374.63817639,\n",
       "       1351.55295044, 1560.50789683, 1795.48601944, 1617.61150239,\n",
       "       1512.49468142, 1801.22616546, 1624.68022268, 1654.68011141,\n",
       "       1623.86020182, 1522.41426174, 1816.90510479, 1431.59229128,\n",
       "       1675.97352154, 1907.1120596 , 1508.80458754, 1648.93996539,\n",
       "       1788.92585255, 1579.36837662, 1664.57587628, 1899.19950299,\n",
       "       1305.87412239, 1843.82991529, 1676.7935424 , 1516.82360639,\n",
       "       1702.46450615, 1954.63593459, 1701.38396554, 1683.76371972,\n",
       "       1391.24359882, 1697.69387167, 1653.71059987, 1676.58853719,\n",
       "       1714.99363973, 1891.61431003, 1303.41405981, 1877.82344608,\n",
       "       1721.44734438, 1672.65040966, 1893.04934654, 1663.5508502 ,\n",
       "       1573.01321495, 1779.50581534, 1296.03387206, 1815.75440349,\n",
       "       1661.50079805, 1693.79877258, 1721.85735481, 1698.9794175 ,\n",
       "       1754.52231133, 1565.22301678, 1385.1364708 , 1877.62864355,\n",
       "       1685.19875622, 1916.33729428, 1842.04038289, 1440.65554918,\n",
       "       1648.32494974, 1841.01535682, 1693.38876215, 1481.98623928,\n",
       "       1522.94994739, 1896.32942998, 1897.50394673, 2007.28493996,\n",
       "       1555.32725191, 1580.18839748, 1690.31368392, 1486.0036968 ,\n",
       "       1714.96982428, 1793.28647661, 1839.3753151 , 1890.79428917,\n",
       "       1403.58694017, 1328.54933791, 1664.37087106, 1756.16235305,\n",
       "       1853.93068537, 1822.03023517, 1559.42735621, 1804.39978667,\n",
       "       1886.69418487, 1445.78067956, 1894.68938826, 1903.83197616,\n",
       "       1819.64950258, 1335.31451001, 1714.63914384, 1810.75494834,\n",
       "       1808.0468521 , 1725.34244347, 1248.71500229, 1567.88808458,\n",
       "       1778.60646448, 1753.08727483, 1732.31262078, 1708.40965739,\n",
       "       1388.78353624, 1698.92390296, 1620.07156497, 1647.09491845,\n",
       "       1744.68206101, 1703.89954266, 1355.44804953, 1799.23162785,\n",
       "       1742.22199842, 1218.61657059, 1852.49564886, 1652.48056858,\n",
       "       1897.0939363 , 1571.98818888, 1384.47842672, 1631.24038957,\n",
       "       1569.32312108, 1708.43347285, 1429.38026235, 1897.55946127,\n",
       "       1768.10817007, 1514.15853859, 1847.52000916, 2012.00005991,\n",
       "       1806.85984925, 1610.23131465, 1526.02502561, 1887.45869119,\n",
       "       1591.09670232, 1891.40930482, 1915.92728385, 1577.11331926,\n",
       "       1851.82511868, 1443.93563263, 1767.12617243, 2007.89995561,\n",
       "       1815.88007872, 1800.87166957, 1295.2138512 , 1381.19834328,\n",
       "       1846.55049763, 1962.22112755, 1342.89970297, 1772.66131324,\n",
       "       1483.13362379, 1749.45269549, 1805.83482317, 1301.77401809,\n",
       "       1569.11811587, 1993.95960098, 1827.64470597, 1761.13799276,\n",
       "       1712.73858237, 1346.63282528, 1664.72536695, 1799.17611331,\n",
       "       1676.17852676, 2004.00485652, 1815.34439306, 1579.41140506,\n",
       "       1446.60070042, 1478.29614541, 1699.5389186 , 1500.96907751,\n",
       "       1303.20905459, 1625.70524876, 1514.36354381, 1890.17927353,\n",
       "       1624.06520704, 1554.71223627, 1901.04454993, 1777.37643319,\n",
       "       1489.28378024, 1523.35995782, 1715.70719836, 1949.92081464,\n",
       "       1645.65988194, 1688.68384488, 1453.65020773, 1844.23992572,\n",
       "       1573.42322538, 1883.61910664, 1917.56732557, 1570.90764826,\n",
       "       1572.23622253, 1831.74481028, 1377.09823898, 1566.39753353,\n",
       "       1705.7445896 , 1477.76045976, 1855.16071666, 1388.98854145,\n",
       "       1298.90394507, 1663.90534609, 1816.29008915, 1375.66320247,\n",
       "       1435.28238515, 1725.13743825, 1417.44693143, 1996.82967399,\n",
       "       1484.2651121 , 1464.99462188, 1564.81300635, 1481.69858728,\n",
       "       1327.52431183, 1489.48878546, 1822.31457038, 1824.15961732,\n",
       "       1890.58928396, 1882.53856603, 1999.08473136, 1869.42843494,\n",
       "       1400.92187237, 1563.52746052, 1563.17296463, 1448.24074214,\n",
       "       1519.46485873, 1251.5850753 , 1492.56386369, 1568.70810544,\n",
       "       1486.82371766, 1264.50040385, 1765.23809706, 1475.22106718,\n",
       "       1520.69489002, 1839.58032031, 1815.95940871, 1523.7937837 ,\n",
       "       1823.46527168, 1670.23337552, 1634.72547823, 1437.04478531,\n",
       "       1386.32347366, 1645.86488716, 1712.53357715, 1817.80445565,\n",
       "       1309.15420583, 1567.27306893, 1627.34529048, 1601.00607997,\n",
       "       1586.17657716, 1888.33422659, 1671.66841202, 1465.38081686,\n",
       "       1807.78633235, 1515.97977007, 1569.5281263 , 1523.76996825,\n",
       "       1705.00389873, 1490.71881675, 1424.62211397, 1822.23524038,\n",
       "       1466.40584293, 1811.5749692 , 1757.39238434, 1762.6160577 ,\n",
       "       1892.22932568, 1950.53583029, 1622.99715253, 1386.16149688,\n",
       "       1855.77573231, 1784.01593007, 1994.98462705, 1773.15065367,\n",
       "       1377.50824941, 1524.99999954, 1812.39499006, 1259.58027869,\n",
       "       1593.84110012, 1900.83954472, 1301.9790233 , 1249.74002836,\n",
       "       1499.32903579, 1885.25914836, 1304.6440911 , 1752.26725397,\n",
       "       1619.30705865, 1688.27383445, 1886.07916922, 1454.06021816,\n",
       "       1517.08412614, 1897.76446649, 1431.84032493, 1766.10114636,\n",
       "       1699.00323295, 1673.71846418, 1811.77997441, 1673.30845375,\n",
       "       1392.47363011, 1840.40034117, 1891.35379028, 1892.58382157,\n",
       "       1864.91832021, 1766.87813878, 1485.59368637, 1419.49698359,\n",
       "       1711.48473562, 1753.49728526, 1387.8015386 , 1647.70993409,\n",
       "       1872.70851838, 1818.95515694, 1433.27536144, 1686.01877708,\n",
       "       1696.87385081, 1678.22857891, 1885.66915879, 1679.4586102 ,\n",
       "       1374.22816596, 1711.56406562, 1827.23469554, 1885.05414315,\n",
       "       1761.79603684, 1998.46971571, 1743.86204015, 1761.1810212 ,\n",
       "       1697.07885602, 2010.15501297, 1520.51370026, 1514.74973878,\n",
       "       1776.43073711, 1628.16531134, 1436.63477488, 1779.42648534,\n",
       "       1582.28147807, 1888.48371727, 1586.79159281, 1615.56145024,\n",
       "       1563.11745009, 1897.14945084, 1709.99418458, 1523.97497346,\n",
       "       1501.37908794, 1879.05347737, 1303.00404938, 1704.04903334,\n",
       "       1303.61906502, 1711.97407605, 1378.94328591, 1824.49029775,\n",
       "       1441.88558048, 1806.20180517, 1437.17046053, 1665.80590757,\n",
       "       1513.54352295, 1662.26530437, 1306.69414325, 1345.6077992 ,\n",
       "       1619.96510274, 1437.12743209, 1564.55248659, 1996.00965313,\n",
       "       1748.63267463, 1462.51074384, 1263.47537778, 1445.86000956,\n",
       "       1669.20834944, 1423.8020931 , 1785.04095615, 1891.76380071,\n",
       "       1309.97422669, 1341.91770533, 1813.83002656, 1527.05005169,\n",
       "       1907.31706482, 1750.47772157, 1372.99813467, 1807.99133756,\n",
       "       1896.12442477, 1621.19513403, 1782.17088313, 1387.96351538,\n",
       "       1761.28748343, 1770.20125066, 1434.0953823 , 1879.66849302,\n",
       "       1884.79362339, 1958.53103368, 2005.64489824, 1666.8547491 ,\n",
       "       1640.33994903, 1680.89364671, 1520.48988481, 1666.64974388,\n",
       "       1408.99640576, 1804.30124369, 1382.22336935, 1575.67828275,\n",
       "       1467.02085858, 1708.81966782, 1790.77089949, 1722.2243368 ,\n",
       "       1516.18477529, 1432.66034579, 1519.6936794 , 1747.55213402,\n",
       "       1832.15482071, 1594.66112098, 1569.06260133, 1628.37031656,\n",
       "       1428.10720262, 1707.32911678, 1372.17811381, 1756.83288324,\n",
       "       1666.83093364, 1710.07351457, 1864.71331499, 1310.58924234,\n",
       "       1751.85724354, 1655.29512706, 2004.20986173, 1621.76712124,\n",
       "       1562.35294377, 1706.58842591, 1439.01550746, 1352.16796609,\n",
       "       1702.25950094, 1632.26541565, 2008.92498168, 1893.66436219,\n",
       "       1742.63200885, 1657.75518964, 1702.66951137, 1380.58332763,\n",
       "       1382.63337978, 1497.07397842, 1390.01356753, 1526.23003083,\n",
       "       1490.10380111, 1673.92346939, 1388.41655425, 1623.20215774,\n",
       "       1758.06291453, 1814.5243722 , 1428.97025192, 1802.66120197,\n",
       "       1555.1222467 , 1763.43607856, 1870.65846623, 1758.00739999,\n",
       "       1489.69379068, 1822.92958602, 1704.71956352, 1676.75051397,\n",
       "       1832.75963367, 1312.43428927])"
      ]
     },
     "execution_count": 46,
     "metadata": {},
     "output_type": "execute_result"
    }
   ],
   "source": [
    "y_pred"
   ]
  },
  {
   "cell_type": "markdown",
   "id": "a37c26c6-4e38-4e94-b623-ecb344481080",
   "metadata": {},
   "source": [
    "## Make predictions"
   ]
  },
  {
   "cell_type": "code",
   "execution_count": 47,
   "id": "43771b01-6ea2-40d7-b7c2-169c7b456b29",
   "metadata": {},
   "outputs": [],
   "source": [
    "# Example: Predicting for 2025 with specific assumptions for features\n",
    "future_data = {\n",
    "    'region': label_encoder_region.transform(['Банишора', 'Белите Брези']),  # Encode regions\n",
    "    'apartment_type': label_encoder_apartment_type.transform(['Двустаен апартамент', 'Тристаен апартамент']),  # Encode apartment types\n",
    "    'year': [2025] * 2,  # Assuming 2 predictions for example purposes\n",
    "    'month': [1, 1],  # Predicting for January 2025\n",
    "}\n",
    "\n",
    "# Convert to DataFrame\n",
    "future_X = pd.DataFrame(future_data)\n",
    "\n",
    "# Make predictions\n",
    "future_predictions = model.predict(future_X)"
   ]
  },
  {
   "cell_type": "code",
   "execution_count": 48,
   "id": "bb33a960-37ef-426b-b59b-87b9c6a0226e",
   "metadata": {},
   "outputs": [
    {
     "name": "stdout",
     "output_type": "stream",
     "text": [
      "Prediction for Банишора - Двустаен апартамент: 1935.94 per square meter\n",
      "Prediction for Белите Брези - Тристаен апартамент: 2071.54 per square meter\n"
     ]
    }
   ],
   "source": [
    "# Decode the encoded labels back to their original strings\n",
    "decoded_regions = label_encoder_region.inverse_transform(future_data['region'])\n",
    "decoded_apartment_types = label_encoder_apartment_type.inverse_transform(future_data['apartment_type'])\n",
    "\n",
    "# Display predictions with original labels\n",
    "for i, prediction in enumerate(future_predictions):\n",
    "    region_label = decoded_regions[i]\n",
    "    apartment_type_label = decoded_apartment_types[i]\n",
    "    print(f\"Prediction for {region_label} - {apartment_type_label}: {prediction:.2f} per square meter\")"
   ]
  },
  {
   "cell_type": "markdown",
   "id": "5e08740c-6aa0-42a0-871d-18730e94455c",
   "metadata": {},
   "source": [
    "## Evaluate the model"
   ]
  },
  {
   "cell_type": "code",
   "execution_count": 49,
   "id": "8d51ef51-a33c-4071-a6c5-86d8047c9a9c",
   "metadata": {},
   "outputs": [
    {
     "data": {
      "text/html": [
       "<div>\n",
       "<style scoped>\n",
       "    .dataframe tbody tr th:only-of-type {\n",
       "        vertical-align: middle;\n",
       "    }\n",
       "\n",
       "    .dataframe tbody tr th {\n",
       "        vertical-align: top;\n",
       "    }\n",
       "\n",
       "    .dataframe thead th {\n",
       "        text-align: right;\n",
       "    }\n",
       "</style>\n",
       "<table border=\"1\" class=\"dataframe\">\n",
       "  <thead>\n",
       "    <tr style=\"text-align: right;\">\n",
       "      <th></th>\n",
       "      <th>coefficients</th>\n",
       "    </tr>\n",
       "  </thead>\n",
       "  <tbody>\n",
       "    <tr>\n",
       "      <th>region</th>\n",
       "      <td>0.205005</td>\n",
       "    </tr>\n",
       "    <tr>\n",
       "      <th>apartment_type</th>\n",
       "      <td>45.063812</td>\n",
       "    </tr>\n",
       "    <tr>\n",
       "      <th>year</th>\n",
       "      <td>187.919773</td>\n",
       "    </tr>\n",
       "    <tr>\n",
       "      <th>month</th>\n",
       "      <td>18.253412</td>\n",
       "    </tr>\n",
       "  </tbody>\n",
       "</table>\n",
       "</div>"
      ],
      "text/plain": [
       "                coefficients\n",
       "region              0.205005\n",
       "apartment_type     45.063812\n",
       "year              187.919773\n",
       "month              18.253412"
      ]
     },
     "execution_count": 49,
     "metadata": {},
     "output_type": "execute_result"
    }
   ],
   "source": [
    "cdf = pd.DataFrame(model.coef_, X.columns, columns=['coefficients'])\n",
    "cdf"
   ]
  },
  {
   "cell_type": "code",
   "execution_count": 50,
   "id": "712083e0-28f9-49c0-bdc0-3ed00d094e3a",
   "metadata": {},
   "outputs": [],
   "source": [
    "mse = mean_squared_error(y_test, y_pred)\n",
    "rmse = np.sqrt(mse)"
   ]
  },
  {
   "cell_type": "code",
   "execution_count": 51,
   "id": "9a319287-ac44-4a6f-bdc2-329d78f2138e",
   "metadata": {},
   "outputs": [
    {
     "name": "stdout",
     "output_type": "stream",
     "text": [
      "Coefficients: 0.20500521514885456 45.063812408288534 187.91977258820344 18.253412245455337\n",
      "Intercept: -378710.3931070282\n",
      "Mean Absolute Error:  363.30911428423263\n",
      "Mean squared error (MSE): 213083.40\n",
      "Root Mean Squared Error: 461.61\n",
      "Coefficient of determination (R^2): 0.13\n"
     ]
    }
   ],
   "source": [
    "print(\"Coefficients:\", *model.coef_)\n",
    "print(\"Intercept:\", model.intercept_)\n",
    "print(\"Mean Absolute Error: \", mean_absolute_error(y_test, y_pred))\n",
    "print(f\"Mean squared error (MSE): {mse:.2f}\")\n",
    "print(f\"Root Mean Squared Error: {rmse:.2f}\")\n",
    "print(f\"Coefficient of determination (R^2): {r2_score(y_test, y_pred):.2f}\")"
   ]
  },
  {
   "cell_type": "markdown",
   "id": "94a314a9-bda4-4a81-929f-04abd16e7728",
   "metadata": {},
   "source": [
    "## Residuals"
   ]
  },
  {
   "cell_type": "code",
   "execution_count": 52,
   "id": "eba839c8-3434-4cc7-a902-192d9f199f4a",
   "metadata": {},
   "outputs": [],
   "source": [
    "residuals = y_test - y_pred"
   ]
  },
  {
   "cell_type": "code",
   "execution_count": 53,
   "id": "a747d36c-02e2-4a30-8975-93c4bbf49da6",
   "metadata": {},
   "outputs": [
    {
     "data": {
      "text/plain": [
       "1376     458.026691\n",
       "180      707.994924\n",
       "1899    -500.450216\n",
       "1367    -225.848262\n",
       "1936     701.831288\n",
       "           ...     \n",
       "246    -1184.219586\n",
       "1432     -67.839564\n",
       "597     -292.140514\n",
       "916      508.820366\n",
       "2566    -448.794289\n",
       "Name: price_per_sqm, Length: 534, dtype: float64"
      ]
     },
     "execution_count": 53,
     "metadata": {},
     "output_type": "execute_result"
    }
   ],
   "source": [
    "residuals"
   ]
  }
 ],
 "metadata": {
  "kernelspec": {
   "display_name": "Python 3 (ipykernel)",
   "language": "python",
   "name": "python3"
  },
  "language_info": {
   "codemirror_mode": {
    "name": "ipython",
    "version": 3
   },
   "file_extension": ".py",
   "mimetype": "text/x-python",
   "name": "python",
   "nbconvert_exporter": "python",
   "pygments_lexer": "ipython3",
   "version": "3.9.12"
  }
 },
 "nbformat": 4,
 "nbformat_minor": 5
}
