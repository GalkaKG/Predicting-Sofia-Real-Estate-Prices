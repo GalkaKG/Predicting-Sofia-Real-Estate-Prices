{
 "cells": [
  {
   "cell_type": "code",
   "execution_count": 1,
   "id": "d840f8c1-ae28-47fd-843b-e16bfc304f8e",
   "metadata": {},
   "outputs": [],
   "source": [
    "%matplotlib inline"
   ]
  },
  {
   "cell_type": "code",
   "execution_count": 65,
   "id": "8ec18ee0-d81c-48b8-abe9-dc192ce80041",
   "metadata": {},
   "outputs": [],
   "source": [
    "import numpy as np\n",
    "import pandas as pd\n",
    "import matplotlib.pyplot as plt\n",
    "import seaborn as sns\n",
    "\n",
    "from sklearn.model_selection import train_test_split, learning_curve, cross_val_score\n",
    "from sklearn.linear_model import LinearRegression\n",
    "from sklearn.metrics import mean_squared_error, mean_absolute_error, r2_score\n",
    "\n",
    "from sklearn.preprocessing import StandardScaler, OneHotEncoder\n",
    "from sklearn.compose import ColumnTransformer\n",
    "from sklearn.pipeline import Pipeline\n",
    "from sklearn.ensemble import RandomForestRegressor\n",
    "\n",
    "from sklearn.preprocessing import LabelEncoder"
   ]
  },
  {
   "cell_type": "markdown",
   "id": "b5b27a86-9168-4363-8cdc-6813a53978c8",
   "metadata": {},
   "source": [
    "Let's read the first dataset that we have:"
   ]
  },
  {
   "cell_type": "code",
   "execution_count": 3,
   "id": "ad9af972-c54a-45d7-bfa6-768e10053060",
   "metadata": {},
   "outputs": [],
   "source": [
    "combined_df = pd.read_csv(\"data/property_prices_combined.csv\")"
   ]
  },
  {
   "cell_type": "markdown",
   "id": "bce9d7c3-0533-47f6-8dfb-42ae9eaa734f",
   "metadata": {},
   "source": [
    "And check it:"
   ]
  },
  {
   "cell_type": "code",
   "execution_count": 4,
   "id": "6af98695-6b72-496d-adb8-b2ebdd3615f8",
   "metadata": {},
   "outputs": [
    {
     "data": {
      "text/html": [
       "<div>\n",
       "<style scoped>\n",
       "    .dataframe tbody tr th:only-of-type {\n",
       "        vertical-align: middle;\n",
       "    }\n",
       "\n",
       "    .dataframe tbody tr th {\n",
       "        vertical-align: top;\n",
       "    }\n",
       "\n",
       "    .dataframe thead th {\n",
       "        text-align: right;\n",
       "    }\n",
       "</style>\n",
       "<table border=\"1\" class=\"dataframe\">\n",
       "  <thead>\n",
       "    <tr style=\"text-align: right;\">\n",
       "      <th></th>\n",
       "      <th>Район</th>\n",
       "      <th>Цена</th>\n",
       "      <th>Цена / кв.м.</th>\n",
       "      <th>Валута</th>\n",
       "      <th>Тип Апартамент</th>\n",
       "      <th>Дата</th>\n",
       "    </tr>\n",
       "  </thead>\n",
       "  <tbody>\n",
       "    <tr>\n",
       "      <th>0</th>\n",
       "      <td>Банишора</td>\n",
       "      <td>134653.98</td>\n",
       "      <td>1987.51</td>\n",
       "      <td>EUR</td>\n",
       "      <td>Двустаен апартамент</td>\n",
       "      <td>2024-07-28</td>\n",
       "    </tr>\n",
       "    <tr>\n",
       "      <th>1</th>\n",
       "      <td>Банкя (гр.)</td>\n",
       "      <td>131843.00</td>\n",
       "      <td>1890.84</td>\n",
       "      <td>EUR</td>\n",
       "      <td>Двустаен апартамент</td>\n",
       "      <td>2024-07-28</td>\n",
       "    </tr>\n",
       "    <tr>\n",
       "      <th>2</th>\n",
       "      <td>Белите Брези</td>\n",
       "      <td>249900.00</td>\n",
       "      <td>2108.86</td>\n",
       "      <td>EUR</td>\n",
       "      <td>Двустаен апартамент</td>\n",
       "      <td>2024-07-28</td>\n",
       "    </tr>\n",
       "    <tr>\n",
       "      <th>3</th>\n",
       "      <td>Бенковски</td>\n",
       "      <td>115863.50</td>\n",
       "      <td>1782.52</td>\n",
       "      <td>EUR</td>\n",
       "      <td>Двустаен апартамент</td>\n",
       "      <td>2024-07-28</td>\n",
       "    </tr>\n",
       "    <tr>\n",
       "      <th>4</th>\n",
       "      <td>Борово</td>\n",
       "      <td>135594.22</td>\n",
       "      <td>2148.50</td>\n",
       "      <td>EUR</td>\n",
       "      <td>Двустаен апартамент</td>\n",
       "      <td>2024-07-28</td>\n",
       "    </tr>\n",
       "    <tr>\n",
       "      <th>...</th>\n",
       "      <td>...</td>\n",
       "      <td>...</td>\n",
       "      <td>...</td>\n",
       "      <td>...</td>\n",
       "      <td>...</td>\n",
       "      <td>...</td>\n",
       "    </tr>\n",
       "    <tr>\n",
       "      <th>2768</th>\n",
       "      <td>Стрелбище</td>\n",
       "      <td>175333.00</td>\n",
       "      <td>1075.67</td>\n",
       "      <td>EUR</td>\n",
       "      <td>Многостаен апартамемент</td>\n",
       "      <td>2021-07-28</td>\n",
       "    </tr>\n",
       "    <tr>\n",
       "      <th>2769</th>\n",
       "      <td>Студентски Град</td>\n",
       "      <td>222600.00</td>\n",
       "      <td>718.84</td>\n",
       "      <td>EUR</td>\n",
       "      <td>Многостаен апартамемент</td>\n",
       "      <td>2021-07-28</td>\n",
       "    </tr>\n",
       "    <tr>\n",
       "      <th>2770</th>\n",
       "      <td>Хаджи Димитър</td>\n",
       "      <td>205000.00</td>\n",
       "      <td>1045.92</td>\n",
       "      <td>EUR</td>\n",
       "      <td>Многостаен апартамемент</td>\n",
       "      <td>2021-07-28</td>\n",
       "    </tr>\n",
       "    <tr>\n",
       "      <th>2771</th>\n",
       "      <td>Хиподрума</td>\n",
       "      <td>330000.00</td>\n",
       "      <td>2357.14</td>\n",
       "      <td>EUR</td>\n",
       "      <td>Многостаен апартамемент</td>\n",
       "      <td>2021-07-28</td>\n",
       "    </tr>\n",
       "    <tr>\n",
       "      <th>2772</th>\n",
       "      <td>Център</td>\n",
       "      <td>564114.00</td>\n",
       "      <td>2689.00</td>\n",
       "      <td>EUR</td>\n",
       "      <td>Многостаен апартамемент</td>\n",
       "      <td>2021-07-28</td>\n",
       "    </tr>\n",
       "  </tbody>\n",
       "</table>\n",
       "<p>2773 rows × 6 columns</p>\n",
       "</div>"
      ],
      "text/plain": [
       "                Район       Цена  Цена / кв.м. Валута  \\\n",
       "0            Банишора  134653.98       1987.51    EUR   \n",
       "1         Банкя (гр.)  131843.00       1890.84    EUR   \n",
       "2        Белите Брези  249900.00       2108.86    EUR   \n",
       "3           Бенковски  115863.50       1782.52    EUR   \n",
       "4              Борово  135594.22       2148.50    EUR   \n",
       "...               ...        ...           ...    ...   \n",
       "2768        Стрелбище  175333.00       1075.67    EUR   \n",
       "2769  Студентски Град  222600.00        718.84    EUR   \n",
       "2770    Хаджи Димитър  205000.00       1045.92    EUR   \n",
       "2771        Хиподрума  330000.00       2357.14    EUR   \n",
       "2772           Център  564114.00       2689.00    EUR   \n",
       "\n",
       "               Тип Апартамент        Дата  \n",
       "0         Двустаен апартамент  2024-07-28  \n",
       "1         Двустаен апартамент  2024-07-28  \n",
       "2         Двустаен апартамент  2024-07-28  \n",
       "3         Двустаен апартамент  2024-07-28  \n",
       "4         Двустаен апартамент  2024-07-28  \n",
       "...                       ...         ...  \n",
       "2768  Многостаен апартамемент  2021-07-28  \n",
       "2769  Многостаен апартамемент  2021-07-28  \n",
       "2770  Многостаен апартамемент  2021-07-28  \n",
       "2771  Многостаен апартамемент  2021-07-28  \n",
       "2772  Многостаен апартамемент  2021-07-28  \n",
       "\n",
       "[2773 rows x 6 columns]"
      ]
     },
     "execution_count": 4,
     "metadata": {},
     "output_type": "execute_result"
    }
   ],
   "source": [
    "combined_df"
   ]
  },
  {
   "cell_type": "markdown",
   "id": "4ff98bf4-abd9-45ae-8bd6-ea8cb7db7773",
   "metadata": {},
   "source": [
    "Let's normalize the titles like convert the column names from Bulgarian to English:"
   ]
  },
  {
   "cell_type": "code",
   "execution_count": 5,
   "id": "94c207a3-7e04-4aba-9233-5ce313d8eec0",
   "metadata": {},
   "outputs": [
    {
     "data": {
      "text/html": [
       "<div>\n",
       "<style scoped>\n",
       "    .dataframe tbody tr th:only-of-type {\n",
       "        vertical-align: middle;\n",
       "    }\n",
       "\n",
       "    .dataframe tbody tr th {\n",
       "        vertical-align: top;\n",
       "    }\n",
       "\n",
       "    .dataframe thead th {\n",
       "        text-align: right;\n",
       "    }\n",
       "</style>\n",
       "<table border=\"1\" class=\"dataframe\">\n",
       "  <thead>\n",
       "    <tr style=\"text-align: right;\">\n",
       "      <th></th>\n",
       "      <th>region</th>\n",
       "      <th>price</th>\n",
       "      <th>price_per_sqm</th>\n",
       "      <th>currency</th>\n",
       "      <th>apartment_type</th>\n",
       "      <th>date</th>\n",
       "    </tr>\n",
       "  </thead>\n",
       "  <tbody>\n",
       "    <tr>\n",
       "      <th>0</th>\n",
       "      <td>Банишора</td>\n",
       "      <td>134653.98</td>\n",
       "      <td>1987.51</td>\n",
       "      <td>EUR</td>\n",
       "      <td>Двустаен апартамент</td>\n",
       "      <td>2024-07-28</td>\n",
       "    </tr>\n",
       "    <tr>\n",
       "      <th>1</th>\n",
       "      <td>Банкя (гр.)</td>\n",
       "      <td>131843.00</td>\n",
       "      <td>1890.84</td>\n",
       "      <td>EUR</td>\n",
       "      <td>Двустаен апартамент</td>\n",
       "      <td>2024-07-28</td>\n",
       "    </tr>\n",
       "    <tr>\n",
       "      <th>2</th>\n",
       "      <td>Белите Брези</td>\n",
       "      <td>249900.00</td>\n",
       "      <td>2108.86</td>\n",
       "      <td>EUR</td>\n",
       "      <td>Двустаен апартамент</td>\n",
       "      <td>2024-07-28</td>\n",
       "    </tr>\n",
       "    <tr>\n",
       "      <th>3</th>\n",
       "      <td>Бенковски</td>\n",
       "      <td>115863.50</td>\n",
       "      <td>1782.52</td>\n",
       "      <td>EUR</td>\n",
       "      <td>Двустаен апартамент</td>\n",
       "      <td>2024-07-28</td>\n",
       "    </tr>\n",
       "    <tr>\n",
       "      <th>4</th>\n",
       "      <td>Борово</td>\n",
       "      <td>135594.22</td>\n",
       "      <td>2148.50</td>\n",
       "      <td>EUR</td>\n",
       "      <td>Двустаен апартамент</td>\n",
       "      <td>2024-07-28</td>\n",
       "    </tr>\n",
       "  </tbody>\n",
       "</table>\n",
       "</div>"
      ],
      "text/plain": [
       "         region      price  price_per_sqm currency       apartment_type  \\\n",
       "0      Банишора  134653.98        1987.51      EUR  Двустаен апартамент   \n",
       "1   Банкя (гр.)  131843.00        1890.84      EUR  Двустаен апартамент   \n",
       "2  Белите Брези  249900.00        2108.86      EUR  Двустаен апартамент   \n",
       "3     Бенковски  115863.50        1782.52      EUR  Двустаен апартамент   \n",
       "4        Борово  135594.22        2148.50      EUR  Двустаен апартамент   \n",
       "\n",
       "         date  \n",
       "0  2024-07-28  \n",
       "1  2024-07-28  \n",
       "2  2024-07-28  \n",
       "3  2024-07-28  \n",
       "4  2024-07-28  "
      ]
     },
     "execution_count": 5,
     "metadata": {},
     "output_type": "execute_result"
    }
   ],
   "source": [
    "combined_df = combined_df.rename(columns={\n",
    "    'Район': 'region',\n",
    "    'Цена': 'price',\n",
    "    'Цена / кв.м.': 'price_per_sqm',\n",
    "    'Валута': 'currency',\n",
    "    'Тип Апартамент': 'apartment_type',\n",
    "    'Дата': 'date'\n",
    "})\n",
    "\n",
    "\n",
    "combined_df.head()"
   ]
  },
  {
   "cell_type": "markdown",
   "id": "fbce8316-19da-48ab-a496-2567688a1b38",
   "metadata": {},
   "source": [
    "#### Let's take a closer look at the dataset."
   ]
  },
  {
   "cell_type": "code",
   "execution_count": 6,
   "id": "e2bbed30-2abe-4400-b3b3-b490da5a9863",
   "metadata": {},
   "outputs": [
    {
     "data": {
      "text/plain": [
       "(2773, 6)"
      ]
     },
     "execution_count": 6,
     "metadata": {},
     "output_type": "execute_result"
    }
   ],
   "source": [
    "combined_df.shape"
   ]
  },
  {
   "cell_type": "markdown",
   "id": "06fcb9e7-96c1-4ca5-8eb7-f9d35bcb6a13",
   "metadata": {},
   "source": [
    "It has 2773 observations and 6 features."
   ]
  },
  {
   "cell_type": "code",
   "execution_count": 7,
   "id": "3ef4ff2a-74d6-44fc-af8c-721c035bba8f",
   "metadata": {},
   "outputs": [
    {
     "data": {
      "text/html": [
       "<div>\n",
       "<style scoped>\n",
       "    .dataframe tbody tr th:only-of-type {\n",
       "        vertical-align: middle;\n",
       "    }\n",
       "\n",
       "    .dataframe tbody tr th {\n",
       "        vertical-align: top;\n",
       "    }\n",
       "\n",
       "    .dataframe thead th {\n",
       "        text-align: right;\n",
       "    }\n",
       "</style>\n",
       "<table border=\"1\" class=\"dataframe\">\n",
       "  <thead>\n",
       "    <tr style=\"text-align: right;\">\n",
       "      <th></th>\n",
       "      <th>count</th>\n",
       "      <th>mean</th>\n",
       "      <th>std</th>\n",
       "      <th>min</th>\n",
       "      <th>25%</th>\n",
       "      <th>50%</th>\n",
       "      <th>75%</th>\n",
       "      <th>max</th>\n",
       "    </tr>\n",
       "  </thead>\n",
       "  <tbody>\n",
       "    <tr>\n",
       "      <th>price</th>\n",
       "      <td>2773.0</td>\n",
       "      <td>231937.814468</td>\n",
       "      <td>255154.727056</td>\n",
       "      <td>6500.0</td>\n",
       "      <td>103565.00</td>\n",
       "      <td>156238.61</td>\n",
       "      <td>255161.11</td>\n",
       "      <td>3000000.0</td>\n",
       "    </tr>\n",
       "    <tr>\n",
       "      <th>price_per_sqm</th>\n",
       "      <td>2773.0</td>\n",
       "      <td>1719.033722</td>\n",
       "      <td>635.308852</td>\n",
       "      <td>17.4</td>\n",
       "      <td>1335.48</td>\n",
       "      <td>1634.61</td>\n",
       "      <td>2000.00</td>\n",
       "      <td>8200.0</td>\n",
       "    </tr>\n",
       "  </tbody>\n",
       "</table>\n",
       "</div>"
      ],
      "text/plain": [
       "                count           mean            std     min        25%  \\\n",
       "price          2773.0  231937.814468  255154.727056  6500.0  103565.00   \n",
       "price_per_sqm  2773.0    1719.033722     635.308852    17.4    1335.48   \n",
       "\n",
       "                     50%        75%        max  \n",
       "price          156238.61  255161.11  3000000.0  \n",
       "price_per_sqm    1634.61    2000.00     8200.0  "
      ]
     },
     "execution_count": 7,
     "metadata": {},
     "output_type": "execute_result"
    }
   ],
   "source": [
    "combined_df.describe().T"
   ]
  },
  {
   "cell_type": "code",
   "execution_count": 8,
   "id": "3fa51c5d-f54f-40ce-b4ff-33c8dfcb8085",
   "metadata": {},
   "outputs": [
    {
     "name": "stdout",
     "output_type": "stream",
     "text": [
      "<class 'pandas.core.frame.DataFrame'>\n",
      "RangeIndex: 2773 entries, 0 to 2772\n",
      "Data columns (total 6 columns):\n",
      " #   Column          Non-Null Count  Dtype  \n",
      "---  ------          --------------  -----  \n",
      " 0   region          2773 non-null   object \n",
      " 1   price           2773 non-null   float64\n",
      " 2   price_per_sqm   2773 non-null   float64\n",
      " 3   currency        2773 non-null   object \n",
      " 4   apartment_type  2773 non-null   object \n",
      " 5   date            2773 non-null   object \n",
      "dtypes: float64(2), object(4)\n",
      "memory usage: 130.1+ KB\n"
     ]
    }
   ],
   "source": [
    "combined_df.info()"
   ]
  },
  {
   "cell_type": "code",
   "execution_count": 9,
   "id": "abef06dd-0268-4e41-9577-6c5e5d077ecc",
   "metadata": {},
   "outputs": [
    {
     "data": {
      "text/plain": [
       "region             object\n",
       "price             float64\n",
       "price_per_sqm     float64\n",
       "currency           object\n",
       "apartment_type     object\n",
       "date               object\n",
       "dtype: object"
      ]
     },
     "execution_count": 9,
     "metadata": {},
     "output_type": "execute_result"
    }
   ],
   "source": [
    "combined_df.dtypes"
   ]
  },
  {
   "cell_type": "markdown",
   "id": "1aa06d4a-4730-426a-b707-27bae4770117",
   "metadata": {},
   "source": [
    "Let's convert the \"date\" column in the correct data type:"
   ]
  },
  {
   "cell_type": "code",
   "execution_count": 10,
   "id": "99c16360-33e7-4c5b-86fb-83f483c21b49",
   "metadata": {},
   "outputs": [],
   "source": [
    "combined_df[\"date\"] = pd.to_datetime(combined_df[\"date\"])"
   ]
  },
  {
   "cell_type": "markdown",
   "id": "eebff2c6-bb9f-4bf9-a1cf-85a73b1bdfa2",
   "metadata": {},
   "source": [
    "Check the converted format:"
   ]
  },
  {
   "cell_type": "code",
   "execution_count": 11,
   "id": "8b4effe6-667e-4997-a3ab-98ed7dfec5db",
   "metadata": {},
   "outputs": [
    {
     "data": {
      "text/plain": [
       "0      2024-07-28\n",
       "1      2024-07-28\n",
       "2      2024-07-28\n",
       "3      2024-07-28\n",
       "4      2024-07-28\n",
       "          ...    \n",
       "2768   2021-07-28\n",
       "2769   2021-07-28\n",
       "2770   2021-07-28\n",
       "2771   2021-07-28\n",
       "2772   2021-07-28\n",
       "Name: date, Length: 2773, dtype: datetime64[ns]"
      ]
     },
     "execution_count": 11,
     "metadata": {},
     "output_type": "execute_result"
    }
   ],
   "source": [
    "combined_df[\"date\"]"
   ]
  },
  {
   "cell_type": "markdown",
   "id": "8b232f53-5258-4892-a7d9-08cf890bf259",
   "metadata": {},
   "source": [
    "Check for NaN values:"
   ]
  },
  {
   "cell_type": "code",
   "execution_count": 12,
   "id": "ddb6b32f-149f-465a-b3e4-f56928dbc229",
   "metadata": {},
   "outputs": [
    {
     "data": {
      "text/plain": [
       "region            0\n",
       "price             0\n",
       "price_per_sqm     0\n",
       "currency          0\n",
       "apartment_type    0\n",
       "date              0\n",
       "dtype: int64"
      ]
     },
     "execution_count": 12,
     "metadata": {},
     "output_type": "execute_result"
    }
   ],
   "source": [
    "combined_df.isna().sum()"
   ]
  },
  {
   "cell_type": "markdown",
   "id": "731d3650-e43b-4d4f-aa0b-92e95c7e2ba6",
   "metadata": {},
   "source": [
    "We don't have null values in this dataset."
   ]
  },
  {
   "cell_type": "markdown",
   "id": "132cdbb9-629e-4514-b883-672dc05f4fd3",
   "metadata": {},
   "source": [
    "### Let's plot the prices over time for each apartment type:"
   ]
  },
  {
   "cell_type": "code",
   "execution_count": 13,
   "id": "ab079319-9902-44c6-af3e-bc1153391f63",
   "metadata": {},
   "outputs": [
    {
     "data": {
      "image/png": "[encoded data removed]",
      "text/plain": [
       "<Figure size 1008x576 with 1 Axes>"
      ]
     },
     "metadata": {
      "needs_background": "light"
     },
     "output_type": "display_data"
    }
   ],
   "source": [
    "apartment_types = combined_df[\"apartment_type\"].unique()\n",
    "\n",
    "plt.figure(figsize=(14, 8))\n",
    "\n",
    "for apartment_type in apartment_types:\n",
    "    # Filter the DataFrame by apartment type\n",
    "    filtered_df = combined_df[combined_df[\"apartment_type\"] == apartment_type]\n",
    "    \n",
    "    # Group by date and calculate the mean price for each date\n",
    "    price_over_time = filtered_df.groupby('date')['price'].median()\n",
    "    \n",
    "    # Plot the line for this apartment type\n",
    "    plt.plot(price_over_time.index, price_over_time.values, marker='o', label=apartment_type)\n",
    "\n",
    "plt.title('Price Trends Over Time by Apartment Type')\n",
    "plt.xlabel('Date')\n",
    "plt.ylabel('Average Price (EUR)')\n",
    "plt.xticks(rotation=45)\n",
    "plt.legend(title='Apartment Type')\n",
    "plt.grid(True)\n",
    "plt.show()"
   ]
  },
  {
   "cell_type": "markdown",
   "id": "dbb7566c-3c03-471a-8fb3-b3874f4663ee",
   "metadata": {},
   "source": [
    "Let's see how many __unique Ragions__ we have:"
   ]
  },
  {
   "cell_type": "code",
   "execution_count": 14,
   "id": "73128cbe-9126-4248-ac53-d0bd90ff100b",
   "metadata": {},
   "outputs": [
    {
     "data": {
      "text/plain": [
       "102"
      ]
     },
     "execution_count": 14,
     "metadata": {},
     "output_type": "execute_result"
    }
   ],
   "source": [
    "len(combined_df['region'].unique())"
   ]
  },
  {
   "cell_type": "markdown",
   "id": "6fbfd227-d104-4c79-aabe-c7b4bd68e19b",
   "metadata": {},
   "source": [
    "And which they are:"
   ]
  },
  {
   "cell_type": "code",
   "execution_count": 15,
   "id": "c2d5b49c-c28d-4f42-bb64-044887c4f24a",
   "metadata": {},
   "outputs": [
    {
     "data": {
      "text/plain": [
       "array(['Банишора', 'Банкя (гр.)', 'Белите Брези', 'Бенковски', 'Борово',\n",
       "       'Бояна', 'Бъкстон', 'Витоша', 'Гевгелийски', 'Гео Милев',\n",
       "       'Горна Баня', 'Гоце Делчев', 'Дианабад', 'Драгалевци', 'Дружба',\n",
       "       'Дружба 1', 'Дружба 2', 'Дървеница', 'Западен Парк',\n",
       "       'Захарна Фабрика', 'Зона Б18', 'Зона Б19', 'Зона Б5', 'Иван Вазов',\n",
       "       'Изгрев', 'Изток', 'Илинден', 'Княжево', 'Красна Поляна',\n",
       "       'Красно Село', 'Кръстова Вада', 'Лагера', 'Левски', 'Левски В',\n",
       "       'Левски Г', 'Лозенец', 'Люлин 1', 'Люлин 10', 'Люлин 2', 'Люлин 3',\n",
       "       'Люлин 4', 'Люлин 5', 'Люлин 6', 'Люлин 7', 'Люлин 8', 'Люлин 9',\n",
       "       'Люлин Център', 'м-т Гърдова глава', 'Малинова Долина',\n",
       "       'Малинова долина в.з.', 'Манастирски ливади Запад',\n",
       "       'Манастирски ливади Изток', 'Младост 1', 'Младост 1а', 'Младост 2',\n",
       "       'Младост 3', 'Младост 4', 'Мотописта', 'Мусагеница', 'Надежда 1',\n",
       "       'Надежда 2', 'Надежда 3', 'Надежда 4', 'Обеля', 'Обеля 1',\n",
       "       'Обеля 2', 'Оборище', 'Овча Купел', 'Овча Купел 1', 'Овча Купел 2',\n",
       "       'Павлово', 'Подуене', 'Полигона', 'Разсадника', 'Редута',\n",
       "       'Света Троица', 'Свобода', 'Сердика', 'Симеоново', 'Славия',\n",
       "       'Слатина', 'Стрелбище', 'Студентски Град', 'Суха Река', 'Толстой',\n",
       "       'Факултета', 'Фондови Жилища', 'Хаджи Димитър', 'Хиподрума',\n",
       "       'Хладилника', 'Център', 'Яворов', 'м-т Детски град',\n",
       "       'Врана - Лозен в.з.', 'Илиянци', 'Малашевци', 'Требич',\n",
       "       'Филиповци', '7-ми 11-ти километър', 'Централна гара',\n",
       "       'Американски колеж в.з.', 'Градина'], dtype=object)"
      ]
     },
     "execution_count": 15,
     "metadata": {},
     "output_type": "execute_result"
    }
   ],
   "source": [
    "combined_df['region'].unique()"
   ]
  },
  {
   "cell_type": "code",
   "execution_count": 16,
   "id": "498c4d75-53ca-4dc8-a2fb-1b928762b977",
   "metadata": {},
   "outputs": [
    {
     "data": {
      "text/plain": [
       "Index(['region', 'price', 'price_per_sqm', 'currency', 'apartment_type',\n",
       "       'date'],\n",
       "      dtype='object')"
      ]
     },
     "execution_count": 16,
     "metadata": {},
     "output_type": "execute_result"
    }
   ],
   "source": [
    "combined_df.columns"
   ]
  },
  {
   "cell_type": "markdown",
   "id": "c57f0bf2-d84c-417c-af6d-582f1a2f9704",
   "metadata": {},
   "source": [
    "__What are the mean prices by apartment type and date?__"
   ]
  },
  {
   "cell_type": "code",
   "execution_count": 17,
   "id": "232548b5-9a34-43a1-a63b-8d09d273329e",
   "metadata": {},
   "outputs": [
    {
     "name": "stdout",
     "output_type": "stream",
     "text": [
      "apartment_type           date      \n",
      "Ателие, таван, студио    2021-07-28     77116.214286\n",
      "                         2022-01-10     94700.741111\n",
      "                         2022-07-28    105442.089231\n",
      "                         2022-11-19    109510.400000\n",
      "                         2023-01-10    110105.194444\n",
      "                         2023-07-28    125257.334000\n",
      "                         2023-11-19    111184.527500\n",
      "                         2024-01-10    104707.250000\n",
      "                         2024-07-28    111905.708125\n",
      "Гараж, паркомясто        2021-07-28     22905.646875\n",
      "                         2022-01-10     24480.638750\n",
      "                         2022-07-28     28337.755385\n",
      "                         2022-11-19     27116.979375\n",
      "                         2023-01-10     26724.520303\n",
      "                         2023-07-28     31258.320789\n",
      "                         2023-11-19     33171.380857\n",
      "                         2024-01-10     30898.458438\n",
      "                         2024-07-28     34238.918636\n",
      "Двустаен апартамент      2021-07-28     93551.248276\n",
      "                         2022-01-10    107118.865412\n",
      "                         2022-07-28    120324.352069\n",
      "                         2022-11-19    129119.760000\n",
      "                         2023-01-10    125222.730667\n",
      "                         2023-07-28    128489.505532\n",
      "                         2023-11-19    135025.987312\n",
      "                         2024-01-10    135929.713118\n",
      "                         2024-07-28    146534.885543\n",
      "Къща                     2021-07-28    540442.464286\n",
      "                         2022-01-10    561156.431143\n",
      "                         2022-07-28    580925.376765\n",
      "                         2022-11-19    611945.898250\n",
      "                         2023-01-10    636104.811351\n",
      "                         2023-07-28    750140.223250\n",
      "                         2023-11-19    650469.539444\n",
      "                         2024-01-10    683807.927714\n",
      "                         2024-07-28    645674.505750\n",
      "Многостаен апартамемент  2021-07-28    303980.268293\n",
      "                         2022-01-10    325959.417955\n",
      "                         2022-07-28    409153.686750\n",
      "                         2022-11-19    401162.978235\n",
      "                         2023-01-10    390378.587843\n",
      "                         2023-07-28    365859.256545\n",
      "                         2023-11-19    379444.556078\n",
      "                         2024-01-10    360178.656415\n",
      "                         2024-07-28    426860.527547\n",
      "Тристаен апартамент      2021-07-28    143589.772093\n",
      "                         2022-01-10    157431.857500\n",
      "                         2022-07-28    190931.811839\n",
      "                         2022-11-19    189928.615747\n",
      "                         2023-01-10    192971.282667\n",
      "                         2023-07-28    201610.296264\n",
      "                         2023-11-19    206597.678977\n",
      "                         2024-01-10    208725.653736\n",
      "                         2024-07-28    220629.843371\n",
      "Name: price, dtype: float64\n"
     ]
    }
   ],
   "source": [
    "mean_prices = combined_df.groupby(['apartment_type', 'date'])['price'].mean()\n",
    "\n",
    "print(mean_prices)"
   ]
  },
  {
   "cell_type": "markdown",
   "id": "09f1e4c3-433c-4210-901d-1670bcc74c9a",
   "metadata": {},
   "source": [
    "__What are the median prices by apartment type and date?__"
   ]
  },
  {
   "cell_type": "code",
   "execution_count": 18,
   "id": "eb35083e-c338-4ca3-a24d-23b6c3ef384f",
   "metadata": {},
   "outputs": [
    {
     "name": "stdout",
     "output_type": "stream",
     "text": [
      "apartment_type           date      \n",
      "Ателие, таван, студио    2021-07-28     69866.500\n",
      "                         2022-01-10     79990.000\n",
      "                         2022-07-28     99400.000\n",
      "                         2022-11-19     89664.500\n",
      "                         2023-01-10     71500.000\n",
      "                         2023-07-28    103250.000\n",
      "                         2023-11-19     79500.000\n",
      "                         2024-01-10     85638.750\n",
      "                         2024-07-28     97030.000\n",
      "Гараж, паркомясто        2021-07-28     19675.000\n",
      "                         2022-01-10     23500.000\n",
      "                         2022-07-28     27750.000\n",
      "                         2022-11-19     26475.000\n",
      "                         2023-01-10     26500.000\n",
      "                         2023-07-28     29200.000\n",
      "                         2023-11-19     30000.000\n",
      "                         2024-01-10     28350.000\n",
      "                         2024-07-28     33083.335\n",
      "Двустаен апартамент      2021-07-28     90382.700\n",
      "                         2022-01-10     96699.880\n",
      "                         2022-07-28    110449.050\n",
      "                         2022-11-19    122056.730\n",
      "                         2023-01-10    117625.000\n",
      "                         2023-07-28    124341.290\n",
      "                         2023-11-19    130087.140\n",
      "                         2024-01-10    129125.000\n",
      "                         2024-07-28    138048.900\n",
      "Къща                     2021-07-28    529098.000\n",
      "                         2022-01-10    498732.250\n",
      "                         2022-07-28    537499.690\n",
      "                         2022-11-19    502309.375\n",
      "                         2023-01-10    490000.000\n",
      "                         2023-07-28    632500.000\n",
      "                         2023-11-19    651813.530\n",
      "                         2024-01-10    765000.000\n",
      "                         2024-07-28    511333.330\n",
      "Многостаен апартамемент  2021-07-28    279250.000\n",
      "                         2022-01-10    308125.000\n",
      "                         2022-07-28    397599.920\n",
      "                         2022-11-19    360000.000\n",
      "                         2023-01-10    287450.000\n",
      "                         2023-07-28    297666.340\n",
      "                         2023-11-19    353033.000\n",
      "                         2024-01-10    326000.000\n",
      "                         2024-07-28    429953.000\n",
      "Тристаен апартамент      2021-07-28    137625.500\n",
      "                         2022-01-10    146333.930\n",
      "                         2022-07-28    182760.580\n",
      "                         2022-11-19    173716.080\n",
      "                         2023-01-10    173970.040\n",
      "                         2023-07-28    179606.700\n",
      "                         2023-11-19    189799.070\n",
      "                         2024-01-10    191483.500\n",
      "                         2024-07-28    209953.330\n",
      "Name: price, dtype: float64\n"
     ]
    }
   ],
   "source": [
    "median_prices = combined_df.groupby(['apartment_type', 'date'])['price'].median()\n",
    "print(median_prices)"
   ]
  },
  {
   "cell_type": "code",
   "execution_count": 19,
   "id": "79ae6c4d-9304-4666-82c6-7530c74a5200",
   "metadata": {},
   "outputs": [],
   "source": [
    "# # Average Price per Square Meter Over Time for Each Apartment Type\n",
    "# avg_price_per_sqm = combined_df.groupby(['date', 'apartment_type'])['price_per_sqm'].mean().unstack()\n",
    "\n",
    "# avg_price_per_sqm.plot(figsize=(12, 8))\n",
    "# plt.title('Average Price per Square Meter Over Time')\n",
    "# plt.xlabel('Date')\n",
    "# plt.ylabel('Price per Square Meter (EUR)')\n",
    "# plt.show()\n"
   ]
  },
  {
   "cell_type": "markdown",
   "id": "35a600b6-6f56-43b3-adfb-936813237d4d",
   "metadata": {},
   "source": [
    "__What are the most expensive regions for each apartment type?__"
   ]
  },
  {
   "cell_type": "code",
   "execution_count": 20,
   "id": "e3b52f9c-319e-4482-96fa-070a67b5ce37",
   "metadata": {},
   "outputs": [
    {
     "name": "stdout",
     "output_type": "stream",
     "text": [
      "Most Expensive Regions for Each Apartment Type:\n",
      "            apartment_type                region       date      price\n",
      "0    Ателие, таван, студио             Младост 3 2023-07-28   295560.0\n",
      "1        Гараж, паркомясто               Оборище 2023-07-28    92750.0\n",
      "2      Двустаен апартамент               Люлин 4 2022-01-10   492000.0\n",
      "3                     Къща       Студентски Град 2023-07-28  3000000.0\n",
      "4  Многостаен апартамемент            Иван Вазов 2023-01-10  2000000.0\n",
      "5      Тристаен апартамент  Малинова долина в.з. 2023-01-10   591181.0\n"
     ]
    }
   ],
   "source": [
    "# Group by 'apartment_type' and 'region' and calculate the mean price\n",
    "grouped = combined_df.groupby(['apartment_type', 'region', 'date'])['price'].mean().reset_index()\n",
    "\n",
    "# Sort within each apartment type to find the most and least expensive regions\n",
    "most_expensive = grouped.groupby('apartment_type').apply(lambda x: x.nlargest(1, 'price')).reset_index(drop=True)\n",
    "\n",
    "# Display the results\n",
    "print(\"Most Expensive Regions for Each Apartment Type:\")\n",
    "print(most_expensive)"
   ]
  },
  {
   "cell_type": "markdown",
   "id": "2e70f62c-b331-4b7c-9019-6b0e2c24e592",
   "metadata": {},
   "source": [
    "__What are the least expensive regions for each apartment type?__"
   ]
  },
  {
   "cell_type": "code",
   "execution_count": 21,
   "id": "821a424d-d3f2-4fa0-baa3-736a26f713f0",
   "metadata": {},
   "outputs": [
    {
     "name": "stdout",
     "output_type": "stream",
     "text": [
      "\n",
      "Least Expensive Regions for Each Apartment Type:\n",
      "            apartment_type          region       date    price\n",
      "0    Ателие, таван, студио         Люлин 4 2021-07-28  15000.0\n",
      "1        Гараж, паркомясто          Редута 2022-07-28   6500.0\n",
      "2      Двустаен апартамент  Фондови Жилища 2021-07-28  38000.0\n",
      "3                     Къща    Западен Парк 2023-07-28  97500.0\n",
      "4  Многостаен апартамемент         Люлин 6 2022-01-10  55100.0\n",
      "5      Тристаен апартамент         Люлин 4 2021-07-28  71000.0\n"
     ]
    }
   ],
   "source": [
    "# Sort within each apartment type to find the most and least expensive regions\n",
    "least_expensive = grouped.groupby('apartment_type').apply(lambda x: x.nsmallest(1, 'price')).reset_index(drop=True)\n",
    "\n",
    "print(\"\\nLeast Expensive Regions for Each Apartment Type:\")\n",
    "print(least_expensive)"
   ]
  },
  {
   "cell_type": "markdown",
   "id": "43474fe9-b2f2-4da6-8b89-5825bdb6e7fc",
   "metadata": {},
   "source": [
    "__Which year had the most expensive property prices?__"
   ]
  },
  {
   "cell_type": "code",
   "execution_count": 22,
   "id": "71ed0520-facf-4951-8bbc-fad6aa4c921a",
   "metadata": {},
   "outputs": [
    {
     "name": "stdout",
     "output_type": "stream",
     "text": [
      "The year with the most expensive prices is 2024 with an average price of 248432.14 EUR.\n",
      "year\n",
      "2021    173249.537153\n",
      "2022    225958.331726\n",
      "2023    243816.700261\n",
      "2024    248432.137592\n",
      "Name: price, dtype: float64\n"
     ]
    }
   ],
   "source": [
    "combined_df['year'] = combined_df['date'].dt.year\n",
    "\n",
    "# Group by 'year' and calculate the average price per year\n",
    "avg_price_per_year = combined_df.groupby('year')['price'].mean()\n",
    "\n",
    "# Find the year with the highest average price\n",
    "most_expensive_year = avg_price_per_year.idxmax()\n",
    "highest_avg_price = avg_price_per_year.max()\n",
    "\n",
    "print(f\"The year with the most expensive prices is {most_expensive_year} with an average price of {highest_avg_price:.2f} EUR.\")\n",
    "\n",
    "print(avg_price_per_year)"
   ]
  },
  {
   "cell_type": "markdown",
   "id": "84f44cdf-840b-4e05-929f-67a2f44939dc",
   "metadata": {},
   "source": [
    "The answear is __2024__. As we can see, prices have been increasing."
   ]
  },
  {
   "cell_type": "markdown",
   "id": "cac15865-6c04-4a45-bcdf-48a844957420",
   "metadata": {},
   "source": [
    "__How much the price per square meter increases each year for different types of apartments?__"
   ]
  },
  {
   "cell_type": "code",
   "execution_count": 23,
   "id": "3ae44806-098f-4864-8936-a9adef334888",
   "metadata": {},
   "outputs": [
    {
     "data": {
      "text/html": [
       "<div>\n",
       "<style scoped>\n",
       "    .dataframe tbody tr th:only-of-type {\n",
       "        vertical-align: middle;\n",
       "    }\n",
       "\n",
       "    .dataframe tbody tr th {\n",
       "        vertical-align: top;\n",
       "    }\n",
       "\n",
       "    .dataframe thead th {\n",
       "        text-align: right;\n",
       "    }\n",
       "</style>\n",
       "<table border=\"1\" class=\"dataframe\">\n",
       "  <thead>\n",
       "    <tr style=\"text-align: right;\">\n",
       "      <th></th>\n",
       "      <th>year</th>\n",
       "      <th>apartment_type</th>\n",
       "      <th>price_per_sqm</th>\n",
       "      <th>yearly_increase</th>\n",
       "    </tr>\n",
       "  </thead>\n",
       "  <tbody>\n",
       "    <tr>\n",
       "      <th>0</th>\n",
       "      <td>2021</td>\n",
       "      <td>Ателие, таван, студио</td>\n",
       "      <td>1242.373571</td>\n",
       "      <td>NaN</td>\n",
       "    </tr>\n",
       "    <tr>\n",
       "      <th>1</th>\n",
       "      <td>2021</td>\n",
       "      <td>Гараж, паркомясто</td>\n",
       "      <td>906.384375</td>\n",
       "      <td>NaN</td>\n",
       "    </tr>\n",
       "    <tr>\n",
       "      <th>2</th>\n",
       "      <td>2021</td>\n",
       "      <td>Двустаен апартамент</td>\n",
       "      <td>1334.757586</td>\n",
       "      <td>NaN</td>\n",
       "    </tr>\n",
       "    <tr>\n",
       "      <th>3</th>\n",
       "      <td>2021</td>\n",
       "      <td>Къща</td>\n",
       "      <td>1506.022143</td>\n",
       "      <td>NaN</td>\n",
       "    </tr>\n",
       "    <tr>\n",
       "      <th>4</th>\n",
       "      <td>2021</td>\n",
       "      <td>Многостаен апартамемент</td>\n",
       "      <td>1364.870244</td>\n",
       "      <td>NaN</td>\n",
       "    </tr>\n",
       "    <tr>\n",
       "      <th>5</th>\n",
       "      <td>2021</td>\n",
       "      <td>Тристаен апартамент</td>\n",
       "      <td>1281.000814</td>\n",
       "      <td>NaN</td>\n",
       "    </tr>\n",
       "    <tr>\n",
       "      <th>6</th>\n",
       "      <td>2022</td>\n",
       "      <td>Ателие, таван, студио</td>\n",
       "      <td>1610.543750</td>\n",
       "      <td>368.170179</td>\n",
       "    </tr>\n",
       "    <tr>\n",
       "      <th>7</th>\n",
       "      <td>2022</td>\n",
       "      <td>Гараж, паркомясто</td>\n",
       "      <td>1103.260366</td>\n",
       "      <td>196.875991</td>\n",
       "    </tr>\n",
       "    <tr>\n",
       "      <th>8</th>\n",
       "      <td>2022</td>\n",
       "      <td>Двустаен апартамент</td>\n",
       "      <td>1672.473745</td>\n",
       "      <td>337.716159</td>\n",
       "    </tr>\n",
       "    <tr>\n",
       "      <th>9</th>\n",
       "      <td>2022</td>\n",
       "      <td>Къща</td>\n",
       "      <td>1818.250917</td>\n",
       "      <td>312.228775</td>\n",
       "    </tr>\n",
       "    <tr>\n",
       "      <th>10</th>\n",
       "      <td>2022</td>\n",
       "      <td>Многостаен апартамемент</td>\n",
       "      <td>1673.257556</td>\n",
       "      <td>308.387312</td>\n",
       "    </tr>\n",
       "    <tr>\n",
       "      <th>11</th>\n",
       "      <td>2022</td>\n",
       "      <td>Тристаен апартамент</td>\n",
       "      <td>1634.565155</td>\n",
       "      <td>353.564341</td>\n",
       "    </tr>\n",
       "    <tr>\n",
       "      <th>12</th>\n",
       "      <td>2023</td>\n",
       "      <td>Ателие, таван, студио</td>\n",
       "      <td>1701.341111</td>\n",
       "      <td>90.797361</td>\n",
       "    </tr>\n",
       "    <tr>\n",
       "      <th>13</th>\n",
       "      <td>2023</td>\n",
       "      <td>Гараж, паркомясто</td>\n",
       "      <td>1411.185283</td>\n",
       "      <td>307.924917</td>\n",
       "    </tr>\n",
       "    <tr>\n",
       "      <th>14</th>\n",
       "      <td>2023</td>\n",
       "      <td>Двустаен апартамент</td>\n",
       "      <td>1832.416931</td>\n",
       "      <td>159.943186</td>\n",
       "    </tr>\n",
       "    <tr>\n",
       "      <th>15</th>\n",
       "      <td>2023</td>\n",
       "      <td>Къща</td>\n",
       "      <td>2043.499292</td>\n",
       "      <td>225.248375</td>\n",
       "    </tr>\n",
       "    <tr>\n",
       "      <th>16</th>\n",
       "      <td>2023</td>\n",
       "      <td>Многостаен апартамемент</td>\n",
       "      <td>1811.670064</td>\n",
       "      <td>138.412508</td>\n",
       "    </tr>\n",
       "    <tr>\n",
       "      <th>17</th>\n",
       "      <td>2023</td>\n",
       "      <td>Тристаен апартамент</td>\n",
       "      <td>1824.849777</td>\n",
       "      <td>190.284622</td>\n",
       "    </tr>\n",
       "    <tr>\n",
       "      <th>18</th>\n",
       "      <td>2024</td>\n",
       "      <td>Ателие, таван, студио</td>\n",
       "      <td>1937.990333</td>\n",
       "      <td>236.649222</td>\n",
       "    </tr>\n",
       "    <tr>\n",
       "      <th>19</th>\n",
       "      <td>2024</td>\n",
       "      <td>Гараж, паркомясто</td>\n",
       "      <td>1428.957763</td>\n",
       "      <td>17.772480</td>\n",
       "    </tr>\n",
       "    <tr>\n",
       "      <th>20</th>\n",
       "      <td>2024</td>\n",
       "      <td>Двустаен апартамент</td>\n",
       "      <td>1956.440378</td>\n",
       "      <td>124.023447</td>\n",
       "    </tr>\n",
       "    <tr>\n",
       "      <th>21</th>\n",
       "      <td>2024</td>\n",
       "      <td>Къща</td>\n",
       "      <td>2159.512667</td>\n",
       "      <td>116.013375</td>\n",
       "    </tr>\n",
       "    <tr>\n",
       "      <th>22</th>\n",
       "      <td>2024</td>\n",
       "      <td>Многостаен апартамемент</td>\n",
       "      <td>1980.525849</td>\n",
       "      <td>168.855785</td>\n",
       "    </tr>\n",
       "    <tr>\n",
       "      <th>23</th>\n",
       "      <td>2024</td>\n",
       "      <td>Тристаен апартамент</td>\n",
       "      <td>1943.697444</td>\n",
       "      <td>118.847667</td>\n",
       "    </tr>\n",
       "  </tbody>\n",
       "</table>\n",
       "</div>"
      ],
      "text/plain": [
       "    year           apartment_type  price_per_sqm  yearly_increase\n",
       "0   2021    Ателие, таван, студио    1242.373571              NaN\n",
       "1   2021        Гараж, паркомясто     906.384375              NaN\n",
       "2   2021      Двустаен апартамент    1334.757586              NaN\n",
       "3   2021                     Къща    1506.022143              NaN\n",
       "4   2021  Многостаен апартамемент    1364.870244              NaN\n",
       "5   2021      Тристаен апартамент    1281.000814              NaN\n",
       "6   2022    Ателие, таван, студио    1610.543750       368.170179\n",
       "7   2022        Гараж, паркомясто    1103.260366       196.875991\n",
       "8   2022      Двустаен апартамент    1672.473745       337.716159\n",
       "9   2022                     Къща    1818.250917       312.228775\n",
       "10  2022  Многостаен апартамемент    1673.257556       308.387312\n",
       "11  2022      Тристаен апартамент    1634.565155       353.564341\n",
       "12  2023    Ателие, таван, студио    1701.341111        90.797361\n",
       "13  2023        Гараж, паркомясто    1411.185283       307.924917\n",
       "14  2023      Двустаен апартамент    1832.416931       159.943186\n",
       "15  2023                     Къща    2043.499292       225.248375\n",
       "16  2023  Многостаен апартамемент    1811.670064       138.412508\n",
       "17  2023      Тристаен апартамент    1824.849777       190.284622\n",
       "18  2024    Ателие, таван, студио    1937.990333       236.649222\n",
       "19  2024        Гараж, паркомясто    1428.957763        17.772480\n",
       "20  2024      Двустаен апартамент    1956.440378       124.023447\n",
       "21  2024                     Къща    2159.512667       116.013375\n",
       "22  2024  Многостаен апартамемент    1980.525849       168.855785\n",
       "23  2024      Тристаен апартамент    1943.697444       118.847667"
      ]
     },
     "execution_count": 23,
     "metadata": {},
     "output_type": "execute_result"
    }
   ],
   "source": [
    "# Group by Year and Apartment Type and calculate the mean price per square meter\n",
    "avg_price_per_sqm_by_year = combined_df.groupby(['year', 'apartment_type'])['price_per_sqm'].mean().reset_index()\n",
    "\n",
    "# Calculate the yearly increase\n",
    "avg_price_per_sqm_by_year['yearly_increase'] = avg_price_per_sqm_by_year.groupby('apartment_type')['price_per_sqm'].diff()\n",
    "\n",
    "avg_price_per_sqm_by_year"
   ]
  },
  {
   "cell_type": "markdown",
   "id": "6022c733-a5b0-4578-805a-131184105547",
   "metadata": {},
   "source": [
    "For $2021$, there's no $2020$ data available to subtract from. So, the calculation $2021$ price - (no data) results in $NaN$."
   ]
  },
  {
   "cell_type": "markdown",
   "id": "c1ad5367-1b12-4554-8ab5-6d83ce849b27",
   "metadata": {},
   "source": [
    "### Identify Outliers"
   ]
  },
  {
   "cell_type": "code",
   "execution_count": 25,
   "id": "3ce8a7e8-8a24-4a06-9f04-0a6d54603343",
   "metadata": {},
   "outputs": [],
   "source": [
    "# from scipy import stats\n",
    "\n",
    "# combined_df['z_score'] = stats.zscore(combined_df['price_per_sqm'])\n",
    "# outliers = combined_df[combined_df['z_score'].abs() > 3]\n",
    "# outliers"
   ]
  },
  {
   "cell_type": "code",
   "execution_count": 26,
   "id": "21dd39c4-9529-4cfc-8f8d-a7b06055bf22",
   "metadata": {},
   "outputs": [],
   "source": [
    "# combined_df = combined_df[combined_df['z_score'].abs() <= 3].copy()"
   ]
  },
  {
   "cell_type": "code",
   "execution_count": 27,
   "id": "952f72eb-fc65-4307-b261-18bddbee4067",
   "metadata": {},
   "outputs": [
    {
     "data": {
      "text/plain": [
       "(2773, 7)"
      ]
     },
     "execution_count": 27,
     "metadata": {},
     "output_type": "execute_result"
    }
   ],
   "source": [
    "combined_df.shape"
   ]
  },
  {
   "cell_type": "code",
   "execution_count": 28,
   "id": "5d33290d-927a-47d1-b37c-0c1cefbd8119",
   "metadata": {},
   "outputs": [
    {
     "data": {
      "text/plain": [
       "(2419, 7)"
      ]
     },
     "execution_count": 28,
     "metadata": {},
     "output_type": "execute_result"
    }
   ],
   "source": [
    "import pandas as pd\n",
    "\n",
    "def find_outliers(df, column):\n",
    "    Q1 = df[column].quantile(0.25)\n",
    "    Q3 = df[column].quantile(0.75)\n",
    "    IQR = Q3 - Q1\n",
    "    lower_bound = Q1 - 1.5 * IQR\n",
    "    upper_bound = Q3 + 1.5 * IQR\n",
    "    \n",
    "    outliers = df[(df[column] < lower_bound) | (df[column] > upper_bound)]\n",
    "    return outliers\n",
    "\n",
    "# List of columns to check for outliers\n",
    "columns_to_check = ['price', 'price_per_sqm']\n",
    "\n",
    "# Find outliers for each column\n",
    "outliers_dict = {col: find_outliers(combined_df, col) for col in columns_to_check}\n",
    "outliers_dict\n",
    "\n",
    "# Combine all outliers into a single DataFrame\n",
    "all_outliers = pd.concat(outliers_dict.values()).drop_duplicates()\n",
    "\n",
    "# Remove outliers from the original DataFrame\n",
    "combined_df = combined_df[~combined_df.index.isin(all_outliers.index)]\n"
   ]
  },
  {
   "cell_type": "code",
   "execution_count": 29,
   "id": "c1c54d23-02f0-4adb-acd5-814205d280fb",
   "metadata": {},
   "outputs": [
    {
     "data": {
      "text/plain": [
       "(2419, 7)"
      ]
     },
     "execution_count": 29,
     "metadata": {},
     "output_type": "execute_result"
    }
   ],
   "source": [
    "combined_df.shape"
   ]
  },
  {
   "cell_type": "markdown",
   "id": "b667d5fd-cd8f-4003-b087-9b8ebf0ce870",
   "metadata": {},
   "source": [
    "### Plot the prices over time for each apartment type with removed outliers"
   ]
  },
  {
   "cell_type": "code",
   "execution_count": 30,
   "id": "4fa13f56-8647-46d5-b4e4-70d3eb8a864f",
   "metadata": {},
   "outputs": [],
   "source": [
    "# combined_df = combined_df[(combined_df['price_per_sqm'] >= lower_bound) & (combined_df['price_per_sqm'] <= upper_bound)].copy()"
   ]
  },
  {
   "cell_type": "code",
   "execution_count": 31,
   "id": "d6b1f045-feae-4a0a-98e3-15f3e8fa7ae5",
   "metadata": {},
   "outputs": [
    {
     "data": {
      "image/png": "[encoded data removed]",
      "text/plain": [
       "<Figure size 1008x576 with 1 Axes>"
      ]
     },
     "metadata": {
      "needs_background": "light"
     },
     "output_type": "display_data"
    }
   ],
   "source": [
    "plt.figure(figsize=(14, 8))\n",
    "\n",
    "for apartment_type in combined_df['apartment_type'].unique():\n",
    "    filtered_df = combined_df[combined_df['apartment_type'] == apartment_type]\n",
    "    price_over_time = filtered_df.groupby('date')['price_per_sqm'].mean()\n",
    "    plt.plot(price_over_time.index, price_over_time.values, marker='o', label=apartment_type)\n",
    "\n",
    "plt.title('Price Trends Over Time by Apartment Type (Outliers Handled)')\n",
    "plt.xlabel('Date')\n",
    "plt.ylabel('Average Price per Sq.m (EUR)')\n",
    "plt.xticks(rotation=45)\n",
    "plt.legend(title='Apartment Type')\n",
    "plt.grid(True)\n",
    "plt.show()"
   ]
  },
  {
   "cell_type": "markdown",
   "id": "68e3e3e1-8fca-43b6-ae64-85d40711e5c2",
   "metadata": {},
   "source": [
    "# Let's prepear the model and train it:"
   ]
  },
  {
   "cell_type": "markdown",
   "id": "c518bb84-39dd-4490-9663-b76007dab61b",
   "metadata": {},
   "source": [
    "Extract date features:"
   ]
  },
  {
   "cell_type": "code",
   "execution_count": 32,
   "id": "e5aaa1f5-4b5e-4e75-b0d9-bc51074d2d01",
   "metadata": {},
   "outputs": [],
   "source": [
    "combined_df['year'] = combined_df['date'].dt.year\n",
    "combined_df['month'] = combined_df['date'].dt.month"
   ]
  },
  {
   "cell_type": "markdown",
   "id": "cd702f61-851c-48f7-9d4f-72cd8a14de39",
   "metadata": {},
   "source": [
    "Drop the original 'Дата' column and unnecessary columns:"
   ]
  },
  {
   "cell_type": "code",
   "execution_count": 33,
   "id": "2fa01a6b-f564-4a72-adc6-89f54ddf7d8a",
   "metadata": {},
   "outputs": [],
   "source": [
    "combined_df = combined_df.drop(columns=['date', 'currency', 'price'])"
   ]
  },
  {
   "cell_type": "code",
   "execution_count": 34,
   "id": "2352e11a-9114-4a39-887f-6d6f1c2d6981",
   "metadata": {},
   "outputs": [
    {
     "data": {
      "text/html": [
       "<div>\n",
       "<style scoped>\n",
       "    .dataframe tbody tr th:only-of-type {\n",
       "        vertical-align: middle;\n",
       "    }\n",
       "\n",
       "    .dataframe tbody tr th {\n",
       "        vertical-align: top;\n",
       "    }\n",
       "\n",
       "    .dataframe thead th {\n",
       "        text-align: right;\n",
       "    }\n",
       "</style>\n",
       "<table border=\"1\" class=\"dataframe\">\n",
       "  <thead>\n",
       "    <tr style=\"text-align: right;\">\n",
       "      <th></th>\n",
       "      <th>region</th>\n",
       "      <th>price_per_sqm</th>\n",
       "      <th>apartment_type</th>\n",
       "      <th>year</th>\n",
       "      <th>month</th>\n",
       "    </tr>\n",
       "  </thead>\n",
       "  <tbody>\n",
       "    <tr>\n",
       "      <th>0</th>\n",
       "      <td>Банишора</td>\n",
       "      <td>1987.51</td>\n",
       "      <td>Двустаен апартамент</td>\n",
       "      <td>2024</td>\n",
       "      <td>7</td>\n",
       "    </tr>\n",
       "    <tr>\n",
       "      <th>1</th>\n",
       "      <td>Банкя (гр.)</td>\n",
       "      <td>1890.84</td>\n",
       "      <td>Двустаен апартамент</td>\n",
       "      <td>2024</td>\n",
       "      <td>7</td>\n",
       "    </tr>\n",
       "    <tr>\n",
       "      <th>2</th>\n",
       "      <td>Белите Брези</td>\n",
       "      <td>2108.86</td>\n",
       "      <td>Двустаен апартамент</td>\n",
       "      <td>2024</td>\n",
       "      <td>7</td>\n",
       "    </tr>\n",
       "    <tr>\n",
       "      <th>3</th>\n",
       "      <td>Бенковски</td>\n",
       "      <td>1782.52</td>\n",
       "      <td>Двустаен апартамент</td>\n",
       "      <td>2024</td>\n",
       "      <td>7</td>\n",
       "    </tr>\n",
       "    <tr>\n",
       "      <th>4</th>\n",
       "      <td>Борово</td>\n",
       "      <td>2148.50</td>\n",
       "      <td>Двустаен апартамент</td>\n",
       "      <td>2024</td>\n",
       "      <td>7</td>\n",
       "    </tr>\n",
       "    <tr>\n",
       "      <th>...</th>\n",
       "      <td>...</td>\n",
       "      <td>...</td>\n",
       "      <td>...</td>\n",
       "      <td>...</td>\n",
       "      <td>...</td>\n",
       "    </tr>\n",
       "    <tr>\n",
       "      <th>2767</th>\n",
       "      <td>Слатина</td>\n",
       "      <td>900.00</td>\n",
       "      <td>Многостаен апартамемент</td>\n",
       "      <td>2021</td>\n",
       "      <td>7</td>\n",
       "    </tr>\n",
       "    <tr>\n",
       "      <th>2768</th>\n",
       "      <td>Стрелбище</td>\n",
       "      <td>1075.67</td>\n",
       "      <td>Многостаен апартамемент</td>\n",
       "      <td>2021</td>\n",
       "      <td>7</td>\n",
       "    </tr>\n",
       "    <tr>\n",
       "      <th>2769</th>\n",
       "      <td>Студентски Град</td>\n",
       "      <td>718.84</td>\n",
       "      <td>Многостаен апартамемент</td>\n",
       "      <td>2021</td>\n",
       "      <td>7</td>\n",
       "    </tr>\n",
       "    <tr>\n",
       "      <th>2770</th>\n",
       "      <td>Хаджи Димитър</td>\n",
       "      <td>1045.92</td>\n",
       "      <td>Многостаен апартамемент</td>\n",
       "      <td>2021</td>\n",
       "      <td>7</td>\n",
       "    </tr>\n",
       "    <tr>\n",
       "      <th>2771</th>\n",
       "      <td>Хиподрума</td>\n",
       "      <td>2357.14</td>\n",
       "      <td>Многостаен апартамемент</td>\n",
       "      <td>2021</td>\n",
       "      <td>7</td>\n",
       "    </tr>\n",
       "  </tbody>\n",
       "</table>\n",
       "<p>2419 rows × 5 columns</p>\n",
       "</div>"
      ],
      "text/plain": [
       "               region  price_per_sqm           apartment_type  year  month\n",
       "0            Банишора        1987.51      Двустаен апартамент  2024      7\n",
       "1         Банкя (гр.)        1890.84      Двустаен апартамент  2024      7\n",
       "2        Белите Брези        2108.86      Двустаен апартамент  2024      7\n",
       "3           Бенковски        1782.52      Двустаен апартамент  2024      7\n",
       "4              Борово        2148.50      Двустаен апартамент  2024      7\n",
       "...               ...            ...                      ...   ...    ...\n",
       "2767          Слатина         900.00  Многостаен апартамемент  2021      7\n",
       "2768        Стрелбище        1075.67  Многостаен апартамемент  2021      7\n",
       "2769  Студентски Град         718.84  Многостаен апартамемент  2021      7\n",
       "2770    Хаджи Димитър        1045.92  Многостаен апартамемент  2021      7\n",
       "2771        Хиподрума        2357.14  Многостаен апартамемент  2021      7\n",
       "\n",
       "[2419 rows x 5 columns]"
      ]
     },
     "execution_count": 34,
     "metadata": {},
     "output_type": "execute_result"
    }
   ],
   "source": [
    "combined_df"
   ]
  },
  {
   "cell_type": "markdown",
   "id": "dd9b22b6-067a-4f2f-9a32-f9a0a7df7bd8",
   "metadata": {},
   "source": [
    "Encode categorical variables:"
   ]
  },
  {
   "cell_type": "code",
   "execution_count": 35,
   "id": "b9ae4c1c-a065-466d-8927-69527b6adf8c",
   "metadata": {},
   "outputs": [],
   "source": [
    "label_encoder_region = LabelEncoder()\n",
    "label_encoder_apartment_type = LabelEncoder()\n",
    "\n",
    "combined_df['region'] = label_encoder_region.fit_transform(combined_df['region'])\n",
    "combined_df['apartment_type'] = label_encoder_apartment_type.fit_transform(combined_df['apartment_type'])"
   ]
  },
  {
   "cell_type": "markdown",
   "id": "2e9c235e-fcd1-499a-8c9b-d1b4fc990cf7",
   "metadata": {},
   "source": [
    "I tested the performance of the model with OneHot encoding, but it was slightly better with LabelEncoder."
   ]
  },
  {
   "cell_type": "code",
   "execution_count": 36,
   "id": "4a6c7145-228c-4286-9242-699ea8a01b5f",
   "metadata": {},
   "outputs": [],
   "source": [
    "# label_encoder_region = OneHotEncoder(sparse=False)\n",
    "# label_encoder_apartment_type = OneHotEncoder(sparse=False)\n",
    "\n",
    "# combined_df['region'] = label_encoder_region.fit_transform(combined_df[['region']])\n",
    "# combined_df['apartment_type'] = label_encoder_apartment_type.fit_transform(combined_df[['apartment_type']])"
   ]
  },
  {
   "cell_type": "markdown",
   "id": "f5b42ff5-01da-4d64-9a63-8338d07cc00f",
   "metadata": {},
   "source": [
    "Define features and target:"
   ]
  },
  {
   "cell_type": "code",
   "execution_count": 37,
   "id": "02d69f07-925d-4c8c-9d83-444f58090f30",
   "metadata": {},
   "outputs": [],
   "source": [
    "X = combined_df.drop(columns=['price_per_sqm'], axis=1) \n",
    "y = combined_df['price_per_sqm']  # Target variable"
   ]
  },
  {
   "cell_type": "code",
   "execution_count": 38,
   "id": "dd0456e5-45bc-4707-b195-36f6121f408b",
   "metadata": {},
   "outputs": [
    {
     "data": {
      "text/html": [
       "<div>\n",
       "<style scoped>\n",
       "    .dataframe tbody tr th:only-of-type {\n",
       "        vertical-align: middle;\n",
       "    }\n",
       "\n",
       "    .dataframe tbody tr th {\n",
       "        vertical-align: top;\n",
       "    }\n",
       "\n",
       "    .dataframe thead th {\n",
       "        text-align: right;\n",
       "    }\n",
       "</style>\n",
       "<table border=\"1\" class=\"dataframe\">\n",
       "  <thead>\n",
       "    <tr style=\"text-align: right;\">\n",
       "      <th></th>\n",
       "      <th>region</th>\n",
       "      <th>apartment_type</th>\n",
       "      <th>year</th>\n",
       "      <th>month</th>\n",
       "    </tr>\n",
       "  </thead>\n",
       "  <tbody>\n",
       "    <tr>\n",
       "      <th>0</th>\n",
       "      <td>2</td>\n",
       "      <td>2</td>\n",
       "      <td>2024</td>\n",
       "      <td>7</td>\n",
       "    </tr>\n",
       "    <tr>\n",
       "      <th>1</th>\n",
       "      <td>3</td>\n",
       "      <td>2</td>\n",
       "      <td>2024</td>\n",
       "      <td>7</td>\n",
       "    </tr>\n",
       "    <tr>\n",
       "      <th>2</th>\n",
       "      <td>4</td>\n",
       "      <td>2</td>\n",
       "      <td>2024</td>\n",
       "      <td>7</td>\n",
       "    </tr>\n",
       "    <tr>\n",
       "      <th>3</th>\n",
       "      <td>5</td>\n",
       "      <td>2</td>\n",
       "      <td>2024</td>\n",
       "      <td>7</td>\n",
       "    </tr>\n",
       "    <tr>\n",
       "      <th>4</th>\n",
       "      <td>6</td>\n",
       "      <td>2</td>\n",
       "      <td>2024</td>\n",
       "      <td>7</td>\n",
       "    </tr>\n",
       "    <tr>\n",
       "      <th>...</th>\n",
       "      <td>...</td>\n",
       "      <td>...</td>\n",
       "      <td>...</td>\n",
       "      <td>...</td>\n",
       "    </tr>\n",
       "    <tr>\n",
       "      <th>2767</th>\n",
       "      <td>85</td>\n",
       "      <td>4</td>\n",
       "      <td>2021</td>\n",
       "      <td>7</td>\n",
       "    </tr>\n",
       "    <tr>\n",
       "      <th>2768</th>\n",
       "      <td>86</td>\n",
       "      <td>4</td>\n",
       "      <td>2021</td>\n",
       "      <td>7</td>\n",
       "    </tr>\n",
       "    <tr>\n",
       "      <th>2769</th>\n",
       "      <td>87</td>\n",
       "      <td>4</td>\n",
       "      <td>2021</td>\n",
       "      <td>7</td>\n",
       "    </tr>\n",
       "    <tr>\n",
       "      <th>2770</th>\n",
       "      <td>94</td>\n",
       "      <td>4</td>\n",
       "      <td>2021</td>\n",
       "      <td>7</td>\n",
       "    </tr>\n",
       "    <tr>\n",
       "      <th>2771</th>\n",
       "      <td>95</td>\n",
       "      <td>4</td>\n",
       "      <td>2021</td>\n",
       "      <td>7</td>\n",
       "    </tr>\n",
       "  </tbody>\n",
       "</table>\n",
       "<p>2419 rows × 4 columns</p>\n",
       "</div>"
      ],
      "text/plain": [
       "      region  apartment_type  year  month\n",
       "0          2               2  2024      7\n",
       "1          3               2  2024      7\n",
       "2          4               2  2024      7\n",
       "3          5               2  2024      7\n",
       "4          6               2  2024      7\n",
       "...      ...             ...   ...    ...\n",
       "2767      85               4  2021      7\n",
       "2768      86               4  2021      7\n",
       "2769      87               4  2021      7\n",
       "2770      94               4  2021      7\n",
       "2771      95               4  2021      7\n",
       "\n",
       "[2419 rows x 4 columns]"
      ]
     },
     "execution_count": 38,
     "metadata": {},
     "output_type": "execute_result"
    }
   ],
   "source": [
    "X"
   ]
  },
  {
   "cell_type": "markdown",
   "id": "25d75bc5-ffe9-46b5-ad49-33cf8e76e747",
   "metadata": {},
   "source": [
    "Split the data into training and testing sets:"
   ]
  },
  {
   "cell_type": "code",
   "execution_count": 39,
   "id": "c6d66883-a82b-477e-9b46-abd0cbea545d",
   "metadata": {},
   "outputs": [],
   "source": [
    "X_train, X_test, y_train, y_test = train_test_split(X, y, test_size=0.2, random_state=42)"
   ]
  },
  {
   "cell_type": "code",
   "execution_count": 40,
   "id": "0948594e-624a-4bf0-a395-fdbbc4d3c50f",
   "metadata": {},
   "outputs": [
    {
     "data": {
      "text/html": [
       "<div>\n",
       "<style scoped>\n",
       "    .dataframe tbody tr th:only-of-type {\n",
       "        vertical-align: middle;\n",
       "    }\n",
       "\n",
       "    .dataframe tbody tr th {\n",
       "        vertical-align: top;\n",
       "    }\n",
       "\n",
       "    .dataframe thead th {\n",
       "        text-align: right;\n",
       "    }\n",
       "</style>\n",
       "<table border=\"1\" class=\"dataframe\">\n",
       "  <thead>\n",
       "    <tr style=\"text-align: right;\">\n",
       "      <th></th>\n",
       "      <th>region</th>\n",
       "      <th>apartment_type</th>\n",
       "      <th>year</th>\n",
       "      <th>month</th>\n",
       "    </tr>\n",
       "  </thead>\n",
       "  <tbody>\n",
       "    <tr>\n",
       "      <th>1942</th>\n",
       "      <td>33</td>\n",
       "      <td>2</td>\n",
       "      <td>2022</td>\n",
       "      <td>7</td>\n",
       "    </tr>\n",
       "    <tr>\n",
       "      <th>1825</th>\n",
       "      <td>4</td>\n",
       "      <td>1</td>\n",
       "      <td>2022</td>\n",
       "      <td>11</td>\n",
       "    </tr>\n",
       "    <tr>\n",
       "      <th>643</th>\n",
       "      <td>85</td>\n",
       "      <td>4</td>\n",
       "      <td>2024</td>\n",
       "      <td>1</td>\n",
       "    </tr>\n",
       "    <tr>\n",
       "      <th>1602</th>\n",
       "      <td>85</td>\n",
       "      <td>4</td>\n",
       "      <td>2023</td>\n",
       "      <td>1</td>\n",
       "    </tr>\n",
       "    <tr>\n",
       "      <th>1910</th>\n",
       "      <td>88</td>\n",
       "      <td>4</td>\n",
       "      <td>2022</td>\n",
       "      <td>11</td>\n",
       "    </tr>\n",
       "    <tr>\n",
       "      <th>...</th>\n",
       "      <td>...</td>\n",
       "      <td>...</td>\n",
       "      <td>...</td>\n",
       "      <td>...</td>\n",
       "    </tr>\n",
       "    <tr>\n",
       "      <th>1906</th>\n",
       "      <td>80</td>\n",
       "      <td>4</td>\n",
       "      <td>2022</td>\n",
       "      <td>11</td>\n",
       "    </tr>\n",
       "    <tr>\n",
       "      <th>1284</th>\n",
       "      <td>73</td>\n",
       "      <td>4</td>\n",
       "      <td>2023</td>\n",
       "      <td>7</td>\n",
       "    </tr>\n",
       "    <tr>\n",
       "      <th>1322</th>\n",
       "      <td>28</td>\n",
       "      <td>2</td>\n",
       "      <td>2023</td>\n",
       "      <td>1</td>\n",
       "    </tr>\n",
       "    <tr>\n",
       "      <th>1509</th>\n",
       "      <td>75</td>\n",
       "      <td>3</td>\n",
       "      <td>2023</td>\n",
       "      <td>1</td>\n",
       "    </tr>\n",
       "    <tr>\n",
       "      <th>1010</th>\n",
       "      <td>46</td>\n",
       "      <td>2</td>\n",
       "      <td>2023</td>\n",
       "      <td>7</td>\n",
       "    </tr>\n",
       "  </tbody>\n",
       "</table>\n",
       "<p>1935 rows × 4 columns</p>\n",
       "</div>"
      ],
      "text/plain": [
       "      region  apartment_type  year  month\n",
       "1942      33               2  2022      7\n",
       "1825       4               1  2022     11\n",
       "643       85               4  2024      1\n",
       "1602      85               4  2023      1\n",
       "1910      88               4  2022     11\n",
       "...      ...             ...   ...    ...\n",
       "1906      80               4  2022     11\n",
       "1284      73               4  2023      7\n",
       "1322      28               2  2023      1\n",
       "1509      75               3  2023      1\n",
       "1010      46               2  2023      7\n",
       "\n",
       "[1935 rows x 4 columns]"
      ]
     },
     "execution_count": 40,
     "metadata": {},
     "output_type": "execute_result"
    }
   ],
   "source": [
    "X_train"
   ]
  },
  {
   "cell_type": "code",
   "execution_count": 41,
   "id": "59fc0c57-da6a-4e6c-93f2-c2c96bd3b898",
   "metadata": {},
   "outputs": [
    {
     "data": {
      "text/plain": [
       "1942    1373.21\n",
       "1825    1540.00\n",
       "643     1555.30\n",
       "1602    1420.00\n",
       "1910    1451.82\n",
       "         ...   \n",
       "1906    1666.67\n",
       "1284    1658.54\n",
       "1322    2835.00\n",
       "1509     956.40\n",
       "1010    1244.93\n",
       "Name: price_per_sqm, Length: 1935, dtype: float64"
      ]
     },
     "execution_count": 41,
     "metadata": {},
     "output_type": "execute_result"
    }
   ],
   "source": [
    "y_train"
   ]
  },
  {
   "cell_type": "code",
   "execution_count": 42,
   "id": "bbac97e1-88f6-4da0-b6f7-37e0f4e2d3f9",
   "metadata": {},
   "outputs": [
    {
     "data": {
      "text/plain": [
       "((1935, 4), (484,))"
      ]
     },
     "execution_count": 42,
     "metadata": {},
     "output_type": "execute_result"
    }
   ],
   "source": [
    "X_train.shape, y_test.shape"
   ]
  },
  {
   "cell_type": "code",
   "execution_count": 43,
   "id": "bb3e2ab9-3d37-4c6d-b30a-f21bc30e09ab",
   "metadata": {},
   "outputs": [
    {
     "data": {
      "text/plain": [
       "((484, 4), (1935,))"
      ]
     },
     "execution_count": 43,
     "metadata": {},
     "output_type": "execute_result"
    }
   ],
   "source": [
    "X_test.shape, y_train.shape"
   ]
  },
  {
   "cell_type": "markdown",
   "id": "33914d85-3e5b-4d7d-b7fe-2b04c995391a",
   "metadata": {},
   "source": [
    "## Train the model"
   ]
  },
  {
   "cell_type": "code",
   "execution_count": 44,
   "id": "48519be3-2ebc-4845-a5da-df7030d37089",
   "metadata": {},
   "outputs": [],
   "source": [
    "model = LinearRegression()"
   ]
  },
  {
   "cell_type": "code",
   "execution_count": 45,
   "id": "e452dc30-1c9d-4b28-9eb7-5217f70af013",
   "metadata": {},
   "outputs": [
    {
     "data": {
      "text/plain": [
       "LinearRegression()"
      ]
     },
     "execution_count": 45,
     "metadata": {},
     "output_type": "execute_result"
    }
   ],
   "source": [
    "model.fit(X_train, y_train)"
   ]
  },
  {
   "cell_type": "markdown",
   "id": "1fa02018-cd3a-4bd3-92e9-f68e354fb3d5",
   "metadata": {},
   "source": [
    "## Prediction results"
   ]
  },
  {
   "cell_type": "code",
   "execution_count": 46,
   "id": "e036644c-982e-4b56-8afb-e57771180fed",
   "metadata": {},
   "outputs": [],
   "source": [
    "y_pred = model.predict(X_test)"
   ]
  },
  {
   "cell_type": "code",
   "execution_count": 47,
   "id": "0fb6d187-e5a9-4c9b-948f-3262f96afbb8",
   "metadata": {},
   "outputs": [
    {
     "data": {
      "text/plain": [
       "array([1846.9281146 , 1785.89161312, 1457.81399666, 1530.11189821,\n",
       "       1402.16208784, 1645.9212223 , 1915.70246448, 1344.64913804,\n",
       "       1665.56563781, 1275.105888  , 1579.04343458, 1458.69548515,\n",
       "       1803.97002465, 1957.39341473, 1456.38157787, 1958.77074049,\n",
       "       1270.53316648, 1432.3282949 , 1374.3219101 , 1685.35335829,\n",
       "       1457.37325241, 1348.28527805, 1273.45309709, 1784.78975252,\n",
       "       1347.62416168, 1676.03233633, 1960.09297322, 1765.00203203,\n",
       "       1850.31218859, 1258.95333027, 1776.1728179 , 1831.16361035,\n",
       "       1676.77194486, 1533.36238701, 1530.55264246, 1489.7431807 ,\n",
       "       1719.95040693, 1617.4604969 , 1733.10454189, 1589.33273196,\n",
       "       1356.89009061, 1585.25584771, 1556.09343724, 1872.02816514,\n",
       "       1664.73924235, 1773.03251516, 1846.81792854, 1720.61152329,\n",
       "       1662.18156382, 1529.06513064, 1576.34387609, 1399.95836662,\n",
       "       1848.85637066, 1774.9056782 , 1430.78569005, 1848.96655673,\n",
       "       1429.9592946 , 1271.96558527, 1535.75478645, 1803.80474556,\n",
       "       1660.36349381, 1371.29179343, 1673.11240572, 1645.64575714,\n",
       "       1532.72466978, 1315.08895431, 1488.69641312, 1261.10195845,\n",
       "       1590.43459257, 1345.64081259, 1662.45702897, 1848.41562642,\n",
       "       1660.63895897, 1531.12697189, 1789.85831132, 1272.51651557,\n",
       "       1533.14201489, 1617.428803  , 1763.6797993 , 1533.71634433,\n",
       "       1403.75978572, 1600.1533878 , 1876.21523545, 1530.60773549,\n",
       "       1787.37912495, 1430.45513187, 1458.80567121, 1317.34776855,\n",
       "       1916.36358085, 1273.12253891, 1801.27046616, 1674.40294455,\n",
       "       1587.07391771, 1272.24105042, 1432.60376006, 1533.55106523,\n",
       "       1664.68414932, 1557.63604209, 1728.4216343 , 1803.44249348,\n",
       "       1274.00402739, 1675.37121997, 1646.85780381, 1618.86122179,\n",
       "       1788.42589252, 1914.04967357, 1257.24544632, 1775.23623638,\n",
       "       1718.32930991, 1490.86844044, 1619.85289634, 1642.83601259,\n",
       "       1660.41858685, 1720.31265901, 1414.58044156, 1588.61652256,\n",
       "       1915.26172024, 1589.05726681, 1717.19575541, 1789.96849738,\n",
       "       1773.14270122, 1356.33916031, 1775.18114335, 1589.99384832,\n",
       "       1830.50249398, 1272.07577133, 1721.65829087, 1678.14927062,\n",
       "       1272.95725982, 1914.93116206, 1957.94434503, 1492.63141741,\n",
       "       1273.94893436, 1535.64460039, 1787.21384586, 1644.59898956,\n",
       "       1851.13858405, 1664.07812599, 1745.24743046, 1458.86076424,\n",
       "       1804.13530374, 1847.69941703, 1661.35516836, 1846.76283551,\n",
       "       1643.9378732 , 1663.7792617 , 1660.55217204, 1718.88024022,\n",
       "       1671.90035905, 1719.48626355, 1418.05130248, 1661.74081958,\n",
       "       1644.70917563, 1805.86658682, 1360.91188184, 1618.39707842,\n",
       "       1642.94619865, 1722.26431421, 1487.70473857, 1533.03182883,\n",
       "       1585.91696407, 1599.93301567, 1586.6882665 , 1532.75636367,\n",
       "       1345.58571956, 1807.18881955, 1401.22550632, 1661.43366053,\n",
       "       1346.0264638 , 1801.21537313, 1662.84268018, 1720.17077905,\n",
       "       1731.17628582, 1849.462394  , 1665.23507963, 1585.80677801,\n",
       "       1850.03672344, 1721.7133839 , 1646.58233866, 1785.61614797,\n",
       "       1721.87866299, 1829.6210055 , 1845.55078884, 1745.41270955,\n",
       "       1601.20015537, 1662.89777321, 1913.99458054, 1402.32736693,\n",
       "       1534.18878247, 1848.14016127, 1846.56586252, 1589.00217378,\n",
       "       1359.36927698, 1630.87052517, 1848.27374646, 1476.49843152,\n",
       "       1848.58090551, 1804.21379591, 1587.01882468, 1533.05522796,\n",
       "       1729.02765764, 1660.03293563, 1529.56096791, 1675.86705724,\n",
       "       1659.59219139, 1716.01540263, 1533.22050705, 1475.17619879,\n",
       "       1848.76958374, 1831.87981975, 1399.40743632, 1762.88509774,\n",
       "       1536.25062373, 1403.70469269, 1347.51397562, 1586.79845256,\n",
       "       1957.66887988, 1671.79017299, 1545.9889908 , 1227.18942532,\n",
       "       1659.86765654, 1542.24266473, 1720.03719386, 1846.95151373,\n",
       "       1544.94222322, 1658.49033078, 1846.45567646, 1665.0147075 ,\n",
       "       1645.97631533, 1848.25034733, 1531.56771614, 1802.37232677,\n",
       "       1715.07882112, 1848.71449071, 1728.58691339, 1662.59061417,\n",
       "       1717.14066238, 1641.78924501, 1599.05152719, 1535.80987948,\n",
       "       1717.85687177, 1848.38393252, 1345.42044046, 1587.40447589,\n",
       "       1772.15102667, 1531.29225099, 1477.87575728, 1449.45295534,\n",
       "       1431.17134127, 1601.91636477, 1847.31376581, 1678.59001486,\n",
       "       1403.98015784, 1844.28364914, 1620.45891968, 1450.11407171,\n",
       "       1960.97446171, 1588.12068529, 1226.85886714, 1543.17924625,\n",
       "       1644.04805926, 1461.11957848, 1531.84318129, 1417.33509308,\n",
       "       1345.75099865, 1304.6109787 , 1961.74576413, 1414.02951125,\n",
       "       1662.73249412, 1502.42487752, 1473.68868697, 1773.69363153,\n",
       "       1274.99570194, 1714.91354203, 1830.77795914, 1831.76963368,\n",
       "       1848.82467677, 1830.72286611, 1343.32690531, 1732.71889068,\n",
       "       1459.19132242, 1532.09524731, 1959.59713595, 1801.1602801 ,\n",
       "       1487.98020372, 1718.6281742 , 1721.21754663, 1646.91289684,\n",
       "       1460.62374121, 1846.84132767, 1848.69109157, 1535.31404221,\n",
       "       1730.46007643, 1646.41705957, 1534.65292584, 1473.0275706 ,\n",
       "       1773.52835244, 1806.25223803, 1429.35327126, 1269.92714314,\n",
       "       1745.52289561, 1831.93491278, 1771.37972425, 1760.62628349,\n",
       "       1832.10019187, 1849.70616525, 1273.67346921, 1846.48737036,\n",
       "       1461.28485758, 1602.6876672 , 1536.47099585, 1617.01975266,\n",
       "       1961.41520595, 1430.62041096, 1547.31122353, 1717.80177874,\n",
       "       1805.75640076, 1629.6584785 , 1587.29428983, 1660.08802866,\n",
       "       1401.17041329, 1830.8881452 , 1270.25770133, 1578.16194609,\n",
       "       1775.73207365, 1477.21464092, 1774.35474789, 1456.49176393,\n",
       "       1273.23272497, 1475.56185   , 1715.73993748, 1490.53788226,\n",
       "       1643.99296623, 1719.32098446, 1589.88366226, 1188.36331265,\n",
       "       1534.92839099, 1346.90795229, 1663.47210265, 1492.19067317,\n",
       "       1849.76125829, 1443.31422983, 1716.23577476, 1773.08760819,\n",
       "       1534.02350337, 1532.81145671, 1270.91881769, 1347.78944077,\n",
       "       1729.79896006, 1788.59117162, 1270.64335254, 1730.57026249,\n",
       "       1847.20357975, 1762.24738051, 1832.87149429, 1645.48047805,\n",
       "       1343.76764955, 1771.21444516, 1958.6054614 , 1719.54135658,\n",
       "       1644.92954775, 1603.34878356, 1715.68484445, 1477.49010607,\n",
       "       1848.1635604 , 1189.02442902, 1663.03135841, 1534.2438755 ,\n",
       "       1488.16888195, 1720.99717451, 1227.13433229, 1489.68808767,\n",
       "       1787.48931101, 1226.9690532 , 1587.90031317, 1530.49754943,\n",
       "       1531.6779022 , 1360.25076547, 1532.83485584, 1560.94162392,\n",
       "       1345.20006834, 1399.7379945 , 1828.79461004, 1343.38199834,\n",
       "       1531.18206493, 1847.00660676, 1641.89943107, 1473.46831485,\n",
       "       1775.84225971, 1531.23715796, 1832.26547096, 1621.56078028,\n",
       "       1491.17559949, 1301.80123415, 1344.15330076, 1229.06258835,\n",
       "       1962.24160141, 1673.82861511, 1721.1624536 , 1661.18988927,\n",
       "       1677.10250304, 1788.53607859, 1456.9876012 , 1359.58964911,\n",
       "       1730.51516946, 1716.62142597, 1303.23365294, 1399.68290147,\n",
       "       1475.61694303, 1659.31672624, 1674.59991754, 1642.56054744,\n",
       "       1529.94661912, 1661.52044745, 1400.17873874, 1343.87783561,\n",
       "       1844.33874217, 1742.49277893, 1803.03344314, 1960.14806625,\n",
       "       1829.40063338, 1804.24548981, 1772.31630577, 1646.52724563,\n",
       "       1532.92164277, 1674.43463845, 1615.80770599, 1785.34068282,\n",
       "       1715.57465839, 1589.55310408, 1274.38967861, 1531.40243705,\n",
       "       1586.96373165, 1719.01382541, 1530.88320064, 1600.48394598,\n",
       "       1962.46197353, 1476.22296637, 1665.12489357, 1536.14043766,\n",
       "       1531.32394488, 1742.98861621, 1848.30544036, 1665.84110296,\n",
       "       1716.84179809, 1661.9294978 , 1400.34401784, 1845.33041672,\n",
       "       1433.98108582, 1774.40984092, 1275.27116709, 1665.06980053,\n",
       "       1846.70774248, 1872.52400241, 1847.91978915, 1271.69012012,\n",
       "       1721.05226754, 1659.92274957, 1874.89300272, 1674.93047572,\n",
       "       1586.90863862, 1413.14802277, 1662.97626538, 1716.18068172,\n",
       "       1533.19710792, 1642.34017532, 1722.15412814, 1433.31996945,\n",
       "       1720.00549996, 1719.84022087, 1456.54685696, 1873.51567696,\n",
       "       1361.29753305, 1717.88856567, 1273.06744588, 1775.07095729,\n",
       "       1618.06652023, 1661.3785675 , 1959.26657776, 1273.34291103,\n",
       "       1761.75154324, 1715.02372809, 1474.40489636, 1617.86954724])"
      ]
     },
     "execution_count": 47,
     "metadata": {},
     "output_type": "execute_result"
    }
   ],
   "source": [
    "y_pred"
   ]
  },
  {
   "cell_type": "markdown",
   "id": "a37c26c6-4e38-4e94-b623-ecb344481080",
   "metadata": {},
   "source": [
    "## Make predictions"
   ]
  },
  {
   "cell_type": "code",
   "execution_count": 48,
   "id": "43771b01-6ea2-40d7-b7c2-169c7b456b29",
   "metadata": {},
   "outputs": [],
   "source": [
    "# Example: Predicting for 2025 with specific assumptions for features\n",
    "future_data = {\n",
    "    'region': label_encoder_region.transform(['Банишора', 'Белите Брези']),  # Encode regions\n",
    "    'apartment_type': label_encoder_apartment_type.transform(['Двустаен апартамент', 'Тристаен апартамент']),  # Encode apartment types\n",
    "    'year': [2025] * 2,  # Assuming 2 predictions for example purposes\n",
    "    'month': [1, 1],  # Predicting for January 2025\n",
    "}\n",
    "\n",
    "# Convert to DataFrame\n",
    "future_X = pd.DataFrame(future_data)\n",
    "\n",
    "# Make predictions\n",
    "future_predictions = model.predict(future_X)"
   ]
  },
  {
   "cell_type": "code",
   "execution_count": 49,
   "id": "bb33a960-37ef-426b-b59b-87b9c6a0226e",
   "metadata": {},
   "outputs": [
    {
     "name": "stdout",
     "output_type": "stream",
     "text": [
      "Prediction for Банишора - Двустаен апартамент: 1900.82 per square meter\n",
      "Prediction for Белите Брези - Тристаен апартамент: 2030.30 per square meter\n"
     ]
    }
   ],
   "source": [
    "# Decode the encoded labels back to their original strings\n",
    "decoded_regions = label_encoder_region.inverse_transform(future_data['region'])\n",
    "decoded_apartment_types = label_encoder_apartment_type.inverse_transform(future_data['apartment_type'])\n",
    "\n",
    "# Display predictions with original labels\n",
    "for i, prediction in enumerate(future_predictions):\n",
    "    region_label = decoded_regions[i]\n",
    "    apartment_type_label = decoded_apartment_types[i]\n",
    "    print(f\"Prediction for {region_label} - {apartment_type_label}: {prediction:.2f} per square meter\")"
   ]
  },
  {
   "cell_type": "markdown",
   "id": "5e08740c-6aa0-42a0-871d-18730e94455c",
   "metadata": {},
   "source": [
    "## Evaluate the model"
   ]
  },
  {
   "cell_type": "code",
   "execution_count": 50,
   "id": "8d51ef51-a33c-4071-a6c5-86d8047c9a9c",
   "metadata": {},
   "outputs": [
    {
     "data": {
      "text/html": [
       "<div>\n",
       "<style scoped>\n",
       "    .dataframe tbody tr th:only-of-type {\n",
       "        vertical-align: middle;\n",
       "    }\n",
       "\n",
       "    .dataframe tbody tr th {\n",
       "        vertical-align: top;\n",
       "    }\n",
       "\n",
       "    .dataframe thead th {\n",
       "        text-align: right;\n",
       "    }\n",
       "</style>\n",
       "<table border=\"1\" class=\"dataframe\">\n",
       "  <thead>\n",
       "    <tr style=\"text-align: right;\">\n",
       "      <th></th>\n",
       "      <th>coefficients</th>\n",
       "    </tr>\n",
       "  </thead>\n",
       "  <tbody>\n",
       "    <tr>\n",
       "      <th>region</th>\n",
       "      <td>0.055093</td>\n",
       "    </tr>\n",
       "    <tr>\n",
       "      <th>apartment_type</th>\n",
       "      <td>43.123369</td>\n",
       "    </tr>\n",
       "    <tr>\n",
       "      <th>year</th>\n",
       "      <td>185.903504</td>\n",
       "    </tr>\n",
       "    <tr>\n",
       "      <th>month</th>\n",
       "      <td>18.796535</td>\n",
       "    </tr>\n",
       "  </tbody>\n",
       "</table>\n",
       "</div>"
      ],
      "text/plain": [
       "                coefficients\n",
       "region              0.055093\n",
       "apartment_type     43.123369\n",
       "year              185.903504\n",
       "month              18.796535"
      ]
     },
     "execution_count": 50,
     "metadata": {},
     "output_type": "execute_result"
    }
   ],
   "source": [
    "cdf = pd.DataFrame(model.coef_, X.columns, columns=['coefficients'])\n",
    "cdf"
   ]
  },
  {
   "cell_type": "code",
   "execution_count": 51,
   "id": "712083e0-28f9-49c0-bdc0-3ed00d094e3a",
   "metadata": {},
   "outputs": [],
   "source": [
    "mse = mean_squared_error(y_test, y_pred)\n",
    "rmse = np.sqrt(mse)"
   ]
  },
  {
   "cell_type": "code",
   "execution_count": 52,
   "id": "9a319287-ac44-4a6f-bdc2-329d78f2138e",
   "metadata": {},
   "outputs": [
    {
     "name": "stdout",
     "output_type": "stream",
     "text": [
      "Coefficients: 0.05509303043203596 43.12336903800198 185.90350441973612 18.796534567893442\n",
      "Intercept: -374658.93286222557\n",
      "Mean Absolute Error:  332.03178375254214\n",
      "Mean squared error (MSE): 182754.65\n",
      "Root Mean Squared Error: 427.50\n",
      "Coefficient of determination (R^2): 0.13\n"
     ]
    }
   ],
   "source": [
    "print(\"Coefficients:\", *model.coef_)\n",
    "print(\"Intercept:\", model.intercept_)\n",
    "print(\"Mean Absolute Error: \", mean_absolute_error(y_test, y_pred))\n",
    "print(f\"Mean squared error (MSE): {mse:.2f}\")\n",
    "print(f\"Root Mean Squared Error: {rmse:.2f}\")\n",
    "print(f\"Coefficient of determination (R^2): {r2_score(y_test, y_pred):.2f}\")"
   ]
  },
  {
   "cell_type": "markdown",
   "id": "94a314a9-bda4-4a81-929f-04abd16e7728",
   "metadata": {},
   "source": [
    "## Residuals"
   ]
  },
  {
   "cell_type": "code",
   "execution_count": 53,
   "id": "eba839c8-3434-4cc7-a902-192d9f199f4a",
   "metadata": {},
   "outputs": [],
   "source": [
    "residuals = y_test - y_pred"
   ]
  },
  {
   "cell_type": "code",
   "execution_count": 54,
   "id": "a747d36c-02e2-4a30-8975-93c4bbf49da6",
   "metadata": {},
   "outputs": [
    {
     "data": {
      "text/plain": [
       "473     -553.378115\n",
       "234        8.978387\n",
       "1946    -254.603997\n",
       "1316      38.418102\n",
       "2619    -168.902088\n",
       "           ...     \n",
       "2539     581.497089\n",
       "843     -195.101543\n",
       "337     1246.076272\n",
       "2317    -627.344896\n",
       "1872     405.760453\n",
       "Name: price_per_sqm, Length: 484, dtype: float64"
      ]
     },
     "execution_count": 54,
     "metadata": {},
     "output_type": "execute_result"
    }
   ],
   "source": [
    "residuals"
   ]
  },
  {
   "cell_type": "markdown",
   "id": "409eecd0-5a51-491f-b20c-11b4a923b279",
   "metadata": {},
   "source": [
    "__Residuals help identify patterns in the prediction errors.__"
   ]
  },
  {
   "cell_type": "code",
   "execution_count": 55,
   "id": "bbf5f545-9c93-4972-b173-d78be2ae9b03",
   "metadata": {},
   "outputs": [
    {
     "data": {
      "text/plain": [
       "Index(['region', 'price_per_sqm', 'apartment_type', 'year', 'month'], dtype='object')"
      ]
     },
     "execution_count": 55,
     "metadata": {},
     "output_type": "execute_result"
    }
   ],
   "source": [
    "combined_df.columns"
   ]
  },
  {
   "cell_type": "code",
   "execution_count": 59,
   "id": "ea4927f9-70c6-4a46-b8af-f434402f4184",
   "metadata": {},
   "outputs": [
    {
     "data": {
      "image/png": "[encoded data removed]",
      "text/plain": [
       "<Figure size 720x432 with 1 Axes>"
      ]
     },
     "metadata": {
      "needs_background": "light"
     },
     "output_type": "display_data"
    }
   ],
   "source": [
    "plt.figure(figsize=(10, 6))\n",
    "sns.scatterplot(x=y_test, y=y_pred)\n",
    "plt.xlabel(\"Actual Values\")\n",
    "plt.ylabel(\"Predicted Values\")\n",
    "plt.title(\"Actual vs. Predicted Values\")\n",
    "plt.plot([min(y_test), max(y_test)], [min(y_test), max(y_test)], color='red', lw=2)\n",
    "plt.show()"
   ]
  },
  {
   "cell_type": "code",
   "execution_count": 62,
   "id": "8abf8673-1d2d-471f-96b9-58b0e971957f",
   "metadata": {},
   "outputs": [
    {
     "data": {
      "image/png": "[encoded data removed]",
      "text/plain": [
       "<Figure size 432x288 with 1 Axes>"
      ]
     },
     "metadata": {
      "needs_background": "light"
     },
     "output_type": "display_data"
    }
   ],
   "source": [
    "train_sizes, train_scores, validation_scores = learning_curve(\n",
    "    model, X_train, y_train, cv=5, scoring='neg_mean_squared_error'\n",
    ")\n",
    "\n",
    "train_errors_mean = -train_scores.mean(axis=1)\n",
    "validation_errors_mean = -validation_scores.mean(axis=1)\n",
    "\n",
    "plt.plot(train_sizes, train_errors_mean, label='Training error')\n",
    "plt.plot(train_sizes, validation_errors_mean, label='Validation error')\n",
    "plt.xlabel('Training Set Size')\n",
    "plt.ylabel('Error')\n",
    "plt.title('Learning Curves')\n",
    "plt.legend()\n",
    "plt.show()"
   ]
  },
  {
   "cell_type": "markdown",
   "id": "929b7c53-b6c7-4e93-8cd9-70fd166c075b",
   "metadata": {},
   "source": [
    "- High Bias (Underfitting): If both training and validation errors are high and similar, your model might be too simple and underfitting the data.\n",
    "- High Variance (Overfitting): If the training error is much lower than the validation error, and the validation error is high, your model might be too complex and overfitting the data."
   ]
  },
  {
   "cell_type": "markdown",
   "id": "19d61a9e-5d7c-4664-86f1-f756f02a2f31",
   "metadata": {},
   "source": [
    "#### Cross-Validation"
   ]
  },
  {
   "cell_type": "code",
   "execution_count": 64,
   "id": "83dbf28d-59f2-4117-8286-b0a029b60249",
   "metadata": {},
   "outputs": [
    {
     "name": "stdout",
     "output_type": "stream",
     "text": [
      "Cross-Validation Scores: 180040.941957034 ± 10346.490266806832\n"
     ]
    }
   ],
   "source": [
    "scores = cross_val_score(model, X_train, y_train, cv=5, scoring='neg_mean_squared_error')\n",
    "print(f'Cross-Validation Scores: {-scores.mean()} ± {scores.std()}')"
   ]
  },
  {
   "cell_type": "code",
   "execution_count": null,
   "id": "ee57f245-ebfe-4e28-8941-b622c53ea9bb",
   "metadata": {},
   "outputs": [],
   "source": []
  }
 ],
 "metadata": {
  "kernelspec": {
   "display_name": "Python 3 (ipykernel)",
   "language": "python",
   "name": "python3"
  },
  "language_info": {
   "codemirror_mode": {
    "name": "ipython",
    "version": 3
   },
   "file_extension": ".py",
   "mimetype": "text/x-python",
   "name": "python",
   "nbconvert_exporter": "python",
   "pygments_lexer": "ipython3",
   "version": "3.9.12"
  }
 },
 "nbformat": 4,
 "nbformat_minor": 5
}
