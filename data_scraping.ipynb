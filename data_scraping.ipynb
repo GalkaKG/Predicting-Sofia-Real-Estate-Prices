{
 "cells": [
  {
   "cell_type": "code",
   "execution_count": 2,
   "id": "fc4bc9c3-8b35-475d-a8b4-6cf7dc7806c7",
   "metadata": {},
   "outputs": [],
   "source": [
    "import requests\n",
    "from bs4 import BeautifulSoup\n",
    "import pandas as pd"
   ]
  },
  {
   "cell_type": "code",
   "execution_count": 1,
   "id": "32b7e63c-bc3e-4ce2-9a11-c3f0dbacdfe0",
   "metadata": {},
   "outputs": [
    {
     "name": "stdout",
     "output_type": "stream",
     "text": [
      "Data scraping complete. Saved to property_prices.csv\n"
     ]
    }
   ],
   "source": [
    "# URL of the webpage to scrape\n",
    "url = \"https://www.imoti.net/bg/sredni-ceni?ad_type_id=2&city_id=1&region_id=0&property_type_id%5B%5D=6&currency_id=4&date=2024-07-28\"\n",
    "\n",
    "# Fetch the HTML content\n",
    "response = requests.get(url)\n",
    "html_content = response.content\n",
    "\n",
    "# Parse the HTML using BeautifulSoup\n",
    "soup = BeautifulSoup(html_content, 'html.parser')\n",
    "\n",
    "# Find the table with class 'stats'\n",
    "table = soup.find('table', {'class': 'stats'})\n",
    "\n",
    "# Specify the headers manually since we know the structure\n",
    "headers = ['Район', 'Цена', 'Цена / кв.м.']\n",
    "\n",
    "# Extract the table rows\n",
    "rows = []\n",
    "for tr in table.find('tbody').find_all('tr'):\n",
    "    cells = tr.find_all('td')\n",
    "    row = [cell.text.strip() for cell in cells]\n",
    "    rows.append(row)\n",
    "\n",
    "# Convert the data to a pandas DataFrame\n",
    "df = pd.DataFrame(rows, columns=headers)\n",
    "\n",
    "# Save the DataFrame to a CSV file\n",
    "df.to_csv('property_prices.csv', index=False)\n",
    "\n",
    "print('Data scraping complete. Saved to property_prices.csv')"
   ]
  }
 ],
 "metadata": {
  "kernelspec": {
   "display_name": "Python 3 (ipykernel)",
   "language": "python",
   "name": "python3"
  },
  "language_info": {
   "codemirror_mode": {
    "name": "ipython",
    "version": 3
   },
   "file_extension": ".py",
   "mimetype": "text/x-python",
   "name": "python",
   "nbconvert_exporter": "python",
   "pygments_lexer": "ipython3",
   "version": "3.9.12"
  }
 },
 "nbformat": 4,
 "nbformat_minor": 5
}
