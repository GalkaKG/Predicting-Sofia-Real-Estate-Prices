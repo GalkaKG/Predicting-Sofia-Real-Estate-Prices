{
 "cells": [
  {
   "cell_type": "code",
   "execution_count": 2,
   "id": "fc4bc9c3-8b35-475d-a8b4-6cf7dc7806c7",
   "metadata": {},
   "outputs": [],
   "source": [
    "import requests\n",
    "from bs4 import BeautifulSoup\n",
    "import pandas as pd"
   ]
  },
  {
   "cell_type": "markdown",
   "id": "869ae794-e5c6-42a7-8dfe-91557f3808d4",
   "metadata": {},
   "source": [
    "The dataset $data$ is extracted from the website __https://www.imoti.net/bg__ <br/>\n",
    "The dataset $data2$ is extracted from the website __https://www.imot.bg/__ "
   ]
  },
  {
   "cell_type": "markdown",
   "id": "3a562382-0550-4d67-8191-022f7b794535",
   "metadata": {},
   "source": [
    "## Function for scraping data"
   ]
  },
  {
   "cell_type": "code",
   "execution_count": 27,
   "id": "0bcc3f8b-de62-457e-8ddb-78d9e25edcb5",
   "metadata": {},
   "outputs": [],
   "source": [
    "def scrape_data(url, apartment_type, date):\n",
    "    # Fetch the HTML content\n",
    "    response = requests.get(url)\n",
    "    html_content = response.content\n",
    "\n",
    "    # Parse the HTML using BeautifulSoup\n",
    "    soup = BeautifulSoup(html_content, 'html.parser')\n",
    "\n",
    "    # Find the table with class 'stats'\n",
    "    table = soup.find('table', {'class': 'stats'})\n",
    "\n",
    "    # Extract the table rows\n",
    "    rows = []\n",
    "    for tr in table.find('tbody').find_all('tr'):\n",
    "        cells = tr.find_all('td')\n",
    "        row = [cell.text.strip() for cell in cells]\n",
    "        # Add 'EUR' and apartment type for each row\n",
    "        row.extend(['EUR', apartment_type, date])\n",
    "        rows.append(row)\n",
    "    \n",
    "    return rows"
   ]
  },
  {
   "cell_type": "markdown",
   "id": "88060f2e-6eac-42f2-b4d6-1faf97b076dd",
   "metadata": {},
   "source": [
    "## Data scraping for 28.07.2024"
   ]
  },
  {
   "cell_type": "code",
   "execution_count": 28,
   "id": "3ae23450-ceb7-40cf-8a1e-a932dd009759",
   "metadata": {},
   "outputs": [
    {
     "name": "stdout",
     "output_type": "stream",
     "text": [
      "Data scraping complete. Saved to property_prices.csv\n"
     ]
    }
   ],
   "source": [
    "# URLs to scrape\n",
    "url_two_bedroom = \"https://www.imoti.net/bg/sredni-ceni?ad_type_id=2&city_id=1&region_id=0&property_type_id%5B%5D=6&currency_id=4&date=2024-07-28\"\n",
    "url_three_bedroom = \"https://www.imoti.net/bg/sredni-ceni?ad_type_id=2&city_id=1&region_id=&property_type_id%5B%5D=9&currency_id=4&date=2024-07-28\"\n",
    "url_house = \"https://www.imoti.net/bg/sredni-ceni?ad_type_id=2&city_id=1&region_id=&property_type_id%5B%5D=14&currency_id=4&date=2024-07-28\"\n",
    "url_garage = \"https://www.imoti.net/bg/sredni-ceni?ad_type_id=2&city_id=1&region_id=&property_type_id%5B%5D=20&currency_id=4&date=2024-07-28\"\n",
    "url_studio = \"https://www.imoti.net/bg/sredni-ceni?ad_type_id=2&city_id=1&region_id=&property_type_id%5B%5D=13&currency_id=4&date=2024-07-28\"\n",
    "url_large_apartments = \"https://www.imoti.net/bg/sredni-ceni?ad_type_id=2&city_id=1&region_id=&property_type_id%5B%5D=10&currency_id=4&date=2024-07-28\"\n",
    "\n",
    "# Scrape data from both URLs\n",
    "rows_two_bedroom = scrape_data(url_two_bedroom, 'Двустаен апартамент', '2024-07-28')\n",
    "rows_three_bedroom = scrape_data(url_тристаен, 'Тристаен апартамент', '2024-07-28')\n",
    "rows_house = scrape_data(url_house, 'Къща', '2024-07-28')\n",
    "rows_garage = scrape_data(url_garage, \"Гараж, паркомясто\", '2024-07-28')\n",
    "rows_studio = scrape_data(url_studio, \"Ателие, таван, студио\", '2024-07-28')\n",
    "rows_large_apartments = scrape_data(url_large_apartments, \"Многостаен апартамемент\", '2024-07-28')\n",
    "\n",
    "# Combine the rows\n",
    "all_rows = rows_two_bedroom + rows_three_bedroom + rows_house + rows_garage + rows_studio + rows_large_apartments\n",
    "\n",
    "# Specify the headers manually since we know the structure\n",
    "headers = ['Район', 'Цена', 'Цена / кв.м.', 'Валута', 'Тип Апартамент', 'Дата']\n",
    "\n",
    "# Convert the data to a pandas DataFrame\n",
    "df = pd.DataFrame(all_rows, columns=headers)\n",
    "\n",
    "# Save the DataFrame to a CSV file\n",
    "df.to_csv('data/property_prices_july_2024.csv', index=False)\n",
    "\n",
    "print('Data scraping complete. Saved to property_prices.csv')\n"
   ]
  },
  {
   "cell_type": "markdown",
   "id": "f13c6890-5f1c-4bac-8cb6-8e1db0901339",
   "metadata": {},
   "source": [
    "## Data scraping for 28.07.2023"
   ]
  },
  {
   "cell_type": "code",
   "execution_count": 29,
   "id": "0d6394c5-57d3-4367-bec2-a5038f03c091",
   "metadata": {},
   "outputs": [
    {
     "name": "stdout",
     "output_type": "stream",
     "text": [
      "Data scraping complete. Saved to property_prices.csv\n"
     ]
    }
   ],
   "source": [
    "# URLs to scrape\n",
    "url_two_bedroom = \"https://www.imoti.net/bg/sredni-ceni?ad_type_id=2&city_id=1&region_id=0&property_type_id%5B%5D=6&currency_id=4&date=2023-07-28\"\n",
    "url_three_bedroom = \"https://www.imoti.net/bg/sredni-ceni?ad_type_id=2&city_id=1&region_id=&property_type_id%5B%5D=9&currency_id=4&date=2023-07-28\"\n",
    "url_house = \"https://www.imoti.net/bg/sredni-ceni?ad_type_id=2&city_id=1&region_id=&property_type_id%5B%5D=14&currency_id=4&date=2023-07-28\"\n",
    "url_garage = \"https://www.imoti.net/bg/sredni-ceni?ad_type_id=2&city_id=1&region_id=&property_type_id%5B%5D=20&currency_id=4&date=2023-07-28\"\n",
    "url_studio = \"https://www.imoti.net/bg/sredni-ceni?ad_type_id=2&city_id=1&region_id=&property_type_id%5B%5D=13&currency_id=4&date=2023-07-28\"\n",
    "url_large_apartments = \"https://www.imoti.net/bg/sredni-ceni?ad_type_id=2&city_id=1&region_id=&property_type_id%5B%5D=10&currency_id=4&date=2023-07-28\"\n",
    "\n",
    "# Scrape data from both URLs\n",
    "rows_two_bedroom = scrape_data(url_two_bedroom, 'Двустаен апартамент', '2023-07-28')\n",
    "rows_three_bedroom = scrape_data(url_тристаен, 'Тристаен апартамент', '2023-07-28')\n",
    "rows_house = scrape_data(url_house, 'Къща', '2023-07-28')\n",
    "rows_garage = scrape_data(url_garage, \"Гараж, паркомясто\", '2023-07-28')\n",
    "rows_studio = scrape_data(url_studio, \"Ателие, таван, студио\", '2023-07-28')\n",
    "rows_large_apartments = scrape_data(url_large_apartments, \"Многостаен апартамемент\", '2023-07-28')\n",
    "\n",
    "# Combine the rows\n",
    "all_rows = rows_two_bedroom + rows_three_bedroom + rows_house + rows_garage + rows_studio + rows_large_apartments\n",
    "\n",
    "# Specify the headers manually since we know the structure\n",
    "headers = ['Район', 'Цена', 'Цена / кв.м.', 'Валута', 'Тип Апартамент', 'Дата']\n",
    "\n",
    "# Convert the data to a pandas DataFrame\n",
    "df = pd.DataFrame(all_rows, columns=headers)\n",
    "\n",
    "# Save the DataFrame to a CSV file\n",
    "df.to_csv('data/property_prices_july_2023.csv', index=False)\n",
    "\n",
    "print('Data scraping complete. Saved to property_prices.csv')\n"
   ]
  },
  {
   "cell_type": "markdown",
   "id": "844860b2-f1fd-4184-a715-66de9358b8f3",
   "metadata": {},
   "source": [
    "## Data scraping for 28.07.2022"
   ]
  },
  {
   "cell_type": "code",
   "execution_count": 30,
   "id": "fba62573-eb85-4f7a-8884-fcc6fc628052",
   "metadata": {},
   "outputs": [
    {
     "name": "stdout",
     "output_type": "stream",
     "text": [
      "Data scraping complete. Saved to property_prices.csv\n"
     ]
    }
   ],
   "source": [
    "# URLs to scrape\n",
    "url_two_bedroom = \"https://www.imoti.net/bg/sredni-ceni?ad_type_id=2&city_id=1&region_id=0&property_type_id%5B%5D=6&currency_id=4&date=2022-07-28\"\n",
    "url_three_bedroom = \"https://www.imoti.net/bg/sredni-ceni?ad_type_id=2&city_id=1&region_id=&property_type_id%5B%5D=9&currency_id=4&date=2022-07-28\"\n",
    "url_house = \"https://www.imoti.net/bg/sredni-ceni?ad_type_id=2&city_id=1&region_id=&property_type_id%5B%5D=14&currency_id=4&date=2022-07-28\"\n",
    "url_garage = \"https://www.imoti.net/bg/sredni-ceni?ad_type_id=2&city_id=1&region_id=&property_type_id%5B%5D=20&currency_id=4&date=2022-07-28\"\n",
    "url_studio = \"https://www.imoti.net/bg/sredni-ceni?ad_type_id=2&city_id=1&region_id=&property_type_id%5B%5D=13&currency_id=4&date=2022-07-28\"\n",
    "url_large_apartments = \"https://www.imoti.net/bg/sredni-ceni?ad_type_id=2&city_id=1&region_id=&property_type_id%5B%5D=10&currency_id=4&date=2022-07-28\"\n",
    "\n",
    "# Scrape data from both URLs\n",
    "rows_two_bedroom = scrape_data(url_two_bedroom, 'Двустаен апартамент', '2022-07-28')\n",
    "rows_three_bedroom = scrape_data(url_тристаен, 'Тристаен апартамент', '2022-07-28')\n",
    "rows_house = scrape_data(url_house, 'Къща', '2022-07-28')\n",
    "rows_garage = scrape_data(url_garage, \"Гараж, паркомясто\", '2022-07-28')\n",
    "rows_studio = scrape_data(url_studio, \"Ателие, таван, студио\", '2022-07-28')\n",
    "rows_large_apartments = scrape_data(url_large_apartments, \"Многостаен апартамемент\", '2022-07-28')\n",
    "\n",
    "# Combine the rows\n",
    "all_rows = rows_two_bedroom + rows_three_bedroom + rows_house + rows_garage + rows_studio + rows_large_apartments\n",
    "\n",
    "# Specify the headers manually since we know the structure\n",
    "headers = ['Район', 'Цена', 'Цена / кв.м.', 'Валута', 'Тип Апартамент', 'Дата']\n",
    "\n",
    "# Convert the data to a pandas DataFrame\n",
    "df = pd.DataFrame(all_rows, columns=headers)\n",
    "\n",
    "# Save the DataFrame to a CSV file\n",
    "df.to_csv('data/property_prices_july_2022.csv', index=False)\n",
    "\n",
    "print('Data scraping complete. Saved to property_prices.csv')\n"
   ]
  },
  {
   "cell_type": "markdown",
   "id": "82486450-ad05-4595-b679-677b8da9e444",
   "metadata": {},
   "source": [
    "# Scraping info for Second Data Source"
   ]
  },
  {
   "cell_type": "code",
   "execution_count": 4,
   "id": "6df85324-2d0f-489c-ad79-0edd15c8fa7a",
   "metadata": {},
   "outputs": [
    {
     "name": "stdout",
     "output_type": "stream",
     "text": [
      "Data scraping complete. Saved to property_prices.csv\n"
     ]
    }
   ],
   "source": [
    "import requests\n",
    "from bs4 import BeautifulSoup\n",
    "import pandas as pd\n",
    "\n",
    "# Function to fetch and parse the HTML content\n",
    "def fetch_html(url):\n",
    "    response = requests.get(url)\n",
    "    return response.content\n",
    "\n",
    "# Function to parse the table and extract data\n",
    "def parse_table(html_content):\n",
    "    soup = BeautifulSoup(html_content, 'html.parser')\n",
    "    table = soup.find('table', {'id': 'tableStats'})\n",
    "    \n",
    "    headers = ['Район', 'Едностайни - цена', 'Едностайни - €/кв.м', \n",
    "               'Двустайни - цена', 'Двустайни - €/кв.м', \n",
    "               'Тристайни - цена', 'Тристайни - €/кв.м', 'Общо - €/кв.м', 'Дата']\n",
    "    \n",
    "\n",
    "    \n",
    "    # Extract date\n",
    "    date_element = soup.find('td', {'style': 'border-top: 1px solid #900;padding-top: 20px;font-size: 13px;padding-bottom: 5px;'})\n",
    "    date_text = date_element.get_text(strip=True)\n",
    "    date_str = date_text.split(\"от\")[-1].split(\" г.\")[0].strip()  # Extract the date in the format '30.7.2024'\n",
    "    \n",
    "\n",
    "    rows = []\n",
    "    \n",
    "    for tr in table.find_all('tr')[2:]:  # Skip the first two header rows\n",
    "        cells = tr.find_all('td')\n",
    "        row = []\n",
    "        \n",
    "        for cell in cells:\n",
    "            text = cell.get_text(strip=True).replace('\\xa0', ' ')\n",
    "            if text == '-':\n",
    "                text = None\n",
    "            row.append(text)\n",
    "        \n",
    "        if len(row) == 12:\n",
    "            row = [row[0], row[2], row[3], row[5], row[6], row[8], row[9], row[11], date_str]\n",
    "            rows.append(row)\n",
    "    \n",
    "    df = pd.DataFrame(rows, columns=headers)\n",
    "    return df\n",
    "\n",
    "# URLs of the webpages to scrape\n",
    "urls = [\n",
    "    \"https://www.imot.bg/pcgi/imot.cgi?act=14&\",\n",
    "    \"https://www.imot.bg/pcgi/imot.cgi?act=14&pn=0&town=%D1%EE%F4%E8%FF&year=2024&date=4.6.2024\",\n",
    "    \"https://www.imot.bg/pcgi/imot.cgi?act=14&pn=0&town=%D1%EE%F4%E8%FF&year=2024&date=23.4.2024\",\n",
    "    \"https://www.imot.bg/pcgi/imot.cgi?act=14&pn=0&town=%D1%EE%F4%E8%FF&year=2024&date=16.1.2024\",\n",
    "\n",
    "    \"https://www.imot.bg/pcgi/imot.cgi?act=14&pn=0&town=%D1%EE%F4%E8%FF&year=2023&date=14.11.2023\",\n",
    "    \"https://www.imot.bg/pcgi/imot.cgi?act=14&pn=0&town=%D1%EE%F4%E8%FF&year=2023&date=25.7.2023\",\n",
    "    \"https://www.imot.bg/pcgi/imot.cgi?act=14&pn=0&town=%D1%EE%F4%E8%FF&year=2023&date=25.4.2023\",\n",
    "    \"https://www.imot.bg/pcgi/imot.cgi?act=14&pn=0&town=%D1%EE%F4%E8%FF&year=2023&date=10.1.2023\",\n",
    "    \n",
    "    \"https://www.imot.bg/pcgi/imot.cgi?act=14&pn=0&town=%D1%EE%F4%E8%FF&year=2022&date=15.11.2022\",\n",
    "    \"https://www.imot.bg/pcgi/imot.cgi?act=14&pn=0&town=%D1%EE%F4%E8%FF&year=2022&date=26.7.2022\",\n",
    "    \"https://www.imot.bg/pcgi/imot.cgi?act=14&pn=0&town=%D1%EE%F4%E8%FF&year=2022&date=26.4.2022\",\n",
    "    \"https://www.imot.bg/pcgi/imot.cgi?act=14&pn=0&town=%D1%EE%F4%E8%FF&year=2022&date=11.1.2022\",\n",
    "]\n",
    "\n",
    "# Fetch and parse the HTML content from both URLs\n",
    "dfs = []\n",
    "for url in urls:\n",
    "    html_content = fetch_html(url)\n",
    "    df = parse_table(html_content)\n",
    "    dfs.append(df)\n",
    "\n",
    "# Concatenate all DataFrames and save to a CSV file\n",
    "final_df = pd.concat(dfs, ignore_index=True)\n",
    "final_df.fillna('NaN', inplace=True)\n",
    "final_df.to_csv('data2/property_prices.csv', index=False, encoding='utf-8')\n",
    "\n",
    "print('Data scraping complete. Saved to property_prices.csv')\n"
   ]
  },
  {
   "cell_type": "code",
   "execution_count": null,
   "id": "fd04c030-cce9-4847-8111-04e1e0da8636",
   "metadata": {},
   "outputs": [],
   "source": []
  }
 ],
 "metadata": {
  "kernelspec": {
   "display_name": "Python 3 (ipykernel)",
   "language": "python",
   "name": "python3"
  },
  "language_info": {
   "codemirror_mode": {
    "name": "ipython",
    "version": 3
   },
   "file_extension": ".py",
   "mimetype": "text/x-python",
   "name": "python",
   "nbconvert_exporter": "python",
   "pygments_lexer": "ipython3",
   "version": "3.9.12"
  }
 },
 "nbformat": 4,
 "nbformat_minor": 5
}
