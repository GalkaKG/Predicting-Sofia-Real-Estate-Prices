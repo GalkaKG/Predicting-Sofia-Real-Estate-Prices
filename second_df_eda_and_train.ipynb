{
 "cells": [
  {
   "cell_type": "code",
   "execution_count": 1,
   "id": "baabcc1b-d2dc-487a-bdd2-0aedc70b305c",
   "metadata": {},
   "outputs": [],
   "source": [
    "%matplotlib inline"
   ]
  },
  {
   "cell_type": "code",
   "execution_count": 18,
   "id": "398daf61-296b-4c03-908b-b90a1205af30",
   "metadata": {},
   "outputs": [],
   "source": [
    "import numpy as np\n",
    "import pandas as pd\n",
    "import matplotlib.pyplot as plt\n",
    "import seaborn as sns\n",
    "\n",
    "from sklearn.model_selection import train_test_split\n",
    "from sklearn.preprocessing import StandardScaler, OneHotEncoder\n",
    "from sklearn.compose import ColumnTransformer\n",
    "from sklearn.pipeline import Pipeline\n",
    "from sklearn.ensemble import RandomForestRegressor\n",
    "from sklearn.metrics import mean_squared_error, mean_absolute_error, r2_score\n",
    "\n",
    "from sklearn.preprocessing import LabelEncoder"
   ]
  },
  {
   "cell_type": "markdown",
   "id": "99c51f83-c1d2-44f0-8f93-73422c6e5a74",
   "metadata": {},
   "source": [
    "## Exploratory Data Analysis (EDA): \n",
    "Let's perform an EDA to understand the distribution, relationships, and outliers in The data.\n",
    "\n",
    "### Read the second dataset: "
   ]
  },
  {
   "cell_type": "code",
   "execution_count": 3,
   "id": "997f9eb3-bf0c-47e7-a464-5cc1fce63755",
   "metadata": {},
   "outputs": [],
   "source": [
    "second_df = pd.read_csv(\"data2/property_prices.csv\")"
   ]
  },
  {
   "cell_type": "markdown",
   "id": "ee2f4637-588c-4423-aaf5-7c02876e2916",
   "metadata": {},
   "source": [
    "This is it:"
   ]
  },
  {
   "cell_type": "code",
   "execution_count": 4,
   "id": "1fc5ea13-7452-463a-806d-3045d9128e4a",
   "metadata": {},
   "outputs": [
    {
     "data": {
      "text/html": [
       "<div>\n",
       "<style scoped>\n",
       "    .dataframe tbody tr th:only-of-type {\n",
       "        vertical-align: middle;\n",
       "    }\n",
       "\n",
       "    .dataframe tbody tr th {\n",
       "        vertical-align: top;\n",
       "    }\n",
       "\n",
       "    .dataframe thead th {\n",
       "        text-align: right;\n",
       "    }\n",
       "</style>\n",
       "<table border=\"1\" class=\"dataframe\">\n",
       "  <thead>\n",
       "    <tr style=\"text-align: right;\">\n",
       "      <th></th>\n",
       "      <th>Район</th>\n",
       "      <th>Едностайни - цена</th>\n",
       "      <th>Едностайни - €/кв.м</th>\n",
       "      <th>Двустайни - цена</th>\n",
       "      <th>Двустайни - €/кв.м</th>\n",
       "      <th>Тристайни - цена</th>\n",
       "      <th>Тристайни - €/кв.м</th>\n",
       "      <th>Общо - €/кв.м</th>\n",
       "      <th>Дата</th>\n",
       "    </tr>\n",
       "  </thead>\n",
       "  <tbody>\n",
       "    <tr>\n",
       "      <th>0</th>\n",
       "      <td>7-ми 11-ти километър</td>\n",
       "      <td>NaN</td>\n",
       "      <td>NaN</td>\n",
       "      <td>145 502</td>\n",
       "      <td>1 675</td>\n",
       "      <td>189 050</td>\n",
       "      <td>1 756</td>\n",
       "      <td>1 745</td>\n",
       "      <td>13.8.2024</td>\n",
       "    </tr>\n",
       "    <tr>\n",
       "      <th>1</th>\n",
       "      <td>Банишора</td>\n",
       "      <td>49 138</td>\n",
       "      <td>1 134</td>\n",
       "      <td>104 500</td>\n",
       "      <td>1 691</td>\n",
       "      <td>142 310</td>\n",
       "      <td>1 503</td>\n",
       "      <td>1 611</td>\n",
       "      <td>13.8.2024</td>\n",
       "    </tr>\n",
       "    <tr>\n",
       "      <th>2</th>\n",
       "      <td>Белите брези</td>\n",
       "      <td>38 000</td>\n",
       "      <td>826</td>\n",
       "      <td>82 365</td>\n",
       "      <td>1 157</td>\n",
       "      <td>115 805</td>\n",
       "      <td>1 085</td>\n",
       "      <td>1 157</td>\n",
       "      <td>13.8.2024</td>\n",
       "    </tr>\n",
       "    <tr>\n",
       "      <th>3</th>\n",
       "      <td>Бенковски</td>\n",
       "      <td>NaN</td>\n",
       "      <td>NaN</td>\n",
       "      <td>85 262</td>\n",
       "      <td>1 511</td>\n",
       "      <td>118 750</td>\n",
       "      <td>1 250</td>\n",
       "      <td>1 351</td>\n",
       "      <td>13.8.2024</td>\n",
       "    </tr>\n",
       "    <tr>\n",
       "      <th>4</th>\n",
       "      <td>Борово</td>\n",
       "      <td>49 400</td>\n",
       "      <td>1 045</td>\n",
       "      <td>89 774</td>\n",
       "      <td>1 222</td>\n",
       "      <td>138 890</td>\n",
       "      <td>1 426</td>\n",
       "      <td>1 232</td>\n",
       "      <td>13.8.2024</td>\n",
       "    </tr>\n",
       "    <tr>\n",
       "      <th>...</th>\n",
       "      <td>...</td>\n",
       "      <td>...</td>\n",
       "      <td>...</td>\n",
       "      <td>...</td>\n",
       "      <td>...</td>\n",
       "      <td>...</td>\n",
       "      <td>...</td>\n",
       "      <td>...</td>\n",
       "      <td>...</td>\n",
       "    </tr>\n",
       "    <tr>\n",
       "      <th>1745</th>\n",
       "      <td>с. Лозен</td>\n",
       "      <td>41 956</td>\n",
       "      <td>762</td>\n",
       "      <td>53 018</td>\n",
       "      <td>762</td>\n",
       "      <td>89 849</td>\n",
       "      <td>834</td>\n",
       "      <td>762</td>\n",
       "      <td>11.1.2022</td>\n",
       "    </tr>\n",
       "    <tr>\n",
       "      <th>1746</th>\n",
       "      <td>с. Мировяне</td>\n",
       "      <td>NaN</td>\n",
       "      <td>NaN</td>\n",
       "      <td>47 500</td>\n",
       "      <td>863</td>\n",
       "      <td>NaN</td>\n",
       "      <td>NaN</td>\n",
       "      <td>863</td>\n",
       "      <td>11.1.2022</td>\n",
       "    </tr>\n",
       "    <tr>\n",
       "      <th>1747</th>\n",
       "      <td>с. Мърчаево</td>\n",
       "      <td>NaN</td>\n",
       "      <td>NaN</td>\n",
       "      <td>26 600</td>\n",
       "      <td>266</td>\n",
       "      <td>35 862</td>\n",
       "      <td>297</td>\n",
       "      <td>297</td>\n",
       "      <td>11.1.2022</td>\n",
       "    </tr>\n",
       "    <tr>\n",
       "      <th>1748</th>\n",
       "      <td>с. Панчарево</td>\n",
       "      <td>NaN</td>\n",
       "      <td>NaN</td>\n",
       "      <td>76 660</td>\n",
       "      <td>963</td>\n",
       "      <td>131 779</td>\n",
       "      <td>1 132</td>\n",
       "      <td>1 173</td>\n",
       "      <td>11.1.2022</td>\n",
       "    </tr>\n",
       "    <tr>\n",
       "      <th>1749</th>\n",
       "      <td>с. Световрачене</td>\n",
       "      <td>37 050</td>\n",
       "      <td>771</td>\n",
       "      <td>49 400</td>\n",
       "      <td>771</td>\n",
       "      <td>NaN</td>\n",
       "      <td>NaN</td>\n",
       "      <td>771</td>\n",
       "      <td>11.1.2022</td>\n",
       "    </tr>\n",
       "  </tbody>\n",
       "</table>\n",
       "<p>1750 rows × 9 columns</p>\n",
       "</div>"
      ],
      "text/plain": [
       "                     Район Едностайни - цена Едностайни - €/кв.м  \\\n",
       "0     7-ми 11-ти километър               NaN                 NaN   \n",
       "1                 Банишора            49 138               1 134   \n",
       "2             Белите брези            38 000                 826   \n",
       "3                Бенковски               NaN                 NaN   \n",
       "4                   Борово            49 400               1 045   \n",
       "...                    ...               ...                 ...   \n",
       "1745              с. Лозен            41 956                 762   \n",
       "1746           с. Мировяне               NaN                 NaN   \n",
       "1747           с. Мърчаево               NaN                 NaN   \n",
       "1748          с. Панчарево               NaN                 NaN   \n",
       "1749       с. Световрачене            37 050                 771   \n",
       "\n",
       "     Двустайни - цена Двустайни - €/кв.м Тристайни - цена Тристайни - €/кв.м  \\\n",
       "0             145 502              1 675          189 050              1 756   \n",
       "1             104 500              1 691          142 310              1 503   \n",
       "2              82 365              1 157          115 805              1 085   \n",
       "3              85 262              1 511          118 750              1 250   \n",
       "4              89 774              1 222          138 890              1 426   \n",
       "...               ...                ...              ...                ...   \n",
       "1745           53 018                762           89 849                834   \n",
       "1746           47 500                863              NaN                NaN   \n",
       "1747           26 600                266           35 862                297   \n",
       "1748           76 660                963          131 779              1 132   \n",
       "1749           49 400                771              NaN                NaN   \n",
       "\n",
       "     Общо - €/кв.м       Дата  \n",
       "0            1 745  13.8.2024  \n",
       "1            1 611  13.8.2024  \n",
       "2            1 157  13.8.2024  \n",
       "3            1 351  13.8.2024  \n",
       "4            1 232  13.8.2024  \n",
       "...            ...        ...  \n",
       "1745           762  11.1.2022  \n",
       "1746           863  11.1.2022  \n",
       "1747           297  11.1.2022  \n",
       "1748         1 173  11.1.2022  \n",
       "1749           771  11.1.2022  \n",
       "\n",
       "[1750 rows x 9 columns]"
      ]
     },
     "execution_count": 4,
     "metadata": {},
     "output_type": "execute_result"
    }
   ],
   "source": [
    "second_df"
   ]
  },
  {
   "cell_type": "markdown",
   "id": "ffe260c0-3863-4c0c-b40c-e9824fc8dc3b",
   "metadata": {},
   "source": [
    "#### Take a closer look at the dataset:"
   ]
  },
  {
   "cell_type": "code",
   "execution_count": 7,
   "id": "5d5edd03-0424-4b99-9c74-34f3ff5ff31d",
   "metadata": {},
   "outputs": [
    {
     "data": {
      "text/plain": [
       "(1750, 9)"
      ]
     },
     "execution_count": 7,
     "metadata": {},
     "output_type": "execute_result"
    }
   ],
   "source": [
    "second_df.shape"
   ]
  },
  {
   "cell_type": "markdown",
   "id": "673c5be8-5aed-4dc2-8196-18779c2a372a",
   "metadata": {},
   "source": [
    "It has 1750 observations and 9 features."
   ]
  },
  {
   "cell_type": "code",
   "execution_count": 8,
   "id": "4c22a0f6-1cc0-460c-8704-4b06642f6092",
   "metadata": {},
   "outputs": [
    {
     "data": {
      "text/html": [
       "<div>\n",
       "<style scoped>\n",
       "    .dataframe tbody tr th:only-of-type {\n",
       "        vertical-align: middle;\n",
       "    }\n",
       "\n",
       "    .dataframe tbody tr th {\n",
       "        vertical-align: top;\n",
       "    }\n",
       "\n",
       "    .dataframe thead th {\n",
       "        text-align: right;\n",
       "    }\n",
       "</style>\n",
       "<table border=\"1\" class=\"dataframe\">\n",
       "  <thead>\n",
       "    <tr style=\"text-align: right;\">\n",
       "      <th></th>\n",
       "      <th>count</th>\n",
       "      <th>unique</th>\n",
       "      <th>top</th>\n",
       "      <th>freq</th>\n",
       "    </tr>\n",
       "  </thead>\n",
       "  <tbody>\n",
       "    <tr>\n",
       "      <th>Район</th>\n",
       "      <td>1750</td>\n",
       "      <td>160</td>\n",
       "      <td>7-ми 11-ти километър</td>\n",
       "      <td>12</td>\n",
       "    </tr>\n",
       "    <tr>\n",
       "      <th>Едностайни - цена</th>\n",
       "      <td>1305</td>\n",
       "      <td>595</td>\n",
       "      <td>49 400</td>\n",
       "      <td>40</td>\n",
       "    </tr>\n",
       "    <tr>\n",
       "      <th>Едностайни - €/кв.м</th>\n",
       "      <td>1305</td>\n",
       "      <td>632</td>\n",
       "      <td>1 176</td>\n",
       "      <td>20</td>\n",
       "    </tr>\n",
       "    <tr>\n",
       "      <th>Двустайни - цена</th>\n",
       "      <td>1614</td>\n",
       "      <td>964</td>\n",
       "      <td>66 500</td>\n",
       "      <td>34</td>\n",
       "    </tr>\n",
       "    <tr>\n",
       "      <th>Двустайни - €/кв.м</th>\n",
       "      <td>1614</td>\n",
       "      <td>818</td>\n",
       "      <td>1 425</td>\n",
       "      <td>17</td>\n",
       "    </tr>\n",
       "    <tr>\n",
       "      <th>Тристайни - цена</th>\n",
       "      <td>1636</td>\n",
       "      <td>984</td>\n",
       "      <td>114 000</td>\n",
       "      <td>29</td>\n",
       "    </tr>\n",
       "    <tr>\n",
       "      <th>Тристайни - €/кв.м</th>\n",
       "      <td>1636</td>\n",
       "      <td>839</td>\n",
       "      <td>1 254</td>\n",
       "      <td>26</td>\n",
       "    </tr>\n",
       "    <tr>\n",
       "      <th>Общо - €/кв.м</th>\n",
       "      <td>1750</td>\n",
       "      <td>886</td>\n",
       "      <td>950</td>\n",
       "      <td>23</td>\n",
       "    </tr>\n",
       "    <tr>\n",
       "      <th>Дата</th>\n",
       "      <td>1750</td>\n",
       "      <td>12</td>\n",
       "      <td>23.4.2024</td>\n",
       "      <td>150</td>\n",
       "    </tr>\n",
       "  </tbody>\n",
       "</table>\n",
       "</div>"
      ],
      "text/plain": [
       "                    count unique                   top freq\n",
       "Район                1750    160  7-ми 11-ти километър   12\n",
       "Едностайни - цена    1305    595                49 400   40\n",
       "Едностайни - €/кв.м  1305    632                 1 176   20\n",
       "Двустайни - цена     1614    964                66 500   34\n",
       "Двустайни - €/кв.м   1614    818                 1 425   17\n",
       "Тристайни - цена     1636    984               114 000   29\n",
       "Тристайни - €/кв.м   1636    839                 1 254   26\n",
       "Общо - €/кв.м        1750    886                   950   23\n",
       "Дата                 1750     12             23.4.2024  150"
      ]
     },
     "execution_count": 8,
     "metadata": {},
     "output_type": "execute_result"
    }
   ],
   "source": [
    "second_df.describe().T"
   ]
  },
  {
   "cell_type": "code",
   "execution_count": 9,
   "id": "a64f9340-05c0-4e84-878c-3c5ad952b378",
   "metadata": {},
   "outputs": [
    {
     "data": {
      "text/plain": [
       "Index(['Район', 'Едностайни - цена', 'Едностайни - €/кв.м', 'Двустайни - цена',\n",
       "       'Двустайни - €/кв.м', 'Тристайни - цена', 'Тристайни - €/кв.м',\n",
       "       'Общо - €/кв.м', 'Дата'],\n",
       "      dtype='object')"
      ]
     },
     "execution_count": 9,
     "metadata": {},
     "output_type": "execute_result"
    }
   ],
   "source": [
    "second_df.columns"
   ]
  },
  {
   "cell_type": "code",
   "execution_count": 10,
   "id": "2253903e-1754-4699-acda-eae9ec46469c",
   "metadata": {},
   "outputs": [
    {
     "data": {
      "text/plain": [
       "Район                  object\n",
       "Едностайни - цена      object\n",
       "Едностайни - €/кв.м    object\n",
       "Двустайни - цена       object\n",
       "Двустайни - €/кв.м     object\n",
       "Тристайни - цена       object\n",
       "Тристайни - €/кв.м     object\n",
       "Общо - €/кв.м          object\n",
       "Дата                   object\n",
       "dtype: object"
      ]
     },
     "execution_count": 10,
     "metadata": {},
     "output_type": "execute_result"
    }
   ],
   "source": [
    "second_df.dtypes"
   ]
  },
  {
   "cell_type": "markdown",
   "id": "5f5fd2bc-9e7b-47c9-b815-dcaa73d45b12",
   "metadata": {},
   "source": [
    "How we see in this dataset we have NaN values. \n",
    "\n",
    "First, we'll want to convert the columns containing numerical data from object (string) to appropriate numerical types (e.g., float). This conversion is necessary for performing any numerical operations or analysis. And next we will fill the NaN values with the median."
   ]
  },
  {
   "cell_type": "code",
   "execution_count": 11,
   "id": "3a58eb8a-eb55-4f24-b9ed-ac2b537d625f",
   "metadata": {},
   "outputs": [],
   "source": [
    "numeric_columns = [\n",
    "    'Едностайни - цена', \n",
    "    'Едностайни - €/кв.м', \n",
    "    'Двустайни - цена', \n",
    "    'Двустайни - €/кв.м', \n",
    "    'Тристайни - цена', \n",
    "    'Тристайни - €/кв.м', \n",
    "    'Общо - €/кв.м'\n",
    "]\n",
    "\n",
    "def convert_dtypes(df, numeric_columns):\n",
    "    for col in df:\n",
    "        if col in numeric_columns:\n",
    "            df[col] = df[col].str.replace(r'\\D', '', regex=True)\n",
    "            df[col] = pd.to_numeric(df[col], errors='coerce')\n",
    "\n",
    "            median_price = df[col].median()\n",
    "\n",
    "            df[col].fillna(round(median_price, 0), inplace=True)\n",
    "            \n",
    "        if col == 'Дата':\n",
    "            df[col] = pd.to_datetime(df[col], dayfirst=True)\n",
    "    return df \n",
    "\n",
    "second_df = convert_dtypes(second_df, numeric_columns)"
   ]
  },
  {
   "cell_type": "code",
   "execution_count": 12,
   "id": "b66b72d4-683d-4158-9f1e-f39bef0bd446",
   "metadata": {},
   "outputs": [
    {
     "data": {
      "text/html": [
       "<div>\n",
       "<style scoped>\n",
       "    .dataframe tbody tr th:only-of-type {\n",
       "        vertical-align: middle;\n",
       "    }\n",
       "\n",
       "    .dataframe tbody tr th {\n",
       "        vertical-align: top;\n",
       "    }\n",
       "\n",
       "    .dataframe thead th {\n",
       "        text-align: right;\n",
       "    }\n",
       "</style>\n",
       "<table border=\"1\" class=\"dataframe\">\n",
       "  <thead>\n",
       "    <tr style=\"text-align: right;\">\n",
       "      <th></th>\n",
       "      <th>Район</th>\n",
       "      <th>Едностайни - цена</th>\n",
       "      <th>Едностайни - €/кв.м</th>\n",
       "      <th>Двустайни - цена</th>\n",
       "      <th>Двустайни - €/кв.м</th>\n",
       "      <th>Тристайни - цена</th>\n",
       "      <th>Тристайни - €/кв.м</th>\n",
       "      <th>Общо - €/кв.м</th>\n",
       "      <th>Дата</th>\n",
       "    </tr>\n",
       "  </thead>\n",
       "  <tbody>\n",
       "    <tr>\n",
       "      <th>0</th>\n",
       "      <td>7-ми 11-ти километър</td>\n",
       "      <td>52686.0</td>\n",
       "      <td>1176.0</td>\n",
       "      <td>145502.0</td>\n",
       "      <td>1675.0</td>\n",
       "      <td>189050.0</td>\n",
       "      <td>1756.0</td>\n",
       "      <td>1745</td>\n",
       "      <td>2024-08-13</td>\n",
       "    </tr>\n",
       "    <tr>\n",
       "      <th>1</th>\n",
       "      <td>Банишора</td>\n",
       "      <td>49138.0</td>\n",
       "      <td>1134.0</td>\n",
       "      <td>104500.0</td>\n",
       "      <td>1691.0</td>\n",
       "      <td>142310.0</td>\n",
       "      <td>1503.0</td>\n",
       "      <td>1611</td>\n",
       "      <td>2024-08-13</td>\n",
       "    </tr>\n",
       "    <tr>\n",
       "      <th>2</th>\n",
       "      <td>Белите брези</td>\n",
       "      <td>38000.0</td>\n",
       "      <td>826.0</td>\n",
       "      <td>82365.0</td>\n",
       "      <td>1157.0</td>\n",
       "      <td>115805.0</td>\n",
       "      <td>1085.0</td>\n",
       "      <td>1157</td>\n",
       "      <td>2024-08-13</td>\n",
       "    </tr>\n",
       "    <tr>\n",
       "      <th>3</th>\n",
       "      <td>Бенковски</td>\n",
       "      <td>52686.0</td>\n",
       "      <td>1176.0</td>\n",
       "      <td>85262.0</td>\n",
       "      <td>1511.0</td>\n",
       "      <td>118750.0</td>\n",
       "      <td>1250.0</td>\n",
       "      <td>1351</td>\n",
       "      <td>2024-08-13</td>\n",
       "    </tr>\n",
       "    <tr>\n",
       "      <th>4</th>\n",
       "      <td>Борово</td>\n",
       "      <td>49400.0</td>\n",
       "      <td>1045.0</td>\n",
       "      <td>89774.0</td>\n",
       "      <td>1222.0</td>\n",
       "      <td>138890.0</td>\n",
       "      <td>1426.0</td>\n",
       "      <td>1232</td>\n",
       "      <td>2024-08-13</td>\n",
       "    </tr>\n",
       "    <tr>\n",
       "      <th>...</th>\n",
       "      <td>...</td>\n",
       "      <td>...</td>\n",
       "      <td>...</td>\n",
       "      <td>...</td>\n",
       "      <td>...</td>\n",
       "      <td>...</td>\n",
       "      <td>...</td>\n",
       "      <td>...</td>\n",
       "      <td>...</td>\n",
       "    </tr>\n",
       "    <tr>\n",
       "      <th>1745</th>\n",
       "      <td>с. Лозен</td>\n",
       "      <td>41956.0</td>\n",
       "      <td>762.0</td>\n",
       "      <td>53018.0</td>\n",
       "      <td>762.0</td>\n",
       "      <td>89849.0</td>\n",
       "      <td>834.0</td>\n",
       "      <td>762</td>\n",
       "      <td>2022-01-11</td>\n",
       "    </tr>\n",
       "    <tr>\n",
       "      <th>1746</th>\n",
       "      <td>с. Мировяне</td>\n",
       "      <td>52686.0</td>\n",
       "      <td>1176.0</td>\n",
       "      <td>47500.0</td>\n",
       "      <td>863.0</td>\n",
       "      <td>134900.0</td>\n",
       "      <td>1330.0</td>\n",
       "      <td>863</td>\n",
       "      <td>2022-01-11</td>\n",
       "    </tr>\n",
       "    <tr>\n",
       "      <th>1747</th>\n",
       "      <td>с. Мърчаево</td>\n",
       "      <td>52686.0</td>\n",
       "      <td>1176.0</td>\n",
       "      <td>26600.0</td>\n",
       "      <td>266.0</td>\n",
       "      <td>35862.0</td>\n",
       "      <td>297.0</td>\n",
       "      <td>297</td>\n",
       "      <td>2022-01-11</td>\n",
       "    </tr>\n",
       "    <tr>\n",
       "      <th>1748</th>\n",
       "      <td>с. Панчарево</td>\n",
       "      <td>52686.0</td>\n",
       "      <td>1176.0</td>\n",
       "      <td>76660.0</td>\n",
       "      <td>963.0</td>\n",
       "      <td>131779.0</td>\n",
       "      <td>1132.0</td>\n",
       "      <td>1173</td>\n",
       "      <td>2022-01-11</td>\n",
       "    </tr>\n",
       "    <tr>\n",
       "      <th>1749</th>\n",
       "      <td>с. Световрачене</td>\n",
       "      <td>37050.0</td>\n",
       "      <td>771.0</td>\n",
       "      <td>49400.0</td>\n",
       "      <td>771.0</td>\n",
       "      <td>134900.0</td>\n",
       "      <td>1330.0</td>\n",
       "      <td>771</td>\n",
       "      <td>2022-01-11</td>\n",
       "    </tr>\n",
       "  </tbody>\n",
       "</table>\n",
       "<p>1750 rows × 9 columns</p>\n",
       "</div>"
      ],
      "text/plain": [
       "                     Район  Едностайни - цена  Едностайни - €/кв.м  \\\n",
       "0     7-ми 11-ти километър            52686.0               1176.0   \n",
       "1                 Банишора            49138.0               1134.0   \n",
       "2             Белите брези            38000.0                826.0   \n",
       "3                Бенковски            52686.0               1176.0   \n",
       "4                   Борово            49400.0               1045.0   \n",
       "...                    ...                ...                  ...   \n",
       "1745              с. Лозен            41956.0                762.0   \n",
       "1746           с. Мировяне            52686.0               1176.0   \n",
       "1747           с. Мърчаево            52686.0               1176.0   \n",
       "1748          с. Панчарево            52686.0               1176.0   \n",
       "1749       с. Световрачене            37050.0                771.0   \n",
       "\n",
       "      Двустайни - цена  Двустайни - €/кв.м  Тристайни - цена  \\\n",
       "0             145502.0              1675.0          189050.0   \n",
       "1             104500.0              1691.0          142310.0   \n",
       "2              82365.0              1157.0          115805.0   \n",
       "3              85262.0              1511.0          118750.0   \n",
       "4              89774.0              1222.0          138890.0   \n",
       "...                ...                 ...               ...   \n",
       "1745           53018.0               762.0           89849.0   \n",
       "1746           47500.0               863.0          134900.0   \n",
       "1747           26600.0               266.0           35862.0   \n",
       "1748           76660.0               963.0          131779.0   \n",
       "1749           49400.0               771.0          134900.0   \n",
       "\n",
       "      Тристайни - €/кв.м  Общо - €/кв.м       Дата  \n",
       "0                 1756.0           1745 2024-08-13  \n",
       "1                 1503.0           1611 2024-08-13  \n",
       "2                 1085.0           1157 2024-08-13  \n",
       "3                 1250.0           1351 2024-08-13  \n",
       "4                 1426.0           1232 2024-08-13  \n",
       "...                  ...            ...        ...  \n",
       "1745               834.0            762 2022-01-11  \n",
       "1746              1330.0            863 2022-01-11  \n",
       "1747               297.0            297 2022-01-11  \n",
       "1748              1132.0           1173 2022-01-11  \n",
       "1749              1330.0            771 2022-01-11  \n",
       "\n",
       "[1750 rows x 9 columns]"
      ]
     },
     "execution_count": 12,
     "metadata": {},
     "output_type": "execute_result"
    }
   ],
   "source": [
    "second_df"
   ]
  },
  {
   "cell_type": "markdown",
   "id": "16af50f9-3dd3-4cb7-ac60-c867f5fd43dc",
   "metadata": {},
   "source": [
    "Now we see the prices are filled and formated.\n",
    "\n",
    "Check the data types again:"
   ]
  },
  {
   "cell_type": "code",
   "execution_count": 13,
   "id": "9bc95e38-fb59-46ae-94f5-a4d5cd71cfec",
   "metadata": {},
   "outputs": [
    {
     "data": {
      "text/plain": [
       "Район                          object\n",
       "Едностайни - цена             float64\n",
       "Едностайни - €/кв.м           float64\n",
       "Двустайни - цена              float64\n",
       "Двустайни - €/кв.м            float64\n",
       "Тристайни - цена              float64\n",
       "Тристайни - €/кв.м            float64\n",
       "Общо - €/кв.м                   int64\n",
       "Дата                   datetime64[ns]\n",
       "dtype: object"
      ]
     },
     "execution_count": 13,
     "metadata": {},
     "output_type": "execute_result"
    }
   ],
   "source": [
    "second_df.dtypes"
   ]
  },
  {
   "cell_type": "markdown",
   "id": "ba120cad-77d2-41e1-876f-2d7eab5257a4",
   "metadata": {},
   "source": [
    "Check the format of the \"Дата\" column:"
   ]
  },
  {
   "cell_type": "code",
   "execution_count": 16,
   "id": "0d356e8a-8679-4ab0-8b25-4b37aceaae2b",
   "metadata": {},
   "outputs": [
    {
     "data": {
      "text/plain": [
       "0      2024-08-13\n",
       "1      2024-08-13\n",
       "2      2024-08-13\n",
       "3      2024-08-13\n",
       "4      2024-08-13\n",
       "          ...    \n",
       "1745   2022-01-11\n",
       "1746   2022-01-11\n",
       "1747   2022-01-11\n",
       "1748   2022-01-11\n",
       "1749   2022-01-11\n",
       "Name: Дата, Length: 1750, dtype: datetime64[ns]"
      ]
     },
     "execution_count": 16,
     "metadata": {},
     "output_type": "execute_result"
    }
   ],
   "source": [
    "second_df[\"Дата\"]"
   ]
  },
  {
   "cell_type": "code",
   "execution_count": 17,
   "id": "c8c3b1c3-31e2-4d82-89fb-2ae4fa4e0f1a",
   "metadata": {},
   "outputs": [
    {
     "data": {
      "text/plain": [
       "Район                  0\n",
       "Едностайни - цена      0\n",
       "Едностайни - €/кв.м    0\n",
       "Двустайни - цена       0\n",
       "Двустайни - €/кв.м     0\n",
       "Тристайни - цена       0\n",
       "Тристайни - €/кв.м     0\n",
       "Общо - €/кв.м          0\n",
       "Дата                   0\n",
       "dtype: int64"
      ]
     },
     "execution_count": 17,
     "metadata": {},
     "output_type": "execute_result"
    }
   ],
   "source": [
    "second_df.isna().sum()"
   ]
  },
  {
   "cell_type": "markdown",
   "id": "8f1e936e-1539-4b1a-b5b5-6f1802458b1b",
   "metadata": {},
   "source": [
    "All NaNs have been successfully replaced.\n",
    "\n",
    "### Let's plot the prices over time for each apartment type:"
   ]
  },
  {
   "cell_type": "code",
   "execution_count": 36,
   "id": "18a56a9a-a54c-4794-ae10-d6d4f17d4154",
   "metadata": {},
   "outputs": [
    {
     "data": {
      "image/png": "[encoded data removed]",
      "text/plain": [
       "<Figure size 1008x576 with 1 Axes>"
      ]
     },
     "metadata": {
      "needs_background": "light"
     },
     "output_type": "display_data"
    }
   ],
   "source": [
    "plt.figure(figsize=(14, 8))\n",
    "\n",
    "# Plot the prices over time for each type of apartment\n",
    "sns.lineplot(x='Дата', y='Едностайни - цена', data=second_df, marker='o', label='Едностайни - цена', color='blue')\n",
    "sns.lineplot(x='Дата', y='Двустайни - цена', data=second_df, marker='o', label='Двустайни - цена', color='green')\n",
    "sns.lineplot(x='Дата', y='Тристайни - цена', data=second_df, marker='o', label='Тристайни - цена', color='red')\n",
    "\n",
    "plt.title('Apartment Prices Over Time')\n",
    "plt.xlabel('Date')\n",
    "plt.ylabel('Price (€)')\n",
    "plt.legend(title='Apartment Type')\n",
    "plt.grid(True)\n",
    "plt.xticks(rotation=45)\n",
    "plt.tight_layout()\n",
    "\n",
    "plt.show()"
   ]
  },
  {
   "cell_type": "markdown",
   "id": "be1002a5-94bb-47bb-95b4-deb39b403ad0",
   "metadata": {},
   "source": [
    "#### Another plot:"
   ]
  },
  {
   "cell_type": "code",
   "execution_count": 42,
   "id": "f4e6ae81-67d2-458d-9058-a39a3b4ff076",
   "metadata": {},
   "outputs": [
    {
     "data": {
      "image/png": "[encoded data removed]",
      "text/plain": [
       "<Figure size 1440x720 with 1 Axes>"
      ]
     },
     "metadata": {
      "needs_background": "light"
     },
     "output_type": "display_data"
    }
   ],
   "source": [
    "# Filter data by a specific date \n",
    "date_filter = '2024-08-13'\n",
    "filtered_df = second_df[second_df['Дата'] == date_filter]\n",
    "\n",
    "plt.figure(figsize=(20, 10))\n",
    "\n",
    "# Create bar plot for the prices\n",
    "sns.barplot(x='Район', y='Едностайни - цена', data=filtered_df, color='blue', label='Едностайни - цена')\n",
    "sns.barplot(x='Район', y='Двустайни - цена', data=filtered_df, color='green', label='Двустайни - цена', alpha=0.6)\n",
    "sns.barplot(x='Район', y='Тристайни - цена', data=filtered_df, color='red', label='Тристайни - цена', alpha=0.3)\n",
    "\n",
    "plt.xticks(rotation=90)\n",
    "plt.title(f'Comparison of Apartment Prices and €/sq.m Across Districts on {date_filter}')\n",
    "plt.ylabel('Price')\n",
    "plt.xlabel('Region')\n",
    "plt.legend(loc='upper right')\n",
    "plt.tight_layout()\n",
    "\n",
    "plt.show()"
   ]
  },
  {
   "cell_type": "markdown",
   "id": "c7c3cd02-5970-4718-a74f-d8089fe19266",
   "metadata": {},
   "source": [
    "How many unique regions we have in the dataset:"
   ]
  },
  {
   "cell_type": "code",
   "execution_count": 21,
   "id": "dfa71c29-5114-4ac6-b794-a5bdb4be4b3e",
   "metadata": {},
   "outputs": [
    {
     "data": {
      "text/plain": [
       "160"
      ]
     },
     "execution_count": 21,
     "metadata": {},
     "output_type": "execute_result"
    }
   ],
   "source": [
    "len(second_df['Район'].unique())"
   ]
  },
  {
   "cell_type": "markdown",
   "id": "389b4327-4df0-4ea8-be4f-984a72edf1a4",
   "metadata": {},
   "source": [
    "And which are thay:"
   ]
  },
  {
   "cell_type": "code",
   "execution_count": 22,
   "id": "5a1848ba-4e21-4186-8ec9-23f5c7b094d1",
   "metadata": {},
   "outputs": [
    {
     "data": {
      "text/plain": [
       "array(['7-ми 11-ти километър', 'Банишора', 'Белите брези', 'Бенковски',\n",
       "       'Борово', 'Ботунец', 'Ботунец 2', 'Бояна', 'Бъкстон', 'Витоша',\n",
       "       'Военна рампа', 'Враждебна', 'Връбница 1', 'Връбница 2',\n",
       "       'Гевгелийски', 'Гео Милев', 'Горна баня', 'Горубляне',\n",
       "       'Гоце Делчев', 'Градина', 'Дианабад', 'Докторски паметник',\n",
       "       'Драгалевци', 'Дружба 1', 'Дружба 2', 'Дървеница',\n",
       "       'Експериментален', 'Западен парк', 'Захарна фабрика', 'Зона Б-18',\n",
       "       'Зона Б-19', 'Зона Б-5', 'Зона Б-5-3', 'Иван Вазов', 'Изгрев',\n",
       "       'Изток', 'Илинден', 'Илиянци', 'Карпузица', 'Княжево',\n",
       "       'Красна поляна 1', 'Красна поляна 2', 'Красна поляна 3',\n",
       "       'Красно село', 'Кремиковци', 'Кръстова вада', 'Лагера', 'Левски',\n",
       "       'Левски В', 'Левски Г', 'Летище София', 'Лозенец',\n",
       "       'Люлин - център', 'Люлин 1', 'Люлин 10', 'Люлин 2', 'Люлин 3',\n",
       "       'Люлин 4', 'Люлин 5', 'Люлин 6', 'Люлин 7', 'Люлин 8', 'Люлин 9',\n",
       "       'Малашевци', 'Малинова долина', 'Манастирски ливади',\n",
       "       'Медицинска академия', 'Младост 1', 'Младост 1А', 'Младост 2',\n",
       "       'Младост 3', 'Младост 4', 'Модерно предградие', 'Мусагеница',\n",
       "       'НПЗ Искър', 'Надежда 1', 'Надежда 2', 'Надежда 3', 'Надежда 4',\n",
       "       'Обеля', 'Обеля 1', 'Обеля 2', 'Оборище', 'Овча купел',\n",
       "       'Овча купел 1', 'Овча купел 2', 'Орландовци', 'ПЗ Хладилника',\n",
       "       'Павлово', 'Подуяне', 'Полигона', 'Разсадника', 'Редута',\n",
       "       'СПЗ Слатина', 'Света Троица', 'Свобода', 'Сердика', 'Симеоново',\n",
       "       'Славия', 'Слатина', 'Стрелбище', 'Студентски град', 'Сухата река',\n",
       "       'Суходол', 'Толстой', 'Триъгълника', 'Факултета', 'Филиповци',\n",
       "       'Фондови жилища', 'Хаджи Димитър', 'Хиподрума', 'Хладилника',\n",
       "       'Христо Ботев', 'Център', 'Яворов', 'в.з.Американски колеж',\n",
       "       'в.з.Беловодски път', 'в.з.Бояна', 'в.з.Бункера',\n",
       "       'в.з.Врана - Лозен', 'в.з.Киноцентъра', 'в.з.Киноцентъра 3 част',\n",
       "       'в.з.Малинова долина', 'в.з.Малинова долина - Герена',\n",
       "       'в.з.Симеоново - Драгалевци', 'гр. Банкя', 'гр. Бухово',\n",
       "       'гр. Нови Искър', 'ж.гр.Зоопарк', 'ж.гр.Южен парк',\n",
       "       'м-т Гърдова глава', 'м-т Детски град', 'м-т Камбаните',\n",
       "       'м-т яз. Искър', 'с. Бистрица', 'с. Владая', 'с. Волуяк',\n",
       "       'с. Герман', 'с. Доброславци', 'с. Иваняне', 'с. Казичене',\n",
       "       'с. Лозен', 'с. Мало Бучино', 'с. Мировяне', 'с. Мърчаево',\n",
       "       'с. Панчарево', 'с. Световрачене', 'в.з.Горна баня', 'с. Кокаляне',\n",
       "       'с. Яна', 'с. Мрамор', 'СПЗ Модерно предградие', 'в.з.Килиите',\n",
       "       'с. Кътина', 'НПЗ Хаджи Димитър', 'с. Железница',\n",
       "       'в.з.Врана - Герман', 'Димитър Миленков', 'НПЗ Средец',\n",
       "       'ПЗ Илиянци'], dtype=object)"
      ]
     },
     "execution_count": 22,
     "metadata": {},
     "output_type": "execute_result"
    }
   ],
   "source": [
    "second_df['Район'].unique()"
   ]
  },
  {
   "cell_type": "code",
   "execution_count": 23,
   "id": "db305af5-c720-4efa-8c7b-d64ecca4fcaf",
   "metadata": {},
   "outputs": [
    {
     "data": {
      "text/plain": [
       "180500.0"
      ]
     },
     "execution_count": 23,
     "metadata": {},
     "output_type": "execute_result"
    }
   ],
   "source": [
    "second_df['Едностайни - цена'].max()"
   ]
  },
  {
   "cell_type": "code",
   "execution_count": 24,
   "id": "d965d6ce-88b3-4bc8-94c5-e92287a23e51",
   "metadata": {},
   "outputs": [
    {
     "data": {
      "text/html": [
       "<div>\n",
       "<style scoped>\n",
       "    .dataframe tbody tr th:only-of-type {\n",
       "        vertical-align: middle;\n",
       "    }\n",
       "\n",
       "    .dataframe tbody tr th {\n",
       "        vertical-align: top;\n",
       "    }\n",
       "\n",
       "    .dataframe thead th {\n",
       "        text-align: right;\n",
       "    }\n",
       "</style>\n",
       "<table border=\"1\" class=\"dataframe\">\n",
       "  <thead>\n",
       "    <tr style=\"text-align: right;\">\n",
       "      <th></th>\n",
       "      <th>Район</th>\n",
       "      <th>Едностайни - цена</th>\n",
       "      <th>Едностайни - €/кв.м</th>\n",
       "      <th>Двустайни - цена</th>\n",
       "      <th>Двустайни - €/кв.м</th>\n",
       "      <th>Тристайни - цена</th>\n",
       "      <th>Тристайни - €/кв.м</th>\n",
       "      <th>Общо - €/кв.м</th>\n",
       "      <th>Дата</th>\n",
       "    </tr>\n",
       "  </thead>\n",
       "  <tbody>\n",
       "    <tr>\n",
       "      <th>168</th>\n",
       "      <td>Докторски паметник</td>\n",
       "      <td>180500.0</td>\n",
       "      <td>4512.0</td>\n",
       "      <td>323000.0</td>\n",
       "      <td>3867.0</td>\n",
       "      <td>394250.0</td>\n",
       "      <td>3657.0</td>\n",
       "      <td>3779</td>\n",
       "      <td>2024-06-04</td>\n",
       "    </tr>\n",
       "    <tr>\n",
       "      <th>316</th>\n",
       "      <td>Докторски паметник</td>\n",
       "      <td>180500.0</td>\n",
       "      <td>4512.0</td>\n",
       "      <td>280250.0</td>\n",
       "      <td>3932.0</td>\n",
       "      <td>394250.0</td>\n",
       "      <td>3562.0</td>\n",
       "      <td>3895</td>\n",
       "      <td>2024-04-23</td>\n",
       "    </tr>\n",
       "    <tr>\n",
       "      <th>21</th>\n",
       "      <td>Докторски паметник</td>\n",
       "      <td>163400.0</td>\n",
       "      <td>4085.0</td>\n",
       "      <td>318250.0</td>\n",
       "      <td>4432.0</td>\n",
       "      <td>365750.0</td>\n",
       "      <td>3602.0</td>\n",
       "      <td>3735</td>\n",
       "      <td>2024-08-13</td>\n",
       "    </tr>\n",
       "    <tr>\n",
       "      <th>559</th>\n",
       "      <td>Яворов</td>\n",
       "      <td>152000.0</td>\n",
       "      <td>3800.0</td>\n",
       "      <td>165300.0</td>\n",
       "      <td>2405.0</td>\n",
       "      <td>204250.0</td>\n",
       "      <td>2389.0</td>\n",
       "      <td>2406</td>\n",
       "      <td>2024-01-16</td>\n",
       "    </tr>\n",
       "    <tr>\n",
       "      <th>1344</th>\n",
       "      <td>Докторски паметник</td>\n",
       "      <td>142500.0</td>\n",
       "      <td>4750.0</td>\n",
       "      <td>242231.0</td>\n",
       "      <td>4115.0</td>\n",
       "      <td>285000.0</td>\n",
       "      <td>3585.0</td>\n",
       "      <td>3762</td>\n",
       "      <td>2022-07-26</td>\n",
       "    </tr>\n",
       "  </tbody>\n",
       "</table>\n",
       "</div>"
      ],
      "text/plain": [
       "                   Район  Едностайни - цена  Едностайни - €/кв.м  \\\n",
       "168   Докторски паметник           180500.0               4512.0   \n",
       "316   Докторски паметник           180500.0               4512.0   \n",
       "21    Докторски паметник           163400.0               4085.0   \n",
       "559               Яворов           152000.0               3800.0   \n",
       "1344  Докторски паметник           142500.0               4750.0   \n",
       "\n",
       "      Двустайни - цена  Двустайни - €/кв.м  Тристайни - цена  \\\n",
       "168           323000.0              3867.0          394250.0   \n",
       "316           280250.0              3932.0          394250.0   \n",
       "21            318250.0              4432.0          365750.0   \n",
       "559           165300.0              2405.0          204250.0   \n",
       "1344          242231.0              4115.0          285000.0   \n",
       "\n",
       "      Тристайни - €/кв.м  Общо - €/кв.м       Дата  \n",
       "168               3657.0           3779 2024-06-04  \n",
       "316               3562.0           3895 2024-04-23  \n",
       "21                3602.0           3735 2024-08-13  \n",
       "559               2389.0           2406 2024-01-16  \n",
       "1344              3585.0           3762 2022-07-26  "
      ]
     },
     "execution_count": 24,
     "metadata": {},
     "output_type": "execute_result"
    }
   ],
   "source": [
    "top_5_rows = second_df.nlargest(5, 'Едностайни - цена')  \n",
    "top_5_rows"
   ]
  },
  {
   "cell_type": "code",
   "execution_count": null,
   "id": "95e5f422-4a1d-4b8e-8b7e-523dbe7dcc4b",
   "metadata": {},
   "outputs": [],
   "source": []
  },
  {
   "cell_type": "code",
   "execution_count": null,
   "id": "fcad3fa1-13bb-48bb-bccf-27c1f673c66c",
   "metadata": {},
   "outputs": [],
   "source": []
  }
 ],
 "metadata": {
  "kernelspec": {
   "display_name": "Python 3 (ipykernel)",
   "language": "python",
   "name": "python3"
  },
  "language_info": {
   "codemirror_mode": {
    "name": "ipython",
    "version": 3
   },
   "file_extension": ".py",
   "mimetype": "text/x-python",
   "name": "python",
   "nbconvert_exporter": "python",
   "pygments_lexer": "ipython3",
   "version": "3.9.12"
  }
 },
 "nbformat": 4,
 "nbformat_minor": 5
}
